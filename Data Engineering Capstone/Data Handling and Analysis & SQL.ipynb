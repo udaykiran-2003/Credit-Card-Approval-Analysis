{
 "cells": [
  {
   "cell_type": "code",
   "execution_count": 0,
   "metadata": {
    "application/vnd.databricks.v1+cell": {
     "cellMetadata": {
      "byteLimit": 2048000,
      "rowLimit": 10000
     },
     "inputWidgets": {},
     "nuid": "ea9e5f1f-0c3a-4f2a-961b-03cdf120f84f",
     "showTitle": false,
     "title": ""
    }
   },
   "outputs": [
    {
     "output_type": "display_data",
     "data": {
      "text/html": [
       "\n",
       "        <div>\n",
       "            <p><b>SparkContext</b></p>\n",
       "\n",
       "            <p><a href=\"/?o=2931716354492694#setting/sparkui/0930-034935-xazazqz7/driver-8741809287327951946\">Spark UI</a></p>\n",
       "\n",
       "            <dl>\n",
       "              <dt>Version</dt>\n",
       "                <dd><code>v3.3.2</code></dd>\n",
       "              <dt>Master</dt>\n",
       "                <dd><code>local[8]</code></dd>\n",
       "              <dt>AppName</dt>\n",
       "                <dd><code>Databricks Shell</code></dd>\n",
       "            </dl>\n",
       "        </div>\n",
       "        "
      ]
     },
     "metadata": {
      "application/vnd.databricks.v1+output": {
       "addedWidgets": {},
       "arguments": {},
       "data": "\n        <div>\n            <p><b>SparkContext</b></p>\n\n            <p><a href=\"/?o=2931716354492694#setting/sparkui/0930-034935-xazazqz7/driver-8741809287327951946\">Spark UI</a></p>\n\n            <dl>\n              <dt>Version</dt>\n                <dd><code>v3.3.2</code></dd>\n              <dt>Master</dt>\n                <dd><code>local[8]</code></dd>\n              <dt>AppName</dt>\n                <dd><code>Databricks Shell</code></dd>\n            </dl>\n        </div>\n        ",
       "datasetInfos": [],
       "metadata": {},
       "removedWidgets": [],
       "textData": null,
       "type": "htmlSandbox"
      }
     },
     "output_type": "display_data"
    }
   ],
   "source": [
    "sc"
   ]
  },
  {
   "cell_type": "code",
   "execution_count": 0,
   "metadata": {
    "application/vnd.databricks.v1+cell": {
     "cellMetadata": {
      "byteLimit": 2048000,
      "rowLimit": 10000
     },
     "inputWidgets": {},
     "nuid": "00d21074-009d-4375-9cf7-d81325a88192",
     "showTitle": false,
     "title": ""
    }
   },
   "outputs": [
    {
     "output_type": "stream",
     "name": "stdout",
     "output_type": "stream",
     "text": [
      "Out[2]: [FileInfo(path='dbfs:/FileStore/shared_uploads/udayvalluru2007@gmail.com/sales_data_sample-1.csv', name='sales_data_sample-1.csv', size=527958, modificationTime=1727091357000)]"
     ]
    }
   ],
   "source": [
    "dbutils.fs.ls(\"/FileStore/shared_uploads/udayvalluru2007@gmail.com/sales_data_sample-1.csv\")"
   ]
  },
  {
   "cell_type": "code",
   "execution_count": 0,
   "metadata": {
    "application/vnd.databricks.v1+cell": {
     "cellMetadata": {
      "byteLimit": 2048000,
      "rowLimit": 10000
     },
     "inputWidgets": {},
     "nuid": "ee39b4a6-e544-4993-a411-5b906886eda5",
     "showTitle": false,
     "title": ""
    },
    "jupyter": {
     "outputs_hidden": true
    }
   },
   "outputs": [
    {
     "output_type": "stream",
     "name": "stdout",
     "output_type": "stream",
     "text": [
      "+-----------+---------------+---------+---------------+-------+---------------+-------+------+--------+-------+-----------+----+-----------+--------------------+----------------+--------------------+------------+-------------+--------+----------+---------+---------+---------------+----------------+--------+\n|ORDERNUMBER|QUANTITYORDERED|PRICEEACH|ORDERLINENUMBER|  SALES|      ORDERDATE| STATUS|QTR_ID|MONTH_ID|YEAR_ID|PRODUCTLINE|MSRP|PRODUCTCODE|        CUSTOMERNAME|           PHONE|        ADDRESSLINE1|ADDRESSLINE2|         CITY|   STATE|POSTALCODE|  COUNTRY|TERRITORY|CONTACTLASTNAME|CONTACTFIRSTNAME|DEALSIZE|\n+-----------+---------------+---------+---------------+-------+---------------+-------+------+--------+-------+-----------+----+-----------+--------------------+----------------+--------------------+------------+-------------+--------+----------+---------+---------+---------------+----------------+--------+\n|      10107|             30|     95.7|              2| 2871.0| 2/24/2003 0:00|Shipped|     1|       2|   2003|Motorcycles|  95|   S10_1678|   Land of Toys Inc.|      2125557818|897 Long Airport ...|        null|          NYC|      NY|     10022|      USA|       NA|             Yu|            Kwai|   Small|\n|      10121|             34|    81.35|              5| 2765.9|  5/7/2003 0:00|Shipped|     2|       5|   2003|Motorcycles|  95|   S10_1678|  Reims Collectables|      26.47.1555|  59 rue de l'Abbaye|        null|        Reims|    null|     51100|   France|     EMEA|        Henriot|            Paul|   Small|\n|      10134|             41|    94.74|              2|3884.34|  7/1/2003 0:00|Shipped|     3|       7|   2003|Motorcycles|  95|   S10_1678|     Lyon Souveniers|+33 1 46 62 7555|27 rue du Colonel...|        null|        Paris|    null|     75508|   France|     EMEA|       Da Cunha|          Daniel|  Medium|\n|      10145|             45|    83.26|              6| 3746.7| 8/25/2003 0:00|Shipped|     3|       8|   2003|Motorcycles|  95|   S10_1678|   Toys4GrownUps.com|      6265557265|  78934 Hillside Dr.|        null|     Pasadena|      CA|     90003|      USA|       NA|          Young|           Julie|  Medium|\n|      10159|             49|    100.0|             14|5205.27|10/10/2003 0:00|Shipped|     4|      10|   2003|Motorcycles|  95|   S10_1678|Corporate Gift Id...|      6505551386|     7734 Strong St.|        null|San Francisco|      CA|      null|      USA|       NA|          Brown|           Julie|  Medium|\n|      10168|             36|    96.66|              1|3479.76|10/28/2003 0:00|Shipped|     4|      10|   2003|Motorcycles|  95|   S10_1678|Technics Stores Inc.|      6505556809|   9408 Furth Circle|        null|   Burlingame|      CA|     94217|      USA|       NA|         Hirano|            Juri|  Medium|\n|      10180|             29|    86.13|              9|2497.77|11/11/2003 0:00|Shipped|     4|      11|   2003|Motorcycles|  95|   S10_1678|Daedalus Designs ...|      20.16.1555|184, chausse de T...|        null|        Lille|    null|     59000|   France|     EMEA|          Rance|         Martine|   Small|\n|      10188|             48|    100.0|              1|5512.32|11/18/2003 0:00|Shipped|     4|      11|   2003|Motorcycles|  95|   S10_1678|        Herkku Gifts|   +47 2267 3215|Drammen 121, PR 7...|        null|       Bergen|    null|    N 5804|   Norway|     EMEA|         Oeztan|          Veysel|  Medium|\n|      10201|             22|    98.57|              2|2168.54| 12/1/2003 0:00|Shipped|     4|      12|   2003|Motorcycles|  95|   S10_1678|     Mini Wheels Co.|      6505555787|5557 North Pendal...|        null|San Francisco|      CA|      null|      USA|       NA|         Murphy|           Julie|   Small|\n|      10211|             41|    100.0|             14|4708.44| 1/15/2004 0:00|Shipped|     1|       1|   2004|Motorcycles|  95|   S10_1678|    Auto Canal Petit|  (1) 47.55.6555|   25, rue Lauriston|        null|        Paris|    null|     75016|   France|     EMEA|        Perrier|       Dominique|  Medium|\n|      10223|             37|    100.0|              1|3965.66| 2/20/2004 0:00|Shipped|     1|       2|   2004|Motorcycles|  95|   S10_1678|Australian Collec...|    03 9520 4555|   636 St Kilda Road|     Level 3|    Melbourne|Victoria|      3004|Australia|     APAC|       Ferguson|           Peter|  Medium|\n|      10237|             23|    100.0|              7|2333.12|  4/5/2004 0:00|Shipped|     2|       4|   2004|Motorcycles|  95|   S10_1678|     Vitachrome Inc.|      2125551500|   2678 Kingston Rd.|   Suite 101|          NYC|      NY|     10022|      USA|       NA|          Frick|         Michael|   Small|\n|      10251|             28|    100.0|              2|3188.64| 5/18/2004 0:00|Shipped|     2|       5|   2004|Motorcycles|  95|   S10_1678|Tekni Collectable...|      2015559350|       7476 Moss Rd.|        null|       Newark|      NJ|     94019|      USA|       NA|          Brown|         William|  Medium|\n|      10263|             34|    100.0|              2|3676.76| 6/28/2004 0:00|Shipped|     2|       6|   2004|Motorcycles|  95|   S10_1678|     Gift Depot Inc.|      2035552570| 25593 South Bay Ln.|        null|  Bridgewater|      CT|     97562|      USA|       NA|           King|           Julie|  Medium|\n|      10275|             45|    92.83|              1|4177.35| 7/23/2004 0:00|Shipped|     3|       7|   2004|Motorcycles|  95|   S10_1678|   La Rochelle Gifts|      40.67.8555|67, rue des Cinqu...|        null|       Nantes|    null|     44000|   France|     EMEA|        Labrune|          Janine|  Medium|\n|      10285|             36|    100.0|              6|4099.68| 8/27/2004 0:00|Shipped|     3|       8|   2004|Motorcycles|  95|   S10_1678|Marta's Replicas Co.|      6175558555| 39323 Spinnaker Dr.|        null|    Cambridge|      MA|     51247|      USA|       NA|      Hernandez|           Marta|  Medium|\n|      10299|             23|    100.0|              9|2597.39| 9/30/2004 0:00|Shipped|     3|       9|   2004|Motorcycles|  95|   S10_1678|Toys of Finland, Co.|     90-224 8555|       Keskuskatu 45|        null|     Helsinki|    null|     21240|  Finland|     EMEA|      Karttunen|           Matti|   Small|\n|      10309|             41|    100.0|              5|4394.38|10/15/2004 0:00|Shipped|     4|      10|   2004|Motorcycles|  95|   S10_1678|  Baane Mini Imports|      07-98 9555|Erling Skakkes ga...|        null|      Stavern|    null|      4110|   Norway|     EMEA|     Bergulfsen|           Jonas|  Medium|\n|      10318|             46|    94.74|              1|4358.04| 11/2/2004 0:00|Shipped|     4|      11|   2004|Motorcycles|  95|   S10_1678|Diecast Classics ...|      2155551555|    7586 Pompton St.|        null|    Allentown|      PA|     70267|      USA|       NA|             Yu|           Kyung|  Medium|\n|      10329|             42|    100.0|              1|4396.14|11/15/2004 0:00|Shipped|     4|      11|   2004|Motorcycles|  95|   S10_1678|   Land of Toys Inc.|      2125557818|897 Long Airport ...|        null|          NYC|      NY|     10022|      USA|       NA|             Yu|            Kwai|  Medium|\n+-----------+---------------+---------+---------------+-------+---------------+-------+------+--------+-------+-----------+----+-----------+--------------------+----------------+--------------------+------------+-------------+--------+----------+---------+---------+---------------+----------------+--------+\nonly showing top 20 rows\n\n"
     ]
    }
   ],
   "source": [
    "file_path=\"/FileStore/shared_uploads/udayvalluru2007@gmail.com/sales_data_sample-1.csv\"\n",
    "df = spark.read.csv(file_path, header=True, inferSchema=True)\n",
    "df.show()"
   ]
  },
  {
   "cell_type": "code",
   "execution_count": 0,
   "metadata": {
    "application/vnd.databricks.v1+cell": {
     "cellMetadata": {
      "byteLimit": 2048000,
      "rowLimit": 10000
     },
     "inputWidgets": {},
     "nuid": "e910ea98-61b2-45c8-bf1d-a78a50372e6d",
     "showTitle": false,
     "title": ""
    }
   },
   "outputs": [
    {
     "output_type": "stream",
     "name": "stdout",
     "output_type": "stream",
     "text": [
      "root\n |-- ORDERNUMBER: integer (nullable = true)\n |-- QUANTITYORDERED: integer (nullable = true)\n |-- PRICEEACH: double (nullable = true)\n |-- ORDERLINENUMBER: integer (nullable = true)\n |-- SALES: double (nullable = true)\n |-- ORDERDATE: string (nullable = true)\n |-- STATUS: string (nullable = true)\n |-- QTR_ID: integer (nullable = true)\n |-- MONTH_ID: integer (nullable = true)\n |-- YEAR_ID: integer (nullable = true)\n |-- PRODUCTLINE: string (nullable = true)\n |-- MSRP: integer (nullable = true)\n |-- PRODUCTCODE: string (nullable = true)\n |-- CUSTOMERNAME: string (nullable = true)\n |-- PHONE: string (nullable = true)\n |-- ADDRESSLINE1: string (nullable = true)\n |-- ADDRESSLINE2: string (nullable = true)\n |-- CITY: string (nullable = true)\n |-- STATE: string (nullable = true)\n |-- POSTALCODE: string (nullable = true)\n |-- COUNTRY: string (nullable = true)\n |-- TERRITORY: string (nullable = true)\n |-- CONTACTLASTNAME: string (nullable = true)\n |-- CONTACTFIRSTNAME: string (nullable = true)\n |-- DEALSIZE: string (nullable = true)\n\n"
     ]
    }
   ],
   "source": [
    "df.printSchema()"
   ]
  },
  {
   "cell_type": "code",
   "execution_count": 0,
   "metadata": {
    "application/vnd.databricks.v1+cell": {
     "cellMetadata": {
      "byteLimit": 2048000,
      "rowLimit": 10000
     },
     "inputWidgets": {},
     "nuid": "fac7adb7-1c4c-4d72-9dae-1e9db26c7341",
     "showTitle": false,
     "title": ""
    }
   },
   "outputs": [],
   "source": [
    "df.createOrReplaceTempView(\"productssales\")"
   ]
  },
  {
   "cell_type": "code",
   "execution_count": 0,
   "metadata": {
    "application/vnd.databricks.v1+cell": {
     "cellMetadata": {
      "byteLimit": 2048000,
      "implicitDf": true,
      "rowLimit": 10000
     },
     "inputWidgets": {},
     "nuid": "cdb939bd-6af2-4098-939c-6109910a9154",
     "showTitle": false,
     "title": ""
    }
   },
   "outputs": [
    {
     "output_type": "display_data",
     "data": {
      "text/html": [
       "<style scoped>\n",
       "  .table-result-container {\n",
       "    max-height: 300px;\n",
       "    overflow: auto;\n",
       "  }\n",
       "  table, th, td {\n",
       "    border: 1px solid black;\n",
       "    border-collapse: collapse;\n",
       "  }\n",
       "  th, td {\n",
       "    padding: 5px;\n",
       "  }\n",
       "  th {\n",
       "    text-align: left;\n",
       "  }\n",
       "</style><div class='table-result-container'><table class='table-result'><thead style='background-color: white'><tr><th>total_records</th></tr></thead><tbody><tr><td>2823</td></tr></tbody></table></div>"
      ]
     },
     "metadata": {
      "application/vnd.databricks.v1+output": {
       "addedWidgets": {},
       "aggData": [],
       "aggError": "",
       "aggOverflow": false,
       "aggSchema": [],
       "aggSeriesLimitReached": false,
       "aggType": "",
       "arguments": {},
       "columnCustomDisplayInfos": {},
       "data": [
        [
         2823
        ]
       ],
       "datasetInfos": [],
       "dbfsResultPath": null,
       "isJsonSchema": true,
       "metadata": {},
       "overflow": false,
       "plotOptions": {
        "customPlotOptions": {},
        "displayType": "table",
        "pivotAggregation": null,
        "pivotColumns": null,
        "xColumns": null,
        "yColumns": null
       },
       "removedWidgets": [],
       "schema": [
        {
         "metadata": "{}",
         "name": "total_records",
         "type": "\"long\""
        }
       ],
       "type": "table"
      }
     },
     "output_type": "display_data"
    },
    {
     "output_type": "display_data",
     "data": {
      "text/plain": [
       "Databricks visualization. Run in Databricks to view."
      ]
     },
     "metadata": {
      "application/vnd.databricks.v1.subcommand+json": {
       "baseErrorDetails": null,
       "bindings": {},
       "collapsed": false,
       "command": "%sql\nselect count(*) as total_records from sales_data",
       "commandTitle": "Total Count",
       "commandType": "auto",
       "commandVersion": 0,
       "commentThread": [],
       "commentsVisible": false,
       "contentSha256Hex": null,
       "customPlotOptions": {
        "redashChart": [
         {
          "key": "type",
          "value": "COUNTER"
         },
         {
          "key": "options",
          "value": {
           "counterColName": "total_records",
           "counterLabel": "Sales Count",
           "rowNumber": 1,
           "stringDecChar": ".",
           "stringDecimal": 0,
           "stringThouSep": ",",
           "targetRowNumber": 1,
           "tooltipFormat": "0,0.000"
          }
         }
        ]
       },
       "datasetPreviewNameToCmdIdMap": {},
       "diffDeletes": [],
       "diffInserts": [],
       "displayType": "redashChart",
       "error": null,
       "errorDetails": null,
       "errorSummary": null,
       "errorTraceType": null,
       "finishTime": 0,
       "globalVars": {},
       "guid": "",
       "height": "auto",
       "hideCommandCode": false,
       "hideCommandResult": false,
       "iPythonMetadata": null,
       "inputWidgets": {},
       "isLockedInExamMode": false,
       "latestUser": "a user",
       "latestUserId": null,
       "listResultMetadata": null,
       "metadata": {},
       "nuid": "ce0e3b36-984e-4f4e-96ac-077659e82ee2",
       "origId": 0,
       "parentHierarchy": [],
       "pivotAggregation": null,
       "pivotColumns": null,
       "position": 4.0,
       "resultDbfsErrorMessage": null,
       "resultDbfsStatus": "INLINED_IN_TREE",
       "results": null,
       "showCommandTitle": false,
       "startTime": 0,
       "state": "input",
       "streamStates": {},
       "subcommandOptions": {},
       "submitTime": 0,
       "subtype": "tableResultSubCmd.visualization",
       "tableResultIndex": 0,
       "tableResultSettingsMap": null,
       "useConsistentColors": false,
       "version": "CommandV1",
       "width": "auto",
       "workflows": [],
       "xColumns": null,
       "yColumns": null
      }
     },
     "output_type": "display_data"
    }
   ],
   "source": [
    "%sql\n",
    "select count(*) as total_records from productssales"
   ]
  },
  {
   "cell_type": "code",
   "execution_count": 0,
   "metadata": {
    "application/vnd.databricks.v1+cell": {
     "cellMetadata": {
      "byteLimit": 2048000,
      "implicitDf": true,
      "rowLimit": 10000
     },
     "inputWidgets": {},
     "nuid": "ce57b6a8-a4e4-49f9-929e-e9a4b7c7449a",
     "showTitle": false,
     "title": ""
    }
   },
   "outputs": [
    {
     "output_type": "display_data",
     "data": {
      "text/html": [
       "<style scoped>\n",
       "  .table-result-container {\n",
       "    max-height: 300px;\n",
       "    overflow: auto;\n",
       "  }\n",
       "  table, th, td {\n",
       "    border: 1px solid black;\n",
       "    border-collapse: collapse;\n",
       "  }\n",
       "  th, td {\n",
       "    padding: 5px;\n",
       "  }\n",
       "  th {\n",
       "    text-align: left;\n",
       "  }\n",
       "</style><div class='table-result-container'><table class='table-result'><thead style='background-color: white'><tr><th>Total_Sales</th></tr></thead><tbody><tr><td>1.003262885E7</td></tr></tbody></table></div>"
      ]
     },
     "metadata": {
      "application/vnd.databricks.v1+output": {
       "addedWidgets": {},
       "aggData": [],
       "aggError": "",
       "aggOverflow": false,
       "aggSchema": [],
       "aggSeriesLimitReached": false,
       "aggType": "",
       "arguments": {},
       "columnCustomDisplayInfos": {},
       "data": [
        [
         1.003262885E7
        ]
       ],
       "datasetInfos": [],
       "dbfsResultPath": null,
       "isJsonSchema": true,
       "metadata": {},
       "overflow": false,
       "plotOptions": {
        "customPlotOptions": {},
        "displayType": "table",
        "pivotAggregation": null,
        "pivotColumns": null,
        "xColumns": null,
        "yColumns": null
       },
       "removedWidgets": [],
       "schema": [
        {
         "metadata": "{}",
         "name": "Total_Sales",
         "type": "\"double\""
        }
       ],
       "type": "table"
      }
     },
     "output_type": "display_data"
    },
    {
     "output_type": "display_data",
     "data": {
      "text/plain": [
       "Databricks visualization. Run in Databricks to view."
      ]
     },
     "metadata": {
      "application/vnd.databricks.v1.subcommand+json": {
       "baseErrorDetails": null,
       "bindings": {},
       "collapsed": false,
       "command": "%sql\nselect round(sum(SALES),2) AS Total_Sales from sales_data",
       "commandTitle": "Visualization 1",
       "commandType": "auto",
       "commandVersion": 0,
       "commentThread": [],
       "commentsVisible": false,
       "contentSha256Hex": null,
       "customPlotOptions": {
        "redashChart": [
         {
          "key": "type",
          "value": "COUNTER"
         },
         {
          "key": "options",
          "value": {
           "counterColName": "Total_Sales",
           "counterLabel": "Total Sales",
           "rowNumber": 1,
           "stringDecChar": ".",
           "stringDecimal": 0,
           "stringThouSep": ",",
           "targetRowNumber": 1,
           "tooltipFormat": "0,0.000"
          }
         }
        ]
       },
       "datasetPreviewNameToCmdIdMap": {},
       "diffDeletes": [],
       "diffInserts": [],
       "displayType": "redashChart",
       "error": null,
       "errorDetails": null,
       "errorSummary": null,
       "errorTraceType": null,
       "finishTime": 0,
       "globalVars": {},
       "guid": "",
       "height": "auto",
       "hideCommandCode": false,
       "hideCommandResult": false,
       "iPythonMetadata": null,
       "inputWidgets": {},
       "isLockedInExamMode": false,
       "latestUser": "a user",
       "latestUserId": null,
       "listResultMetadata": null,
       "metadata": {},
       "nuid": "bfeda53e-f102-489f-b7f5-fee765e5d4db",
       "origId": 0,
       "parentHierarchy": [],
       "pivotAggregation": null,
       "pivotColumns": null,
       "position": 4.0,
       "resultDbfsErrorMessage": null,
       "resultDbfsStatus": "INLINED_IN_TREE",
       "results": null,
       "showCommandTitle": false,
       "startTime": 0,
       "state": "input",
       "streamStates": {},
       "subcommandOptions": {},
       "submitTime": 0,
       "subtype": "tableResultSubCmd.visualization",
       "tableResultIndex": 0,
       "tableResultSettingsMap": null,
       "useConsistentColors": false,
       "version": "CommandV1",
       "width": "auto",
       "workflows": [],
       "xColumns": null,
       "yColumns": null
      }
     },
     "output_type": "display_data"
    }
   ],
   "source": [
    "%sql\n",
    "select round(sum(SALES),2) AS Total_Sales from productssales"
   ]
  },
  {
   "cell_type": "code",
   "execution_count": 0,
   "metadata": {
    "application/vnd.databricks.v1+cell": {
     "cellMetadata": {
      "byteLimit": 2048000,
      "implicitDf": true,
      "rowLimit": 10000
     },
     "inputWidgets": {},
     "nuid": "97d4a529-7cf4-42a9-9886-dac8d0121be4",
     "showTitle": false,
     "title": ""
    }
   },
   "outputs": [
    {
     "output_type": "display_data",
     "data": {
      "text/html": [
       "<style scoped>\n",
       "  .table-result-container {\n",
       "    max-height: 300px;\n",
       "    overflow: auto;\n",
       "  }\n",
       "  table, th, td {\n",
       "    border: 1px solid black;\n",
       "    border-collapse: collapse;\n",
       "  }\n",
       "  th, td {\n",
       "    padding: 5px;\n",
       "  }\n",
       "  th {\n",
       "    text-align: left;\n",
       "  }\n",
       "</style><div class='table-result-container'><table class='table-result'><thead style='background-color: white'><tr><th>TOTALPROFIT</th></tr></thead><tbody><tr><td>1741742.06</td></tr></tbody></table></div>"
      ]
     },
     "metadata": {
      "application/vnd.databricks.v1+output": {
       "addedWidgets": {},
       "aggData": [],
       "aggError": "",
       "aggOverflow": false,
       "aggSchema": [],
       "aggSeriesLimitReached": false,
       "aggType": "",
       "arguments": {},
       "columnCustomDisplayInfos": {},
       "data": [
        [
         1741742.06
        ]
       ],
       "datasetInfos": [],
       "dbfsResultPath": null,
       "isJsonSchema": true,
       "metadata": {},
       "overflow": false,
       "plotOptions": {
        "customPlotOptions": {},
        "displayType": "table",
        "pivotAggregation": null,
        "pivotColumns": null,
        "xColumns": null,
        "yColumns": null
       },
       "removedWidgets": [],
       "schema": [
        {
         "metadata": "{}",
         "name": "TOTALPROFIT",
         "type": "\"double\""
        }
       ],
       "type": "table"
      }
     },
     "output_type": "display_data"
    },
    {
     "output_type": "display_data",
     "data": {
      "text/plain": [
       "Databricks visualization. Run in Databricks to view."
      ]
     },
     "metadata": {
      "application/vnd.databricks.v1.subcommand+json": {
       "baseErrorDetails": null,
       "bindings": {},
       "collapsed": false,
       "command": "%sql\nselect ROUND(SUM(SALES - PRICEEACH*QUANTITYORDERED),2) AS TOTALPROFIT from productssales",
       "commandTitle": "Visualization 1",
       "commandType": "auto",
       "commandVersion": 0,
       "commentThread": [],
       "commentsVisible": false,
       "contentSha256Hex": null,
       "customPlotOptions": {
        "redashChart": [
         {
          "key": "type",
          "value": "COUNTER"
         },
         {
          "key": "options",
          "value": {
           "counterColName": "TOTALPROFIT",
           "counterLabel": "Total Profit",
           "rowNumber": 1,
           "stringDecChar": ".",
           "stringDecimal": 0,
           "stringThouSep": ",",
           "targetRowNumber": 1,
           "tooltipFormat": "0,0.000"
          }
         }
        ]
       },
       "datasetPreviewNameToCmdIdMap": {},
       "diffDeletes": [],
       "diffInserts": [],
       "displayType": "redashChart",
       "error": null,
       "errorDetails": null,
       "errorSummary": null,
       "errorTraceType": null,
       "finishTime": 0,
       "globalVars": {},
       "guid": "",
       "height": "auto",
       "hideCommandCode": false,
       "hideCommandResult": false,
       "iPythonMetadata": null,
       "inputWidgets": {},
       "isLockedInExamMode": false,
       "latestUser": "a user",
       "latestUserId": null,
       "listResultMetadata": null,
       "metadata": {},
       "nuid": "a62e62f4-9d64-4619-9fea-06958e837d9e",
       "origId": 0,
       "parentHierarchy": [],
       "pivotAggregation": null,
       "pivotColumns": null,
       "position": 5.0,
       "resultDbfsErrorMessage": null,
       "resultDbfsStatus": "INLINED_IN_TREE",
       "results": null,
       "showCommandTitle": false,
       "startTime": 0,
       "state": "input",
       "streamStates": {},
       "subcommandOptions": {},
       "submitTime": 0,
       "subtype": "tableResultSubCmd.visualization",
       "tableResultIndex": 0,
       "tableResultSettingsMap": null,
       "useConsistentColors": false,
       "version": "CommandV1",
       "width": "auto",
       "workflows": [],
       "xColumns": null,
       "yColumns": null
      }
     },
     "output_type": "display_data"
    }
   ],
   "source": [
    "%sql\n",
    "select ROUND(SUM(SALES - PRICEEACH*QUANTITYORDERED),2) AS TOTALPROFIT from productssales"
   ]
  },
  {
   "cell_type": "code",
   "execution_count": 0,
   "metadata": {
    "application/vnd.databricks.v1+cell": {
     "cellMetadata": {
      "byteLimit": 2048000,
      "implicitDf": true,
      "rowLimit": 10000
     },
     "inputWidgets": {},
     "nuid": "60376a74-d6a1-446d-bb88-b6552d5e4084",
     "showTitle": false,
     "title": ""
    }
   },
   "outputs": [
    {
     "output_type": "display_data",
     "data": {
      "text/html": [
       "<style scoped>\n",
       "  .table-result-container {\n",
       "    max-height: 300px;\n",
       "    overflow: auto;\n",
       "  }\n",
       "  table, th, td {\n",
       "    border: 1px solid black;\n",
       "    border-collapse: collapse;\n",
       "  }\n",
       "  th, td {\n",
       "    padding: 5px;\n",
       "  }\n",
       "  th {\n",
       "    text-align: left;\n",
       "  }\n",
       "</style><div class='table-result-container'><table class='table-result'><thead style='background-color: white'><tr><th>Total_Customers</th></tr></thead><tbody><tr><td>92</td></tr></tbody></table></div>"
      ]
     },
     "metadata": {
      "application/vnd.databricks.v1+output": {
       "addedWidgets": {},
       "aggData": [],
       "aggError": "",
       "aggOverflow": false,
       "aggSchema": [],
       "aggSeriesLimitReached": false,
       "aggType": "",
       "arguments": {},
       "columnCustomDisplayInfos": {},
       "data": [
        [
         92
        ]
       ],
       "datasetInfos": [],
       "dbfsResultPath": null,
       "isJsonSchema": true,
       "metadata": {},
       "overflow": false,
       "plotOptions": {
        "customPlotOptions": {},
        "displayType": "table",
        "pivotAggregation": null,
        "pivotColumns": null,
        "xColumns": null,
        "yColumns": null
       },
       "removedWidgets": [],
       "schema": [
        {
         "metadata": "{}",
         "name": "Total_Customers",
         "type": "\"long\""
        }
       ],
       "type": "table"
      }
     },
     "output_type": "display_data"
    },
    {
     "output_type": "display_data",
     "data": {
      "text/plain": [
       "Databricks visualization. Run in Databricks to view."
      ]
     },
     "metadata": {
      "application/vnd.databricks.v1.subcommand+json": {
       "baseErrorDetails": null,
       "bindings": {},
       "collapsed": false,
       "command": "%sql\nselect count(CUSTOMERNAME) as Total_Customers from productssales",
       "commandTitle": "Visualization 1",
       "commandType": "auto",
       "commandVersion": 0,
       "commentThread": [],
       "commentsVisible": false,
       "contentSha256Hex": null,
       "customPlotOptions": {
        "redashChart": [
         {
          "key": "type",
          "value": "COUNTER"
         },
         {
          "key": "options",
          "value": {
           "counterColName": "Total_Customers",
           "counterLabel": "Customers Count",
           "rowNumber": 1,
           "stringDecChar": ".",
           "stringDecimal": 0,
           "stringThouSep": ",",
           "targetRowNumber": 1,
           "tooltipFormat": "0,0.000"
          }
         }
        ]
       },
       "datasetPreviewNameToCmdIdMap": {},
       "diffDeletes": [],
       "diffInserts": [],
       "displayType": "redashChart",
       "error": null,
       "errorDetails": null,
       "errorSummary": null,
       "errorTraceType": null,
       "finishTime": 0,
       "globalVars": {},
       "guid": "",
       "height": "auto",
       "hideCommandCode": false,
       "hideCommandResult": false,
       "iPythonMetadata": null,
       "inputWidgets": {},
       "isLockedInExamMode": false,
       "latestUser": "a user",
       "latestUserId": null,
       "listResultMetadata": null,
       "metadata": {},
       "nuid": "a8116053-c554-4dd3-b6fc-626b449b3b89",
       "origId": 0,
       "parentHierarchy": [],
       "pivotAggregation": null,
       "pivotColumns": null,
       "position": 6.0,
       "resultDbfsErrorMessage": null,
       "resultDbfsStatus": "INLINED_IN_TREE",
       "results": null,
       "showCommandTitle": false,
       "startTime": 0,
       "state": "input",
       "streamStates": {},
       "subcommandOptions": {},
       "submitTime": 0,
       "subtype": "tableResultSubCmd.visualization",
       "tableResultIndex": 0,
       "tableResultSettingsMap": null,
       "useConsistentColors": false,
       "version": "CommandV1",
       "width": "auto",
       "workflows": [],
       "xColumns": null,
       "yColumns": null
      }
     },
     "output_type": "display_data"
    }
   ],
   "source": [
    "%sql\n",
    "select count(distinct(CUSTOMERNAME)) as Total_Customers from productssales"
   ]
  },
  {
   "cell_type": "code",
   "execution_count": 0,
   "metadata": {
    "application/vnd.databricks.v1+cell": {
     "cellMetadata": {
      "byteLimit": 2048000,
      "implicitDf": true,
      "rowLimit": 10000
     },
     "inputWidgets": {},
     "nuid": "61101f81-c981-4d0e-b06f-8b5b412863ac",
     "showTitle": false,
     "title": ""
    }
   },
   "outputs": [
    {
     "output_type": "display_data",
     "data": {
      "text/html": [
       "<style scoped>\n",
       "  .table-result-container {\n",
       "    max-height: 300px;\n",
       "    overflow: auto;\n",
       "  }\n",
       "  table, th, td {\n",
       "    border: 1px solid black;\n",
       "    border-collapse: collapse;\n",
       "  }\n",
       "  th, td {\n",
       "    padding: 5px;\n",
       "  }\n",
       "  th {\n",
       "    text-align: left;\n",
       "  }\n",
       "</style><div class='table-result-container'><table class='table-result'><thead style='background-color: white'><tr><th>PRODUCTLINE</th><th>ProductSold</th></tr></thead><tbody><tr><td>Classic Cars</td><td>33992</td></tr><tr><td>Motorcycles</td><td>11663</td></tr><tr><td>Planes</td><td>10727</td></tr><tr><td>Ships</td><td>8127</td></tr><tr><td>Trains</td><td>2712</td></tr><tr><td>Trucks and Buses</td><td>10777</td></tr><tr><td>Vintage Cars</td><td>21069</td></tr></tbody></table></div>"
      ]
     },
     "metadata": {
      "application/vnd.databricks.v1+output": {
       "addedWidgets": {},
       "aggData": [],
       "aggError": "",
       "aggOverflow": false,
       "aggSchema": [],
       "aggSeriesLimitReached": false,
       "aggType": "",
       "arguments": {},
       "columnCustomDisplayInfos": {},
       "data": [
        [
         "Classic Cars",
         33992
        ],
        [
         "Motorcycles",
         11663
        ],
        [
         "Planes",
         10727
        ],
        [
         "Ships",
         8127
        ],
        [
         "Trains",
         2712
        ],
        [
         "Trucks and Buses",
         10777
        ],
        [
         "Vintage Cars",
         21069
        ]
       ],
       "datasetInfos": [],
       "dbfsResultPath": null,
       "isJsonSchema": true,
       "metadata": {},
       "overflow": false,
       "plotOptions": {
        "customPlotOptions": {},
        "displayType": "table",
        "pivotAggregation": null,
        "pivotColumns": null,
        "xColumns": null,
        "yColumns": null
       },
       "removedWidgets": [],
       "schema": [
        {
         "metadata": "{}",
         "name": "PRODUCTLINE",
         "type": "\"string\""
        },
        {
         "metadata": "{}",
         "name": "ProductSold",
         "type": "\"long\""
        }
       ],
       "type": "table"
      }
     },
     "output_type": "display_data"
    },
    {
     "output_type": "display_data",
     "data": {
      "text/plain": [
       "Databricks visualization. Run in Databricks to view."
      ]
     },
     "metadata": {
      "application/vnd.databricks.v1.subcommand+json": {
       "baseErrorDetails": null,
       "bindings": {},
       "collapsed": false,
       "command": "%sql WITH q AS (select PRODUCTLINE, SUM(QUANTITYORDERED) as ProductSold from productssales group by PRODUCTLINE ORDER BY PRODUCTLINE) SELECT `PRODUCTLINE`,SUM(`ProductSold`) `column_357a6aa512` FROM q GROUP BY `PRODUCTLINE`",
       "commandTitle": "Visualization 1",
       "commandType": "auto",
       "commandVersion": 0,
       "commentThread": [],
       "commentsVisible": false,
       "contentSha256Hex": null,
       "customPlotOptions": {
        "redashChart": [
         {
          "key": "type",
          "value": "CHART"
         },
         {
          "key": "options",
          "value": {
           "alignYAxesAtZero": true,
           "coefficient": 1,
           "columnConfigurationMap": {
            "x": {
             "column": "PRODUCTLINE",
             "id": "column_357a6aa511"
            },
            "y": [
             {
              "column": "ProductSold",
              "id": "column_357a6aa512",
              "transform": "SUM"
             }
            ]
           },
           "dateTimeFormat": "DD/MM/YYYY HH:mm",
           "direction": {
            "type": "counterclockwise"
           },
           "error_y": {
            "type": "data",
            "visible": true
           },
           "globalSeriesType": "column",
           "isAggregationOn": true,
           "legend": {
            "traceorder": "normal"
           },
           "missingValuesAsZero": true,
           "numberFormat": "0,0.[00000]",
           "percentFormat": "0[.]00%",
           "series": {
            "error_y": {
             "type": "data",
             "visible": true
            },
            "stacking": null
           },
           "seriesOptions": {
            "column_357a6aa512": {
             "color": "#FB8D3D",
             "name": "ProductSold",
             "yAxis": 0
            }
           },
           "showDataLabels": false,
           "sizemode": "diameter",
           "sortX": true,
           "sortY": true,
           "swappedAxes": true,
           "textFormat": "",
           "useAggregationsUi": true,
           "valuesOptions": {},
           "version": 2,
           "xAxis": {
            "labels": {
             "enabled": true
            },
            "type": "-"
           },
           "yAxis": [
            {
             "type": "-"
            },
            {
             "opposite": true,
             "type": "-"
            }
           ]
          }
         }
        ]
       },
       "datasetPreviewNameToCmdIdMap": {},
       "diffDeletes": [],
       "diffInserts": [],
       "displayType": "redashChart",
       "error": null,
       "errorDetails": null,
       "errorSummary": null,
       "errorTraceType": null,
       "finishTime": 0,
       "globalVars": {},
       "guid": "",
       "height": "auto",
       "hideCommandCode": false,
       "hideCommandResult": false,
       "iPythonMetadata": null,
       "inputWidgets": {},
       "isLockedInExamMode": false,
       "latestUser": "a user",
       "latestUserId": null,
       "listResultMetadata": null,
       "metadata": {},
       "nuid": "d1f41e8c-5337-48ba-8bac-fe9ed291868e",
       "origId": 0,
       "parentHierarchy": [],
       "pivotAggregation": null,
       "pivotColumns": null,
       "position": 8.0,
       "resultDbfsErrorMessage": null,
       "resultDbfsStatus": "INLINED_IN_TREE",
       "results": null,
       "showCommandTitle": false,
       "startTime": 0,
       "state": "input",
       "streamStates": {},
       "subcommandOptions": {
        "queryPlan": {
         "groups": [
          {
           "column": "PRODUCTLINE",
           "type": "column"
          }
         ],
         "selects": [
          {
           "column": "PRODUCTLINE",
           "type": "column"
          },
          {
           "alias": "column_357a6aa512",
           "args": [
            {
             "column": "ProductSold",
             "type": "column"
            }
           ],
           "function": "SUM",
           "type": "function"
          }
         ]
        }
       },
       "submitTime": 0,
       "subtype": "tableResultSubCmd.visualization",
       "tableResultIndex": 0,
       "tableResultSettingsMap": null,
       "useConsistentColors": false,
       "version": "CommandV1",
       "width": "auto",
       "workflows": [],
       "xColumns": null,
       "yColumns": null
      }
     },
     "output_type": "display_data"
    },
    {
     "output_type": "display_data",
     "data": {
      "text/plain": [
       "Databricks visualization. Run in Databricks to view."
      ]
     },
     "metadata": {
      "application/vnd.databricks.v1.subcommand+json": {
       "baseErrorDetails": null,
       "bindings": {},
       "collapsed": false,
       "command": "%sql WITH q AS (select PRODUCTLINE, SUM(QUANTITYORDERED) as ProductSold from productssales group by PRODUCTLINE ORDER BY PRODUCTLINE) SELECT `PRODUCTLINE`,SUM(`ProductSold`) `column_357a6aa550` FROM q GROUP BY `PRODUCTLINE`",
       "commandTitle": "Visualization 2",
       "commandType": "auto",
       "commandVersion": 0,
       "commentThread": [],
       "commentsVisible": false,
       "contentSha256Hex": null,
       "customPlotOptions": {
        "redashChart": [
         {
          "key": "type",
          "value": "CHART"
         },
         {
          "key": "options",
          "value": {
           "alignYAxesAtZero": true,
           "coefficient": 1,
           "columnConfigurationMap": {
            "x": {
             "column": "PRODUCTLINE",
             "id": "column_357a6aa549"
            },
            "y": [
             {
              "column": "ProductSold",
              "id": "column_357a6aa550",
              "transform": "SUM"
             }
            ]
           },
           "dateTimeFormat": "DD/MM/YYYY HH:mm",
           "direction": {
            "type": "counterclockwise"
           },
           "error_y": {
            "type": "data",
            "visible": true
           },
           "globalSeriesType": "pie",
           "legend": {
            "traceorder": "normal"
           },
           "missingValuesAsZero": true,
           "numberFormat": "0,0.[00000]",
           "percentFormat": "0[.]00%",
           "series": {
            "error_y": {
             "type": "data",
             "visible": true
            },
            "stacking": null
           },
           "seriesOptions": {
            "column_357a6aa550": {
             "name": "ProductSold",
             "type": "pie",
             "yAxis": 0
            }
           },
           "showDataLabels": true,
           "sizemode": "diameter",
           "sortX": true,
           "sortY": true,
           "swappedAxes": false,
           "textFormat": "",
           "useAggregationsUi": true,
           "valuesOptions": {},
           "version": 2,
           "xAxis": {
            "labels": {
             "enabled": true
            },
            "type": "-"
           },
           "yAxis": [
            {
             "type": "-"
            },
            {
             "opposite": true,
             "type": "-"
            }
           ]
          }
         }
        ]
       },
       "datasetPreviewNameToCmdIdMap": {},
       "diffDeletes": [],
       "diffInserts": [],
       "displayType": "redashChart",
       "error": null,
       "errorDetails": null,
       "errorSummary": null,
       "errorTraceType": null,
       "finishTime": 0,
       "globalVars": {},
       "guid": "",
       "height": "auto",
       "hideCommandCode": false,
       "hideCommandResult": false,
       "iPythonMetadata": null,
       "inputWidgets": {},
       "isLockedInExamMode": false,
       "latestUser": "a user",
       "latestUserId": null,
       "listResultMetadata": null,
       "metadata": {},
       "nuid": "4eca3818-711b-4114-9da0-c0a5a2eeaa40",
       "origId": 0,
       "parentHierarchy": [],
       "pivotAggregation": null,
       "pivotColumns": null,
       "position": 9.0,
       "resultDbfsErrorMessage": null,
       "resultDbfsStatus": "INLINED_IN_TREE",
       "results": null,
       "showCommandTitle": false,
       "startTime": 0,
       "state": "input",
       "streamStates": {},
       "subcommandOptions": {
        "queryPlan": {
         "groups": [
          {
           "column": "PRODUCTLINE",
           "type": "column"
          }
         ],
         "selects": [
          {
           "column": "PRODUCTLINE",
           "type": "column"
          },
          {
           "alias": "column_357a6aa550",
           "args": [
            {
             "column": "ProductSold",
             "type": "column"
            }
           ],
           "function": "SUM",
           "type": "function"
          }
         ]
        }
       },
       "submitTime": 0,
       "subtype": "tableResultSubCmd.visualization",
       "tableResultIndex": 0,
       "tableResultSettingsMap": null,
       "useConsistentColors": false,
       "version": "CommandV1",
       "width": "auto",
       "workflows": [],
       "xColumns": null,
       "yColumns": null
      }
     },
     "output_type": "display_data"
    }
   ],
   "source": [
    "%sql\n",
    "select PRODUCTLINE, SUM(QUANTITYORDERED) as ProductSold from productssales group by PRODUCTLINE ORDER BY PRODUCTLINE"
   ]
  },
  {
   "cell_type": "code",
   "execution_count": 0,
   "metadata": {
    "application/vnd.databricks.v1+cell": {
     "cellMetadata": {
      "byteLimit": 2048000,
      "implicitDf": true,
      "rowLimit": 10000
     },
     "inputWidgets": {},
     "nuid": "5b6da2db-433a-49c9-88bd-f3c9410a9ae8",
     "showTitle": false,
     "title": ""
    }
   },
   "outputs": [
    {
     "output_type": "display_data",
     "data": {
      "text/html": [
       "<style scoped>\n",
       "  .table-result-container {\n",
       "    max-height: 300px;\n",
       "    overflow: auto;\n",
       "  }\n",
       "  table, th, td {\n",
       "    border: 1px solid black;\n",
       "    border-collapse: collapse;\n",
       "  }\n",
       "  th, td {\n",
       "    padding: 5px;\n",
       "  }\n",
       "  th {\n",
       "    text-align: left;\n",
       "  }\n",
       "</style><div class='table-result-container'><table class='table-result'><thead style='background-color: white'><tr><th>MONTH_ID</th><th>ProductSold</th></tr></thead><tbody><tr><td>1</td><td>7997</td></tr><tr><td>2</td><td>7903</td></tr><tr><td>3</td><td>7585</td></tr><tr><td>4</td><td>6704</td></tr><tr><td>5</td><td>8992</td></tr><tr><td>6</td><td>4620</td></tr><tr><td>7</td><td>4899</td></tr><tr><td>8</td><td>6538</td></tr><tr><td>9</td><td>5681</td></tr><tr><td>10</td><td>10998</td></tr><tr><td>11</td><td>20857</td></tr><tr><td>12</td><td>6293</td></tr></tbody></table></div>"
      ]
     },
     "metadata": {
      "application/vnd.databricks.v1+output": {
       "addedWidgets": {},
       "aggData": [],
       "aggError": "",
       "aggOverflow": false,
       "aggSchema": [],
       "aggSeriesLimitReached": false,
       "aggType": "",
       "arguments": {},
       "columnCustomDisplayInfos": {},
       "data": [
        [
         1,
         7997
        ],
        [
         2,
         7903
        ],
        [
         3,
         7585
        ],
        [
         4,
         6704
        ],
        [
         5,
         8992
        ],
        [
         6,
         4620
        ],
        [
         7,
         4899
        ],
        [
         8,
         6538
        ],
        [
         9,
         5681
        ],
        [
         10,
         10998
        ],
        [
         11,
         20857
        ],
        [
         12,
         6293
        ]
       ],
       "datasetInfos": [],
       "dbfsResultPath": null,
       "isJsonSchema": true,
       "metadata": {},
       "overflow": false,
       "plotOptions": {
        "customPlotOptions": {},
        "displayType": "table",
        "pivotAggregation": null,
        "pivotColumns": null,
        "xColumns": null,
        "yColumns": null
       },
       "removedWidgets": [],
       "schema": [
        {
         "metadata": "{}",
         "name": "MONTH_ID",
         "type": "\"integer\""
        },
        {
         "metadata": "{}",
         "name": "ProductSold",
         "type": "\"long\""
        }
       ],
       "type": "table"
      }
     },
     "output_type": "display_data"
    },
    {
     "output_type": "display_data",
     "data": {
      "text/plain": [
       "Databricks visualization. Run in Databricks to view."
      ]
     },
     "metadata": {
      "application/vnd.databricks.v1.subcommand+json": {
       "baseErrorDetails": null,
       "bindings": {},
       "collapsed": false,
       "command": "%sql WITH q AS (select MONTH_ID, SUM(QUANTITYORDERED) as ProductSold from productssales group by MONTH_ID ORDER BY MONTH_ID) SELECT `MONTH_ID`,SUM(`ProductSold`) `column_357a6aa517` FROM q GROUP BY `MONTH_ID`",
       "commandTitle": "Visualization 1",
       "commandType": "auto",
       "commandVersion": 0,
       "commentThread": [],
       "commentsVisible": false,
       "contentSha256Hex": null,
       "customPlotOptions": {
        "redashChart": [
         {
          "key": "type",
          "value": "CHART"
         },
         {
          "key": "options",
          "value": {
           "alignYAxesAtZero": true,
           "coefficient": 1,
           "columnConfigurationMap": {
            "x": {
             "column": "MONTH_ID",
             "id": "column_357a6aa516"
            },
            "y": [
             {
              "column": "ProductSold",
              "id": "column_357a6aa517",
              "transform": "SUM"
             }
            ]
           },
           "dateTimeFormat": "DD/MM/YYYY HH:mm",
           "direction": {
            "type": "counterclockwise"
           },
           "error_y": {
            "type": "data",
            "visible": true
           },
           "globalSeriesType": "column",
           "isAggregationOn": true,
           "legend": {
            "traceorder": "normal"
           },
           "missingValuesAsZero": true,
           "numberFormat": "0,0.[00000]",
           "percentFormat": "0[.]00%",
           "series": {
            "error_y": {
             "type": "data",
             "visible": true
            },
            "stacking": null
           },
           "seriesOptions": {
            "column_357a6aa517": {
             "color": "#002FB4",
             "name": "ProductSold",
             "type": "column",
             "yAxis": 0
            }
           },
           "showDataLabels": false,
           "sizemode": "diameter",
           "sortX": true,
           "sortY": true,
           "swappedAxes": false,
           "textFormat": "",
           "useAggregationsUi": true,
           "valuesOptions": {},
           "version": 2,
           "xAxis": {
            "labels": {
             "enabled": true
            },
            "type": "-"
           },
           "yAxis": [
            {
             "type": "-"
            },
            {
             "opposite": true,
             "type": "-"
            }
           ]
          }
         }
        ]
       },
       "datasetPreviewNameToCmdIdMap": {},
       "diffDeletes": [],
       "diffInserts": [],
       "displayType": "redashChart",
       "error": null,
       "errorDetails": null,
       "errorSummary": null,
       "errorTraceType": null,
       "finishTime": 0,
       "globalVars": {},
       "guid": "",
       "height": "auto",
       "hideCommandCode": false,
       "hideCommandResult": false,
       "iPythonMetadata": null,
       "inputWidgets": {},
       "isLockedInExamMode": false,
       "latestUser": "a user",
       "latestUserId": null,
       "listResultMetadata": null,
       "metadata": {},
       "nuid": "aeb50fe2-1a9c-45ae-9cdb-e90855178e95",
       "origId": 0,
       "parentHierarchy": [],
       "pivotAggregation": null,
       "pivotColumns": null,
       "position": 9.0,
       "resultDbfsErrorMessage": null,
       "resultDbfsStatus": "INLINED_IN_TREE",
       "results": null,
       "showCommandTitle": false,
       "startTime": 0,
       "state": "input",
       "streamStates": {},
       "subcommandOptions": {
        "queryPlan": {
         "groups": [
          {
           "column": "MONTH_ID",
           "type": "column"
          }
         ],
         "selects": [
          {
           "column": "MONTH_ID",
           "type": "column"
          },
          {
           "alias": "column_357a6aa517",
           "args": [
            {
             "column": "ProductSold",
             "type": "column"
            }
           ],
           "function": "SUM",
           "type": "function"
          }
         ]
        }
       },
       "submitTime": 0,
       "subtype": "tableResultSubCmd.visualization",
       "tableResultIndex": 0,
       "tableResultSettingsMap": null,
       "useConsistentColors": false,
       "version": "CommandV1",
       "width": "auto",
       "workflows": [],
       "xColumns": null,
       "yColumns": null
      }
     },
     "output_type": "display_data"
    }
   ],
   "source": [
    "%sql\n",
    "select MONTH_ID, SUM(QUANTITYORDERED) as ProductSold from productssales group by MONTH_ID ORDER BY MONTH_ID"
   ]
  },
  {
   "cell_type": "code",
   "execution_count": 0,
   "metadata": {
    "application/vnd.databricks.v1+cell": {
     "cellMetadata": {
      "byteLimit": 2048000,
      "rowLimit": 10000
     },
     "inputWidgets": {},
     "nuid": "802a2de1-3a5f-4b20-a9fd-d39d156a545f",
     "showTitle": false,
     "title": ""
    }
   },
   "outputs": [
    {
     "output_type": "stream",
     "name": "stdout",
     "output_type": "stream",
     "text": [
      "+--------------------+------------------+--------------------+\n|        CUSTOMERNAME|         sum_sales|   contribution_pcnt|\n+--------------------+------------------+--------------------+\n|Euro Shopping Cha...| 912294.1100000002| 0.09093270803095634|\n|Mini Gifts Distri...|         654858.06| 0.06527282826773756|\n|Australian Collec...|200995.40999999997|0.020034171801341955|\n|  Muscle Machine Inc|197736.93999999997|0.019709384544809486|\n|   La Rochelle Gifts|          180124.9|0.017953908461389938|\n|Dragon Souveniers...|172989.68000000008|0.017242707029872822|\n|   Land of Toys Inc.|164069.44000000003|0.016353584135627607|\n|The Sharp Gifts W...|160010.26999999996| 0.01594898728861078|\n|      AV Stores, Co.|157807.80999999997| 0.01572945758877543|\n|Anna's Decoration...|153996.13000000003|0.015349529251249026|\n+--------------------+------------------+--------------------+\nonly showing top 10 rows\n\n"
     ]
    }
   ],
   "source": [
    "spark.sql(\"select CUSTOMERNAME, SUM(SALES) as sum_sales, SUM(SALES)/(select SUM(SALES) from productssales) as contribution_pcnt from productssales group by CUSTOMERNAME order by sum_sales DESC\").show(10)"
   ]
  },
  {
   "cell_type": "code",
   "execution_count": 0,
   "metadata": {
    "application/vnd.databricks.v1+cell": {
     "cellMetadata": {
      "byteLimit": 2048000,
      "implicitDf": true,
      "rowLimit": 10000
     },
     "inputWidgets": {},
     "nuid": "f0e8ccfd-4265-4bf6-b9ba-619909aa5ba5",
     "showTitle": false,
     "title": ""
    }
   },
   "outputs": [
    {
     "output_type": "display_data",
     "data": {
      "text/html": [
       "<style scoped>\n",
       "  .table-result-container {\n",
       "    max-height: 300px;\n",
       "    overflow: auto;\n",
       "  }\n",
       "  table, th, td {\n",
       "    border: 1px solid black;\n",
       "    border-collapse: collapse;\n",
       "  }\n",
       "  th, td {\n",
       "    padding: 5px;\n",
       "  }\n",
       "  th {\n",
       "    text-align: left;\n",
       "  }\n",
       "</style><div class='table-result-container'><table class='table-result'><thead style='background-color: white'><tr><th>CUSTOMERNAME</th><th>sum_sales</th><th>contribution_pcnt</th></tr></thead><tbody><tr><td>Euro Shopping Channel</td><td>912294.1100000002</td><td>0.09093270803095634</td></tr><tr><td>Mini Gifts Distributors Ltd.</td><td>654858.06</td><td>0.06527282826773756</td></tr><tr><td>Australian Collectors, Co.</td><td>200995.40999999997</td><td>0.020034171801341955</td></tr><tr><td>Muscle Machine Inc</td><td>197736.93999999997</td><td>0.019709384544809486</td></tr><tr><td>La Rochelle Gifts</td><td>180124.9</td><td>0.017953908461389938</td></tr><tr><td>Dragon Souveniers, Ltd.</td><td>172989.68000000008</td><td>0.017242707029872822</td></tr><tr><td>Land of Toys Inc.</td><td>164069.44000000003</td><td>0.016353584135627607</td></tr><tr><td>The Sharp Gifts Warehouse</td><td>160010.26999999996</td><td>0.01594898728861078</td></tr><tr><td>AV Stores, Co.</td><td>157807.80999999997</td><td>0.01572945758877543</td></tr><tr><td>Anna's Decorations, Ltd</td><td>153996.13000000003</td><td>0.015349529251249026</td></tr></tbody></table></div>"
      ]
     },
     "metadata": {
      "application/vnd.databricks.v1+output": {
       "addedWidgets": {},
       "aggData": [],
       "aggError": "",
       "aggOverflow": false,
       "aggSchema": [],
       "aggSeriesLimitReached": false,
       "aggType": "",
       "arguments": {},
       "columnCustomDisplayInfos": {},
       "data": [
        [
         "Euro Shopping Channel",
         912294.1100000002,
         0.09093270803095634
        ],
        [
         "Mini Gifts Distributors Ltd.",
         654858.06,
         0.06527282826773756
        ],
        [
         "Australian Collectors, Co.",
         200995.40999999997,
         0.020034171801341955
        ],
        [
         "Muscle Machine Inc",
         197736.93999999997,
         0.019709384544809486
        ],
        [
         "La Rochelle Gifts",
         180124.9,
         0.017953908461389938
        ],
        [
         "Dragon Souveniers, Ltd.",
         172989.68000000008,
         0.017242707029872822
        ],
        [
         "Land of Toys Inc.",
         164069.44000000003,
         0.016353584135627607
        ],
        [
         "The Sharp Gifts Warehouse",
         160010.26999999996,
         0.01594898728861078
        ],
        [
         "AV Stores, Co.",
         157807.80999999997,
         0.01572945758877543
        ],
        [
         "Anna's Decorations, Ltd",
         153996.13000000003,
         0.015349529251249026
        ]
       ],
       "datasetInfos": [],
       "dbfsResultPath": null,
       "isJsonSchema": true,
       "metadata": {},
       "overflow": false,
       "plotOptions": {
        "customPlotOptions": {},
        "displayType": "table",
        "pivotAggregation": null,
        "pivotColumns": null,
        "xColumns": null,
        "yColumns": null
       },
       "removedWidgets": [],
       "schema": [
        {
         "metadata": "{}",
         "name": "CUSTOMERNAME",
         "type": "\"string\""
        },
        {
         "metadata": "{}",
         "name": "sum_sales",
         "type": "\"double\""
        },
        {
         "metadata": "{}",
         "name": "contribution_pcnt",
         "type": "\"double\""
        }
       ],
       "type": "table"
      }
     },
     "output_type": "display_data"
    },
    {
     "output_type": "display_data",
     "data": {
      "text/plain": [
       "Databricks visualization. Run in Databricks to view."
      ]
     },
     "metadata": {
      "application/vnd.databricks.v1.subcommand+json": {
       "baseErrorDetails": null,
       "bindings": {},
       "collapsed": false,
       "command": "%sql WITH q AS (select CUSTOMERNAME, SUM(SALES) as sum_sales, SUM(SALES)/(select SUM(SALES) from productssales) as contribution_pcnt from productssales group by CUSTOMERNAME order by sum_sales DESC limit 10) SELECT `CUSTOMERNAME`,SUM(`sum_sales`) `column_357a6aa584` FROM q GROUP BY `CUSTOMERNAME`",
       "commandTitle": "Visualization 1",
       "commandType": "auto",
       "commandVersion": 0,
       "commentThread": [],
       "commentsVisible": false,
       "contentSha256Hex": null,
       "customPlotOptions": {
        "redashChart": [
         {
          "key": "type",
          "value": "CHART"
         },
         {
          "key": "options",
          "value": {
           "alignYAxesAtZero": true,
           "coefficient": 1,
           "columnConfigurationMap": {
            "x": {
             "column": "CUSTOMERNAME",
             "id": "column_357a6aa582"
            },
            "y": [
             {
              "column": "sum_sales",
              "id": "column_357a6aa584",
              "transform": "SUM"
             }
            ]
           },
           "dateTimeFormat": "DD/MM/YYYY HH:mm",
           "direction": {
            "type": "counterclockwise"
           },
           "error_y": {
            "type": "data",
            "visible": true
           },
           "globalSeriesType": "column",
           "isAggregationOn": true,
           "legend": {
            "traceorder": "normal"
           },
           "missingValuesAsZero": true,
           "numberFormat": "0,0.[00000]",
           "percentFormat": "0[.]00%",
           "series": {
            "error_y": {
             "type": "data",
             "visible": true
            },
            "stacking": null
           },
           "seriesOptions": {
            "column_357a6aa577": {
             "name": "contribution_pcnt",
             "type": "column",
             "yAxis": 0
            },
            "column_357a6aa584": {
             "type": "column",
             "yAxis": 0
            }
           },
           "showDataLabels": false,
           "sizemode": "diameter",
           "sortX": true,
           "sortY": true,
           "swappedAxes": true,
           "textFormat": "",
           "useAggregationsUi": true,
           "valuesOptions": {},
           "version": 2,
           "xAxis": {
            "labels": {
             "enabled": true
            },
            "type": "-"
           },
           "yAxis": [
            {
             "title": {
              "text": "Sales Sum"
             },
             "type": "-"
            },
            {
             "opposite": true,
             "type": "-"
            }
           ]
          }
         }
        ]
       },
       "datasetPreviewNameToCmdIdMap": {},
       "diffDeletes": [],
       "diffInserts": [],
       "displayType": "redashChart",
       "error": null,
       "errorDetails": null,
       "errorSummary": null,
       "errorTraceType": null,
       "finishTime": 0,
       "globalVars": {},
       "guid": "",
       "height": "auto",
       "hideCommandCode": false,
       "hideCommandResult": false,
       "iPythonMetadata": null,
       "inputWidgets": {},
       "isLockedInExamMode": false,
       "latestUser": "a user",
       "latestUserId": null,
       "listResultMetadata": null,
       "metadata": {},
       "nuid": "af4ea064-b39b-44ab-a329-a796166ea319",
       "origId": 0,
       "parentHierarchy": [],
       "pivotAggregation": null,
       "pivotColumns": null,
       "position": 10.5,
       "resultDbfsErrorMessage": null,
       "resultDbfsStatus": "INLINED_IN_TREE",
       "results": null,
       "showCommandTitle": false,
       "startTime": 0,
       "state": "input",
       "streamStates": {},
       "subcommandOptions": {
        "queryPlan": {
         "groups": [
          {
           "column": "CUSTOMERNAME",
           "type": "column"
          }
         ],
         "selects": [
          {
           "column": "CUSTOMERNAME",
           "type": "column"
          },
          {
           "alias": "column_357a6aa584",
           "args": [
            {
             "column": "sum_sales",
             "type": "column"
            }
           ],
           "function": "SUM",
           "type": "function"
          }
         ]
        }
       },
       "submitTime": 0,
       "subtype": "tableResultSubCmd.visualization",
       "tableResultIndex": 0,
       "tableResultSettingsMap": null,
       "useConsistentColors": false,
       "version": "CommandV1",
       "width": "auto",
       "workflows": [],
       "xColumns": null,
       "yColumns": null
      }
     },
     "output_type": "display_data"
    }
   ],
   "source": [
    "%sql\n",
    "select CUSTOMERNAME, SUM(SALES) as sum_sales, SUM(SALES)/(select SUM(SALES) from productssales) as contribution_pcnt from productssales group by CUSTOMERNAME order by sum_sales DESC limit 10"
   ]
  },
  {
   "cell_type": "code",
   "execution_count": 0,
   "metadata": {
    "application/vnd.databricks.v1+cell": {
     "cellMetadata": {
      "byteLimit": 2048000,
      "implicitDf": true,
      "rowLimit": 10000
     },
     "inputWidgets": {},
     "nuid": "6754fd9e-ca4d-4f90-9ab7-7d44311398e0",
     "showTitle": false,
     "title": ""
    }
   },
   "outputs": [
    {
     "output_type": "display_data",
     "data": {
      "text/html": [
       "<style scoped>\n",
       "  .table-result-container {\n",
       "    max-height: 300px;\n",
       "    overflow: auto;\n",
       "  }\n",
       "  table, th, td {\n",
       "    border: 1px solid black;\n",
       "    border-collapse: collapse;\n",
       "  }\n",
       "  th, td {\n",
       "    padding: 5px;\n",
       "  }\n",
       "  th {\n",
       "    text-align: left;\n",
       "  }\n",
       "</style><div class='table-result-container'><table class='table-result'><thead style='background-color: white'><tr><th>ORDERDATE</th><th>QUANTITY_ORDERED</th><th>ORDERDATE_DATETIME</th><th>ORDER_MONTH</th><th>WEEK_DAY</th><th>DAY_OF_MONTH</th></tr></thead><tbody><tr><td>1/2/2004 0:00</td><td>530</td><td>2004-01-02T00:00:00.000+0000</td><td>1</td><td>4</td><td>2</td></tr><tr><td>1/5/2005 0:00</td><td>117</td><td>2005-01-05T00:00:00.000+0000</td><td>1</td><td>2</td><td>5</td></tr><tr><td>1/6/2005 0:00</td><td>556</td><td>2005-01-06T00:00:00.000+0000</td><td>1</td><td>3</td><td>6</td></tr><tr><td>1/6/2003 0:00</td><td>151</td><td>2003-01-06T00:00:00.000+0000</td><td>1</td><td>0</td><td>6</td></tr><tr><td>1/7/2005 0:00</td><td>96</td><td>2005-01-07T00:00:00.000+0000</td><td>1</td><td>4</td><td>7</td></tr><tr><td>1/9/2003 0:00</td><td>142</td><td>2003-01-09T00:00:00.000+0000</td><td>1</td><td>3</td><td>9</td></tr><tr><td>1/9/2004 0:00</td><td>269</td><td>2004-01-09T00:00:00.000+0000</td><td>1</td><td>4</td><td>9</td></tr><tr><td>1/10/2003 0:00</td><td>80</td><td>2003-01-10T00:00:00.000+0000</td><td>1</td><td>4</td><td>10</td></tr><tr><td>1/10/2005 0:00</td><td>117</td><td>2005-01-10T00:00:00.000+0000</td><td>1</td><td>0</td><td>10</td></tr><tr><td>1/12/2005 0:00</td><td>469</td><td>2005-01-12T00:00:00.000+0000</td><td>1</td><td>2</td><td>12</td></tr><tr><td>1/12/2004 0:00</td><td>577</td><td>2004-01-12T00:00:00.000+0000</td><td>1</td><td>0</td><td>12</td></tr><tr><td>1/15/2004 0:00</td><td>530</td><td>2004-01-15T00:00:00.000+0000</td><td>1</td><td>3</td><td>15</td></tr><tr><td>1/16/2004 0:00</td><td>612</td><td>2004-01-16T00:00:00.000+0000</td><td>1</td><td>4</td><td>16</td></tr><tr><td>1/19/2005 0:00</td><td>183</td><td>2005-01-19T00:00:00.000+0000</td><td>1</td><td>2</td><td>19</td></tr><tr><td>1/20/2005 0:00</td><td>549</td><td>2005-01-20T00:00:00.000+0000</td><td>1</td><td>3</td><td>20</td></tr><tr><td>1/22/2004 0:00</td><td>90</td><td>2004-01-22T00:00:00.000+0000</td><td>1</td><td>3</td><td>22</td></tr><tr><td>1/23/2005 0:00</td><td>382</td><td>2005-01-23T00:00:00.000+0000</td><td>1</td><td>6</td><td>23</td></tr><tr><td>1/26/2004 0:00</td><td>241</td><td>2004-01-26T00:00:00.000+0000</td><td>1</td><td>0</td><td>26</td></tr><tr><td>1/26/2005 0:00</td><td>321</td><td>2005-01-26T00:00:00.000+0000</td><td>1</td><td>2</td><td>26</td></tr><tr><td>1/29/2003 0:00</td><td>541</td><td>2003-01-29T00:00:00.000+0000</td><td>1</td><td>2</td><td>29</td></tr><tr><td>1/29/2004 0:00</td><td>396</td><td>2004-01-29T00:00:00.000+0000</td><td>1</td><td>3</td><td>29</td></tr><tr><td>1/31/2005 0:00</td><td>605</td><td>2005-01-31T00:00:00.000+0000</td><td>1</td><td>0</td><td>31</td></tr><tr><td>1/31/2003 0:00</td><td>443</td><td>2003-01-31T00:00:00.000+0000</td><td>1</td><td>4</td><td>31</td></tr><tr><td>2/2/2004 0:00</td><td>43</td><td>2004-02-02T00:00:00.000+0000</td><td>2</td><td>0</td><td>2</td></tr><tr><td>2/2/2005 0:00</td><td>209</td><td>2005-02-02T00:00:00.000+0000</td><td>2</td><td>2</td><td>2</td></tr><tr><td>2/3/2005 0:00</td><td>560</td><td>2005-02-03T00:00:00.000+0000</td><td>2</td><td>3</td><td>3</td></tr><tr><td>2/4/2004 0:00</td><td>240</td><td>2004-02-04T00:00:00.000+0000</td><td>2</td><td>2</td><td>4</td></tr><tr><td>2/8/2005 0:00</td><td>35</td><td>2005-02-08T00:00:00.000+0000</td><td>2</td><td>1</td><td>8</td></tr><tr><td>2/9/2005 0:00</td><td>215</td><td>2005-02-09T00:00:00.000+0000</td><td>2</td><td>2</td><td>9</td></tr><tr><td>2/10/2004 0:00</td><td>147</td><td>2004-02-10T00:00:00.000+0000</td><td>2</td><td>1</td><td>10</td></tr><tr><td>2/10/2005 0:00</td><td>536</td><td>2005-02-10T00:00:00.000+0000</td><td>2</td><td>3</td><td>10</td></tr><tr><td>2/11/2003 0:00</td><td>545</td><td>2003-02-11T00:00:00.000+0000</td><td>2</td><td>1</td><td>11</td></tr><tr><td>2/12/2004 0:00</td><td>289</td><td>2004-02-12T00:00:00.000+0000</td><td>2</td><td>3</td><td>12</td></tr><tr><td>2/16/2005 0:00</td><td>438</td><td>2005-02-16T00:00:00.000+0000</td><td>2</td><td>2</td><td>16</td></tr><tr><td>2/17/2005 0:00</td><td>768</td><td>2005-02-17T00:00:00.000+0000</td><td>2</td><td>3</td><td>17</td></tr><tr><td>2/17/2003 0:00</td><td>675</td><td>2003-02-17T00:00:00.000+0000</td><td>2</td><td>0</td><td>17</td></tr><tr><td>2/18/2004 0:00</td><td>167</td><td>2004-02-18T00:00:00.000+0000</td><td>2</td><td>2</td><td>18</td></tr><tr><td>2/19/2004 0:00</td><td>717</td><td>2004-02-19T00:00:00.000+0000</td><td>2</td><td>3</td><td>19</td></tr><tr><td>2/20/2004 0:00</td><td>497</td><td>2004-02-20T00:00:00.000+0000</td><td>2</td><td>4</td><td>20</td></tr><tr><td>2/21/2004 0:00</td><td>241</td><td>2004-02-21T00:00:00.000+0000</td><td>2</td><td>5</td><td>21</td></tr><tr><td>2/22/2004 0:00</td><td>483</td><td>2004-02-22T00:00:00.000+0000</td><td>2</td><td>6</td><td>22</td></tr><tr><td>2/22/2005 0:00</td><td>416</td><td>2005-02-22T00:00:00.000+0000</td><td>2</td><td>1</td><td>22</td></tr><tr><td>2/23/2005 0:00</td><td>154</td><td>2005-02-23T00:00:00.000+0000</td><td>2</td><td>2</td><td>23</td></tr><tr><td>2/24/2003 0:00</td><td>229</td><td>2003-02-24T00:00:00.000+0000</td><td>2</td><td>0</td><td>24</td></tr><tr><td>2/26/2004 0:00</td><td>237</td><td>2004-02-26T00:00:00.000+0000</td><td>2</td><td>3</td><td>26</td></tr><tr><td>2/28/2005 0:00</td><td>62</td><td>2005-02-28T00:00:00.000+0000</td><td>2</td><td>0</td><td>28</td></tr><tr><td>3/1/2005 0:00</td><td>650</td><td>2005-03-01T00:00:00.000+0000</td><td>3</td><td>1</td><td>1</td></tr><tr><td>3/2/2005 0:00</td><td>44</td><td>2005-03-02T00:00:00.000+0000</td><td>3</td><td>2</td><td>2</td></tr><tr><td>3/2/2004 0:00</td><td>502</td><td>2004-03-02T00:00:00.000+0000</td><td>3</td><td>1</td><td>2</td></tr><tr><td>3/3/2003 0:00</td><td>561</td><td>2003-03-03T00:00:00.000+0000</td><td>3</td><td>0</td><td>3</td></tr><tr><td>3/3/2005 0:00</td><td>631</td><td>2005-03-03T00:00:00.000+0000</td><td>3</td><td>3</td><td>3</td></tr><tr><td>3/4/2005 0:00</td><td>603</td><td>2005-03-04T00:00:00.000+0000</td><td>3</td><td>4</td><td>4</td></tr><tr><td>3/9/2005 0:00</td><td>339</td><td>2005-03-09T00:00:00.000+0000</td><td>3</td><td>2</td><td>9</td></tr><tr><td>3/10/2003 0:00</td><td>212</td><td>2003-03-10T00:00:00.000+0000</td><td>3</td><td>0</td><td>10</td></tr><tr><td>3/10/2005 0:00</td><td>102</td><td>2005-03-10T00:00:00.000+0000</td><td>3</td><td>3</td><td>10</td></tr><tr><td>3/10/2004 0:00</td><td>194</td><td>2004-03-10T00:00:00.000+0000</td><td>3</td><td>2</td><td>10</td></tr><tr><td>3/11/2004 0:00</td><td>476</td><td>2004-03-11T00:00:00.000+0000</td><td>3</td><td>3</td><td>11</td></tr><tr><td>3/15/2004 0:00</td><td>338</td><td>2004-03-15T00:00:00.000+0000</td><td>3</td><td>0</td><td>15</td></tr><tr><td>3/15/2005 0:00</td><td>239</td><td>2005-03-15T00:00:00.000+0000</td><td>3</td><td>1</td><td>15</td></tr><tr><td>3/17/2005 0:00</td><td>156</td><td>2005-03-17T00:00:00.000+0000</td><td>3</td><td>3</td><td>17</td></tr><tr><td>3/18/2003 0:00</td><td>570</td><td>2003-03-18T00:00:00.000+0000</td><td>3</td><td>1</td><td>18</td></tr><tr><td>3/19/2004 0:00</td><td>91</td><td>2004-03-19T00:00:00.000+0000</td><td>3</td><td>4</td><td>19</td></tr><tr><td>3/20/2004 0:00</td><td>272</td><td>2004-03-20T00:00:00.000+0000</td><td>3</td><td>5</td><td>20</td></tr><tr><td>3/23/2005 0:00</td><td>287</td><td>2005-03-23T00:00:00.000+0000</td><td>3</td><td>2</td><td>23</td></tr><tr><td>3/24/2003 0:00</td><td>52</td><td>2003-03-24T00:00:00.000+0000</td><td>3</td><td>0</td><td>24</td></tr><tr><td>3/25/2003 0:00</td><td>217</td><td>2003-03-25T00:00:00.000+0000</td><td>3</td><td>1</td><td>25</td></tr><tr><td>3/26/2003 0:00</td><td>143</td><td>2003-03-26T00:00:00.000+0000</td><td>3</td><td>2</td><td>26</td></tr><tr><td>3/28/2005 0:00</td><td>172</td><td>2005-03-28T00:00:00.000+0000</td><td>3</td><td>0</td><td>28</td></tr><tr><td>3/29/2004 0:00</td><td>105</td><td>2004-03-29T00:00:00.000+0000</td><td>3</td><td>0</td><td>29</td></tr><tr><td>3/30/2005 0:00</td><td>629</td><td>2005-03-30T00:00:00.000+0000</td><td>3</td><td>2</td><td>30</td></tr><tr><td>4/1/2003 0:00</td><td>351</td><td>2003-04-01T00:00:00.000+0000</td><td>4</td><td>1</td><td>1</td></tr><tr><td>4/1/2005 0:00</td><td>356</td><td>2005-04-01T00:00:00.000+0000</td><td>4</td><td>4</td><td>1</td></tr><tr><td>4/2/2004 0:00</td><td>390</td><td>2004-04-02T00:00:00.000+0000</td><td>4</td><td>4</td><td>2</td></tr><tr><td>4/3/2005 0:00</td><td>585</td><td>2005-04-03T00:00:00.000+0000</td><td>4</td><td>6</td><td>3</td></tr><tr><td>4/3/2004 0:00</td><td>81</td><td>2004-04-03T00:00:00.000+0000</td><td>4</td><td>5</td><td>3</td></tr><tr><td>4/4/2003 0:00</td><td>210</td><td>2003-04-04T00:00:00.000+0000</td><td>4</td><td>4</td><td>4</td></tr><tr><td>4/5/2004 0:00</td><td>239</td><td>2004-04-05T00:00:00.000+0000</td><td>4</td><td>0</td><td>5</td></tr><tr><td>4/7/2005 0:00</td><td>159</td><td>2005-04-07T00:00:00.000+0000</td><td>4</td><td>3</td><td>7</td></tr><tr><td>4/8/2005 0:00</td><td>371</td><td>2005-04-08T00:00:00.000+0000</td><td>4</td><td>4</td><td>8</td></tr><tr><td>4/9/2004 0:00</td><td>280</td><td>2004-04-09T00:00:00.000+0000</td><td>4</td><td>4</td><td>9</td></tr><tr><td>4/11/2003 0:00</td><td>27</td><td>2003-04-11T00:00:00.000+0000</td><td>4</td><td>4</td><td>11</td></tr><tr><td>4/12/2004 0:00</td><td>163</td><td>2004-04-12T00:00:00.000+0000</td><td>4</td><td>0</td><td>12</td></tr><tr><td>4/13/2004 0:00</td><td>497</td><td>2004-04-13T00:00:00.000+0000</td><td>4</td><td>1</td><td>13</td></tr><tr><td>4/14/2005 0:00</td><td>336</td><td>2005-04-14T00:00:00.000+0000</td><td>4</td><td>3</td><td>14</td></tr><tr><td>4/15/2005 0:00</td><td>174</td><td>2005-04-15T00:00:00.000+0000</td><td>4</td><td>4</td><td>15</td></tr><tr><td>4/16/2003 0:00</td><td>402</td><td>2003-04-16T00:00:00.000+0000</td><td>4</td><td>2</td><td>16</td></tr><tr><td>4/20/2004 0:00</td><td>46</td><td>2004-04-20T00:00:00.000+0000</td><td>4</td><td>1</td><td>20</td></tr><tr><td>4/21/2003 0:00</td><td>36</td><td>2003-04-21T00:00:00.000+0000</td><td>4</td><td>0</td><td>21</td></tr><tr><td>4/22/2005 0:00</td><td>586</td><td>2005-04-22T00:00:00.000+0000</td><td>4</td><td>4</td><td>22</td></tr><tr><td>4/23/2005 0:00</td><td>67</td><td>2005-04-23T00:00:00.000+0000</td><td>4</td><td>5</td><td>23</td></tr><tr><td>4/26/2004 0:00</td><td>80</td><td>2004-04-26T00:00:00.000+0000</td><td>4</td><td>0</td><td>26</td></tr><tr><td>4/28/2003 0:00</td><td>442</td><td>2003-04-28T00:00:00.000+0000</td><td>4</td><td>0</td><td>28</td></tr><tr><td>4/29/2004 0:00</td><td>301</td><td>2004-04-29T00:00:00.000+0000</td><td>4</td><td>3</td><td>29</td></tr><tr><td>4/29/2003 0:00</td><td>525</td><td>2003-04-29T00:00:00.000+0000</td><td>4</td><td>1</td><td>29</td></tr><tr><td>5/1/2005 0:00</td><td>285</td><td>2005-05-01T00:00:00.000+0000</td><td>5</td><td>6</td><td>1</td></tr><tr><td>5/3/2005 0:00</td><td>455</td><td>2005-05-03T00:00:00.000+0000</td><td>5</td><td>1</td><td>3</td></tr><tr><td>5/4/2004 0:00</td><td>320</td><td>2004-05-04T00:00:00.000+0000</td><td>5</td><td>1</td><td>4</td></tr><tr><td>5/5/2004 0:00</td><td>632</td><td>2004-05-05T00:00:00.000+0000</td><td>5</td><td>2</td><td>5</td></tr><tr><td>5/5/2005 0:00</td><td>229</td><td>2005-05-05T00:00:00.000+0000</td><td>5</td><td>3</td><td>5</td></tr><tr><td>5/6/2005 0:00</td><td>506</td><td>2005-05-06T00:00:00.000+0000</td><td>5</td><td>4</td><td>6</td></tr><tr><td>5/7/2003 0:00</td><td>185</td><td>2003-05-07T00:00:00.000+0000</td><td>5</td><td>2</td><td>7</td></tr><tr><td>5/7/2004 0:00</td><td>454</td><td>2004-05-07T00:00:00.000+0000</td><td>5</td><td>4</td><td>7</td></tr><tr><td>5/8/2003 0:00</td><td>545</td><td>2003-05-08T00:00:00.000+0000</td><td>5</td><td>3</td><td>8</td></tr><tr><td>5/8/2004 0:00</td><td>163</td><td>2004-05-08T00:00:00.000+0000</td><td>5</td><td>5</td><td>8</td></tr><tr><td>5/9/2005 0:00</td><td>164</td><td>2005-05-09T00:00:00.000+0000</td><td>5</td><td>0</td><td>9</td></tr><tr><td>5/10/2005 0:00</td><td>460</td><td>2005-05-10T00:00:00.000+0000</td><td>5</td><td>1</td><td>10</td></tr><tr><td>5/11/2004 0:00</td><td>521</td><td>2004-05-11T00:00:00.000+0000</td><td>5</td><td>1</td><td>11</td></tr><tr><td>5/13/2005 0:00</td><td>259</td><td>2005-05-13T00:00:00.000+0000</td><td>5</td><td>4</td><td>13</td></tr><tr><td>5/17/2005 0:00</td><td>509</td><td>2005-05-17T00:00:00.000+0000</td><td>5</td><td>1</td><td>17</td></tr><tr><td>5/18/2004 0:00</td><td>216</td><td>2004-05-18T00:00:00.000+0000</td><td>5</td><td>1</td><td>18</td></tr><tr><td>5/20/2003 0:00</td><td>156</td><td>2003-05-20T00:00:00.000+0000</td><td>5</td><td>1</td><td>20</td></tr><tr><td>5/21/2003 0:00</td><td>514</td><td>2003-05-21T00:00:00.000+0000</td><td>5</td><td>2</td><td>21</td></tr><tr><td>5/26/2004 0:00</td><td>312</td><td>2004-05-26T00:00:00.000+0000</td><td>5</td><td>2</td><td>26</td></tr><tr><td>5/28/2003 0:00</td><td>617</td><td>2003-05-28T00:00:00.000+0000</td><td>5</td><td>2</td><td>28</td></tr><tr><td>5/29/2005 0:00</td><td>607</td><td>2005-05-29T00:00:00.000+0000</td><td>5</td><td>6</td><td>29</td></tr><tr><td>5/30/2005 0:00</td><td>187</td><td>2005-05-30T00:00:00.000+0000</td><td>5</td><td>0</td><td>30</td></tr><tr><td>5/31/2005 0:00</td><td>696</td><td>2005-05-31T00:00:00.000+0000</td><td>5</td><td>1</td><td>31</td></tr><tr><td>6/1/2004 0:00</td><td>429</td><td>2004-06-01T00:00:00.000+0000</td><td>6</td><td>1</td><td>1</td></tr><tr><td>6/3/2003 0:00</td><td>540</td><td>2003-06-03T00:00:00.000+0000</td><td>6</td><td>1</td><td>3</td></tr><tr><td>6/4/2004 0:00</td><td>61</td><td>2004-06-04T00:00:00.000+0000</td><td>6</td><td>4</td><td>4</td></tr><tr><td>6/6/2003 0:00</td><td>157</td><td>2003-06-06T00:00:00.000+0000</td><td>6</td><td>4</td><td>6</td></tr><tr><td>6/8/2004 0:00</td><td>63</td><td>2004-06-08T00:00:00.000+0000</td><td>6</td><td>1</td><td>8</td></tr><tr><td>6/12/2003 0:00</td><td>349</td><td>2003-06-12T00:00:00.000+0000</td><td>6</td><td>3</td><td>12</td></tr><tr><td>6/14/2004 0:00</td><td>208</td><td>2004-06-14T00:00:00.000+0000</td><td>6</td><td>0</td><td>14</td></tr><tr><td>6/15/2004 0:00</td><td>654</td><td>2004-06-15T00:00:00.000+0000</td><td>6</td><td>1</td><td>15</td></tr><tr><td>6/16/2003 0:00</td><td>317</td><td>2003-06-16T00:00:00.000+0000</td><td>6</td><td>0</td><td>16</td></tr><tr><td>6/17/2004 0:00</td><td>287</td><td>2004-06-17T00:00:00.000+0000</td><td>6</td><td>3</td><td>17</td></tr><tr><td>6/24/2004 0:00</td><td>605</td><td>2004-06-24T00:00:00.000+0000</td><td>6</td><td>3</td><td>24</td></tr><tr><td>6/27/2003 0:00</td><td>286</td><td>2003-06-27T00:00:00.000+0000</td><td>6</td><td>4</td><td>27</td></tr><tr><td>6/28/2004 0:00</td><td>411</td><td>2004-06-28T00:00:00.000+0000</td><td>6</td><td>0</td><td>28</td></tr><tr><td>6/30/2004 0:00</td><td>253</td><td>2004-06-30T00:00:00.000+0000</td><td>6</td><td>2</td><td>30</td></tr><tr><td>7/1/2003 0:00</td><td>227</td><td>2003-07-01T00:00:00.000+0000</td><td>7</td><td>1</td><td>1</td></tr><tr><td>7/2/2004 0:00</td><td>94</td><td>2004-07-02T00:00:00.000+0000</td><td>7</td><td>4</td><td>2</td></tr><tr><td>7/2/2003 0:00</td><td>607</td><td>2003-07-02T00:00:00.000+0000</td><td>7</td><td>2</td><td>2</td></tr><tr><td>7/4/2003 0:00</td><td>102</td><td>2003-07-04T00:00:00.000+0000</td><td>7</td><td>4</td><td>4</td></tr><tr><td>7/6/2004 0:00</td><td>495</td><td>2004-07-06T00:00:00.000+0000</td><td>7</td><td>1</td><td>6</td></tr><tr><td>7/7/2004 0:00</td><td>244</td><td>2004-07-07T00:00:00.000+0000</td><td>7</td><td>2</td><td>7</td></tr><tr><td>7/10/2003 0:00</td><td>138</td><td>2003-07-10T00:00:00.000+0000</td><td>7</td><td>3</td><td>10</td></tr><tr><td>7/16/2003 0:00</td><td>266</td><td>2003-07-16T00:00:00.000+0000</td><td>7</td><td>2</td><td>16</td></tr><tr><td>7/16/2004 0:00</td><td>80</td><td>2004-07-16T00:00:00.000+0000</td><td>7</td><td>4</td><td>16</td></tr><tr><td>7/19/2004 0:00</td><td>374</td><td>2004-07-19T00:00:00.000+0000</td><td>7</td><td>0</td><td>19</td></tr><tr><td>7/20/2004 0:00</td><td>607</td><td>2004-07-20T00:00:00.000+0000</td><td>7</td><td>1</td><td>20</td></tr><tr><td>7/21/2004 0:00</td><td>679</td><td>2004-07-21T00:00:00.000+0000</td><td>7</td><td>2</td><td>21</td></tr><tr><td>7/23/2004 0:00</td><td>601</td><td>2004-07-23T00:00:00.000+0000</td><td>7</td><td>4</td><td>23</td></tr><tr><td>7/24/2003 0:00</td><td>385</td><td>2003-07-24T00:00:00.000+0000</td><td>7</td><td>3</td><td>24</td></tr><tr><td>8/1/2003 0:00</td><td>290</td><td>2003-08-01T00:00:00.000+0000</td><td>8</td><td>4</td><td>1</td></tr><tr><td>8/2/2004 0:00</td><td>527</td><td>2004-08-02T00:00:00.000+0000</td><td>8</td><td>0</td><td>2</td></tr><tr><td>8/4/2004 0:00</td><td>28</td><td>2004-08-04T00:00:00.000+0000</td><td>8</td><td>2</td><td>4</td></tr><tr><td>8/6/2004 0:00</td><td>318</td><td>2004-08-06T00:00:00.000+0000</td><td>8</td><td>4</td><td>6</td></tr><tr><td>8/8/2003 0:00</td><td>577</td><td>2003-08-08T00:00:00.000+0000</td><td>8</td><td>4</td><td>8</td></tr><tr><td>8/9/2004 0:00</td><td>236</td><td>2004-08-09T00:00:00.000+0000</td><td>8</td><td>0</td><td>9</td></tr><tr><td>8/10/2003 0:00</td><td>524</td><td>2003-08-10T00:00:00.000+0000</td><td>8</td><td>6</td><td>10</td></tr><tr><td>8/13/2003 0:00</td><td>20</td><td>2003-08-13T00:00:00.000+0000</td><td>8</td><td>2</td><td>13</td></tr><tr><td>8/17/2004 0:00</td><td>551</td><td>2004-08-17T00:00:00.000+0000</td><td>8</td><td>1</td><td>17</td></tr><tr><td>8/19/2004 0:00</td><td>449</td><td>2004-08-19T00:00:00.000+0000</td><td>8</td><td>3</td><td>19</td></tr><tr><td>8/20/2004 0:00</td><td>930</td><td>2004-08-20T00:00:00.000+0000</td><td>8</td><td>4</td><td>20</td></tr><tr><td>8/21/2004 0:00</td><td>418</td><td>2004-08-21T00:00:00.000+0000</td><td>8</td><td>5</td><td>21</td></tr><tr><td>8/25/2003 0:00</td><td>563</td><td>2003-08-25T00:00:00.000+0000</td><td>8</td><td>0</td><td>25</td></tr><tr><td>8/27/2004 0:00</td><td>474</td><td>2004-08-27T00:00:00.000+0000</td><td>8</td><td>4</td><td>27</td></tr><tr><td>8/28/2004 0:00</td><td>38</td><td>2004-08-28T00:00:00.000+0000</td><td>8</td><td>5</td><td>28</td></tr><tr><td>8/30/2004 0:00</td><td>595</td><td>2004-08-30T00:00:00.000+0000</td><td>8</td><td>0</td><td>30</td></tr><tr><td>9/1/2004 0:00</td><td>475</td><td>2004-09-01T00:00:00.000+0000</td><td>9</td><td>2</td><td>1</td></tr><tr><td>9/3/2004 0:00</td><td>150</td><td>2004-09-03T00:00:00.000+0000</td><td>9</td><td>4</td><td>3</td></tr><tr><td>9/3/2003 0:00</td><td>76</td><td>2003-09-03T00:00:00.000+0000</td><td>9</td><td>2</td><td>3</td></tr><tr><td>9/5/2003 0:00</td><td>341</td><td>2003-09-05T00:00:00.000+0000</td><td>9</td><td>4</td><td>5</td></tr><tr><td>9/7/2004 0:00</td><td>71</td><td>2004-09-07T00:00:00.000+0000</td><td>9</td><td>1</td><td>7</td></tr><tr><td>9/8/2004 0:00</td><td>909</td><td>2004-09-08T00:00:00.000+0000</td><td>9</td><td>2</td><td>8</td></tr><tr><td>9/9/2004 0:00</td><td>292</td><td>2004-09-09T00:00:00.000+0000</td><td>9</td><td>3</td><td>9</td></tr><tr><td>9/10/2004 0:00</td><td>219</td><td>2004-09-10T00:00:00.000+0000</td><td>9</td><td>4</td><td>10</td></tr><tr><td>9/11/2003 0:00</td><td>430</td><td>2003-09-11T00:00:00.000+0000</td><td>9</td><td>3</td><td>11</td></tr><tr><td>9/12/2003 0:00</td><td>367</td><td>2003-09-12T00:00:00.000+0000</td><td>9</td><td>4</td><td>12</td></tr><tr><td>9/15/2004 0:00</td><td>401</td><td>2004-09-15T00:00:00.000+0000</td><td>9</td><td>2</td><td>15</td></tr><tr><td>9/16/2004 0:00</td><td>201</td><td>2004-09-16T00:00:00.000+0000</td><td>9</td><td>3</td><td>16</td></tr><tr><td>9/19/2003 0:00</td><td>380</td><td>2003-09-19T00:00:00.000+0000</td><td>9</td><td>4</td><td>19</td></tr><tr><td>9/21/2003 0:00</td><td>342</td><td>2003-09-21T00:00:00.000+0000</td><td>9</td><td>6</td><td>21</td></tr><tr><td>9/25/2003 0:00</td><td>116</td><td>2003-09-25T00:00:00.000+0000</td><td>9</td><td>3</td><td>25</td></tr><tr><td>9/27/2004 0:00</td><td>71</td><td>2004-09-27T00:00:00.000+0000</td><td>9</td><td>0</td><td>27</td></tr><tr><td>9/28/2003 0:00</td><td>458</td><td>2003-09-28T00:00:00.000+0000</td><td>9</td><td>6</td><td>28</td></tr><tr><td>9/30/2004 0:00</td><td>382</td><td>2004-09-30T00:00:00.000+0000</td><td>9</td><td>3</td><td>30</td></tr><tr><td>10/2/2003 0:00</td><td>67</td><td>2003-10-02T00:00:00.000+0000</td><td>10</td><td>3</td><td>2</td></tr><tr><td>10/4/2003 0:00</td><td>251</td><td>2003-10-04T00:00:00.000+0000</td><td>10</td><td>5</td><td>4</td></tr><tr><td>10/5/2003 0:00</td><td>369</td><td>2003-10-05T00:00:00.000+0000</td><td>10</td><td>6</td><td>5</td></tr><tr><td>10/6/2003 0:00</td><td>700</td><td>2003-10-06T00:00:00.000+0000</td><td>10</td><td>0</td><td>6</td></tr><tr><td>10/6/2004 0:00</td><td>70</td><td>2004-10-06T00:00:00.000+0000</td><td>10</td><td>2</td><td>6</td></tr><tr><td>10/8/2003 0:00</td><td>68</td><td>2003-10-08T00:00:00.000+0000</td><td>10</td><td>2</td><td>8</td></tr><tr><td>10/10/2003 0:00</td><td>607</td><td>2003-10-10T00:00:00.000+0000</td><td>10</td><td>4</td><td>10</td></tr><tr><td>10/11/2003 0:00</td><td>231</td><td>2003-10-11T00:00:00.000+0000</td><td>10</td><td>5</td><td>11</td></tr><tr><td>10/11/2004 0:00</td><td>594</td><td>2004-10-11T00:00:00.000+0000</td><td>10</td><td>0</td><td>11</td></tr><tr><td>10/13/2004 0:00</td><td>502</td><td>2004-10-13T00:00:00.000+0000</td><td>10</td><td>2</td><td>13</td></tr><tr><td>10/14/2004 0:00</td><td>864</td><td>2004-10-14T00:00:00.000+0000</td><td>10</td><td>3</td><td>14</td></tr><tr><td>10/15/2004 0:00</td><td>734</td><td>2004-10-15T00:00:00.000+0000</td><td>10</td><td>4</td><td>15</td></tr><tr><td>10/16/2004 0:00</td><td>1002</td><td>2004-10-16T00:00:00.000+0000</td><td>10</td><td>5</td><td>16</td></tr><tr><td>10/17/2003 0:00</td><td>358</td><td>2003-10-17T00:00:00.000+0000</td><td>10</td><td>4</td><td>17</td></tr><tr><td>10/18/2003 0:00</td><td>391</td><td>2003-10-18T00:00:00.000+0000</td><td>10</td><td>5</td><td>18</td></tr><tr><td>10/20/2003 0:00</td><td>225</td><td>2003-10-20T00:00:00.000+0000</td><td>10</td><td>0</td><td>20</td></tr><tr><td>10/21/2003 0:00</td><td>386</td><td>2003-10-21T00:00:00.000+0000</td><td>10</td><td>1</td><td>21</td></tr><tr><td>10/21/2004 0:00</td><td>601</td><td>2004-10-21T00:00:00.000+0000</td><td>10</td><td>3</td><td>21</td></tr><tr><td>10/22/2003 0:00</td><td>670</td><td>2003-10-22T00:00:00.000+0000</td><td>10</td><td>2</td><td>22</td></tr><tr><td>10/22/2004 0:00</td><td>872</td><td>2004-10-22T00:00:00.000+0000</td><td>10</td><td>4</td><td>22</td></tr><tr><td>10/23/2003 0:00</td><td>550</td><td>2003-10-23T00:00:00.000+0000</td><td>10</td><td>3</td><td>23</td></tr><tr><td>10/28/2003 0:00</td><td>642</td><td>2003-10-28T00:00:00.000+0000</td><td>10</td><td>1</td><td>28</td></tr><tr><td>10/29/2004 0:00</td><td>244</td><td>2004-10-29T00:00:00.000+0000</td><td>10</td><td>4</td><td>29</td></tr><tr><td>11/1/2004 0:00</td><td>928</td><td>2004-11-01T00:00:00.000+0000</td><td>11</td><td>0</td><td>1</td></tr><tr><td>11/2/2004 0:00</td><td>407</td><td>2004-11-02T00:00:00.000+0000</td><td>11</td><td>1</td><td>2</td></tr><tr><td>11/3/2004 0:00</td><td>490</td><td>2004-11-03T00:00:00.000+0000</td><td>11</td><td>2</td><td>3</td></tr><tr><td>11/4/2003 0:00</td><td>586</td><td>2003-11-04T00:00:00.000+0000</td><td>11</td><td>1</td><td>4</td></tr><tr><td>11/4/2004 0:00</td><td>1002</td><td>2004-11-04T00:00:00.000+0000</td><td>11</td><td>3</td><td>4</td></tr><tr><td>11/5/2004 0:00</td><td>877</td><td>2004-11-05T00:00:00.000+0000</td><td>11</td><td>4</td><td>5</td></tr><tr><td>11/5/2003 0:00</td><td>888</td><td>2003-11-05T00:00:00.000+0000</td><td>11</td><td>2</td><td>5</td></tr><tr><td>11/6/2003 0:00</td><td>977</td><td>2003-11-06T00:00:00.000+0000</td><td>11</td><td>3</td><td>6</td></tr><tr><td>11/7/2003 0:00</td><td>377</td><td>2003-11-07T00:00:00.000+0000</td><td>11</td><td>4</td><td>7</td></tr><tr><td>11/8/2003 0:00</td><td>413</td><td>2003-11-08T00:00:00.000+0000</td><td>11</td><td>5</td><td>8</td></tr><tr><td>11/9/2004 0:00</td><td>223</td><td>2004-11-09T00:00:00.000+0000</td><td>11</td><td>1</td><td>9</td></tr><tr><td>11/10/2004 0:00</td><td>253</td><td>2004-11-10T00:00:00.000+0000</td><td>11</td><td>2</td><td>10</td></tr><tr><td>11/11/2003 0:00</td><td>458</td><td>2003-11-11T00:00:00.000+0000</td><td>11</td><td>1</td><td>11</td></tr><tr><td>11/12/2003 0:00</td><td>1093</td><td>2003-11-12T00:00:00.000+0000</td><td>11</td><td>2</td><td>12</td></tr><tr><td>11/12/2004 0:00</td><td>495</td><td>2004-11-12T00:00:00.000+0000</td><td>11</td><td>4</td><td>12</td></tr><tr><td>11/13/2003 0:00</td><td>391</td><td>2003-11-13T00:00:00.000+0000</td><td>11</td><td>3</td><td>13</td></tr><tr><td>11/14/2003 0:00</td><td>1306</td><td>2003-11-14T00:00:00.000+0000</td><td>11</td><td>4</td><td>14</td></tr><tr><td>11/15/2004 0:00</td><td>532</td><td>2004-11-15T00:00:00.000+0000</td><td>11</td><td>0</td><td>15</td></tr><tr><td>11/16/2004 0:00</td><td>158</td><td>2004-11-16T00:00:00.000+0000</td><td>11</td><td>1</td><td>16</td></tr><tr><td>11/17/2004 0:00</td><td>1058</td><td>2004-11-17T00:00:00.000+0000</td><td>11</td><td>2</td><td>17</td></tr><tr><td>11/18/2003 0:00</td><td>329</td><td>2003-11-18T00:00:00.000+0000</td><td>11</td><td>1</td><td>18</td></tr><tr><td>11/18/2004 0:00</td><td>261</td><td>2004-11-18T00:00:00.000+0000</td><td>11</td><td>3</td><td>18</td></tr><tr><td>11/19/2004 0:00</td><td>334</td><td>2004-11-19T00:00:00.000+0000</td><td>11</td><td>4</td><td>19</td></tr><tr><td>11/19/2003 0:00</td><td>170</td><td>2003-11-19T00:00:00.000+0000</td><td>11</td><td>2</td><td>19</td></tr><tr><td>11/20/2003 0:00</td><td>902</td><td>2003-11-20T00:00:00.000+0000</td><td>11</td><td>3</td><td>20</td></tr><tr><td>11/20/2004 0:00</td><td>447</td><td>2004-11-20T00:00:00.000+0000</td><td>11</td><td>5</td><td>20</td></tr><tr><td>11/21/2003 0:00</td><td>447</td><td>2003-11-21T00:00:00.000+0000</td><td>11</td><td>4</td><td>21</td></tr><tr><td>11/21/2004 0:00</td><td>285</td><td>2004-11-21T00:00:00.000+0000</td><td>11</td><td>6</td><td>21</td></tr><tr><td>11/22/2004 0:00</td><td>114</td><td>2004-11-22T00:00:00.000+0000</td><td>11</td><td>0</td><td>22</td></tr><tr><td>11/23/2004 0:00</td><td>614</td><td>2004-11-23T00:00:00.000+0000</td><td>11</td><td>1</td><td>23</td></tr><tr><td>11/24/2004 0:00</td><td>1365</td><td>2004-11-24T00:00:00.000+0000</td><td>11</td><td>2</td><td>24</td></tr><tr><td>11/25/2003 0:00</td><td>781</td><td>2003-11-25T00:00:00.000+0000</td><td>11</td><td>1</td><td>25</td></tr><tr><td>11/25/2004 0:00</td><td>254</td><td>2004-11-25T00:00:00.000+0000</td><td>11</td><td>3</td><td>25</td></tr><tr><td>11/26/2003 0:00</td><td>819</td><td>2003-11-26T00:00:00.000+0000</td><td>11</td><td>2</td><td>26</td></tr><tr><td>11/27/2003 0:00</td><td>242</td><td>2003-11-27T00:00:00.000+0000</td><td>11</td><td>3</td><td>27</td></tr><tr><td>11/29/2004 0:00</td><td>581</td><td>2004-11-29T00:00:00.000+0000</td><td>11</td><td>0</td><td>29</td></tr><tr><td>12/1/2003 0:00</td><td>329</td><td>2003-12-01T00:00:00.000+0000</td><td>12</td><td>0</td><td>1</td></tr><tr><td>12/1/2004 0:00</td><td>372</td><td>2004-12-01T00:00:00.000+0000</td><td>12</td><td>2</td><td>1</td></tr><tr><td>12/2/2004 0:00</td><td>554</td><td>2004-12-02T00:00:00.000+0000</td><td>12</td><td>3</td><td>2</td></tr><tr><td>12/2/2003 0:00</td><td>1010</td><td>2003-12-02T00:00:00.000+0000</td><td>12</td><td>1</td><td>2</td></tr><tr><td>12/3/2004 0:00</td><td>299</td><td>2004-12-03T00:00:00.000+0000</td><td>12</td><td>4</td><td>3</td></tr><tr><td>12/3/2003 0:00</td><td>180</td><td>2003-12-03T00:00:00.000+0000</td><td>12</td><td>2</td><td>3</td></tr><tr><td>12/4/2004 0:00</td><td>346</td><td>2004-12-04T00:00:00.000+0000</td><td>12</td><td>5</td><td>4</td></tr><tr><td>12/5/2003 0:00</td><td>355</td><td>2003-12-05T00:00:00.000+0000</td><td>12</td><td>4</td><td>5</td></tr><tr><td>12/7/2004 0:00</td><td>338</td><td>2004-12-07T00:00:00.000+0000</td><td>12</td><td>1</td><td>7</td></tr><tr><td>12/9/2004 0:00</td><td>301</td><td>2004-12-09T00:00:00.000+0000</td><td>12</td><td>3</td><td>9</td></tr><tr><td>12/9/2003 0:00</td><td>615</td><td>2003-12-09T00:00:00.000+0000</td><td>12</td><td>1</td><td>9</td></tr><tr><td>12/10/2004 0:00</td><td>875</td><td>2004-12-10T00:00:00.000+0000</td><td>12</td><td>4</td><td>10</td></tr><tr><td>12/15/2004 0:00</td><td>290</td><td>2004-12-15T00:00:00.000+0000</td><td>12</td><td>2</td><td>15</td></tr><tr><td>12/17/2004 0:00</td><td>429</td><td>2004-12-17T00:00:00.000+0000</td><td>12</td><td>4</td><td>17</td></tr></tbody></table></div>"
      ]
     },
     "metadata": {
      "application/vnd.databricks.v1+output": {
       "addedWidgets": {},
       "aggData": [],
       "aggError": "",
       "aggOverflow": false,
       "aggSchema": [],
       "aggSeriesLimitReached": false,
       "aggType": "",
       "arguments": {},
       "columnCustomDisplayInfos": {},
       "data": [
        [
         "1/2/2004 0:00",
         530,
         "2004-01-02T00:00:00.000+0000",
         1,
         4,
         2
        ],
        [
         "1/5/2005 0:00",
         117,
         "2005-01-05T00:00:00.000+0000",
         1,
         2,
         5
        ],
        [
         "1/6/2005 0:00",
         556,
         "2005-01-06T00:00:00.000+0000",
         1,
         3,
         6
        ],
        [
         "1/6/2003 0:00",
         151,
         "2003-01-06T00:00:00.000+0000",
         1,
         0,
         6
        ],
        [
         "1/7/2005 0:00",
         96,
         "2005-01-07T00:00:00.000+0000",
         1,
         4,
         7
        ],
        [
         "1/9/2003 0:00",
         142,
         "2003-01-09T00:00:00.000+0000",
         1,
         3,
         9
        ],
        [
         "1/9/2004 0:00",
         269,
         "2004-01-09T00:00:00.000+0000",
         1,
         4,
         9
        ],
        [
         "1/10/2003 0:00",
         80,
         "2003-01-10T00:00:00.000+0000",
         1,
         4,
         10
        ],
        [
         "1/10/2005 0:00",
         117,
         "2005-01-10T00:00:00.000+0000",
         1,
         0,
         10
        ],
        [
         "1/12/2005 0:00",
         469,
         "2005-01-12T00:00:00.000+0000",
         1,
         2,
         12
        ],
        [
         "1/12/2004 0:00",
         577,
         "2004-01-12T00:00:00.000+0000",
         1,
         0,
         12
        ],
        [
         "1/15/2004 0:00",
         530,
         "2004-01-15T00:00:00.000+0000",
         1,
         3,
         15
        ],
        [
         "1/16/2004 0:00",
         612,
         "2004-01-16T00:00:00.000+0000",
         1,
         4,
         16
        ],
        [
         "1/19/2005 0:00",
         183,
         "2005-01-19T00:00:00.000+0000",
         1,
         2,
         19
        ],
        [
         "1/20/2005 0:00",
         549,
         "2005-01-20T00:00:00.000+0000",
         1,
         3,
         20
        ],
        [
         "1/22/2004 0:00",
         90,
         "2004-01-22T00:00:00.000+0000",
         1,
         3,
         22
        ],
        [
         "1/23/2005 0:00",
         382,
         "2005-01-23T00:00:00.000+0000",
         1,
         6,
         23
        ],
        [
         "1/26/2004 0:00",
         241,
         "2004-01-26T00:00:00.000+0000",
         1,
         0,
         26
        ],
        [
         "1/26/2005 0:00",
         321,
         "2005-01-26T00:00:00.000+0000",
         1,
         2,
         26
        ],
        [
         "1/29/2003 0:00",
         541,
         "2003-01-29T00:00:00.000+0000",
         1,
         2,
         29
        ],
        [
         "1/29/2004 0:00",
         396,
         "2004-01-29T00:00:00.000+0000",
         1,
         3,
         29
        ],
        [
         "1/31/2005 0:00",
         605,
         "2005-01-31T00:00:00.000+0000",
         1,
         0,
         31
        ],
        [
         "1/31/2003 0:00",
         443,
         "2003-01-31T00:00:00.000+0000",
         1,
         4,
         31
        ],
        [
         "2/2/2004 0:00",
         43,
         "2004-02-02T00:00:00.000+0000",
         2,
         0,
         2
        ],
        [
         "2/2/2005 0:00",
         209,
         "2005-02-02T00:00:00.000+0000",
         2,
         2,
         2
        ],
        [
         "2/3/2005 0:00",
         560,
         "2005-02-03T00:00:00.000+0000",
         2,
         3,
         3
        ],
        [
         "2/4/2004 0:00",
         240,
         "2004-02-04T00:00:00.000+0000",
         2,
         2,
         4
        ],
        [
         "2/8/2005 0:00",
         35,
         "2005-02-08T00:00:00.000+0000",
         2,
         1,
         8
        ],
        [
         "2/9/2005 0:00",
         215,
         "2005-02-09T00:00:00.000+0000",
         2,
         2,
         9
        ],
        [
         "2/10/2004 0:00",
         147,
         "2004-02-10T00:00:00.000+0000",
         2,
         1,
         10
        ],
        [
         "2/10/2005 0:00",
         536,
         "2005-02-10T00:00:00.000+0000",
         2,
         3,
         10
        ],
        [
         "2/11/2003 0:00",
         545,
         "2003-02-11T00:00:00.000+0000",
         2,
         1,
         11
        ],
        [
         "2/12/2004 0:00",
         289,
         "2004-02-12T00:00:00.000+0000",
         2,
         3,
         12
        ],
        [
         "2/16/2005 0:00",
         438,
         "2005-02-16T00:00:00.000+0000",
         2,
         2,
         16
        ],
        [
         "2/17/2005 0:00",
         768,
         "2005-02-17T00:00:00.000+0000",
         2,
         3,
         17
        ],
        [
         "2/17/2003 0:00",
         675,
         "2003-02-17T00:00:00.000+0000",
         2,
         0,
         17
        ],
        [
         "2/18/2004 0:00",
         167,
         "2004-02-18T00:00:00.000+0000",
         2,
         2,
         18
        ],
        [
         "2/19/2004 0:00",
         717,
         "2004-02-19T00:00:00.000+0000",
         2,
         3,
         19
        ],
        [
         "2/20/2004 0:00",
         497,
         "2004-02-20T00:00:00.000+0000",
         2,
         4,
         20
        ],
        [
         "2/21/2004 0:00",
         241,
         "2004-02-21T00:00:00.000+0000",
         2,
         5,
         21
        ],
        [
         "2/22/2004 0:00",
         483,
         "2004-02-22T00:00:00.000+0000",
         2,
         6,
         22
        ],
        [
         "2/22/2005 0:00",
         416,
         "2005-02-22T00:00:00.000+0000",
         2,
         1,
         22
        ],
        [
         "2/23/2005 0:00",
         154,
         "2005-02-23T00:00:00.000+0000",
         2,
         2,
         23
        ],
        [
         "2/24/2003 0:00",
         229,
         "2003-02-24T00:00:00.000+0000",
         2,
         0,
         24
        ],
        [
         "2/26/2004 0:00",
         237,
         "2004-02-26T00:00:00.000+0000",
         2,
         3,
         26
        ],
        [
         "2/28/2005 0:00",
         62,
         "2005-02-28T00:00:00.000+0000",
         2,
         0,
         28
        ],
        [
         "3/1/2005 0:00",
         650,
         "2005-03-01T00:00:00.000+0000",
         3,
         1,
         1
        ],
        [
         "3/2/2005 0:00",
         44,
         "2005-03-02T00:00:00.000+0000",
         3,
         2,
         2
        ],
        [
         "3/2/2004 0:00",
         502,
         "2004-03-02T00:00:00.000+0000",
         3,
         1,
         2
        ],
        [
         "3/3/2003 0:00",
         561,
         "2003-03-03T00:00:00.000+0000",
         3,
         0,
         3
        ],
        [
         "3/3/2005 0:00",
         631,
         "2005-03-03T00:00:00.000+0000",
         3,
         3,
         3
        ],
        [
         "3/4/2005 0:00",
         603,
         "2005-03-04T00:00:00.000+0000",
         3,
         4,
         4
        ],
        [
         "3/9/2005 0:00",
         339,
         "2005-03-09T00:00:00.000+0000",
         3,
         2,
         9
        ],
        [
         "3/10/2003 0:00",
         212,
         "2003-03-10T00:00:00.000+0000",
         3,
         0,
         10
        ],
        [
         "3/10/2005 0:00",
         102,
         "2005-03-10T00:00:00.000+0000",
         3,
         3,
         10
        ],
        [
         "3/10/2004 0:00",
         194,
         "2004-03-10T00:00:00.000+0000",
         3,
         2,
         10
        ],
        [
         "3/11/2004 0:00",
         476,
         "2004-03-11T00:00:00.000+0000",
         3,
         3,
         11
        ],
        [
         "3/15/2004 0:00",
         338,
         "2004-03-15T00:00:00.000+0000",
         3,
         0,
         15
        ],
        [
         "3/15/2005 0:00",
         239,
         "2005-03-15T00:00:00.000+0000",
         3,
         1,
         15
        ],
        [
         "3/17/2005 0:00",
         156,
         "2005-03-17T00:00:00.000+0000",
         3,
         3,
         17
        ],
        [
         "3/18/2003 0:00",
         570,
         "2003-03-18T00:00:00.000+0000",
         3,
         1,
         18
        ],
        [
         "3/19/2004 0:00",
         91,
         "2004-03-19T00:00:00.000+0000",
         3,
         4,
         19
        ],
        [
         "3/20/2004 0:00",
         272,
         "2004-03-20T00:00:00.000+0000",
         3,
         5,
         20
        ],
        [
         "3/23/2005 0:00",
         287,
         "2005-03-23T00:00:00.000+0000",
         3,
         2,
         23
        ],
        [
         "3/24/2003 0:00",
         52,
         "2003-03-24T00:00:00.000+0000",
         3,
         0,
         24
        ],
        [
         "3/25/2003 0:00",
         217,
         "2003-03-25T00:00:00.000+0000",
         3,
         1,
         25
        ],
        [
         "3/26/2003 0:00",
         143,
         "2003-03-26T00:00:00.000+0000",
         3,
         2,
         26
        ],
        [
         "3/28/2005 0:00",
         172,
         "2005-03-28T00:00:00.000+0000",
         3,
         0,
         28
        ],
        [
         "3/29/2004 0:00",
         105,
         "2004-03-29T00:00:00.000+0000",
         3,
         0,
         29
        ],
        [
         "3/30/2005 0:00",
         629,
         "2005-03-30T00:00:00.000+0000",
         3,
         2,
         30
        ],
        [
         "4/1/2003 0:00",
         351,
         "2003-04-01T00:00:00.000+0000",
         4,
         1,
         1
        ],
        [
         "4/1/2005 0:00",
         356,
         "2005-04-01T00:00:00.000+0000",
         4,
         4,
         1
        ],
        [
         "4/2/2004 0:00",
         390,
         "2004-04-02T00:00:00.000+0000",
         4,
         4,
         2
        ],
        [
         "4/3/2005 0:00",
         585,
         "2005-04-03T00:00:00.000+0000",
         4,
         6,
         3
        ],
        [
         "4/3/2004 0:00",
         81,
         "2004-04-03T00:00:00.000+0000",
         4,
         5,
         3
        ],
        [
         "4/4/2003 0:00",
         210,
         "2003-04-04T00:00:00.000+0000",
         4,
         4,
         4
        ],
        [
         "4/5/2004 0:00",
         239,
         "2004-04-05T00:00:00.000+0000",
         4,
         0,
         5
        ],
        [
         "4/7/2005 0:00",
         159,
         "2005-04-07T00:00:00.000+0000",
         4,
         3,
         7
        ],
        [
         "4/8/2005 0:00",
         371,
         "2005-04-08T00:00:00.000+0000",
         4,
         4,
         8
        ],
        [
         "4/9/2004 0:00",
         280,
         "2004-04-09T00:00:00.000+0000",
         4,
         4,
         9
        ],
        [
         "4/11/2003 0:00",
         27,
         "2003-04-11T00:00:00.000+0000",
         4,
         4,
         11
        ],
        [
         "4/12/2004 0:00",
         163,
         "2004-04-12T00:00:00.000+0000",
         4,
         0,
         12
        ],
        [
         "4/13/2004 0:00",
         497,
         "2004-04-13T00:00:00.000+0000",
         4,
         1,
         13
        ],
        [
         "4/14/2005 0:00",
         336,
         "2005-04-14T00:00:00.000+0000",
         4,
         3,
         14
        ],
        [
         "4/15/2005 0:00",
         174,
         "2005-04-15T00:00:00.000+0000",
         4,
         4,
         15
        ],
        [
         "4/16/2003 0:00",
         402,
         "2003-04-16T00:00:00.000+0000",
         4,
         2,
         16
        ],
        [
         "4/20/2004 0:00",
         46,
         "2004-04-20T00:00:00.000+0000",
         4,
         1,
         20
        ],
        [
         "4/21/2003 0:00",
         36,
         "2003-04-21T00:00:00.000+0000",
         4,
         0,
         21
        ],
        [
         "4/22/2005 0:00",
         586,
         "2005-04-22T00:00:00.000+0000",
         4,
         4,
         22
        ],
        [
         "4/23/2005 0:00",
         67,
         "2005-04-23T00:00:00.000+0000",
         4,
         5,
         23
        ],
        [
         "4/26/2004 0:00",
         80,
         "2004-04-26T00:00:00.000+0000",
         4,
         0,
         26
        ],
        [
         "4/28/2003 0:00",
         442,
         "2003-04-28T00:00:00.000+0000",
         4,
         0,
         28
        ],
        [
         "4/29/2004 0:00",
         301,
         "2004-04-29T00:00:00.000+0000",
         4,
         3,
         29
        ],
        [
         "4/29/2003 0:00",
         525,
         "2003-04-29T00:00:00.000+0000",
         4,
         1,
         29
        ],
        [
         "5/1/2005 0:00",
         285,
         "2005-05-01T00:00:00.000+0000",
         5,
         6,
         1
        ],
        [
         "5/3/2005 0:00",
         455,
         "2005-05-03T00:00:00.000+0000",
         5,
         1,
         3
        ],
        [
         "5/4/2004 0:00",
         320,
         "2004-05-04T00:00:00.000+0000",
         5,
         1,
         4
        ],
        [
         "5/5/2004 0:00",
         632,
         "2004-05-05T00:00:00.000+0000",
         5,
         2,
         5
        ],
        [
         "5/5/2005 0:00",
         229,
         "2005-05-05T00:00:00.000+0000",
         5,
         3,
         5
        ],
        [
         "5/6/2005 0:00",
         506,
         "2005-05-06T00:00:00.000+0000",
         5,
         4,
         6
        ],
        [
         "5/7/2003 0:00",
         185,
         "2003-05-07T00:00:00.000+0000",
         5,
         2,
         7
        ],
        [
         "5/7/2004 0:00",
         454,
         "2004-05-07T00:00:00.000+0000",
         5,
         4,
         7
        ],
        [
         "5/8/2003 0:00",
         545,
         "2003-05-08T00:00:00.000+0000",
         5,
         3,
         8
        ],
        [
         "5/8/2004 0:00",
         163,
         "2004-05-08T00:00:00.000+0000",
         5,
         5,
         8
        ],
        [
         "5/9/2005 0:00",
         164,
         "2005-05-09T00:00:00.000+0000",
         5,
         0,
         9
        ],
        [
         "5/10/2005 0:00",
         460,
         "2005-05-10T00:00:00.000+0000",
         5,
         1,
         10
        ],
        [
         "5/11/2004 0:00",
         521,
         "2004-05-11T00:00:00.000+0000",
         5,
         1,
         11
        ],
        [
         "5/13/2005 0:00",
         259,
         "2005-05-13T00:00:00.000+0000",
         5,
         4,
         13
        ],
        [
         "5/17/2005 0:00",
         509,
         "2005-05-17T00:00:00.000+0000",
         5,
         1,
         17
        ],
        [
         "5/18/2004 0:00",
         216,
         "2004-05-18T00:00:00.000+0000",
         5,
         1,
         18
        ],
        [
         "5/20/2003 0:00",
         156,
         "2003-05-20T00:00:00.000+0000",
         5,
         1,
         20
        ],
        [
         "5/21/2003 0:00",
         514,
         "2003-05-21T00:00:00.000+0000",
         5,
         2,
         21
        ],
        [
         "5/26/2004 0:00",
         312,
         "2004-05-26T00:00:00.000+0000",
         5,
         2,
         26
        ],
        [
         "5/28/2003 0:00",
         617,
         "2003-05-28T00:00:00.000+0000",
         5,
         2,
         28
        ],
        [
         "5/29/2005 0:00",
         607,
         "2005-05-29T00:00:00.000+0000",
         5,
         6,
         29
        ],
        [
         "5/30/2005 0:00",
         187,
         "2005-05-30T00:00:00.000+0000",
         5,
         0,
         30
        ],
        [
         "5/31/2005 0:00",
         696,
         "2005-05-31T00:00:00.000+0000",
         5,
         1,
         31
        ],
        [
         "6/1/2004 0:00",
         429,
         "2004-06-01T00:00:00.000+0000",
         6,
         1,
         1
        ],
        [
         "6/3/2003 0:00",
         540,
         "2003-06-03T00:00:00.000+0000",
         6,
         1,
         3
        ],
        [
         "6/4/2004 0:00",
         61,
         "2004-06-04T00:00:00.000+0000",
         6,
         4,
         4
        ],
        [
         "6/6/2003 0:00",
         157,
         "2003-06-06T00:00:00.000+0000",
         6,
         4,
         6
        ],
        [
         "6/8/2004 0:00",
         63,
         "2004-06-08T00:00:00.000+0000",
         6,
         1,
         8
        ],
        [
         "6/12/2003 0:00",
         349,
         "2003-06-12T00:00:00.000+0000",
         6,
         3,
         12
        ],
        [
         "6/14/2004 0:00",
         208,
         "2004-06-14T00:00:00.000+0000",
         6,
         0,
         14
        ],
        [
         "6/15/2004 0:00",
         654,
         "2004-06-15T00:00:00.000+0000",
         6,
         1,
         15
        ],
        [
         "6/16/2003 0:00",
         317,
         "2003-06-16T00:00:00.000+0000",
         6,
         0,
         16
        ],
        [
         "6/17/2004 0:00",
         287,
         "2004-06-17T00:00:00.000+0000",
         6,
         3,
         17
        ],
        [
         "6/24/2004 0:00",
         605,
         "2004-06-24T00:00:00.000+0000",
         6,
         3,
         24
        ],
        [
         "6/27/2003 0:00",
         286,
         "2003-06-27T00:00:00.000+0000",
         6,
         4,
         27
        ],
        [
         "6/28/2004 0:00",
         411,
         "2004-06-28T00:00:00.000+0000",
         6,
         0,
         28
        ],
        [
         "6/30/2004 0:00",
         253,
         "2004-06-30T00:00:00.000+0000",
         6,
         2,
         30
        ],
        [
         "7/1/2003 0:00",
         227,
         "2003-07-01T00:00:00.000+0000",
         7,
         1,
         1
        ],
        [
         "7/2/2004 0:00",
         94,
         "2004-07-02T00:00:00.000+0000",
         7,
         4,
         2
        ],
        [
         "7/2/2003 0:00",
         607,
         "2003-07-02T00:00:00.000+0000",
         7,
         2,
         2
        ],
        [
         "7/4/2003 0:00",
         102,
         "2003-07-04T00:00:00.000+0000",
         7,
         4,
         4
        ],
        [
         "7/6/2004 0:00",
         495,
         "2004-07-06T00:00:00.000+0000",
         7,
         1,
         6
        ],
        [
         "7/7/2004 0:00",
         244,
         "2004-07-07T00:00:00.000+0000",
         7,
         2,
         7
        ],
        [
         "7/10/2003 0:00",
         138,
         "2003-07-10T00:00:00.000+0000",
         7,
         3,
         10
        ],
        [
         "7/16/2003 0:00",
         266,
         "2003-07-16T00:00:00.000+0000",
         7,
         2,
         16
        ],
        [
         "7/16/2004 0:00",
         80,
         "2004-07-16T00:00:00.000+0000",
         7,
         4,
         16
        ],
        [
         "7/19/2004 0:00",
         374,
         "2004-07-19T00:00:00.000+0000",
         7,
         0,
         19
        ],
        [
         "7/20/2004 0:00",
         607,
         "2004-07-20T00:00:00.000+0000",
         7,
         1,
         20
        ],
        [
         "7/21/2004 0:00",
         679,
         "2004-07-21T00:00:00.000+0000",
         7,
         2,
         21
        ],
        [
         "7/23/2004 0:00",
         601,
         "2004-07-23T00:00:00.000+0000",
         7,
         4,
         23
        ],
        [
         "7/24/2003 0:00",
         385,
         "2003-07-24T00:00:00.000+0000",
         7,
         3,
         24
        ],
        [
         "8/1/2003 0:00",
         290,
         "2003-08-01T00:00:00.000+0000",
         8,
         4,
         1
        ],
        [
         "8/2/2004 0:00",
         527,
         "2004-08-02T00:00:00.000+0000",
         8,
         0,
         2
        ],
        [
         "8/4/2004 0:00",
         28,
         "2004-08-04T00:00:00.000+0000",
         8,
         2,
         4
        ],
        [
         "8/6/2004 0:00",
         318,
         "2004-08-06T00:00:00.000+0000",
         8,
         4,
         6
        ],
        [
         "8/8/2003 0:00",
         577,
         "2003-08-08T00:00:00.000+0000",
         8,
         4,
         8
        ],
        [
         "8/9/2004 0:00",
         236,
         "2004-08-09T00:00:00.000+0000",
         8,
         0,
         9
        ],
        [
         "8/10/2003 0:00",
         524,
         "2003-08-10T00:00:00.000+0000",
         8,
         6,
         10
        ],
        [
         "8/13/2003 0:00",
         20,
         "2003-08-13T00:00:00.000+0000",
         8,
         2,
         13
        ],
        [
         "8/17/2004 0:00",
         551,
         "2004-08-17T00:00:00.000+0000",
         8,
         1,
         17
        ],
        [
         "8/19/2004 0:00",
         449,
         "2004-08-19T00:00:00.000+0000",
         8,
         3,
         19
        ],
        [
         "8/20/2004 0:00",
         930,
         "2004-08-20T00:00:00.000+0000",
         8,
         4,
         20
        ],
        [
         "8/21/2004 0:00",
         418,
         "2004-08-21T00:00:00.000+0000",
         8,
         5,
         21
        ],
        [
         "8/25/2003 0:00",
         563,
         "2003-08-25T00:00:00.000+0000",
         8,
         0,
         25
        ],
        [
         "8/27/2004 0:00",
         474,
         "2004-08-27T00:00:00.000+0000",
         8,
         4,
         27
        ],
        [
         "8/28/2004 0:00",
         38,
         "2004-08-28T00:00:00.000+0000",
         8,
         5,
         28
        ],
        [
         "8/30/2004 0:00",
         595,
         "2004-08-30T00:00:00.000+0000",
         8,
         0,
         30
        ],
        [
         "9/1/2004 0:00",
         475,
         "2004-09-01T00:00:00.000+0000",
         9,
         2,
         1
        ],
        [
         "9/3/2004 0:00",
         150,
         "2004-09-03T00:00:00.000+0000",
         9,
         4,
         3
        ],
        [
         "9/3/2003 0:00",
         76,
         "2003-09-03T00:00:00.000+0000",
         9,
         2,
         3
        ],
        [
         "9/5/2003 0:00",
         341,
         "2003-09-05T00:00:00.000+0000",
         9,
         4,
         5
        ],
        [
         "9/7/2004 0:00",
         71,
         "2004-09-07T00:00:00.000+0000",
         9,
         1,
         7
        ],
        [
         "9/8/2004 0:00",
         909,
         "2004-09-08T00:00:00.000+0000",
         9,
         2,
         8
        ],
        [
         "9/9/2004 0:00",
         292,
         "2004-09-09T00:00:00.000+0000",
         9,
         3,
         9
        ],
        [
         "9/10/2004 0:00",
         219,
         "2004-09-10T00:00:00.000+0000",
         9,
         4,
         10
        ],
        [
         "9/11/2003 0:00",
         430,
         "2003-09-11T00:00:00.000+0000",
         9,
         3,
         11
        ],
        [
         "9/12/2003 0:00",
         367,
         "2003-09-12T00:00:00.000+0000",
         9,
         4,
         12
        ],
        [
         "9/15/2004 0:00",
         401,
         "2004-09-15T00:00:00.000+0000",
         9,
         2,
         15
        ],
        [
         "9/16/2004 0:00",
         201,
         "2004-09-16T00:00:00.000+0000",
         9,
         3,
         16
        ],
        [
         "9/19/2003 0:00",
         380,
         "2003-09-19T00:00:00.000+0000",
         9,
         4,
         19
        ],
        [
         "9/21/2003 0:00",
         342,
         "2003-09-21T00:00:00.000+0000",
         9,
         6,
         21
        ],
        [
         "9/25/2003 0:00",
         116,
         "2003-09-25T00:00:00.000+0000",
         9,
         3,
         25
        ],
        [
         "9/27/2004 0:00",
         71,
         "2004-09-27T00:00:00.000+0000",
         9,
         0,
         27
        ],
        [
         "9/28/2003 0:00",
         458,
         "2003-09-28T00:00:00.000+0000",
         9,
         6,
         28
        ],
        [
         "9/30/2004 0:00",
         382,
         "2004-09-30T00:00:00.000+0000",
         9,
         3,
         30
        ],
        [
         "10/2/2003 0:00",
         67,
         "2003-10-02T00:00:00.000+0000",
         10,
         3,
         2
        ],
        [
         "10/4/2003 0:00",
         251,
         "2003-10-04T00:00:00.000+0000",
         10,
         5,
         4
        ],
        [
         "10/5/2003 0:00",
         369,
         "2003-10-05T00:00:00.000+0000",
         10,
         6,
         5
        ],
        [
         "10/6/2003 0:00",
         700,
         "2003-10-06T00:00:00.000+0000",
         10,
         0,
         6
        ],
        [
         "10/6/2004 0:00",
         70,
         "2004-10-06T00:00:00.000+0000",
         10,
         2,
         6
        ],
        [
         "10/8/2003 0:00",
         68,
         "2003-10-08T00:00:00.000+0000",
         10,
         2,
         8
        ],
        [
         "10/10/2003 0:00",
         607,
         "2003-10-10T00:00:00.000+0000",
         10,
         4,
         10
        ],
        [
         "10/11/2003 0:00",
         231,
         "2003-10-11T00:00:00.000+0000",
         10,
         5,
         11
        ],
        [
         "10/11/2004 0:00",
         594,
         "2004-10-11T00:00:00.000+0000",
         10,
         0,
         11
        ],
        [
         "10/13/2004 0:00",
         502,
         "2004-10-13T00:00:00.000+0000",
         10,
         2,
         13
        ],
        [
         "10/14/2004 0:00",
         864,
         "2004-10-14T00:00:00.000+0000",
         10,
         3,
         14
        ],
        [
         "10/15/2004 0:00",
         734,
         "2004-10-15T00:00:00.000+0000",
         10,
         4,
         15
        ],
        [
         "10/16/2004 0:00",
         1002,
         "2004-10-16T00:00:00.000+0000",
         10,
         5,
         16
        ],
        [
         "10/17/2003 0:00",
         358,
         "2003-10-17T00:00:00.000+0000",
         10,
         4,
         17
        ],
        [
         "10/18/2003 0:00",
         391,
         "2003-10-18T00:00:00.000+0000",
         10,
         5,
         18
        ],
        [
         "10/20/2003 0:00",
         225,
         "2003-10-20T00:00:00.000+0000",
         10,
         0,
         20
        ],
        [
         "10/21/2003 0:00",
         386,
         "2003-10-21T00:00:00.000+0000",
         10,
         1,
         21
        ],
        [
         "10/21/2004 0:00",
         601,
         "2004-10-21T00:00:00.000+0000",
         10,
         3,
         21
        ],
        [
         "10/22/2003 0:00",
         670,
         "2003-10-22T00:00:00.000+0000",
         10,
         2,
         22
        ],
        [
         "10/22/2004 0:00",
         872,
         "2004-10-22T00:00:00.000+0000",
         10,
         4,
         22
        ],
        [
         "10/23/2003 0:00",
         550,
         "2003-10-23T00:00:00.000+0000",
         10,
         3,
         23
        ],
        [
         "10/28/2003 0:00",
         642,
         "2003-10-28T00:00:00.000+0000",
         10,
         1,
         28
        ],
        [
         "10/29/2004 0:00",
         244,
         "2004-10-29T00:00:00.000+0000",
         10,
         4,
         29
        ],
        [
         "11/1/2004 0:00",
         928,
         "2004-11-01T00:00:00.000+0000",
         11,
         0,
         1
        ],
        [
         "11/2/2004 0:00",
         407,
         "2004-11-02T00:00:00.000+0000",
         11,
         1,
         2
        ],
        [
         "11/3/2004 0:00",
         490,
         "2004-11-03T00:00:00.000+0000",
         11,
         2,
         3
        ],
        [
         "11/4/2003 0:00",
         586,
         "2003-11-04T00:00:00.000+0000",
         11,
         1,
         4
        ],
        [
         "11/4/2004 0:00",
         1002,
         "2004-11-04T00:00:00.000+0000",
         11,
         3,
         4
        ],
        [
         "11/5/2004 0:00",
         877,
         "2004-11-05T00:00:00.000+0000",
         11,
         4,
         5
        ],
        [
         "11/5/2003 0:00",
         888,
         "2003-11-05T00:00:00.000+0000",
         11,
         2,
         5
        ],
        [
         "11/6/2003 0:00",
         977,
         "2003-11-06T00:00:00.000+0000",
         11,
         3,
         6
        ],
        [
         "11/7/2003 0:00",
         377,
         "2003-11-07T00:00:00.000+0000",
         11,
         4,
         7
        ],
        [
         "11/8/2003 0:00",
         413,
         "2003-11-08T00:00:00.000+0000",
         11,
         5,
         8
        ],
        [
         "11/9/2004 0:00",
         223,
         "2004-11-09T00:00:00.000+0000",
         11,
         1,
         9
        ],
        [
         "11/10/2004 0:00",
         253,
         "2004-11-10T00:00:00.000+0000",
         11,
         2,
         10
        ],
        [
         "11/11/2003 0:00",
         458,
         "2003-11-11T00:00:00.000+0000",
         11,
         1,
         11
        ],
        [
         "11/12/2003 0:00",
         1093,
         "2003-11-12T00:00:00.000+0000",
         11,
         2,
         12
        ],
        [
         "11/12/2004 0:00",
         495,
         "2004-11-12T00:00:00.000+0000",
         11,
         4,
         12
        ],
        [
         "11/13/2003 0:00",
         391,
         "2003-11-13T00:00:00.000+0000",
         11,
         3,
         13
        ],
        [
         "11/14/2003 0:00",
         1306,
         "2003-11-14T00:00:00.000+0000",
         11,
         4,
         14
        ],
        [
         "11/15/2004 0:00",
         532,
         "2004-11-15T00:00:00.000+0000",
         11,
         0,
         15
        ],
        [
         "11/16/2004 0:00",
         158,
         "2004-11-16T00:00:00.000+0000",
         11,
         1,
         16
        ],
        [
         "11/17/2004 0:00",
         1058,
         "2004-11-17T00:00:00.000+0000",
         11,
         2,
         17
        ],
        [
         "11/18/2003 0:00",
         329,
         "2003-11-18T00:00:00.000+0000",
         11,
         1,
         18
        ],
        [
         "11/18/2004 0:00",
         261,
         "2004-11-18T00:00:00.000+0000",
         11,
         3,
         18
        ],
        [
         "11/19/2004 0:00",
         334,
         "2004-11-19T00:00:00.000+0000",
         11,
         4,
         19
        ],
        [
         "11/19/2003 0:00",
         170,
         "2003-11-19T00:00:00.000+0000",
         11,
         2,
         19
        ],
        [
         "11/20/2003 0:00",
         902,
         "2003-11-20T00:00:00.000+0000",
         11,
         3,
         20
        ],
        [
         "11/20/2004 0:00",
         447,
         "2004-11-20T00:00:00.000+0000",
         11,
         5,
         20
        ],
        [
         "11/21/2003 0:00",
         447,
         "2003-11-21T00:00:00.000+0000",
         11,
         4,
         21
        ],
        [
         "11/21/2004 0:00",
         285,
         "2004-11-21T00:00:00.000+0000",
         11,
         6,
         21
        ],
        [
         "11/22/2004 0:00",
         114,
         "2004-11-22T00:00:00.000+0000",
         11,
         0,
         22
        ],
        [
         "11/23/2004 0:00",
         614,
         "2004-11-23T00:00:00.000+0000",
         11,
         1,
         23
        ],
        [
         "11/24/2004 0:00",
         1365,
         "2004-11-24T00:00:00.000+0000",
         11,
         2,
         24
        ],
        [
         "11/25/2003 0:00",
         781,
         "2003-11-25T00:00:00.000+0000",
         11,
         1,
         25
        ],
        [
         "11/25/2004 0:00",
         254,
         "2004-11-25T00:00:00.000+0000",
         11,
         3,
         25
        ],
        [
         "11/26/2003 0:00",
         819,
         "2003-11-26T00:00:00.000+0000",
         11,
         2,
         26
        ],
        [
         "11/27/2003 0:00",
         242,
         "2003-11-27T00:00:00.000+0000",
         11,
         3,
         27
        ],
        [
         "11/29/2004 0:00",
         581,
         "2004-11-29T00:00:00.000+0000",
         11,
         0,
         29
        ],
        [
         "12/1/2003 0:00",
         329,
         "2003-12-01T00:00:00.000+0000",
         12,
         0,
         1
        ],
        [
         "12/1/2004 0:00",
         372,
         "2004-12-01T00:00:00.000+0000",
         12,
         2,
         1
        ],
        [
         "12/2/2004 0:00",
         554,
         "2004-12-02T00:00:00.000+0000",
         12,
         3,
         2
        ],
        [
         "12/2/2003 0:00",
         1010,
         "2003-12-02T00:00:00.000+0000",
         12,
         1,
         2
        ],
        [
         "12/3/2004 0:00",
         299,
         "2004-12-03T00:00:00.000+0000",
         12,
         4,
         3
        ],
        [
         "12/3/2003 0:00",
         180,
         "2003-12-03T00:00:00.000+0000",
         12,
         2,
         3
        ],
        [
         "12/4/2004 0:00",
         346,
         "2004-12-04T00:00:00.000+0000",
         12,
         5,
         4
        ],
        [
         "12/5/2003 0:00",
         355,
         "2003-12-05T00:00:00.000+0000",
         12,
         4,
         5
        ],
        [
         "12/7/2004 0:00",
         338,
         "2004-12-07T00:00:00.000+0000",
         12,
         1,
         7
        ],
        [
         "12/9/2004 0:00",
         301,
         "2004-12-09T00:00:00.000+0000",
         12,
         3,
         9
        ],
        [
         "12/9/2003 0:00",
         615,
         "2003-12-09T00:00:00.000+0000",
         12,
         1,
         9
        ],
        [
         "12/10/2004 0:00",
         875,
         "2004-12-10T00:00:00.000+0000",
         12,
         4,
         10
        ],
        [
         "12/15/2004 0:00",
         290,
         "2004-12-15T00:00:00.000+0000",
         12,
         2,
         15
        ],
        [
         "12/17/2004 0:00",
         429,
         "2004-12-17T00:00:00.000+0000",
         12,
         4,
         17
        ]
       ],
       "datasetInfos": [],
       "dbfsResultPath": null,
       "isJsonSchema": true,
       "metadata": {},
       "overflow": false,
       "plotOptions": {
        "customPlotOptions": {},
        "displayType": "table",
        "pivotAggregation": null,
        "pivotColumns": null,
        "xColumns": null,
        "yColumns": null
       },
       "removedWidgets": [],
       "schema": [
        {
         "metadata": "{}",
         "name": "ORDERDATE",
         "type": "\"string\""
        },
        {
         "metadata": "{}",
         "name": "QUANTITY_ORDERED",
         "type": "\"long\""
        },
        {
         "metadata": "{}",
         "name": "ORDERDATE_DATETIME",
         "type": "\"timestamp\""
        },
        {
         "metadata": "{}",
         "name": "ORDER_MONTH",
         "type": "\"integer\""
        },
        {
         "metadata": "{}",
         "name": "WEEK_DAY",
         "type": "\"integer\""
        },
        {
         "metadata": "{}",
         "name": "DAY_OF_MONTH",
         "type": "\"integer\""
        }
       ],
       "type": "table"
      }
     },
     "output_type": "display_data"
    },
    {
     "output_type": "display_data",
     "data": {
      "text/plain": [
       "Databricks visualization. Run in Databricks to view."
      ]
     },
     "metadata": {
      "application/vnd.databricks.v1.subcommand+json": {
       "baseErrorDetails": null,
       "bindings": {},
       "collapsed": false,
       "command": "%sql WITH q AS (SELECT\n    ORDERDATE,avg(sales) AVG_SALES,\n    to_timestamp(ORDERDATE, 'M/d/yyyy H:mm') AS ORDERDATE_DATETIME,\n    month(to_timestamp(ORDERDATE, 'M/d/yyyy H:mm')) AS ORDER_MONTH,\n    day(to_timestamp(ORDERDATE, 'M/d/yyyy H:mm')) AS ORDER_DAY\nFROM\n    productssales\nGROUP BY \n    ORDERDATE,\n    ORDER_MONTH,\n    ORDER_DAY\nORDER BY \n    ORDER_MONTH,\n    ORDER_DAY) SELECT `ORDER_DAY`,AVG(`AVG_SALES`) `column_357a6aa532` FROM q GROUP BY `ORDER_DAY`",
       "commandTitle": "Visualization 1",
       "commandType": "auto",
       "commandVersion": 0,
       "commentThread": [],
       "commentsVisible": false,
       "contentSha256Hex": null,
       "customPlotOptions": {
        "redashChart": [
         {
          "key": "type",
          "value": "CHART"
         },
         {
          "key": "options",
          "value": {
           "alignYAxesAtZero": true,
           "coefficient": 1,
           "columnConfigurationMap": {
            "series": {
             "column": "ORDER_MONTH",
             "id": "column_357a6aa536"
            },
            "x": {
             "column": "WEEK_DAY",
             "id": "column_357a6aa542"
            },
            "y": [
             {
              "column": "QUANTITY_ORDERED",
              "id": "column_357a6aa532",
              "transform": "AVG"
             }
            ]
           },
           "dateTimeFormat": "DD/MM/YYYY HH:mm",
           "direction": {
            "type": "counterclockwise"
           },
           "error_y": {
            "type": "data",
            "visible": true
           },
           "globalSeriesType": "line",
           "isAggregationOn": true,
           "legend": {
            "traceorder": "normal"
           },
           "missingValuesAsZero": false,
           "numberFormat": "0,0.[00000]",
           "percentFormat": "0[.]00%",
           "series": {
            "error_y": {
             "type": "data",
             "visible": true
            },
            "stacking": null
           },
           "seriesOptions": {
            "1": {
             "name": "JAN"
            },
            "10": {
             "name": "OCT"
            },
            "11": {
             "name": "NOV"
            },
            "12": {
             "name": "DEC"
            },
            "2": {
             "name": "FEB"
            },
            "3": {
             "name": "MAR"
            },
            "4": {
             "name": "APR"
            },
            "5": {
             "name": "MAY"
            },
            "6": {
             "name": "JUNE"
            },
            "7": {
             "name": "JULY"
            },
            "8": {
             "name": "AUG"
            },
            "9": {
             "name": "SEPT"
            },
            "column_357a6aa532": {
             "type": "line",
             "yAxis": 0
            }
           },
           "showDataLabels": false,
           "sizemode": "diameter",
           "sortX": true,
           "sortY": true,
           "swappedAxes": false,
           "textFormat": "",
           "useAggregationsUi": true,
           "valuesOptions": {},
           "version": 2,
           "xAxis": {
            "labels": {
             "enabled": true
            },
            "type": "-"
           },
           "yAxis": [
            {
             "type": "-"
            },
            {
             "opposite": true,
             "type": "-"
            }
           ]
          }
         }
        ]
       },
       "datasetPreviewNameToCmdIdMap": {},
       "diffDeletes": [],
       "diffInserts": [],
       "displayType": "redashChart",
       "error": null,
       "errorDetails": null,
       "errorSummary": null,
       "errorTraceType": null,
       "finishTime": 0,
       "globalVars": {},
       "guid": "",
       "height": "auto",
       "hideCommandCode": false,
       "hideCommandResult": false,
       "iPythonMetadata": null,
       "inputWidgets": {},
       "isLockedInExamMode": false,
       "latestUser": "a user",
       "latestUserId": null,
       "listResultMetadata": null,
       "metadata": {},
       "nuid": "8f61b1e9-4632-4802-98ae-0d7bd722765d",
       "origId": 0,
       "parentHierarchy": [],
       "pivotAggregation": null,
       "pivotColumns": null,
       "position": 11.0,
       "resultDbfsErrorMessage": null,
       "resultDbfsStatus": "INLINED_IN_TREE",
       "results": null,
       "showCommandTitle": false,
       "startTime": 0,
       "state": "input",
       "streamStates": {},
       "subcommandOptions": {
        "queryPlan": {
         "groups": [
          {
           "column": "WEEK_DAY",
           "type": "column"
          },
          {
           "column": "ORDER_MONTH",
           "type": "column"
          }
         ],
         "selects": [
          {
           "column": "WEEK_DAY",
           "type": "column"
          },
          {
           "alias": "column_357a6aa532",
           "args": [
            {
             "column": "QUANTITY_ORDERED",
             "type": "column"
            }
           ],
           "function": "AVG",
           "type": "function"
          },
          {
           "column": "ORDER_MONTH",
           "type": "column"
          }
         ]
        }
       },
       "submitTime": 0,
       "subtype": "tableResultSubCmd.visualization",
       "tableResultIndex": 0,
       "tableResultSettingsMap": null,
       "useConsistentColors": false,
       "version": "CommandV1",
       "width": "auto",
       "workflows": [],
       "xColumns": null,
       "yColumns": null
      }
     },
     "output_type": "display_data"
    }
   ],
   "source": [
    "%sql\n",
    "SELECT\n",
    "    ORDERDATE,SUM(QUANTITYORDERED) QUANTITY_ORDERED,\n",
    "    to_timestamp(ORDERDATE, 'M/d/yyyy H:mm') AS ORDERDATE_DATETIME,\n",
    "    month(to_timestamp(ORDERDATE, 'M/d/yyyy H:mm')) AS ORDER_MONTH,\n",
    "    weekday(to_timestamp(ORDERDATE, 'M/d/yyyy H:mm')) AS WEEK_DAY,\n",
    "    day(to_timestamp(ORDERDATE, 'M/d/yyyy H:mm')) AS DAY_OF_MONTH\n",
    "FROM\n",
    "    productssales\n",
    "GROUP BY \n",
    "    ORDERDATE,\n",
    "    ORDER_MONTH,\n",
    "    DAY_OF_MONTH\n",
    "ORDER BY \n",
    "    ORDER_MONTH,\n",
    "    DAY_OF_MONTH;\n"
   ]
  },
  {
   "cell_type": "code",
   "execution_count": 0,
   "metadata": {
    "application/vnd.databricks.v1+cell": {
     "cellMetadata": {
      "byteLimit": 2048000,
      "implicitDf": true,
      "rowLimit": 10000
     },
     "inputWidgets": {},
     "nuid": "a9863b4e-ba5b-4326-8f13-66acb4952b78",
     "showTitle": false,
     "title": ""
    }
   },
   "outputs": [
    {
     "output_type": "display_data",
     "data": {
      "text/html": [
       "<style scoped>\n",
       "  .table-result-container {\n",
       "    max-height: 300px;\n",
       "    overflow: auto;\n",
       "  }\n",
       "  table, th, td {\n",
       "    border: 1px solid black;\n",
       "    border-collapse: collapse;\n",
       "  }\n",
       "  th, td {\n",
       "    padding: 5px;\n",
       "  }\n",
       "  th {\n",
       "    text-align: left;\n",
       "  }\n",
       "</style><div class='table-result-container'><table class='table-result'><thead style='background-color: white'><tr><th>CITY</th><th>quantity</th></tr></thead><tbody><tr><td>Madrid</td><td>10958</td></tr><tr><td>San Rafael</td><td>6366</td></tr><tr><td>NYC</td><td>5294</td></tr><tr><td>Singapore</td><td>2760</td></tr><tr><td>Paris</td><td>2521</td></tr><tr><td>San Francisco</td><td>2139</td></tr><tr><td>Nantes</td><td>2102</td></tr><tr><td>New Bedford</td><td>2043</td></tr><tr><td>Melbourne</td><td>1926</td></tr><tr><td>Manchester</td><td>1778</td></tr></tbody></table></div>"
      ]
     },
     "metadata": {
      "application/vnd.databricks.v1+output": {
       "addedWidgets": {},
       "aggData": [],
       "aggError": "",
       "aggOverflow": false,
       "aggSchema": [],
       "aggSeriesLimitReached": false,
       "aggType": "",
       "arguments": {},
       "columnCustomDisplayInfos": {},
       "data": [
        [
         "Madrid",
         10958
        ],
        [
         "San Rafael",
         6366
        ],
        [
         "NYC",
         5294
        ],
        [
         "Singapore",
         2760
        ],
        [
         "Paris",
         2521
        ],
        [
         "San Francisco",
         2139
        ],
        [
         "Nantes",
         2102
        ],
        [
         "New Bedford",
         2043
        ],
        [
         "Melbourne",
         1926
        ],
        [
         "Manchester",
         1778
        ]
       ],
       "datasetInfos": [],
       "dbfsResultPath": null,
       "isJsonSchema": true,
       "metadata": {},
       "overflow": false,
       "plotOptions": {
        "customPlotOptions": {},
        "displayType": "table",
        "pivotAggregation": null,
        "pivotColumns": null,
        "xColumns": null,
        "yColumns": null
       },
       "removedWidgets": [],
       "schema": [
        {
         "metadata": "{}",
         "name": "CITY",
         "type": "\"string\""
        },
        {
         "metadata": "{}",
         "name": "quantity",
         "type": "\"long\""
        }
       ],
       "type": "table"
      }
     },
     "output_type": "display_data"
    },
    {
     "output_type": "display_data",
     "data": {
      "text/plain": [
       "Databricks visualization. Run in Databricks to view."
      ]
     },
     "metadata": {
      "application/vnd.databricks.v1.subcommand+json": {
       "baseErrorDetails": null,
       "bindings": {},
       "collapsed": false,
       "command": "%sql WITH q AS (SELECT\n    CITY,round(sum(QUANTITYORDERED)) as quantity\nFROM\n    productssales\ngroup by city\nORDER BY \n    quantity\nLIMIT 10) SELECT `CITY`,SUM(`quantity`) `column_357a6aa553` FROM q GROUP BY `CITY`",
       "commandTitle": "Visualization 1",
       "commandType": "auto",
       "commandVersion": 0,
       "commentThread": [],
       "commentsVisible": false,
       "contentSha256Hex": null,
       "customPlotOptions": {
        "redashChart": [
         {
          "key": "type",
          "value": "CHART"
         },
         {
          "key": "options",
          "value": {
           "alignYAxesAtZero": true,
           "coefficient": 1,
           "columnConfigurationMap": {
            "x": {
             "column": "CITY",
             "id": "column_357a6aa552"
            },
            "y": [
             {
              "column": "quantity",
              "id": "column_357a6aa553",
              "transform": "SUM"
             }
            ]
           },
           "dateTimeFormat": "DD/MM/YYYY HH:mm",
           "direction": {
            "type": "counterclockwise"
           },
           "error_y": {
            "type": "data",
            "visible": true
           },
           "globalSeriesType": "column",
           "isAggregationOn": true,
           "legend": {
            "traceorder": "normal"
           },
           "missingValuesAsZero": true,
           "numberFormat": "0,0.[00000]",
           "percentFormat": "0[.]00%",
           "series": {
            "error_y": {
             "type": "data",
             "visible": true
            },
            "stacking": null
           },
           "seriesOptions": {
            "column_357a6aa553": {
             "color": "#C63FA9",
             "name": "quantity",
             "yAxis": 0
            }
           },
           "showDataLabels": false,
           "sizemode": "diameter",
           "sortX": true,
           "sortY": true,
           "swappedAxes": true,
           "textFormat": "",
           "useAggregationsUi": true,
           "valuesOptions": {},
           "version": 2,
           "xAxis": {
            "labels": {
             "enabled": true
            },
            "type": "-"
           },
           "yAxis": [
            {
             "type": "-"
            },
            {
             "opposite": true,
             "type": "-"
            }
           ]
          }
         }
        ]
       },
       "datasetPreviewNameToCmdIdMap": {},
       "diffDeletes": [],
       "diffInserts": [],
       "displayType": "redashChart",
       "error": null,
       "errorDetails": null,
       "errorSummary": null,
       "errorTraceType": null,
       "finishTime": 0,
       "globalVars": {},
       "guid": "",
       "height": "auto",
       "hideCommandCode": false,
       "hideCommandResult": false,
       "iPythonMetadata": null,
       "inputWidgets": {},
       "isLockedInExamMode": false,
       "latestUser": "a user",
       "latestUserId": null,
       "listResultMetadata": null,
       "metadata": {},
       "nuid": "d64f2916-2ce1-4407-9bc7-7531b1ff32ca",
       "origId": 0,
       "parentHierarchy": [],
       "pivotAggregation": null,
       "pivotColumns": null,
       "position": 12.0,
       "resultDbfsErrorMessage": null,
       "resultDbfsStatus": "INLINED_IN_TREE",
       "results": null,
       "showCommandTitle": false,
       "startTime": 0,
       "state": "input",
       "streamStates": {},
       "subcommandOptions": {
        "queryPlan": {
         "groups": [
          {
           "column": "CITY",
           "type": "column"
          }
         ],
         "selects": [
          {
           "column": "CITY",
           "type": "column"
          },
          {
           "alias": "column_357a6aa553",
           "args": [
            {
             "column": "quantity",
             "type": "column"
            }
           ],
           "function": "SUM",
           "type": "function"
          }
         ]
        }
       },
       "submitTime": 0,
       "subtype": "tableResultSubCmd.visualization",
       "tableResultIndex": 0,
       "tableResultSettingsMap": null,
       "useConsistentColors": false,
       "version": "CommandV1",
       "width": "auto",
       "workflows": [],
       "xColumns": null,
       "yColumns": null
      }
     },
     "output_type": "display_data"
    }
   ],
   "source": [
    "%sql\n",
    "SELECT\n",
    "    CITY,round(sum(QUANTITYORDERED)) as quantity\n",
    "FROM\n",
    "    productssales\n",
    "group by city\n",
    "ORDER BY \n",
    "    quantity DESC\n",
    "LIMIT 10;"
   ]
  },
  {
   "cell_type": "code",
   "execution_count": 0,
   "metadata": {
    "application/vnd.databricks.v1+cell": {
     "cellMetadata": {
      "byteLimit": 2048000,
      "implicitDf": true,
      "rowLimit": 10000
     },
     "inputWidgets": {},
     "nuid": "7bd6927e-8edc-4302-9ece-a8d1c3ea7948",
     "showTitle": false,
     "title": ""
    }
   },
   "outputs": [
    {
     "output_type": "display_data",
     "data": {
      "text/html": [
       "<style scoped>\n",
       "  .table-result-container {\n",
       "    max-height: 300px;\n",
       "    overflow: auto;\n",
       "  }\n",
       "  table, th, td {\n",
       "    border: 1px solid black;\n",
       "    border-collapse: collapse;\n",
       "  }\n",
       "  th, td {\n",
       "    padding: 5px;\n",
       "  }\n",
       "  th {\n",
       "    text-align: left;\n",
       "  }\n",
       "</style><div class='table-result-container'><table class='table-result'><thead style='background-color: white'><tr><th>MONTH_ID</th><th>Season</th><th>Total_Sales</th></tr></thead><tbody><tr><td>1</td><td>Winter</td><td>785874.4400000008</td></tr><tr><td>2</td><td>Winter</td><td>810441.9</td></tr><tr><td>3</td><td>Winter</td><td>754501.3900000001</td></tr><tr><td>4</td><td>Spring</td><td>669390.9600000003</td></tr><tr><td>5</td><td>Spring</td><td>923972.56</td></tr><tr><td>6</td><td>Spring</td><td>454756.77999999985</td></tr><tr><td>7</td><td>Summer</td><td>514875.9700000001</td></tr><tr><td>8</td><td>Summer</td><td>659310.5699999998</td></tr><tr><td>9</td><td>Summer</td><td>584724.2699999999</td></tr><tr><td>10</td><td>Fall</td><td>1121215.2199999997</td></tr><tr><td>11</td><td>Fall</td><td>2118885.67</td></tr><tr><td>12</td><td>Fall</td><td>634679.1199999998</td></tr></tbody></table></div>"
      ]
     },
     "metadata": {
      "application/vnd.databricks.v1+output": {
       "addedWidgets": {},
       "aggData": [],
       "aggError": "",
       "aggOverflow": false,
       "aggSchema": [],
       "aggSeriesLimitReached": false,
       "aggType": "",
       "arguments": {},
       "columnCustomDisplayInfos": {},
       "data": [
        [
         1,
         "Winter",
         785874.4400000008
        ],
        [
         2,
         "Winter",
         810441.9
        ],
        [
         3,
         "Winter",
         754501.3900000001
        ],
        [
         4,
         "Spring",
         669390.9600000003
        ],
        [
         5,
         "Spring",
         923972.56
        ],
        [
         6,
         "Spring",
         454756.77999999985
        ],
        [
         7,
         "Summer",
         514875.9700000001
        ],
        [
         8,
         "Summer",
         659310.5699999998
        ],
        [
         9,
         "Summer",
         584724.2699999999
        ],
        [
         10,
         "Fall",
         1121215.2199999997
        ],
        [
         11,
         "Fall",
         2118885.67
        ],
        [
         12,
         "Fall",
         634679.1199999998
        ]
       ],
       "datasetInfos": [],
       "dbfsResultPath": null,
       "isJsonSchema": true,
       "metadata": {},
       "overflow": false,
       "plotOptions": {
        "customPlotOptions": {},
        "displayType": "table",
        "pivotAggregation": null,
        "pivotColumns": null,
        "xColumns": null,
        "yColumns": null
       },
       "removedWidgets": [],
       "schema": [
        {
         "metadata": "{}",
         "name": "MONTH_ID",
         "type": "\"integer\""
        },
        {
         "metadata": "{}",
         "name": "Season",
         "type": "\"string\""
        },
        {
         "metadata": "{}",
         "name": "Total_Sales",
         "type": "\"double\""
        }
       ],
       "type": "table"
      }
     },
     "output_type": "display_data"
    },
    {
     "output_type": "display_data",
     "data": {
      "text/plain": [
       "Databricks visualization. Run in Databricks to view."
      ]
     },
     "metadata": {
      "application/vnd.databricks.v1.subcommand+json": {
       "baseErrorDetails": null,
       "bindings": {},
       "collapsed": false,
       "command": "%sql WITH q AS (select MONTH_ID,\nCASE \n  WHEN QTR_ID == 1 THEN 'Winter'\n  WHEN QTR_ID == 2 THEN 'Spring'\n  WHEN QTR_ID == 3 THEN 'Summer'\n  WHEN QTR_ID == 4 THEN 'Fall'\nEND AS Season, sum(SALES) as Total_Sales from productssales group by MONTH_ID, QTR_ID ORDER BY MONTH_ID ASC) SELECT `MONTH_ID`,SUM(`Total_Sales`) `column_357a6aa588`,`Season` FROM q GROUP BY `MONTH_ID`,`Season`",
       "commandTitle": "Seasonal Sales Distribution",
       "commandType": "auto",
       "commandVersion": 0,
       "commentThread": [],
       "commentsVisible": false,
       "contentSha256Hex": null,
       "customPlotOptions": {
        "redashChart": [
         {
          "key": "type",
          "value": "CHART"
         },
         {
          "key": "options",
          "value": {
           "alignYAxesAtZero": true,
           "coefficient": 1,
           "columnConfigurationMap": {
            "series": {
             "column": "Season",
             "id": "column_357a6aa589"
            },
            "x": {
             "column": "MONTH_ID",
             "id": "column_357a6aa587"
            },
            "y": [
             {
              "column": "Total_Sales",
              "id": "column_357a6aa588",
              "transform": "SUM"
             }
            ]
           },
           "dateTimeFormat": "DD/MM/YYYY HH:mm",
           "direction": {
            "type": "counterclockwise"
           },
           "error_y": {
            "type": "data",
            "visible": true
           },
           "globalSeriesType": "pie",
           "isAggregationOn": true,
           "legend": {
            "traceorder": "normal"
           },
           "missingValuesAsZero": true,
           "numberFormat": "0,0.[00000]",
           "percentFormat": "0[.]00%",
           "series": {
            "error_y": {
             "type": "data",
             "visible": true
            },
            "stacking": null
           },
           "seriesOptions": {
            "column_357a6aa588": {
             "name": "Total_Sales",
             "type": "pie",
             "yAxis": 0
            }
           },
           "showDataLabels": true,
           "sizemode": "diameter",
           "sortX": true,
           "sortY": true,
           "swappedAxes": false,
           "textFormat": "",
           "useAggregationsUi": true,
           "valuesOptions": {},
           "version": 2,
           "xAxis": {
            "labels": {
             "enabled": true
            },
            "type": "-"
           },
           "yAxis": [
            {
             "type": "-"
            },
            {
             "opposite": true,
             "type": "-"
            }
           ]
          }
         }
        ]
       },
       "datasetPreviewNameToCmdIdMap": {},
       "diffDeletes": [],
       "diffInserts": [],
       "displayType": "redashChart",
       "error": null,
       "errorDetails": null,
       "errorSummary": null,
       "errorTraceType": null,
       "finishTime": 0,
       "globalVars": {},
       "guid": "",
       "height": "auto",
       "hideCommandCode": false,
       "hideCommandResult": false,
       "iPythonMetadata": null,
       "inputWidgets": {},
       "isLockedInExamMode": false,
       "latestUser": "a user",
       "latestUserId": null,
       "listResultMetadata": null,
       "metadata": {},
       "nuid": "39322a52-b975-42f2-a2c7-807708783484",
       "origId": 0,
       "parentHierarchy": [],
       "pivotAggregation": null,
       "pivotColumns": null,
       "position": 1.0,
       "resultDbfsErrorMessage": null,
       "resultDbfsStatus": "INLINED_IN_TREE",
       "results": null,
       "showCommandTitle": false,
       "startTime": 0,
       "state": "input",
       "streamStates": {},
       "subcommandOptions": {
        "queryPlan": {
         "groups": [
          {
           "column": "MONTH_ID",
           "type": "column"
          },
          {
           "column": "Season",
           "type": "column"
          }
         ],
         "selects": [
          {
           "column": "MONTH_ID",
           "type": "column"
          },
          {
           "alias": "column_357a6aa588",
           "args": [
            {
             "column": "Total_Sales",
             "type": "column"
            }
           ],
           "function": "SUM",
           "type": "function"
          },
          {
           "column": "Season",
           "type": "column"
          }
         ]
        }
       },
       "submitTime": 0,
       "subtype": "tableResultSubCmd.visualization",
       "tableResultIndex": 0,
       "tableResultSettingsMap": null,
       "useConsistentColors": false,
       "version": "CommandV1",
       "width": "auto",
       "workflows": [],
       "xColumns": null,
       "yColumns": null
      }
     },
     "output_type": "display_data"
    }
   ],
   "source": [
    "%sql\n",
    "select MONTH_ID,\n",
    "CASE \n",
    "  WHEN QTR_ID == 1 THEN 'Winter'\n",
    "  WHEN QTR_ID == 2 THEN 'Spring'\n",
    "  WHEN QTR_ID == 3 THEN 'Summer'\n",
    "  WHEN QTR_ID == 4 THEN 'Fall'\n",
    "END AS Season, sum(SALES) as Total_Sales from productssales group by MONTH_ID, QTR_ID ORDER BY MONTH_ID ASC;"
   ]
  },
  {
   "cell_type": "code",
   "execution_count": 0,
   "metadata": {
    "application/vnd.databricks.v1+cell": {
     "cellMetadata": {
      "byteLimit": 2048000,
      "implicitDf": true,
      "rowLimit": 10000
     },
     "inputWidgets": {},
     "nuid": "fba4dac8-b5da-4078-a83c-9fc5649f8859",
     "showTitle": false,
     "title": ""
    }
   },
   "outputs": [
    {
     "output_type": "display_data",
     "data": {
      "text/html": [
       "<style scoped>\n",
       "  .table-result-container {\n",
       "    max-height: 300px;\n",
       "    overflow: auto;\n",
       "  }\n",
       "  table, th, td {\n",
       "    border: 1px solid black;\n",
       "    border-collapse: collapse;\n",
       "  }\n",
       "  th, td {\n",
       "    padding: 5px;\n",
       "  }\n",
       "  th {\n",
       "    text-align: left;\n",
       "  }\n",
       "</style><div class='table-result-container'><table class='table-result'><thead style='background-color: white'><tr><th>ProductLine</th><th>QTR_ID</th><th>total_quantity</th><th>max_qty</th><th>min_qty</th></tr></thead><tbody><tr><td>Planes</td><td>1</td><td>2625</td><td>7784</td><td>693</td></tr><tr><td>Classic Cars</td><td>1</td><td>7784</td><td>7784</td><td>693</td></tr><tr><td>Ships</td><td>1</td><td>2163</td><td>7784</td><td>693</td></tr><tr><td>Trucks and Buses</td><td>1</td><td>2068</td><td>7784</td><td>693</td></tr><tr><td>Vintage Cars</td><td>1</td><td>5481</td><td>7784</td><td>693</td></tr><tr><td>Trains</td><td>1</td><td>693</td><td>7784</td><td>693</td></tr><tr><td>Motorcycles</td><td>1</td><td>2671</td><td>7784</td><td>693</td></tr><tr><td>Ships</td><td>2</td><td>1620</td><td>6447</td><td>439</td></tr><tr><td>Classic Cars</td><td>2</td><td>6447</td><td>6447</td><td>439</td></tr><tr><td>Trucks and Buses</td><td>2</td><td>2286</td><td>6447</td><td>439</td></tr><tr><td>Motorcycles</td><td>2</td><td>2721</td><td>6447</td><td>439</td></tr><tr><td>Planes</td><td>2</td><td>2773</td><td>6447</td><td>439</td></tr><tr><td>Trains</td><td>2</td><td>439</td><td>6447</td><td>439</td></tr><tr><td>Vintage Cars</td><td>2</td><td>4030</td><td>6447</td><td>439</td></tr><tr><td>Classic Cars</td><td>3</td><td>6190</td><td>6190</td><td>531</td></tr><tr><td>Trains</td><td>3</td><td>531</td><td>6190</td><td>531</td></tr><tr><td>Planes</td><td>3</td><td>1549</td><td>6190</td><td>531</td></tr><tr><td>Vintage Cars</td><td>3</td><td>3269</td><td>6190</td><td>531</td></tr><tr><td>Motorcycles</td><td>3</td><td>2214</td><td>6190</td><td>531</td></tr><tr><td>Trucks and Buses</td><td>3</td><td>1949</td><td>6190</td><td>531</td></tr><tr><td>Ships</td><td>3</td><td>1416</td><td>6190</td><td>531</td></tr><tr><td>Motorcycles</td><td>4</td><td>4057</td><td>13571</td><td>1049</td></tr><tr><td>Trains</td><td>4</td><td>1049</td><td>13571</td><td>1049</td></tr><tr><td>Ships</td><td>4</td><td>2928</td><td>13571</td><td>1049</td></tr><tr><td>Vintage Cars</td><td>4</td><td>8289</td><td>13571</td><td>1049</td></tr><tr><td>Trucks and Buses</td><td>4</td><td>4474</td><td>13571</td><td>1049</td></tr><tr><td>Classic Cars</td><td>4</td><td>13571</td><td>13571</td><td>1049</td></tr><tr><td>Planes</td><td>4</td><td>3780</td><td>13571</td><td>1049</td></tr></tbody></table></div>"
      ]
     },
     "metadata": {
      "application/vnd.databricks.v1+output": {
       "addedWidgets": {},
       "aggData": [],
       "aggError": "",
       "aggOverflow": false,
       "aggSchema": [],
       "aggSeriesLimitReached": false,
       "aggType": "",
       "arguments": {},
       "columnCustomDisplayInfos": {},
       "data": [
        [
         "Planes",
         1,
         2625,
         7784,
         693
        ],
        [
         "Classic Cars",
         1,
         7784,
         7784,
         693
        ],
        [
         "Ships",
         1,
         2163,
         7784,
         693
        ],
        [
         "Trucks and Buses",
         1,
         2068,
         7784,
         693
        ],
        [
         "Vintage Cars",
         1,
         5481,
         7784,
         693
        ],
        [
         "Trains",
         1,
         693,
         7784,
         693
        ],
        [
         "Motorcycles",
         1,
         2671,
         7784,
         693
        ],
        [
         "Ships",
         2,
         1620,
         6447,
         439
        ],
        [
         "Classic Cars",
         2,
         6447,
         6447,
         439
        ],
        [
         "Trucks and Buses",
         2,
         2286,
         6447,
         439
        ],
        [
         "Motorcycles",
         2,
         2721,
         6447,
         439
        ],
        [
         "Planes",
         2,
         2773,
         6447,
         439
        ],
        [
         "Trains",
         2,
         439,
         6447,
         439
        ],
        [
         "Vintage Cars",
         2,
         4030,
         6447,
         439
        ],
        [
         "Classic Cars",
         3,
         6190,
         6190,
         531
        ],
        [
         "Trains",
         3,
         531,
         6190,
         531
        ],
        [
         "Planes",
         3,
         1549,
         6190,
         531
        ],
        [
         "Vintage Cars",
         3,
         3269,
         6190,
         531
        ],
        [
         "Motorcycles",
         3,
         2214,
         6190,
         531
        ],
        [
         "Trucks and Buses",
         3,
         1949,
         6190,
         531
        ],
        [
         "Ships",
         3,
         1416,
         6190,
         531
        ],
        [
         "Motorcycles",
         4,
         4057,
         13571,
         1049
        ],
        [
         "Trains",
         4,
         1049,
         13571,
         1049
        ],
        [
         "Ships",
         4,
         2928,
         13571,
         1049
        ],
        [
         "Vintage Cars",
         4,
         8289,
         13571,
         1049
        ],
        [
         "Trucks and Buses",
         4,
         4474,
         13571,
         1049
        ],
        [
         "Classic Cars",
         4,
         13571,
         13571,
         1049
        ],
        [
         "Planes",
         4,
         3780,
         13571,
         1049
        ]
       ],
       "datasetInfos": [],
       "dbfsResultPath": null,
       "isJsonSchema": true,
       "metadata": {},
       "overflow": false,
       "plotOptions": {
        "customPlotOptions": {},
        "displayType": "table",
        "pivotAggregation": null,
        "pivotColumns": null,
        "xColumns": null,
        "yColumns": null
       },
       "removedWidgets": [],
       "schema": [
        {
         "metadata": "{}",
         "name": "ProductLine",
         "type": "\"string\""
        },
        {
         "metadata": "{}",
         "name": "QTR_ID",
         "type": "\"integer\""
        },
        {
         "metadata": "{}",
         "name": "total_quantity",
         "type": "\"long\""
        },
        {
         "metadata": "{}",
         "name": "max_qty",
         "type": "\"long\""
        },
        {
         "metadata": "{}",
         "name": "min_qty",
         "type": "\"long\""
        }
       ],
       "type": "table"
      }
     },
     "output_type": "display_data"
    }
   ],
   "source": [
    "%sql\n",
    "select ProductLine, QTR_ID, sum(QUANTITYORDERED) as total_quantity, MAX(sum(QUANTITYORDERED)) over(partition by qtr_id) as max_qty, MIN(sum(QUANTITYORDERED)) over(partition by qtr_id) as min_qty from productssales group by ProductLine, QTR_ID order by QTR_ID"
   ]
  },
  {
   "cell_type": "code",
   "execution_count": 0,
   "metadata": {
    "application/vnd.databricks.v1+cell": {
     "cellMetadata": {
      "byteLimit": 2048000,
      "implicitDf": true,
      "rowLimit": 10000
     },
     "inputWidgets": {},
     "nuid": "c75004a0-61b8-4a06-afc8-959d45c4ae57",
     "showTitle": false,
     "title": ""
    }
   },
   "outputs": [
    {
     "output_type": "display_data",
     "data": {
      "text/html": [
       "<style scoped>\n",
       "  .table-result-container {\n",
       "    max-height: 300px;\n",
       "    overflow: auto;\n",
       "  }\n",
       "  table, th, td {\n",
       "    border: 1px solid black;\n",
       "    border-collapse: collapse;\n",
       "  }\n",
       "  th, td {\n",
       "    padding: 5px;\n",
       "  }\n",
       "  th {\n",
       "    text-align: left;\n",
       "  }\n",
       "</style><div class='table-result-container'><table class='table-result'><thead style='background-color: white'><tr><th>ProductLine</th><th>QTR_ID</th><th>category</th></tr></thead><tbody><tr><td>Classic Cars</td><td>1</td><td>hot</td></tr><tr><td>Trains</td><td>1</td><td>cold</td></tr><tr><td>Classic Cars</td><td>2</td><td>hot</td></tr><tr><td>Trains</td><td>2</td><td>cold</td></tr><tr><td>Classic Cars</td><td>3</td><td>hot</td></tr><tr><td>Trains</td><td>3</td><td>cold</td></tr><tr><td>Trains</td><td>4</td><td>cold</td></tr><tr><td>Classic Cars</td><td>4</td><td>hot</td></tr></tbody></table></div>"
      ]
     },
     "metadata": {
      "application/vnd.databricks.v1+output": {
       "addedWidgets": {},
       "aggData": [],
       "aggError": "",
       "aggOverflow": false,
       "aggSchema": [],
       "aggSeriesLimitReached": false,
       "aggType": "",
       "arguments": {},
       "columnCustomDisplayInfos": {},
       "data": [
        [
         "Classic Cars",
         1,
         "hot"
        ],
        [
         "Trains",
         1,
         "cold"
        ],
        [
         "Classic Cars",
         2,
         "hot"
        ],
        [
         "Trains",
         2,
         "cold"
        ],
        [
         "Classic Cars",
         3,
         "hot"
        ],
        [
         "Trains",
         3,
         "cold"
        ],
        [
         "Trains",
         4,
         "cold"
        ],
        [
         "Classic Cars",
         4,
         "hot"
        ]
       ],
       "datasetInfos": [],
       "dbfsResultPath": null,
       "isJsonSchema": true,
       "metadata": {},
       "overflow": false,
       "plotOptions": {
        "customPlotOptions": {},
        "displayType": "table",
        "pivotAggregation": null,
        "pivotColumns": null,
        "xColumns": null,
        "yColumns": null
       },
       "removedWidgets": [],
       "schema": [
        {
         "metadata": "{}",
         "name": "ProductLine",
         "type": "\"string\""
        },
        {
         "metadata": "{}",
         "name": "QTR_ID",
         "type": "\"integer\""
        },
        {
         "metadata": "{}",
         "name": "category",
         "type": "\"string\""
        }
       ],
       "type": "table"
      }
     },
     "output_type": "display_data"
    }
   ],
   "source": [
    "%sql\n",
    "with my_cte as \n",
    "(select ProductLine, QTR_ID, sum(QUANTITYORDERED) as total_quantity, MAX(sum(QUANTITYORDERED)) over(partition by qtr_id) as max_qty, MIN(sum(QUANTITYORDERED)) over(partition by qtr_id) as min_qty from productssales group by ProductLine, QTR_ID order by QTR_ID)\n",
    "select ProductLine, QTR_ID,case when total_quantity=max_qty then 'hot'\n",
    "when total_quantity=min_qty then 'cold'\n",
    "else 'mid'\n",
    "end as category from my_cte group by\n",
    "ProductLine, QTR_ID,category having category='hot' or category='cold';"
   ]
  },
  {
   "cell_type": "code",
   "execution_count": 0,
   "metadata": {
    "application/vnd.databricks.v1+cell": {
     "cellMetadata": {
      "byteLimit": 2048000,
      "implicitDf": true,
      "rowLimit": 10000
     },
     "inputWidgets": {},
     "nuid": "ddf2a0a8-1bc3-4e5f-9cc9-023224e8b62e",
     "showTitle": false,
     "title": ""
    }
   },
   "outputs": [
    {
     "output_type": "display_data",
     "data": {
      "text/html": [
       "<style scoped>\n",
       "  .table-result-container {\n",
       "    max-height: 300px;\n",
       "    overflow: auto;\n",
       "  }\n",
       "  table, th, td {\n",
       "    border: 1px solid black;\n",
       "    border-collapse: collapse;\n",
       "  }\n",
       "  th, td {\n",
       "    padding: 5px;\n",
       "  }\n",
       "  th {\n",
       "    text-align: left;\n",
       "  }\n",
       "</style><div class='table-result-container'><table class='table-result'><thead style='background-color: white'><tr><th>ProductLine</th><th>QTR_ID</th><th>Category</th></tr></thead><tbody><tr><td>Classic Cars</td><td>1</td><td>Hot</td></tr><tr><td>Trains</td><td>1</td><td>Cold</td></tr><tr><td>Classic Cars</td><td>2</td><td>Hot</td></tr><tr><td>Trains</td><td>2</td><td>Cold</td></tr><tr><td>Classic Cars</td><td>3</td><td>Hot</td></tr><tr><td>Trains</td><td>3</td><td>Cold</td></tr><tr><td>Classic Cars</td><td>4</td><td>Hot</td></tr><tr><td>Trains</td><td>4</td><td>Cold</td></tr></tbody></table></div>"
      ]
     },
     "metadata": {
      "application/vnd.databricks.v1+output": {
       "addedWidgets": {},
       "aggData": [],
       "aggError": "",
       "aggOverflow": false,
       "aggSchema": [],
       "aggSeriesLimitReached": false,
       "aggType": "",
       "arguments": {},
       "columnCustomDisplayInfos": {},
       "data": [
        [
         "Classic Cars",
         1,
         "Hot"
        ],
        [
         "Trains",
         1,
         "Cold"
        ],
        [
         "Classic Cars",
         2,
         "Hot"
        ],
        [
         "Trains",
         2,
         "Cold"
        ],
        [
         "Classic Cars",
         3,
         "Hot"
        ],
        [
         "Trains",
         3,
         "Cold"
        ],
        [
         "Classic Cars",
         4,
         "Hot"
        ],
        [
         "Trains",
         4,
         "Cold"
        ]
       ],
       "datasetInfos": [],
       "dbfsResultPath": null,
       "isJsonSchema": true,
       "metadata": {},
       "overflow": false,
       "plotOptions": {
        "customPlotOptions": {},
        "displayType": "table",
        "pivotAggregation": null,
        "pivotColumns": null,
        "xColumns": null,
        "yColumns": null
       },
       "removedWidgets": [],
       "schema": [
        {
         "metadata": "{}",
         "name": "ProductLine",
         "type": "\"string\""
        },
        {
         "metadata": "{}",
         "name": "QTR_ID",
         "type": "\"integer\""
        },
        {
         "metadata": "{}",
         "name": "Category",
         "type": "\"string\""
        }
       ],
       "type": "table"
      }
     },
     "output_type": "display_data"
    }
   ],
   "source": [
    "%sql\n",
    "with my_cte as (\n",
    "select ProductLine, QTR_ID, sum(QUANTITYORDERED) as total_quantity,rank() over(partition by QTR_ID order by sum(QUANTITYORDERED) desc) as Ranked\n",
    "from productssales \n",
    "group by ProductLine, QTR_ID \n",
    "order by QTR_ID\n",
    ")\n",
    "SELECT \n",
    "    ProductLine, \n",
    "    QTR_ID,\n",
    "    CASE \n",
    "        WHEN Ranked = (SELECT Min(Ranked) FROM my_cte) THEN 'Hot'\n",
    "        WHEN Ranked = (SELECT Max(Ranked) FROM my_cte) THEN 'Cold'\n",
    "        ELSE 'Medium'\n",
    "    END AS Category\n",
    "FROM my_cte\n",
    "WHERE Ranked = (SELECT MAX(Ranked) FROM my_cte) OR Ranked = (SELECT MIN(Ranked) FROM my_cte);\n",
    "\n"
   ]
  },
  {
   "cell_type": "code",
   "execution_count": 0,
   "metadata": {
    "application/vnd.databricks.v1+cell": {
     "cellMetadata": {
      "byteLimit": 2048000,
      "implicitDf": true,
      "rowLimit": 10000
     },
     "inputWidgets": {},
     "nuid": "0bdd5d8a-296b-424a-8a52-2a679231c548",
     "showTitle": false,
     "title": ""
    }
   },
   "outputs": [
    {
     "output_type": "display_data",
     "data": {
      "text/html": [
       "<style scoped>\n",
       "  .table-result-container {\n",
       "    max-height: 300px;\n",
       "    overflow: auto;\n",
       "  }\n",
       "  table, th, td {\n",
       "    border: 1px solid black;\n",
       "    border-collapse: collapse;\n",
       "  }\n",
       "  th, td {\n",
       "    padding: 5px;\n",
       "  }\n",
       "  th {\n",
       "    text-align: left;\n",
       "  }\n",
       "</style><div class='table-result-container'><table class='table-result'><thead style='background-color: white'><tr><th>ProductLine</th><th>QTR_ID</th><th>Category</th></tr></thead><tbody><tr><td>Classic Cars</td><td>1</td><td>hot</td></tr><tr><td>Trains</td><td>1</td><td>cold</td></tr><tr><td>Classic Cars</td><td>2</td><td>hot</td></tr><tr><td>Trains</td><td>2</td><td>cold</td></tr><tr><td>Classic Cars</td><td>3</td><td>hot</td></tr><tr><td>Trains</td><td>3</td><td>cold</td></tr><tr><td>Classic Cars</td><td>4</td><td>hot</td></tr><tr><td>Trains</td><td>4</td><td>cold</td></tr></tbody></table></div>"
      ]
     },
     "metadata": {
      "application/vnd.databricks.v1+output": {
       "addedWidgets": {},
       "aggData": [],
       "aggError": "",
       "aggOverflow": false,
       "aggSchema": [],
       "aggSeriesLimitReached": false,
       "aggType": "",
       "arguments": {},
       "columnCustomDisplayInfos": {},
       "data": [
        [
         "Classic Cars",
         1,
         "hot"
        ],
        [
         "Trains",
         1,
         "cold"
        ],
        [
         "Classic Cars",
         2,
         "hot"
        ],
        [
         "Trains",
         2,
         "cold"
        ],
        [
         "Classic Cars",
         3,
         "hot"
        ],
        [
         "Trains",
         3,
         "cold"
        ],
        [
         "Classic Cars",
         4,
         "hot"
        ],
        [
         "Trains",
         4,
         "cold"
        ]
       ],
       "datasetInfos": [],
       "dbfsResultPath": null,
       "isJsonSchema": true,
       "metadata": {},
       "overflow": false,
       "plotOptions": {
        "customPlotOptions": {},
        "displayType": "table",
        "pivotAggregation": null,
        "pivotColumns": null,
        "xColumns": null,
        "yColumns": null
       },
       "removedWidgets": [],
       "schema": [
        {
         "metadata": "{}",
         "name": "ProductLine",
         "type": "\"string\""
        },
        {
         "metadata": "{}",
         "name": "QTR_ID",
         "type": "\"integer\""
        },
        {
         "metadata": "{}",
         "name": "Category",
         "type": "\"string\""
        }
       ],
       "type": "table"
      }
     },
     "output_type": "display_data"
    }
   ],
   "source": [
    "%sql\n",
    "WITH my_cte AS (\n",
    "    SELECT \n",
    "        ProductLine, \n",
    "        QTR_ID, \n",
    "        SUM(QUANTITYORDERED) AS total_quantity,\n",
    "        RANK() OVER (PARTITION BY QTR_ID ORDER BY SUM(QUANTITYORDERED) DESC) AS Ranked\n",
    "    FROM \n",
    "        productssales \n",
    "    GROUP BY \n",
    "        ProductLine, QTR_ID \n",
    "),\n",
    "\n",
    "final_cte as (\n",
    "select *,min(ranked) over(PARTITION BY QTR_ID order by QTR_ID) as min_ranked, max(ranked) over(PARTITION BY QTR_ID order by QTR_ID) as max_ranked,case when Ranked=min_ranked then 'hot'\n",
    "when Ranked=max_ranked then 'cold'\n",
    "else 'mid'\n",
    "end as category from my_cte)\n",
    "\n",
    "select ProductLine, QTR_ID, Category from final_cte\n",
    "where ranked=min_ranked or ranked=max_ranked;\n",
    "\n",
    " \n",
    "\n",
    " \n",
    " "
   ]
  },
  {
   "cell_type": "markdown",
   "metadata": {
    "application/vnd.databricks.v1+cell": {
     "cellMetadata": {},
     "inputWidgets": {},
     "nuid": "d90d1d1a-20e9-446d-83c6-1a2fca22ee9d",
     "showTitle": false,
     "title": ""
    }
   },
   "source": [
    "1)Identify Product with outliers sales in each quarter."
   ]
  },
  {
   "cell_type": "code",
   "execution_count": 0,
   "metadata": {
    "application/vnd.databricks.v1+cell": {
     "cellMetadata": {
      "byteLimit": 2048000,
      "implicitDf": true,
      "rowLimit": 10000
     },
     "inputWidgets": {},
     "nuid": "077ab723-79d0-497e-a03e-a2bb5682c6cb",
     "showTitle": false,
     "title": ""
    }
   },
   "outputs": [
    {
     "output_type": "display_data",
     "data": {
      "text/html": [
       "<style scoped>\n",
       "  .table-result-container {\n",
       "    max-height: 300px;\n",
       "    overflow: auto;\n",
       "  }\n",
       "  table, th, td {\n",
       "    border: 1px solid black;\n",
       "    border-collapse: collapse;\n",
       "  }\n",
       "  th, td {\n",
       "    padding: 5px;\n",
       "  }\n",
       "  th {\n",
       "    text-align: left;\n",
       "  }\n",
       "</style><div class='table-result-container'><table class='table-result'><thead style='background-color: white'><tr><th>QTR_ID</th><th>PRODUCTLINE</th><th>PRODUCTCODE</th><th>SALES</th></tr></thead><tbody><tr><td>1</td><td>Classic Cars</td><td>S10_1949</td><td>8254.8</td></tr><tr><td>1</td><td>Classic Cars</td><td>S18_3232</td><td>8257.0</td></tr><tr><td>1</td><td>Classic Cars</td><td>S18_4027</td><td>8258.0</td></tr><tr><td>1</td><td>Classic Cars</td><td>S12_1108</td><td>8378.58</td></tr><tr><td>1</td><td>Classic Cars</td><td>S18_2238</td><td>8448.64</td></tr><tr><td>1</td><td>Classic Cars</td><td>S12_1108</td><td>8602.92</td></tr><tr><td>1</td><td>Classic Cars</td><td>S12_1108</td><td>8690.36</td></tr><tr><td>1</td><td>Motorcycles</td><td>S10_4698</td><td>9774.03</td></tr><tr><td>1</td><td>Planes</td><td>S24_4278</td><td>10039.6</td></tr><tr><td>1</td><td>Planes</td><td>S700_1691</td><td>10066.6</td></tr><tr><td>1</td><td>Trains</td><td>S50_1514</td><td>8977.05</td></tr><tr><td>1</td><td>Trucks and Buses</td><td>S12_1666</td><td>8470.14</td></tr><tr><td>1</td><td>Vintage Cars</td><td>S24_1937</td><td>8344.71</td></tr><tr><td>1</td><td>Vintage Cars</td><td>S18_2248</td><td>8884.8</td></tr><tr><td>1</td><td>Vintage Cars</td><td>S18_3320</td><td>8935.5</td></tr><tr><td>1</td><td>Vintage Cars</td><td>S18_1342</td><td>9240.44</td></tr><tr><td>1</td><td>Vintage Cars</td><td>S18_2795</td><td>9534.5</td></tr><tr><td>2</td><td>Classic Cars</td><td>S18_1129</td><td>8374.69</td></tr><tr><td>2</td><td>Classic Cars</td><td>S12_1108</td><td>8677.8</td></tr><tr><td>2</td><td>Classic Cars</td><td>S12_4675</td><td>9048.16</td></tr><tr><td>2</td><td>Classic Cars</td><td>S24_3856</td><td>9240.0</td></tr><tr><td>2</td><td>Classic Cars</td><td>S10_4757</td><td>9661.44</td></tr><tr><td>2</td><td>Classic Cars</td><td>S18_3685</td><td>10468.9</td></tr><tr><td>2</td><td>Classic Cars</td><td>S12_1108</td><td>10606.2</td></tr><tr><td>2</td><td>Classic Cars</td><td>S12_1108</td><td>11279.2</td></tr><tr><td>2</td><td>Classic Cars</td><td>S24_3856</td><td>11739.7</td></tr><tr><td>2</td><td>Classic Cars</td><td>S18_3232</td><td>11887.8</td></tr><tr><td>2</td><td>Classic Cars</td><td>S10_1949</td><td>12001.0</td></tr><tr><td>2</td><td>Motorcycles</td><td>S10_4698</td><td>8336.94</td></tr><tr><td>2</td><td>Motorcycles</td><td>S12_2823</td><td>8648.64</td></tr><tr><td>2</td><td>Motorcycles</td><td>S10_4698</td><td>9218.16</td></tr><tr><td>2</td><td>Motorcycles</td><td>S10_4698</td><td>9264.86</td></tr><tr><td>2</td><td>Motorcycles</td><td>S10_4698</td><td>11886.6</td></tr><tr><td>2</td><td>Trucks and Buses</td><td>S24_2300</td><td>8498.0</td></tr><tr><td>2</td><td>Vintage Cars</td><td>S18_1749</td><td>14082.8</td></tr><tr><td>3</td><td>Classic Cars</td><td>S18_4721</td><td>7947.31</td></tr><tr><td>3</td><td>Classic Cars</td><td>S12_3891</td><td>7962.24</td></tr><tr><td>3</td><td>Classic Cars</td><td>S12_1099</td><td>8008.56</td></tr><tr><td>3</td><td>Classic Cars</td><td>S10_1949</td><td>8014.82</td></tr><tr><td>3</td><td>Classic Cars</td><td>S12_1108</td><td>8023.29</td></tr><tr><td>3</td><td>Classic Cars</td><td>S12_3891</td><td>8253.0</td></tr><tr><td>3</td><td>Classic Cars</td><td>S18_3232</td><td>8331.61</td></tr><tr><td>3</td><td>Classic Cars</td><td>S12_1108</td><td>8411.56</td></tr><tr><td>3</td><td>Classic Cars</td><td>S18_3482</td><td>8427.02</td></tr><tr><td>3</td><td>Classic Cars</td><td>S12_1099</td><td>9160.36</td></tr><tr><td>3</td><td>Classic Cars</td><td>S18_2238</td><td>9169.0</td></tr><tr><td>3</td><td>Classic Cars</td><td>S12_1099</td><td>9245.76</td></tr><tr><td>3</td><td>Classic Cars</td><td>S12_3891</td><td>9470.94</td></tr><tr><td>3</td><td>Classic Cars</td><td>S12_1099</td><td>9631.0</td></tr><tr><td>3</td><td>Classic Cars</td><td>S10_1949</td><td>10993.5</td></tr><tr><td>3</td><td>Motorcycles</td><td>S12_2823</td><td>8339.8</td></tr><tr><td>3</td><td>Vintage Cars</td><td>S18_2795</td><td>7956.46</td></tr><tr><td>3</td><td>Vintage Cars</td><td>S18_2795</td><td>8272.34</td></tr><tr><td>4</td><td>Classic Cars</td><td>S12_3891</td><td>7872.5</td></tr><tr><td>4</td><td>Classic Cars</td><td>S12_3891</td><td>7886.2</td></tr><tr><td>4</td><td>Classic Cars</td><td>S18_4721</td><td>7901.1</td></tr><tr><td>4</td><td>Classic Cars</td><td>S12_1108</td><td>7975.44</td></tr><tr><td>4</td><td>Classic Cars</td><td>S10_1949</td><td>8014.82</td></tr><tr><td>4</td><td>Classic Cars</td><td>S18_3232</td><td>8291.04</td></tr><tr><td>4</td><td>Classic Cars</td><td>S12_1099</td><td>8296.35</td></tr><tr><td>4</td><td>Classic Cars</td><td>S12_3148</td><td>8378.69</td></tr><tr><td>4</td><td>Classic Cars</td><td>S12_1108</td><td>8594.52</td></tr><tr><td>4</td><td>Classic Cars</td><td>S18_3232</td><td>8754.69</td></tr><tr><td>4</td><td>Classic Cars</td><td>S12_1108</td><td>8887.7</td></tr><tr><td>4</td><td>Classic Cars</td><td>S18_3232</td><td>8940.96</td></tr><tr><td>4</td><td>Classic Cars</td><td>S10_1949</td><td>9064.89</td></tr><tr><td>4</td><td>Classic Cars</td><td>S700_2824</td><td>9558.8</td></tr><tr><td>4</td><td>Classic Cars</td><td>S10_1949</td><td>10172.7</td></tr><tr><td>4</td><td>Classic Cars</td><td>S10_1949</td><td>11623.7</td></tr><tr><td>4</td><td>Motorcycles</td><td>S10_4698</td><td>8065.89</td></tr><tr><td>4</td><td>Motorcycles</td><td>S12_2823</td><td>8118.55</td></tr><tr><td>4</td><td>Motorcycles</td><td>S10_4698</td><td>8714.7</td></tr><tr><td>4</td><td>Motorcycles</td><td>S10_4698</td><td>8892.9</td></tr><tr><td>4</td><td>Trucks and Buses</td><td>S32_3522</td><td>8209.44</td></tr><tr><td>4</td><td>Trucks and Buses</td><td>S32_2509</td><td>8844.12</td></tr><tr><td>4</td><td>Vintage Cars</td><td>S18_1749</td><td>8078.4</td></tr><tr><td>4</td><td>Vintage Cars</td><td>S24_1937</td><td>9720.0</td></tr><tr><td>4</td><td>Vintage Cars</td><td>S24_3151</td><td>10758.0</td></tr><tr><td>4</td><td>Vintage Cars</td><td>S18_3320</td><td>11336.7</td></tr><tr><td>4</td><td>Vintage Cars</td><td>S18_2325</td><td>12536.5</td></tr></tbody></table></div>"
      ]
     },
     "metadata": {
      "application/vnd.databricks.v1+output": {
       "addedWidgets": {},
       "aggData": [],
       "aggError": "",
       "aggOverflow": false,
       "aggSchema": [],
       "aggSeriesLimitReached": false,
       "aggType": "",
       "arguments": {},
       "columnCustomDisplayInfos": {},
       "data": [
        [
         1,
         "Classic Cars",
         "S10_1949",
         8254.8
        ],
        [
         1,
         "Classic Cars",
         "S18_3232",
         8257.0
        ],
        [
         1,
         "Classic Cars",
         "S18_4027",
         8258.0
        ],
        [
         1,
         "Classic Cars",
         "S12_1108",
         8378.58
        ],
        [
         1,
         "Classic Cars",
         "S18_2238",
         8448.64
        ],
        [
         1,
         "Classic Cars",
         "S12_1108",
         8602.92
        ],
        [
         1,
         "Classic Cars",
         "S12_1108",
         8690.36
        ],
        [
         1,
         "Motorcycles",
         "S10_4698",
         9774.03
        ],
        [
         1,
         "Planes",
         "S24_4278",
         10039.6
        ],
        [
         1,
         "Planes",
         "S700_1691",
         10066.6
        ],
        [
         1,
         "Trains",
         "S50_1514",
         8977.05
        ],
        [
         1,
         "Trucks and Buses",
         "S12_1666",
         8470.14
        ],
        [
         1,
         "Vintage Cars",
         "S24_1937",
         8344.71
        ],
        [
         1,
         "Vintage Cars",
         "S18_2248",
         8884.8
        ],
        [
         1,
         "Vintage Cars",
         "S18_3320",
         8935.5
        ],
        [
         1,
         "Vintage Cars",
         "S18_1342",
         9240.44
        ],
        [
         1,
         "Vintage Cars",
         "S18_2795",
         9534.5
        ],
        [
         2,
         "Classic Cars",
         "S18_1129",
         8374.69
        ],
        [
         2,
         "Classic Cars",
         "S12_1108",
         8677.8
        ],
        [
         2,
         "Classic Cars",
         "S12_4675",
         9048.16
        ],
        [
         2,
         "Classic Cars",
         "S24_3856",
         9240.0
        ],
        [
         2,
         "Classic Cars",
         "S10_4757",
         9661.44
        ],
        [
         2,
         "Classic Cars",
         "S18_3685",
         10468.9
        ],
        [
         2,
         "Classic Cars",
         "S12_1108",
         10606.2
        ],
        [
         2,
         "Classic Cars",
         "S12_1108",
         11279.2
        ],
        [
         2,
         "Classic Cars",
         "S24_3856",
         11739.7
        ],
        [
         2,
         "Classic Cars",
         "S18_3232",
         11887.8
        ],
        [
         2,
         "Classic Cars",
         "S10_1949",
         12001.0
        ],
        [
         2,
         "Motorcycles",
         "S10_4698",
         8336.94
        ],
        [
         2,
         "Motorcycles",
         "S12_2823",
         8648.64
        ],
        [
         2,
         "Motorcycles",
         "S10_4698",
         9218.16
        ],
        [
         2,
         "Motorcycles",
         "S10_4698",
         9264.86
        ],
        [
         2,
         "Motorcycles",
         "S10_4698",
         11886.6
        ],
        [
         2,
         "Trucks and Buses",
         "S24_2300",
         8498.0
        ],
        [
         2,
         "Vintage Cars",
         "S18_1749",
         14082.8
        ],
        [
         3,
         "Classic Cars",
         "S18_4721",
         7947.31
        ],
        [
         3,
         "Classic Cars",
         "S12_3891",
         7962.24
        ],
        [
         3,
         "Classic Cars",
         "S12_1099",
         8008.56
        ],
        [
         3,
         "Classic Cars",
         "S10_1949",
         8014.82
        ],
        [
         3,
         "Classic Cars",
         "S12_1108",
         8023.29
        ],
        [
         3,
         "Classic Cars",
         "S12_3891",
         8253.0
        ],
        [
         3,
         "Classic Cars",
         "S18_3232",
         8331.61
        ],
        [
         3,
         "Classic Cars",
         "S12_1108",
         8411.56
        ],
        [
         3,
         "Classic Cars",
         "S18_3482",
         8427.02
        ],
        [
         3,
         "Classic Cars",
         "S12_1099",
         9160.36
        ],
        [
         3,
         "Classic Cars",
         "S18_2238",
         9169.0
        ],
        [
         3,
         "Classic Cars",
         "S12_1099",
         9245.76
        ],
        [
         3,
         "Classic Cars",
         "S12_3891",
         9470.94
        ],
        [
         3,
         "Classic Cars",
         "S12_1099",
         9631.0
        ],
        [
         3,
         "Classic Cars",
         "S10_1949",
         10993.5
        ],
        [
         3,
         "Motorcycles",
         "S12_2823",
         8339.8
        ],
        [
         3,
         "Vintage Cars",
         "S18_2795",
         7956.46
        ],
        [
         3,
         "Vintage Cars",
         "S18_2795",
         8272.34
        ],
        [
         4,
         "Classic Cars",
         "S12_3891",
         7872.5
        ],
        [
         4,
         "Classic Cars",
         "S12_3891",
         7886.2
        ],
        [
         4,
         "Classic Cars",
         "S18_4721",
         7901.1
        ],
        [
         4,
         "Classic Cars",
         "S12_1108",
         7975.44
        ],
        [
         4,
         "Classic Cars",
         "S10_1949",
         8014.82
        ],
        [
         4,
         "Classic Cars",
         "S18_3232",
         8291.04
        ],
        [
         4,
         "Classic Cars",
         "S12_1099",
         8296.35
        ],
        [
         4,
         "Classic Cars",
         "S12_3148",
         8378.69
        ],
        [
         4,
         "Classic Cars",
         "S12_1108",
         8594.52
        ],
        [
         4,
         "Classic Cars",
         "S18_3232",
         8754.69
        ],
        [
         4,
         "Classic Cars",
         "S12_1108",
         8887.7
        ],
        [
         4,
         "Classic Cars",
         "S18_3232",
         8940.96
        ],
        [
         4,
         "Classic Cars",
         "S10_1949",
         9064.89
        ],
        [
         4,
         "Classic Cars",
         "S700_2824",
         9558.8
        ],
        [
         4,
         "Classic Cars",
         "S10_1949",
         10172.7
        ],
        [
         4,
         "Classic Cars",
         "S10_1949",
         11623.7
        ],
        [
         4,
         "Motorcycles",
         "S10_4698",
         8065.89
        ],
        [
         4,
         "Motorcycles",
         "S12_2823",
         8118.55
        ],
        [
         4,
         "Motorcycles",
         "S10_4698",
         8714.7
        ],
        [
         4,
         "Motorcycles",
         "S10_4698",
         8892.9
        ],
        [
         4,
         "Trucks and Buses",
         "S32_3522",
         8209.44
        ],
        [
         4,
         "Trucks and Buses",
         "S32_2509",
         8844.12
        ],
        [
         4,
         "Vintage Cars",
         "S18_1749",
         8078.4
        ],
        [
         4,
         "Vintage Cars",
         "S24_1937",
         9720.0
        ],
        [
         4,
         "Vintage Cars",
         "S24_3151",
         10758.0
        ],
        [
         4,
         "Vintage Cars",
         "S18_3320",
         11336.7
        ],
        [
         4,
         "Vintage Cars",
         "S18_2325",
         12536.5
        ]
       ],
       "datasetInfos": [],
       "dbfsResultPath": null,
       "isJsonSchema": true,
       "metadata": {},
       "overflow": false,
       "plotOptions": {
        "customPlotOptions": {},
        "displayType": "table",
        "pivotAggregation": null,
        "pivotColumns": null,
        "xColumns": null,
        "yColumns": null
       },
       "removedWidgets": [],
       "schema": [
        {
         "metadata": "{}",
         "name": "QTR_ID",
         "type": "\"integer\""
        },
        {
         "metadata": "{}",
         "name": "PRODUCTLINE",
         "type": "\"string\""
        },
        {
         "metadata": "{}",
         "name": "PRODUCTCODE",
         "type": "\"string\""
        },
        {
         "metadata": "{}",
         "name": "SALES",
         "type": "\"double\""
        }
       ],
       "type": "table"
      }
     },
     "output_type": "display_data"
    }
   ],
   "source": [
    "%sql\n",
    "select QTR_ID, PRODUCTLINE, PRODUCTCODE, SALES\n",
    "from (select PRODUCTLINE, PRODUCTCODE, SALES, QTR_ID,\n",
    "percentile_cont(0.25) within group(order by SALES) over(partition by QTR_ID) as Q1,\n",
    "percentile_cont(0.75) within group(order by SALES) over(partition by QTR_ID) as Q3\n",
    "from productssales\n",
    ") as CTE\n",
    "where SALES < (Q1 - 1.5*(Q3-Q1)) or SALES > (Q3 + 1.5*(Q3-Q1))\n",
    "order by QTR_ID, PRODUCTLINE, SALES"
   ]
  },
  {
   "cell_type": "code",
   "execution_count": 0,
   "metadata": {
    "application/vnd.databricks.v1+cell": {
     "cellMetadata": {
      "byteLimit": 2048000,
      "implicitDf": true,
      "rowLimit": 10000
     },
     "inputWidgets": {},
     "nuid": "2fb2c99f-c8da-481d-abf4-144b741a8aad",
     "showTitle": false,
     "title": ""
    }
   },
   "outputs": [
    {
     "output_type": "display_data",
     "data": {
      "text/html": [
       "<style scoped>\n",
       "  .table-result-container {\n",
       "    max-height: 300px;\n",
       "    overflow: auto;\n",
       "  }\n",
       "  table, th, td {\n",
       "    border: 1px solid black;\n",
       "    border-collapse: collapse;\n",
       "  }\n",
       "  th, td {\n",
       "    padding: 5px;\n",
       "  }\n",
       "  th {\n",
       "    text-align: left;\n",
       "  }\n",
       "</style><div class='table-result-container'><table class='table-result'><thead style='background-color: white'><tr><th>QTR_ID</th><th>PRODUCTLINE</th><th>SALES</th></tr></thead><tbody><tr><td>1</td><td>Motorcycles</td><td>2871.0</td></tr><tr><td>2</td><td>Motorcycles</td><td>2765.9</td></tr><tr><td>3</td><td>Motorcycles</td><td>3884.34</td></tr><tr><td>3</td><td>Motorcycles</td><td>3746.7</td></tr><tr><td>4</td><td>Motorcycles</td><td>5205.27</td></tr><tr><td>4</td><td>Motorcycles</td><td>3479.76</td></tr><tr><td>4</td><td>Motorcycles</td><td>2497.77</td></tr><tr><td>4</td><td>Motorcycles</td><td>5512.32</td></tr><tr><td>4</td><td>Motorcycles</td><td>2168.54</td></tr><tr><td>1</td><td>Motorcycles</td><td>4708.44</td></tr><tr><td>1</td><td>Motorcycles</td><td>3965.66</td></tr><tr><td>2</td><td>Motorcycles</td><td>2333.12</td></tr><tr><td>2</td><td>Motorcycles</td><td>3188.64</td></tr><tr><td>2</td><td>Motorcycles</td><td>3676.76</td></tr><tr><td>3</td><td>Motorcycles</td><td>4177.35</td></tr><tr><td>3</td><td>Motorcycles</td><td>4099.68</td></tr><tr><td>3</td><td>Motorcycles</td><td>2597.39</td></tr><tr><td>4</td><td>Motorcycles</td><td>4394.38</td></tr><tr><td>4</td><td>Motorcycles</td><td>4358.04</td></tr><tr><td>4</td><td>Motorcycles</td><td>4396.14</td></tr><tr><td>4</td><td>Motorcycles</td><td>7737.93</td></tr><tr><td>4</td><td>Motorcycles</td><td>1451.0</td></tr><tr><td>1</td><td>Motorcycles</td><td>733.11</td></tr><tr><td>1</td><td>Motorcycles</td><td>3207.12</td></tr><tr><td>2</td><td>Motorcycles</td><td>2434.56</td></tr><tr><td>2</td><td>Motorcycles</td><td>7516.08</td></tr><tr><td>1</td><td>Classic Cars</td><td>5404.62</td></tr><tr><td>1</td><td>Classic Cars</td><td>7209.11</td></tr><tr><td>2</td><td>Classic Cars</td><td>7329.06</td></tr><tr><td>3</td><td>Classic Cars</td><td>7374.1</td></tr><tr><td>3</td><td>Classic Cars</td><td>10993.5</td></tr><tr><td>4</td><td>Classic Cars</td><td>4860.24</td></tr><tr><td>4</td><td>Classic Cars</td><td>8014.82</td></tr><tr><td>4</td><td>Classic Cars</td><td>5372.57</td></tr><tr><td>4</td><td>Classic Cars</td><td>7290.36</td></tr><tr><td>4</td><td>Classic Cars</td><td>9064.89</td></tr><tr><td>1</td><td>Classic Cars</td><td>6075.3</td></tr><tr><td>1</td><td>Classic Cars</td><td>6463.23</td></tr><tr><td>2</td><td>Classic Cars</td><td>6120.34</td></tr><tr><td>2</td><td>Classic Cars</td><td>7680.64</td></tr><tr><td>3</td><td>Classic Cars</td><td>4905.39</td></tr><tr><td>3</td><td>Classic Cars</td><td>8014.82</td></tr><tr><td>3</td><td>Classic Cars</td><td>7136.19</td></tr><tr><td>4</td><td>Classic Cars</td><td>10172.7</td></tr><tr><td>4</td><td>Classic Cars</td><td>11623.7</td></tr><tr><td>4</td><td>Classic Cars</td><td>6000.4</td></tr><tr><td>4</td><td>Classic Cars</td><td>3003.0</td></tr><tr><td>4</td><td>Classic Cars</td><td>3944.7</td></tr><tr><td>4</td><td>Classic Cars</td><td>5691.84</td></tr><tr><td>1</td><td>Classic Cars</td><td>4514.92</td></tr><tr><td>1</td><td>Classic Cars</td><td>8254.8</td></tr><tr><td>1</td><td>Classic Cars</td><td>2416.56</td></tr><tr><td>2</td><td>Classic Cars</td><td>4140.23</td></tr><tr><td>2</td><td>Classic Cars</td><td>12001.0</td></tr><tr><td>1</td><td>Motorcycles</td><td>3896.49</td></tr><tr><td>2</td><td>Motorcycles</td><td>2793.86</td></tr><tr><td>3</td><td>Motorcycles</td><td>3307.77</td></tr><tr><td>3</td><td>Motorcycles</td><td>5192.95</td></tr><tr><td>4</td><td>Motorcycles</td><td>5016.83</td></tr><tr><td>4</td><td>Motorcycles</td><td>3660.93</td></tr><tr><td>4</td><td>Motorcycles</td><td>4695.6</td></tr><tr><td>4</td><td>Motorcycles</td><td>3660.92</td></tr><tr><td>4</td><td>Motorcycles</td><td>3025.92</td></tr><tr><td>1</td><td>Motorcycles</td><td>3009.09</td></tr><tr><td>1</td><td>Motorcycles</td><td>5422.39</td></tr><tr><td>2</td><td>Motorcycles</td><td>2852.08</td></tr><tr><td>2</td><td>Motorcycles</td><td>5756.52</td></tr><tr><td>2</td><td>Motorcycles</td><td>4472.0</td></tr><tr><td>3</td><td>Motorcycles</td><td>2904.44</td></tr><tr><td>3</td><td>Motorcycles</td><td>6484.59</td></tr><tr><td>3</td><td>Motorcycles</td><td>3757.26</td></tr><tr><td>4</td><td>Motorcycles</td><td>4043.96</td></tr><tr><td>4</td><td>Motorcycles</td><td>5566.5</td></tr><tr><td>4</td><td>Motorcycles</td><td>3176.0</td></tr><tr><td>4</td><td>Motorcycles</td><td>2756.8</td></tr><tr><td>4</td><td>Motorcycles</td><td>1329.9</td></tr><tr><td>1</td><td>Motorcycles</td><td>5288.01</td></tr><tr><td>1</td><td>Motorcycles</td><td>2225.5</td></tr><tr><td>2</td><td>Motorcycles</td><td>5833.8</td></tr><tr><td>2</td><td>Motorcycles</td><td>5887.35</td></tr><tr><td>1</td><td>Motorcycles</td><td>6065.55</td></tr><tr><td>2</td><td>Motorcycles</td><td>9264.86</td></tr><tr><td>3</td><td>Motorcycles</td><td>7023.98</td></tr><tr><td>3</td><td>Motorcycles</td><td>5176.38</td></tr><tr><td>4</td><td>Motorcycles</td><td>4132.7</td></tr><tr><td>4</td><td>Motorcycles</td><td>4183.0</td></tr><tr><td>4</td><td>Motorcycles</td><td>8892.9</td></tr><tr><td>4</td><td>Motorcycles</td><td>8714.7</td></tr><tr><td>4</td><td>Motorcycles</td><td>8065.89</td></tr><tr><td>1</td><td>Motorcycles</td><td>6123.4</td></tr><tr><td>1</td><td>Motorcycles</td><td>9774.03</td></tr><tr><td>2</td><td>Motorcycles</td><td>7023.9</td></tr><tr><td>2</td><td>Motorcycles</td><td>7078.23</td></tr><tr><td>2</td><td>Motorcycles</td><td>8336.94</td></tr><tr><td>3</td><td>Motorcycles</td><td>6901.92</td></tr><tr><td>3</td><td>Motorcycles</td><td>5438.07</td></tr><tr><td>3</td><td>Motorcycles</td><td>6683.34</td></tr><tr><td>4</td><td>Motorcycles</td><td>4570.4</td></tr><tr><td>4</td><td>Motorcycles</td><td>7667.14</td></tr><tr><td>4</td><td>Motorcycles</td><td>5868.2</td></tr><tr><td>4</td><td>Motorcycles</td><td>2990.13</td></tr><tr><td>1</td><td>Motorcycles</td><td>3664.1</td></tr><tr><td>1</td><td>Motorcycles</td><td>3834.38</td></tr><tr><td>1</td><td>Motorcycles</td><td>1822.17</td></tr><tr><td>2</td><td>Motorcycles</td><td>11886.6</td></tr><tr><td>2</td><td>Motorcycles</td><td>9218.16</td></tr><tr><td>1</td><td>Classic Cars</td><td>7208.0</td></tr><tr><td>2</td><td>Classic Cars</td><td>5004.8</td></tr><tr><td>2</td><td>Classic Cars</td><td>4398.24</td></tr><tr><td>3</td><td>Classic Cars</td><td>5597.76</td></tr><tr><td>4</td><td>Classic Cars</td><td>4526.08</td></tr><tr><td>4</td><td>Classic Cars</td><td>5924.16</td></tr><tr><td>4</td><td>Classic Cars</td><td>3492.48</td></tr><tr><td>4</td><td>Classic Cars</td><td>3854.24</td></tr><tr><td>4</td><td>Classic Cars</td><td>5324.4</td></tr><tr><td>1</td><td>Classic Cars</td><td>5197.92</td></tr><tr><td>1</td><td>Classic Cars</td><td>5997.6</td></tr><tr><td>2</td><td>Classic Cars</td><td>2910.4</td></tr><tr><td>2</td><td>Classic Cars</td><td>3378.24</td></tr><tr><td>3</td><td>Classic Cars</td><td>3508.8</td></tr><tr><td>3</td><td>Classic Cars</td><td>2992.0</td></tr><tr><td>3</td><td>Classic Cars</td><td>3427.2</td></tr><tr><td>4</td><td>Classic Cars</td><td>2692.8</td></tr><tr><td>4</td><td>Classic Cars</td><td>4128.96</td></tr><tr><td>4</td><td>Classic Cars</td><td>3051.71</td></tr><tr><td>4</td><td>Classic Cars</td><td>1201.25</td></tr><tr><td>4</td><td>Classic Cars</td><td>1962.22</td></tr><tr><td>4</td><td>Classic Cars</td><td>2624.64</td></tr><tr><td>1</td><td>Classic Cars</td><td>4046.25</td></tr><tr><td>1</td><td>Classic Cars</td><td>4846.7</td></tr><tr><td>1</td><td>Classic Cars</td><td>3370.56</td></tr><tr><td>2</td><td>Classic Cars</td><td>9661.44</td></tr><tr><td>2</td><td>Classic Cars</td><td>2764.88</td></tr><tr><td>1</td><td>Classic Cars</td><td>5398.26</td></tr><tr><td>2</td><td>Classic Cars</td><td>4305.28</td></tr><tr><td>2</td><td>Classic Cars</td><td>3347.74</td></tr><tr><td>3</td><td>Classic Cars</td><td>3188.12</td></tr><tr><td>3</td><td>Classic Cars</td><td>3191.2</td></tr><tr><td>4</td><td>Classic Cars</td><td>3536.82</td></tr><tr><td>4</td><td>Classic Cars</td><td>5362.83</td></tr><tr><td>4</td><td>Classic Cars</td><td>3433.36</td></tr><tr><td>4</td><td>Classic Cars</td><td>4263.74</td></tr><tr><td>4</td><td>Classic Cars</td><td>4076.19</td></tr><tr><td>1</td><td>Classic Cars</td><td>7020.48</td></tr><tr><td>1</td><td>Classic Cars</td><td>6426.5</td></tr><tr><td>2</td><td>Classic Cars</td><td>4591.72</td></tr><tr><td>2</td><td>Classic Cars</td><td>4033.38</td></tr><tr><td>3</td><td>Classic Cars</td><td>4302.08</td></tr><tr><td>3</td><td>Classic Cars</td><td>7020.64</td></tr><tr><td>3</td><td>Classic Cars</td><td>3855.9</td></tr><tr><td>4</td><td>Classic Cars</td><td>6680.78</td></tr><tr><td>4</td><td>Classic Cars</td><td>6678.0</td></tr><tr><td>4</td><td>Classic Cars</td><td>2851.54</td></tr><tr><td>4</td><td>Classic Cars</td><td>3188.12</td></tr><tr><td>4</td><td>Classic Cars</td><td>4428.0</td></tr><tr><td>4</td><td>Classic Cars</td><td>5780.92</td></tr><tr><td>1</td><td>Classic Cars</td><td>2297.05</td></tr><tr><td>1</td><td>Classic Cars</td><td>6231.54</td></tr><tr><td>1</td><td>Classic Cars</td><td>1735.3</td></tr><tr><td>2</td><td>Classic Cars</td><td>4427.73</td></tr><tr><td>2</td><td>Classic Cars</td><td>5894.94</td></tr><tr><td>1</td><td>Classic Cars</td><td>5265.15</td></tr><tr><td>2</td><td>Classic Cars</td><td>7599.9</td></tr><tr><td>3</td><td>Classic Cars</td><td>8008.56</td></tr><tr><td>3</td><td>Classic Cars</td><td>9245.76</td></tr><tr><td>4</td><td>Classic Cars</td><td>8296.35</td></tr><tr><td>4</td><td>Classic Cars</td><td>5019.9</td></tr><tr><td>4</td><td>Classic Cars</td><td>5411.07</td></tr><tr><td>4</td><td>Classic Cars</td><td>3840.9</td></tr><tr><td>4</td><td>Classic Cars</td><td>3930.4</td></tr><tr><td>1</td><td>Classic Cars</td><td>7498.9</td></tr><tr><td>1</td><td>Classic Cars</td><td>4517.91</td></tr><tr><td>2</td><td>Classic Cars</td><td>5774.72</td></tr><tr><td>2</td><td>Classic Cars</td><td>3922.56</td></tr><tr><td>3</td><td>Classic Cars</td><td>9160.36</td></tr><tr><td>3</td><td>Classic Cars</td><td>9631.0</td></tr><tr><td>3</td><td>Classic Cars</td><td>3432.24</td></tr><tr><td>4</td><td>Classic Cars</td><td>5521.89</td></tr><tr><td>4</td><td>Classic Cars</td><td>6934.62</td></tr><tr><td>4</td><td>Classic Cars</td><td>6876.11</td></tr><tr><td>4</td><td>Classic Cars</td><td>2930.27</td></tr><tr><td>4</td><td>Classic Cars</td><td>3584.25</td></tr><tr><td>1</td><td>Classic Cars</td><td>2817.87</td></tr><tr><td>1</td><td>Classic Cars</td><td>3420.0</td></tr><tr><td>1</td><td>Classic Cars</td><td>2575.04</td></tr><tr><td>2</td><td>Classic Cars</td><td>1961.28</td></tr><tr><td>1</td><td>Classic Cars</td><td>8690.36</td></tr><tr><td>2</td><td>Classic Cars</td><td>6034.38</td></tr><tr><td>2</td><td>Classic Cars</td><td>11279.2</td></tr><tr><td>3</td><td>Classic Cars</td><td>8023.29</td></tr><tr><td>3</td><td>Classic Cars</td><td>4904.0</td></tr><tr><td>4</td><td>Classic Cars</td><td>8594.52</td></tr><tr><td>4</td><td>Classic Cars</td><td>7474.5</td></tr><tr><td>4</td><td>Classic Cars</td><td>3883.74</td></tr><tr><td>4</td><td>Classic Cars</td><td>8887.7</td></tr><tr><td>1</td><td>Classic Cars</td><td>8602.92</td></tr><tr><td>1</td><td>Classic Cars</td><td>7181.44</td></tr><tr><td>1</td><td>Classic Cars</td><td>8378.58</td></tr><tr><td>2</td><td>Classic Cars</td><td>10606.2</td></tr><tr><td>3</td><td>Classic Cars</td><td>5818.4</td></tr><tr><td>3</td><td>Classic Cars</td><td>7071.27</td></tr><tr><td>3</td><td>Classic Cars</td><td>8411.56</td></tr><tr><td>4</td><td>Classic Cars</td><td>6570.76</td></tr><tr><td>4</td><td>Classic Cars</td><td>7975.44</td></tr><tr><td>4</td><td>Classic Cars</td><td>2688.0</td></tr><tr><td>4</td><td>Classic Cars</td><td>1888.26</td></tr><tr><td>4</td><td>Classic Cars</td><td>2513.28</td></tr><tr><td>4</td><td>Classic Cars</td><td>4764.48</td></tr><tr><td>1</td><td>Classic Cars</td><td>3560.64</td></tr><tr><td>1</td><td>Classic Cars</td><td>3823.64</td></tr><tr><td>1</td><td>Classic Cars</td><td>2280.96</td></tr><tr><td>2</td><td>Classic Cars</td><td>8677.8</td></tr><tr><td>1</td><td>Trucks and Buses</td><td>3394.98</td></tr><tr><td>1</td><td>Trucks and Buses</td><td>3415.44</td></tr><tr><td>2</td><td>Trucks and Buses</td><td>2439.57</td></tr><tr><td>3</td><td>Trucks and Buses</td><td>4829.8</td></tr><tr><td>3</td><td>Trucks and Buses</td><td>4100.1</td></tr><tr><td>4</td><td>Trucks and Buses</td><td>6563.06</td></tr><tr><td>4</td><td>Trucks and Buses</td><td>6817.22</td></tr><tr><td>4</td><td>Trucks and Buses</td><td>6163.94</td></tr><tr><td>4</td><td>Trucks and Buses</td><td>4933.92</td></tr><tr><td>4</td><td>Trucks and Buses</td><td>4056.36</td></tr><tr><td>1</td><td>Trucks and Buses</td><td>5759.42</td></tr><tr><td>1</td><td>Trucks and Buses</td><td>3451.0</td></tr><tr><td>2</td><td>Trucks and Buses</td><td>5920.4</td></tr><tr><td>2</td><td>Trucks and Buses</td><td>6668.24</td></tr><tr><td>3</td><td>Trucks and Buses</td><td>4094.72</td></tr><tr><td>3</td><td>Trucks and Buses</td><td>2938.5</td></tr><tr><td>3</td><td>Trucks and Buses</td><td>6387.8</td></tr><tr><td>4</td><td>Trucks and Buses</td><td>6396.0</td></tr><tr><td>4</td><td>Trucks and Buses</td><td>2669.1</td></tr><tr><td>4</td><td>Trucks and Buses</td><td>4784.13</td></tr><tr><td>4</td><td>Trucks and Buses</td><td>3273.93</td></tr><tr><td>4</td><td>Trucks and Buses</td><td>3586.43</td></tr><tr><td>4</td><td>Trucks and Buses</td><td>5960.36</td></tr><tr><td>1</td><td>Trucks and Buses</td><td>8470.14</td></tr><tr><td>1</td><td>Trucks and Buses</td><td>2952.0</td></tr><tr><td>1</td><td>Trucks and Buses</td><td>2464.8</td></tr><tr><td>2</td><td>Trucks and Buses</td><td>6232.0</td></tr><tr><td>2</td><td>Trucks and Buses</td><td>7969.36</td></tr><tr><td>1</td><td>Motorcycles</td><td>3036.6</td></tr><tr><td>2</td><td>Motorcycles</td><td>8284.0</td></tr><tr><td>3</td><td>Motorcycles</td><td>2711.2</td></tr><tr><td>3</td><td>Motorcycles</td><td>8339.8</td></tr><tr><td>4</td><td>Motorcycles</td><td>6238.84</td></tr><tr><td>4</td><td>Motorcycles</td><td>4639.25</td></tr><tr><td>4</td><td>Motorcycles</td><td>6747.6</td></tr><tr><td>4</td><td>Motorcycles</td><td>4512.48</td></tr><tr><td>4</td><td>Motorcycles</td><td>4029.0</td></tr><tr><td>1</td><td>Motorcycles</td><td>4771.8</td></tr><tr><td>1</td><td>Motorcycles</td><td>6087.94</td></tr><tr><td>2</td><td>Motorcycles</td><td>4193.28</td></tr><tr><td>2</td><td>Motorcycles</td><td>7552.28</td></tr><tr><td>2</td><td>Motorcycles</td><td>6434.4</td></tr><tr><td>3</td><td>Motorcycles</td><td>5181.5</td></tr><tr><td>3</td><td>Motorcycles</td><td>6863.92</td></tr><tr><td>3</td><td>Motorcycles</td><td>4157.04</td></tr><tr><td>4</td><td>Motorcycles</td><td>4660.24</td></tr><tr><td>4</td><td>Motorcycles</td><td>4111.8</td></tr><tr><td>4</td><td>Motorcycles</td><td>3542.64</td></tr><tr><td>4</td><td>Motorcycles</td><td>8118.55</td></tr><tr><td>1</td><td>Motorcycles</td><td>3877.06</td></tr><tr><td>1</td><td>Motorcycles</td><td>3867.08</td></tr><tr><td>1</td><td>Motorcycles</td><td>5951.44</td></tr><tr><td>2</td><td>Motorcycles</td><td>8648.64</td></tr><tr><td>2</td><td>Motorcycles</td><td>3447.78</td></tr><tr><td>1</td><td>Classic Cars</td><td>5958.5</td></tr><tr><td>2</td><td>Classic Cars</td><td>5911.64</td></tr><tr><td>2</td><td>Classic Cars</td><td>7366.44</td></tr><tr><td>3</td><td>Classic Cars</td><td>4985.64</td></tr><tr><td>3</td><td>Classic Cars</td><td>5393.64</td></tr><tr><td>4</td><td>Classic Cars</td><td>4880.02</td></tr><tr><td>4</td><td>Classic Cars</td><td>8378.69</td></tr><tr><td>4</td><td>Classic Cars</td><td>4038.21</td></tr><tr><td>4</td><td>Classic Cars</td><td>3807.12</td></tr><tr><td>1</td><td>Classic Cars</td><td>3142.36</td></tr><tr><td>1</td><td>Classic Cars</td><td>4713.6</td></tr><tr><td>1</td><td>Classic Cars</td><td>7016.31</td></tr><tr><td>2</td><td>Classic Cars</td><td>4381.25</td></tr><tr><td>3</td><td>Classic Cars</td><td>4283.01</td></tr><tr><td>3</td><td>Classic Cars</td><td>4364.82</td></tr><tr><td>3</td><td>Classic Cars</td><td>4242.24</td></tr><tr><td>4</td><td>Classic Cars</td><td>4982.7</td></tr><tr><td>4</td><td>Classic Cars</td><td>6393.54</td></tr><tr><td>4</td><td>Classic Cars</td><td>1466.91</td></tr><tr><td>4</td><td>Classic Cars</td><td>4059.33</td></tr><tr><td>4</td><td>Classic Cars</td><td>4801.52</td></tr><tr><td>4</td><td>Classic Cars</td><td>2711.66</td></tr><tr><td>1</td><td>Classic Cars</td><td>5862.0</td></tr><tr><td>1</td><td>Classic Cars</td><td>4071.85</td></tr><tr><td>2</td><td>Classic Cars</td><td>8236.75</td></tr><tr><td>1</td><td>Classic Cars</td><td>6130.35</td></tr><tr><td>2</td><td>Classic Cars</td><td>3693.34</td></tr><tr><td>3</td><td>Classic Cars</td><td>6031.68</td></tr><tr><td>3</td><td>Classic Cars</td><td>3494.94</td></tr><tr><td>4</td><td>Classic Cars</td><td>5294.14</td></tr><tr><td>4</td><td>Classic Cars</td><td>5464.69</td></tr><tr><td>4</td><td>Classic Cars</td><td>2860.76</td></tr><tr><td>4</td><td>Classic Cars</td><td>5590.0</td></tr><tr><td>4</td><td>Classic Cars</td><td>2254.8</td></tr><tr><td>1</td><td>Classic Cars</td><td>4946.76</td></tr><tr><td>1</td><td>Classic Cars</td><td>2495.5</td></tr><tr><td>2</td><td>Classic Cars</td><td>3167.38</td></tr><tr><td>2</td><td>Classic Cars</td><td>2402.84</td></tr><tr><td>3</td><td>Classic Cars</td><td>2454.54</td></tr><tr><td>3</td><td>Classic Cars</td><td>5464.69</td></tr><tr><td>3</td><td>Classic Cars</td><td>4756.5</td></tr><tr><td>4</td><td>Classic Cars</td><td>3984.6</td></tr><tr><td>4</td><td>Classic Cars</td><td>3100.32</td></tr><tr><td>4</td><td>Classic Cars</td><td>4850.3</td></tr><tr><td>4</td><td>Classic Cars</td><td>3846.98</td></tr><tr><td>4</td><td>Classic Cars</td><td>4220.92</td></tr><tr><td>1</td><td>Classic Cars</td><td>3288.82</td></tr><tr><td>1</td><td>Classic Cars</td><td>3987.2</td></tr><tr><td>1</td><td>Classic Cars</td><td>1809.5</td></tr><tr><td>2</td><td>Classic Cars</td><td>1092.2</td></tr><tr><td>1</td><td>Classic Cars</td><td>4566.05</td></tr><tr><td>2</td><td>Classic Cars</td><td>5938.14</td></tr><tr><td>2</td><td>Classic Cars</td><td>8138.76</td></tr><tr><td>3</td><td>Classic Cars</td><td>9470.94</td></tr><tr><td>3</td><td>Classic Cars</td><td>7036.89</td></tr><tr><td>4</td><td>Classic Cars</td><td>5559.03</td></tr><tr><td>4</td><td>Classic Cars</td><td>7872.5</td></tr><tr><td>4</td><td>Classic Cars</td><td>7886.2</td></tr><tr><td>4</td><td>Classic Cars</td><td>7232.16</td></tr><tr><td>1</td><td>Classic Cars</td><td>3114.4</td></tr><tr><td>1</td><td>Classic Cars</td><td>5045.22</td></tr><tr><td>1</td><td>Classic Cars</td><td>6952.12</td></tr><tr><td>2</td><td>Classic Cars</td><td>4157.73</td></tr><tr><td>3</td><td>Classic Cars</td><td>7962.24</td></tr><tr><td>3</td><td>Classic Cars</td><td>3778.8</td></tr><tr><td>3</td><td>Classic Cars</td><td>8253.0</td></tr><tr><td>4</td><td>Classic Cars</td><td>3633.4</td></tr><tr><td>4</td><td>Classic Cars</td><td>6913.8</td></tr><tr><td>4</td><td>Classic Cars</td><td>2583.6</td></tr><tr><td>4</td><td>Classic Cars</td><td>3105.62</td></tr><tr><td>4</td><td>Classic Cars</td><td>4408.56</td></tr><tr><td>4</td><td>Classic Cars</td><td>3042.41</td></tr><tr><td>1</td><td>Classic Cars</td><td>5941.5</td></tr><tr><td>1</td><td>Classic Cars</td><td>3241.9</td></tr><tr><td>1</td><td>Classic Cars</td><td>6109.29</td></tr><tr><td>2</td><td>Classic Cars</td><td>3387.78</td></tr><tr><td>1</td><td>Classic Cars</td><td>3485.82</td></tr><tr><td>2</td><td>Classic Cars</td><td>2042.88</td></tr><tr><td>3</td><td>Classic Cars</td><td>1800.24</td></tr><tr><td>3</td><td>Classic Cars</td><td>1340.64</td></tr><tr><td>4</td><td>Classic Cars</td><td>1762.08</td></tr><tr><td>4</td><td>Classic Cars</td><td>2298.24</td></tr><tr><td>4</td><td>Classic Cars</td><td>1628.0</td></tr><tr><td>4</td><td>Classic Cars</td><td>1939.2</td></tr><tr><td>4</td><td>Classic Cars</td><td>3651.56</td></tr><tr><td>1</td><td>Classic Cars</td><td>2591.96</td></tr><tr><td>1</td><td>Classic Cars</td><td>2864.17</td></tr><tr><td>2</td><td>Classic Cars</td><td>1484.2</td></tr><tr><td>2</td><td>Classic Cars</td><td>2254.25</td></tr><tr><td>3</td><td>Classic Cars</td><td>2681.35</td></tr><tr><td>3</td><td>Classic Cars</td><td>3184.02</td></tr><tr><td>3</td><td>Classic Cars</td><td>2846.63</td></tr><tr><td>4</td><td>Classic Cars</td><td>1685.42</td></tr><tr><td>4</td><td>Classic Cars</td><td>3988.6</td></tr><tr><td>4</td><td>Classic Cars</td><td>2789.96</td></tr><tr><td>4</td><td>Classic Cars</td><td>3607.56</td></tr><tr><td>4</td><td>Classic Cars</td><td>3368.16</td></tr><tr><td>1</td><td>Classic Cars</td><td>2775.08</td></tr><tr><td>1</td><td>Classic Cars</td><td>1627.92</td></tr><tr><td>1</td><td>Classic Cars</td><td>2529.36</td></tr><tr><td>2</td><td>Classic Cars</td><td>3065.78</td></tr><tr><td>1</td><td>Trucks and Buses</td><td>4615.78</td></tr><tr><td>2</td><td>Trucks and Buses</td><td>5723.78</td></tr><tr><td>2</td><td>Trucks and Buses</td><td>2559.6</td></tr><tr><td>3</td><td>Trucks and Buses</td><td>2140.11</td></tr><tr><td>3</td><td>Trucks and Buses</td><td>3327.6</td></tr><tr><td>4</td><td>Trucks and Buses</td><td>6825.6</td></tr><tr><td>4</td><td>Trucks and Buses</td><td>3543.28</td></tr><tr><td>4</td><td>Trucks and Buses</td><td>4516.22</td></tr><tr><td>4</td><td>Trucks and Buses</td><td>6445.46</td></tr><tr><td>4</td><td>Trucks and Buses</td><td>3384.36</td></tr><tr><td>1</td><td>Trucks and Buses</td><td>4891.68</td></tr><tr><td>1</td><td>Trucks and Buses</td><td>4521.96</td></tr><tr><td>2</td><td>Trucks and Buses</td><td>5069.66</td></tr><tr><td>2</td><td>Trucks and Buses</td><td>6541.2</td></tr><tr><td>3</td><td>Trucks and Buses</td><td>3012.27</td></tr><tr><td>3</td><td>Trucks and Buses</td><td>5247.18</td></tr><tr><td>3</td><td>Trucks and Buses</td><td>2214.87</td></tr><tr><td>4</td><td>Trucks and Buses</td><td>4773.18</td></tr><tr><td>4</td><td>Trucks and Buses</td><td>6185.7</td></tr><tr><td>4</td><td>Trucks and Buses</td><td>1517.88</td></tr><tr><td>4</td><td>Trucks and Buses</td><td>6372.6</td></tr><tr><td>4</td><td>Trucks and Buses</td><td>5232.96</td></tr><tr><td>4</td><td>Trucks and Buses</td><td>2694.72</td></tr><tr><td>1</td><td>Trucks and Buses</td><td>1749.79</td></tr><tr><td>1</td><td>Trucks and Buses</td><td>2130.56</td></tr><tr><td>2</td><td>Trucks and Buses</td><td>5951.34</td></tr><tr><td>2</td><td>Trucks and Buses</td><td>4692.6</td></tr><tr><td>1</td><td>Classic Cars</td><td>3731.04</td></tr><tr><td>2</td><td>Classic Cars</td><td>2142.0</td></tr><tr><td>3</td><td>Classic Cars</td><td>2838.81</td></tr><tr><td>3</td><td>Classic Cars</td><td>3230.37</td></tr><tr><td>4</td><td>Classic Cars</td><td>5182.0</td></tr><tr><td>4</td><td>Classic Cars</td><td>4391.1</td></tr><tr><td>4</td><td>Classic Cars</td><td>4477.32</td></tr><tr><td>4</td><td>Classic Cars</td><td>3544.56</td></tr><tr><td>4</td><td>Classic Cars</td><td>5195.85</td></tr><tr><td>1</td><td>Classic Cars</td><td>4180.44</td></tr><tr><td>1</td><td>Classic Cars</td><td>2684.43</td></tr><tr><td>2</td><td>Classic Cars</td><td>1958.88</td></tr><tr><td>2</td><td>Classic Cars</td><td>4910.57</td></tr><tr><td>3</td><td>Classic Cars</td><td>4468.4</td></tr><tr><td>3</td><td>Classic Cars</td><td>3127.88</td></tr><tr><td>3</td><td>Classic Cars</td><td>2675.13</td></tr><tr><td>4</td><td>Classic Cars</td><td>2807.61</td></tr><tr><td>4</td><td>Classic Cars</td><td>2504.75</td></tr><tr><td>4</td><td>Classic Cars</td><td>2984.88</td></tr><tr><td>4</td><td>Classic Cars</td><td>2524.86</td></tr><tr><td>4</td><td>Classic Cars</td><td>4136.0</td></tr><tr><td>1</td><td>Classic Cars</td><td>4068.7</td></tr><tr><td>1</td><td>Classic Cars</td><td>5182.0</td></tr><tr><td>1</td><td>Classic Cars</td><td>5243.79</td></tr><tr><td>2</td><td>Classic Cars</td><td>9048.16</td></tr><tr><td>2</td><td>Classic Cars</td><td>3832.64</td></tr><tr><td>1</td><td>Trucks and Buses</td><td>3920.0</td></tr><tr><td>1</td><td>Trucks and Buses</td><td>4916.66</td></tr><tr><td>2</td><td>Trucks and Buses</td><td>3857.0</td></tr><tr><td>3</td><td>Trucks and Buses</td><td>4181.44</td></tr><tr><td>3</td><td>Trucks and Buses</td><td>4641.0</td></tr><tr><td>4</td><td>Trucks and Buses</td><td>3570.12</td></tr><tr><td>4</td><td>Trucks and Buses</td><td>4480.32</td></tr><tr><td>4</td><td>Trucks and Buses</td><td>2033.64</td></tr><tr><td>4</td><td>Trucks and Buses</td><td>1960.14</td></tr><tr><td>4</td><td>Trucks and Buses</td><td>3966.78</td></tr><tr><td>1</td><td>Trucks and Buses</td><td>5152.0</td></tr><tr><td>1</td><td>Trucks and Buses</td><td>3360.0</td></tr><tr><td>2</td><td>Trucks and Buses</td><td>3451.0</td></tr><tr><td>2</td><td>Trucks and Buses</td><td>5453.0</td></tr><tr><td>3</td><td>Trucks and Buses</td><td>4164.12</td></tr><tr><td>3</td><td>Trucks and Buses</td><td>2800.08</td></tr><tr><td>3</td><td>Trucks and Buses</td><td>4687.94</td></tr><tr><td>4</td><td>Trucks and Buses</td><td>4508.0</td></tr><tr><td>4</td><td>Trucks and Buses</td><td>4181.44</td></tr><tr><td>4</td><td>Trucks and Buses</td><td>2251.04</td></tr><tr><td>4</td><td>Trucks and Buses</td><td>1167.25</td></tr><tr><td>4</td><td>Trucks and Buses</td><td>2083.2</td></tr><tr><td>4</td><td>Trucks and Buses</td><td>3822.0</td></tr><tr><td>1</td><td>Trucks and Buses</td><td>3911.49</td></tr><tr><td>1</td><td>Trucks and Buses</td><td>4704.0</td></tr><tr><td>1</td><td>Trucks and Buses</td><td>2467.9</td></tr><tr><td>2</td><td>Trucks and Buses</td><td>3213.0</td></tr><tr><td>2</td><td>Trucks and Buses</td><td>7182.0</td></tr><tr><td>1</td><td>Classic Cars</td><td>4379.18</td></tr><tr><td>2</td><td>Classic Cars</td><td>5004.8</td></tr><tr><td>3</td><td>Classic Cars</td><td>3644.75</td></tr><tr><td>3</td><td>Classic Cars</td><td>2702.04</td></tr><tr><td>4</td><td>Classic Cars</td><td>3764.88</td></tr><tr><td>4</td><td>Classic Cars</td><td>4508.0</td></tr><tr><td>4</td><td>Classic Cars</td><td>5418.16</td></tr><tr><td>4</td><td>Classic Cars</td><td>3300.66</td></tr><tr><td>4</td><td>Classic Cars</td><td>6182.4</td></tr><tr><td>1</td><td>Classic Cars</td><td>4186.73</td></tr><tr><td>1</td><td>Classic Cars</td><td>4529.28</td></tr><tr><td>2</td><td>Classic Cars</td><td>5628.89</td></tr><tr><td>2</td><td>Classic Cars</td><td>3054.48</td></tr><tr><td>3</td><td>Classic Cars</td><td>2526.51</td></tr><tr><td>3</td><td>Classic Cars</td><td>4667.86</td></tr><tr><td>3</td><td>Classic Cars</td><td>6499.32</td></tr><tr><td>4</td><td>Classic Cars</td><td>5917.78</td></tr><tr><td>4</td><td>Classic Cars</td><td>6231.91</td></tr><tr><td>4</td><td>Classic Cars</td><td>5803.14</td></tr><tr><td>4</td><td>Classic Cars</td><td>6434.02</td></tr><tr><td>4</td><td>Classic Cars</td><td>6454.4</td></tr><tr><td>4</td><td>Classic Cars</td><td>4196.8</td></tr><tr><td>1</td><td>Classic Cars</td><td>2611.8</td></tr><tr><td>1</td><td>Classic Cars</td><td>5895.05</td></tr><tr><td>1</td><td>Classic Cars</td><td>3375.72</td></tr><tr><td>2</td><td>Classic Cars</td><td>8374.69</td></tr><tr><td>2</td><td>Classic Cars</td><td>4464.24</td></tr><tr><td>1</td><td>Vintage Cars</td><td>4808.31</td></tr><tr><td>1</td><td>Vintage Cars</td><td>3288.78</td></tr><tr><td>2</td><td>Vintage Cars</td><td>3254.72</td></tr><tr><td>3</td><td>Vintage Cars</td><td>3184.94</td></tr><tr><td>3</td><td>Vintage Cars</td><td>5907.5</td></tr><tr><td>4</td><td>Vintage Cars</td><td>4389.12</td></tr><tr><td>4</td><td>Vintage Cars</td><td>5036.16</td></tr><tr><td>4</td><td>Vintage Cars</td><td>2183.25</td></tr><tr><td>4</td><td>Vintage Cars</td><td>3106.88</td></tr><tr><td>4</td><td>Vintage Cars</td><td>3735.72</td></tr><tr><td>1</td><td>Vintage Cars</td><td>2413.26</td></tr><tr><td>1</td><td>Vintage Cars</td><td>2953.75</td></tr><tr><td>2</td><td>Vintage Cars</td><td>4684.8</td></tr><tr><td>2</td><td>Vintage Cars</td><td>3248.7</td></tr><tr><td>3</td><td>Vintage Cars</td><td>5239.5</td></tr><tr><td>3</td><td>Vintage Cars</td><td>4567.98</td></tr><tr><td>4</td><td>Vintage Cars</td><td>3535.35</td></tr><tr><td>4</td><td>Vintage Cars</td><td>3843.34</td></tr><tr><td>4</td><td>Vintage Cars</td><td>3710.9</td></tr><tr><td>4</td><td>Vintage Cars</td><td>4375.98</td></tr><tr><td>4</td><td>Vintage Cars</td><td>1516.62</td></tr><tr><td>4</td><td>Vintage Cars</td><td>2509.0</td></tr><tr><td>1</td><td>Vintage Cars</td><td>9240.44</td></tr><tr><td>1</td><td>Vintage Cars</td><td>2515.32</td></tr><tr><td>1</td><td>Vintage Cars</td><td>5548.9</td></tr><tr><td>2</td><td>Vintage Cars</td><td>4873.05</td></tr><tr><td>1</td><td>Vintage Cars</td><td>2055.74</td></tr><tr><td>1</td><td>Vintage Cars</td><td>2354.88</td></tr><tr><td>2</td><td>Vintage Cars</td><td>2309.58</td></tr><tr><td>3</td><td>Vintage Cars</td><td>2113.37</td></tr><tr><td>3</td><td>Vintage Cars</td><td>1746.6</td></tr><tr><td>4</td><td>Vintage Cars</td><td>2304.45</td></tr><tr><td>4</td><td>Vintage Cars</td><td>2122.08</td></tr><tr><td>4</td><td>Vintage Cars</td><td>1742.4</td></tr><tr><td>4</td><td>Vintage Cars</td><td>2455.02</td></tr><tr><td>4</td><td>Vintage Cars</td><td>3053.28</td></tr><tr><td>1</td><td>Vintage Cars</td><td>1423.29</td></tr><tr><td>1</td><td>Vintage Cars</td><td>1504.12</td></tr><tr><td>2</td><td>Vintage Cars</td><td>1164.4</td></tr><tr><td>2</td><td>Vintage Cars</td><td>1500.75</td></tr><tr><td>3</td><td>Vintage Cars</td><td>1557.36</td></tr><tr><td>3</td><td>Vintage Cars</td><td>1345.68</td></tr><tr><td>4</td><td>Vintage Cars</td><td>1795.24</td></tr><tr><td>4</td><td>Vintage Cars</td><td>1105.25</td></tr><tr><td>4</td><td>Vintage Cars</td><td>2364.88</td></tr><tr><td>4</td><td>Vintage Cars</td><td>2427.03</td></tr><tr><td>4</td><td>Vintage Cars</td><td>1237.95</td></tr><tr><td>4</td><td>Vintage Cars</td><td>1593.02</td></tr><tr><td>1</td><td>Vintage Cars</td><td>3156.16</td></tr><tr><td>1</td><td>Vintage Cars</td><td>1320.75</td></tr><tr><td>1</td><td>Vintage Cars</td><td>4998.0</td></tr><tr><td>2</td><td>Vintage Cars</td><td>1293.75</td></tr><tr><td>1</td><td>Classic Cars</td><td>5433.08</td></tr><tr><td>2</td><td>Classic Cars</td><td>3073.72</td></tr><tr><td>3</td><td>Classic Cars</td><td>4380.2</td></tr><tr><td>3</td><td>Classic Cars</td><td>5848.68</td></tr><tr><td>4</td><td>Classic Cars</td><td>6153.73</td></tr><tr><td>4</td><td>Classic Cars</td><td>4965.24</td></tr><tr><td>4</td><td>Classic Cars</td><td>5435.64</td></tr><tr><td>4</td><td>Classic Cars</td><td>4258.36</td></tr><tr><td>4</td><td>Classic Cars</td><td>4032.0</td></tr><tr><td>1</td><td>Classic Cars</td><td>4492.36</td></tr><tr><td>1</td><td>Classic Cars</td><td>4161.38</td></tr><tr><td>2</td><td>Classic Cars</td><td>2508.66</td></tr><tr><td>2</td><td>Classic Cars</td><td>3374.88</td></tr><tr><td>3</td><td>Classic Cars</td><td>5196.6</td></tr><tr><td>3</td><td>Classic Cars</td><td>2604.52</td></tr><tr><td>3</td><td>Classic Cars</td><td>2936.8</td></tr><tr><td>4</td><td>Classic Cars</td><td>3424.64</td></tr><tr><td>4</td><td>Classic Cars</td><td>2923.2</td></tr><tr><td>4</td><td>Classic Cars</td><td>4489.76</td></tr><tr><td>4</td><td>Classic Cars</td><td>4849.24</td></tr><tr><td>4</td><td>Classic Cars</td><td>5848.92</td></tr><tr><td>1</td><td>Classic Cars</td><td>2758.7</td></tr><tr><td>1</td><td>Classic Cars</td><td>1449.76</td></tr><tr><td>2</td><td>Classic Cars</td><td>7048.14</td></tr><tr><td>2</td><td>Classic Cars</td><td>5202.94</td></tr><tr><td>1</td><td>Planes</td><td>5279.4</td></tr><tr><td>2</td><td>Planes</td><td>6916.12</td></tr><tr><td>2</td><td>Planes</td><td>2781.66</td></tr><tr><td>3</td><td>Planes</td><td>5248.0</td></tr><tr><td>4</td><td>Planes</td><td>6531.44</td></tr><tr><td>4</td><td>Planes</td><td>5763.72</td></tr><tr><td>4</td><td>Planes</td><td>6490.68</td></tr><tr><td>4</td><td>Planes</td><td>6004.8</td></tr><tr><td>4</td><td>Planes</td><td>7483.98</td></tr><tr><td>1</td><td>Planes</td><td>5719.5</td></tr><tr><td>1</td><td>Planes</td><td>6954.08</td></tr><tr><td>2</td><td>Planes</td><td>8160.3</td></tr><tr><td>2</td><td>Planes</td><td>6567.96</td></tr><tr><td>3</td><td>Planes</td><td>6724.0</td></tr><tr><td>3</td><td>Planes</td><td>5747.85</td></tr><tr><td>3</td><td>Planes</td><td>5676.84</td></tr><tr><td>4</td><td>Planes</td><td>7379.97</td></tr><tr><td>4</td><td>Planes</td><td>3704.13</td></tr><tr><td>4</td><td>Planes</td><td>2804.75</td></tr><tr><td>4</td><td>Planes</td><td>5624.79</td></tr><tr><td>4</td><td>Planes</td><td>3881.28</td></tr><tr><td>1</td><td>Planes</td><td>1611.4</td></tr><tr><td>1</td><td>Planes</td><td>1364.25</td></tr><tr><td>1</td><td>Planes</td><td>4215.09</td></tr><tr><td>2</td><td>Planes</td><td>6433.82</td></tr><tr><td>2</td><td>Planes</td><td>4352.16</td></tr><tr><td>1</td><td>Vintage Cars</td><td>5151.0</td></tr><tr><td>1</td><td>Vintage Cars</td><td>6069.0</td></tr><tr><td>2</td><td>Vintage Cars</td><td>2856.0</td></tr><tr><td>3</td><td>Vintage Cars</td><td>5375.4</td></tr><tr><td>4</td><td>Vintage Cars</td><td>5176.5</td></tr><tr><td>4</td><td>Vintage Cars</td><td>3508.8</td></tr><tr><td>4</td><td>Vintage Cars</td><td>7554.8</td></tr><tr><td>4</td><td>Vintage Cars</td><td>3141.6</td></tr><tr><td>4</td><td>Vintage Cars</td><td>5890.5</td></tr><tr><td>1</td><td>Vintage Cars</td><td>5967.0</td></tr><tr><td>1</td><td>Vintage Cars</td><td>3712.8</td></tr><tr><td>2</td><td>Vintage Cars</td><td>7597.3</td></tr><tr><td>3</td><td>Vintage Cars</td><td>3668.6</td></tr><tr><td>3</td><td>Vintage Cars</td><td>5875.2</td></tr><tr><td>4</td><td>Vintage Cars</td><td>7310.0</td></tr><tr><td>4</td><td>Vintage Cars</td><td>8078.4</td></tr><tr><td>4</td><td>Vintage Cars</td><td>3257.76</td></tr><tr><td>4</td><td>Vintage Cars</td><td>7650.0</td></tr><tr><td>1</td><td>Vintage Cars</td><td>4703.81</td></tr><tr><td>1</td><td>Vintage Cars</td><td>5399.55</td></tr><tr><td>2</td><td>Vintage Cars</td><td>14082.8</td></tr><tr><td>2</td><td>Vintage Cars</td><td>5283.6</td></tr><tr><td>1</td><td>Classic Cars</td><td>3130.82</td></tr><tr><td>2</td><td>Classic Cars</td><td>3112.34</td></tr><tr><td>3</td><td>Classic Cars</td><td>3806.88</td></tr><tr><td>3</td><td>Classic Cars</td><td>2142.14</td></tr><tr><td>4</td><td>Classic Cars</td><td>3364.9</td></tr><tr><td>4</td><td>Classic Cars</td><td>1262.8</td></tr><tr><td>4</td><td>Classic Cars</td><td>1626.24</td></tr><tr><td>4</td><td>Classic Cars</td><td>4088.7</td></tr><tr><td>4</td><td>Classic Cars</td><td>3846.15</td></tr><tr><td>1</td><td>Classic Cars</td><td>1339.8</td></tr><tr><td>1</td><td>Classic Cars</td><td>3039.96</td></tr><tr><td>2</td><td>Classic Cars</td><td>3400.32</td></tr><tr><td>2</td><td>Classic Cars</td><td>1930.39</td></tr><tr><td>3</td><td>Classic Cars</td><td>2464.77</td></tr><tr><td>3</td><td>Classic Cars</td><td>2634.94</td></tr><tr><td>3</td><td>Classic Cars</td><td>3625.16</td></tr><tr><td>4</td><td>Classic Cars</td><td>3788.4</td></tr><tr><td>4</td><td>Classic Cars</td><td>1832.6</td></tr><tr><td>4</td><td>Classic Cars</td><td>2905.98</td></tr><tr><td>4</td><td>Classic Cars</td><td>2954.81</td></tr><tr><td>4</td><td>Classic Cars</td><td>3599.75</td></tr><tr><td>1</td><td>Classic Cars</td><td>3686.54</td></tr><tr><td>1</td><td>Classic Cars</td><td>2100.56</td></tr><tr><td>1</td><td>Classic Cars</td><td>3881.78</td></tr><tr><td>2</td><td>Classic Cars</td><td>4509.12</td></tr><tr><td>2</td><td>Classic Cars</td><td>3273.27</td></tr><tr><td>1</td><td>Classic Cars</td><td>4432.7</td></tr><tr><td>2</td><td>Classic Cars</td><td>4100.99</td></tr><tr><td>3</td><td>Classic Cars</td><td>5274.72</td></tr><tr><td>3</td><td>Classic Cars</td><td>4232.0</td></tr><tr><td>4</td><td>Classic Cars</td><td>6145.44</td></tr><tr><td>4</td><td>Classic Cars</td><td>4680.2</td></tr><tr><td>4</td><td>Classic Cars</td><td>3286.08</td></tr><tr><td>4</td><td>Classic Cars</td><td>7421.3</td></tr><tr><td>4</td><td>Classic Cars</td><td>6432.64</td></tr><tr><td>1</td><td>Classic Cars</td><td>4840.87</td></tr><tr><td>1</td><td>Classic Cars</td><td>3892.08</td></tr><tr><td>2</td><td>Classic Cars</td><td>5526.32</td></tr><tr><td>2</td><td>Classic Cars</td><td>4459.62</td></tr><tr><td>3</td><td>Classic Cars</td><td>6203.4</td></tr><tr><td>3</td><td>Classic Cars</td><td>3754.05</td></tr><tr><td>3</td><td>Classic Cars</td><td>3516.48</td></tr><tr><td>4</td><td>Classic Cars</td><td>7488.04</td></tr><tr><td>4</td><td>Classic Cars</td><td>3448.08</td></tr><tr><td>4</td><td>Classic Cars</td><td>3734.0</td></tr><tr><td>4</td><td>Classic Cars</td><td>974.1</td></tr><tr><td>4</td><td>Classic Cars</td><td>3160.74</td></tr><tr><td>4</td><td>Classic Cars</td><td>1746.63</td></tr><tr><td>1</td><td>Classic Cars</td><td>4207.84</td></tr><tr><td>1</td><td>Classic Cars</td><td>4352.76</td></tr><tr><td>1</td><td>Classic Cars</td><td>1463.7</td></tr><tr><td>2</td><td>Classic Cars</td><td>7169.28</td></tr><tr><td>2</td><td>Classic Cars</td><td>4594.76</td></tr><tr><td>1</td><td>Classic Cars</td><td>3457.92</td></tr><tr><td>2</td><td>Classic Cars</td><td>7381.16</td></tr><tr><td>2</td><td>Classic Cars</td><td>7146.9</td></tr><tr><td>3</td><td>Classic Cars</td><td>5938.53</td></tr><tr><td>3</td><td>Classic Cars</td><td>7110.91</td></tr><tr><td>4</td><td>Classic Cars</td><td>5032.95</td></tr><tr><td>4</td><td>Classic Cars</td><td>3667.6</td></tr><tr><td>4</td><td>Classic Cars</td><td>7381.16</td></tr><tr><td>4</td><td>Classic Cars</td><td>5128.11</td></tr><tr><td>4</td><td>Classic Cars</td><td>7060.24</td></tr><tr><td>1</td><td>Classic Cars</td><td>8448.64</td></tr><tr><td>1</td><td>Classic Cars</td><td>7300.51</td></tr><tr><td>2</td><td>Classic Cars</td><td>6549.2</td></tr><tr><td>2</td><td>Classic Cars</td><td>5697.9</td></tr><tr><td>3</td><td>Classic Cars</td><td>9169.0</td></tr><tr><td>3</td><td>Classic Cars</td><td>3238.63</td></tr><tr><td>3</td><td>Classic Cars</td><td>4554.94</td></tr><tr><td>4</td><td>Classic Cars</td><td>3934.44</td></tr><tr><td>4</td><td>Classic Cars</td><td>5776.26</td></tr><tr><td>4</td><td>Classic Cars</td><td>7207.45</td></tr><tr><td>4</td><td>Classic Cars</td><td>7460.74</td></tr><tr><td>4</td><td>Classic Cars</td><td>6719.54</td></tr><tr><td>4</td><td>Classic Cars</td><td>2428.0</td></tr><tr><td>1</td><td>Classic Cars</td><td>2602.25</td></tr><tr><td>1</td><td>Classic Cars</td><td>2200.0</td></tr><tr><td>2</td><td>Classic Cars</td><td>6712.93</td></tr><tr><td>2</td><td>Classic Cars</td><td>5318.04</td></tr><tr><td>1</td><td>Vintage Cars</td><td>3390.0</td></tr><tr><td>1</td><td>Vintage Cars</td><td>1608.0</td></tr><tr><td>2</td><td>Vintage Cars</td><td>2262.96</td></tr><tr><td>3</td><td>Vintage Cars</td><td>1496.64</td></tr><tr><td>4</td><td>Vintage Cars</td><td>1879.74</td></tr><tr><td>4</td><td>Vintage Cars</td><td>1495.26</td></tr><tr><td>4</td><td>Vintage Cars</td><td>2323.7</td></tr><tr><td>4</td><td>Vintage Cars</td><td>2491.86</td></tr><tr><td>4</td><td>Vintage Cars</td><td>1643.12</td></tr><tr><td>1</td><td>Vintage Cars</td><td>1322.16</td></tr><tr><td>1</td><td>Vintage Cars</td><td>1423.8</td></tr><tr><td>2</td><td>Vintage Cars</td><td>2397.45</td></tr><tr><td>3</td><td>Vintage Cars</td><td>1574.0</td></tr><tr><td>3</td><td>Vintage Cars</td><td>1729.0</td></tr><tr><td>4</td><td>Vintage Cars</td><td>2255.84</td></tr><tr><td>4</td><td>Vintage Cars</td><td>1834.5</td></tr><tr><td>4</td><td>Vintage Cars</td><td>3201.5</td></tr><tr><td>4</td><td>Vintage Cars</td><td>2276.4</td></tr><tr><td>1</td><td>Vintage Cars</td><td>8884.8</td></tr><tr><td>1</td><td>Vintage Cars</td><td>1331.1</td></tr><tr><td>2</td><td>Vintage Cars</td><td>3051.3</td></tr><tr><td>2</td><td>Vintage Cars</td><td>2288.52</td></tr><tr><td>1</td><td>Trucks and Buses</td><td>3772.61</td></tr><tr><td>2</td><td>Trucks and Buses</td><td>4164.42</td></tr><tr><td>2</td><td>Trucks and Buses</td><td>6295.95</td></tr><tr><td>3</td><td>Trucks and Buses</td><td>6287.66</td></tr><tr><td>3</td><td>Trucks and Buses</td><td>5412.54</td></tr><tr><td>4</td><td>Trucks and Buses</td><td>5984.14</td></tr><tr><td>4</td><td>Trucks and Buses</td><td>5891.04</td></tr><tr><td>4</td><td>Trucks and Buses</td><td>5984.14</td></tr><tr><td>4</td><td>Trucks and Buses</td><td>3608.15</td></tr><tr><td>4</td><td>Trucks and Buses</td><td>5752.54</td></tr><tr><td>1</td><td>Trucks and Buses</td><td>3765.32</td></tr><tr><td>2</td><td>Trucks and Buses</td><td>2159.96</td></tr><tr><td>2</td><td>Trucks and Buses</td><td>3379.94</td></tr><tr><td>3</td><td>Trucks and Buses</td><td>5093.5</td></tr><tr><td>3</td><td>Trucks and Buses</td><td>5773.44</td></tr><tr><td>3</td><td>Trucks and Buses</td><td>4528.86</td></tr><tr><td>4</td><td>Trucks and Buses</td><td>4816.08</td></tr><tr><td>4</td><td>Trucks and Buses</td><td>3416.78</td></tr><tr><td>4</td><td>Trucks and Buses</td><td>1236.84</td></tr><tr><td>4</td><td>Trucks and Buses</td><td>5814.86</td></tr><tr><td>4</td><td>Trucks and Buses</td><td>5223.48</td></tr><tr><td>4</td><td>Trucks and Buses</td><td>728.4</td></tr><tr><td>1</td><td>Trucks and Buses</td><td>3949.0</td></tr><tr><td>1</td><td>Trucks and Buses</td><td>3843.99</td></tr><tr><td>2</td><td>Trucks and Buses</td><td>5498.08</td></tr><tr><td>2</td><td>Trucks and Buses</td><td>3777.58</td></tr><tr><td>1</td><td>Vintage Cars</td><td>3782.0</td></tr><tr><td>1</td><td>Vintage Cars</td><td>3859.68</td></tr><tr><td>2</td><td>Vintage Cars</td><td>4431.84</td></tr><tr><td>3</td><td>Vintage Cars</td><td>4950.33</td></tr><tr><td>4</td><td>Vintage Cars</td><td>4299.7</td></tr><tr><td>4</td><td>Vintage Cars</td><td>4492.83</td></tr><tr><td>4</td><td>Vintage Cars</td><td>2212.0</td></tr><tr><td>4</td><td>Vintage Cars</td><td>4642.88</td></tr><tr><td>4</td><td>Vintage Cars</td><td>3206.32</td></tr><tr><td>1</td><td>Vintage Cars</td><td>3604.23</td></tr><tr><td>1</td><td>Vintage Cars</td><td>7017.76</td></tr><tr><td>2</td><td>Vintage Cars</td><td>6154.18</td></tr><tr><td>3</td><td>Vintage Cars</td><td>4750.8</td></tr><tr><td>3</td><td>Vintage Cars</td><td>3822.92</td></tr><tr><td>4</td><td>Vintage Cars</td><td>2440.8</td></tr><tr><td>4</td><td>Vintage Cars</td><td>4729.36</td></tr><tr><td>4</td><td>Vintage Cars</td><td>12536.5</td></tr><tr><td>4</td><td>Vintage Cars</td><td>2264.15</td></tr><tr><td>4</td><td>Vintage Cars</td><td>3928.2</td></tr><tr><td>4</td><td>Vintage Cars</td><td>3630.22</td></tr><tr><td>1</td><td>Vintage Cars</td><td>4196.07</td></tr><tr><td>1</td><td>Vintage Cars</td><td>4931.6</td></tr><tr><td>1</td><td>Vintage Cars</td><td>3068.69</td></tr><tr><td>2</td><td>Vintage Cars</td><td>785.64</td></tr><tr><td>2</td><td>Vintage Cars</td><td>4977.0</td></tr><tr><td>1</td><td>Trucks and Buses</td><td>1189.98</td></tr><tr><td>2</td><td>Trucks and Buses</td><td>3090.15</td></tr><tr><td>2</td><td>Trucks and Buses</td><td>2795.86</td></tr><tr><td>3</td><td>Trucks and Buses</td><td>2851.54</td></tr><tr><td>3</td><td>Trucks and Buses</td><td>2701.92</td></tr><tr><td>4</td><td>Trucks and Buses</td><td>2204.1</td></tr><tr><td>4</td><td>Trucks and Buses</td><td>2840.48</td></tr><tr><td>4</td><td>Trucks and Buses</td><td>2647.04</td></tr><tr><td>4</td><td>Trucks and Buses</td><td>3172.05</td></tr><tr><td>4</td><td>Trucks and Buses</td><td>2585.93</td></tr><tr><td>1</td><td>Trucks and Buses</td><td>2148.3</td></tr><tr><td>1</td><td>Trucks and Buses</td><td>1667.4</td></tr><tr><td>2</td><td>Trucks and Buses</td><td>1859.7</td></tr><tr><td>2</td><td>Trucks and Buses</td><td>1476.6</td></tr><tr><td>3</td><td>Trucks and Buses</td><td>1732.0</td></tr><tr><td>3</td><td>Trucks and Buses</td><td>1674.17</td></tr><tr><td>3</td><td>Trucks and Buses</td><td>1500.98</td></tr><tr><td>4</td><td>Trucks and Buses</td><td>2192.68</td></tr><tr><td>4</td><td>Trucks and Buses</td><td>1797.58</td></tr><tr><td>4</td><td>Trucks and Buses</td><td>2142.35</td></tr><tr><td>4</td><td>Trucks and Buses</td><td>2086.92</td></tr><tr><td>4</td><td>Trucks and Buses</td><td>6834.5</td></tr><tr><td>4</td><td>Trucks and Buses</td><td>2541.59</td></tr><tr><td>1</td><td>Trucks and Buses</td><td>2130.92</td></tr><tr><td>1</td><td>Trucks and Buses</td><td>1701.7</td></tr><tr><td>1</td><td>Trucks and Buses</td><td>1694.0</td></tr><tr><td>2</td><td>Trucks and Buses</td><td>2913.53</td></tr><tr><td>2</td><td>Trucks and Buses</td><td>935.18</td></tr><tr><td>1</td><td>Planes</td><td>3073.26</td></tr><tr><td>2</td><td>Planes</td><td>2082.49</td></tr><tr><td>2</td><td>Planes</td><td>3394.23</td></tr><tr><td>3</td><td>Planes</td><td>2559.6</td></tr><tr><td>4</td><td>Planes</td><td>1490.16</td></tr><tr><td>1</td><td>Planes</td><td>3844.0</td></tr><tr><td>1</td><td>Planes</td><td>4724.91</td></tr><tr><td>2</td><td>Planes</td><td>1824.72</td></tr><tr><td>2</td><td>Planes</td><td>2668.68</td></tr><tr><td>2</td><td>Planes</td><td>2843.61</td></tr><tr><td>3</td><td>Planes</td><td>3163.65</td></tr><tr><td>3</td><td>Planes</td><td>2226.11</td></tr><tr><td>3</td><td>Planes</td><td>2069.75</td></tr><tr><td>4</td><td>Planes</td><td>2235.33</td></tr><tr><td>4</td><td>Planes</td><td>3116.43</td></tr><tr><td>4</td><td>Planes</td><td>4781.7</td></tr><tr><td>4</td><td>Planes</td><td>2810.7</td></tr><tr><td>4</td><td>Planes</td><td>3515.67</td></tr><tr><td>1</td><td>Planes</td><td>2909.34</td></tr><tr><td>1</td><td>Planes</td><td>1570.17</td></tr><tr><td>1</td><td>Planes</td><td>2613.92</td></tr><tr><td>2</td><td>Planes</td><td>3193.26</td></tr><tr><td>2</td><td>Planes</td><td>1482.6</td></tr><tr><td>1</td><td>Motorcycles</td><td>2055.23</td></tr><tr><td>2</td><td>Motorcycles</td><td>2674.9</td></tr><tr><td>3</td><td>Motorcycles</td><td>1853.4</td></tr><tr><td>3</td><td>Motorcycles</td><td>1490.1</td></tr><tr><td>4</td><td>Motorcycles</td><td>2162.16</td></tr><tr><td>4</td><td>Motorcycles</td><td>2814.28</td></tr><tr><td>4</td><td>Motorcycles</td><td>1605.0</td></tr><tr><td>4</td><td>Motorcycles</td><td>2093.44</td></tr><tr><td>4</td><td>Motorcycles</td><td>1944.3</td></tr><tr><td>1</td><td>Motorcycles</td><td>1986.8</td></tr><tr><td>1</td><td>Motorcycles</td><td>1695.96</td></tr><tr><td>2</td><td>Motorcycles</td><td>1281.56</td></tr><tr><td>2</td><td>Motorcycles</td><td>1774.22</td></tr><tr><td>2</td><td>Motorcycles</td><td>1997.5</td></tr><tr><td>3</td><td>Motorcycles</td><td>2353.2</td></tr><tr><td>3</td><td>Motorcycles</td><td>981.2</td></tr><tr><td>3</td><td>Motorcycles</td><td>1550.72</td></tr><tr><td>4</td><td>Motorcycles</td><td>1771.06</td></tr><tr><td>4</td><td>Motorcycles</td><td>2213.4</td></tr><tr><td>4</td><td>Motorcycles</td><td>5266.04</td></tr><tr><td>4</td><td>Motorcycles</td><td>1864.8</td></tr><tr><td>1</td><td>Motorcycles</td><td>1142.41</td></tr><tr><td>1</td><td>Motorcycles</td><td>1172.6</td></tr><tr><td>1</td><td>Motorcycles</td><td>6981.0</td></tr><tr><td>2</td><td>Motorcycles</td><td>3064.6</td></tr><tr><td>2</td><td>Motorcycles</td><td>2202.48</td></tr><tr><td>1</td><td>Vintage Cars</td><td>3773.38</td></tr><tr><td>1</td><td>Vintage Cars</td><td>5074.39</td></tr><tr><td>2</td><td>Vintage Cars</td><td>6483.46</td></tr><tr><td>3</td><td>Vintage Cars</td><td>7956.46</td></tr><tr><td>3</td><td>Vintage Cars</td><td>4230.62</td></tr><tr><td>4</td><td>Vintage Cars</td><td>7209.12</td></tr><tr><td>4</td><td>Vintage Cars</td><td>3452.68</td></tr><tr><td>4</td><td>Vintage Cars</td><td>3047.73</td></tr><tr><td>4</td><td>Vintage Cars</td><td>3675.32</td></tr><tr><td>4</td><td>Vintage Cars</td><td>7492.4</td></tr><tr><td>1</td><td>Vintage Cars</td><td>9534.5</td></tr><tr><td>1</td><td>Vintage Cars</td><td>5579.02</td></tr><tr><td>2</td><td>Vintage Cars</td><td>5950.34</td></tr><tr><td>2</td><td>Vintage Cars</td><td>3726.0</td></tr><tr><td>3</td><td>Vintage Cars</td><td>4455.0</td></tr><tr><td>3</td><td>Vintage Cars</td><td>8272.34</td></tr><tr><td>4</td><td>Vintage Cars</td><td>3577.6</td></tr><tr><td>4</td><td>Vintage Cars</td><td>3881.25</td></tr><tr><td>4</td><td>Vintage Cars</td><td>5797.44</td></tr><tr><td>4</td><td>Vintage Cars</td><td>1264.08</td></tr><tr><td>4</td><td>Vintage Cars</td><td>4815.3</td></tr><tr><td>4</td><td>Vintage Cars</td><td>4462.2</td></tr><tr><td>1</td><td>Vintage Cars</td><td>3033.28</td></tr><tr><td>1</td><td>Vintage Cars</td><td>990.78</td></tr><tr><td>1</td><td>Vintage Cars</td><td>2030.86</td></tr><tr><td>2</td><td>Vintage Cars</td><td>5433.75</td></tr><tr><td>1</td><td>Classic Cars</td><td>3157.44</td></tr><tr><td>2</td><td>Classic Cars</td><td>5161.2</td></tr><tr><td>3</td><td>Classic Cars</td><td>4346.76</td></tr><tr><td>3</td><td>Classic Cars</td><td>3528.36</td></tr><tr><td>4</td><td>Classic Cars</td><td>3187.8</td></tr><tr><td>4</td><td>Classic Cars</td><td>6023.16</td></tr><tr><td>4</td><td>Classic Cars</td><td>3884.76</td></tr><tr><td>4</td><td>Classic Cars</td><td>4965.84</td></tr><tr><td>4</td><td>Classic Cars</td><td>4169.88</td></tr><tr><td>1</td><td>Classic Cars</td><td>4910.4</td></tr><tr><td>1</td><td>Classic Cars</td><td>3231.36</td></tr><tr><td>2</td><td>Classic Cars</td><td>6853.44</td></tr><tr><td>2</td><td>Classic Cars</td><td>5177.04</td></tr><tr><td>3</td><td>Classic Cars</td><td>2824.8</td></tr><tr><td>3</td><td>Classic Cars</td><td>4324.32</td></tr><tr><td>3</td><td>Classic Cars</td><td>5052.96</td></tr><tr><td>4</td><td>Classic Cars</td><td>3223.44</td></tr><tr><td>4</td><td>Classic Cars</td><td>5278.68</td></tr><tr><td>4</td><td>Classic Cars</td><td>2851.2</td></tr><tr><td>4</td><td>Classic Cars</td><td>1687.4</td></tr><tr><td>4</td><td>Classic Cars</td><td>1308.0</td></tr><tr><td>1</td><td>Classic Cars</td><td>6144.6</td></tr><tr><td>1</td><td>Classic Cars</td><td>5127.2</td></tr><tr><td>2</td><td>Classic Cars</td><td>6386.16</td></tr><tr><td>2</td><td>Classic Cars</td><td>7695.6</td></tr><tr><td>1</td><td>Vintage Cars</td><td>2242.89</td></tr><tr><td>1</td><td>Vintage Cars</td><td>2539.89</td></tr><tr><td>2</td><td>Vintage Cars</td><td>2795.27</td></tr><tr><td>3</td><td>Vintage Cars</td><td>5545.76</td></tr><tr><td>3</td><td>Vintage Cars</td><td>4285.46</td></tr><tr><td>4</td><td>Vintage Cars</td><td>3329.09</td></tr><tr><td>4</td><td>Vintage Cars</td><td>5592.22</td></tr><tr><td>4</td><td>Vintage Cars</td><td>3298.55</td></tr><tr><td>4</td><td>Vintage Cars</td><td>2609.88</td></tr><tr><td>4</td><td>Vintage Cars</td><td>3336.29</td></tr><tr><td>1</td><td>Vintage Cars</td><td>5510.05</td></tr><tr><td>1</td><td>Vintage Cars</td><td>2504.4</td></tr><tr><td>2</td><td>Vintage Cars</td><td>3525.6</td></tr><tr><td>2</td><td>Vintage Cars</td><td>4407.0</td></tr><tr><td>3</td><td>Vintage Cars</td><td>2983.44</td></tr><tr><td>3</td><td>Vintage Cars</td><td>5126.24</td></tr><tr><td>3</td><td>Vintage Cars</td><td>5713.79</td></tr><tr><td>4</td><td>Vintage Cars</td><td>4613.8</td></tr><tr><td>4</td><td>Vintage Cars</td><td>3711.1</td></tr><tr><td>4</td><td>Vintage Cars</td><td>3524.73</td></tr><tr><td>4</td><td>Vintage Cars</td><td>2795.27</td></tr><tr><td>4</td><td>Vintage Cars</td><td>4814.4</td></tr><tr><td>4</td><td>Vintage Cars</td><td>3572.33</td></tr><tr><td>1</td><td>Vintage Cars</td><td>4581.36</td></tr><tr><td>1</td><td>Vintage Cars</td><td>4319.76</td></tr><tr><td>1</td><td>Vintage Cars</td><td>1448.0</td></tr><tr><td>2</td><td>Vintage Cars</td><td>881.4</td></tr><tr><td>1</td><td>Vintage Cars</td><td>2011.1</td></tr><tr><td>1</td><td>Vintage Cars</td><td>1801.24</td></tr><tr><td>2</td><td>Vintage Cars</td><td>3390.2</td></tr><tr><td>3</td><td>Vintage Cars</td><td>1424.0</td></tr><tr><td>3</td><td>Vintage Cars</td><td>1499.1</td></tr><tr><td>4</td><td>Vintage Cars</td><td>3358.08</td></tr><tr><td>4</td><td>Vintage Cars</td><td>1504.16</td></tr><tr><td>4</td><td>Vintage Cars</td><td>2655.12</td></tr><tr><td>4</td><td>Vintage Cars</td><td>1244.16</td></tr><tr><td>4</td><td>Vintage Cars</td><td>1888.88</td></tr><tr><td>1</td><td>Vintage Cars</td><td>1820.01</td></tr><tr><td>1</td><td>Vintage Cars</td><td>2866.95</td></tr><tr><td>2</td><td>Vintage Cars</td><td>1394.16</td></tr><tr><td>2</td><td>Vintage Cars</td><td>2632.28</td></tr><tr><td>3</td><td>Vintage Cars</td><td>2018.56</td></tr><tr><td>3</td><td>Vintage Cars</td><td>2954.53</td></tr><tr><td>3</td><td>Vintage Cars</td><td>1871.83</td></tr><tr><td>4</td><td>Vintage Cars</td><td>1559.04</td></tr><tr><td>4</td><td>Vintage Cars</td><td>1880.2</td></tr><tr><td>4</td><td>Vintage Cars</td><td>1224.67</td></tr><tr><td>4</td><td>Vintage Cars</td><td>2979.08</td></tr><tr><td>4</td><td>Vintage Cars</td><td>2208.64</td></tr><tr><td>4</td><td>Vintage Cars</td><td>3458.42</td></tr><tr><td>1</td><td>Vintage Cars</td><td>1237.88</td></tr><tr><td>1</td><td>Vintage Cars</td><td>2723.2</td></tr><tr><td>1</td><td>Vintage Cars</td><td>2218.52</td></tr><tr><td>2</td><td>Vintage Cars</td><td>1665.32</td></tr><tr><td>1</td><td>Ships</td><td>3421.04</td></tr><tr><td>2</td><td>Ships</td><td>1878.66</td></tr><tr><td>2</td><td>Ships</td><td>3853.6</td></tr><tr><td>3</td><td>Ships</td><td>3442.64</td></tr><tr><td>4</td><td>Ships</td><td>3482.16</td></tr><tr><td>4</td><td>Ships</td><td>3363.52</td></tr><tr><td>4</td><td>Ships</td><td>3350.52</td></tr><tr><td>4</td><td>Ships</td><td>2862.72</td></tr><tr><td>4</td><td>Ships</td><td>4036.04</td></tr><tr><td>1</td><td>Ships</td><td>2817.92</td></tr><tr><td>1</td><td>Ships</td><td>4636.38</td></tr><tr><td>2</td><td>Ships</td><td>1553.58</td></tr><tr><td>2</td><td>Ships</td><td>2697.6</td></tr><tr><td>3</td><td>Ships</td><td>3334.04</td></tr><tr><td>3</td><td>Ships</td><td>2059.26</td></tr><tr><td>3</td><td>Ships</td><td>2023.14</td></tr><tr><td>4</td><td>Ships</td><td>2586.64</td></tr><tr><td>4</td><td>Ships</td><td>1987.02</td></tr><tr><td>4</td><td>Ships</td><td>1146.5</td></tr><tr><td>4</td><td>Ships</td><td>2312.24</td></tr><tr><td>4</td><td>Ships</td><td>2793.71</td></tr><tr><td>1</td><td>Ships</td><td>1908.28</td></tr><tr><td>1</td><td>Ships</td><td>3441.37</td></tr><tr><td>1</td><td>Ships</td><td>2023.28</td></tr><tr><td>2</td><td>Ships</td><td>2245.2</td></tr><tr><td>2</td><td>Ships</td><td>3255.12</td></tr><tr><td>1</td><td>Vintage Cars</td><td>2539.5</td></tr><tr><td>1</td><td>Vintage Cars</td><td>4818.15</td></tr><tr><td>2</td><td>Vintage Cars</td><td>2921.7</td></tr><tr><td>3</td><td>Vintage Cars</td><td>1801.2</td></tr><tr><td>3</td><td>Vintage Cars</td><td>2804.36</td></tr><tr><td>4</td><td>Vintage Cars</td><td>4900.8</td></tr><tr><td>4</td><td>Vintage Cars</td><td>2759.31</td></tr><tr><td>4</td><td>Vintage Cars</td><td>2488.2</td></tr><tr><td>4</td><td>Vintage Cars</td><td>2769.89</td></tr><tr><td>4</td><td>Vintage Cars</td><td>3581.4</td></tr><tr><td>1</td><td>Vintage Cars</td><td>5285.14</td></tr><tr><td>1</td><td>Vintage Cars</td><td>3181.53</td></tr><tr><td>2</td><td>Vintage Cars</td><td>3340.51</td></tr><tr><td>2</td><td>Vintage Cars</td><td>3138.34</td></tr><tr><td>3</td><td>Vintage Cars</td><td>4775.08</td></tr><tr><td>3</td><td>Vintage Cars</td><td>3006.43</td></tr><tr><td>3</td><td>Vintage Cars</td><td>2866.26</td></tr><tr><td>4</td><td>Vintage Cars</td><td>2232.62</td></tr><tr><td>4</td><td>Vintage Cars</td><td>4457.02</td></tr><tr><td>4</td><td>Vintage Cars</td><td>2257.92</td></tr><tr><td>4</td><td>Vintage Cars</td><td>1592.0</td></tr><tr><td>4</td><td>Vintage Cars</td><td>4948.2</td></tr><tr><td>4</td><td>Vintage Cars</td><td>5160.76</td></tr><tr><td>1</td><td>Vintage Cars</td><td>1978.62</td></tr><tr><td>1</td><td>Vintage Cars</td><td>4288.2</td></tr><tr><td>1</td><td>Vintage Cars</td><td>2520.68</td></tr><tr><td>2</td><td>Vintage Cars</td><td>1781.22</td></tr><tr><td>1</td><td>Vintage Cars</td><td>3065.04</td></tr><tr><td>2</td><td>Vintage Cars</td><td>3551.34</td></tr><tr><td>2</td><td>Vintage Cars</td><td>5544.02</td></tr><tr><td>3</td><td>Vintage Cars</td><td>6034.33</td></tr><tr><td>3</td><td>Vintage Cars</td><td>3641.57</td></tr><tr><td>4</td><td>Vintage Cars</td><td>6930.74</td></tr><tr><td>4</td><td>Vintage Cars</td><td>3675.63</td></tr><tr><td>4</td><td>Vintage Cars</td><td>3442.04</td></tr><tr><td>4</td><td>Vintage Cars</td><td>6893.81</td></tr><tr><td>1</td><td>Vintage Cars</td><td>2622.48</td></tr><tr><td>1</td><td>Vintage Cars</td><td>4417.38</td></tr><tr><td>1</td><td>Vintage Cars</td><td>3606.02</td></tr><tr><td>2</td><td>Vintage Cars</td><td>3802.56</td></tr><tr><td>3</td><td>Vintage Cars</td><td>5026.4</td></tr><tr><td>3</td><td>Vintage Cars</td><td>6695.53</td></tr><tr><td>3</td><td>Vintage Cars</td><td>2819.28</td></tr><tr><td>4</td><td>Vintage Cars</td><td>3759.04</td></tr><tr><td>4</td><td>Vintage Cars</td><td>2731.8</td></tr><tr><td>4</td><td>Vintage Cars</td><td>1658.88</td></tr><tr><td>4</td><td>Vintage Cars</td><td>5778.24</td></tr><tr><td>4</td><td>Vintage Cars</td><td>5191.12</td></tr><tr><td>1</td><td>Vintage Cars</td><td>3862.88</td></tr><tr><td>1</td><td>Vintage Cars</td><td>1476.48</td></tr><tr><td>1</td><td>Vintage Cars</td><td>5273.73</td></tr><tr><td>2</td><td>Vintage Cars</td><td>4872.03</td></tr><tr><td>1</td><td>Classic Cars</td><td>4556.99</td></tr><tr><td>1</td><td>Classic Cars</td><td>8257.0</td></tr><tr><td>2</td><td>Classic Cars</td><td>8209.44</td></tr><tr><td>2</td><td>Classic Cars</td><td>3598.5</td></tr><tr><td>2</td><td>Classic Cars</td><td>3837.24</td></tr><tr><td>3</td><td>Classic Cars</td><td>8331.61</td></tr><tr><td>3</td><td>Classic Cars</td><td>4836.5</td></tr><tr><td>3</td><td>Classic Cars</td><td>5418.88</td></tr><tr><td>3</td><td>Classic Cars</td><td>3734.01</td></tr><tr><td>4</td><td>Classic Cars</td><td>3996.4</td></tr><tr><td>4</td><td>Classic Cars</td><td>8754.69</td></tr><tr><td>4</td><td>Classic Cars</td><td>5481.45</td></tr><tr><td>4</td><td>Classic Cars</td><td>4419.89</td></tr><tr><td>4</td><td>Classic Cars</td><td>6324.75</td></tr><tr><td>4</td><td>Classic Cars</td><td>4409.72</td></tr><tr><td>4</td><td>Classic Cars</td><td>3918.46</td></tr><tr><td>4</td><td>Classic Cars</td><td>7620.5</td></tr><tr><td>4</td><td>Classic Cars</td><td>8291.04</td></tr><tr><td>4</td><td>Classic Cars</td><td>3937.25</td></tr><tr><td>1</td><td>Classic Cars</td><td>5554.4</td></tr><tr><td>1</td><td>Classic Cars</td><td>6407.86</td></tr><tr><td>1</td><td>Classic Cars</td><td>4172.52</td></tr><tr><td>2</td><td>Classic Cars</td><td>7083.37</td></tr><tr><td>2</td><td>Classic Cars</td><td>7132.68</td></tr><tr><td>2</td><td>Classic Cars</td><td>6773.6</td></tr><tr><td>2</td><td>Classic Cars</td><td>3657.69</td></tr><tr><td>3</td><td>Classic Cars</td><td>4812.55</td></tr><tr><td>3</td><td>Classic Cars</td><td>3928.6</td></tr><tr><td>3</td><td>Classic Cars</td><td>6401.22</td></tr><tr><td>3</td><td>Classic Cars</td><td>4191.25</td></tr><tr><td>3</td><td>Classic Cars</td><td>5852.52</td></tr><tr><td>3</td><td>Classic Cars</td><td>2844.87</td></tr><tr><td>4</td><td>Classic Cars</td><td>4011.66</td></tr><tr><td>4</td><td>Classic Cars</td><td>7455.87</td></tr><tr><td>4</td><td>Classic Cars</td><td>8940.96</td></tr><tr><td>4</td><td>Classic Cars</td><td>4572.25</td></tr><tr><td>4</td><td>Classic Cars</td><td>5700.09</td></tr><tr><td>4</td><td>Classic Cars</td><td>3155.49</td></tr><tr><td>4</td><td>Classic Cars</td><td>4170.69</td></tr><tr><td>4</td><td>Classic Cars</td><td>2878.8</td></tr><tr><td>4</td><td>Classic Cars</td><td>5029.5</td></tr><tr><td>4</td><td>Classic Cars</td><td>7396.8</td></tr><tr><td>4</td><td>Classic Cars</td><td>2991.68</td></tr><tr><td>1</td><td>Classic Cars</td><td>6275.72</td></tr><tr><td>1</td><td>Classic Cars</td><td>1534.95</td></tr><tr><td>1</td><td>Classic Cars</td><td>7264.53</td></tr><tr><td>1</td><td>Classic Cars</td><td>6869.05</td></tr><tr><td>1</td><td>Classic Cars</td><td>3353.02</td></tr><tr><td>2</td><td>Classic Cars</td><td>8289.05</td></tr><tr><td>2</td><td>Classic Cars</td><td>11887.8</td></tr><tr><td>2</td><td>Classic Cars</td><td>5926.9</td></tr><tr><td>2</td><td>Classic Cars</td><td>3793.16</td></tr><tr><td>1</td><td>Trains</td><td>4330.1</td></tr><tr><td>2</td><td>Trains</td><td>2011.8</td></tr><tr><td>2</td><td>Trains</td><td>4837.18</td></tr><tr><td>3</td><td>Trains</td><td>2151.82</td></tr><tr><td>3</td><td>Trains</td><td>2573.46</td></tr><tr><td>4</td><td>Trains</td><td>5344.5</td></tr><tr><td>4</td><td>Trains</td><td>3070.52</td></tr><tr><td>4</td><td>Trains</td><td>3952.83</td></tr><tr><td>4</td><td>Trains</td><td>3564.75</td></tr><tr><td>1</td><td>Trains</td><td>5614.56</td></tr><tr><td>1</td><td>Trains</td><td>1855.41</td></tr><tr><td>1</td><td>Trains</td><td>4598.4</td></tr><tr><td>2</td><td>Trains</td><td>5082.42</td></tr><tr><td>3</td><td>Trains</td><td>5450.59</td></tr><tr><td>3</td><td>Trains</td><td>4174.92</td></tr><tr><td>3</td><td>Trains</td><td>2418.24</td></tr><tr><td>4</td><td>Trains</td><td>3670.4</td></tr><tr><td>4</td><td>Trains</td><td>2481.7</td></tr><tr><td>4</td><td>Trains</td><td>3807.68</td></tr><tr><td>4</td><td>Trains</td><td>2230.41</td></tr><tr><td>4</td><td>Trains</td><td>3814.64</td></tr><tr><td>1</td><td>Trains</td><td>2117.75</td></tr><tr><td>1</td><td>Trains</td><td>3340.48</td></tr><tr><td>1</td><td>Trains</td><td>2154.0</td></tr><tr><td>2</td><td>Trains</td><td>5808.48</td></tr><tr><td>1</td><td>Classic Cars</td><td>1777.1</td></tr><tr><td>2</td><td>Classic Cars</td><td>1536.57</td></tr><tr><td>3</td><td>Classic Cars</td><td>3510.0</td></tr><tr><td>3</td><td>Classic Cars</td><td>3097.44</td></tr><tr><td>4</td><td>Classic Cars</td><td>1705.41</td></tr><tr><td>4</td><td>Classic Cars</td><td>2264.32</td></tr><tr><td>4</td><td>Classic Cars</td><td>2484.6</td></tr><tr><td>4</td><td>Classic Cars</td><td>3415.68</td></tr><tr><td>4</td><td>Classic Cars</td><td>2839.32</td></tr><tr><td>1</td><td>Classic Cars</td><td>2730.0</td></tr><tr><td>1</td><td>Classic Cars</td><td>3540.53</td></tr><tr><td>2</td><td>Classic Cars</td><td>2999.97</td></tr><tr><td>2</td><td>Classic Cars</td><td>1527.8</td></tr><tr><td>3</td><td>Classic Cars</td><td>3907.8</td></tr><tr><td>3</td><td>Classic Cars</td><td>2658.48</td></tr><tr><td>3</td><td>Classic Cars</td><td>3042.68</td></tr><tr><td>4</td><td>Classic Cars</td><td>3861.2</td></tr><tr><td>4</td><td>Classic Cars</td><td>2171.07</td></tr><tr><td>4</td><td>Classic Cars</td><td>3403.08</td></tr><tr><td>4</td><td>Classic Cars</td><td>2245.8</td></tr><tr><td>4</td><td>Classic Cars</td><td>1668.5</td></tr><tr><td>1</td><td>Classic Cars</td><td>2773.8</td></tr><tr><td>1</td><td>Classic Cars</td><td>2464.0</td></tr><tr><td>1</td><td>Classic Cars</td><td>5491.6</td></tr><tr><td>1</td><td>Vintage Cars</td><td>4791.82</td></tr><tr><td>1</td><td>Vintage Cars</td><td>4178.85</td></tr><tr><td>2</td><td>Vintage Cars</td><td>3128.92</td></tr><tr><td>3</td><td>Vintage Cars</td><td>3095.4</td></tr><tr><td>3</td><td>Vintage Cars</td><td>3958.5</td></tr><tr><td>4</td><td>Vintage Cars</td><td>4991.44</td></tr><tr><td>4</td><td>Vintage Cars</td><td>2761.96</td></tr><tr><td>4</td><td>Vintage Cars</td><td>2848.23</td></tr><tr><td>4</td><td>Vintage Cars</td><td>2539.84</td></tr><tr><td>4</td><td>Vintage Cars</td><td>2444.4</td></tr><tr><td>1</td><td>Vintage Cars</td><td>4555.92</td></tr><tr><td>1</td><td>Vintage Cars</td><td>3666.96</td></tr><tr><td>2</td><td>Vintage Cars</td><td>3035.88</td></tr><tr><td>2</td><td>Vintage Cars</td><td>2321.54</td></tr><tr><td>3</td><td>Vintage Cars</td><td>3474.46</td></tr><tr><td>3</td><td>Vintage Cars</td><td>2501.98</td></tr><tr><td>4</td><td>Vintage Cars</td><td>3958.46</td></tr><tr><td>4</td><td>Vintage Cars</td><td>3535.95</td></tr><tr><td>4</td><td>Vintage Cars</td><td>3011.91</td></tr><tr><td>4</td><td>Vintage Cars</td><td>11336.7</td></tr><tr><td>4</td><td>Vintage Cars</td><td>2656.94</td></tr><tr><td>4</td><td>Vintage Cars</td><td>2604.25</td></tr><tr><td>1</td><td>Vintage Cars</td><td>3288.6</td></tr><tr><td>1</td><td>Vintage Cars</td><td>8935.5</td></tr><tr><td>1</td><td>Vintage Cars</td><td>4035.96</td></tr><tr><td>2</td><td>Vintage Cars</td><td>1875.09</td></tr><tr><td>1</td><td>Classic Cars</td><td>4049.56</td></tr><tr><td>2</td><td>Classic Cars</td><td>2469.39</td></tr><tr><td>3</td><td>Classic Cars</td><td>5432.7</td></tr><tr><td>3</td><td>Classic Cars</td><td>4405.22</td></tr><tr><td>4</td><td>Classic Cars</td><td>3638.0</td></tr><tr><td>4</td><td>Classic Cars</td><td>4444.92</td></tr><tr><td>4</td><td>Classic Cars</td><td>3395.48</td></tr><tr><td>4</td><td>Classic Cars</td><td>3414.58</td></tr><tr><td>4</td><td>Classic Cars</td><td>5127.04</td></tr><tr><td>1</td><td>Classic Cars</td><td>3745.28</td></tr><tr><td>1</td><td>Classic Cars</td><td>4564.08</td></tr><tr><td>2</td><td>Classic Cars</td><td>6554.24</td></tr><tr><td>2</td><td>Classic Cars</td><td>6749.83</td></tr><tr><td>3</td><td>Classic Cars</td><td>8427.02</td></tr><tr><td>3</td><td>Classic Cars</td><td>3924.6</td></tr><tr><td>3</td><td>Classic Cars</td><td>6761.6</td></tr><tr><td>4</td><td>Classic Cars</td><td>3786.49</td></tr><tr><td>4</td><td>Classic Cars</td><td>6266.12</td></tr><tr><td>4</td><td>Classic Cars</td><td>3491.0</td></tr><tr><td>4</td><td>Classic Cars</td><td>4405.22</td></tr><tr><td>4</td><td>Classic Cars</td><td>6548.3</td></tr><tr><td>4</td><td>Classic Cars</td><td>3177.91</td></tr><tr><td>1</td><td>Classic Cars</td><td>4142.64</td></tr><tr><td>1</td><td>Classic Cars</td><td>4149.07</td></tr><tr><td>1</td><td>Classic Cars</td><td>7397.0</td></tr><tr><td>1</td><td>Classic Cars</td><td>6241.6</td></tr><tr><td>2</td><td>Classic Cars</td><td>5331.88</td></tr><tr><td>3</td><td>Classic Cars</td><td>5124.3</td></tr><tr><td>3</td><td>Classic Cars</td><td>3639.44</td></tr><tr><td>4</td><td>Classic Cars</td><td>5544.0</td></tr><tr><td>4</td><td>Classic Cars</td><td>5493.12</td></tr><tr><td>4</td><td>Classic Cars</td><td>5785.26</td></tr><tr><td>4</td><td>Classic Cars</td><td>5340.6</td></tr><tr><td>4</td><td>Classic Cars</td><td>5735.8</td></tr><tr><td>1</td><td>Classic Cars</td><td>6357.6</td></tr><tr><td>1</td><td>Classic Cars</td><td>7343.9</td></tr><tr><td>2</td><td>Classic Cars</td><td>5959.22</td></tr><tr><td>2</td><td>Classic Cars</td><td>4029.38</td></tr><tr><td>3</td><td>Classic Cars</td><td>5035.14</td></tr><tr><td>3</td><td>Classic Cars</td><td>4116.8</td></tr><tr><td>3</td><td>Classic Cars</td><td>4310.55</td></tr><tr><td>4</td><td>Classic Cars</td><td>6446.7</td></tr><tr><td>4</td><td>Classic Cars</td><td>3616.64</td></tr><tr><td>4</td><td>Classic Cars</td><td>4232.76</td></tr><tr><td>4</td><td>Classic Cars</td><td>1765.66</td></tr><tr><td>4</td><td>Classic Cars</td><td>3734.72</td></tr><tr><td>1</td><td>Classic Cars</td><td>4808.38</td></tr><tr><td>1</td><td>Classic Cars</td><td>2266.56</td></tr><tr><td>2</td><td>Classic Cars</td><td>10468.9</td></tr><tr><td>2</td><td>Classic Cars</td><td>5589.14</td></tr><tr><td>1</td><td>Motorcycles</td><td>2914.11</td></tr><tr><td>2</td><td>Motorcycles</td><td>1740.9</td></tr><tr><td>3</td><td>Motorcycles</td><td>2266.2</td></tr><tr><td>3</td><td>Motorcycles</td><td>3155.58</td></tr><tr><td>4</td><td>Motorcycles</td><td>1357.86</td></tr><tr><td>4</td><td>Motorcycles</td><td>2598.82</td></tr><tr><td>4</td><td>Motorcycles</td><td>1057.56</td></tr><tr><td>4</td><td>Motorcycles</td><td>3127.82</td></tr><tr><td>1</td><td>Motorcycles</td><td>2488.14</td></tr><tr><td>1</td><td>Motorcycles</td><td>2220.72</td></tr><tr><td>2</td><td>Motorcycles</td><td>1357.72</td></tr><tr><td>2</td><td>Motorcycles</td><td>1638.04</td></tr><tr><td>2</td><td>Motorcycles</td><td>2626.08</td></tr><tr><td>3</td><td>Motorcycles</td><td>1661.88</td></tr><tr><td>3</td><td>Motorcycles</td><td>2173.6</td></tr><tr><td>3</td><td>Motorcycles</td><td>2182.05</td></tr><tr><td>4</td><td>Motorcycles</td><td>2819.88</td></tr><tr><td>4</td><td>Motorcycles</td><td>2598.64</td></tr><tr><td>4</td><td>Motorcycles</td><td>2019.27</td></tr><tr><td>4</td><td>Motorcycles</td><td>1454.7</td></tr><tr><td>4</td><td>Motorcycles</td><td>1657.57</td></tr><tr><td>1</td><td>Motorcycles</td><td>2851.84</td></tr><tr><td>1</td><td>Motorcycles</td><td>4609.64</td></tr><tr><td>1</td><td>Motorcycles</td><td>5079.96</td></tr><tr><td>2</td><td>Motorcycles</td><td>1879.92</td></tr><tr><td>1</td><td>Vintage Cars</td><td>4774.86</td></tr><tr><td>2</td><td>Vintage Cars</td><td>2687.04</td></tr><tr><td>2</td><td>Vintage Cars</td><td>3423.75</td></tr><tr><td>3</td><td>Vintage Cars</td><td>3455.76</td></tr><tr><td>4</td><td>Vintage Cars</td><td>3622.97</td></tr><tr><td>4</td><td>Vintage Cars</td><td>3599.58</td></tr><tr><td>4</td><td>Vintage Cars</td><td>5386.56</td></tr><tr><td>4</td><td>Vintage Cars</td><td>4918.78</td></tr><tr><td>4</td><td>Vintage Cars</td><td>2538.8</td></tr><tr><td>1</td><td>Vintage Cars</td><td>2498.6</td></tr><tr><td>1</td><td>Vintage Cars</td><td>3858.75</td></tr><tr><td>2</td><td>Vintage Cars</td><td>5600.5</td></tr><tr><td>2</td><td>Vintage Cars</td><td>4103.46</td></tr><tr><td>3</td><td>Vintage Cars</td><td>4287.5</td></tr><tr><td>3</td><td>Vintage Cars</td><td>5795.54</td></tr><tr><td>3</td><td>Vintage Cars</td><td>1863.4</td></tr><tr><td>4</td><td>Vintage Cars</td><td>4166.88</td></tr><tr><td>4</td><td>Vintage Cars</td><td>4080.07</td></tr><tr><td>4</td><td>Vintage Cars</td><td>3815.48</td></tr><tr><td>4</td><td>Vintage Cars</td><td>5526.45</td></tr><tr><td>4</td><td>Vintage Cars</td><td>3374.6</td></tr><tr><td>1</td><td>Vintage Cars</td><td>3024.5</td></tr><tr><td>1</td><td>Vintage Cars</td><td>1266.1</td></tr><tr><td>1</td><td>Vintage Cars</td><td>4811.85</td></tr><tr><td>2</td><td>Vintage Cars</td><td>7307.42</td></tr><tr><td>2</td><td>Vintage Cars</td><td>6209.25</td></tr><tr><td>1</td><td>Classic Cars</td><td>5348.5</td></tr><tr><td>2</td><td>Classic Cars</td><td>2780.58</td></tr><tr><td>2</td><td>Classic Cars</td><td>3447.0</td></tr><tr><td>3</td><td>Classic Cars</td><td>3791.52</td></tr><tr><td>3</td><td>Classic Cars</td><td>4524.1</td></tr><tr><td>4</td><td>Classic Cars</td><td>3337.6</td></tr><tr><td>4</td><td>Classic Cars</td><td>5532.12</td></tr><tr><td>4</td><td>Classic Cars</td><td>5096.91</td></tr><tr><td>4</td><td>Classic Cars</td><td>4537.08</td></tr><tr><td>4</td><td>Classic Cars</td><td>6146.8</td></tr><tr><td>1</td><td>Classic Cars</td><td>8258.0</td></tr><tr><td>1</td><td>Classic Cars</td><td>7238.28</td></tr><tr><td>2</td><td>Classic Cars</td><td>6756.0</td></tr><tr><td>3</td><td>Classic Cars</td><td>3734.0</td></tr><tr><td>3</td><td>Classic Cars</td><td>4674.8</td></tr><tr><td>3</td><td>Classic Cars</td><td>7140.76</td></tr><tr><td>4</td><td>Classic Cars</td><td>3600.65</td></tr><tr><td>4</td><td>Classic Cars</td><td>4206.74</td></tr><tr><td>4</td><td>Classic Cars</td><td>5379.71</td></tr><tr><td>4</td><td>Classic Cars</td><td>5679.36</td></tr><tr><td>4</td><td>Classic Cars</td><td>4394.84</td></tr><tr><td>4</td><td>Classic Cars</td><td>2528.25</td></tr><tr><td>1</td><td>Classic Cars</td><td>7031.52</td></tr><tr><td>1</td><td>Classic Cars</td><td>5340.9</td></tr><tr><td>1</td><td>Classic Cars</td><td>6376.58</td></tr><tr><td>2</td><td>Classic Cars</td><td>6896.75</td></tr><tr><td>1</td><td>Vintage Cars</td><td>1903.22</td></tr><tr><td>1</td><td>Vintage Cars</td><td>2499.56</td></tr><tr><td>2</td><td>Vintage Cars</td><td>3081.24</td></tr><tr><td>3</td><td>Vintage Cars</td><td>3598.22</td></tr><tr><td>4</td><td>Vintage Cars</td><td>3912.09</td></tr><tr><td>4</td><td>Vintage Cars</td><td>1584.66</td></tr><tr><td>4</td><td>Vintage Cars</td><td>3942.72</td></tr><tr><td>4</td><td>Vintage Cars</td><td>2341.2</td></tr><tr><td>4</td><td>Vintage Cars</td><td>2482.11</td></tr><tr><td>1</td><td>Vintage Cars</td><td>3602.02</td></tr><tr><td>1</td><td>Vintage Cars</td><td>3566.94</td></tr><tr><td>2</td><td>Vintage Cars</td><td>3787.98</td></tr><tr><td>3</td><td>Vintage Cars</td><td>3704.05</td></tr><tr><td>3</td><td>Vintage Cars</td><td>2834.65</td></tr><tr><td>4</td><td>Vintage Cars</td><td>3392.26</td></tr><tr><td>4</td><td>Vintage Cars</td><td>3358.31</td></tr><tr><td>4</td><td>Vintage Cars</td><td>7310.0</td></tr><tr><td>4</td><td>Vintage Cars</td><td>2203.11</td></tr><tr><td>1</td><td>Vintage Cars</td><td>2696.96</td></tr><tr><td>1</td><td>Vintage Cars</td><td>3376.64</td></tr><tr><td>2</td><td>Vintage Cars</td><td>541.14</td></tr><tr><td>2</td><td>Vintage Cars</td><td>6134.7</td></tr><tr><td>1</td><td>Vintage Cars</td><td>3382.5</td></tr><tr><td>2</td><td>Vintage Cars</td><td>2240.66</td></tr><tr><td>2</td><td>Vintage Cars</td><td>3962.88</td></tr><tr><td>3</td><td>Vintage Cars</td><td>1685.28</td></tr><tr><td>3</td><td>Vintage Cars</td><td>1834.36</td></tr><tr><td>4</td><td>Vintage Cars</td><td>1916.98</td></tr><tr><td>4</td><td>Vintage Cars</td><td>2611.0</td></tr><tr><td>4</td><td>Vintage Cars</td><td>3630.28</td></tr><tr><td>4</td><td>Vintage Cars</td><td>5090.5</td></tr><tr><td>1</td><td>Vintage Cars</td><td>3949.65</td></tr><tr><td>1</td><td>Vintage Cars</td><td>3491.67</td></tr><tr><td>1</td><td>Vintage Cars</td><td>2059.19</td></tr><tr><td>2</td><td>Vintage Cars</td><td>3170.16</td></tr><tr><td>2</td><td>Vintage Cars</td><td>1790.6</td></tr><tr><td>3</td><td>Vintage Cars</td><td>2345.97</td></tr><tr><td>3</td><td>Vintage Cars</td><td>3580.88</td></tr><tr><td>3</td><td>Vintage Cars</td><td>4946.06</td></tr><tr><td>4</td><td>Vintage Cars</td><td>3525.6</td></tr><tr><td>4</td><td>Vintage Cars</td><td>3602.16</td></tr><tr><td>4</td><td>Vintage Cars</td><td>4300.5</td></tr><tr><td>4</td><td>Vintage Cars</td><td>4498.19</td></tr><tr><td>4</td><td>Vintage Cars</td><td>3023.1</td></tr><tr><td>1</td><td>Vintage Cars</td><td>3562.49</td></tr><tr><td>1</td><td>Vintage Cars</td><td>1640.24</td></tr><tr><td>1</td><td>Vintage Cars</td><td>4739.4</td></tr><tr><td>2</td><td>Vintage Cars</td><td>1207.68</td></tr><tr><td>1</td><td>Trucks and Buses</td><td>4228.2</td></tr><tr><td>2</td><td>Trucks and Buses</td><td>4815.45</td></tr><tr><td>2</td><td>Trucks and Buses</td><td>7083.0</td></tr><tr><td>3</td><td>Trucks and Buses</td><td>4601.2</td></tr><tr><td>3</td><td>Trucks and Buses</td><td>6467.02</td></tr><tr><td>4</td><td>Trucks and Buses</td><td>5012.55</td></tr><tr><td>4</td><td>Trucks and Buses</td><td>5121.59</td></tr><tr><td>4</td><td>Trucks and Buses</td><td>2441.04</td></tr><tr><td>4</td><td>Trucks and Buses</td><td>4262.08</td></tr><tr><td>4</td><td>Trucks and Buses</td><td>6658.02</td></tr><tr><td>1</td><td>Trucks and Buses</td><td>4509.08</td></tr><tr><td>1</td><td>Trucks and Buses</td><td>4716.23</td></tr><tr><td>2</td><td>Trucks and Buses</td><td>2390.22</td></tr><tr><td>2</td><td>Trucks and Buses</td><td>4666.62</td></tr><tr><td>3</td><td>Trucks and Buses</td><td>5383.08</td></tr><tr><td>3</td><td>Trucks and Buses</td><td>2482.25</td></tr><tr><td>3</td><td>Trucks and Buses</td><td>5288.64</td></tr><tr><td>4</td><td>Trucks and Buses</td><td>2184.38</td></tr><tr><td>4</td><td>Trucks and Buses</td><td>2881.76</td></tr><tr><td>4</td><td>Trucks and Buses</td><td>6203.06</td></tr><tr><td>4</td><td>Trucks and Buses</td><td>6763.47</td></tr><tr><td>4</td><td>Trucks and Buses</td><td>5884.65</td></tr><tr><td>4</td><td>Trucks and Buses</td><td>3559.64</td></tr><tr><td>1</td><td>Trucks and Buses</td><td>1668.37</td></tr><tr><td>1</td><td>Trucks and Buses</td><td>4890.6</td></tr><tr><td>2</td><td>Trucks and Buses</td><td>5235.72</td></tr><tr><td>2</td><td>Trucks and Buses</td><td>4325.16</td></tr><tr><td>1</td><td>Vintage Cars</td><td>1938.89</td></tr><tr><td>1</td><td>Vintage Cars</td><td>2490.5</td></tr><tr><td>2</td><td>Vintage Cars</td><td>2314.69</td></tr><tr><td>3</td><td>Vintage Cars</td><td>1254.83</td></tr><tr><td>3</td><td>Vintage Cars</td><td>1282.8</td></tr><tr><td>4</td><td>Vintage Cars</td><td>1345.75</td></tr><tr><td>4</td><td>Vintage Cars</td><td>2194.22</td></tr><tr><td>4</td><td>Vintage Cars</td><td>1972.0</td></tr><tr><td>4</td><td>Vintage Cars</td><td>1835.98</td></tr><tr><td>4</td><td>Vintage Cars</td><td>1119.93</td></tr><tr><td>1</td><td>Vintage Cars</td><td>2082.88</td></tr><tr><td>1</td><td>Vintage Cars</td><td>1569.75</td></tr><tr><td>2</td><td>Vintage Cars</td><td>2694.15</td></tr><tr><td>2</td><td>Vintage Cars</td><td>1257.27</td></tr><tr><td>3</td><td>Vintage Cars</td><td>2567.84</td></tr><tr><td>3</td><td>Vintage Cars</td><td>2634.28</td></tr><tr><td>3</td><td>Vintage Cars</td><td>1502.78</td></tr><tr><td>4</td><td>Vintage Cars</td><td>1676.2</td></tr><tr><td>4</td><td>Vintage Cars</td><td>2217.15</td></tr><tr><td>4</td><td>Vintage Cars</td><td>6832.02</td></tr><tr><td>4</td><td>Vintage Cars</td><td>1916.64</td></tr><tr><td>4</td><td>Vintage Cars</td><td>7110.8</td></tr><tr><td>4</td><td>Vintage Cars</td><td>5302.8</td></tr><tr><td>1</td><td>Vintage Cars</td><td>2730.0</td></tr><tr><td>1</td><td>Vintage Cars</td><td>7827.3</td></tr><tr><td>2</td><td>Vintage Cars</td><td>2095.45</td></tr><tr><td>2</td><td>Vintage Cars</td><td>1556.62</td></tr><tr><td>1</td><td>Classic Cars</td><td>5565.12</td></tr><tr><td>2</td><td>Classic Cars</td><td>3583.16</td></tr><tr><td>3</td><td>Classic Cars</td><td>4705.18</td></tr><tr><td>3</td><td>Classic Cars</td><td>4444.54</td></tr><tr><td>4</td><td>Classic Cars</td><td>4618.88</td></tr><tr><td>4</td><td>Classic Cars</td><td>4910.4</td></tr><tr><td>4</td><td>Classic Cars</td><td>5565.12</td></tr><tr><td>4</td><td>Classic Cars</td><td>4237.76</td></tr><tr><td>1</td><td>Classic Cars</td><td>5673.58</td></tr><tr><td>1</td><td>Classic Cars</td><td>5260.15</td></tr><tr><td>2</td><td>Classic Cars</td><td>6350.96</td></tr><tr><td>2</td><td>Classic Cars</td><td>3559.4</td></tr><tr><td>2</td><td>Classic Cars</td><td>2410.6</td></tr><tr><td>3</td><td>Classic Cars</td><td>5713.92</td></tr><tr><td>3</td><td>Classic Cars</td><td>4300.32</td></tr><tr><td>3</td><td>Classic Cars</td><td>7947.31</td></tr><tr><td>4</td><td>Classic Cars</td><td>5356.8</td></tr><tr><td>4</td><td>Classic Cars</td><td>7901.1</td></tr><tr><td>4</td><td>Classic Cars</td><td>6101.0</td></tr><tr><td>4</td><td>Classic Cars</td><td>6276.46</td></tr><tr><td>4</td><td>Classic Cars</td><td>4203.5</td></tr><tr><td>1</td><td>Classic Cars</td><td>1629.04</td></tr><tr><td>1</td><td>Classic Cars</td><td>3289.86</td></tr><tr><td>1</td><td>Classic Cars</td><td>6862.94</td></tr><tr><td>1</td><td>Classic Cars</td><td>2574.18</td></tr><tr><td>2</td><td>Classic Cars</td><td>1327.79</td></tr><tr><td>3</td><td>Classic Cars</td><td>2356.25</td></tr><tr><td>4</td><td>Classic Cars</td><td>2013.5</td></tr><tr><td>4</td><td>Classic Cars</td><td>2807.22</td></tr><tr><td>4</td><td>Classic Cars</td><td>3072.96</td></tr><tr><td>4</td><td>Classic Cars</td><td>1906.5</td></tr><tr><td>4</td><td>Classic Cars</td><td>3431.7</td></tr><tr><td>1</td><td>Classic Cars</td><td>2084.75</td></tr><tr><td>1</td><td>Classic Cars</td><td>2136.01</td></tr><tr><td>2</td><td>Classic Cars</td><td>2009.7</td></tr><tr><td>3</td><td>Classic Cars</td><td>2719.8</td></tr><tr><td>3</td><td>Classic Cars</td><td>1575.08</td></tr><tr><td>3</td><td>Classic Cars</td><td>1688.43</td></tr><tr><td>4</td><td>Classic Cars</td><td>1672.1</td></tr><tr><td>4</td><td>Classic Cars</td><td>1674.75</td></tr><tr><td>4</td><td>Classic Cars</td><td>3472.98</td></tr><tr><td>4</td><td>Classic Cars</td><td>1649.18</td></tr><tr><td>1</td><td>Classic Cars</td><td>3751.0</td></tr><tr><td>1</td><td>Classic Cars</td><td>4536.0</td></tr><tr><td>2</td><td>Classic Cars</td><td>4421.34</td></tr><tr><td>2</td><td>Classic Cars</td><td>2078.28</td></tr><tr><td>1</td><td>Classic Cars</td><td>3069.0</td></tr><tr><td>2</td><td>Classic Cars</td><td>1713.8</td></tr><tr><td>3</td><td>Classic Cars</td><td>1506.5</td></tr><tr><td>4</td><td>Classic Cars</td><td>2692.12</td></tr><tr><td>4</td><td>Classic Cars</td><td>2422.08</td></tr><tr><td>4</td><td>Classic Cars</td><td>3488.34</td></tr><tr><td>4</td><td>Classic Cars</td><td>2583.34</td></tr><tr><td>4</td><td>Classic Cars</td><td>1249.4</td></tr><tr><td>1</td><td>Classic Cars</td><td>3374.71</td></tr><tr><td>1</td><td>Classic Cars</td><td>1265.46</td></tr><tr><td>2</td><td>Classic Cars</td><td>1681.46</td></tr><tr><td>3</td><td>Classic Cars</td><td>3204.0</td></tr><tr><td>3</td><td>Classic Cars</td><td>2398.72</td></tr><tr><td>3</td><td>Classic Cars</td><td>2381.04</td></tr><tr><td>4</td><td>Classic Cars</td><td>1944.54</td></tr><tr><td>4</td><td>Classic Cars</td><td>2273.7</td></tr><tr><td>4</td><td>Classic Cars</td><td>2116.5</td></tr><tr><td>4</td><td>Classic Cars</td><td>1307.32</td></tr><tr><td>4</td><td>Classic Cars</td><td>1726.37</td></tr><tr><td>1</td><td>Classic Cars</td><td>1267.77</td></tr><tr><td>1</td><td>Classic Cars</td><td>3441.82</td></tr><tr><td>2</td><td>Classic Cars</td><td>1987.18</td></tr><tr><td>2</td><td>Classic Cars</td><td>3880.2</td></tr><tr><td>1</td><td>Classic Cars</td><td>1942.15</td></tr><tr><td>2</td><td>Classic Cars</td><td>3259.92</td></tr><tr><td>2</td><td>Classic Cars</td><td>1213.8</td></tr><tr><td>3</td><td>Classic Cars</td><td>1086.6</td></tr><tr><td>3</td><td>Classic Cars</td><td>1632.75</td></tr><tr><td>4</td><td>Classic Cars</td><td>1734.0</td></tr><tr><td>4</td><td>Classic Cars</td><td>1857.06</td></tr><tr><td>4</td><td>Classic Cars</td><td>1863.41</td></tr><tr><td>4</td><td>Classic Cars</td><td>2924.68</td></tr><tr><td>4</td><td>Classic Cars</td><td>2294.18</td></tr><tr><td>1</td><td>Classic Cars</td><td>1457.82</td></tr><tr><td>1</td><td>Classic Cars</td><td>1955.88</td></tr><tr><td>2</td><td>Classic Cars</td><td>2314.4</td></tr><tr><td>2</td><td>Classic Cars</td><td>1310.96</td></tr><tr><td>3</td><td>Classic Cars</td><td>2913.3</td></tr><tr><td>3</td><td>Classic Cars</td><td>1357.78</td></tr><tr><td>3</td><td>Classic Cars</td><td>2150.0</td></tr><tr><td>4</td><td>Classic Cars</td><td>2783.25</td></tr><tr><td>4</td><td>Classic Cars</td><td>2339.92</td></tr><tr><td>4</td><td>Classic Cars</td><td>1729.0</td></tr><tr><td>4</td><td>Classic Cars</td><td>5972.4</td></tr><tr><td>4</td><td>Classic Cars</td><td>2275.2</td></tr><tr><td>4</td><td>Classic Cars</td><td>2673.44</td></tr><tr><td>1</td><td>Classic Cars</td><td>2431.75</td></tr><tr><td>1</td><td>Classic Cars</td><td>2018.72</td></tr><tr><td>1</td><td>Classic Cars</td><td>1558.99</td></tr><tr><td>2</td><td>Classic Cars</td><td>1104.6</td></tr><tr><td>2</td><td>Classic Cars</td><td>2575.1</td></tr><tr><td>1</td><td>Motorcycles</td><td>2845.75</td></tr><tr><td>2</td><td>Motorcycles</td><td>3431.75</td></tr><tr><td>3</td><td>Motorcycles</td><td>3273.9</td></tr><tr><td>3</td><td>Motorcycles</td><td>4119.4</td></tr><tr><td>4</td><td>Motorcycles</td><td>5355.68</td></tr><tr><td>4</td><td>Motorcycles</td><td>5747.5</td></tr><tr><td>4</td><td>Motorcycles</td><td>5355.36</td></tr><tr><td>4</td><td>Motorcycles</td><td>2535.75</td></tr><tr><td>4</td><td>Motorcycles</td><td>4351.23</td></tr><tr><td>1</td><td>Motorcycles</td><td>2254.0</td></tr><tr><td>1</td><td>Motorcycles</td><td>2921.28</td></tr><tr><td>2</td><td>Motorcycles</td><td>2299.0</td></tr><tr><td>2</td><td>Motorcycles</td><td>2637.18</td></tr><tr><td>2</td><td>Motorcycles</td><td>4307.52</td></tr><tr><td>3</td><td>Motorcycles</td><td>2153.76</td></tr><tr><td>3</td><td>Motorcycles</td><td>3716.88</td></tr><tr><td>3</td><td>Motorcycles</td><td>5455.76</td></tr><tr><td>4</td><td>Motorcycles</td><td>2650.62</td></tr><tr><td>4</td><td>Motorcycles</td><td>6437.28</td></tr><tr><td>4</td><td>Motorcycles</td><td>2633.4</td></tr><tr><td>4</td><td>Motorcycles</td><td>2278.53</td></tr><tr><td>1</td><td>Motorcycles</td><td>4846.0</td></tr><tr><td>1</td><td>Motorcycles</td><td>4197.1</td></tr><tr><td>1</td><td>Motorcycles</td><td>4597.65</td></tr><tr><td>2</td><td>Motorcycles</td><td>5287.7</td></tr><tr><td>2</td><td>Motorcycles</td><td>3550.05</td></tr><tr><td>1</td><td>Classic Cars</td><td>1721.73</td></tr><tr><td>2</td><td>Classic Cars</td><td>2993.5</td></tr><tr><td>3</td><td>Classic Cars</td><td>1295.06</td></tr><tr><td>3</td><td>Classic Cars</td><td>2671.95</td></tr><tr><td>4</td><td>Classic Cars</td><td>1226.59</td></tr><tr><td>4</td><td>Classic Cars</td><td>1453.84</td></tr><tr><td>4</td><td>Classic Cars</td><td>1830.22</td></tr><tr><td>4</td><td>Classic Cars</td><td>2530.01</td></tr><tr><td>4</td><td>Classic Cars</td><td>2241.45</td></tr><tr><td>1</td><td>Classic Cars</td><td>2399.85</td></tr><tr><td>1</td><td>Classic Cars</td><td>1557.72</td></tr><tr><td>2</td><td>Classic Cars</td><td>845.25</td></tr><tr><td>3</td><td>Classic Cars</td><td>1352.4</td></tr><tr><td>3</td><td>Classic Cars</td><td>1584.8</td></tr><tr><td>3</td><td>Classic Cars</td><td>2616.0</td></tr><tr><td>4</td><td>Classic Cars</td><td>1129.04</td></tr><tr><td>4</td><td>Classic Cars</td><td>2218.5</td></tr><tr><td>4</td><td>Classic Cars</td><td>2028.48</td></tr><tr><td>4</td><td>Classic Cars</td><td>1759.2</td></tr><tr><td>4</td><td>Classic Cars</td><td>977.67</td></tr><tr><td>1</td><td>Classic Cars</td><td>1463.0</td></tr><tr><td>1</td><td>Classic Cars</td><td>3970.56</td></tr><tr><td>2</td><td>Classic Cars</td><td>2576.0</td></tr><tr><td>2</td><td>Classic Cars</td><td>2233.69</td></tr><tr><td>1</td><td>Planes</td><td>2481.64</td></tr><tr><td>2</td><td>Planes</td><td>4651.53</td></tr><tr><td>2</td><td>Planes</td><td>3858.1</td></tr><tr><td>3</td><td>Planes</td><td>3501.6</td></tr><tr><td>4</td><td>Planes</td><td>6433.7</td></tr><tr><td>1</td><td>Planes</td><td>2658.96</td></tr><tr><td>1</td><td>Planes</td><td>3608.76</td></tr><tr><td>2</td><td>Planes</td><td>2214.67</td></tr><tr><td>2</td><td>Planes</td><td>2747.53</td></tr><tr><td>2</td><td>Planes</td><td>3310.92</td></tr><tr><td>3</td><td>Planes</td><td>2380.0</td></tr><tr><td>3</td><td>Planes</td><td>2310.88</td></tr><tr><td>3</td><td>Planes</td><td>4061.76</td></tr><tr><td>4</td><td>Planes</td><td>3493.7</td></tr><tr><td>4</td><td>Planes</td><td>2872.25</td></tr><tr><td>4</td><td>Planes</td><td>4114.38</td></tr><tr><td>4</td><td>Planes</td><td>1063.65</td></tr><tr><td>4</td><td>Planes</td><td>2008.44</td></tr><tr><td>1</td><td>Planes</td><td>4328.6</td></tr><tr><td>1</td><td>Planes</td><td>1376.43</td></tr><tr><td>1</td><td>Planes</td><td>5552.16</td></tr><tr><td>2</td><td>Planes</td><td>3659.02</td></tr><tr><td>2</td><td>Planes</td><td>4165.61</td></tr><tr><td>1</td><td>Vintage Cars</td><td>1404.0</td></tr><tr><td>1</td><td>Vintage Cars</td><td>710.2</td></tr><tr><td>2</td><td>Vintage Cars</td><td>1702.8</td></tr><tr><td>3</td><td>Vintage Cars</td><td>1194.84</td></tr><tr><td>4</td><td>Vintage Cars</td><td>1007.14</td></tr><tr><td>4</td><td>Vintage Cars</td><td>977.43</td></tr><tr><td>4</td><td>Vintage Cars</td><td>1436.76</td></tr><tr><td>4</td><td>Vintage Cars</td><td>759.46</td></tr><tr><td>4</td><td>Vintage Cars</td><td>1189.44</td></tr><tr><td>1</td><td>Vintage Cars</td><td>683.8</td></tr><tr><td>1</td><td>Vintage Cars</td><td>1226.82</td></tr><tr><td>2</td><td>Vintage Cars</td><td>974.82</td></tr><tr><td>3</td><td>Vintage Cars</td><td>577.6</td></tr><tr><td>3</td><td>Vintage Cars</td><td>1106.93</td></tr><tr><td>4</td><td>Vintage Cars</td><td>694.6</td></tr><tr><td>4</td><td>Vintage Cars</td><td>1152.06</td></tr><tr><td>4</td><td>Vintage Cars</td><td>2624.0</td></tr><tr><td>4</td><td>Vintage Cars</td><td>3685.95</td></tr><tr><td>4</td><td>Vintage Cars</td><td>703.6</td></tr><tr><td>4</td><td>Vintage Cars</td><td>9720.0</td></tr><tr><td>1</td><td>Vintage Cars</td><td>834.67</td></tr><tr><td>1</td><td>Vintage Cars</td><td>2257.92</td></tr><tr><td>1</td><td>Vintage Cars</td><td>8344.71</td></tr><tr><td>2</td><td>Vintage Cars</td><td>1801.94</td></tr><tr><td>2</td><td>Vintage Cars</td><td>1209.6</td></tr><tr><td>1</td><td>Motorcycles</td><td>3155.14</td></tr><tr><td>2</td><td>Motorcycles</td><td>2848.86</td></tr><tr><td>3</td><td>Motorcycles</td><td>3570.29</td></tr><tr><td>3</td><td>Motorcycles</td><td>3902.41</td></tr><tr><td>4</td><td>Motorcycles</td><td>1474.66</td></tr><tr><td>4</td><td>Motorcycles</td><td>2186.89</td></tr><tr><td>4</td><td>Motorcycles</td><td>1919.4</td></tr><tr><td>4</td><td>Motorcycles</td><td>3656.0</td></tr><tr><td>4</td><td>Motorcycles</td><td>1847.0</td></tr><tr><td>1</td><td>Motorcycles</td><td>1851.0</td></tr><tr><td>1</td><td>Motorcycles</td><td>2633.78</td></tr><tr><td>2</td><td>Motorcycles</td><td>3153.6</td></tr><tr><td>2</td><td>Motorcycles</td><td>2803.2</td></tr><tr><td>2</td><td>Motorcycles</td><td>2311.02</td></tr><tr><td>3</td><td>Motorcycles</td><td>2399.4</td></tr><tr><td>3</td><td>Motorcycles</td><td>2733.12</td></tr><tr><td>3</td><td>Motorcycles</td><td>2096.32</td></tr><tr><td>4</td><td>Motorcycles</td><td>2971.34</td></tr><tr><td>4</td><td>Motorcycles</td><td>2257.58</td></tr><tr><td>4</td><td>Motorcycles</td><td>3493.91</td></tr><tr><td>4</td><td>Motorcycles</td><td>4398.9</td></tr><tr><td>1</td><td>Motorcycles</td><td>3595.62</td></tr><tr><td>1</td><td>Motorcycles</td><td>2443.29</td></tr><tr><td>1</td><td>Motorcycles</td><td>3988.6</td></tr><tr><td>2</td><td>Motorcycles</td><td>5168.4</td></tr><tr><td>2</td><td>Motorcycles</td><td>2803.2</td></tr><tr><td>1</td><td>Ships</td><td>6341.21</td></tr><tr><td>2</td><td>Ships</td><td>5189.78</td></tr><tr><td>2</td><td>Ships</td><td>6027.75</td></tr><tr><td>3</td><td>Ships</td><td>3366.0</td></tr><tr><td>3</td><td>Ships</td><td>5456.4</td></tr><tr><td>4</td><td>Ships</td><td>3812.16</td></tr><tr><td>4</td><td>Ships</td><td>6083.0</td></tr><tr><td>4</td><td>Ships</td><td>3170.7</td></tr><tr><td>4</td><td>Ships</td><td>4534.6</td></tr><tr><td>1</td><td>Ships</td><td>4301.15</td></tr><tr><td>1</td><td>Ships</td><td>6804.63</td></tr><tr><td>1</td><td>Ships</td><td>5652.94</td></tr><tr><td>2</td><td>Ships</td><td>6960.48</td></tr><tr><td>2</td><td>Ships</td><td>4512.6</td></tr><tr><td>3</td><td>Ships</td><td>2784.76</td></tr><tr><td>3</td><td>Ships</td><td>5316.36</td></tr><tr><td>3</td><td>Ships</td><td>2941.89</td></tr><tr><td>4</td><td>Ships</td><td>3207.4</td></tr><tr><td>4</td><td>Ships</td><td>4215.05</td></tr><tr><td>4</td><td>Ships</td><td>4333.29</td></tr><tr><td>4</td><td>Ships</td><td>2087.13</td></tr><tr><td>4</td><td>Ships</td><td>1711.22</td></tr><tr><td>1</td><td>Ships</td><td>3910.53</td></tr><tr><td>1</td><td>Ships</td><td>2255.12</td></tr><tr><td>1</td><td>Ships</td><td>5720.75</td></tr><tr><td>2</td><td>Ships</td><td>3335.23</td></tr><tr><td>1</td><td>Vintage Cars</td><td>2472.96</td></tr><tr><td>1</td><td>Vintage Cars</td><td>1729.65</td></tr><tr><td>2</td><td>Vintage Cars</td><td>995.5</td></tr><tr><td>3</td><td>Vintage Cars</td><td>2414.72</td></tr><tr><td>4</td><td>Vintage Cars</td><td>1560.47</td></tr><tr><td>4</td><td>Vintage Cars</td><td>1112.94</td></tr><tr><td>4</td><td>Vintage Cars</td><td>1138.94</td></tr><tr><td>4</td><td>Vintage Cars</td><td>1012.4</td></tr><tr><td>4</td><td>Vintage Cars</td><td>913.92</td></tr><tr><td>1</td><td>Vintage Cars</td><td>2349.06</td></tr><tr><td>1</td><td>Vintage Cars</td><td>1161.12</td></tr><tr><td>2</td><td>Vintage Cars</td><td>1764.75</td></tr><tr><td>2</td><td>Vintage Cars</td><td>1690.9</td></tr><tr><td>3</td><td>Vintage Cars</td><td>2137.05</td></tr><tr><td>3</td><td>Vintage Cars</td><td>2177.1</td></tr><tr><td>4</td><td>Vintage Cars</td><td>1734.48</td></tr><tr><td>4</td><td>Vintage Cars</td><td>865.49</td></tr><tr><td>4</td><td>Vintage Cars</td><td>3500.1</td></tr><tr><td>4</td><td>Vintage Cars</td><td>2223.52</td></tr><tr><td>4</td><td>Vintage Cars</td><td>2311.68</td></tr><tr><td>4</td><td>Vintage Cars</td><td>828.36</td></tr><tr><td>1</td><td>Vintage Cars</td><td>856.52</td></tr><tr><td>1</td><td>Vintage Cars</td><td>1845.45</td></tr><tr><td>1</td><td>Vintage Cars</td><td>4042.08</td></tr><tr><td>2</td><td>Vintage Cars</td><td>1828.0</td></tr><tr><td>1</td><td>Trucks and Buses</td><td>3680.28</td></tr><tr><td>2</td><td>Trucks and Buses</td><td>2925.09</td></tr><tr><td>2</td><td>Trucks and Buses</td><td>3415.77</td></tr><tr><td>3</td><td>Trucks and Buses</td><td>5105.14</td></tr><tr><td>3</td><td>Trucks and Buses</td><td>5098.8</td></tr><tr><td>4</td><td>Trucks and Buses</td><td>4661.76</td></tr><tr><td>4</td><td>Trucks and Buses</td><td>2969.96</td></tr><tr><td>4</td><td>Trucks and Buses</td><td>3496.32</td></tr><tr><td>4</td><td>Trucks and Buses</td><td>5760.93</td></tr><tr><td>4</td><td>Trucks and Buses</td><td>6819.04</td></tr><tr><td>1</td><td>Trucks and Buses</td><td>3148.88</td></tr><tr><td>1</td><td>Trucks and Buses</td><td>5704.32</td></tr><tr><td>2</td><td>Trucks and Buses</td><td>3520.6</td></tr><tr><td>2</td><td>Trucks and Buses</td><td>5285.62</td></tr><tr><td>3</td><td>Trucks and Buses</td><td>5605.05</td></tr><tr><td>3</td><td>Trucks and Buses</td><td>2779.5</td></tr><tr><td>3</td><td>Trucks and Buses</td><td>5398.08</td></tr><tr><td>4</td><td>Trucks and Buses</td><td>3189.6</td></tr><tr><td>4</td><td>Trucks and Buses</td><td>5581.8</td></tr><tr><td>4</td><td>Trucks and Buses</td><td>3820.44</td></tr><tr><td>4</td><td>Trucks and Buses</td><td>5528.04</td></tr><tr><td>4</td><td>Trucks and Buses</td><td>5981.42</td></tr><tr><td>4</td><td>Trucks and Buses</td><td>5684.65</td></tr><tr><td>1</td><td>Trucks and Buses</td><td>3449.4</td></tr><tr><td>1</td><td>Trucks and Buses</td><td>2654.4</td></tr><tr><td>2</td><td>Trucks and Buses</td><td>8498.0</td></tr><tr><td>2</td><td>Trucks and Buses</td><td>5510.54</td></tr><tr><td>1</td><td>Motorcycles</td><td>2060.45</td></tr><tr><td>2</td><td>Motorcycles</td><td>2460.16</td></tr><tr><td>3</td><td>Motorcycles</td><td>1787.56</td></tr><tr><td>3</td><td>Motorcycles</td><td>1645.65</td></tr><tr><td>4</td><td>Motorcycles</td><td>2169.18</td></tr><tr><td>4</td><td>Motorcycles</td><td>2816.18</td></tr><tr><td>4</td><td>Motorcycles</td><td>2521.05</td></tr><tr><td>4</td><td>Motorcycles</td><td>3199.98</td></tr><tr><td>1</td><td>Motorcycles</td><td>1338.12</td></tr><tr><td>1</td><td>Motorcycles</td><td>2972.58</td></tr><tr><td>2</td><td>Motorcycles</td><td>2070.9</td></tr><tr><td>2</td><td>Motorcycles</td><td>3092.6</td></tr><tr><td>2</td><td>Motorcycles</td><td>2408.7</td></tr><tr><td>3</td><td>Motorcycles</td><td>3472.54</td></tr><tr><td>3</td><td>Motorcycles</td><td>2263.28</td></tr><tr><td>3</td><td>Motorcycles</td><td>2194.17</td></tr><tr><td>4</td><td>Motorcycles</td><td>1346.4</td></tr><tr><td>4</td><td>Motorcycles</td><td>2533.63</td></tr><tr><td>4</td><td>Motorcycles</td><td>3403.26</td></tr><tr><td>4</td><td>Motorcycles</td><td>3307.2</td></tr><tr><td>4</td><td>Motorcycles</td><td>2896.65</td></tr><tr><td>1</td><td>Motorcycles</td><td>2632.89</td></tr><tr><td>1</td><td>Motorcycles</td><td>2046.0</td></tr><tr><td>1</td><td>Motorcycles</td><td>2279.55</td></tr><tr><td>2</td><td>Motorcycles</td><td>2150.55</td></tr><tr><td>1</td><td>Classic Cars</td><td>3360.45</td></tr><tr><td>2</td><td>Classic Cars</td><td>2326.4</td></tr><tr><td>3</td><td>Classic Cars</td><td>1545.6</td></tr><tr><td>4</td><td>Classic Cars</td><td>2144.6</td></tr><tr><td>4</td><td>Classic Cars</td><td>1639.22</td></tr><tr><td>4</td><td>Classic Cars</td><td>2649.6</td></tr><tr><td>4</td><td>Classic Cars</td><td>3845.6</td></tr><tr><td>4</td><td>Classic Cars</td><td>4527.04</td></tr><tr><td>1</td><td>Classic Cars</td><td>3966.3</td></tr><tr><td>1</td><td>Classic Cars</td><td>4142.58</td></tr><tr><td>2</td><td>Classic Cars</td><td>4441.5</td></tr><tr><td>3</td><td>Classic Cars</td><td>3315.12</td></tr><tr><td>3</td><td>Classic Cars</td><td>3918.53</td></tr><tr><td>3</td><td>Classic Cars</td><td>2830.45</td></tr><tr><td>4</td><td>Classic Cars</td><td>5298.86</td></tr><tr><td>4</td><td>Classic Cars</td><td>2620.8</td></tr><tr><td>4</td><td>Classic Cars</td><td>2181.0</td></tr><tr><td>4</td><td>Classic Cars</td><td>3382.08</td></tr><tr><td>4</td><td>Classic Cars</td><td>2876.75</td></tr><tr><td>1</td><td>Classic Cars</td><td>4107.2</td></tr><tr><td>1</td><td>Classic Cars</td><td>1350.0</td></tr><tr><td>2</td><td>Classic Cars</td><td>7182.0</td></tr><tr><td>2</td><td>Classic Cars</td><td>3933.93</td></tr><tr><td>1</td><td>Classic Cars</td><td>1742.4</td></tr><tr><td>2</td><td>Classic Cars</td><td>721.44</td></tr><tr><td>2</td><td>Classic Cars</td><td>1489.41</td></tr><tr><td>3</td><td>Classic Cars</td><td>891.03</td></tr><tr><td>3</td><td>Classic Cars</td><td>1209.3</td></tr><tr><td>4</td><td>Classic Cars</td><td>859.14</td></tr><tr><td>4</td><td>Classic Cars</td><td>1151.44</td></tr><tr><td>4</td><td>Classic Cars</td><td>1336.44</td></tr><tr><td>4</td><td>Classic Cars</td><td>905.28</td></tr><tr><td>4</td><td>Classic Cars</td><td>1247.4</td></tr><tr><td>1</td><td>Classic Cars</td><td>846.51</td></tr><tr><td>1</td><td>Classic Cars</td><td>1085.04</td></tr><tr><td>2</td><td>Classic Cars</td><td>1767.43</td></tr><tr><td>2</td><td>Classic Cars</td><td>1030.44</td></tr><tr><td>3</td><td>Classic Cars</td><td>1585.36</td></tr><tr><td>3</td><td>Classic Cars</td><td>813.2</td></tr><tr><td>3</td><td>Classic Cars</td><td>1172.34</td></tr><tr><td>4</td><td>Classic Cars</td><td>1510.56</td></tr><tr><td>4</td><td>Classic Cars</td><td>1448.07</td></tr><tr><td>4</td><td>Classic Cars</td><td>3338.1</td></tr><tr><td>4</td><td>Classic Cars</td><td>1225.29</td></tr><tr><td>4</td><td>Classic Cars</td><td>1336.68</td></tr><tr><td>4</td><td>Classic Cars</td><td>2985.84</td></tr><tr><td>1</td><td>Classic Cars</td><td>5545.8</td></tr><tr><td>1</td><td>Classic Cars</td><td>6089.6</td></tr><tr><td>1</td><td>Classic Cars</td><td>1789.4</td></tr><tr><td>2</td><td>Classic Cars</td><td>1082.1</td></tr><tr><td>2</td><td>Classic Cars</td><td>1030.44</td></tr><tr><td>1</td><td>Planes</td><td>3659.32</td></tr><tr><td>2</td><td>Planes</td><td>2443.6</td></tr><tr><td>2</td><td>Planes</td><td>2349.9</td></tr><tr><td>3</td><td>Planes</td><td>1646.19</td></tr><tr><td>4</td><td>Planes</td><td>1670.26</td></tr><tr><td>4</td><td>Planes</td><td>1467.48</td></tr><tr><td>4</td><td>Planes</td><td>2748.56</td></tr><tr><td>4</td><td>Planes</td><td>1522.4</td></tr><tr><td>4</td><td>Planes</td><td>3255.36</td></tr><tr><td>1</td><td>Planes</td><td>3535.03</td></tr><tr><td>1</td><td>Planes</td><td>2608.96</td></tr><tr><td>2</td><td>Planes</td><td>1356.4</td></tr><tr><td>2</td><td>Planes</td><td>1611.36</td></tr><tr><td>3</td><td>Planes</td><td>2603.2</td></tr><tr><td>3</td><td>Planes</td><td>2219.7</td></tr><tr><td>3</td><td>Planes</td><td>1496.25</td></tr><tr><td>4</td><td>Planes</td><td>1884.0</td></tr><tr><td>4</td><td>Planes</td><td>2166.14</td></tr><tr><td>4</td><td>Planes</td><td>2828.16</td></tr><tr><td>4</td><td>Planes</td><td>6214.45</td></tr><tr><td>4</td><td>Planes</td><td>1867.0</td></tr><tr><td>1</td><td>Planes</td><td>2676.72</td></tr><tr><td>1</td><td>Planes</td><td>2182.44</td></tr><tr><td>1</td><td>Planes</td><td>1611.4</td></tr><tr><td>2</td><td>Planes</td><td>1479.84</td></tr><tr><td>2</td><td>Planes</td><td>1424.22</td></tr><tr><td>1</td><td>Classic Cars</td><td>5942.28</td></tr><tr><td>2</td><td>Classic Cars</td><td>2348.75</td></tr><tr><td>3</td><td>Classic Cars</td><td>4392.12</td></tr><tr><td>4</td><td>Classic Cars</td><td>2759.75</td></tr><tr><td>4</td><td>Classic Cars</td><td>2728.03</td></tr><tr><td>4</td><td>Classic Cars</td><td>2395.8</td></tr><tr><td>4</td><td>Classic Cars</td><td>3052.33</td></tr><tr><td>4</td><td>Classic Cars</td><td>4242.0</td></tr><tr><td>1</td><td>Classic Cars</td><td>2790.45</td></tr><tr><td>1</td><td>Classic Cars</td><td>4340.49</td></tr><tr><td>2</td><td>Classic Cars</td><td>2762.2</td></tr><tr><td>3</td><td>Classic Cars</td><td>4645.72</td></tr><tr><td>3</td><td>Classic Cars</td><td>5580.96</td></tr><tr><td>3</td><td>Classic Cars</td><td>6539.04</td></tr><tr><td>4</td><td>Classic Cars</td><td>5548.95</td></tr><tr><td>4</td><td>Classic Cars</td><td>4595.41</td></tr><tr><td>4</td><td>Classic Cars</td><td>1859.44</td></tr><tr><td>4</td><td>Classic Cars</td><td>2093.76</td></tr><tr><td>1</td><td>Classic Cars</td><td>4223.13</td></tr><tr><td>1</td><td>Classic Cars</td><td>1596.76</td></tr><tr><td>2</td><td>Classic Cars</td><td>5820.35</td></tr><tr><td>2</td><td>Classic Cars</td><td>5296.5</td></tr><tr><td>1</td><td>Classic Cars</td><td>930.9</td></tr><tr><td>2</td><td>Classic Cars</td><td>1207.44</td></tr><tr><td>3</td><td>Classic Cars</td><td>717.4</td></tr><tr><td>3</td><td>Classic Cars</td><td>1066.75</td></tr><tr><td>4</td><td>Classic Cars</td><td>1554.0</td></tr><tr><td>4</td><td>Classic Cars</td><td>1277.64</td></tr><tr><td>4</td><td>Classic Cars</td><td>1578.79</td></tr><tr><td>4</td><td>Classic Cars</td><td>917.7</td></tr><tr><td>4</td><td>Classic Cars</td><td>777.0</td></tr><tr><td>1</td><td>Classic Cars</td><td>1476.28</td></tr><tr><td>1</td><td>Classic Cars</td><td>1538.46</td></tr><tr><td>2</td><td>Classic Cars</td><td>891.2</td></tr><tr><td>2</td><td>Classic Cars</td><td>1706.8</td></tr><tr><td>3</td><td>Classic Cars</td><td>1373.6</td></tr><tr><td>3</td><td>Classic Cars</td><td>1205.59</td></tr><tr><td>3</td><td>Classic Cars</td><td>1427.4</td></tr><tr><td>4</td><td>Classic Cars</td><td>1649.28</td></tr><tr><td>4</td><td>Classic Cars</td><td>1383.03</td></tr><tr><td>4</td><td>Classic Cars</td><td>1229.51</td></tr><tr><td>4</td><td>Classic Cars</td><td>1140.48</td></tr><tr><td>4</td><td>Classic Cars</td><td>1575.6</td></tr><tr><td>4</td><td>Classic Cars</td><td>1386.72</td></tr><tr><td>1</td><td>Classic Cars</td><td>5018.4</td></tr><tr><td>1</td><td>Classic Cars</td><td>5856.85</td></tr><tr><td>1</td><td>Classic Cars</td><td>4894.73</td></tr><tr><td>2</td><td>Classic Cars</td><td>2094.32</td></tr><tr><td>2</td><td>Classic Cars</td><td>640.05</td></tr><tr><td>1</td><td>Vintage Cars</td><td>3193.52</td></tr><tr><td>2</td><td>Vintage Cars</td><td>3066.7</td></tr><tr><td>2</td><td>Vintage Cars</td><td>3883.11</td></tr><tr><td>3</td><td>Vintage Cars</td><td>4814.25</td></tr><tr><td>4</td><td>Vintage Cars</td><td>2826.27</td></tr><tr><td>4</td><td>Vintage Cars</td><td>1593.2</td></tr><tr><td>4</td><td>Vintage Cars</td><td>3266.1</td></tr><tr><td>4</td><td>Vintage Cars</td><td>2453.55</td></tr><tr><td>4</td><td>Vintage Cars</td><td>3910.4</td></tr><tr><td>1</td><td>Vintage Cars</td><td>1788.0</td></tr><tr><td>1</td><td>Vintage Cars</td><td>3328.07</td></tr><tr><td>1</td><td>Vintage Cars</td><td>3788.4</td></tr><tr><td>2</td><td>Vintage Cars</td><td>3053.7</td></tr><tr><td>2</td><td>Vintage Cars</td><td>2005.74</td></tr><tr><td>3</td><td>Vintage Cars</td><td>2796.12</td></tr><tr><td>3</td><td>Vintage Cars</td><td>3159.96</td></tr><tr><td>3</td><td>Vintage Cars</td><td>3908.62</td></tr><tr><td>4</td><td>Vintage Cars</td><td>2606.48</td></tr><tr><td>4</td><td>Vintage Cars</td><td>2081.76</td></tr><tr><td>4</td><td>Vintage Cars</td><td>3519.85</td></tr><tr><td>4</td><td>Vintage Cars</td><td>10758.0</td></tr><tr><td>4</td><td>Vintage Cars</td><td>3021.0</td></tr><tr><td>1</td><td>Vintage Cars</td><td>1891.56</td></tr><tr><td>1</td><td>Vintage Cars</td><td>4208.41</td></tr><tr><td>1</td><td>Vintage Cars</td><td>2246.4</td></tr><tr><td>2</td><td>Vintage Cars</td><td>6107.4</td></tr><tr><td>1</td><td>Classic Cars</td><td>1987.74</td></tr><tr><td>2</td><td>Classic Cars</td><td>4068.96</td></tr><tr><td>3</td><td>Classic Cars</td><td>2282.22</td></tr><tr><td>4</td><td>Classic Cars</td><td>1541.0</td></tr><tr><td>4</td><td>Classic Cars</td><td>1951.92</td></tr><tr><td>4</td><td>Classic Cars</td><td>3107.61</td></tr><tr><td>4</td><td>Classic Cars</td><td>2328.64</td></tr><tr><td>4</td><td>Classic Cars</td><td>3184.8</td></tr><tr><td>1</td><td>Classic Cars</td><td>2149.74</td></tr><tr><td>1</td><td>Classic Cars</td><td>3184.8</td></tr><tr><td>2</td><td>Classic Cars</td><td>2114.58</td></tr><tr><td>3</td><td>Classic Cars</td><td>4256.56</td></tr><tr><td>3</td><td>Classic Cars</td><td>2344.98</td></tr><tr><td>3</td><td>Classic Cars</td><td>2328.66</td></tr><tr><td>4</td><td>Classic Cars</td><td>3575.04</td></tr><tr><td>4</td><td>Classic Cars</td><td>2076.0</td></tr><tr><td>4</td><td>Classic Cars</td><td>3305.25</td></tr><tr><td>4</td><td>Classic Cars</td><td>1538.55</td></tr><tr><td>4</td><td>Classic Cars</td><td>3325.92</td></tr><tr><td>1</td><td>Classic Cars</td><td>3662.52</td></tr><tr><td>1</td><td>Classic Cars</td><td>3478.64</td></tr><tr><td>2</td><td>Classic Cars</td><td>1057.29</td></tr><tr><td>2</td><td>Classic Cars</td><td>3385.9</td></tr><tr><td>1</td><td>Classic Cars</td><td>1892.1</td></tr><tr><td>2</td><td>Classic Cars</td><td>1707.14</td></tr><tr><td>3</td><td>Classic Cars</td><td>1785.51</td></tr><tr><td>3</td><td>Classic Cars</td><td>2057.4</td></tr><tr><td>4</td><td>Classic Cars</td><td>3490.0</td></tr><tr><td>4</td><td>Classic Cars</td><td>1707.14</td></tr><tr><td>4</td><td>Classic Cars</td><td>1506.96</td></tr><tr><td>4</td><td>Classic Cars</td><td>2880.48</td></tr><tr><td>4</td><td>Classic Cars</td><td>2206.6</td></tr><tr><td>1</td><td>Classic Cars</td><td>2351.04</td></tr><tr><td>1</td><td>Classic Cars</td><td>1205.04</td></tr><tr><td>2</td><td>Classic Cars</td><td>2935.15</td></tr><tr><td>2</td><td>Classic Cars</td><td>1263.84</td></tr><tr><td>3</td><td>Classic Cars</td><td>2935.15</td></tr><tr><td>3</td><td>Classic Cars</td><td>1224.6</td></tr><tr><td>3</td><td>Classic Cars</td><td>1359.4</td></tr><tr><td>4</td><td>Classic Cars</td><td>1822.18</td></tr><tr><td>4</td><td>Classic Cars</td><td>2163.72</td></tr><tr><td>4</td><td>Classic Cars</td><td>1591.98</td></tr><tr><td>4</td><td>Classic Cars</td><td>3078.5</td></tr><tr><td>4</td><td>Classic Cars</td><td>2997.6</td></tr><tr><td>4</td><td>Classic Cars</td><td>2747.8</td></tr><tr><td>1</td><td>Classic Cars</td><td>2447.76</td></tr><tr><td>1</td><td>Classic Cars</td><td>1910.84</td></tr><tr><td>1</td><td>Classic Cars</td><td>2430.64</td></tr><tr><td>2</td><td>Classic Cars</td><td>2896.3</td></tr><tr><td>1</td><td>Vintage Cars</td><td>1630.6</td></tr><tr><td>2</td><td>Vintage Cars</td><td>1459.6</td></tr><tr><td>2</td><td>Vintage Cars</td><td>1716.22</td></tr><tr><td>3</td><td>Vintage Cars</td><td>2560.47</td></tr><tr><td>4</td><td>Vintage Cars</td><td>1900.26</td></tr><tr><td>4</td><td>Vintage Cars</td><td>2019.84</td></tr><tr><td>4</td><td>Vintage Cars</td><td>1988.28</td></tr><tr><td>4</td><td>Vintage Cars</td><td>1449.84</td></tr><tr><td>4</td><td>Vintage Cars</td><td>1935.09</td></tr><tr><td>1</td><td>Vintage Cars</td><td>2793.24</td></tr><tr><td>1</td><td>Vintage Cars</td><td>3025.05</td></tr><tr><td>2</td><td>Vintage Cars</td><td>1742.5</td></tr><tr><td>2</td><td>Vintage Cars</td><td>3236.1</td></tr><tr><td>3</td><td>Vintage Cars</td><td>1735.92</td></tr><tr><td>3</td><td>Vintage Cars</td><td>2795.13</td></tr><tr><td>3</td><td>Vintage Cars</td><td>1671.52</td></tr><tr><td>4</td><td>Vintage Cars</td><td>1576.74</td></tr><tr><td>4</td><td>Vintage Cars</td><td>3615.71</td></tr><tr><td>4</td><td>Vintage Cars</td><td>1459.6</td></tr><tr><td>4</td><td>Vintage Cars</td><td>2891.01</td></tr><tr><td>4</td><td>Vintage Cars</td><td>2598.44</td></tr><tr><td>4</td><td>Vintage Cars</td><td>3871.92</td></tr><tr><td>1</td><td>Vintage Cars</td><td>3036.0</td></tr><tr><td>1</td><td>Vintage Cars</td><td>2231.6</td></tr><tr><td>1</td><td>Vintage Cars</td><td>2436.78</td></tr><tr><td>2</td><td>Vintage Cars</td><td>2173.6</td></tr><tr><td>2</td><td>Vintage Cars</td><td>1254.6</td></tr><tr><td>1</td><td>Classic Cars</td><td>3724.42</td></tr><tr><td>2</td><td>Classic Cars</td><td>5203.0</td></tr><tr><td>3</td><td>Classic Cars</td><td>3469.5</td></tr><tr><td>4</td><td>Classic Cars</td><td>3148.2</td></tr><tr><td>4</td><td>Classic Cars</td><td>2167.22</td></tr><tr><td>4</td><td>Classic Cars</td><td>6244.07</td></tr><tr><td>4</td><td>Classic Cars</td><td>5566.0</td></tr><tr><td>4</td><td>Classic Cars</td><td>4368.96</td></tr><tr><td>1</td><td>Classic Cars</td><td>4039.26</td></tr><tr><td>1</td><td>Classic Cars</td><td>4420.32</td></tr><tr><td>2</td><td>Classic Cars</td><td>2341.71</td></tr><tr><td>3</td><td>Classic Cars</td><td>5110.98</td></tr><tr><td>3</td><td>Classic Cars</td><td>6168.0</td></tr><tr><td>3</td><td>Classic Cars</td><td>4873.26</td></tr><tr><td>4</td><td>Classic Cars</td><td>2120.14</td></tr><tr><td>4</td><td>Classic Cars</td><td>4236.14</td></tr><tr><td>4</td><td>Classic Cars</td><td>1888.95</td></tr><tr><td>4</td><td>Classic Cars</td><td>1152.58</td></tr><tr><td>4</td><td>Classic Cars</td><td>2492.88</td></tr><tr><td>1</td><td>Classic Cars</td><td>1991.6</td></tr><tr><td>1</td><td>Classic Cars</td><td>3953.18</td></tr><tr><td>2</td><td>Classic Cars</td><td>3729.39</td></tr><tr><td>2</td><td>Classic Cars</td><td>2617.16</td></tr><tr><td>1</td><td>Vintage Cars</td><td>3983.5</td></tr><tr><td>2</td><td>Vintage Cars</td><td>3169.95</td></tr><tr><td>2</td><td>Vintage Cars</td><td>3899.5</td></tr><tr><td>3</td><td>Vintage Cars</td><td>1851.73</td></tr><tr><td>4</td><td>Vintage Cars</td><td>2513.41</td></tr><tr><td>4</td><td>Vintage Cars</td><td>2431.94</td></tr><tr><td>4</td><td>Vintage Cars</td><td>1514.52</td></tr><tr><td>4</td><td>Vintage Cars</td><td>3079.44</td></tr><tr><td>4</td><td>Vintage Cars</td><td>1900.36</td></tr><tr><td>1</td><td>Vintage Cars</td><td>1974.06</td></tr><tr><td>1</td><td>Vintage Cars</td><td>3703.46</td></tr><tr><td>2</td><td>Vintage Cars</td><td>1755.13</td></tr><tr><td>2</td><td>Vintage Cars</td><td>4273.29</td></tr><tr><td>3</td><td>Vintage Cars</td><td>3984.96</td></tr><tr><td>3</td><td>Vintage Cars</td><td>2407.68</td></tr><tr><td>3</td><td>Vintage Cars</td><td>1697.3</td></tr><tr><td>4</td><td>Vintage Cars</td><td>2011.02</td></tr><tr><td>4</td><td>Vintage Cars</td><td>2306.25</td></tr><tr><td>4</td><td>Vintage Cars</td><td>1845.0</td></tr><tr><td>4</td><td>Vintage Cars</td><td>2493.12</td></tr><tr><td>4</td><td>Vintage Cars</td><td>1508.5</td></tr><tr><td>1</td><td>Vintage Cars</td><td>2394.3</td></tr><tr><td>1</td><td>Vintage Cars</td><td>3164.98</td></tr><tr><td>1</td><td>Vintage Cars</td><td>3351.09</td></tr><tr><td>2</td><td>Vintage Cars</td><td>3064.32</td></tr><tr><td>2</td><td>Vintage Cars</td><td>3891.81</td></tr><tr><td>1</td><td>Classic Cars</td><td>5448.8</td></tr><tr><td>2</td><td>Classic Cars</td><td>5494.97</td></tr><tr><td>3</td><td>Classic Cars</td><td>6336.07</td></tr><tr><td>3</td><td>Classic Cars</td><td>2906.97</td></tr><tr><td>4</td><td>Classic Cars</td><td>4767.7</td></tr><tr><td>4</td><td>Classic Cars</td><td>3819.56</td></tr><tr><td>4</td><td>Classic Cars</td><td>3861.75</td></tr><tr><td>4</td><td>Classic Cars</td><td>6319.35</td></tr><tr><td>4</td><td>Classic Cars</td><td>6996.42</td></tr><tr><td>1</td><td>Classic Cars</td><td>6949.67</td></tr><tr><td>1</td><td>Classic Cars</td><td>4550.0</td></tr><tr><td>2</td><td>Classic Cars</td><td>4479.63</td></tr><tr><td>2</td><td>Classic Cars</td><td>5148.0</td></tr><tr><td>3</td><td>Classic Cars</td><td>2932.08</td></tr><tr><td>3</td><td>Classic Cars</td><td>3159.75</td></tr><tr><td>3</td><td>Classic Cars</td><td>4297.32</td></tr><tr><td>4</td><td>Classic Cars</td><td>7723.5</td></tr><tr><td>4</td><td>Classic Cars</td><td>5497.65</td></tr><tr><td>4</td><td>Classic Cars</td><td>4052.88</td></tr><tr><td>4</td><td>Classic Cars</td><td>3135.93</td></tr><tr><td>4</td><td>Classic Cars</td><td>5013.54</td></tr><tr><td>4</td><td>Classic Cars</td><td>5302.72</td></tr><tr><td>1</td><td>Classic Cars</td><td>2931.98</td></tr><tr><td>1</td><td>Classic Cars</td><td>1757.91</td></tr><tr><td>1</td><td>Classic Cars</td><td>6763.05</td></tr><tr><td>2</td><td>Classic Cars</td><td>11739.7</td></tr><tr><td>2</td><td>Classic Cars</td><td>9240.0</td></tr><tr><td>1</td><td>Planes</td><td>3241.5</td></tr><tr><td>2</td><td>Planes</td><td>1968.12</td></tr><tr><td>2</td><td>Planes</td><td>4094.5</td></tr><tr><td>3</td><td>Planes</td><td>1853.32</td></tr><tr><td>4</td><td>Planes</td><td>3392.84</td></tr><tr><td>4</td><td>Planes</td><td>1971.54</td></tr><tr><td>4</td><td>Planes</td><td>2169.9</td></tr><tr><td>4</td><td>Planes</td><td>2846.17</td></tr><tr><td>1</td><td>Planes</td><td>2018.4</td></tr><tr><td>1</td><td>Planes</td><td>2718.72</td></tr><tr><td>2</td><td>Planes</td><td>1981.65</td></tr><tr><td>2</td><td>Planes</td><td>3002.4</td></tr><tr><td>2</td><td>Planes</td><td>2948.16</td></tr><tr><td>3</td><td>Planes</td><td>3357.49</td></tr><tr><td>3</td><td>Planes</td><td>1175.16</td></tr><tr><td>3</td><td>Planes</td><td>2292.8</td></tr><tr><td>4</td><td>Planes</td><td>3286.49</td></tr><tr><td>4</td><td>Planes</td><td>2333.7</td></tr><tr><td>4</td><td>Planes</td><td>2675.05</td></tr><tr><td>4</td><td>Planes</td><td>4361.4</td></tr><tr><td>4</td><td>Planes</td><td>2018.58</td></tr><tr><td>4</td><td>Planes</td><td>3710.98</td></tr><tr><td>1</td><td>Planes</td><td>2847.0</td></tr><tr><td>1</td><td>Planes</td><td>3006.12</td></tr><tr><td>1</td><td>Planes</td><td>2797.84</td></tr><tr><td>2</td><td>Planes</td><td>3843.2</td></tr><tr><td>2</td><td>Planes</td><td>1351.08</td></tr><tr><td>1</td><td>Vintage Cars</td><td>1689.03</td></tr><tr><td>1</td><td>Vintage Cars</td><td>1654.56</td></tr><tr><td>2</td><td>Vintage Cars</td><td>1528.58</td></tr><tr><td>3</td><td>Vintage Cars</td><td>1013.48</td></tr><tr><td>4</td><td>Vintage Cars</td><td>1442.26</td></tr><tr><td>4</td><td>Vintage Cars</td><td>1163.05</td></tr><tr><td>4</td><td>Vintage Cars</td><td>971.98</td></tr><tr><td>4</td><td>Vintage Cars</td><td>902.66</td></tr><tr><td>4</td><td>Vintage Cars</td><td>1295.97</td></tr><tr><td>1</td><td>Vintage Cars</td><td>1534.72</td></tr><tr><td>1</td><td>Vintage Cars</td><td>1185.3</td></tr><tr><td>2</td><td>Vintage Cars</td><td>1698.78</td></tr><tr><td>3</td><td>Vintage Cars</td><td>1381.05</td></tr><tr><td>3</td><td>Vintage Cars</td><td>1340.46</td></tr><tr><td>4</td><td>Vintage Cars</td><td>965.04</td></tr><tr><td>4</td><td>Vintage Cars</td><td>1093.99</td></tr><tr><td>4</td><td>Vintage Cars</td><td>3166.84</td></tr><tr><td>4</td><td>Vintage Cars</td><td>2143.68</td></tr><tr><td>1</td><td>Vintage Cars</td><td>1717.64</td></tr><tr><td>1</td><td>Vintage Cars</td><td>4086.29</td></tr><tr><td>2</td><td>Vintage Cars</td><td>553.95</td></tr><tr><td>2</td><td>Vintage Cars</td><td>652.35</td></tr><tr><td>1</td><td>Classic Cars</td><td>2921.62</td></tr><tr><td>2</td><td>Classic Cars</td><td>5568.64</td></tr><tr><td>2</td><td>Classic Cars</td><td>1939.8</td></tr><tr><td>3</td><td>Classic Cars</td><td>3784.8</td></tr><tr><td>3</td><td>Classic Cars</td><td>2802.09</td></tr><tr><td>4</td><td>Classic Cars</td><td>2384.64</td></tr><tr><td>4</td><td>Classic Cars</td><td>2915.66</td></tr><tr><td>4</td><td>Classic Cars</td><td>5795.72</td></tr><tr><td>4</td><td>Classic Cars</td><td>3699.88</td></tr><tr><td>4</td><td>Classic Cars</td><td>2980.6</td></tr><tr><td>1</td><td>Classic Cars</td><td>5032.74</td></tr><tr><td>1</td><td>Classic Cars</td><td>4737.15</td></tr><tr><td>2</td><td>Classic Cars</td><td>6311.2</td></tr><tr><td>3</td><td>Classic Cars</td><td>3070.54</td></tr><tr><td>3</td><td>Classic Cars</td><td>4797.39</td></tr><tr><td>3</td><td>Classic Cars</td><td>3832.38</td></tr><tr><td>4</td><td>Classic Cars</td><td>4641.48</td></tr><tr><td>4</td><td>Classic Cars</td><td>4000.26</td></tr><tr><td>4</td><td>Classic Cars</td><td>5325.76</td></tr><tr><td>4</td><td>Classic Cars</td><td>4618.69</td></tr><tr><td>4</td><td>Classic Cars</td><td>3182.97</td></tr><tr><td>4</td><td>Classic Cars</td><td>2603.04</td></tr><tr><td>1</td><td>Classic Cars</td><td>1408.96</td></tr><tr><td>1</td><td>Classic Cars</td><td>1972.11</td></tr><tr><td>1</td><td>Classic Cars</td><td>5207.75</td></tr><tr><td>2</td><td>Classic Cars</td><td>4253.2</td></tr><tr><td>1</td><td>Vintage Cars</td><td>2873.0</td></tr><tr><td>1</td><td>Vintage Cars</td><td>2253.68</td></tr><tr><td>2</td><td>Vintage Cars</td><td>3576.12</td></tr><tr><td>3</td><td>Vintage Cars</td><td>3276.13</td></tr><tr><td>3</td><td>Vintage Cars</td><td>1811.4</td></tr><tr><td>4</td><td>Vintage Cars</td><td>3845.1</td></tr><tr><td>4</td><td>Vintage Cars</td><td>2571.14</td></tr><tr><td>4</td><td>Vintage Cars</td><td>5035.11</td></tr><tr><td>4</td><td>Vintage Cars</td><td>2279.0</td></tr><tr><td>4</td><td>Vintage Cars</td><td>3213.87</td></tr><tr><td>1</td><td>Vintage Cars</td><td>3532.23</td></tr><tr><td>1</td><td>Vintage Cars</td><td>3406.59</td></tr><tr><td>2</td><td>Vintage Cars</td><td>3467.2</td></tr><tr><td>2</td><td>Vintage Cars</td><td>3628.94</td></tr><tr><td>3</td><td>Vintage Cars</td><td>4674.72</td></tr><tr><td>3</td><td>Vintage Cars</td><td>1656.69</td></tr><tr><td>3</td><td>Vintage Cars</td><td>5171.4</td></tr><tr><td>4</td><td>Vintage Cars</td><td>3342.57</td></tr><tr><td>4</td><td>Vintage Cars</td><td>4884.88</td></tr><tr><td>4</td><td>Vintage Cars</td><td>6267.69</td></tr><tr><td>4</td><td>Vintage Cars</td><td>4424.16</td></tr><tr><td>4</td><td>Vintage Cars</td><td>1962.09</td></tr><tr><td>4</td><td>Vintage Cars</td><td>6847.0</td></tr><tr><td>1</td><td>Vintage Cars</td><td>3476.8</td></tr><tr><td>1</td><td>Vintage Cars</td><td>4592.61</td></tr><tr><td>2</td><td>Vintage Cars</td><td>2208.92</td></tr><tr><td>1</td><td>Planes</td><td>1657.76</td></tr><tr><td>2</td><td>Planes</td><td>2479.21</td></tr><tr><td>2</td><td>Planes</td><td>3565.92</td></tr><tr><td>3</td><td>Planes</td><td>2797.41</td></tr><tr><td>4</td><td>Planes</td><td>3756.0</td></tr><tr><td>1</td><td>Planes</td><td>2840.0</td></tr><tr><td>1</td><td>Planes</td><td>1716.26</td></tr><tr><td>2</td><td>Planes</td><td>3245.6</td></tr><tr><td>2</td><td>Planes</td><td>2760.94</td></tr><tr><td>2</td><td>Planes</td><td>1808.4</td></tr><tr><td>3</td><td>Planes</td><td>1682.37</td></tr><tr><td>3</td><td>Planes</td><td>1491.0</td></tr><tr><td>3</td><td>Planes</td><td>1666.35</td></tr><tr><td>4</td><td>Planes</td><td>3666.08</td></tr><tr><td>4</td><td>Planes</td><td>2916.2</td></tr><tr><td>4</td><td>Planes</td><td>2616.98</td></tr><tr><td>4</td><td>Planes</td><td>3390.8</td></tr><tr><td>4</td><td>Planes</td><td>3146.5</td></tr><tr><td>4</td><td>Planes</td><td>1561.5</td></tr><tr><td>1</td><td>Planes</td><td>10039.6</td></tr><tr><td>1</td><td>Planes</td><td>3167.0</td></tr><tr><td>1</td><td>Planes</td><td>3521.25</td></tr><tr><td>2</td><td>Planes</td><td>4219.28</td></tr><tr><td>2</td><td>Planes</td><td>3581.76</td></tr><tr><td>1</td><td>Classic Cars</td><td>2130.01</td></tr><tr><td>2</td><td>Classic Cars</td><td>2063.06</td></tr><tr><td>3</td><td>Classic Cars</td><td>2008.13</td></tr><tr><td>3</td><td>Classic Cars</td><td>2004.77</td></tr><tr><td>4</td><td>Classic Cars</td><td>1543.3</td></tr><tr><td>4</td><td>Classic Cars</td><td>2269.92</td></tr><tr><td>4</td><td>Classic Cars</td><td>1991.92</td></tr><tr><td>4</td><td>Classic Cars</td><td>2916.76</td></tr><tr><td>1</td><td>Classic Cars</td><td>2027.52</td></tr><tr><td>1</td><td>Classic Cars</td><td>3235.18</td></tr><tr><td>2</td><td>Classic Cars</td><td>2062.94</td></tr><tr><td>2</td><td>Classic Cars</td><td>3317.78</td></tr><tr><td>2</td><td>Classic Cars</td><td>3913.69</td></tr><tr><td>3</td><td>Classic Cars</td><td>3608.64</td></tr><tr><td>3</td><td>Classic Cars</td><td>3524.8</td></tr><tr><td>3</td><td>Classic Cars</td><td>2586.88</td></tr><tr><td>4</td><td>Classic Cars</td><td>4753.49</td></tr><tr><td>4</td><td>Classic Cars</td><td>3684.67</td></tr><tr><td>4</td><td>Classic Cars</td><td>5715.4</td></tr><tr><td>4</td><td>Classic Cars</td><td>3098.7</td></tr><tr><td>4</td><td>Classic Cars</td><td>2670.92</td></tr><tr><td>1</td><td>Classic Cars</td><td>5154.41</td></tr><tr><td>1</td><td>Classic Cars</td><td>4894.17</td></tr><tr><td>1</td><td>Classic Cars</td><td>2472.6</td></tr><tr><td>1</td><td>Trucks and Buses</td><td>3224.31</td></tr><tr><td>2</td><td>Trucks and Buses</td><td>3667.52</td></tr><tr><td>2</td><td>Trucks and Buses</td><td>4141.33</td></tr><tr><td>3</td><td>Trucks and Buses</td><td>2829.58</td></tr><tr><td>3</td><td>Trucks and Buses</td><td>3068.55</td></tr><tr><td>4</td><td>Trucks and Buses</td><td>2634.96</td></tr><tr><td>4</td><td>Trucks and Buses</td><td>2436.72</td></tr><tr><td>4</td><td>Trucks and Buses</td><td>4607.36</td></tr><tr><td>4</td><td>Trucks and Buses</td><td>3598.99</td></tr><tr><td>4</td><td>Trucks and Buses</td><td>3964.1</td></tr><tr><td>1</td><td>Trucks and Buses</td><td>2244.9</td></tr><tr><td>1</td><td>Trucks and Buses</td><td>2793.0</td></tr><tr><td>2</td><td>Trucks and Buses</td><td>4133.64</td></tr><tr><td>2</td><td>Trucks and Buses</td><td>3900.6</td></tr><tr><td>3</td><td>Trucks and Buses</td><td>2743.04</td></tr><tr><td>3</td><td>Trucks and Buses</td><td>2402.07</td></tr><tr><td>3</td><td>Trucks and Buses</td><td>2178.54</td></tr><tr><td>4</td><td>Trucks and Buses</td><td>3155.04</td></tr><tr><td>4</td><td>Trucks and Buses</td><td>2366.28</td></tr><tr><td>4</td><td>Trucks and Buses</td><td>1963.6</td></tr><tr><td>4</td><td>Trucks and Buses</td><td>4746.28</td></tr><tr><td>4</td><td>Trucks and Buses</td><td>6386.94</td></tr><tr><td>4</td><td>Trucks and Buses</td><td>4428.0</td></tr><tr><td>1</td><td>Trucks and Buses</td><td>4044.04</td></tr><tr><td>1</td><td>Trucks and Buses</td><td>2708.42</td></tr><tr><td>2</td><td>Trucks and Buses</td><td>2904.72</td></tr><tr><td>2</td><td>Trucks and Buses</td><td>3553.88</td></tr><tr><td>1</td><td>Motorcycles</td><td>1858.0</td></tr><tr><td>2</td><td>Motorcycles</td><td>2461.36</td></tr><tr><td>2</td><td>Motorcycles</td><td>2642.01</td></tr><tr><td>3</td><td>Motorcycles</td><td>3098.7</td></tr><tr><td>4</td><td>Motorcycles</td><td>3244.36</td></tr><tr><td>4</td><td>Motorcycles</td><td>4351.16</td></tr><tr><td>1</td><td>Motorcycles</td><td>3675.86</td></tr><tr><td>1</td><td>Motorcycles</td><td>2475.27</td></tr><tr><td>2</td><td>Motorcycles</td><td>4177.49</td></tr><tr><td>2</td><td>Motorcycles</td><td>3282.28</td></tr><tr><td>2</td><td>Motorcycles</td><td>2477.21</td></tr><tr><td>3</td><td>Motorcycles</td><td>1883.93</td></tr><tr><td>3</td><td>Motorcycles</td><td>3658.93</td></tr><tr><td>3</td><td>Motorcycles</td><td>2856.88</td></tr><tr><td>4</td><td>Motorcycles</td><td>1917.84</td></tr><tr><td>4</td><td>Motorcycles</td><td>5305.36</td></tr><tr><td>4</td><td>Motorcycles</td><td>2875.95</td></tr><tr><td>4</td><td>Motorcycles</td><td>6482.85</td></tr><tr><td>4</td><td>Motorcycles</td><td>3733.82</td></tr><tr><td>1</td><td>Motorcycles</td><td>6576.5</td></tr><tr><td>1</td><td>Motorcycles</td><td>6353.27</td></tr><tr><td>1</td><td>Motorcycles</td><td>4175.6</td></tr><tr><td>2</td><td>Motorcycles</td><td>4992.61</td></tr><tr><td>2</td><td>Motorcycles</td><td>4764.6</td></tr><tr><td>1</td><td>Motorcycles</td><td>1173.15</td></tr><tr><td>2</td><td>Motorcycles</td><td>1384.46</td></tr><tr><td>3</td><td>Motorcycles</td><td>1327.59</td></tr><tr><td>3</td><td>Motorcycles</td><td>1109.8</td></tr><tr><td>4</td><td>Motorcycles</td><td>1239.0</td></tr><tr><td>4</td><td>Motorcycles</td><td>1035.58</td></tr><tr><td>4</td><td>Motorcycles</td><td>1545.64</td></tr><tr><td>4</td><td>Motorcycles</td><td>1517.54</td></tr><tr><td>1</td><td>Motorcycles</td><td>1731.84</td></tr><tr><td>1</td><td>Motorcycles</td><td>1695.49</td></tr><tr><td>2</td><td>Motorcycles</td><td>1045.98</td></tr><tr><td>2</td><td>Motorcycles</td><td>1738.08</td></tr><tr><td>2</td><td>Motorcycles</td><td>651.8</td></tr><tr><td>3</td><td>Motorcycles</td><td>988.47</td></tr><tr><td>3</td><td>Motorcycles</td><td>1518.11</td></tr><tr><td>3</td><td>Motorcycles</td><td>1013.76</td></tr><tr><td>4</td><td>Motorcycles</td><td>1549.8</td></tr><tr><td>4</td><td>Motorcycles</td><td>1108.38</td></tr><tr><td>4</td><td>Motorcycles</td><td>4102.56</td></tr><tr><td>4</td><td>Motorcycles</td><td>3713.16</td></tr><tr><td>4</td><td>Motorcycles</td><td>1513.54</td></tr><tr><td>1</td><td>Motorcycles</td><td>2317.44</td></tr><tr><td>1</td><td>Motorcycles</td><td>3298.4</td></tr><tr><td>1</td><td>Motorcycles</td><td>1826.96</td></tr><tr><td>2</td><td>Motorcycles</td><td>1206.9</td></tr><tr><td>1</td><td>Trucks and Buses</td><td>1666.7</td></tr><tr><td>2</td><td>Trucks and Buses</td><td>1560.44</td></tr><tr><td>2</td><td>Trucks and Buses</td><td>2337.75</td></tr><tr><td>3</td><td>Trucks and Buses</td><td>1103.76</td></tr><tr><td>3</td><td>Trucks and Buses</td><td>2617.85</td></tr><tr><td>4</td><td>Trucks and Buses</td><td>2207.52</td></tr><tr><td>4</td><td>Trucks and Buses</td><td>3165.5</td></tr><tr><td>4</td><td>Trucks and Buses</td><td>2071.41</td></tr><tr><td>4</td><td>Trucks and Buses</td><td>1385.28</td></tr><tr><td>4</td><td>Trucks and Buses</td><td>1621.62</td></tr><tr><td>1</td><td>Trucks and Buses</td><td>1931.65</td></tr><tr><td>1</td><td>Trucks and Buses</td><td>1244.53</td></tr><tr><td>2</td><td>Trucks and Buses</td><td>1704.5</td></tr><tr><td>2</td><td>Trucks and Buses</td><td>1753.2</td></tr><tr><td>3</td><td>Trucks and Buses</td><td>1666.7</td></tr><tr><td>3</td><td>Trucks and Buses</td><td>1710.89</td></tr><tr><td>3</td><td>Trucks and Buses</td><td>2326.5</td></tr><tr><td>4</td><td>Trucks and Buses</td><td>2316.0</td></tr><tr><td>4</td><td>Trucks and Buses</td><td>1727.1</td></tr><tr><td>4</td><td>Trucks and Buses</td><td>8844.12</td></tr><tr><td>4</td><td>Trucks and Buses</td><td>2424.0</td></tr><tr><td>4</td><td>Trucks and Buses</td><td>1535.49</td></tr><tr><td>4</td><td>Trucks and Buses</td><td>6358.68</td></tr><tr><td>1</td><td>Trucks and Buses</td><td>1329.4</td></tr><tr><td>1</td><td>Trucks and Buses</td><td>1701.76</td></tr><tr><td>1</td><td>Trucks and Buses</td><td>2259.72</td></tr><tr><td>2</td><td>Trucks and Buses</td><td>925.3</td></tr><tr><td>2</td><td>Trucks and Buses</td><td>482.13</td></tr><tr><td>1</td><td>Trains</td><td>3227.63</td></tr><tr><td>2</td><td>Trains</td><td>1711.26</td></tr><tr><td>2</td><td>Trains</td><td>2054.36</td></tr><tr><td>3</td><td>Trains</td><td>3131.94</td></tr><tr><td>3</td><td>Trains</td><td>1681.35</td></tr><tr><td>4</td><td>Trains</td><td>2351.36</td></tr><tr><td>4</td><td>Trains</td><td>1408.0</td></tr><tr><td>4</td><td>Trains</td><td>2445.6</td></tr><tr><td>4</td><td>Trains</td><td>1804.44</td></tr><tr><td>4</td><td>Trains</td><td>2544.75</td></tr><tr><td>1</td><td>Trains</td><td>1056.4</td></tr><tr><td>1</td><td>Trains</td><td>2801.4</td></tr><tr><td>2</td><td>Trains</td><td>1988.4</td></tr><tr><td>3</td><td>Trains</td><td>2908.35</td></tr><tr><td>3</td><td>Trains</td><td>2147.4</td></tr><tr><td>3</td><td>Trains</td><td>2099.63</td></tr><tr><td>4</td><td>Trains</td><td>2315.18</td></tr><tr><td>4</td><td>Trains</td><td>2327.15</td></tr><tr><td>4</td><td>Trains</td><td>5377.4</td></tr><tr><td>4</td><td>Trains</td><td>2626.01</td></tr><tr><td>4</td><td>Trains</td><td>4406.4</td></tr><tr><td>4</td><td>Trains</td><td>4301.22</td></tr><tr><td>1</td><td>Trains</td><td>2986.5</td></tr><tr><td>1</td><td>Trains</td><td>1587.08</td></tr><tr><td>1</td><td>Trains</td><td>1808.4</td></tr><tr><td>2</td><td>Trains</td><td>1193.04</td></tr><tr><td>1</td><td>Trucks and Buses</td><td>3403.35</td></tr><tr><td>1</td><td>Trucks and Buses</td><td>1575.96</td></tr><tr><td>2</td><td>Trucks and Buses</td><td>1630.2</td></tr><tr><td>3</td><td>Trucks and Buses</td><td>1701.28</td></tr><tr><td>3</td><td>Trucks and Buses</td><td>2850.82</td></tr><tr><td>4</td><td>Trucks and Buses</td><td>2692.06</td></tr><tr><td>4</td><td>Trucks and Buses</td><td>2174.42</td></tr><tr><td>4</td><td>Trucks and Buses</td><td>3167.36</td></tr><tr><td>4</td><td>Trucks and Buses</td><td>2142.66</td></tr><tr><td>4</td><td>Trucks and Buses</td><td>2117.52</td></tr><tr><td>1</td><td>Trucks and Buses</td><td>2419.95</td></tr><tr><td>1</td><td>Trucks and Buses</td><td>2191.2</td></tr><tr><td>2</td><td>Trucks and Buses</td><td>3043.04</td></tr><tr><td>2</td><td>Trucks and Buses</td><td>1228.2</td></tr><tr><td>3</td><td>Trucks and Buses</td><td>1330.35</td></tr><tr><td>3</td><td>Trucks and Buses</td><td>2792.52</td></tr><tr><td>3</td><td>Trucks and Buses</td><td>2296.0</td></tr><tr><td>4</td><td>Trucks and Buses</td><td>2629.44</td></tr><tr><td>4</td><td>Trucks and Buses</td><td>1912.16</td></tr><tr><td>4</td><td>Trucks and Buses</td><td>8209.44</td></tr><tr><td>4</td><td>Trucks and Buses</td><td>2431.77</td></tr><tr><td>4</td><td>Trucks and Buses</td><td>3139.99</td></tr><tr><td>4</td><td>Trucks and Buses</td><td>5669.64</td></tr><tr><td>1</td><td>Trucks and Buses</td><td>3160.25</td></tr><tr><td>1</td><td>Trucks and Buses</td><td>6799.68</td></tr><tr><td>2</td><td>Trucks and Buses</td><td>1867.32</td></tr><tr><td>2</td><td>Trucks and Buses</td><td>2702.04</td></tr><tr><td>1</td><td>Vintage Cars</td><td>2406.36</td></tr><tr><td>2</td><td>Vintage Cars</td><td>2094.67</td></tr><tr><td>2</td><td>Vintage Cars</td><td>2797.9</td></tr><tr><td>3</td><td>Vintage Cars</td><td>1637.2</td></tr><tr><td>4</td><td>Vintage Cars</td><td>2281.91</td></tr><tr><td>1</td><td>Vintage Cars</td><td>2307.24</td></tr><tr><td>1</td><td>Vintage Cars</td><td>1320.8</td></tr><tr><td>2</td><td>Vintage Cars</td><td>2642.82</td></tr><tr><td>2</td><td>Vintage Cars</td><td>3061.0</td></tr><tr><td>2</td><td>Vintage Cars</td><td>3164.4</td></tr><tr><td>3</td><td>Vintage Cars</td><td>1791.16</td></tr><tr><td>3</td><td>Vintage Cars</td><td>4093.0</td></tr><tr><td>3</td><td>Vintage Cars</td><td>2234.4</td></tr><tr><td>4</td><td>Vintage Cars</td><td>3037.84</td></tr><tr><td>4</td><td>Vintage Cars</td><td>1419.84</td></tr><tr><td>4</td><td>Vintage Cars</td><td>1948.08</td></tr><tr><td>4</td><td>Vintage Cars</td><td>2307.24</td></tr><tr><td>4</td><td>Vintage Cars</td><td>1780.4</td></tr><tr><td>4</td><td>Vintage Cars</td><td>3544.17</td></tr><tr><td>1</td><td>Vintage Cars</td><td>3619.44</td></tr><tr><td>1</td><td>Vintage Cars</td><td>3918.95</td></tr><tr><td>1</td><td>Vintage Cars</td><td>1483.02</td></tr><tr><td>2</td><td>Vintage Cars</td><td>4819.26</td></tr><tr><td>2</td><td>Vintage Cars</td><td>1591.72</td></tr><tr><td>1</td><td>Motorcycles</td><td>3669.78</td></tr><tr><td>2</td><td>Motorcycles</td><td>2168.5</td></tr><tr><td>3</td><td>Motorcycles</td><td>2694.0</td></tr><tr><td>3</td><td>Motorcycles</td><td>3251.34</td></tr><tr><td>4</td><td>Motorcycles</td><td>2347.15</td></tr><tr><td>4</td><td>Motorcycles</td><td>3920.88</td></tr><tr><td>4</td><td>Motorcycles</td><td>2514.6</td></tr><tr><td>4</td><td>Motorcycles</td><td>3600.24</td></tr><tr><td>1</td><td>Motorcycles</td><td>4040.03</td></tr><tr><td>1</td><td>Motorcycles</td><td>3336.9</td></tr><tr><td>2</td><td>Motorcycles</td><td>3113.64</td></tr><tr><td>2</td><td>Motorcycles</td><td>2832.0</td></tr><tr><td>2</td><td>Motorcycles</td><td>3330.98</td></tr><tr><td>3</td><td>Motorcycles</td><td>4304.64</td></tr><tr><td>3</td><td>Motorcycles</td><td>2600.26</td></tr><tr><td>3</td><td>Motorcycles</td><td>4382.16</td></tr><tr><td>4</td><td>Motorcycles</td><td>4235.0</td></tr><tr><td>4</td><td>Motorcycles</td><td>2626.8</td></tr><tr><td>4</td><td>Motorcycles</td><td>5026.56</td></tr><tr><td>4</td><td>Motorcycles</td><td>2201.62</td></tr><tr><td>4</td><td>Motorcycles</td><td>4326.8</td></tr><tr><td>1</td><td>Motorcycles</td><td>3425.18</td></tr><tr><td>1</td><td>Motorcycles</td><td>4701.88</td></tr><tr><td>1</td><td>Motorcycles</td><td>2204.1</td></tr><tr><td>2</td><td>Motorcycles</td><td>5189.4</td></tr><tr><td>1</td><td>Vintage Cars</td><td>1565.85</td></tr><tr><td>2</td><td>Vintage Cars</td><td>2480.38</td></tr><tr><td>2</td><td>Vintage Cars</td><td>1355.13</td></tr><tr><td>3</td><td>Vintage Cars</td><td>1246.44</td></tr><tr><td>4</td><td>Vintage Cars</td><td>820.4</td></tr><tr><td>4</td><td>Vintage Cars</td><td>2492.64</td></tr><tr><td>4</td><td>Vintage Cars</td><td>1113.6</td></tr><tr><td>1</td><td>Vintage Cars</td><td>1763.86</td></tr><tr><td>1</td><td>Vintage Cars</td><td>1896.66</td></tr><tr><td>2</td><td>Vintage Cars</td><td>1449.35</td></tr><tr><td>2</td><td>Vintage Cars</td><td>1869.48</td></tr><tr><td>2</td><td>Vintage Cars</td><td>1860.53</td></tr><tr><td>3</td><td>Vintage Cars</td><td>1724.82</td></tr><tr><td>3</td><td>Vintage Cars</td><td>1713.69</td></tr><tr><td>3</td><td>Vintage Cars</td><td>1259.44</td></tr><tr><td>4</td><td>Vintage Cars</td><td>2051.08</td></tr><tr><td>4</td><td>Vintage Cars</td><td>1617.38</td></tr><tr><td>4</td><td>Vintage Cars</td><td>1765.62</td></tr><tr><td>4</td><td>Vintage Cars</td><td>2024.8</td></tr><tr><td>4</td><td>Vintage Cars</td><td>3288.4</td></tr><tr><td>4</td><td>Vintage Cars</td><td>2725.47</td></tr><tr><td>1</td><td>Vintage Cars</td><td>3224.2</td></tr><tr><td>1</td><td>Vintage Cars</td><td>3211.38</td></tr><tr><td>1</td><td>Vintage Cars</td><td>1796.34</td></tr><tr><td>2</td><td>Vintage Cars</td><td>1979.6</td></tr><tr><td>2</td><td>Vintage Cars</td><td>1921.41</td></tr><tr><td>1</td><td>Trucks and Buses</td><td>3705.24</td></tr><tr><td>2</td><td>Trucks and Buses</td><td>2843.91</td></tr><tr><td>2</td><td>Trucks and Buses</td><td>6176.42</td></tr><tr><td>3</td><td>Trucks and Buses</td><td>5500.44</td></tr><tr><td>3</td><td>Trucks and Buses</td><td>3220.1</td></tr><tr><td>4</td><td>Trucks and Buses</td><td>4556.16</td></tr><tr><td>4</td><td>Trucks and Buses</td><td>3114.89</td></tr><tr><td>4</td><td>Trucks and Buses</td><td>4948.2</td></tr><tr><td>4</td><td>Trucks and Buses</td><td>5161.17</td></tr><tr><td>4</td><td>Trucks and Buses</td><td>2657.76</td></tr><tr><td>1</td><td>Trucks and Buses</td><td>3983.05</td></tr><tr><td>1</td><td>Trucks and Buses</td><td>3974.94</td></tr><tr><td>2</td><td>Trucks and Buses</td><td>2928.42</td></tr><tr><td>2</td><td>Trucks and Buses</td><td>3054.57</td></tr><tr><td>3</td><td>Trucks and Buses</td><td>3345.26</td></tr><tr><td>3</td><td>Trucks and Buses</td><td>4310.72</td></tr><tr><td>3</td><td>Trucks and Buses</td><td>4983.14</td></tr><tr><td>4</td><td>Trucks and Buses</td><td>4618.32</td></tr><tr><td>4</td><td>Trucks and Buses</td><td>3403.12</td></tr><tr><td>4</td><td>Trucks and Buses</td><td>5190.42</td></tr><tr><td>4</td><td>Trucks and Buses</td><td>3141.57</td></tr><tr><td>4</td><td>Trucks and Buses</td><td>2213.4</td></tr><tr><td>4</td><td>Trucks and Buses</td><td>4896.7</td></tr><tr><td>1</td><td>Trucks and Buses</td><td>2714.4</td></tr><tr><td>1</td><td>Trucks and Buses</td><td>3087.05</td></tr><tr><td>1</td><td>Trucks and Buses</td><td>5692.96</td></tr><tr><td>2</td><td>Trucks and Buses</td><td>3460.86</td></tr><tr><td>2</td><td>Trucks and Buses</td><td>1895.94</td></tr><tr><td>1</td><td>Trains</td><td>1705.92</td></tr><tr><td>2</td><td>Trains</td><td>1033.41</td></tr><tr><td>2</td><td>Trains</td><td>3179.52</td></tr><tr><td>3</td><td>Trains</td><td>2091.18</td></tr><tr><td>3</td><td>Trains</td><td>1779.71</td></tr><tr><td>4</td><td>Trains</td><td>2537.64</td></tr><tr><td>4</td><td>Trains</td><td>2448.72</td></tr><tr><td>4</td><td>Trains</td><td>972.4</td></tr><tr><td>4</td><td>Trains</td><td>2856.14</td></tr><tr><td>1</td><td>Trains</td><td>1968.3</td></tr><tr><td>1</td><td>Trains</td><td>2056.2</td></tr><tr><td>1</td><td>Trains</td><td>2242.02</td></tr><tr><td>2</td><td>Trains</td><td>3128.65</td></tr><tr><td>3</td><td>Trains</td><td>2443.26</td></tr><tr><td>3</td><td>Trains</td><td>2470.86</td></tr><tr><td>3</td><td>Trains</td><td>1927.45</td></tr><tr><td>4</td><td>Trains</td><td>2051.56</td></tr><tr><td>4</td><td>Trains</td><td>2337.38</td></tr><tr><td>4</td><td>Trains</td><td>5932.96</td></tr><tr><td>4</td><td>Trains</td><td>2296.77</td></tr><tr><td>4</td><td>Trains</td><td>6490.88</td></tr><tr><td>4</td><td>Trains</td><td>1623.25</td></tr><tr><td>1</td><td>Trains</td><td>1405.92</td></tr><tr><td>1</td><td>Trains</td><td>2282.28</td></tr><tr><td>1</td><td>Trains</td><td>8977.05</td></tr><tr><td>2</td><td>Trains</td><td>3256.35</td></tr><tr><td>1</td><td>Motorcycles</td><td>2821.66</td></tr><tr><td>2</td><td>Motorcycles</td><td>3293.4</td></tr><tr><td>3</td><td>Motorcycles</td><td>4224.0</td></tr><tr><td>3</td><td>Motorcycles</td><td>3091.68</td></tr><tr><td>4</td><td>Motorcycles</td><td>2219.6</td></tr><tr><td>4</td><td>Motorcycles</td><td>3866.4</td></tr><tr><td>4</td><td>Motorcycles</td><td>1964.76</td></tr><tr><td>4</td><td>Motorcycles</td><td>2668.8</td></tr><tr><td>1</td><td>Motorcycles</td><td>3222.0</td></tr><tr><td>1</td><td>Motorcycles</td><td>3864.5</td></tr><tr><td>2</td><td>Motorcycles</td><td>1366.8</td></tr><tr><td>2</td><td>Motorcycles</td><td>3475.68</td></tr><tr><td>2</td><td>Motorcycles</td><td>4206.5</td></tr><tr><td>3</td><td>Motorcycles</td><td>1486.38</td></tr><tr><td>3</td><td>Motorcycles</td><td>3077.88</td></tr><tr><td>3</td><td>Motorcycles</td><td>3544.2</td></tr><tr><td>4</td><td>Motorcycles</td><td>2483.04</td></tr><tr><td>4</td><td>Motorcycles</td><td>3478.05</td></tr><tr><td>4</td><td>Motorcycles</td><td>3657.8</td></tr><tr><td>4</td><td>Motorcycles</td><td>4682.36</td></tr><tr><td>4</td><td>Motorcycles</td><td>3937.7</td></tr><tr><td>1</td><td>Motorcycles</td><td>4984.32</td></tr><tr><td>1</td><td>Motorcycles</td><td>5406.66</td></tr><tr><td>1</td><td>Motorcycles</td><td>3491.18</td></tr><tr><td>2</td><td>Motorcycles</td><td>2118.54</td></tr><tr><td>1</td><td>Ships</td><td>2897.47</td></tr><tr><td>2</td><td>Ships</td><td>1916.75</td></tr><tr><td>2</td><td>Ships</td><td>1860.0</td></tr><tr><td>3</td><td>Ships</td><td>2624.0</td></tr><tr><td>3</td><td>Ships</td><td>2780.81</td></tr><tr><td>4</td><td>Ships</td><td>3239.62</td></tr><tr><td>4</td><td>Ships</td><td>1824.0</td></tr><tr><td>4</td><td>Ships</td><td>1134.0</td></tr><tr><td>4</td><td>Ships</td><td>1487.41</td></tr><tr><td>1</td><td>Ships</td><td>2837.46</td></tr><tr><td>1</td><td>Ships</td><td>1942.77</td></tr><tr><td>1</td><td>Ships</td><td>2544.12</td></tr><tr><td>2</td><td>Ships</td><td>2568.24</td></tr><tr><td>2</td><td>Ships</td><td>2108.0</td></tr><tr><td>3</td><td>Ships</td><td>1372.14</td></tr><tr><td>3</td><td>Ships</td><td>3540.15</td></tr><tr><td>3</td><td>Ships</td><td>1958.84</td></tr><tr><td>4</td><td>Ships</td><td>2700.0</td></tr><tr><td>4</td><td>Ships</td><td>2542.0</td></tr><tr><td>4</td><td>Ships</td><td>2340.0</td></tr><tr><td>4</td><td>Ships</td><td>2816.44</td></tr><tr><td>4</td><td>Ships</td><td>3526.82</td></tr><tr><td>1</td><td>Ships</td><td>4627.92</td></tr><tr><td>1</td><td>Ships</td><td>1933.5</td></tr><tr><td>1</td><td>Ships</td><td>2600.13</td></tr><tr><td>2</td><td>Ships</td><td>2639.58</td></tr><tr><td>1</td><td>Planes</td><td>3312.97</td></tr><tr><td>2</td><td>Planes</td><td>3863.87</td></tr><tr><td>2</td><td>Planes</td><td>1863.36</td></tr><tr><td>3</td><td>Planes</td><td>3945.96</td></tr><tr><td>4</td><td>Planes</td><td>4954.08</td></tr><tr><td>4</td><td>Planes</td><td>2762.2</td></tr><tr><td>4</td><td>Planes</td><td>3989.76</td></tr><tr><td>1</td><td>Planes</td><td>1649.55</td></tr><tr><td>1</td><td>Planes</td><td>2534.75</td></tr><tr><td>2</td><td>Planes</td><td>2580.25</td></tr><tr><td>2</td><td>Planes</td><td>2831.54</td></tr><tr><td>2</td><td>Planes</td><td>3361.2</td></tr><tr><td>3</td><td>Planes</td><td>2864.32</td></tr><tr><td>3</td><td>Planes</td><td>1994.88</td></tr><tr><td>3</td><td>Planes</td><td>4296.6</td></tr><tr><td>4</td><td>Planes</td><td>2224.95</td></tr><tr><td>4</td><td>Planes</td><td>2795.14</td></tr><tr><td>4</td><td>Planes</td><td>2762.1</td></tr><tr><td>4</td><td>Planes</td><td>2658.0</td></tr><tr><td>4</td><td>Planes</td><td>5043.87</td></tr><tr><td>4</td><td>Planes</td><td>1210.8</td></tr><tr><td>1</td><td>Planes</td><td>3029.19</td></tr><tr><td>1</td><td>Planes</td><td>10066.6</td></tr><tr><td>1</td><td>Planes</td><td>4121.43</td></tr><tr><td>2</td><td>Planes</td><td>1135.31</td></tr><tr><td>2</td><td>Planes</td><td>2100.82</td></tr><tr><td>1</td><td>Ships</td><td>2034.35</td></tr><tr><td>2</td><td>Ships</td><td>3027.84</td></tr><tr><td>2</td><td>Ships</td><td>3104.0</td></tr><tr><td>3</td><td>Ships</td><td>3612.43</td></tr><tr><td>3</td><td>Ships</td><td>2711.88</td></tr><tr><td>4</td><td>Ships</td><td>3013.97</td></tr><tr><td>4</td><td>Ships</td><td>2738.54</td></tr><tr><td>4</td><td>Ships</td><td>2832.0</td></tr><tr><td>4</td><td>Ships</td><td>4720.0</td></tr><tr><td>1</td><td>Ships</td><td>3222.0</td></tr><tr><td>1</td><td>Ships</td><td>2231.0</td></tr><tr><td>1</td><td>Ships</td><td>2296.84</td></tr><tr><td>2</td><td>Ships</td><td>4157.2</td></tr><tr><td>3</td><td>Ships</td><td>2146.2</td></tr><tr><td>3</td><td>Ships</td><td>3724.23</td></tr><tr><td>3</td><td>Ships</td><td>2084.81</td></tr><tr><td>4</td><td>Ships</td><td>3488.78</td></tr><tr><td>4</td><td>Ships</td><td>1753.06</td></tr><tr><td>4</td><td>Ships</td><td>3469.2</td></tr><tr><td>4</td><td>Ships</td><td>2530.8</td></tr><tr><td>4</td><td>Ships</td><td>2924.32</td></tr><tr><td>1</td><td>Ships</td><td>4496.8</td></tr><tr><td>1</td><td>Ships</td><td>6397.44</td></tr><tr><td>1</td><td>Ships</td><td>2577.6</td></tr><tr><td>2</td><td>Ships</td><td>3533.62</td></tr><tr><td>1</td><td>Ships</td><td>3177.3</td></tr><tr><td>2</td><td>Ships</td><td>2730.06</td></tr><tr><td>2</td><td>Ships</td><td>1891.78</td></tr><tr><td>3</td><td>Ships</td><td>2612.48</td></tr><tr><td>4</td><td>Ships</td><td>2925.76</td></tr><tr><td>4</td><td>Ships</td><td>2940.02</td></tr><tr><td>4</td><td>Ships</td><td>3293.24</td></tr><tr><td>4</td><td>Ships</td><td>2389.68</td></tr><tr><td>4</td><td>Ships</td><td>2172.48</td></tr><tr><td>1</td><td>Ships</td><td>2927.43</td></tr><tr><td>1</td><td>Ships</td><td>2659.54</td></tr><tr><td>2</td><td>Ships</td><td>3838.0</td></tr><tr><td>2</td><td>Ships</td><td>4142.16</td></tr><tr><td>3</td><td>Ships</td><td>2172.48</td></tr><tr><td>3</td><td>Ships</td><td>1882.8</td></tr><tr><td>3</td><td>Ships</td><td>3477.86</td></tr><tr><td>4</td><td>Ships</td><td>3323.84</td></tr><tr><td>4</td><td>Ships</td><td>4195.8</td></tr><tr><td>4</td><td>Ships</td><td>4156.58</td></tr><tr><td>4</td><td>Ships</td><td>3918.75</td></tr><tr><td>4</td><td>Ships</td><td>2352.67</td></tr><tr><td>4</td><td>Ships</td><td>1089.36</td></tr><tr><td>1</td><td>Ships</td><td>2701.12</td></tr><tr><td>1</td><td>Ships</td><td>2487.04</td></tr><tr><td>1</td><td>Ships</td><td>3910.32</td></tr><tr><td>2</td><td>Ships</td><td>4038.8</td></tr><tr><td>2</td><td>Ships</td><td>3070.4</td></tr><tr><td>1</td><td>Planes</td><td>3763.46</td></tr><tr><td>2</td><td>Planes</td><td>2584.8</td></tr><tr><td>2</td><td>Planes</td><td>4427.6</td></tr><tr><td>3</td><td>Planes</td><td>2152.02</td></tr><tr><td>4</td><td>Planes</td><td>2353.4</td></tr><tr><td>4</td><td>Planes</td><td>3431.39</td></tr><tr><td>4</td><td>Planes</td><td>1930.5</td></tr><tr><td>4</td><td>Planes</td><td>4774.56</td></tr><tr><td>1</td><td>Planes</td><td>2592.72</td></tr><tr><td>1</td><td>Planes</td><td>3246.75</td></tr><tr><td>2</td><td>Planes</td><td>3372.5</td></tr><tr><td>2</td><td>Planes</td><td>3909.15</td></tr><tr><td>2</td><td>Planes</td><td>2994.75</td></tr><tr><td>3</td><td>Planes</td><td>4472.52</td></tr><tr><td>3</td><td>Planes</td><td>4576.95</td></tr><tr><td>3</td><td>Planes</td><td>2441.04</td></tr><tr><td>4</td><td>Planes</td><td>3106.25</td></tr><tr><td>4</td><td>Planes</td><td>2706.41</td></tr><tr><td>4</td><td>Planes</td><td>4021.53</td></tr><tr><td>4</td><td>Planes</td><td>4826.25</td></tr><tr><td>4</td><td>Planes</td><td>4935.28</td></tr><tr><td>4</td><td>Planes</td><td>2754.7</td></tr><tr><td>1</td><td>Planes</td><td>3856.71</td></tr><tr><td>1</td><td>Planes</td><td>3102.08</td></tr><tr><td>1</td><td>Planes</td><td>1908.72</td></tr><tr><td>2</td><td>Planes</td><td>7543.75</td></tr><tr><td>2</td><td>Planes</td><td>2457.18</td></tr><tr><td>1</td><td>Ships</td><td>2038.87</td></tr><tr><td>2</td><td>Ships</td><td>2499.26</td></tr><tr><td>2</td><td>Ships</td><td>3838.05</td></tr><tr><td>3</td><td>Ships</td><td>2643.99</td></tr><tr><td>4</td><td>Ships</td><td>2315.88</td></tr><tr><td>4</td><td>Ships</td><td>3225.06</td></tr><tr><td>4</td><td>Ships</td><td>2451.84</td></tr><tr><td>4</td><td>Ships</td><td>2254.98</td></tr><tr><td>4</td><td>Ships</td><td>3939.5</td></tr><tr><td>1</td><td>Ships</td><td>3424.7</td></tr><tr><td>1</td><td>Ships</td><td>2914.2</td></tr><tr><td>1</td><td>Ships</td><td>2389.6</td></tr><tr><td>2</td><td>Ships</td><td>2428.48</td></tr><tr><td>2</td><td>Ships</td><td>3021.48</td></tr><tr><td>3</td><td>Ships</td><td>2610.72</td></tr><tr><td>3</td><td>Ships</td><td>3091.19</td></tr><tr><td>3</td><td>Ships</td><td>2576.2</td></tr><tr><td>4</td><td>Ships</td><td>3232.31</td></tr><tr><td>4</td><td>Ships</td><td>3573.6</td></tr><tr><td>4</td><td>Ships</td><td>2022.51</td></tr><tr><td>4</td><td>Ships</td><td>3717.5</td></tr><tr><td>4</td><td>Ships</td><td>2185.15</td></tr><tr><td>1</td><td>Ships</td><td>2883.53</td></tr><tr><td>1</td><td>Ships</td><td>5017.57</td></tr><tr><td>1</td><td>Ships</td><td>1463.0</td></tr><tr><td>2</td><td>Ships</td><td>2352.59</td></tr><tr><td>1</td><td>Classic Cars</td><td>4460.82</td></tr><tr><td>2</td><td>Classic Cars</td><td>4758.18</td></tr><tr><td>2</td><td>Classic Cars</td><td>4597.2</td></tr><tr><td>3</td><td>Classic Cars</td><td>4114.8</td></tr><tr><td>3</td><td>Classic Cars</td><td>2104.0</td></tr><tr><td>4</td><td>Classic Cars</td><td>3195.27</td></tr><tr><td>4</td><td>Classic Cars</td><td>3611.16</td></tr><tr><td>4</td><td>Classic Cars</td><td>2000.77</td></tr><tr><td>4</td><td>Classic Cars</td><td>2314.26</td></tr><tr><td>4</td><td>Classic Cars</td><td>3871.89</td></tr><tr><td>1</td><td>Classic Cars</td><td>2728.0</td></tr><tr><td>1</td><td>Classic Cars</td><td>5614.0</td></tr><tr><td>2</td><td>Classic Cars</td><td>4628.8</td></tr><tr><td>2</td><td>Classic Cars</td><td>3641.4</td></tr><tr><td>3</td><td>Classic Cars</td><td>4048.0</td></tr><tr><td>3</td><td>Classic Cars</td><td>2321.46</td></tr><tr><td>3</td><td>Classic Cars</td><td>3256.96</td></tr><tr><td>4</td><td>Classic Cars</td><td>4208.0</td></tr><tr><td>4</td><td>Classic Cars</td><td>2973.9</td></tr><tr><td>4</td><td>Classic Cars</td><td>4248.3</td></tr><tr><td>4</td><td>Classic Cars</td><td>9558.8</td></tr><tr><td>4</td><td>Classic Cars</td><td>2650.56</td></tr><tr><td>4</td><td>Classic Cars</td><td>3761.37</td></tr><tr><td>1</td><td>Classic Cars</td><td>4301.34</td></tr><tr><td>1</td><td>Classic Cars</td><td>1864.56</td></tr><tr><td>2</td><td>Classic Cars</td><td>3576.8</td></tr><tr><td>2</td><td>Classic Cars</td><td>3722.32</td></tr><tr><td>1</td><td>Planes</td><td>3986.56</td></tr><tr><td>2</td><td>Planes</td><td>3417.12</td></tr><tr><td>2</td><td>Planes</td><td>2691.09</td></tr><tr><td>3</td><td>Planes</td><td>2752.6</td></tr><tr><td>4</td><td>Planes</td><td>4527.72</td></tr><tr><td>4</td><td>Planes</td><td>3957.05</td></tr><tr><td>1</td><td>Planes</td><td>2818.0</td></tr><tr><td>1</td><td>Planes</td><td>3199.86</td></tr><tr><td>2</td><td>Planes</td><td>2402.75</td></tr><tr><td>2</td><td>Planes</td><td>6055.72</td></tr><tr><td>2</td><td>Planes</td><td>5465.16</td></tr><tr><td>3</td><td>Planes</td><td>6378.72</td></tr><tr><td>3</td><td>Planes</td><td>5392.8</td></tr><tr><td>3</td><td>Planes</td><td>3986.5</td></tr><tr><td>4</td><td>Planes</td><td>4009.23</td></tr><tr><td>4</td><td>Planes</td><td>7119.0</td></tr><tr><td>4</td><td>Planes</td><td>4072.2</td></tr><tr><td>4</td><td>Planes</td><td>4094.51</td></tr><tr><td>4</td><td>Planes</td><td>3302.4</td></tr><tr><td>4</td><td>Planes</td><td>3186.48</td></tr><tr><td>1</td><td>Planes</td><td>1668.25</td></tr><tr><td>1</td><td>Planes</td><td>7154.5</td></tr><tr><td>1</td><td>Planes</td><td>2810.83</td></tr><tr><td>2</td><td>Planes</td><td>2018.31</td></tr><tr><td>2</td><td>Planes</td><td>5642.83</td></tr><tr><td>1</td><td>Planes</td><td>3273.6</td></tr><tr><td>2</td><td>Planes</td><td>3268.0</td></tr><tr><td>3</td><td>Planes</td><td>2688.0</td></tr><tr><td>4</td><td>Planes</td><td>3715.2</td></tr><tr><td>4</td><td>Planes</td><td>4608.0</td></tr><tr><td>4</td><td>Planes</td><td>3131.2</td></tr><tr><td>1</td><td>Planes</td><td>2678.4</td></tr><tr><td>1</td><td>Planes</td><td>1747.2</td></tr><tr><td>2</td><td>Planes</td><td>2944.0</td></tr><tr><td>2</td><td>Planes</td><td>2956.8</td></tr><tr><td>2</td><td>Planes</td><td>2052.0</td></tr><tr><td>3</td><td>Planes</td><td>3164.8</td></tr><tr><td>3</td><td>Planes</td><td>1740.0</td></tr><tr><td>3</td><td>Planes</td><td>1777.6</td></tr><tr><td>4</td><td>Planes</td><td>1831.2</td></tr><tr><td>4</td><td>Planes</td><td>3609.6</td></tr><tr><td>4</td><td>Planes</td><td>2112.0</td></tr><tr><td>4</td><td>Planes</td><td>3644.12</td></tr><tr><td>4</td><td>Planes</td><td>3523.85</td></tr><tr><td>4</td><td>Planes</td><td>5001.92</td></tr><tr><td>1</td><td>Planes</td><td>5208.72</td></tr><tr><td>1</td><td>Planes</td><td>3018.88</td></tr><tr><td>1</td><td>Planes</td><td>1902.4</td></tr><tr><td>2</td><td>Planes</td><td>7084.0</td></tr><tr><td>2</td><td>Planes</td><td>2620.8</td></tr><tr><td>1</td><td>Ships</td><td>3164.46</td></tr><tr><td>2</td><td>Ships</td><td>4219.2</td></tr><tr><td>2</td><td>Ships</td><td>3828.3</td></tr><tr><td>3</td><td>Ships</td><td>2334.99</td></tr><tr><td>3</td><td>Ships</td><td>4407.5</td></tr><tr><td>4</td><td>Ships</td><td>2812.8</td></tr><tr><td>4</td><td>Ships</td><td>4055.04</td></tr><tr><td>4</td><td>Ships</td><td>3891.66</td></tr><tr><td>4</td><td>Ships</td><td>2488.32</td></tr><tr><td>1</td><td>Ships</td><td>4447.4</td></tr><tr><td>1</td><td>Ships</td><td>4187.22</td></tr><tr><td>1</td><td>Ships</td><td>4615.68</td></tr><tr><td>2</td><td>Ships</td><td>3245.4</td></tr><tr><td>2</td><td>Ships</td><td>2203.75</td></tr><tr><td>3</td><td>Ships</td><td>3446.0</td></tr><tr><td>3</td><td>Ships</td><td>1939.3</td></tr><tr><td>3</td><td>Ships</td><td>3473.78</td></tr><tr><td>4</td><td>Ships</td><td>2884.8</td></tr><tr><td>4</td><td>Ships</td><td>2670.65</td></tr><tr><td>4</td><td>Ships</td><td>3440.0</td></tr><tr><td>4</td><td>Ships</td><td>2770.78</td></tr><tr><td>4</td><td>Ships</td><td>2397.54</td></tr><tr><td>1</td><td>Ships</td><td>3275.56</td></tr><tr><td>1</td><td>Ships</td><td>4143.6</td></tr><tr><td>1</td><td>Ships</td><td>5192.64</td></tr><tr><td>2</td><td>Ships</td><td>3029.04</td></tr><tr><td>1</td><td>Ships</td><td>2556.18</td></tr><tr><td>2</td><td>Ships</td><td>3753.9</td></tr><tr><td>2</td><td>Ships</td><td>2562.3</td></tr><tr><td>3</td><td>Ships</td><td>3245.58</td></tr><tr><td>3</td><td>Ships</td><td>2204.6</td></tr><tr><td>4</td><td>Ships</td><td>3003.0</td></tr><tr><td>4</td><td>Ships</td><td>2526.48</td></tr><tr><td>4</td><td>Ships</td><td>1747.9</td></tr><tr><td>4</td><td>Ships</td><td>3267.25</td></tr><tr><td>1</td><td>Ships</td><td>2818.53</td></tr><tr><td>1</td><td>Ships</td><td>2955.54</td></tr><tr><td>1</td><td>Ships</td><td>2885.05</td></tr><tr><td>2</td><td>Ships</td><td>3162.95</td></tr><tr><td>2</td><td>Ships</td><td>4071.5</td></tr><tr><td>3</td><td>Ships</td><td>2969.46</td></tr><tr><td>3</td><td>Ships</td><td>3396.44</td></tr><tr><td>3</td><td>Ships</td><td>4692.6</td></tr><tr><td>4</td><td>Ships</td><td>3515.7</td></tr><tr><td>4</td><td>Ships</td><td>3380.69</td></tr><tr><td>4</td><td>Ships</td><td>3204.57</td></tr><tr><td>4</td><td>Ships</td><td>2588.04</td></tr><tr><td>4</td><td>Ships</td><td>2854.75</td></tr><tr><td>1</td><td>Ships</td><td>4025.6</td></tr><tr><td>1</td><td>Ships</td><td>2864.4</td></tr><tr><td>1</td><td>Ships</td><td>3789.72</td></tr><tr><td>2</td><td>Ships</td><td>2439.99</td></tr><tr><td>1</td><td>Planes</td><td>2949.12</td></tr><tr><td>2</td><td>Planes</td><td>1539.72</td></tr><tr><td>2</td><td>Planes</td><td>2213.38</td></tr><tr><td>3</td><td>Planes</td><td>2919.58</td></tr><tr><td>4</td><td>Planes</td><td>3778.28</td></tr><tr><td>4</td><td>Planes</td><td>3233.49</td></tr><tr><td>4</td><td>Planes</td><td>3431.25</td></tr><tr><td>4</td><td>Planes</td><td>2546.8</td></tr><tr><td>1</td><td>Planes</td><td>2953.86</td></tr><tr><td>1</td><td>Planes</td><td>3183.29</td></tr><tr><td>2</td><td>Planes</td><td>2466.7</td></tr><tr><td>2</td><td>Planes</td><td>2363.22</td></tr><tr><td>2</td><td>Planes</td><td>2487.45</td></tr><tr><td>3</td><td>Planes</td><td>2249.05</td></tr><tr><td>3</td><td>Planes</td><td>2061.12</td></tr><tr><td>3</td><td>Planes</td><td>4071.14</td></tr><tr><td>4</td><td>Planes</td><td>2656.29</td></tr><tr><td>4</td><td>Planes</td><td>2736.36</td></tr><tr><td>4</td><td>Planes</td><td>3348.93</td></tr><tr><td>4</td><td>Planes</td><td>2893.0</td></tr><tr><td>4</td><td>Planes</td><td>1661.22</td></tr><tr><td>4</td><td>Planes</td><td>4277.35</td></tr><tr><td>1</td><td>Planes</td><td>2502.9</td></tr><tr><td>1</td><td>Planes</td><td>3801.6</td></tr><tr><td>1</td><td>Planes</td><td>3144.96</td></tr><tr><td>2</td><td>Planes</td><td>2031.4</td></tr><tr><td>2</td><td>Planes</td><td>2674.17</td></tr><tr><td>1</td><td>Planes</td><td>2526.72</td></tr><tr><td>2</td><td>Planes</td><td>1348.76</td></tr><tr><td>2</td><td>Planes</td><td>875.91</td></tr><tr><td>3</td><td>Planes</td><td>1874.05</td></tr><tr><td>4</td><td>Planes</td><td>1671.44</td></tr><tr><td>4</td><td>Planes</td><td>1668.4</td></tr><tr><td>4</td><td>Planes</td><td>2301.75</td></tr><tr><td>4</td><td>Planes</td><td>1459.92</td></tr><tr><td>4</td><td>Planes</td><td>1209.59</td></tr><tr><td>1</td><td>Planes</td><td>2145.12</td></tr><tr><td>1</td><td>Planes</td><td>1416.39</td></tr><tr><td>2</td><td>Planes</td><td>1843.52</td></tr><tr><td>2</td><td>Planes</td><td>1199.31</td></tr><tr><td>3</td><td>Planes</td><td>1875.2</td></tr><tr><td>3</td><td>Planes</td><td>2477.23</td></tr><tr><td>3</td><td>Planes</td><td>948.99</td></tr><tr><td>4</td><td>Planes</td><td>1823.42</td></tr><tr><td>4</td><td>Planes</td><td>1485.8</td></tr><tr><td>4</td><td>Planes</td><td>3789.72</td></tr><tr><td>4</td><td>Planes</td><td>2060.37</td></tr><tr><td>4</td><td>Planes</td><td>2579.36</td></tr><tr><td>4</td><td>Planes</td><td>2189.6</td></tr><tr><td>1</td><td>Planes</td><td>1624.25</td></tr><tr><td>1</td><td>Planes</td><td>4357.5</td></tr><tr><td>1</td><td>Planes</td><td>1367.48</td></tr><tr><td>2</td><td>Planes</td><td>1122.4</td></tr><tr><td>2</td><td>Planes</td><td>2419.62</td></tr><tr><td>1</td><td>Ships</td><td>1419.5</td></tr><tr><td>2</td><td>Ships</td><td>2184.0</td></tr><tr><td>2</td><td>Ships</td><td>2079.04</td></tr><tr><td>3</td><td>Ships</td><td>1724.97</td></tr><tr><td>3</td><td>Ships</td><td>3003.0</td></tr><tr><td>4</td><td>Ships</td><td>1846.42</td></tr><tr><td>4</td><td>Ships</td><td>2009.2</td></tr><tr><td>4</td><td>Ships</td><td>1804.04</td></tr><tr><td>4</td><td>Ships</td><td>2109.66</td></tr><tr><td>1</td><td>Ships</td><td>2682.96</td></tr><tr><td>1</td><td>Ships</td><td>2280.24</td></tr><tr><td>1</td><td>Ships</td><td>1192.56</td></tr><tr><td>2</td><td>Ships</td><td>1506.96</td></tr><tr><td>2</td><td>Ships</td><td>1472.62</td></tr><tr><td>3</td><td>Ships</td><td>1696.82</td></tr><tr><td>3</td><td>Ships</td><td>1693.56</td></tr><tr><td>3</td><td>Ships</td><td>1921.92</td></tr><tr><td>4</td><td>Ships</td><td>2082.85</td></tr><tr><td>4</td><td>Ships</td><td>2227.6</td></tr><tr><td>4</td><td>Ships</td><td>3209.38</td></tr><tr><td>4</td><td>Ships</td><td>4080.72</td></tr><tr><td>4</td><td>Ships</td><td>2244.4</td></tr><tr><td>1</td><td>Ships</td><td>3978.51</td></tr><tr><td>1</td><td>Ships</td><td>5417.57</td></tr><tr><td>1</td><td>Ships</td><td>2116.16</td></tr><tr><td>2</td><td>Ships</td><td>3079.44</td></tr></tbody></table></div>"
      ]
     },
     "metadata": {
      "application/vnd.databricks.v1+output": {
       "addedWidgets": {},
       "aggData": [],
       "aggError": "",
       "aggOverflow": false,
       "aggSchema": [],
       "aggSeriesLimitReached": false,
       "aggType": "",
       "arguments": {},
       "columnCustomDisplayInfos": {},
       "data": [
        [
         1,
         "Motorcycles",
         2871.0
        ],
        [
         2,
         "Motorcycles",
         2765.9
        ],
        [
         3,
         "Motorcycles",
         3884.34
        ],
        [
         3,
         "Motorcycles",
         3746.7
        ],
        [
         4,
         "Motorcycles",
         5205.27
        ],
        [
         4,
         "Motorcycles",
         3479.76
        ],
        [
         4,
         "Motorcycles",
         2497.77
        ],
        [
         4,
         "Motorcycles",
         5512.32
        ],
        [
         4,
         "Motorcycles",
         2168.54
        ],
        [
         1,
         "Motorcycles",
         4708.44
        ],
        [
         1,
         "Motorcycles",
         3965.66
        ],
        [
         2,
         "Motorcycles",
         2333.12
        ],
        [
         2,
         "Motorcycles",
         3188.64
        ],
        [
         2,
         "Motorcycles",
         3676.76
        ],
        [
         3,
         "Motorcycles",
         4177.35
        ],
        [
         3,
         "Motorcycles",
         4099.68
        ],
        [
         3,
         "Motorcycles",
         2597.39
        ],
        [
         4,
         "Motorcycles",
         4394.38
        ],
        [
         4,
         "Motorcycles",
         4358.04
        ],
        [
         4,
         "Motorcycles",
         4396.14
        ],
        [
         4,
         "Motorcycles",
         7737.93
        ],
        [
         4,
         "Motorcycles",
         1451.0
        ],
        [
         1,
         "Motorcycles",
         733.11
        ],
        [
         1,
         "Motorcycles",
         3207.12
        ],
        [
         2,
         "Motorcycles",
         2434.56
        ],
        [
         2,
         "Motorcycles",
         7516.08
        ],
        [
         1,
         "Classic Cars",
         5404.62
        ],
        [
         1,
         "Classic Cars",
         7209.11
        ],
        [
         2,
         "Classic Cars",
         7329.06
        ],
        [
         3,
         "Classic Cars",
         7374.1
        ],
        [
         3,
         "Classic Cars",
         10993.5
        ],
        [
         4,
         "Classic Cars",
         4860.24
        ],
        [
         4,
         "Classic Cars",
         8014.82
        ],
        [
         4,
         "Classic Cars",
         5372.57
        ],
        [
         4,
         "Classic Cars",
         7290.36
        ],
        [
         4,
         "Classic Cars",
         9064.89
        ],
        [
         1,
         "Classic Cars",
         6075.3
        ],
        [
         1,
         "Classic Cars",
         6463.23
        ],
        [
         2,
         "Classic Cars",
         6120.34
        ],
        [
         2,
         "Classic Cars",
         7680.64
        ],
        [
         3,
         "Classic Cars",
         4905.39
        ],
        [
         3,
         "Classic Cars",
         8014.82
        ],
        [
         3,
         "Classic Cars",
         7136.19
        ],
        [
         4,
         "Classic Cars",
         10172.7
        ],
        [
         4,
         "Classic Cars",
         11623.7
        ],
        [
         4,
         "Classic Cars",
         6000.4
        ],
        [
         4,
         "Classic Cars",
         3003.0
        ],
        [
         4,
         "Classic Cars",
         3944.7
        ],
        [
         4,
         "Classic Cars",
         5691.84
        ],
        [
         1,
         "Classic Cars",
         4514.92
        ],
        [
         1,
         "Classic Cars",
         8254.8
        ],
        [
         1,
         "Classic Cars",
         2416.56
        ],
        [
         2,
         "Classic Cars",
         4140.23
        ],
        [
         2,
         "Classic Cars",
         12001.0
        ],
        [
         1,
         "Motorcycles",
         3896.49
        ],
        [
         2,
         "Motorcycles",
         2793.86
        ],
        [
         3,
         "Motorcycles",
         3307.77
        ],
        [
         3,
         "Motorcycles",
         5192.95
        ],
        [
         4,
         "Motorcycles",
         5016.83
        ],
        [
         4,
         "Motorcycles",
         3660.93
        ],
        [
         4,
         "Motorcycles",
         4695.6
        ],
        [
         4,
         "Motorcycles",
         3660.92
        ],
        [
         4,
         "Motorcycles",
         3025.92
        ],
        [
         1,
         "Motorcycles",
         3009.09
        ],
        [
         1,
         "Motorcycles",
         5422.39
        ],
        [
         2,
         "Motorcycles",
         2852.08
        ],
        [
         2,
         "Motorcycles",
         5756.52
        ],
        [
         2,
         "Motorcycles",
         4472.0
        ],
        [
         3,
         "Motorcycles",
         2904.44
        ],
        [
         3,
         "Motorcycles",
         6484.59
        ],
        [
         3,
         "Motorcycles",
         3757.26
        ],
        [
         4,
         "Motorcycles",
         4043.96
        ],
        [
         4,
         "Motorcycles",
         5566.5
        ],
        [
         4,
         "Motorcycles",
         3176.0
        ],
        [
         4,
         "Motorcycles",
         2756.8
        ],
        [
         4,
         "Motorcycles",
         1329.9
        ],
        [
         1,
         "Motorcycles",
         5288.01
        ],
        [
         1,
         "Motorcycles",
         2225.5
        ],
        [
         2,
         "Motorcycles",
         5833.8
        ],
        [
         2,
         "Motorcycles",
         5887.35
        ],
        [
         1,
         "Motorcycles",
         6065.55
        ],
        [
         2,
         "Motorcycles",
         9264.86
        ],
        [
         3,
         "Motorcycles",
         7023.98
        ],
        [
         3,
         "Motorcycles",
         5176.38
        ],
        [
         4,
         "Motorcycles",
         4132.7
        ],
        [
         4,
         "Motorcycles",
         4183.0
        ],
        [
         4,
         "Motorcycles",
         8892.9
        ],
        [
         4,
         "Motorcycles",
         8714.7
        ],
        [
         4,
         "Motorcycles",
         8065.89
        ],
        [
         1,
         "Motorcycles",
         6123.4
        ],
        [
         1,
         "Motorcycles",
         9774.03
        ],
        [
         2,
         "Motorcycles",
         7023.9
        ],
        [
         2,
         "Motorcycles",
         7078.23
        ],
        [
         2,
         "Motorcycles",
         8336.94
        ],
        [
         3,
         "Motorcycles",
         6901.92
        ],
        [
         3,
         "Motorcycles",
         5438.07
        ],
        [
         3,
         "Motorcycles",
         6683.34
        ],
        [
         4,
         "Motorcycles",
         4570.4
        ],
        [
         4,
         "Motorcycles",
         7667.14
        ],
        [
         4,
         "Motorcycles",
         5868.2
        ],
        [
         4,
         "Motorcycles",
         2990.13
        ],
        [
         1,
         "Motorcycles",
         3664.1
        ],
        [
         1,
         "Motorcycles",
         3834.38
        ],
        [
         1,
         "Motorcycles",
         1822.17
        ],
        [
         2,
         "Motorcycles",
         11886.6
        ],
        [
         2,
         "Motorcycles",
         9218.16
        ],
        [
         1,
         "Classic Cars",
         7208.0
        ],
        [
         2,
         "Classic Cars",
         5004.8
        ],
        [
         2,
         "Classic Cars",
         4398.24
        ],
        [
         3,
         "Classic Cars",
         5597.76
        ],
        [
         4,
         "Classic Cars",
         4526.08
        ],
        [
         4,
         "Classic Cars",
         5924.16
        ],
        [
         4,
         "Classic Cars",
         3492.48
        ],
        [
         4,
         "Classic Cars",
         3854.24
        ],
        [
         4,
         "Classic Cars",
         5324.4
        ],
        [
         1,
         "Classic Cars",
         5197.92
        ],
        [
         1,
         "Classic Cars",
         5997.6
        ],
        [
         2,
         "Classic Cars",
         2910.4
        ],
        [
         2,
         "Classic Cars",
         3378.24
        ],
        [
         3,
         "Classic Cars",
         3508.8
        ],
        [
         3,
         "Classic Cars",
         2992.0
        ],
        [
         3,
         "Classic Cars",
         3427.2
        ],
        [
         4,
         "Classic Cars",
         2692.8
        ],
        [
         4,
         "Classic Cars",
         4128.96
        ],
        [
         4,
         "Classic Cars",
         3051.71
        ],
        [
         4,
         "Classic Cars",
         1201.25
        ],
        [
         4,
         "Classic Cars",
         1962.22
        ],
        [
         4,
         "Classic Cars",
         2624.64
        ],
        [
         1,
         "Classic Cars",
         4046.25
        ],
        [
         1,
         "Classic Cars",
         4846.7
        ],
        [
         1,
         "Classic Cars",
         3370.56
        ],
        [
         2,
         "Classic Cars",
         9661.44
        ],
        [
         2,
         "Classic Cars",
         2764.88
        ],
        [
         1,
         "Classic Cars",
         5398.26
        ],
        [
         2,
         "Classic Cars",
         4305.28
        ],
        [
         2,
         "Classic Cars",
         3347.74
        ],
        [
         3,
         "Classic Cars",
         3188.12
        ],
        [
         3,
         "Classic Cars",
         3191.2
        ],
        [
         4,
         "Classic Cars",
         3536.82
        ],
        [
         4,
         "Classic Cars",
         5362.83
        ],
        [
         4,
         "Classic Cars",
         3433.36
        ],
        [
         4,
         "Classic Cars",
         4263.74
        ],
        [
         4,
         "Classic Cars",
         4076.19
        ],
        [
         1,
         "Classic Cars",
         7020.48
        ],
        [
         1,
         "Classic Cars",
         6426.5
        ],
        [
         2,
         "Classic Cars",
         4591.72
        ],
        [
         2,
         "Classic Cars",
         4033.38
        ],
        [
         3,
         "Classic Cars",
         4302.08
        ],
        [
         3,
         "Classic Cars",
         7020.64
        ],
        [
         3,
         "Classic Cars",
         3855.9
        ],
        [
         4,
         "Classic Cars",
         6680.78
        ],
        [
         4,
         "Classic Cars",
         6678.0
        ],
        [
         4,
         "Classic Cars",
         2851.54
        ],
        [
         4,
         "Classic Cars",
         3188.12
        ],
        [
         4,
         "Classic Cars",
         4428.0
        ],
        [
         4,
         "Classic Cars",
         5780.92
        ],
        [
         1,
         "Classic Cars",
         2297.05
        ],
        [
         1,
         "Classic Cars",
         6231.54
        ],
        [
         1,
         "Classic Cars",
         1735.3
        ],
        [
         2,
         "Classic Cars",
         4427.73
        ],
        [
         2,
         "Classic Cars",
         5894.94
        ],
        [
         1,
         "Classic Cars",
         5265.15
        ],
        [
         2,
         "Classic Cars",
         7599.9
        ],
        [
         3,
         "Classic Cars",
         8008.56
        ],
        [
         3,
         "Classic Cars",
         9245.76
        ],
        [
         4,
         "Classic Cars",
         8296.35
        ],
        [
         4,
         "Classic Cars",
         5019.9
        ],
        [
         4,
         "Classic Cars",
         5411.07
        ],
        [
         4,
         "Classic Cars",
         3840.9
        ],
        [
         4,
         "Classic Cars",
         3930.4
        ],
        [
         1,
         "Classic Cars",
         7498.9
        ],
        [
         1,
         "Classic Cars",
         4517.91
        ],
        [
         2,
         "Classic Cars",
         5774.72
        ],
        [
         2,
         "Classic Cars",
         3922.56
        ],
        [
         3,
         "Classic Cars",
         9160.36
        ],
        [
         3,
         "Classic Cars",
         9631.0
        ],
        [
         3,
         "Classic Cars",
         3432.24
        ],
        [
         4,
         "Classic Cars",
         5521.89
        ],
        [
         4,
         "Classic Cars",
         6934.62
        ],
        [
         4,
         "Classic Cars",
         6876.11
        ],
        [
         4,
         "Classic Cars",
         2930.27
        ],
        [
         4,
         "Classic Cars",
         3584.25
        ],
        [
         1,
         "Classic Cars",
         2817.87
        ],
        [
         1,
         "Classic Cars",
         3420.0
        ],
        [
         1,
         "Classic Cars",
         2575.04
        ],
        [
         2,
         "Classic Cars",
         1961.28
        ],
        [
         1,
         "Classic Cars",
         8690.36
        ],
        [
         2,
         "Classic Cars",
         6034.38
        ],
        [
         2,
         "Classic Cars",
         11279.2
        ],
        [
         3,
         "Classic Cars",
         8023.29
        ],
        [
         3,
         "Classic Cars",
         4904.0
        ],
        [
         4,
         "Classic Cars",
         8594.52
        ],
        [
         4,
         "Classic Cars",
         7474.5
        ],
        [
         4,
         "Classic Cars",
         3883.74
        ],
        [
         4,
         "Classic Cars",
         8887.7
        ],
        [
         1,
         "Classic Cars",
         8602.92
        ],
        [
         1,
         "Classic Cars",
         7181.44
        ],
        [
         1,
         "Classic Cars",
         8378.58
        ],
        [
         2,
         "Classic Cars",
         10606.2
        ],
        [
         3,
         "Classic Cars",
         5818.4
        ],
        [
         3,
         "Classic Cars",
         7071.27
        ],
        [
         3,
         "Classic Cars",
         8411.56
        ],
        [
         4,
         "Classic Cars",
         6570.76
        ],
        [
         4,
         "Classic Cars",
         7975.44
        ],
        [
         4,
         "Classic Cars",
         2688.0
        ],
        [
         4,
         "Classic Cars",
         1888.26
        ],
        [
         4,
         "Classic Cars",
         2513.28
        ],
        [
         4,
         "Classic Cars",
         4764.48
        ],
        [
         1,
         "Classic Cars",
         3560.64
        ],
        [
         1,
         "Classic Cars",
         3823.64
        ],
        [
         1,
         "Classic Cars",
         2280.96
        ],
        [
         2,
         "Classic Cars",
         8677.8
        ],
        [
         1,
         "Trucks and Buses",
         3394.98
        ],
        [
         1,
         "Trucks and Buses",
         3415.44
        ],
        [
         2,
         "Trucks and Buses",
         2439.57
        ],
        [
         3,
         "Trucks and Buses",
         4829.8
        ],
        [
         3,
         "Trucks and Buses",
         4100.1
        ],
        [
         4,
         "Trucks and Buses",
         6563.06
        ],
        [
         4,
         "Trucks and Buses",
         6817.22
        ],
        [
         4,
         "Trucks and Buses",
         6163.94
        ],
        [
         4,
         "Trucks and Buses",
         4933.92
        ],
        [
         4,
         "Trucks and Buses",
         4056.36
        ],
        [
         1,
         "Trucks and Buses",
         5759.42
        ],
        [
         1,
         "Trucks and Buses",
         3451.0
        ],
        [
         2,
         "Trucks and Buses",
         5920.4
        ],
        [
         2,
         "Trucks and Buses",
         6668.24
        ],
        [
         3,
         "Trucks and Buses",
         4094.72
        ],
        [
         3,
         "Trucks and Buses",
         2938.5
        ],
        [
         3,
         "Trucks and Buses",
         6387.8
        ],
        [
         4,
         "Trucks and Buses",
         6396.0
        ],
        [
         4,
         "Trucks and Buses",
         2669.1
        ],
        [
         4,
         "Trucks and Buses",
         4784.13
        ],
        [
         4,
         "Trucks and Buses",
         3273.93
        ],
        [
         4,
         "Trucks and Buses",
         3586.43
        ],
        [
         4,
         "Trucks and Buses",
         5960.36
        ],
        [
         1,
         "Trucks and Buses",
         8470.14
        ],
        [
         1,
         "Trucks and Buses",
         2952.0
        ],
        [
         1,
         "Trucks and Buses",
         2464.8
        ],
        [
         2,
         "Trucks and Buses",
         6232.0
        ],
        [
         2,
         "Trucks and Buses",
         7969.36
        ],
        [
         1,
         "Motorcycles",
         3036.6
        ],
        [
         2,
         "Motorcycles",
         8284.0
        ],
        [
         3,
         "Motorcycles",
         2711.2
        ],
        [
         3,
         "Motorcycles",
         8339.8
        ],
        [
         4,
         "Motorcycles",
         6238.84
        ],
        [
         4,
         "Motorcycles",
         4639.25
        ],
        [
         4,
         "Motorcycles",
         6747.6
        ],
        [
         4,
         "Motorcycles",
         4512.48
        ],
        [
         4,
         "Motorcycles",
         4029.0
        ],
        [
         1,
         "Motorcycles",
         4771.8
        ],
        [
         1,
         "Motorcycles",
         6087.94
        ],
        [
         2,
         "Motorcycles",
         4193.28
        ],
        [
         2,
         "Motorcycles",
         7552.28
        ],
        [
         2,
         "Motorcycles",
         6434.4
        ],
        [
         3,
         "Motorcycles",
         5181.5
        ],
        [
         3,
         "Motorcycles",
         6863.92
        ],
        [
         3,
         "Motorcycles",
         4157.04
        ],
        [
         4,
         "Motorcycles",
         4660.24
        ],
        [
         4,
         "Motorcycles",
         4111.8
        ],
        [
         4,
         "Motorcycles",
         3542.64
        ],
        [
         4,
         "Motorcycles",
         8118.55
        ],
        [
         1,
         "Motorcycles",
         3877.06
        ],
        [
         1,
         "Motorcycles",
         3867.08
        ],
        [
         1,
         "Motorcycles",
         5951.44
        ],
        [
         2,
         "Motorcycles",
         8648.64
        ],
        [
         2,
         "Motorcycles",
         3447.78
        ],
        [
         1,
         "Classic Cars",
         5958.5
        ],
        [
         2,
         "Classic Cars",
         5911.64
        ],
        [
         2,
         "Classic Cars",
         7366.44
        ],
        [
         3,
         "Classic Cars",
         4985.64
        ],
        [
         3,
         "Classic Cars",
         5393.64
        ],
        [
         4,
         "Classic Cars",
         4880.02
        ],
        [
         4,
         "Classic Cars",
         8378.69
        ],
        [
         4,
         "Classic Cars",
         4038.21
        ],
        [
         4,
         "Classic Cars",
         3807.12
        ],
        [
         1,
         "Classic Cars",
         3142.36
        ],
        [
         1,
         "Classic Cars",
         4713.6
        ],
        [
         1,
         "Classic Cars",
         7016.31
        ],
        [
         2,
         "Classic Cars",
         4381.25
        ],
        [
         3,
         "Classic Cars",
         4283.01
        ],
        [
         3,
         "Classic Cars",
         4364.82
        ],
        [
         3,
         "Classic Cars",
         4242.24
        ],
        [
         4,
         "Classic Cars",
         4982.7
        ],
        [
         4,
         "Classic Cars",
         6393.54
        ],
        [
         4,
         "Classic Cars",
         1466.91
        ],
        [
         4,
         "Classic Cars",
         4059.33
        ],
        [
         4,
         "Classic Cars",
         4801.52
        ],
        [
         4,
         "Classic Cars",
         2711.66
        ],
        [
         1,
         "Classic Cars",
         5862.0
        ],
        [
         1,
         "Classic Cars",
         4071.85
        ],
        [
         2,
         "Classic Cars",
         8236.75
        ],
        [
         1,
         "Classic Cars",
         6130.35
        ],
        [
         2,
         "Classic Cars",
         3693.34
        ],
        [
         3,
         "Classic Cars",
         6031.68
        ],
        [
         3,
         "Classic Cars",
         3494.94
        ],
        [
         4,
         "Classic Cars",
         5294.14
        ],
        [
         4,
         "Classic Cars",
         5464.69
        ],
        [
         4,
         "Classic Cars",
         2860.76
        ],
        [
         4,
         "Classic Cars",
         5590.0
        ],
        [
         4,
         "Classic Cars",
         2254.8
        ],
        [
         1,
         "Classic Cars",
         4946.76
        ],
        [
         1,
         "Classic Cars",
         2495.5
        ],
        [
         2,
         "Classic Cars",
         3167.38
        ],
        [
         2,
         "Classic Cars",
         2402.84
        ],
        [
         3,
         "Classic Cars",
         2454.54
        ],
        [
         3,
         "Classic Cars",
         5464.69
        ],
        [
         3,
         "Classic Cars",
         4756.5
        ],
        [
         4,
         "Classic Cars",
         3984.6
        ],
        [
         4,
         "Classic Cars",
         3100.32
        ],
        [
         4,
         "Classic Cars",
         4850.3
        ],
        [
         4,
         "Classic Cars",
         3846.98
        ],
        [
         4,
         "Classic Cars",
         4220.92
        ],
        [
         1,
         "Classic Cars",
         3288.82
        ],
        [
         1,
         "Classic Cars",
         3987.2
        ],
        [
         1,
         "Classic Cars",
         1809.5
        ],
        [
         2,
         "Classic Cars",
         1092.2
        ],
        [
         1,
         "Classic Cars",
         4566.05
        ],
        [
         2,
         "Classic Cars",
         5938.14
        ],
        [
         2,
         "Classic Cars",
         8138.76
        ],
        [
         3,
         "Classic Cars",
         9470.94
        ],
        [
         3,
         "Classic Cars",
         7036.89
        ],
        [
         4,
         "Classic Cars",
         5559.03
        ],
        [
         4,
         "Classic Cars",
         7872.5
        ],
        [
         4,
         "Classic Cars",
         7886.2
        ],
        [
         4,
         "Classic Cars",
         7232.16
        ],
        [
         1,
         "Classic Cars",
         3114.4
        ],
        [
         1,
         "Classic Cars",
         5045.22
        ],
        [
         1,
         "Classic Cars",
         6952.12
        ],
        [
         2,
         "Classic Cars",
         4157.73
        ],
        [
         3,
         "Classic Cars",
         7962.24
        ],
        [
         3,
         "Classic Cars",
         3778.8
        ],
        [
         3,
         "Classic Cars",
         8253.0
        ],
        [
         4,
         "Classic Cars",
         3633.4
        ],
        [
         4,
         "Classic Cars",
         6913.8
        ],
        [
         4,
         "Classic Cars",
         2583.6
        ],
        [
         4,
         "Classic Cars",
         3105.62
        ],
        [
         4,
         "Classic Cars",
         4408.56
        ],
        [
         4,
         "Classic Cars",
         3042.41
        ],
        [
         1,
         "Classic Cars",
         5941.5
        ],
        [
         1,
         "Classic Cars",
         3241.9
        ],
        [
         1,
         "Classic Cars",
         6109.29
        ],
        [
         2,
         "Classic Cars",
         3387.78
        ],
        [
         1,
         "Classic Cars",
         3485.82
        ],
        [
         2,
         "Classic Cars",
         2042.88
        ],
        [
         3,
         "Classic Cars",
         1800.24
        ],
        [
         3,
         "Classic Cars",
         1340.64
        ],
        [
         4,
         "Classic Cars",
         1762.08
        ],
        [
         4,
         "Classic Cars",
         2298.24
        ],
        [
         4,
         "Classic Cars",
         1628.0
        ],
        [
         4,
         "Classic Cars",
         1939.2
        ],
        [
         4,
         "Classic Cars",
         3651.56
        ],
        [
         1,
         "Classic Cars",
         2591.96
        ],
        [
         1,
         "Classic Cars",
         2864.17
        ],
        [
         2,
         "Classic Cars",
         1484.2
        ],
        [
         2,
         "Classic Cars",
         2254.25
        ],
        [
         3,
         "Classic Cars",
         2681.35
        ],
        [
         3,
         "Classic Cars",
         3184.02
        ],
        [
         3,
         "Classic Cars",
         2846.63
        ],
        [
         4,
         "Classic Cars",
         1685.42
        ],
        [
         4,
         "Classic Cars",
         3988.6
        ],
        [
         4,
         "Classic Cars",
         2789.96
        ],
        [
         4,
         "Classic Cars",
         3607.56
        ],
        [
         4,
         "Classic Cars",
         3368.16
        ],
        [
         1,
         "Classic Cars",
         2775.08
        ],
        [
         1,
         "Classic Cars",
         1627.92
        ],
        [
         1,
         "Classic Cars",
         2529.36
        ],
        [
         2,
         "Classic Cars",
         3065.78
        ],
        [
         1,
         "Trucks and Buses",
         4615.78
        ],
        [
         2,
         "Trucks and Buses",
         5723.78
        ],
        [
         2,
         "Trucks and Buses",
         2559.6
        ],
        [
         3,
         "Trucks and Buses",
         2140.11
        ],
        [
         3,
         "Trucks and Buses",
         3327.6
        ],
        [
         4,
         "Trucks and Buses",
         6825.6
        ],
        [
         4,
         "Trucks and Buses",
         3543.28
        ],
        [
         4,
         "Trucks and Buses",
         4516.22
        ],
        [
         4,
         "Trucks and Buses",
         6445.46
        ],
        [
         4,
         "Trucks and Buses",
         3384.36
        ],
        [
         1,
         "Trucks and Buses",
         4891.68
        ],
        [
         1,
         "Trucks and Buses",
         4521.96
        ],
        [
         2,
         "Trucks and Buses",
         5069.66
        ],
        [
         2,
         "Trucks and Buses",
         6541.2
        ],
        [
         3,
         "Trucks and Buses",
         3012.27
        ],
        [
         3,
         "Trucks and Buses",
         5247.18
        ],
        [
         3,
         "Trucks and Buses",
         2214.87
        ],
        [
         4,
         "Trucks and Buses",
         4773.18
        ],
        [
         4,
         "Trucks and Buses",
         6185.7
        ],
        [
         4,
         "Trucks and Buses",
         1517.88
        ],
        [
         4,
         "Trucks and Buses",
         6372.6
        ],
        [
         4,
         "Trucks and Buses",
         5232.96
        ],
        [
         4,
         "Trucks and Buses",
         2694.72
        ],
        [
         1,
         "Trucks and Buses",
         1749.79
        ],
        [
         1,
         "Trucks and Buses",
         2130.56
        ],
        [
         2,
         "Trucks and Buses",
         5951.34
        ],
        [
         2,
         "Trucks and Buses",
         4692.6
        ],
        [
         1,
         "Classic Cars",
         3731.04
        ],
        [
         2,
         "Classic Cars",
         2142.0
        ],
        [
         3,
         "Classic Cars",
         2838.81
        ],
        [
         3,
         "Classic Cars",
         3230.37
        ],
        [
         4,
         "Classic Cars",
         5182.0
        ],
        [
         4,
         "Classic Cars",
         4391.1
        ],
        [
         4,
         "Classic Cars",
         4477.32
        ],
        [
         4,
         "Classic Cars",
         3544.56
        ],
        [
         4,
         "Classic Cars",
         5195.85
        ],
        [
         1,
         "Classic Cars",
         4180.44
        ],
        [
         1,
         "Classic Cars",
         2684.43
        ],
        [
         2,
         "Classic Cars",
         1958.88
        ],
        [
         2,
         "Classic Cars",
         4910.57
        ],
        [
         3,
         "Classic Cars",
         4468.4
        ],
        [
         3,
         "Classic Cars",
         3127.88
        ],
        [
         3,
         "Classic Cars",
         2675.13
        ],
        [
         4,
         "Classic Cars",
         2807.61
        ],
        [
         4,
         "Classic Cars",
         2504.75
        ],
        [
         4,
         "Classic Cars",
         2984.88
        ],
        [
         4,
         "Classic Cars",
         2524.86
        ],
        [
         4,
         "Classic Cars",
         4136.0
        ],
        [
         1,
         "Classic Cars",
         4068.7
        ],
        [
         1,
         "Classic Cars",
         5182.0
        ],
        [
         1,
         "Classic Cars",
         5243.79
        ],
        [
         2,
         "Classic Cars",
         9048.16
        ],
        [
         2,
         "Classic Cars",
         3832.64
        ],
        [
         1,
         "Trucks and Buses",
         3920.0
        ],
        [
         1,
         "Trucks and Buses",
         4916.66
        ],
        [
         2,
         "Trucks and Buses",
         3857.0
        ],
        [
         3,
         "Trucks and Buses",
         4181.44
        ],
        [
         3,
         "Trucks and Buses",
         4641.0
        ],
        [
         4,
         "Trucks and Buses",
         3570.12
        ],
        [
         4,
         "Trucks and Buses",
         4480.32
        ],
        [
         4,
         "Trucks and Buses",
         2033.64
        ],
        [
         4,
         "Trucks and Buses",
         1960.14
        ],
        [
         4,
         "Trucks and Buses",
         3966.78
        ],
        [
         1,
         "Trucks and Buses",
         5152.0
        ],
        [
         1,
         "Trucks and Buses",
         3360.0
        ],
        [
         2,
         "Trucks and Buses",
         3451.0
        ],
        [
         2,
         "Trucks and Buses",
         5453.0
        ],
        [
         3,
         "Trucks and Buses",
         4164.12
        ],
        [
         3,
         "Trucks and Buses",
         2800.08
        ],
        [
         3,
         "Trucks and Buses",
         4687.94
        ],
        [
         4,
         "Trucks and Buses",
         4508.0
        ],
        [
         4,
         "Trucks and Buses",
         4181.44
        ],
        [
         4,
         "Trucks and Buses",
         2251.04
        ],
        [
         4,
         "Trucks and Buses",
         1167.25
        ],
        [
         4,
         "Trucks and Buses",
         2083.2
        ],
        [
         4,
         "Trucks and Buses",
         3822.0
        ],
        [
         1,
         "Trucks and Buses",
         3911.49
        ],
        [
         1,
         "Trucks and Buses",
         4704.0
        ],
        [
         1,
         "Trucks and Buses",
         2467.9
        ],
        [
         2,
         "Trucks and Buses",
         3213.0
        ],
        [
         2,
         "Trucks and Buses",
         7182.0
        ],
        [
         1,
         "Classic Cars",
         4379.18
        ],
        [
         2,
         "Classic Cars",
         5004.8
        ],
        [
         3,
         "Classic Cars",
         3644.75
        ],
        [
         3,
         "Classic Cars",
         2702.04
        ],
        [
         4,
         "Classic Cars",
         3764.88
        ],
        [
         4,
         "Classic Cars",
         4508.0
        ],
        [
         4,
         "Classic Cars",
         5418.16
        ],
        [
         4,
         "Classic Cars",
         3300.66
        ],
        [
         4,
         "Classic Cars",
         6182.4
        ],
        [
         1,
         "Classic Cars",
         4186.73
        ],
        [
         1,
         "Classic Cars",
         4529.28
        ],
        [
         2,
         "Classic Cars",
         5628.89
        ],
        [
         2,
         "Classic Cars",
         3054.48
        ],
        [
         3,
         "Classic Cars",
         2526.51
        ],
        [
         3,
         "Classic Cars",
         4667.86
        ],
        [
         3,
         "Classic Cars",
         6499.32
        ],
        [
         4,
         "Classic Cars",
         5917.78
        ],
        [
         4,
         "Classic Cars",
         6231.91
        ],
        [
         4,
         "Classic Cars",
         5803.14
        ],
        [
         4,
         "Classic Cars",
         6434.02
        ],
        [
         4,
         "Classic Cars",
         6454.4
        ],
        [
         4,
         "Classic Cars",
         4196.8
        ],
        [
         1,
         "Classic Cars",
         2611.8
        ],
        [
         1,
         "Classic Cars",
         5895.05
        ],
        [
         1,
         "Classic Cars",
         3375.72
        ],
        [
         2,
         "Classic Cars",
         8374.69
        ],
        [
         2,
         "Classic Cars",
         4464.24
        ],
        [
         1,
         "Vintage Cars",
         4808.31
        ],
        [
         1,
         "Vintage Cars",
         3288.78
        ],
        [
         2,
         "Vintage Cars",
         3254.72
        ],
        [
         3,
         "Vintage Cars",
         3184.94
        ],
        [
         3,
         "Vintage Cars",
         5907.5
        ],
        [
         4,
         "Vintage Cars",
         4389.12
        ],
        [
         4,
         "Vintage Cars",
         5036.16
        ],
        [
         4,
         "Vintage Cars",
         2183.25
        ],
        [
         4,
         "Vintage Cars",
         3106.88
        ],
        [
         4,
         "Vintage Cars",
         3735.72
        ],
        [
         1,
         "Vintage Cars",
         2413.26
        ],
        [
         1,
         "Vintage Cars",
         2953.75
        ],
        [
         2,
         "Vintage Cars",
         4684.8
        ],
        [
         2,
         "Vintage Cars",
         3248.7
        ],
        [
         3,
         "Vintage Cars",
         5239.5
        ],
        [
         3,
         "Vintage Cars",
         4567.98
        ],
        [
         4,
         "Vintage Cars",
         3535.35
        ],
        [
         4,
         "Vintage Cars",
         3843.34
        ],
        [
         4,
         "Vintage Cars",
         3710.9
        ],
        [
         4,
         "Vintage Cars",
         4375.98
        ],
        [
         4,
         "Vintage Cars",
         1516.62
        ],
        [
         4,
         "Vintage Cars",
         2509.0
        ],
        [
         1,
         "Vintage Cars",
         9240.44
        ],
        [
         1,
         "Vintage Cars",
         2515.32
        ],
        [
         1,
         "Vintage Cars",
         5548.9
        ],
        [
         2,
         "Vintage Cars",
         4873.05
        ],
        [
         1,
         "Vintage Cars",
         2055.74
        ],
        [
         1,
         "Vintage Cars",
         2354.88
        ],
        [
         2,
         "Vintage Cars",
         2309.58
        ],
        [
         3,
         "Vintage Cars",
         2113.37
        ],
        [
         3,
         "Vintage Cars",
         1746.6
        ],
        [
         4,
         "Vintage Cars",
         2304.45
        ],
        [
         4,
         "Vintage Cars",
         2122.08
        ],
        [
         4,
         "Vintage Cars",
         1742.4
        ],
        [
         4,
         "Vintage Cars",
         2455.02
        ],
        [
         4,
         "Vintage Cars",
         3053.28
        ],
        [
         1,
         "Vintage Cars",
         1423.29
        ],
        [
         1,
         "Vintage Cars",
         1504.12
        ],
        [
         2,
         "Vintage Cars",
         1164.4
        ],
        [
         2,
         "Vintage Cars",
         1500.75
        ],
        [
         3,
         "Vintage Cars",
         1557.36
        ],
        [
         3,
         "Vintage Cars",
         1345.68
        ],
        [
         4,
         "Vintage Cars",
         1795.24
        ],
        [
         4,
         "Vintage Cars",
         1105.25
        ],
        [
         4,
         "Vintage Cars",
         2364.88
        ],
        [
         4,
         "Vintage Cars",
         2427.03
        ],
        [
         4,
         "Vintage Cars",
         1237.95
        ],
        [
         4,
         "Vintage Cars",
         1593.02
        ],
        [
         1,
         "Vintage Cars",
         3156.16
        ],
        [
         1,
         "Vintage Cars",
         1320.75
        ],
        [
         1,
         "Vintage Cars",
         4998.0
        ],
        [
         2,
         "Vintage Cars",
         1293.75
        ],
        [
         1,
         "Classic Cars",
         5433.08
        ],
        [
         2,
         "Classic Cars",
         3073.72
        ],
        [
         3,
         "Classic Cars",
         4380.2
        ],
        [
         3,
         "Classic Cars",
         5848.68
        ],
        [
         4,
         "Classic Cars",
         6153.73
        ],
        [
         4,
         "Classic Cars",
         4965.24
        ],
        [
         4,
         "Classic Cars",
         5435.64
        ],
        [
         4,
         "Classic Cars",
         4258.36
        ],
        [
         4,
         "Classic Cars",
         4032.0
        ],
        [
         1,
         "Classic Cars",
         4492.36
        ],
        [
         1,
         "Classic Cars",
         4161.38
        ],
        [
         2,
         "Classic Cars",
         2508.66
        ],
        [
         2,
         "Classic Cars",
         3374.88
        ],
        [
         3,
         "Classic Cars",
         5196.6
        ],
        [
         3,
         "Classic Cars",
         2604.52
        ],
        [
         3,
         "Classic Cars",
         2936.8
        ],
        [
         4,
         "Classic Cars",
         3424.64
        ],
        [
         4,
         "Classic Cars",
         2923.2
        ],
        [
         4,
         "Classic Cars",
         4489.76
        ],
        [
         4,
         "Classic Cars",
         4849.24
        ],
        [
         4,
         "Classic Cars",
         5848.92
        ],
        [
         1,
         "Classic Cars",
         2758.7
        ],
        [
         1,
         "Classic Cars",
         1449.76
        ],
        [
         2,
         "Classic Cars",
         7048.14
        ],
        [
         2,
         "Classic Cars",
         5202.94
        ],
        [
         1,
         "Planes",
         5279.4
        ],
        [
         2,
         "Planes",
         6916.12
        ],
        [
         2,
         "Planes",
         2781.66
        ],
        [
         3,
         "Planes",
         5248.0
        ],
        [
         4,
         "Planes",
         6531.44
        ],
        [
         4,
         "Planes",
         5763.72
        ],
        [
         4,
         "Planes",
         6490.68
        ],
        [
         4,
         "Planes",
         6004.8
        ],
        [
         4,
         "Planes",
         7483.98
        ],
        [
         1,
         "Planes",
         5719.5
        ],
        [
         1,
         "Planes",
         6954.08
        ],
        [
         2,
         "Planes",
         8160.3
        ],
        [
         2,
         "Planes",
         6567.96
        ],
        [
         3,
         "Planes",
         6724.0
        ],
        [
         3,
         "Planes",
         5747.85
        ],
        [
         3,
         "Planes",
         5676.84
        ],
        [
         4,
         "Planes",
         7379.97
        ],
        [
         4,
         "Planes",
         3704.13
        ],
        [
         4,
         "Planes",
         2804.75
        ],
        [
         4,
         "Planes",
         5624.79
        ],
        [
         4,
         "Planes",
         3881.28
        ],
        [
         1,
         "Planes",
         1611.4
        ],
        [
         1,
         "Planes",
         1364.25
        ],
        [
         1,
         "Planes",
         4215.09
        ],
        [
         2,
         "Planes",
         6433.82
        ],
        [
         2,
         "Planes",
         4352.16
        ],
        [
         1,
         "Vintage Cars",
         5151.0
        ],
        [
         1,
         "Vintage Cars",
         6069.0
        ],
        [
         2,
         "Vintage Cars",
         2856.0
        ],
        [
         3,
         "Vintage Cars",
         5375.4
        ],
        [
         4,
         "Vintage Cars",
         5176.5
        ],
        [
         4,
         "Vintage Cars",
         3508.8
        ],
        [
         4,
         "Vintage Cars",
         7554.8
        ],
        [
         4,
         "Vintage Cars",
         3141.6
        ],
        [
         4,
         "Vintage Cars",
         5890.5
        ],
        [
         1,
         "Vintage Cars",
         5967.0
        ],
        [
         1,
         "Vintage Cars",
         3712.8
        ],
        [
         2,
         "Vintage Cars",
         7597.3
        ],
        [
         3,
         "Vintage Cars",
         3668.6
        ],
        [
         3,
         "Vintage Cars",
         5875.2
        ],
        [
         4,
         "Vintage Cars",
         7310.0
        ],
        [
         4,
         "Vintage Cars",
         8078.4
        ],
        [
         4,
         "Vintage Cars",
         3257.76
        ],
        [
         4,
         "Vintage Cars",
         7650.0
        ],
        [
         1,
         "Vintage Cars",
         4703.81
        ],
        [
         1,
         "Vintage Cars",
         5399.55
        ],
        [
         2,
         "Vintage Cars",
         14082.8
        ],
        [
         2,
         "Vintage Cars",
         5283.6
        ],
        [
         1,
         "Classic Cars",
         3130.82
        ],
        [
         2,
         "Classic Cars",
         3112.34
        ],
        [
         3,
         "Classic Cars",
         3806.88
        ],
        [
         3,
         "Classic Cars",
         2142.14
        ],
        [
         4,
         "Classic Cars",
         3364.9
        ],
        [
         4,
         "Classic Cars",
         1262.8
        ],
        [
         4,
         "Classic Cars",
         1626.24
        ],
        [
         4,
         "Classic Cars",
         4088.7
        ],
        [
         4,
         "Classic Cars",
         3846.15
        ],
        [
         1,
         "Classic Cars",
         1339.8
        ],
        [
         1,
         "Classic Cars",
         3039.96
        ],
        [
         2,
         "Classic Cars",
         3400.32
        ],
        [
         2,
         "Classic Cars",
         1930.39
        ],
        [
         3,
         "Classic Cars",
         2464.77
        ],
        [
         3,
         "Classic Cars",
         2634.94
        ],
        [
         3,
         "Classic Cars",
         3625.16
        ],
        [
         4,
         "Classic Cars",
         3788.4
        ],
        [
         4,
         "Classic Cars",
         1832.6
        ],
        [
         4,
         "Classic Cars",
         2905.98
        ],
        [
         4,
         "Classic Cars",
         2954.81
        ],
        [
         4,
         "Classic Cars",
         3599.75
        ],
        [
         1,
         "Classic Cars",
         3686.54
        ],
        [
         1,
         "Classic Cars",
         2100.56
        ],
        [
         1,
         "Classic Cars",
         3881.78
        ],
        [
         2,
         "Classic Cars",
         4509.12
        ],
        [
         2,
         "Classic Cars",
         3273.27
        ],
        [
         1,
         "Classic Cars",
         4432.7
        ],
        [
         2,
         "Classic Cars",
         4100.99
        ],
        [
         3,
         "Classic Cars",
         5274.72
        ],
        [
         3,
         "Classic Cars",
         4232.0
        ],
        [
         4,
         "Classic Cars",
         6145.44
        ],
        [
         4,
         "Classic Cars",
         4680.2
        ],
        [
         4,
         "Classic Cars",
         3286.08
        ],
        [
         4,
         "Classic Cars",
         7421.3
        ],
        [
         4,
         "Classic Cars",
         6432.64
        ],
        [
         1,
         "Classic Cars",
         4840.87
        ],
        [
         1,
         "Classic Cars",
         3892.08
        ],
        [
         2,
         "Classic Cars",
         5526.32
        ],
        [
         2,
         "Classic Cars",
         4459.62
        ],
        [
         3,
         "Classic Cars",
         6203.4
        ],
        [
         3,
         "Classic Cars",
         3754.05
        ],
        [
         3,
         "Classic Cars",
         3516.48
        ],
        [
         4,
         "Classic Cars",
         7488.04
        ],
        [
         4,
         "Classic Cars",
         3448.08
        ],
        [
         4,
         "Classic Cars",
         3734.0
        ],
        [
         4,
         "Classic Cars",
         974.1
        ],
        [
         4,
         "Classic Cars",
         3160.74
        ],
        [
         4,
         "Classic Cars",
         1746.63
        ],
        [
         1,
         "Classic Cars",
         4207.84
        ],
        [
         1,
         "Classic Cars",
         4352.76
        ],
        [
         1,
         "Classic Cars",
         1463.7
        ],
        [
         2,
         "Classic Cars",
         7169.28
        ],
        [
         2,
         "Classic Cars",
         4594.76
        ],
        [
         1,
         "Classic Cars",
         3457.92
        ],
        [
         2,
         "Classic Cars",
         7381.16
        ],
        [
         2,
         "Classic Cars",
         7146.9
        ],
        [
         3,
         "Classic Cars",
         5938.53
        ],
        [
         3,
         "Classic Cars",
         7110.91
        ],
        [
         4,
         "Classic Cars",
         5032.95
        ],
        [
         4,
         "Classic Cars",
         3667.6
        ],
        [
         4,
         "Classic Cars",
         7381.16
        ],
        [
         4,
         "Classic Cars",
         5128.11
        ],
        [
         4,
         "Classic Cars",
         7060.24
        ],
        [
         1,
         "Classic Cars",
         8448.64
        ],
        [
         1,
         "Classic Cars",
         7300.51
        ],
        [
         2,
         "Classic Cars",
         6549.2
        ],
        [
         2,
         "Classic Cars",
         5697.9
        ],
        [
         3,
         "Classic Cars",
         9169.0
        ],
        [
         3,
         "Classic Cars",
         3238.63
        ],
        [
         3,
         "Classic Cars",
         4554.94
        ],
        [
         4,
         "Classic Cars",
         3934.44
        ],
        [
         4,
         "Classic Cars",
         5776.26
        ],
        [
         4,
         "Classic Cars",
         7207.45
        ],
        [
         4,
         "Classic Cars",
         7460.74
        ],
        [
         4,
         "Classic Cars",
         6719.54
        ],
        [
         4,
         "Classic Cars",
         2428.0
        ],
        [
         1,
         "Classic Cars",
         2602.25
        ],
        [
         1,
         "Classic Cars",
         2200.0
        ],
        [
         2,
         "Classic Cars",
         6712.93
        ],
        [
         2,
         "Classic Cars",
         5318.04
        ],
        [
         1,
         "Vintage Cars",
         3390.0
        ],
        [
         1,
         "Vintage Cars",
         1608.0
        ],
        [
         2,
         "Vintage Cars",
         2262.96
        ],
        [
         3,
         "Vintage Cars",
         1496.64
        ],
        [
         4,
         "Vintage Cars",
         1879.74
        ],
        [
         4,
         "Vintage Cars",
         1495.26
        ],
        [
         4,
         "Vintage Cars",
         2323.7
        ],
        [
         4,
         "Vintage Cars",
         2491.86
        ],
        [
         4,
         "Vintage Cars",
         1643.12
        ],
        [
         1,
         "Vintage Cars",
         1322.16
        ],
        [
         1,
         "Vintage Cars",
         1423.8
        ],
        [
         2,
         "Vintage Cars",
         2397.45
        ],
        [
         3,
         "Vintage Cars",
         1574.0
        ],
        [
         3,
         "Vintage Cars",
         1729.0
        ],
        [
         4,
         "Vintage Cars",
         2255.84
        ],
        [
         4,
         "Vintage Cars",
         1834.5
        ],
        [
         4,
         "Vintage Cars",
         3201.5
        ],
        [
         4,
         "Vintage Cars",
         2276.4
        ],
        [
         1,
         "Vintage Cars",
         8884.8
        ],
        [
         1,
         "Vintage Cars",
         1331.1
        ],
        [
         2,
         "Vintage Cars",
         3051.3
        ],
        [
         2,
         "Vintage Cars",
         2288.52
        ],
        [
         1,
         "Trucks and Buses",
         3772.61
        ],
        [
         2,
         "Trucks and Buses",
         4164.42
        ],
        [
         2,
         "Trucks and Buses",
         6295.95
        ],
        [
         3,
         "Trucks and Buses",
         6287.66
        ],
        [
         3,
         "Trucks and Buses",
         5412.54
        ],
        [
         4,
         "Trucks and Buses",
         5984.14
        ],
        [
         4,
         "Trucks and Buses",
         5891.04
        ],
        [
         4,
         "Trucks and Buses",
         5984.14
        ],
        [
         4,
         "Trucks and Buses",
         3608.15
        ],
        [
         4,
         "Trucks and Buses",
         5752.54
        ],
        [
         1,
         "Trucks and Buses",
         3765.32
        ],
        [
         2,
         "Trucks and Buses",
         2159.96
        ],
        [
         2,
         "Trucks and Buses",
         3379.94
        ],
        [
         3,
         "Trucks and Buses",
         5093.5
        ],
        [
         3,
         "Trucks and Buses",
         5773.44
        ],
        [
         3,
         "Trucks and Buses",
         4528.86
        ],
        [
         4,
         "Trucks and Buses",
         4816.08
        ],
        [
         4,
         "Trucks and Buses",
         3416.78
        ],
        [
         4,
         "Trucks and Buses",
         1236.84
        ],
        [
         4,
         "Trucks and Buses",
         5814.86
        ],
        [
         4,
         "Trucks and Buses",
         5223.48
        ],
        [
         4,
         "Trucks and Buses",
         728.4
        ],
        [
         1,
         "Trucks and Buses",
         3949.0
        ],
        [
         1,
         "Trucks and Buses",
         3843.99
        ],
        [
         2,
         "Trucks and Buses",
         5498.08
        ],
        [
         2,
         "Trucks and Buses",
         3777.58
        ],
        [
         1,
         "Vintage Cars",
         3782.0
        ],
        [
         1,
         "Vintage Cars",
         3859.68
        ],
        [
         2,
         "Vintage Cars",
         4431.84
        ],
        [
         3,
         "Vintage Cars",
         4950.33
        ],
        [
         4,
         "Vintage Cars",
         4299.7
        ],
        [
         4,
         "Vintage Cars",
         4492.83
        ],
        [
         4,
         "Vintage Cars",
         2212.0
        ],
        [
         4,
         "Vintage Cars",
         4642.88
        ],
        [
         4,
         "Vintage Cars",
         3206.32
        ],
        [
         1,
         "Vintage Cars",
         3604.23
        ],
        [
         1,
         "Vintage Cars",
         7017.76
        ],
        [
         2,
         "Vintage Cars",
         6154.18
        ],
        [
         3,
         "Vintage Cars",
         4750.8
        ],
        [
         3,
         "Vintage Cars",
         3822.92
        ],
        [
         4,
         "Vintage Cars",
         2440.8
        ],
        [
         4,
         "Vintage Cars",
         4729.36
        ],
        [
         4,
         "Vintage Cars",
         12536.5
        ],
        [
         4,
         "Vintage Cars",
         2264.15
        ],
        [
         4,
         "Vintage Cars",
         3928.2
        ],
        [
         4,
         "Vintage Cars",
         3630.22
        ],
        [
         1,
         "Vintage Cars",
         4196.07
        ],
        [
         1,
         "Vintage Cars",
         4931.6
        ],
        [
         1,
         "Vintage Cars",
         3068.69
        ],
        [
         2,
         "Vintage Cars",
         785.64
        ],
        [
         2,
         "Vintage Cars",
         4977.0
        ],
        [
         1,
         "Trucks and Buses",
         1189.98
        ],
        [
         2,
         "Trucks and Buses",
         3090.15
        ],
        [
         2,
         "Trucks and Buses",
         2795.86
        ],
        [
         3,
         "Trucks and Buses",
         2851.54
        ],
        [
         3,
         "Trucks and Buses",
         2701.92
        ],
        [
         4,
         "Trucks and Buses",
         2204.1
        ],
        [
         4,
         "Trucks and Buses",
         2840.48
        ],
        [
         4,
         "Trucks and Buses",
         2647.04
        ],
        [
         4,
         "Trucks and Buses",
         3172.05
        ],
        [
         4,
         "Trucks and Buses",
         2585.93
        ],
        [
         1,
         "Trucks and Buses",
         2148.3
        ],
        [
         1,
         "Trucks and Buses",
         1667.4
        ],
        [
         2,
         "Trucks and Buses",
         1859.7
        ],
        [
         2,
         "Trucks and Buses",
         1476.6
        ],
        [
         3,
         "Trucks and Buses",
         1732.0
        ],
        [
         3,
         "Trucks and Buses",
         1674.17
        ],
        [
         3,
         "Trucks and Buses",
         1500.98
        ],
        [
         4,
         "Trucks and Buses",
         2192.68
        ],
        [
         4,
         "Trucks and Buses",
         1797.58
        ],
        [
         4,
         "Trucks and Buses",
         2142.35
        ],
        [
         4,
         "Trucks and Buses",
         2086.92
        ],
        [
         4,
         "Trucks and Buses",
         6834.5
        ],
        [
         4,
         "Trucks and Buses",
         2541.59
        ],
        [
         1,
         "Trucks and Buses",
         2130.92
        ],
        [
         1,
         "Trucks and Buses",
         1701.7
        ],
        [
         1,
         "Trucks and Buses",
         1694.0
        ],
        [
         2,
         "Trucks and Buses",
         2913.53
        ],
        [
         2,
         "Trucks and Buses",
         935.18
        ],
        [
         1,
         "Planes",
         3073.26
        ],
        [
         2,
         "Planes",
         2082.49
        ],
        [
         2,
         "Planes",
         3394.23
        ],
        [
         3,
         "Planes",
         2559.6
        ],
        [
         4,
         "Planes",
         1490.16
        ],
        [
         1,
         "Planes",
         3844.0
        ],
        [
         1,
         "Planes",
         4724.91
        ],
        [
         2,
         "Planes",
         1824.72
        ],
        [
         2,
         "Planes",
         2668.68
        ],
        [
         2,
         "Planes",
         2843.61
        ],
        [
         3,
         "Planes",
         3163.65
        ],
        [
         3,
         "Planes",
         2226.11
        ],
        [
         3,
         "Planes",
         2069.75
        ],
        [
         4,
         "Planes",
         2235.33
        ],
        [
         4,
         "Planes",
         3116.43
        ],
        [
         4,
         "Planes",
         4781.7
        ],
        [
         4,
         "Planes",
         2810.7
        ],
        [
         4,
         "Planes",
         3515.67
        ],
        [
         1,
         "Planes",
         2909.34
        ],
        [
         1,
         "Planes",
         1570.17
        ],
        [
         1,
         "Planes",
         2613.92
        ],
        [
         2,
         "Planes",
         3193.26
        ],
        [
         2,
         "Planes",
         1482.6
        ],
        [
         1,
         "Motorcycles",
         2055.23
        ],
        [
         2,
         "Motorcycles",
         2674.9
        ],
        [
         3,
         "Motorcycles",
         1853.4
        ],
        [
         3,
         "Motorcycles",
         1490.1
        ],
        [
         4,
         "Motorcycles",
         2162.16
        ],
        [
         4,
         "Motorcycles",
         2814.28
        ],
        [
         4,
         "Motorcycles",
         1605.0
        ],
        [
         4,
         "Motorcycles",
         2093.44
        ],
        [
         4,
         "Motorcycles",
         1944.3
        ],
        [
         1,
         "Motorcycles",
         1986.8
        ],
        [
         1,
         "Motorcycles",
         1695.96
        ],
        [
         2,
         "Motorcycles",
         1281.56
        ],
        [
         2,
         "Motorcycles",
         1774.22
        ],
        [
         2,
         "Motorcycles",
         1997.5
        ],
        [
         3,
         "Motorcycles",
         2353.2
        ],
        [
         3,
         "Motorcycles",
         981.2
        ],
        [
         3,
         "Motorcycles",
         1550.72
        ],
        [
         4,
         "Motorcycles",
         1771.06
        ],
        [
         4,
         "Motorcycles",
         2213.4
        ],
        [
         4,
         "Motorcycles",
         5266.04
        ],
        [
         4,
         "Motorcycles",
         1864.8
        ],
        [
         1,
         "Motorcycles",
         1142.41
        ],
        [
         1,
         "Motorcycles",
         1172.6
        ],
        [
         1,
         "Motorcycles",
         6981.0
        ],
        [
         2,
         "Motorcycles",
         3064.6
        ],
        [
         2,
         "Motorcycles",
         2202.48
        ],
        [
         1,
         "Vintage Cars",
         3773.38
        ],
        [
         1,
         "Vintage Cars",
         5074.39
        ],
        [
         2,
         "Vintage Cars",
         6483.46
        ],
        [
         3,
         "Vintage Cars",
         7956.46
        ],
        [
         3,
         "Vintage Cars",
         4230.62
        ],
        [
         4,
         "Vintage Cars",
         7209.12
        ],
        [
         4,
         "Vintage Cars",
         3452.68
        ],
        [
         4,
         "Vintage Cars",
         3047.73
        ],
        [
         4,
         "Vintage Cars",
         3675.32
        ],
        [
         4,
         "Vintage Cars",
         7492.4
        ],
        [
         1,
         "Vintage Cars",
         9534.5
        ],
        [
         1,
         "Vintage Cars",
         5579.02
        ],
        [
         2,
         "Vintage Cars",
         5950.34
        ],
        [
         2,
         "Vintage Cars",
         3726.0
        ],
        [
         3,
         "Vintage Cars",
         4455.0
        ],
        [
         3,
         "Vintage Cars",
         8272.34
        ],
        [
         4,
         "Vintage Cars",
         3577.6
        ],
        [
         4,
         "Vintage Cars",
         3881.25
        ],
        [
         4,
         "Vintage Cars",
         5797.44
        ],
        [
         4,
         "Vintage Cars",
         1264.08
        ],
        [
         4,
         "Vintage Cars",
         4815.3
        ],
        [
         4,
         "Vintage Cars",
         4462.2
        ],
        [
         1,
         "Vintage Cars",
         3033.28
        ],
        [
         1,
         "Vintage Cars",
         990.78
        ],
        [
         1,
         "Vintage Cars",
         2030.86
        ],
        [
         2,
         "Vintage Cars",
         5433.75
        ],
        [
         1,
         "Classic Cars",
         3157.44
        ],
        [
         2,
         "Classic Cars",
         5161.2
        ],
        [
         3,
         "Classic Cars",
         4346.76
        ],
        [
         3,
         "Classic Cars",
         3528.36
        ],
        [
         4,
         "Classic Cars",
         3187.8
        ],
        [
         4,
         "Classic Cars",
         6023.16
        ],
        [
         4,
         "Classic Cars",
         3884.76
        ],
        [
         4,
         "Classic Cars",
         4965.84
        ],
        [
         4,
         "Classic Cars",
         4169.88
        ],
        [
         1,
         "Classic Cars",
         4910.4
        ],
        [
         1,
         "Classic Cars",
         3231.36
        ],
        [
         2,
         "Classic Cars",
         6853.44
        ],
        [
         2,
         "Classic Cars",
         5177.04
        ],
        [
         3,
         "Classic Cars",
         2824.8
        ],
        [
         3,
         "Classic Cars",
         4324.32
        ],
        [
         3,
         "Classic Cars",
         5052.96
        ],
        [
         4,
         "Classic Cars",
         3223.44
        ],
        [
         4,
         "Classic Cars",
         5278.68
        ],
        [
         4,
         "Classic Cars",
         2851.2
        ],
        [
         4,
         "Classic Cars",
         1687.4
        ],
        [
         4,
         "Classic Cars",
         1308.0
        ],
        [
         1,
         "Classic Cars",
         6144.6
        ],
        [
         1,
         "Classic Cars",
         5127.2
        ],
        [
         2,
         "Classic Cars",
         6386.16
        ],
        [
         2,
         "Classic Cars",
         7695.6
        ],
        [
         1,
         "Vintage Cars",
         2242.89
        ],
        [
         1,
         "Vintage Cars",
         2539.89
        ],
        [
         2,
         "Vintage Cars",
         2795.27
        ],
        [
         3,
         "Vintage Cars",
         5545.76
        ],
        [
         3,
         "Vintage Cars",
         4285.46
        ],
        [
         4,
         "Vintage Cars",
         3329.09
        ],
        [
         4,
         "Vintage Cars",
         5592.22
        ],
        [
         4,
         "Vintage Cars",
         3298.55
        ],
        [
         4,
         "Vintage Cars",
         2609.88
        ],
        [
         4,
         "Vintage Cars",
         3336.29
        ],
        [
         1,
         "Vintage Cars",
         5510.05
        ],
        [
         1,
         "Vintage Cars",
         2504.4
        ],
        [
         2,
         "Vintage Cars",
         3525.6
        ],
        [
         2,
         "Vintage Cars",
         4407.0
        ],
        [
         3,
         "Vintage Cars",
         2983.44
        ],
        [
         3,
         "Vintage Cars",
         5126.24
        ],
        [
         3,
         "Vintage Cars",
         5713.79
        ],
        [
         4,
         "Vintage Cars",
         4613.8
        ],
        [
         4,
         "Vintage Cars",
         3711.1
        ],
        [
         4,
         "Vintage Cars",
         3524.73
        ],
        [
         4,
         "Vintage Cars",
         2795.27
        ],
        [
         4,
         "Vintage Cars",
         4814.4
        ],
        [
         4,
         "Vintage Cars",
         3572.33
        ],
        [
         1,
         "Vintage Cars",
         4581.36
        ],
        [
         1,
         "Vintage Cars",
         4319.76
        ],
        [
         1,
         "Vintage Cars",
         1448.0
        ],
        [
         2,
         "Vintage Cars",
         881.4
        ],
        [
         1,
         "Vintage Cars",
         2011.1
        ],
        [
         1,
         "Vintage Cars",
         1801.24
        ],
        [
         2,
         "Vintage Cars",
         3390.2
        ],
        [
         3,
         "Vintage Cars",
         1424.0
        ],
        [
         3,
         "Vintage Cars",
         1499.1
        ],
        [
         4,
         "Vintage Cars",
         3358.08
        ],
        [
         4,
         "Vintage Cars",
         1504.16
        ],
        [
         4,
         "Vintage Cars",
         2655.12
        ],
        [
         4,
         "Vintage Cars",
         1244.16
        ],
        [
         4,
         "Vintage Cars",
         1888.88
        ],
        [
         1,
         "Vintage Cars",
         1820.01
        ],
        [
         1,
         "Vintage Cars",
         2866.95
        ],
        [
         2,
         "Vintage Cars",
         1394.16
        ],
        [
         2,
         "Vintage Cars",
         2632.28
        ],
        [
         3,
         "Vintage Cars",
         2018.56
        ],
        [
         3,
         "Vintage Cars",
         2954.53
        ],
        [
         3,
         "Vintage Cars",
         1871.83
        ],
        [
         4,
         "Vintage Cars",
         1559.04
        ],
        [
         4,
         "Vintage Cars",
         1880.2
        ],
        [
         4,
         "Vintage Cars",
         1224.67
        ],
        [
         4,
         "Vintage Cars",
         2979.08
        ],
        [
         4,
         "Vintage Cars",
         2208.64
        ],
        [
         4,
         "Vintage Cars",
         3458.42
        ],
        [
         1,
         "Vintage Cars",
         1237.88
        ],
        [
         1,
         "Vintage Cars",
         2723.2
        ],
        [
         1,
         "Vintage Cars",
         2218.52
        ],
        [
         2,
         "Vintage Cars",
         1665.32
        ],
        [
         1,
         "Ships",
         3421.04
        ],
        [
         2,
         "Ships",
         1878.66
        ],
        [
         2,
         "Ships",
         3853.6
        ],
        [
         3,
         "Ships",
         3442.64
        ],
        [
         4,
         "Ships",
         3482.16
        ],
        [
         4,
         "Ships",
         3363.52
        ],
        [
         4,
         "Ships",
         3350.52
        ],
        [
         4,
         "Ships",
         2862.72
        ],
        [
         4,
         "Ships",
         4036.04
        ],
        [
         1,
         "Ships",
         2817.92
        ],
        [
         1,
         "Ships",
         4636.38
        ],
        [
         2,
         "Ships",
         1553.58
        ],
        [
         2,
         "Ships",
         2697.6
        ],
        [
         3,
         "Ships",
         3334.04
        ],
        [
         3,
         "Ships",
         2059.26
        ],
        [
         3,
         "Ships",
         2023.14
        ],
        [
         4,
         "Ships",
         2586.64
        ],
        [
         4,
         "Ships",
         1987.02
        ],
        [
         4,
         "Ships",
         1146.5
        ],
        [
         4,
         "Ships",
         2312.24
        ],
        [
         4,
         "Ships",
         2793.71
        ],
        [
         1,
         "Ships",
         1908.28
        ],
        [
         1,
         "Ships",
         3441.37
        ],
        [
         1,
         "Ships",
         2023.28
        ],
        [
         2,
         "Ships",
         2245.2
        ],
        [
         2,
         "Ships",
         3255.12
        ],
        [
         1,
         "Vintage Cars",
         2539.5
        ],
        [
         1,
         "Vintage Cars",
         4818.15
        ],
        [
         2,
         "Vintage Cars",
         2921.7
        ],
        [
         3,
         "Vintage Cars",
         1801.2
        ],
        [
         3,
         "Vintage Cars",
         2804.36
        ],
        [
         4,
         "Vintage Cars",
         4900.8
        ],
        [
         4,
         "Vintage Cars",
         2759.31
        ],
        [
         4,
         "Vintage Cars",
         2488.2
        ],
        [
         4,
         "Vintage Cars",
         2769.89
        ],
        [
         4,
         "Vintage Cars",
         3581.4
        ],
        [
         1,
         "Vintage Cars",
         5285.14
        ],
        [
         1,
         "Vintage Cars",
         3181.53
        ],
        [
         2,
         "Vintage Cars",
         3340.51
        ],
        [
         2,
         "Vintage Cars",
         3138.34
        ],
        [
         3,
         "Vintage Cars",
         4775.08
        ],
        [
         3,
         "Vintage Cars",
         3006.43
        ],
        [
         3,
         "Vintage Cars",
         2866.26
        ],
        [
         4,
         "Vintage Cars",
         2232.62
        ],
        [
         4,
         "Vintage Cars",
         4457.02
        ],
        [
         4,
         "Vintage Cars",
         2257.92
        ],
        [
         4,
         "Vintage Cars",
         1592.0
        ],
        [
         4,
         "Vintage Cars",
         4948.2
        ],
        [
         4,
         "Vintage Cars",
         5160.76
        ],
        [
         1,
         "Vintage Cars",
         1978.62
        ],
        [
         1,
         "Vintage Cars",
         4288.2
        ],
        [
         1,
         "Vintage Cars",
         2520.68
        ],
        [
         2,
         "Vintage Cars",
         1781.22
        ],
        [
         1,
         "Vintage Cars",
         3065.04
        ],
        [
         2,
         "Vintage Cars",
         3551.34
        ],
        [
         2,
         "Vintage Cars",
         5544.02
        ],
        [
         3,
         "Vintage Cars",
         6034.33
        ],
        [
         3,
         "Vintage Cars",
         3641.57
        ],
        [
         4,
         "Vintage Cars",
         6930.74
        ],
        [
         4,
         "Vintage Cars",
         3675.63
        ],
        [
         4,
         "Vintage Cars",
         3442.04
        ],
        [
         4,
         "Vintage Cars",
         6893.81
        ],
        [
         1,
         "Vintage Cars",
         2622.48
        ],
        [
         1,
         "Vintage Cars",
         4417.38
        ],
        [
         1,
         "Vintage Cars",
         3606.02
        ],
        [
         2,
         "Vintage Cars",
         3802.56
        ],
        [
         3,
         "Vintage Cars",
         5026.4
        ],
        [
         3,
         "Vintage Cars",
         6695.53
        ],
        [
         3,
         "Vintage Cars",
         2819.28
        ],
        [
         4,
         "Vintage Cars",
         3759.04
        ],
        [
         4,
         "Vintage Cars",
         2731.8
        ],
        [
         4,
         "Vintage Cars",
         1658.88
        ],
        [
         4,
         "Vintage Cars",
         5778.24
        ],
        [
         4,
         "Vintage Cars",
         5191.12
        ],
        [
         1,
         "Vintage Cars",
         3862.88
        ],
        [
         1,
         "Vintage Cars",
         1476.48
        ],
        [
         1,
         "Vintage Cars",
         5273.73
        ],
        [
         2,
         "Vintage Cars",
         4872.03
        ],
        [
         1,
         "Classic Cars",
         4556.99
        ],
        [
         1,
         "Classic Cars",
         8257.0
        ],
        [
         2,
         "Classic Cars",
         8209.44
        ],
        [
         2,
         "Classic Cars",
         3598.5
        ],
        [
         2,
         "Classic Cars",
         3837.24
        ],
        [
         3,
         "Classic Cars",
         8331.61
        ],
        [
         3,
         "Classic Cars",
         4836.5
        ],
        [
         3,
         "Classic Cars",
         5418.88
        ],
        [
         3,
         "Classic Cars",
         3734.01
        ],
        [
         4,
         "Classic Cars",
         3996.4
        ],
        [
         4,
         "Classic Cars",
         8754.69
        ],
        [
         4,
         "Classic Cars",
         5481.45
        ],
        [
         4,
         "Classic Cars",
         4419.89
        ],
        [
         4,
         "Classic Cars",
         6324.75
        ],
        [
         4,
         "Classic Cars",
         4409.72
        ],
        [
         4,
         "Classic Cars",
         3918.46
        ],
        [
         4,
         "Classic Cars",
         7620.5
        ],
        [
         4,
         "Classic Cars",
         8291.04
        ],
        [
         4,
         "Classic Cars",
         3937.25
        ],
        [
         1,
         "Classic Cars",
         5554.4
        ],
        [
         1,
         "Classic Cars",
         6407.86
        ],
        [
         1,
         "Classic Cars",
         4172.52
        ],
        [
         2,
         "Classic Cars",
         7083.37
        ],
        [
         2,
         "Classic Cars",
         7132.68
        ],
        [
         2,
         "Classic Cars",
         6773.6
        ],
        [
         2,
         "Classic Cars",
         3657.69
        ],
        [
         3,
         "Classic Cars",
         4812.55
        ],
        [
         3,
         "Classic Cars",
         3928.6
        ],
        [
         3,
         "Classic Cars",
         6401.22
        ],
        [
         3,
         "Classic Cars",
         4191.25
        ],
        [
         3,
         "Classic Cars",
         5852.52
        ],
        [
         3,
         "Classic Cars",
         2844.87
        ],
        [
         4,
         "Classic Cars",
         4011.66
        ],
        [
         4,
         "Classic Cars",
         7455.87
        ],
        [
         4,
         "Classic Cars",
         8940.96
        ],
        [
         4,
         "Classic Cars",
         4572.25
        ],
        [
         4,
         "Classic Cars",
         5700.09
        ],
        [
         4,
         "Classic Cars",
         3155.49
        ],
        [
         4,
         "Classic Cars",
         4170.69
        ],
        [
         4,
         "Classic Cars",
         2878.8
        ],
        [
         4,
         "Classic Cars",
         5029.5
        ],
        [
         4,
         "Classic Cars",
         7396.8
        ],
        [
         4,
         "Classic Cars",
         2991.68
        ],
        [
         1,
         "Classic Cars",
         6275.72
        ],
        [
         1,
         "Classic Cars",
         1534.95
        ],
        [
         1,
         "Classic Cars",
         7264.53
        ],
        [
         1,
         "Classic Cars",
         6869.05
        ],
        [
         1,
         "Classic Cars",
         3353.02
        ],
        [
         2,
         "Classic Cars",
         8289.05
        ],
        [
         2,
         "Classic Cars",
         11887.8
        ],
        [
         2,
         "Classic Cars",
         5926.9
        ],
        [
         2,
         "Classic Cars",
         3793.16
        ],
        [
         1,
         "Trains",
         4330.1
        ],
        [
         2,
         "Trains",
         2011.8
        ],
        [
         2,
         "Trains",
         4837.18
        ],
        [
         3,
         "Trains",
         2151.82
        ],
        [
         3,
         "Trains",
         2573.46
        ],
        [
         4,
         "Trains",
         5344.5
        ],
        [
         4,
         "Trains",
         3070.52
        ],
        [
         4,
         "Trains",
         3952.83
        ],
        [
         4,
         "Trains",
         3564.75
        ],
        [
         1,
         "Trains",
         5614.56
        ],
        [
         1,
         "Trains",
         1855.41
        ],
        [
         1,
         "Trains",
         4598.4
        ],
        [
         2,
         "Trains",
         5082.42
        ],
        [
         3,
         "Trains",
         5450.59
        ],
        [
         3,
         "Trains",
         4174.92
        ],
        [
         3,
         "Trains",
         2418.24
        ],
        [
         4,
         "Trains",
         3670.4
        ],
        [
         4,
         "Trains",
         2481.7
        ],
        [
         4,
         "Trains",
         3807.68
        ],
        [
         4,
         "Trains",
         2230.41
        ],
        [
         4,
         "Trains",
         3814.64
        ],
        [
         1,
         "Trains",
         2117.75
        ],
        [
         1,
         "Trains",
         3340.48
        ],
        [
         1,
         "Trains",
         2154.0
        ],
        [
         2,
         "Trains",
         5808.48
        ],
        [
         1,
         "Classic Cars",
         1777.1
        ],
        [
         2,
         "Classic Cars",
         1536.57
        ],
        [
         3,
         "Classic Cars",
         3510.0
        ],
        [
         3,
         "Classic Cars",
         3097.44
        ],
        [
         4,
         "Classic Cars",
         1705.41
        ],
        [
         4,
         "Classic Cars",
         2264.32
        ],
        [
         4,
         "Classic Cars",
         2484.6
        ],
        [
         4,
         "Classic Cars",
         3415.68
        ],
        [
         4,
         "Classic Cars",
         2839.32
        ],
        [
         1,
         "Classic Cars",
         2730.0
        ],
        [
         1,
         "Classic Cars",
         3540.53
        ],
        [
         2,
         "Classic Cars",
         2999.97
        ],
        [
         2,
         "Classic Cars",
         1527.8
        ],
        [
         3,
         "Classic Cars",
         3907.8
        ],
        [
         3,
         "Classic Cars",
         2658.48
        ],
        [
         3,
         "Classic Cars",
         3042.68
        ],
        [
         4,
         "Classic Cars",
         3861.2
        ],
        [
         4,
         "Classic Cars",
         2171.07
        ],
        [
         4,
         "Classic Cars",
         3403.08
        ],
        [
         4,
         "Classic Cars",
         2245.8
        ],
        [
         4,
         "Classic Cars",
         1668.5
        ],
        [
         1,
         "Classic Cars",
         2773.8
        ],
        [
         1,
         "Classic Cars",
         2464.0
        ],
        [
         1,
         "Classic Cars",
         5491.6
        ],
        [
         1,
         "Vintage Cars",
         4791.82
        ],
        [
         1,
         "Vintage Cars",
         4178.85
        ],
        [
         2,
         "Vintage Cars",
         3128.92
        ],
        [
         3,
         "Vintage Cars",
         3095.4
        ],
        [
         3,
         "Vintage Cars",
         3958.5
        ],
        [
         4,
         "Vintage Cars",
         4991.44
        ],
        [
         4,
         "Vintage Cars",
         2761.96
        ],
        [
         4,
         "Vintage Cars",
         2848.23
        ],
        [
         4,
         "Vintage Cars",
         2539.84
        ],
        [
         4,
         "Vintage Cars",
         2444.4
        ],
        [
         1,
         "Vintage Cars",
         4555.92
        ],
        [
         1,
         "Vintage Cars",
         3666.96
        ],
        [
         2,
         "Vintage Cars",
         3035.88
        ],
        [
         2,
         "Vintage Cars",
         2321.54
        ],
        [
         3,
         "Vintage Cars",
         3474.46
        ],
        [
         3,
         "Vintage Cars",
         2501.98
        ],
        [
         4,
         "Vintage Cars",
         3958.46
        ],
        [
         4,
         "Vintage Cars",
         3535.95
        ],
        [
         4,
         "Vintage Cars",
         3011.91
        ],
        [
         4,
         "Vintage Cars",
         11336.7
        ],
        [
         4,
         "Vintage Cars",
         2656.94
        ],
        [
         4,
         "Vintage Cars",
         2604.25
        ],
        [
         1,
         "Vintage Cars",
         3288.6
        ],
        [
         1,
         "Vintage Cars",
         8935.5
        ],
        [
         1,
         "Vintage Cars",
         4035.96
        ],
        [
         2,
         "Vintage Cars",
         1875.09
        ],
        [
         1,
         "Classic Cars",
         4049.56
        ],
        [
         2,
         "Classic Cars",
         2469.39
        ],
        [
         3,
         "Classic Cars",
         5432.7
        ],
        [
         3,
         "Classic Cars",
         4405.22
        ],
        [
         4,
         "Classic Cars",
         3638.0
        ],
        [
         4,
         "Classic Cars",
         4444.92
        ],
        [
         4,
         "Classic Cars",
         3395.48
        ],
        [
         4,
         "Classic Cars",
         3414.58
        ],
        [
         4,
         "Classic Cars",
         5127.04
        ],
        [
         1,
         "Classic Cars",
         3745.28
        ],
        [
         1,
         "Classic Cars",
         4564.08
        ],
        [
         2,
         "Classic Cars",
         6554.24
        ],
        [
         2,
         "Classic Cars",
         6749.83
        ],
        [
         3,
         "Classic Cars",
         8427.02
        ],
        [
         3,
         "Classic Cars",
         3924.6
        ],
        [
         3,
         "Classic Cars",
         6761.6
        ],
        [
         4,
         "Classic Cars",
         3786.49
        ],
        [
         4,
         "Classic Cars",
         6266.12
        ],
        [
         4,
         "Classic Cars",
         3491.0
        ],
        [
         4,
         "Classic Cars",
         4405.22
        ],
        [
         4,
         "Classic Cars",
         6548.3
        ],
        [
         4,
         "Classic Cars",
         3177.91
        ],
        [
         1,
         "Classic Cars",
         4142.64
        ],
        [
         1,
         "Classic Cars",
         4149.07
        ],
        [
         1,
         "Classic Cars",
         7397.0
        ],
        [
         1,
         "Classic Cars",
         6241.6
        ],
        [
         2,
         "Classic Cars",
         5331.88
        ],
        [
         3,
         "Classic Cars",
         5124.3
        ],
        [
         3,
         "Classic Cars",
         3639.44
        ],
        [
         4,
         "Classic Cars",
         5544.0
        ],
        [
         4,
         "Classic Cars",
         5493.12
        ],
        [
         4,
         "Classic Cars",
         5785.26
        ],
        [
         4,
         "Classic Cars",
         5340.6
        ],
        [
         4,
         "Classic Cars",
         5735.8
        ],
        [
         1,
         "Classic Cars",
         6357.6
        ],
        [
         1,
         "Classic Cars",
         7343.9
        ],
        [
         2,
         "Classic Cars",
         5959.22
        ],
        [
         2,
         "Classic Cars",
         4029.38
        ],
        [
         3,
         "Classic Cars",
         5035.14
        ],
        [
         3,
         "Classic Cars",
         4116.8
        ],
        [
         3,
         "Classic Cars",
         4310.55
        ],
        [
         4,
         "Classic Cars",
         6446.7
        ],
        [
         4,
         "Classic Cars",
         3616.64
        ],
        [
         4,
         "Classic Cars",
         4232.76
        ],
        [
         4,
         "Classic Cars",
         1765.66
        ],
        [
         4,
         "Classic Cars",
         3734.72
        ],
        [
         1,
         "Classic Cars",
         4808.38
        ],
        [
         1,
         "Classic Cars",
         2266.56
        ],
        [
         2,
         "Classic Cars",
         10468.9
        ],
        [
         2,
         "Classic Cars",
         5589.14
        ],
        [
         1,
         "Motorcycles",
         2914.11
        ],
        [
         2,
         "Motorcycles",
         1740.9
        ],
        [
         3,
         "Motorcycles",
         2266.2
        ],
        [
         3,
         "Motorcycles",
         3155.58
        ],
        [
         4,
         "Motorcycles",
         1357.86
        ],
        [
         4,
         "Motorcycles",
         2598.82
        ],
        [
         4,
         "Motorcycles",
         1057.56
        ],
        [
         4,
         "Motorcycles",
         3127.82
        ],
        [
         1,
         "Motorcycles",
         2488.14
        ],
        [
         1,
         "Motorcycles",
         2220.72
        ],
        [
         2,
         "Motorcycles",
         1357.72
        ],
        [
         2,
         "Motorcycles",
         1638.04
        ],
        [
         2,
         "Motorcycles",
         2626.08
        ],
        [
         3,
         "Motorcycles",
         1661.88
        ],
        [
         3,
         "Motorcycles",
         2173.6
        ],
        [
         3,
         "Motorcycles",
         2182.05
        ],
        [
         4,
         "Motorcycles",
         2819.88
        ],
        [
         4,
         "Motorcycles",
         2598.64
        ],
        [
         4,
         "Motorcycles",
         2019.27
        ],
        [
         4,
         "Motorcycles",
         1454.7
        ],
        [
         4,
         "Motorcycles",
         1657.57
        ],
        [
         1,
         "Motorcycles",
         2851.84
        ],
        [
         1,
         "Motorcycles",
         4609.64
        ],
        [
         1,
         "Motorcycles",
         5079.96
        ],
        [
         2,
         "Motorcycles",
         1879.92
        ],
        [
         1,
         "Vintage Cars",
         4774.86
        ],
        [
         2,
         "Vintage Cars",
         2687.04
        ],
        [
         2,
         "Vintage Cars",
         3423.75
        ],
        [
         3,
         "Vintage Cars",
         3455.76
        ],
        [
         4,
         "Vintage Cars",
         3622.97
        ],
        [
         4,
         "Vintage Cars",
         3599.58
        ],
        [
         4,
         "Vintage Cars",
         5386.56
        ],
        [
         4,
         "Vintage Cars",
         4918.78
        ],
        [
         4,
         "Vintage Cars",
         2538.8
        ],
        [
         1,
         "Vintage Cars",
         2498.6
        ],
        [
         1,
         "Vintage Cars",
         3858.75
        ],
        [
         2,
         "Vintage Cars",
         5600.5
        ],
        [
         2,
         "Vintage Cars",
         4103.46
        ],
        [
         3,
         "Vintage Cars",
         4287.5
        ],
        [
         3,
         "Vintage Cars",
         5795.54
        ],
        [
         3,
         "Vintage Cars",
         1863.4
        ],
        [
         4,
         "Vintage Cars",
         4166.88
        ],
        [
         4,
         "Vintage Cars",
         4080.07
        ],
        [
         4,
         "Vintage Cars",
         3815.48
        ],
        [
         4,
         "Vintage Cars",
         5526.45
        ],
        [
         4,
         "Vintage Cars",
         3374.6
        ],
        [
         1,
         "Vintage Cars",
         3024.5
        ],
        [
         1,
         "Vintage Cars",
         1266.1
        ],
        [
         1,
         "Vintage Cars",
         4811.85
        ],
        [
         2,
         "Vintage Cars",
         7307.42
        ],
        [
         2,
         "Vintage Cars",
         6209.25
        ],
        [
         1,
         "Classic Cars",
         5348.5
        ],
        [
         2,
         "Classic Cars",
         2780.58
        ],
        [
         2,
         "Classic Cars",
         3447.0
        ],
        [
         3,
         "Classic Cars",
         3791.52
        ],
        [
         3,
         "Classic Cars",
         4524.1
        ],
        [
         4,
         "Classic Cars",
         3337.6
        ],
        [
         4,
         "Classic Cars",
         5532.12
        ],
        [
         4,
         "Classic Cars",
         5096.91
        ],
        [
         4,
         "Classic Cars",
         4537.08
        ],
        [
         4,
         "Classic Cars",
         6146.8
        ],
        [
         1,
         "Classic Cars",
         8258.0
        ],
        [
         1,
         "Classic Cars",
         7238.28
        ],
        [
         2,
         "Classic Cars",
         6756.0
        ],
        [
         3,
         "Classic Cars",
         3734.0
        ],
        [
         3,
         "Classic Cars",
         4674.8
        ],
        [
         3,
         "Classic Cars",
         7140.76
        ],
        [
         4,
         "Classic Cars",
         3600.65
        ],
        [
         4,
         "Classic Cars",
         4206.74
        ],
        [
         4,
         "Classic Cars",
         5379.71
        ],
        [
         4,
         "Classic Cars",
         5679.36
        ],
        [
         4,
         "Classic Cars",
         4394.84
        ],
        [
         4,
         "Classic Cars",
         2528.25
        ],
        [
         1,
         "Classic Cars",
         7031.52
        ],
        [
         1,
         "Classic Cars",
         5340.9
        ],
        [
         1,
         "Classic Cars",
         6376.58
        ],
        [
         2,
         "Classic Cars",
         6896.75
        ],
        [
         1,
         "Vintage Cars",
         1903.22
        ],
        [
         1,
         "Vintage Cars",
         2499.56
        ],
        [
         2,
         "Vintage Cars",
         3081.24
        ],
        [
         3,
         "Vintage Cars",
         3598.22
        ],
        [
         4,
         "Vintage Cars",
         3912.09
        ],
        [
         4,
         "Vintage Cars",
         1584.66
        ],
        [
         4,
         "Vintage Cars",
         3942.72
        ],
        [
         4,
         "Vintage Cars",
         2341.2
        ],
        [
         4,
         "Vintage Cars",
         2482.11
        ],
        [
         1,
         "Vintage Cars",
         3602.02
        ],
        [
         1,
         "Vintage Cars",
         3566.94
        ],
        [
         2,
         "Vintage Cars",
         3787.98
        ],
        [
         3,
         "Vintage Cars",
         3704.05
        ],
        [
         3,
         "Vintage Cars",
         2834.65
        ],
        [
         4,
         "Vintage Cars",
         3392.26
        ],
        [
         4,
         "Vintage Cars",
         3358.31
        ],
        [
         4,
         "Vintage Cars",
         7310.0
        ],
        [
         4,
         "Vintage Cars",
         2203.11
        ],
        [
         1,
         "Vintage Cars",
         2696.96
        ],
        [
         1,
         "Vintage Cars",
         3376.64
        ],
        [
         2,
         "Vintage Cars",
         541.14
        ],
        [
         2,
         "Vintage Cars",
         6134.7
        ],
        [
         1,
         "Vintage Cars",
         3382.5
        ],
        [
         2,
         "Vintage Cars",
         2240.66
        ],
        [
         2,
         "Vintage Cars",
         3962.88
        ],
        [
         3,
         "Vintage Cars",
         1685.28
        ],
        [
         3,
         "Vintage Cars",
         1834.36
        ],
        [
         4,
         "Vintage Cars",
         1916.98
        ],
        [
         4,
         "Vintage Cars",
         2611.0
        ],
        [
         4,
         "Vintage Cars",
         3630.28
        ],
        [
         4,
         "Vintage Cars",
         5090.5
        ],
        [
         1,
         "Vintage Cars",
         3949.65
        ],
        [
         1,
         "Vintage Cars",
         3491.67
        ],
        [
         1,
         "Vintage Cars",
         2059.19
        ],
        [
         2,
         "Vintage Cars",
         3170.16
        ],
        [
         2,
         "Vintage Cars",
         1790.6
        ],
        [
         3,
         "Vintage Cars",
         2345.97
        ],
        [
         3,
         "Vintage Cars",
         3580.88
        ],
        [
         3,
         "Vintage Cars",
         4946.06
        ],
        [
         4,
         "Vintage Cars",
         3525.6
        ],
        [
         4,
         "Vintage Cars",
         3602.16
        ],
        [
         4,
         "Vintage Cars",
         4300.5
        ],
        [
         4,
         "Vintage Cars",
         4498.19
        ],
        [
         4,
         "Vintage Cars",
         3023.1
        ],
        [
         1,
         "Vintage Cars",
         3562.49
        ],
        [
         1,
         "Vintage Cars",
         1640.24
        ],
        [
         1,
         "Vintage Cars",
         4739.4
        ],
        [
         2,
         "Vintage Cars",
         1207.68
        ],
        [
         1,
         "Trucks and Buses",
         4228.2
        ],
        [
         2,
         "Trucks and Buses",
         4815.45
        ],
        [
         2,
         "Trucks and Buses",
         7083.0
        ],
        [
         3,
         "Trucks and Buses",
         4601.2
        ],
        [
         3,
         "Trucks and Buses",
         6467.02
        ],
        [
         4,
         "Trucks and Buses",
         5012.55
        ],
        [
         4,
         "Trucks and Buses",
         5121.59
        ],
        [
         4,
         "Trucks and Buses",
         2441.04
        ],
        [
         4,
         "Trucks and Buses",
         4262.08
        ],
        [
         4,
         "Trucks and Buses",
         6658.02
        ],
        [
         1,
         "Trucks and Buses",
         4509.08
        ],
        [
         1,
         "Trucks and Buses",
         4716.23
        ],
        [
         2,
         "Trucks and Buses",
         2390.22
        ],
        [
         2,
         "Trucks and Buses",
         4666.62
        ],
        [
         3,
         "Trucks and Buses",
         5383.08
        ],
        [
         3,
         "Trucks and Buses",
         2482.25
        ],
        [
         3,
         "Trucks and Buses",
         5288.64
        ],
        [
         4,
         "Trucks and Buses",
         2184.38
        ],
        [
         4,
         "Trucks and Buses",
         2881.76
        ],
        [
         4,
         "Trucks and Buses",
         6203.06
        ],
        [
         4,
         "Trucks and Buses",
         6763.47
        ],
        [
         4,
         "Trucks and Buses",
         5884.65
        ],
        [
         4,
         "Trucks and Buses",
         3559.64
        ],
        [
         1,
         "Trucks and Buses",
         1668.37
        ],
        [
         1,
         "Trucks and Buses",
         4890.6
        ],
        [
         2,
         "Trucks and Buses",
         5235.72
        ],
        [
         2,
         "Trucks and Buses",
         4325.16
        ],
        [
         1,
         "Vintage Cars",
         1938.89
        ],
        [
         1,
         "Vintage Cars",
         2490.5
        ],
        [
         2,
         "Vintage Cars",
         2314.69
        ],
        [
         3,
         "Vintage Cars",
         1254.83
        ],
        [
         3,
         "Vintage Cars",
         1282.8
        ],
        [
         4,
         "Vintage Cars",
         1345.75
        ],
        [
         4,
         "Vintage Cars",
         2194.22
        ],
        [
         4,
         "Vintage Cars",
         1972.0
        ],
        [
         4,
         "Vintage Cars",
         1835.98
        ],
        [
         4,
         "Vintage Cars",
         1119.93
        ],
        [
         1,
         "Vintage Cars",
         2082.88
        ],
        [
         1,
         "Vintage Cars",
         1569.75
        ],
        [
         2,
         "Vintage Cars",
         2694.15
        ],
        [
         2,
         "Vintage Cars",
         1257.27
        ],
        [
         3,
         "Vintage Cars",
         2567.84
        ],
        [
         3,
         "Vintage Cars",
         2634.28
        ],
        [
         3,
         "Vintage Cars",
         1502.78
        ],
        [
         4,
         "Vintage Cars",
         1676.2
        ],
        [
         4,
         "Vintage Cars",
         2217.15
        ],
        [
         4,
         "Vintage Cars",
         6832.02
        ],
        [
         4,
         "Vintage Cars",
         1916.64
        ],
        [
         4,
         "Vintage Cars",
         7110.8
        ],
        [
         4,
         "Vintage Cars",
         5302.8
        ],
        [
         1,
         "Vintage Cars",
         2730.0
        ],
        [
         1,
         "Vintage Cars",
         7827.3
        ],
        [
         2,
         "Vintage Cars",
         2095.45
        ],
        [
         2,
         "Vintage Cars",
         1556.62
        ],
        [
         1,
         "Classic Cars",
         5565.12
        ],
        [
         2,
         "Classic Cars",
         3583.16
        ],
        [
         3,
         "Classic Cars",
         4705.18
        ],
        [
         3,
         "Classic Cars",
         4444.54
        ],
        [
         4,
         "Classic Cars",
         4618.88
        ],
        [
         4,
         "Classic Cars",
         4910.4
        ],
        [
         4,
         "Classic Cars",
         5565.12
        ],
        [
         4,
         "Classic Cars",
         4237.76
        ],
        [
         1,
         "Classic Cars",
         5673.58
        ],
        [
         1,
         "Classic Cars",
         5260.15
        ],
        [
         2,
         "Classic Cars",
         6350.96
        ],
        [
         2,
         "Classic Cars",
         3559.4
        ],
        [
         2,
         "Classic Cars",
         2410.6
        ],
        [
         3,
         "Classic Cars",
         5713.92
        ],
        [
         3,
         "Classic Cars",
         4300.32
        ],
        [
         3,
         "Classic Cars",
         7947.31
        ],
        [
         4,
         "Classic Cars",
         5356.8
        ],
        [
         4,
         "Classic Cars",
         7901.1
        ],
        [
         4,
         "Classic Cars",
         6101.0
        ],
        [
         4,
         "Classic Cars",
         6276.46
        ],
        [
         4,
         "Classic Cars",
         4203.5
        ],
        [
         1,
         "Classic Cars",
         1629.04
        ],
        [
         1,
         "Classic Cars",
         3289.86
        ],
        [
         1,
         "Classic Cars",
         6862.94
        ],
        [
         1,
         "Classic Cars",
         2574.18
        ],
        [
         2,
         "Classic Cars",
         1327.79
        ],
        [
         3,
         "Classic Cars",
         2356.25
        ],
        [
         4,
         "Classic Cars",
         2013.5
        ],
        [
         4,
         "Classic Cars",
         2807.22
        ],
        [
         4,
         "Classic Cars",
         3072.96
        ],
        [
         4,
         "Classic Cars",
         1906.5
        ],
        [
         4,
         "Classic Cars",
         3431.7
        ],
        [
         1,
         "Classic Cars",
         2084.75
        ],
        [
         1,
         "Classic Cars",
         2136.01
        ],
        [
         2,
         "Classic Cars",
         2009.7
        ],
        [
         3,
         "Classic Cars",
         2719.8
        ],
        [
         3,
         "Classic Cars",
         1575.08
        ],
        [
         3,
         "Classic Cars",
         1688.43
        ],
        [
         4,
         "Classic Cars",
         1672.1
        ],
        [
         4,
         "Classic Cars",
         1674.75
        ],
        [
         4,
         "Classic Cars",
         3472.98
        ],
        [
         4,
         "Classic Cars",
         1649.18
        ],
        [
         1,
         "Classic Cars",
         3751.0
        ],
        [
         1,
         "Classic Cars",
         4536.0
        ],
        [
         2,
         "Classic Cars",
         4421.34
        ],
        [
         2,
         "Classic Cars",
         2078.28
        ],
        [
         1,
         "Classic Cars",
         3069.0
        ],
        [
         2,
         "Classic Cars",
         1713.8
        ],
        [
         3,
         "Classic Cars",
         1506.5
        ],
        [
         4,
         "Classic Cars",
         2692.12
        ],
        [
         4,
         "Classic Cars",
         2422.08
        ],
        [
         4,
         "Classic Cars",
         3488.34
        ],
        [
         4,
         "Classic Cars",
         2583.34
        ],
        [
         4,
         "Classic Cars",
         1249.4
        ],
        [
         1,
         "Classic Cars",
         3374.71
        ],
        [
         1,
         "Classic Cars",
         1265.46
        ],
        [
         2,
         "Classic Cars",
         1681.46
        ],
        [
         3,
         "Classic Cars",
         3204.0
        ],
        [
         3,
         "Classic Cars",
         2398.72
        ],
        [
         3,
         "Classic Cars",
         2381.04
        ],
        [
         4,
         "Classic Cars",
         1944.54
        ],
        [
         4,
         "Classic Cars",
         2273.7
        ],
        [
         4,
         "Classic Cars",
         2116.5
        ],
        [
         4,
         "Classic Cars",
         1307.32
        ],
        [
         4,
         "Classic Cars",
         1726.37
        ],
        [
         1,
         "Classic Cars",
         1267.77
        ],
        [
         1,
         "Classic Cars",
         3441.82
        ],
        [
         2,
         "Classic Cars",
         1987.18
        ],
        [
         2,
         "Classic Cars",
         3880.2
        ],
        [
         1,
         "Classic Cars",
         1942.15
        ],
        [
         2,
         "Classic Cars",
         3259.92
        ],
        [
         2,
         "Classic Cars",
         1213.8
        ],
        [
         3,
         "Classic Cars",
         1086.6
        ],
        [
         3,
         "Classic Cars",
         1632.75
        ],
        [
         4,
         "Classic Cars",
         1734.0
        ],
        [
         4,
         "Classic Cars",
         1857.06
        ],
        [
         4,
         "Classic Cars",
         1863.41
        ],
        [
         4,
         "Classic Cars",
         2924.68
        ],
        [
         4,
         "Classic Cars",
         2294.18
        ],
        [
         1,
         "Classic Cars",
         1457.82
        ],
        [
         1,
         "Classic Cars",
         1955.88
        ],
        [
         2,
         "Classic Cars",
         2314.4
        ],
        [
         2,
         "Classic Cars",
         1310.96
        ],
        [
         3,
         "Classic Cars",
         2913.3
        ],
        [
         3,
         "Classic Cars",
         1357.78
        ],
        [
         3,
         "Classic Cars",
         2150.0
        ],
        [
         4,
         "Classic Cars",
         2783.25
        ],
        [
         4,
         "Classic Cars",
         2339.92
        ],
        [
         4,
         "Classic Cars",
         1729.0
        ],
        [
         4,
         "Classic Cars",
         5972.4
        ],
        [
         4,
         "Classic Cars",
         2275.2
        ],
        [
         4,
         "Classic Cars",
         2673.44
        ],
        [
         1,
         "Classic Cars",
         2431.75
        ],
        [
         1,
         "Classic Cars",
         2018.72
        ],
        [
         1,
         "Classic Cars",
         1558.99
        ],
        [
         2,
         "Classic Cars",
         1104.6
        ],
        [
         2,
         "Classic Cars",
         2575.1
        ],
        [
         1,
         "Motorcycles",
         2845.75
        ],
        [
         2,
         "Motorcycles",
         3431.75
        ],
        [
         3,
         "Motorcycles",
         3273.9
        ],
        [
         3,
         "Motorcycles",
         4119.4
        ],
        [
         4,
         "Motorcycles",
         5355.68
        ],
        [
         4,
         "Motorcycles",
         5747.5
        ],
        [
         4,
         "Motorcycles",
         5355.36
        ],
        [
         4,
         "Motorcycles",
         2535.75
        ],
        [
         4,
         "Motorcycles",
         4351.23
        ],
        [
         1,
         "Motorcycles",
         2254.0
        ],
        [
         1,
         "Motorcycles",
         2921.28
        ],
        [
         2,
         "Motorcycles",
         2299.0
        ],
        [
         2,
         "Motorcycles",
         2637.18
        ],
        [
         2,
         "Motorcycles",
         4307.52
        ],
        [
         3,
         "Motorcycles",
         2153.76
        ],
        [
         3,
         "Motorcycles",
         3716.88
        ],
        [
         3,
         "Motorcycles",
         5455.76
        ],
        [
         4,
         "Motorcycles",
         2650.62
        ],
        [
         4,
         "Motorcycles",
         6437.28
        ],
        [
         4,
         "Motorcycles",
         2633.4
        ],
        [
         4,
         "Motorcycles",
         2278.53
        ],
        [
         1,
         "Motorcycles",
         4846.0
        ],
        [
         1,
         "Motorcycles",
         4197.1
        ],
        [
         1,
         "Motorcycles",
         4597.65
        ],
        [
         2,
         "Motorcycles",
         5287.7
        ],
        [
         2,
         "Motorcycles",
         3550.05
        ],
        [
         1,
         "Classic Cars",
         1721.73
        ],
        [
         2,
         "Classic Cars",
         2993.5
        ],
        [
         3,
         "Classic Cars",
         1295.06
        ],
        [
         3,
         "Classic Cars",
         2671.95
        ],
        [
         4,
         "Classic Cars",
         1226.59
        ],
        [
         4,
         "Classic Cars",
         1453.84
        ],
        [
         4,
         "Classic Cars",
         1830.22
        ],
        [
         4,
         "Classic Cars",
         2530.01
        ],
        [
         4,
         "Classic Cars",
         2241.45
        ],
        [
         1,
         "Classic Cars",
         2399.85
        ],
        [
         1,
         "Classic Cars",
         1557.72
        ],
        [
         2,
         "Classic Cars",
         845.25
        ],
        [
         3,
         "Classic Cars",
         1352.4
        ],
        [
         3,
         "Classic Cars",
         1584.8
        ],
        [
         3,
         "Classic Cars",
         2616.0
        ],
        [
         4,
         "Classic Cars",
         1129.04
        ],
        [
         4,
         "Classic Cars",
         2218.5
        ],
        [
         4,
         "Classic Cars",
         2028.48
        ],
        [
         4,
         "Classic Cars",
         1759.2
        ],
        [
         4,
         "Classic Cars",
         977.67
        ],
        [
         1,
         "Classic Cars",
         1463.0
        ],
        [
         1,
         "Classic Cars",
         3970.56
        ],
        [
         2,
         "Classic Cars",
         2576.0
        ],
        [
         2,
         "Classic Cars",
         2233.69
        ],
        [
         1,
         "Planes",
         2481.64
        ],
        [
         2,
         "Planes",
         4651.53
        ],
        [
         2,
         "Planes",
         3858.1
        ],
        [
         3,
         "Planes",
         3501.6
        ],
        [
         4,
         "Planes",
         6433.7
        ],
        [
         1,
         "Planes",
         2658.96
        ],
        [
         1,
         "Planes",
         3608.76
        ],
        [
         2,
         "Planes",
         2214.67
        ],
        [
         2,
         "Planes",
         2747.53
        ],
        [
         2,
         "Planes",
         3310.92
        ],
        [
         3,
         "Planes",
         2380.0
        ],
        [
         3,
         "Planes",
         2310.88
        ],
        [
         3,
         "Planes",
         4061.76
        ],
        [
         4,
         "Planes",
         3493.7
        ],
        [
         4,
         "Planes",
         2872.25
        ],
        [
         4,
         "Planes",
         4114.38
        ],
        [
         4,
         "Planes",
         1063.65
        ],
        [
         4,
         "Planes",
         2008.44
        ],
        [
         1,
         "Planes",
         4328.6
        ],
        [
         1,
         "Planes",
         1376.43
        ],
        [
         1,
         "Planes",
         5552.16
        ],
        [
         2,
         "Planes",
         3659.02
        ],
        [
         2,
         "Planes",
         4165.61
        ],
        [
         1,
         "Vintage Cars",
         1404.0
        ],
        [
         1,
         "Vintage Cars",
         710.2
        ],
        [
         2,
         "Vintage Cars",
         1702.8
        ],
        [
         3,
         "Vintage Cars",
         1194.84
        ],
        [
         4,
         "Vintage Cars",
         1007.14
        ],
        [
         4,
         "Vintage Cars",
         977.43
        ],
        [
         4,
         "Vintage Cars",
         1436.76
        ],
        [
         4,
         "Vintage Cars",
         759.46
        ],
        [
         4,
         "Vintage Cars",
         1189.44
        ],
        [
         1,
         "Vintage Cars",
         683.8
        ],
        [
         1,
         "Vintage Cars",
         1226.82
        ],
        [
         2,
         "Vintage Cars",
         974.82
        ],
        [
         3,
         "Vintage Cars",
         577.6
        ],
        [
         3,
         "Vintage Cars",
         1106.93
        ],
        [
         4,
         "Vintage Cars",
         694.6
        ],
        [
         4,
         "Vintage Cars",
         1152.06
        ],
        [
         4,
         "Vintage Cars",
         2624.0
        ],
        [
         4,
         "Vintage Cars",
         3685.95
        ],
        [
         4,
         "Vintage Cars",
         703.6
        ],
        [
         4,
         "Vintage Cars",
         9720.0
        ],
        [
         1,
         "Vintage Cars",
         834.67
        ],
        [
         1,
         "Vintage Cars",
         2257.92
        ],
        [
         1,
         "Vintage Cars",
         8344.71
        ],
        [
         2,
         "Vintage Cars",
         1801.94
        ],
        [
         2,
         "Vintage Cars",
         1209.6
        ],
        [
         1,
         "Motorcycles",
         3155.14
        ],
        [
         2,
         "Motorcycles",
         2848.86
        ],
        [
         3,
         "Motorcycles",
         3570.29
        ],
        [
         3,
         "Motorcycles",
         3902.41
        ],
        [
         4,
         "Motorcycles",
         1474.66
        ],
        [
         4,
         "Motorcycles",
         2186.89
        ],
        [
         4,
         "Motorcycles",
         1919.4
        ],
        [
         4,
         "Motorcycles",
         3656.0
        ],
        [
         4,
         "Motorcycles",
         1847.0
        ],
        [
         1,
         "Motorcycles",
         1851.0
        ],
        [
         1,
         "Motorcycles",
         2633.78
        ],
        [
         2,
         "Motorcycles",
         3153.6
        ],
        [
         2,
         "Motorcycles",
         2803.2
        ],
        [
         2,
         "Motorcycles",
         2311.02
        ],
        [
         3,
         "Motorcycles",
         2399.4
        ],
        [
         3,
         "Motorcycles",
         2733.12
        ],
        [
         3,
         "Motorcycles",
         2096.32
        ],
        [
         4,
         "Motorcycles",
         2971.34
        ],
        [
         4,
         "Motorcycles",
         2257.58
        ],
        [
         4,
         "Motorcycles",
         3493.91
        ],
        [
         4,
         "Motorcycles",
         4398.9
        ],
        [
         1,
         "Motorcycles",
         3595.62
        ],
        [
         1,
         "Motorcycles",
         2443.29
        ],
        [
         1,
         "Motorcycles",
         3988.6
        ],
        [
         2,
         "Motorcycles",
         5168.4
        ],
        [
         2,
         "Motorcycles",
         2803.2
        ],
        [
         1,
         "Ships",
         6341.21
        ],
        [
         2,
         "Ships",
         5189.78
        ],
        [
         2,
         "Ships",
         6027.75
        ],
        [
         3,
         "Ships",
         3366.0
        ],
        [
         3,
         "Ships",
         5456.4
        ],
        [
         4,
         "Ships",
         3812.16
        ],
        [
         4,
         "Ships",
         6083.0
        ],
        [
         4,
         "Ships",
         3170.7
        ],
        [
         4,
         "Ships",
         4534.6
        ],
        [
         1,
         "Ships",
         4301.15
        ],
        [
         1,
         "Ships",
         6804.63
        ],
        [
         1,
         "Ships",
         5652.94
        ],
        [
         2,
         "Ships",
         6960.48
        ],
        [
         2,
         "Ships",
         4512.6
        ],
        [
         3,
         "Ships",
         2784.76
        ],
        [
         3,
         "Ships",
         5316.36
        ],
        [
         3,
         "Ships",
         2941.89
        ],
        [
         4,
         "Ships",
         3207.4
        ],
        [
         4,
         "Ships",
         4215.05
        ],
        [
         4,
         "Ships",
         4333.29
        ],
        [
         4,
         "Ships",
         2087.13
        ],
        [
         4,
         "Ships",
         1711.22
        ],
        [
         1,
         "Ships",
         3910.53
        ],
        [
         1,
         "Ships",
         2255.12
        ],
        [
         1,
         "Ships",
         5720.75
        ],
        [
         2,
         "Ships",
         3335.23
        ],
        [
         1,
         "Vintage Cars",
         2472.96
        ],
        [
         1,
         "Vintage Cars",
         1729.65
        ],
        [
         2,
         "Vintage Cars",
         995.5
        ],
        [
         3,
         "Vintage Cars",
         2414.72
        ],
        [
         4,
         "Vintage Cars",
         1560.47
        ],
        [
         4,
         "Vintage Cars",
         1112.94
        ],
        [
         4,
         "Vintage Cars",
         1138.94
        ],
        [
         4,
         "Vintage Cars",
         1012.4
        ],
        [
         4,
         "Vintage Cars",
         913.92
        ],
        [
         1,
         "Vintage Cars",
         2349.06
        ],
        [
         1,
         "Vintage Cars",
         1161.12
        ],
        [
         2,
         "Vintage Cars",
         1764.75
        ],
        [
         2,
         "Vintage Cars",
         1690.9
        ],
        [
         3,
         "Vintage Cars",
         2137.05
        ],
        [
         3,
         "Vintage Cars",
         2177.1
        ],
        [
         4,
         "Vintage Cars",
         1734.48
        ],
        [
         4,
         "Vintage Cars",
         865.49
        ],
        [
         4,
         "Vintage Cars",
         3500.1
        ],
        [
         4,
         "Vintage Cars",
         2223.52
        ],
        [
         4,
         "Vintage Cars",
         2311.68
        ],
        [
         4,
         "Vintage Cars",
         828.36
        ],
        [
         1,
         "Vintage Cars",
         856.52
        ],
        [
         1,
         "Vintage Cars",
         1845.45
        ],
        [
         1,
         "Vintage Cars",
         4042.08
        ],
        [
         2,
         "Vintage Cars",
         1828.0
        ],
        [
         1,
         "Trucks and Buses",
         3680.28
        ],
        [
         2,
         "Trucks and Buses",
         2925.09
        ],
        [
         2,
         "Trucks and Buses",
         3415.77
        ],
        [
         3,
         "Trucks and Buses",
         5105.14
        ],
        [
         3,
         "Trucks and Buses",
         5098.8
        ],
        [
         4,
         "Trucks and Buses",
         4661.76
        ],
        [
         4,
         "Trucks and Buses",
         2969.96
        ],
        [
         4,
         "Trucks and Buses",
         3496.32
        ],
        [
         4,
         "Trucks and Buses",
         5760.93
        ],
        [
         4,
         "Trucks and Buses",
         6819.04
        ],
        [
         1,
         "Trucks and Buses",
         3148.88
        ],
        [
         1,
         "Trucks and Buses",
         5704.32
        ],
        [
         2,
         "Trucks and Buses",
         3520.6
        ],
        [
         2,
         "Trucks and Buses",
         5285.62
        ],
        [
         3,
         "Trucks and Buses",
         5605.05
        ],
        [
         3,
         "Trucks and Buses",
         2779.5
        ],
        [
         3,
         "Trucks and Buses",
         5398.08
        ],
        [
         4,
         "Trucks and Buses",
         3189.6
        ],
        [
         4,
         "Trucks and Buses",
         5581.8
        ],
        [
         4,
         "Trucks and Buses",
         3820.44
        ],
        [
         4,
         "Trucks and Buses",
         5528.04
        ],
        [
         4,
         "Trucks and Buses",
         5981.42
        ],
        [
         4,
         "Trucks and Buses",
         5684.65
        ],
        [
         1,
         "Trucks and Buses",
         3449.4
        ],
        [
         1,
         "Trucks and Buses",
         2654.4
        ],
        [
         2,
         "Trucks and Buses",
         8498.0
        ],
        [
         2,
         "Trucks and Buses",
         5510.54
        ],
        [
         1,
         "Motorcycles",
         2060.45
        ],
        [
         2,
         "Motorcycles",
         2460.16
        ],
        [
         3,
         "Motorcycles",
         1787.56
        ],
        [
         3,
         "Motorcycles",
         1645.65
        ],
        [
         4,
         "Motorcycles",
         2169.18
        ],
        [
         4,
         "Motorcycles",
         2816.18
        ],
        [
         4,
         "Motorcycles",
         2521.05
        ],
        [
         4,
         "Motorcycles",
         3199.98
        ],
        [
         1,
         "Motorcycles",
         1338.12
        ],
        [
         1,
         "Motorcycles",
         2972.58
        ],
        [
         2,
         "Motorcycles",
         2070.9
        ],
        [
         2,
         "Motorcycles",
         3092.6
        ],
        [
         2,
         "Motorcycles",
         2408.7
        ],
        [
         3,
         "Motorcycles",
         3472.54
        ],
        [
         3,
         "Motorcycles",
         2263.28
        ],
        [
         3,
         "Motorcycles",
         2194.17
        ],
        [
         4,
         "Motorcycles",
         1346.4
        ],
        [
         4,
         "Motorcycles",
         2533.63
        ],
        [
         4,
         "Motorcycles",
         3403.26
        ],
        [
         4,
         "Motorcycles",
         3307.2
        ],
        [
         4,
         "Motorcycles",
         2896.65
        ],
        [
         1,
         "Motorcycles",
         2632.89
        ],
        [
         1,
         "Motorcycles",
         2046.0
        ],
        [
         1,
         "Motorcycles",
         2279.55
        ],
        [
         2,
         "Motorcycles",
         2150.55
        ],
        [
         1,
         "Classic Cars",
         3360.45
        ],
        [
         2,
         "Classic Cars",
         2326.4
        ],
        [
         3,
         "Classic Cars",
         1545.6
        ],
        [
         4,
         "Classic Cars",
         2144.6
        ],
        [
         4,
         "Classic Cars",
         1639.22
        ],
        [
         4,
         "Classic Cars",
         2649.6
        ],
        [
         4,
         "Classic Cars",
         3845.6
        ],
        [
         4,
         "Classic Cars",
         4527.04
        ],
        [
         1,
         "Classic Cars",
         3966.3
        ],
        [
         1,
         "Classic Cars",
         4142.58
        ],
        [
         2,
         "Classic Cars",
         4441.5
        ],
        [
         3,
         "Classic Cars",
         3315.12
        ],
        [
         3,
         "Classic Cars",
         3918.53
        ],
        [
         3,
         "Classic Cars",
         2830.45
        ],
        [
         4,
         "Classic Cars",
         5298.86
        ],
        [
         4,
         "Classic Cars",
         2620.8
        ],
        [
         4,
         "Classic Cars",
         2181.0
        ],
        [
         4,
         "Classic Cars",
         3382.08
        ],
        [
         4,
         "Classic Cars",
         2876.75
        ],
        [
         1,
         "Classic Cars",
         4107.2
        ],
        [
         1,
         "Classic Cars",
         1350.0
        ],
        [
         2,
         "Classic Cars",
         7182.0
        ],
        [
         2,
         "Classic Cars",
         3933.93
        ],
        [
         1,
         "Classic Cars",
         1742.4
        ],
        [
         2,
         "Classic Cars",
         721.44
        ],
        [
         2,
         "Classic Cars",
         1489.41
        ],
        [
         3,
         "Classic Cars",
         891.03
        ],
        [
         3,
         "Classic Cars",
         1209.3
        ],
        [
         4,
         "Classic Cars",
         859.14
        ],
        [
         4,
         "Classic Cars",
         1151.44
        ],
        [
         4,
         "Classic Cars",
         1336.44
        ],
        [
         4,
         "Classic Cars",
         905.28
        ],
        [
         4,
         "Classic Cars",
         1247.4
        ],
        [
         1,
         "Classic Cars",
         846.51
        ],
        [
         1,
         "Classic Cars",
         1085.04
        ],
        [
         2,
         "Classic Cars",
         1767.43
        ],
        [
         2,
         "Classic Cars",
         1030.44
        ],
        [
         3,
         "Classic Cars",
         1585.36
        ],
        [
         3,
         "Classic Cars",
         813.2
        ],
        [
         3,
         "Classic Cars",
         1172.34
        ],
        [
         4,
         "Classic Cars",
         1510.56
        ],
        [
         4,
         "Classic Cars",
         1448.07
        ],
        [
         4,
         "Classic Cars",
         3338.1
        ],
        [
         4,
         "Classic Cars",
         1225.29
        ],
        [
         4,
         "Classic Cars",
         1336.68
        ],
        [
         4,
         "Classic Cars",
         2985.84
        ],
        [
         1,
         "Classic Cars",
         5545.8
        ],
        [
         1,
         "Classic Cars",
         6089.6
        ],
        [
         1,
         "Classic Cars",
         1789.4
        ],
        [
         2,
         "Classic Cars",
         1082.1
        ],
        [
         2,
         "Classic Cars",
         1030.44
        ],
        [
         1,
         "Planes",
         3659.32
        ],
        [
         2,
         "Planes",
         2443.6
        ],
        [
         2,
         "Planes",
         2349.9
        ],
        [
         3,
         "Planes",
         1646.19
        ],
        [
         4,
         "Planes",
         1670.26
        ],
        [
         4,
         "Planes",
         1467.48
        ],
        [
         4,
         "Planes",
         2748.56
        ],
        [
         4,
         "Planes",
         1522.4
        ],
        [
         4,
         "Planes",
         3255.36
        ],
        [
         1,
         "Planes",
         3535.03
        ],
        [
         1,
         "Planes",
         2608.96
        ],
        [
         2,
         "Planes",
         1356.4
        ],
        [
         2,
         "Planes",
         1611.36
        ],
        [
         3,
         "Planes",
         2603.2
        ],
        [
         3,
         "Planes",
         2219.7
        ],
        [
         3,
         "Planes",
         1496.25
        ],
        [
         4,
         "Planes",
         1884.0
        ],
        [
         4,
         "Planes",
         2166.14
        ],
        [
         4,
         "Planes",
         2828.16
        ],
        [
         4,
         "Planes",
         6214.45
        ],
        [
         4,
         "Planes",
         1867.0
        ],
        [
         1,
         "Planes",
         2676.72
        ],
        [
         1,
         "Planes",
         2182.44
        ],
        [
         1,
         "Planes",
         1611.4
        ],
        [
         2,
         "Planes",
         1479.84
        ],
        [
         2,
         "Planes",
         1424.22
        ],
        [
         1,
         "Classic Cars",
         5942.28
        ],
        [
         2,
         "Classic Cars",
         2348.75
        ],
        [
         3,
         "Classic Cars",
         4392.12
        ],
        [
         4,
         "Classic Cars",
         2759.75
        ],
        [
         4,
         "Classic Cars",
         2728.03
        ],
        [
         4,
         "Classic Cars",
         2395.8
        ],
        [
         4,
         "Classic Cars",
         3052.33
        ],
        [
         4,
         "Classic Cars",
         4242.0
        ],
        [
         1,
         "Classic Cars",
         2790.45
        ],
        [
         1,
         "Classic Cars",
         4340.49
        ],
        [
         2,
         "Classic Cars",
         2762.2
        ],
        [
         3,
         "Classic Cars",
         4645.72
        ],
        [
         3,
         "Classic Cars",
         5580.96
        ],
        [
         3,
         "Classic Cars",
         6539.04
        ],
        [
         4,
         "Classic Cars",
         5548.95
        ],
        [
         4,
         "Classic Cars",
         4595.41
        ],
        [
         4,
         "Classic Cars",
         1859.44
        ],
        [
         4,
         "Classic Cars",
         2093.76
        ],
        [
         1,
         "Classic Cars",
         4223.13
        ],
        [
         1,
         "Classic Cars",
         1596.76
        ],
        [
         2,
         "Classic Cars",
         5820.35
        ],
        [
         2,
         "Classic Cars",
         5296.5
        ],
        [
         1,
         "Classic Cars",
         930.9
        ],
        [
         2,
         "Classic Cars",
         1207.44
        ],
        [
         3,
         "Classic Cars",
         717.4
        ],
        [
         3,
         "Classic Cars",
         1066.75
        ],
        [
         4,
         "Classic Cars",
         1554.0
        ],
        [
         4,
         "Classic Cars",
         1277.64
        ],
        [
         4,
         "Classic Cars",
         1578.79
        ],
        [
         4,
         "Classic Cars",
         917.7
        ],
        [
         4,
         "Classic Cars",
         777.0
        ],
        [
         1,
         "Classic Cars",
         1476.28
        ],
        [
         1,
         "Classic Cars",
         1538.46
        ],
        [
         2,
         "Classic Cars",
         891.2
        ],
        [
         2,
         "Classic Cars",
         1706.8
        ],
        [
         3,
         "Classic Cars",
         1373.6
        ],
        [
         3,
         "Classic Cars",
         1205.59
        ],
        [
         3,
         "Classic Cars",
         1427.4
        ],
        [
         4,
         "Classic Cars",
         1649.28
        ],
        [
         4,
         "Classic Cars",
         1383.03
        ],
        [
         4,
         "Classic Cars",
         1229.51
        ],
        [
         4,
         "Classic Cars",
         1140.48
        ],
        [
         4,
         "Classic Cars",
         1575.6
        ],
        [
         4,
         "Classic Cars",
         1386.72
        ],
        [
         1,
         "Classic Cars",
         5018.4
        ],
        [
         1,
         "Classic Cars",
         5856.85
        ],
        [
         1,
         "Classic Cars",
         4894.73
        ],
        [
         2,
         "Classic Cars",
         2094.32
        ],
        [
         2,
         "Classic Cars",
         640.05
        ],
        [
         1,
         "Vintage Cars",
         3193.52
        ],
        [
         2,
         "Vintage Cars",
         3066.7
        ],
        [
         2,
         "Vintage Cars",
         3883.11
        ],
        [
         3,
         "Vintage Cars",
         4814.25
        ],
        [
         4,
         "Vintage Cars",
         2826.27
        ],
        [
         4,
         "Vintage Cars",
         1593.2
        ],
        [
         4,
         "Vintage Cars",
         3266.1
        ],
        [
         4,
         "Vintage Cars",
         2453.55
        ],
        [
         4,
         "Vintage Cars",
         3910.4
        ],
        [
         1,
         "Vintage Cars",
         1788.0
        ],
        [
         1,
         "Vintage Cars",
         3328.07
        ],
        [
         1,
         "Vintage Cars",
         3788.4
        ],
        [
         2,
         "Vintage Cars",
         3053.7
        ],
        [
         2,
         "Vintage Cars",
         2005.74
        ],
        [
         3,
         "Vintage Cars",
         2796.12
        ],
        [
         3,
         "Vintage Cars",
         3159.96
        ],
        [
         3,
         "Vintage Cars",
         3908.62
        ],
        [
         4,
         "Vintage Cars",
         2606.48
        ],
        [
         4,
         "Vintage Cars",
         2081.76
        ],
        [
         4,
         "Vintage Cars",
         3519.85
        ],
        [
         4,
         "Vintage Cars",
         10758.0
        ],
        [
         4,
         "Vintage Cars",
         3021.0
        ],
        [
         1,
         "Vintage Cars",
         1891.56
        ],
        [
         1,
         "Vintage Cars",
         4208.41
        ],
        [
         1,
         "Vintage Cars",
         2246.4
        ],
        [
         2,
         "Vintage Cars",
         6107.4
        ],
        [
         1,
         "Classic Cars",
         1987.74
        ],
        [
         2,
         "Classic Cars",
         4068.96
        ],
        [
         3,
         "Classic Cars",
         2282.22
        ],
        [
         4,
         "Classic Cars",
         1541.0
        ],
        [
         4,
         "Classic Cars",
         1951.92
        ],
        [
         4,
         "Classic Cars",
         3107.61
        ],
        [
         4,
         "Classic Cars",
         2328.64
        ],
        [
         4,
         "Classic Cars",
         3184.8
        ],
        [
         1,
         "Classic Cars",
         2149.74
        ],
        [
         1,
         "Classic Cars",
         3184.8
        ],
        [
         2,
         "Classic Cars",
         2114.58
        ],
        [
         3,
         "Classic Cars",
         4256.56
        ],
        [
         3,
         "Classic Cars",
         2344.98
        ],
        [
         3,
         "Classic Cars",
         2328.66
        ],
        [
         4,
         "Classic Cars",
         3575.04
        ],
        [
         4,
         "Classic Cars",
         2076.0
        ],
        [
         4,
         "Classic Cars",
         3305.25
        ],
        [
         4,
         "Classic Cars",
         1538.55
        ],
        [
         4,
         "Classic Cars",
         3325.92
        ],
        [
         1,
         "Classic Cars",
         3662.52
        ],
        [
         1,
         "Classic Cars",
         3478.64
        ],
        [
         2,
         "Classic Cars",
         1057.29
        ],
        [
         2,
         "Classic Cars",
         3385.9
        ],
        [
         1,
         "Classic Cars",
         1892.1
        ],
        [
         2,
         "Classic Cars",
         1707.14
        ],
        [
         3,
         "Classic Cars",
         1785.51
        ],
        [
         3,
         "Classic Cars",
         2057.4
        ],
        [
         4,
         "Classic Cars",
         3490.0
        ],
        [
         4,
         "Classic Cars",
         1707.14
        ],
        [
         4,
         "Classic Cars",
         1506.96
        ],
        [
         4,
         "Classic Cars",
         2880.48
        ],
        [
         4,
         "Classic Cars",
         2206.6
        ],
        [
         1,
         "Classic Cars",
         2351.04
        ],
        [
         1,
         "Classic Cars",
         1205.04
        ],
        [
         2,
         "Classic Cars",
         2935.15
        ],
        [
         2,
         "Classic Cars",
         1263.84
        ],
        [
         3,
         "Classic Cars",
         2935.15
        ],
        [
         3,
         "Classic Cars",
         1224.6
        ],
        [
         3,
         "Classic Cars",
         1359.4
        ],
        [
         4,
         "Classic Cars",
         1822.18
        ],
        [
         4,
         "Classic Cars",
         2163.72
        ],
        [
         4,
         "Classic Cars",
         1591.98
        ],
        [
         4,
         "Classic Cars",
         3078.5
        ],
        [
         4,
         "Classic Cars",
         2997.6
        ],
        [
         4,
         "Classic Cars",
         2747.8
        ],
        [
         1,
         "Classic Cars",
         2447.76
        ],
        [
         1,
         "Classic Cars",
         1910.84
        ],
        [
         1,
         "Classic Cars",
         2430.64
        ],
        [
         2,
         "Classic Cars",
         2896.3
        ],
        [
         1,
         "Vintage Cars",
         1630.6
        ],
        [
         2,
         "Vintage Cars",
         1459.6
        ],
        [
         2,
         "Vintage Cars",
         1716.22
        ],
        [
         3,
         "Vintage Cars",
         2560.47
        ],
        [
         4,
         "Vintage Cars",
         1900.26
        ],
        [
         4,
         "Vintage Cars",
         2019.84
        ],
        [
         4,
         "Vintage Cars",
         1988.28
        ],
        [
         4,
         "Vintage Cars",
         1449.84
        ],
        [
         4,
         "Vintage Cars",
         1935.09
        ],
        [
         1,
         "Vintage Cars",
         2793.24
        ],
        [
         1,
         "Vintage Cars",
         3025.05
        ],
        [
         2,
         "Vintage Cars",
         1742.5
        ],
        [
         2,
         "Vintage Cars",
         3236.1
        ],
        [
         3,
         "Vintage Cars",
         1735.92
        ],
        [
         3,
         "Vintage Cars",
         2795.13
        ],
        [
         3,
         "Vintage Cars",
         1671.52
        ],
        [
         4,
         "Vintage Cars",
         1576.74
        ],
        [
         4,
         "Vintage Cars",
         3615.71
        ],
        [
         4,
         "Vintage Cars",
         1459.6
        ],
        [
         4,
         "Vintage Cars",
         2891.01
        ],
        [
         4,
         "Vintage Cars",
         2598.44
        ],
        [
         4,
         "Vintage Cars",
         3871.92
        ],
        [
         1,
         "Vintage Cars",
         3036.0
        ],
        [
         1,
         "Vintage Cars",
         2231.6
        ],
        [
         1,
         "Vintage Cars",
         2436.78
        ],
        [
         2,
         "Vintage Cars",
         2173.6
        ],
        [
         2,
         "Vintage Cars",
         1254.6
        ],
        [
         1,
         "Classic Cars",
         3724.42
        ],
        [
         2,
         "Classic Cars",
         5203.0
        ],
        [
         3,
         "Classic Cars",
         3469.5
        ],
        [
         4,
         "Classic Cars",
         3148.2
        ],
        [
         4,
         "Classic Cars",
         2167.22
        ],
        [
         4,
         "Classic Cars",
         6244.07
        ],
        [
         4,
         "Classic Cars",
         5566.0
        ],
        [
         4,
         "Classic Cars",
         4368.96
        ],
        [
         1,
         "Classic Cars",
         4039.26
        ],
        [
         1,
         "Classic Cars",
         4420.32
        ],
        [
         2,
         "Classic Cars",
         2341.71
        ],
        [
         3,
         "Classic Cars",
         5110.98
        ],
        [
         3,
         "Classic Cars",
         6168.0
        ],
        [
         3,
         "Classic Cars",
         4873.26
        ],
        [
         4,
         "Classic Cars",
         2120.14
        ],
        [
         4,
         "Classic Cars",
         4236.14
        ],
        [
         4,
         "Classic Cars",
         1888.95
        ],
        [
         4,
         "Classic Cars",
         1152.58
        ],
        [
         4,
         "Classic Cars",
         2492.88
        ],
        [
         1,
         "Classic Cars",
         1991.6
        ],
        [
         1,
         "Classic Cars",
         3953.18
        ],
        [
         2,
         "Classic Cars",
         3729.39
        ],
        [
         2,
         "Classic Cars",
         2617.16
        ],
        [
         1,
         "Vintage Cars",
         3983.5
        ],
        [
         2,
         "Vintage Cars",
         3169.95
        ],
        [
         2,
         "Vintage Cars",
         3899.5
        ],
        [
         3,
         "Vintage Cars",
         1851.73
        ],
        [
         4,
         "Vintage Cars",
         2513.41
        ],
        [
         4,
         "Vintage Cars",
         2431.94
        ],
        [
         4,
         "Vintage Cars",
         1514.52
        ],
        [
         4,
         "Vintage Cars",
         3079.44
        ],
        [
         4,
         "Vintage Cars",
         1900.36
        ],
        [
         1,
         "Vintage Cars",
         1974.06
        ],
        [
         1,
         "Vintage Cars",
         3703.46
        ],
        [
         2,
         "Vintage Cars",
         1755.13
        ],
        [
         2,
         "Vintage Cars",
         4273.29
        ],
        [
         3,
         "Vintage Cars",
         3984.96
        ],
        [
         3,
         "Vintage Cars",
         2407.68
        ],
        [
         3,
         "Vintage Cars",
         1697.3
        ],
        [
         4,
         "Vintage Cars",
         2011.02
        ],
        [
         4,
         "Vintage Cars",
         2306.25
        ],
        [
         4,
         "Vintage Cars",
         1845.0
        ],
        [
         4,
         "Vintage Cars",
         2493.12
        ],
        [
         4,
         "Vintage Cars",
         1508.5
        ],
        [
         1,
         "Vintage Cars",
         2394.3
        ],
        [
         1,
         "Vintage Cars",
         3164.98
        ],
        [
         1,
         "Vintage Cars",
         3351.09
        ],
        [
         2,
         "Vintage Cars",
         3064.32
        ],
        [
         2,
         "Vintage Cars",
         3891.81
        ],
        [
         1,
         "Classic Cars",
         5448.8
        ],
        [
         2,
         "Classic Cars",
         5494.97
        ],
        [
         3,
         "Classic Cars",
         6336.07
        ],
        [
         3,
         "Classic Cars",
         2906.97
        ],
        [
         4,
         "Classic Cars",
         4767.7
        ],
        [
         4,
         "Classic Cars",
         3819.56
        ],
        [
         4,
         "Classic Cars",
         3861.75
        ],
        [
         4,
         "Classic Cars",
         6319.35
        ],
        [
         4,
         "Classic Cars",
         6996.42
        ],
        [
         1,
         "Classic Cars",
         6949.67
        ],
        [
         1,
         "Classic Cars",
         4550.0
        ],
        [
         2,
         "Classic Cars",
         4479.63
        ],
        [
         2,
         "Classic Cars",
         5148.0
        ],
        [
         3,
         "Classic Cars",
         2932.08
        ],
        [
         3,
         "Classic Cars",
         3159.75
        ],
        [
         3,
         "Classic Cars",
         4297.32
        ],
        [
         4,
         "Classic Cars",
         7723.5
        ],
        [
         4,
         "Classic Cars",
         5497.65
        ],
        [
         4,
         "Classic Cars",
         4052.88
        ],
        [
         4,
         "Classic Cars",
         3135.93
        ],
        [
         4,
         "Classic Cars",
         5013.54
        ],
        [
         4,
         "Classic Cars",
         5302.72
        ],
        [
         1,
         "Classic Cars",
         2931.98
        ],
        [
         1,
         "Classic Cars",
         1757.91
        ],
        [
         1,
         "Classic Cars",
         6763.05
        ],
        [
         2,
         "Classic Cars",
         11739.7
        ],
        [
         2,
         "Classic Cars",
         9240.0
        ],
        [
         1,
         "Planes",
         3241.5
        ],
        [
         2,
         "Planes",
         1968.12
        ],
        [
         2,
         "Planes",
         4094.5
        ],
        [
         3,
         "Planes",
         1853.32
        ],
        [
         4,
         "Planes",
         3392.84
        ],
        [
         4,
         "Planes",
         1971.54
        ],
        [
         4,
         "Planes",
         2169.9
        ],
        [
         4,
         "Planes",
         2846.17
        ],
        [
         1,
         "Planes",
         2018.4
        ],
        [
         1,
         "Planes",
         2718.72
        ],
        [
         2,
         "Planes",
         1981.65
        ],
        [
         2,
         "Planes",
         3002.4
        ],
        [
         2,
         "Planes",
         2948.16
        ],
        [
         3,
         "Planes",
         3357.49
        ],
        [
         3,
         "Planes",
         1175.16
        ],
        [
         3,
         "Planes",
         2292.8
        ],
        [
         4,
         "Planes",
         3286.49
        ],
        [
         4,
         "Planes",
         2333.7
        ],
        [
         4,
         "Planes",
         2675.05
        ],
        [
         4,
         "Planes",
         4361.4
        ],
        [
         4,
         "Planes",
         2018.58
        ],
        [
         4,
         "Planes",
         3710.98
        ],
        [
         1,
         "Planes",
         2847.0
        ],
        [
         1,
         "Planes",
         3006.12
        ],
        [
         1,
         "Planes",
         2797.84
        ],
        [
         2,
         "Planes",
         3843.2
        ],
        [
         2,
         "Planes",
         1351.08
        ],
        [
         1,
         "Vintage Cars",
         1689.03
        ],
        [
         1,
         "Vintage Cars",
         1654.56
        ],
        [
         2,
         "Vintage Cars",
         1528.58
        ],
        [
         3,
         "Vintage Cars",
         1013.48
        ],
        [
         4,
         "Vintage Cars",
         1442.26
        ],
        [
         4,
         "Vintage Cars",
         1163.05
        ],
        [
         4,
         "Vintage Cars",
         971.98
        ],
        [
         4,
         "Vintage Cars",
         902.66
        ],
        [
         4,
         "Vintage Cars",
         1295.97
        ],
        [
         1,
         "Vintage Cars",
         1534.72
        ],
        [
         1,
         "Vintage Cars",
         1185.3
        ],
        [
         2,
         "Vintage Cars",
         1698.78
        ],
        [
         3,
         "Vintage Cars",
         1381.05
        ],
        [
         3,
         "Vintage Cars",
         1340.46
        ],
        [
         4,
         "Vintage Cars",
         965.04
        ],
        [
         4,
         "Vintage Cars",
         1093.99
        ],
        [
         4,
         "Vintage Cars",
         3166.84
        ],
        [
         4,
         "Vintage Cars",
         2143.68
        ],
        [
         1,
         "Vintage Cars",
         1717.64
        ],
        [
         1,
         "Vintage Cars",
         4086.29
        ],
        [
         2,
         "Vintage Cars",
         553.95
        ],
        [
         2,
         "Vintage Cars",
         652.35
        ],
        [
         1,
         "Classic Cars",
         2921.62
        ],
        [
         2,
         "Classic Cars",
         5568.64
        ],
        [
         2,
         "Classic Cars",
         1939.8
        ],
        [
         3,
         "Classic Cars",
         3784.8
        ],
        [
         3,
         "Classic Cars",
         2802.09
        ],
        [
         4,
         "Classic Cars",
         2384.64
        ],
        [
         4,
         "Classic Cars",
         2915.66
        ],
        [
         4,
         "Classic Cars",
         5795.72
        ],
        [
         4,
         "Classic Cars",
         3699.88
        ],
        [
         4,
         "Classic Cars",
         2980.6
        ],
        [
         1,
         "Classic Cars",
         5032.74
        ],
        [
         1,
         "Classic Cars",
         4737.15
        ],
        [
         2,
         "Classic Cars",
         6311.2
        ],
        [
         3,
         "Classic Cars",
         3070.54
        ],
        [
         3,
         "Classic Cars",
         4797.39
        ],
        [
         3,
         "Classic Cars",
         3832.38
        ],
        [
         4,
         "Classic Cars",
         4641.48
        ],
        [
         4,
         "Classic Cars",
         4000.26
        ],
        [
         4,
         "Classic Cars",
         5325.76
        ],
        [
         4,
         "Classic Cars",
         4618.69
        ],
        [
         4,
         "Classic Cars",
         3182.97
        ],
        [
         4,
         "Classic Cars",
         2603.04
        ],
        [
         1,
         "Classic Cars",
         1408.96
        ],
        [
         1,
         "Classic Cars",
         1972.11
        ],
        [
         1,
         "Classic Cars",
         5207.75
        ],
        [
         2,
         "Classic Cars",
         4253.2
        ],
        [
         1,
         "Vintage Cars",
         2873.0
        ],
        [
         1,
         "Vintage Cars",
         2253.68
        ],
        [
         2,
         "Vintage Cars",
         3576.12
        ],
        [
         3,
         "Vintage Cars",
         3276.13
        ],
        [
         3,
         "Vintage Cars",
         1811.4
        ],
        [
         4,
         "Vintage Cars",
         3845.1
        ],
        [
         4,
         "Vintage Cars",
         2571.14
        ],
        [
         4,
         "Vintage Cars",
         5035.11
        ],
        [
         4,
         "Vintage Cars",
         2279.0
        ],
        [
         4,
         "Vintage Cars",
         3213.87
        ],
        [
         1,
         "Vintage Cars",
         3532.23
        ],
        [
         1,
         "Vintage Cars",
         3406.59
        ],
        [
         2,
         "Vintage Cars",
         3467.2
        ],
        [
         2,
         "Vintage Cars",
         3628.94
        ],
        [
         3,
         "Vintage Cars",
         4674.72
        ],
        [
         3,
         "Vintage Cars",
         1656.69
        ],
        [
         3,
         "Vintage Cars",
         5171.4
        ],
        [
         4,
         "Vintage Cars",
         3342.57
        ],
        [
         4,
         "Vintage Cars",
         4884.88
        ],
        [
         4,
         "Vintage Cars",
         6267.69
        ],
        [
         4,
         "Vintage Cars",
         4424.16
        ],
        [
         4,
         "Vintage Cars",
         1962.09
        ],
        [
         4,
         "Vintage Cars",
         6847.0
        ],
        [
         1,
         "Vintage Cars",
         3476.8
        ],
        [
         1,
         "Vintage Cars",
         4592.61
        ],
        [
         2,
         "Vintage Cars",
         2208.92
        ],
        [
         1,
         "Planes",
         1657.76
        ],
        [
         2,
         "Planes",
         2479.21
        ],
        [
         2,
         "Planes",
         3565.92
        ],
        [
         3,
         "Planes",
         2797.41
        ],
        [
         4,
         "Planes",
         3756.0
        ],
        [
         1,
         "Planes",
         2840.0
        ],
        [
         1,
         "Planes",
         1716.26
        ],
        [
         2,
         "Planes",
         3245.6
        ],
        [
         2,
         "Planes",
         2760.94
        ],
        [
         2,
         "Planes",
         1808.4
        ],
        [
         3,
         "Planes",
         1682.37
        ],
        [
         3,
         "Planes",
         1491.0
        ],
        [
         3,
         "Planes",
         1666.35
        ],
        [
         4,
         "Planes",
         3666.08
        ],
        [
         4,
         "Planes",
         2916.2
        ],
        [
         4,
         "Planes",
         2616.98
        ],
        [
         4,
         "Planes",
         3390.8
        ],
        [
         4,
         "Planes",
         3146.5
        ],
        [
         4,
         "Planes",
         1561.5
        ],
        [
         1,
         "Planes",
         10039.6
        ],
        [
         1,
         "Planes",
         3167.0
        ],
        [
         1,
         "Planes",
         3521.25
        ],
        [
         2,
         "Planes",
         4219.28
        ],
        [
         2,
         "Planes",
         3581.76
        ],
        [
         1,
         "Classic Cars",
         2130.01
        ],
        [
         2,
         "Classic Cars",
         2063.06
        ],
        [
         3,
         "Classic Cars",
         2008.13
        ],
        [
         3,
         "Classic Cars",
         2004.77
        ],
        [
         4,
         "Classic Cars",
         1543.3
        ],
        [
         4,
         "Classic Cars",
         2269.92
        ],
        [
         4,
         "Classic Cars",
         1991.92
        ],
        [
         4,
         "Classic Cars",
         2916.76
        ],
        [
         1,
         "Classic Cars",
         2027.52
        ],
        [
         1,
         "Classic Cars",
         3235.18
        ],
        [
         2,
         "Classic Cars",
         2062.94
        ],
        [
         2,
         "Classic Cars",
         3317.78
        ],
        [
         2,
         "Classic Cars",
         3913.69
        ],
        [
         3,
         "Classic Cars",
         3608.64
        ],
        [
         3,
         "Classic Cars",
         3524.8
        ],
        [
         3,
         "Classic Cars",
         2586.88
        ],
        [
         4,
         "Classic Cars",
         4753.49
        ],
        [
         4,
         "Classic Cars",
         3684.67
        ],
        [
         4,
         "Classic Cars",
         5715.4
        ],
        [
         4,
         "Classic Cars",
         3098.7
        ],
        [
         4,
         "Classic Cars",
         2670.92
        ],
        [
         1,
         "Classic Cars",
         5154.41
        ],
        [
         1,
         "Classic Cars",
         4894.17
        ],
        [
         1,
         "Classic Cars",
         2472.6
        ],
        [
         1,
         "Trucks and Buses",
         3224.31
        ],
        [
         2,
         "Trucks and Buses",
         3667.52
        ],
        [
         2,
         "Trucks and Buses",
         4141.33
        ],
        [
         3,
         "Trucks and Buses",
         2829.58
        ],
        [
         3,
         "Trucks and Buses",
         3068.55
        ],
        [
         4,
         "Trucks and Buses",
         2634.96
        ],
        [
         4,
         "Trucks and Buses",
         2436.72
        ],
        [
         4,
         "Trucks and Buses",
         4607.36
        ],
        [
         4,
         "Trucks and Buses",
         3598.99
        ],
        [
         4,
         "Trucks and Buses",
         3964.1
        ],
        [
         1,
         "Trucks and Buses",
         2244.9
        ],
        [
         1,
         "Trucks and Buses",
         2793.0
        ],
        [
         2,
         "Trucks and Buses",
         4133.64
        ],
        [
         2,
         "Trucks and Buses",
         3900.6
        ],
        [
         3,
         "Trucks and Buses",
         2743.04
        ],
        [
         3,
         "Trucks and Buses",
         2402.07
        ],
        [
         3,
         "Trucks and Buses",
         2178.54
        ],
        [
         4,
         "Trucks and Buses",
         3155.04
        ],
        [
         4,
         "Trucks and Buses",
         2366.28
        ],
        [
         4,
         "Trucks and Buses",
         1963.6
        ],
        [
         4,
         "Trucks and Buses",
         4746.28
        ],
        [
         4,
         "Trucks and Buses",
         6386.94
        ],
        [
         4,
         "Trucks and Buses",
         4428.0
        ],
        [
         1,
         "Trucks and Buses",
         4044.04
        ],
        [
         1,
         "Trucks and Buses",
         2708.42
        ],
        [
         2,
         "Trucks and Buses",
         2904.72
        ],
        [
         2,
         "Trucks and Buses",
         3553.88
        ],
        [
         1,
         "Motorcycles",
         1858.0
        ],
        [
         2,
         "Motorcycles",
         2461.36
        ],
        [
         2,
         "Motorcycles",
         2642.01
        ],
        [
         3,
         "Motorcycles",
         3098.7
        ],
        [
         4,
         "Motorcycles",
         3244.36
        ],
        [
         4,
         "Motorcycles",
         4351.16
        ],
        [
         1,
         "Motorcycles",
         3675.86
        ],
        [
         1,
         "Motorcycles",
         2475.27
        ],
        [
         2,
         "Motorcycles",
         4177.49
        ],
        [
         2,
         "Motorcycles",
         3282.28
        ],
        [
         2,
         "Motorcycles",
         2477.21
        ],
        [
         3,
         "Motorcycles",
         1883.93
        ],
        [
         3,
         "Motorcycles",
         3658.93
        ],
        [
         3,
         "Motorcycles",
         2856.88
        ],
        [
         4,
         "Motorcycles",
         1917.84
        ],
        [
         4,
         "Motorcycles",
         5305.36
        ],
        [
         4,
         "Motorcycles",
         2875.95
        ],
        [
         4,
         "Motorcycles",
         6482.85
        ],
        [
         4,
         "Motorcycles",
         3733.82
        ],
        [
         1,
         "Motorcycles",
         6576.5
        ],
        [
         1,
         "Motorcycles",
         6353.27
        ],
        [
         1,
         "Motorcycles",
         4175.6
        ],
        [
         2,
         "Motorcycles",
         4992.61
        ],
        [
         2,
         "Motorcycles",
         4764.6
        ],
        [
         1,
         "Motorcycles",
         1173.15
        ],
        [
         2,
         "Motorcycles",
         1384.46
        ],
        [
         3,
         "Motorcycles",
         1327.59
        ],
        [
         3,
         "Motorcycles",
         1109.8
        ],
        [
         4,
         "Motorcycles",
         1239.0
        ],
        [
         4,
         "Motorcycles",
         1035.58
        ],
        [
         4,
         "Motorcycles",
         1545.64
        ],
        [
         4,
         "Motorcycles",
         1517.54
        ],
        [
         1,
         "Motorcycles",
         1731.84
        ],
        [
         1,
         "Motorcycles",
         1695.49
        ],
        [
         2,
         "Motorcycles",
         1045.98
        ],
        [
         2,
         "Motorcycles",
         1738.08
        ],
        [
         2,
         "Motorcycles",
         651.8
        ],
        [
         3,
         "Motorcycles",
         988.47
        ],
        [
         3,
         "Motorcycles",
         1518.11
        ],
        [
         3,
         "Motorcycles",
         1013.76
        ],
        [
         4,
         "Motorcycles",
         1549.8
        ],
        [
         4,
         "Motorcycles",
         1108.38
        ],
        [
         4,
         "Motorcycles",
         4102.56
        ],
        [
         4,
         "Motorcycles",
         3713.16
        ],
        [
         4,
         "Motorcycles",
         1513.54
        ],
        [
         1,
         "Motorcycles",
         2317.44
        ],
        [
         1,
         "Motorcycles",
         3298.4
        ],
        [
         1,
         "Motorcycles",
         1826.96
        ],
        [
         2,
         "Motorcycles",
         1206.9
        ],
        [
         1,
         "Trucks and Buses",
         1666.7
        ],
        [
         2,
         "Trucks and Buses",
         1560.44
        ],
        [
         2,
         "Trucks and Buses",
         2337.75
        ],
        [
         3,
         "Trucks and Buses",
         1103.76
        ],
        [
         3,
         "Trucks and Buses",
         2617.85
        ],
        [
         4,
         "Trucks and Buses",
         2207.52
        ],
        [
         4,
         "Trucks and Buses",
         3165.5
        ],
        [
         4,
         "Trucks and Buses",
         2071.41
        ],
        [
         4,
         "Trucks and Buses",
         1385.28
        ],
        [
         4,
         "Trucks and Buses",
         1621.62
        ],
        [
         1,
         "Trucks and Buses",
         1931.65
        ],
        [
         1,
         "Trucks and Buses",
         1244.53
        ],
        [
         2,
         "Trucks and Buses",
         1704.5
        ],
        [
         2,
         "Trucks and Buses",
         1753.2
        ],
        [
         3,
         "Trucks and Buses",
         1666.7
        ],
        [
         3,
         "Trucks and Buses",
         1710.89
        ],
        [
         3,
         "Trucks and Buses",
         2326.5
        ],
        [
         4,
         "Trucks and Buses",
         2316.0
        ],
        [
         4,
         "Trucks and Buses",
         1727.1
        ],
        [
         4,
         "Trucks and Buses",
         8844.12
        ],
        [
         4,
         "Trucks and Buses",
         2424.0
        ],
        [
         4,
         "Trucks and Buses",
         1535.49
        ],
        [
         4,
         "Trucks and Buses",
         6358.68
        ],
        [
         1,
         "Trucks and Buses",
         1329.4
        ],
        [
         1,
         "Trucks and Buses",
         1701.76
        ],
        [
         1,
         "Trucks and Buses",
         2259.72
        ],
        [
         2,
         "Trucks and Buses",
         925.3
        ],
        [
         2,
         "Trucks and Buses",
         482.13
        ],
        [
         1,
         "Trains",
         3227.63
        ],
        [
         2,
         "Trains",
         1711.26
        ],
        [
         2,
         "Trains",
         2054.36
        ],
        [
         3,
         "Trains",
         3131.94
        ],
        [
         3,
         "Trains",
         1681.35
        ],
        [
         4,
         "Trains",
         2351.36
        ],
        [
         4,
         "Trains",
         1408.0
        ],
        [
         4,
         "Trains",
         2445.6
        ],
        [
         4,
         "Trains",
         1804.44
        ],
        [
         4,
         "Trains",
         2544.75
        ],
        [
         1,
         "Trains",
         1056.4
        ],
        [
         1,
         "Trains",
         2801.4
        ],
        [
         2,
         "Trains",
         1988.4
        ],
        [
         3,
         "Trains",
         2908.35
        ],
        [
         3,
         "Trains",
         2147.4
        ],
        [
         3,
         "Trains",
         2099.63
        ],
        [
         4,
         "Trains",
         2315.18
        ],
        [
         4,
         "Trains",
         2327.15
        ],
        [
         4,
         "Trains",
         5377.4
        ],
        [
         4,
         "Trains",
         2626.01
        ],
        [
         4,
         "Trains",
         4406.4
        ],
        [
         4,
         "Trains",
         4301.22
        ],
        [
         1,
         "Trains",
         2986.5
        ],
        [
         1,
         "Trains",
         1587.08
        ],
        [
         1,
         "Trains",
         1808.4
        ],
        [
         2,
         "Trains",
         1193.04
        ],
        [
         1,
         "Trucks and Buses",
         3403.35
        ],
        [
         1,
         "Trucks and Buses",
         1575.96
        ],
        [
         2,
         "Trucks and Buses",
         1630.2
        ],
        [
         3,
         "Trucks and Buses",
         1701.28
        ],
        [
         3,
         "Trucks and Buses",
         2850.82
        ],
        [
         4,
         "Trucks and Buses",
         2692.06
        ],
        [
         4,
         "Trucks and Buses",
         2174.42
        ],
        [
         4,
         "Trucks and Buses",
         3167.36
        ],
        [
         4,
         "Trucks and Buses",
         2142.66
        ],
        [
         4,
         "Trucks and Buses",
         2117.52
        ],
        [
         1,
         "Trucks and Buses",
         2419.95
        ],
        [
         1,
         "Trucks and Buses",
         2191.2
        ],
        [
         2,
         "Trucks and Buses",
         3043.04
        ],
        [
         2,
         "Trucks and Buses",
         1228.2
        ],
        [
         3,
         "Trucks and Buses",
         1330.35
        ],
        [
         3,
         "Trucks and Buses",
         2792.52
        ],
        [
         3,
         "Trucks and Buses",
         2296.0
        ],
        [
         4,
         "Trucks and Buses",
         2629.44
        ],
        [
         4,
         "Trucks and Buses",
         1912.16
        ],
        [
         4,
         "Trucks and Buses",
         8209.44
        ],
        [
         4,
         "Trucks and Buses",
         2431.77
        ],
        [
         4,
         "Trucks and Buses",
         3139.99
        ],
        [
         4,
         "Trucks and Buses",
         5669.64
        ],
        [
         1,
         "Trucks and Buses",
         3160.25
        ],
        [
         1,
         "Trucks and Buses",
         6799.68
        ],
        [
         2,
         "Trucks and Buses",
         1867.32
        ],
        [
         2,
         "Trucks and Buses",
         2702.04
        ],
        [
         1,
         "Vintage Cars",
         2406.36
        ],
        [
         2,
         "Vintage Cars",
         2094.67
        ],
        [
         2,
         "Vintage Cars",
         2797.9
        ],
        [
         3,
         "Vintage Cars",
         1637.2
        ],
        [
         4,
         "Vintage Cars",
         2281.91
        ],
        [
         1,
         "Vintage Cars",
         2307.24
        ],
        [
         1,
         "Vintage Cars",
         1320.8
        ],
        [
         2,
         "Vintage Cars",
         2642.82
        ],
        [
         2,
         "Vintage Cars",
         3061.0
        ],
        [
         2,
         "Vintage Cars",
         3164.4
        ],
        [
         3,
         "Vintage Cars",
         1791.16
        ],
        [
         3,
         "Vintage Cars",
         4093.0
        ],
        [
         3,
         "Vintage Cars",
         2234.4
        ],
        [
         4,
         "Vintage Cars",
         3037.84
        ],
        [
         4,
         "Vintage Cars",
         1419.84
        ],
        [
         4,
         "Vintage Cars",
         1948.08
        ],
        [
         4,
         "Vintage Cars",
         2307.24
        ],
        [
         4,
         "Vintage Cars",
         1780.4
        ],
        [
         4,
         "Vintage Cars",
         3544.17
        ],
        [
         1,
         "Vintage Cars",
         3619.44
        ],
        [
         1,
         "Vintage Cars",
         3918.95
        ],
        [
         1,
         "Vintage Cars",
         1483.02
        ],
        [
         2,
         "Vintage Cars",
         4819.26
        ],
        [
         2,
         "Vintage Cars",
         1591.72
        ],
        [
         1,
         "Motorcycles",
         3669.78
        ],
        [
         2,
         "Motorcycles",
         2168.5
        ],
        [
         3,
         "Motorcycles",
         2694.0
        ],
        [
         3,
         "Motorcycles",
         3251.34
        ],
        [
         4,
         "Motorcycles",
         2347.15
        ],
        [
         4,
         "Motorcycles",
         3920.88
        ],
        [
         4,
         "Motorcycles",
         2514.6
        ],
        [
         4,
         "Motorcycles",
         3600.24
        ],
        [
         1,
         "Motorcycles",
         4040.03
        ],
        [
         1,
         "Motorcycles",
         3336.9
        ],
        [
         2,
         "Motorcycles",
         3113.64
        ],
        [
         2,
         "Motorcycles",
         2832.0
        ],
        [
         2,
         "Motorcycles",
         3330.98
        ],
        [
         3,
         "Motorcycles",
         4304.64
        ],
        [
         3,
         "Motorcycles",
         2600.26
        ],
        [
         3,
         "Motorcycles",
         4382.16
        ],
        [
         4,
         "Motorcycles",
         4235.0
        ],
        [
         4,
         "Motorcycles",
         2626.8
        ],
        [
         4,
         "Motorcycles",
         5026.56
        ],
        [
         4,
         "Motorcycles",
         2201.62
        ],
        [
         4,
         "Motorcycles",
         4326.8
        ],
        [
         1,
         "Motorcycles",
         3425.18
        ],
        [
         1,
         "Motorcycles",
         4701.88
        ],
        [
         1,
         "Motorcycles",
         2204.1
        ],
        [
         2,
         "Motorcycles",
         5189.4
        ],
        [
         1,
         "Vintage Cars",
         1565.85
        ],
        [
         2,
         "Vintage Cars",
         2480.38
        ],
        [
         2,
         "Vintage Cars",
         1355.13
        ],
        [
         3,
         "Vintage Cars",
         1246.44
        ],
        [
         4,
         "Vintage Cars",
         820.4
        ],
        [
         4,
         "Vintage Cars",
         2492.64
        ],
        [
         4,
         "Vintage Cars",
         1113.6
        ],
        [
         1,
         "Vintage Cars",
         1763.86
        ],
        [
         1,
         "Vintage Cars",
         1896.66
        ],
        [
         2,
         "Vintage Cars",
         1449.35
        ],
        [
         2,
         "Vintage Cars",
         1869.48
        ],
        [
         2,
         "Vintage Cars",
         1860.53
        ],
        [
         3,
         "Vintage Cars",
         1724.82
        ],
        [
         3,
         "Vintage Cars",
         1713.69
        ],
        [
         3,
         "Vintage Cars",
         1259.44
        ],
        [
         4,
         "Vintage Cars",
         2051.08
        ],
        [
         4,
         "Vintage Cars",
         1617.38
        ],
        [
         4,
         "Vintage Cars",
         1765.62
        ],
        [
         4,
         "Vintage Cars",
         2024.8
        ],
        [
         4,
         "Vintage Cars",
         3288.4
        ],
        [
         4,
         "Vintage Cars",
         2725.47
        ],
        [
         1,
         "Vintage Cars",
         3224.2
        ],
        [
         1,
         "Vintage Cars",
         3211.38
        ],
        [
         1,
         "Vintage Cars",
         1796.34
        ],
        [
         2,
         "Vintage Cars",
         1979.6
        ],
        [
         2,
         "Vintage Cars",
         1921.41
        ],
        [
         1,
         "Trucks and Buses",
         3705.24
        ],
        [
         2,
         "Trucks and Buses",
         2843.91
        ],
        [
         2,
         "Trucks and Buses",
         6176.42
        ],
        [
         3,
         "Trucks and Buses",
         5500.44
        ],
        [
         3,
         "Trucks and Buses",
         3220.1
        ],
        [
         4,
         "Trucks and Buses",
         4556.16
        ],
        [
         4,
         "Trucks and Buses",
         3114.89
        ],
        [
         4,
         "Trucks and Buses",
         4948.2
        ],
        [
         4,
         "Trucks and Buses",
         5161.17
        ],
        [
         4,
         "Trucks and Buses",
         2657.76
        ],
        [
         1,
         "Trucks and Buses",
         3983.05
        ],
        [
         1,
         "Trucks and Buses",
         3974.94
        ],
        [
         2,
         "Trucks and Buses",
         2928.42
        ],
        [
         2,
         "Trucks and Buses",
         3054.57
        ],
        [
         3,
         "Trucks and Buses",
         3345.26
        ],
        [
         3,
         "Trucks and Buses",
         4310.72
        ],
        [
         3,
         "Trucks and Buses",
         4983.14
        ],
        [
         4,
         "Trucks and Buses",
         4618.32
        ],
        [
         4,
         "Trucks and Buses",
         3403.12
        ],
        [
         4,
         "Trucks and Buses",
         5190.42
        ],
        [
         4,
         "Trucks and Buses",
         3141.57
        ],
        [
         4,
         "Trucks and Buses",
         2213.4
        ],
        [
         4,
         "Trucks and Buses",
         4896.7
        ],
        [
         1,
         "Trucks and Buses",
         2714.4
        ],
        [
         1,
         "Trucks and Buses",
         3087.05
        ],
        [
         1,
         "Trucks and Buses",
         5692.96
        ],
        [
         2,
         "Trucks and Buses",
         3460.86
        ],
        [
         2,
         "Trucks and Buses",
         1895.94
        ],
        [
         1,
         "Trains",
         1705.92
        ],
        [
         2,
         "Trains",
         1033.41
        ],
        [
         2,
         "Trains",
         3179.52
        ],
        [
         3,
         "Trains",
         2091.18
        ],
        [
         3,
         "Trains",
         1779.71
        ],
        [
         4,
         "Trains",
         2537.64
        ],
        [
         4,
         "Trains",
         2448.72
        ],
        [
         4,
         "Trains",
         972.4
        ],
        [
         4,
         "Trains",
         2856.14
        ],
        [
         1,
         "Trains",
         1968.3
        ],
        [
         1,
         "Trains",
         2056.2
        ],
        [
         1,
         "Trains",
         2242.02
        ],
        [
         2,
         "Trains",
         3128.65
        ],
        [
         3,
         "Trains",
         2443.26
        ],
        [
         3,
         "Trains",
         2470.86
        ],
        [
         3,
         "Trains",
         1927.45
        ],
        [
         4,
         "Trains",
         2051.56
        ],
        [
         4,
         "Trains",
         2337.38
        ],
        [
         4,
         "Trains",
         5932.96
        ],
        [
         4,
         "Trains",
         2296.77
        ],
        [
         4,
         "Trains",
         6490.88
        ],
        [
         4,
         "Trains",
         1623.25
        ],
        [
         1,
         "Trains",
         1405.92
        ],
        [
         1,
         "Trains",
         2282.28
        ],
        [
         1,
         "Trains",
         8977.05
        ],
        [
         2,
         "Trains",
         3256.35
        ],
        [
         1,
         "Motorcycles",
         2821.66
        ],
        [
         2,
         "Motorcycles",
         3293.4
        ],
        [
         3,
         "Motorcycles",
         4224.0
        ],
        [
         3,
         "Motorcycles",
         3091.68
        ],
        [
         4,
         "Motorcycles",
         2219.6
        ],
        [
         4,
         "Motorcycles",
         3866.4
        ],
        [
         4,
         "Motorcycles",
         1964.76
        ],
        [
         4,
         "Motorcycles",
         2668.8
        ],
        [
         1,
         "Motorcycles",
         3222.0
        ],
        [
         1,
         "Motorcycles",
         3864.5
        ],
        [
         2,
         "Motorcycles",
         1366.8
        ],
        [
         2,
         "Motorcycles",
         3475.68
        ],
        [
         2,
         "Motorcycles",
         4206.5
        ],
        [
         3,
         "Motorcycles",
         1486.38
        ],
        [
         3,
         "Motorcycles",
         3077.88
        ],
        [
         3,
         "Motorcycles",
         3544.2
        ],
        [
         4,
         "Motorcycles",
         2483.04
        ],
        [
         4,
         "Motorcycles",
         3478.05
        ],
        [
         4,
         "Motorcycles",
         3657.8
        ],
        [
         4,
         "Motorcycles",
         4682.36
        ],
        [
         4,
         "Motorcycles",
         3937.7
        ],
        [
         1,
         "Motorcycles",
         4984.32
        ],
        [
         1,
         "Motorcycles",
         5406.66
        ],
        [
         1,
         "Motorcycles",
         3491.18
        ],
        [
         2,
         "Motorcycles",
         2118.54
        ],
        [
         1,
         "Ships",
         2897.47
        ],
        [
         2,
         "Ships",
         1916.75
        ],
        [
         2,
         "Ships",
         1860.0
        ],
        [
         3,
         "Ships",
         2624.0
        ],
        [
         3,
         "Ships",
         2780.81
        ],
        [
         4,
         "Ships",
         3239.62
        ],
        [
         4,
         "Ships",
         1824.0
        ],
        [
         4,
         "Ships",
         1134.0
        ],
        [
         4,
         "Ships",
         1487.41
        ],
        [
         1,
         "Ships",
         2837.46
        ],
        [
         1,
         "Ships",
         1942.77
        ],
        [
         1,
         "Ships",
         2544.12
        ],
        [
         2,
         "Ships",
         2568.24
        ],
        [
         2,
         "Ships",
         2108.0
        ],
        [
         3,
         "Ships",
         1372.14
        ],
        [
         3,
         "Ships",
         3540.15
        ],
        [
         3,
         "Ships",
         1958.84
        ],
        [
         4,
         "Ships",
         2700.0
        ],
        [
         4,
         "Ships",
         2542.0
        ],
        [
         4,
         "Ships",
         2340.0
        ],
        [
         4,
         "Ships",
         2816.44
        ],
        [
         4,
         "Ships",
         3526.82
        ],
        [
         1,
         "Ships",
         4627.92
        ],
        [
         1,
         "Ships",
         1933.5
        ],
        [
         1,
         "Ships",
         2600.13
        ],
        [
         2,
         "Ships",
         2639.58
        ],
        [
         1,
         "Planes",
         3312.97
        ],
        [
         2,
         "Planes",
         3863.87
        ],
        [
         2,
         "Planes",
         1863.36
        ],
        [
         3,
         "Planes",
         3945.96
        ],
        [
         4,
         "Planes",
         4954.08
        ],
        [
         4,
         "Planes",
         2762.2
        ],
        [
         4,
         "Planes",
         3989.76
        ],
        [
         1,
         "Planes",
         1649.55
        ],
        [
         1,
         "Planes",
         2534.75
        ],
        [
         2,
         "Planes",
         2580.25
        ],
        [
         2,
         "Planes",
         2831.54
        ],
        [
         2,
         "Planes",
         3361.2
        ],
        [
         3,
         "Planes",
         2864.32
        ],
        [
         3,
         "Planes",
         1994.88
        ],
        [
         3,
         "Planes",
         4296.6
        ],
        [
         4,
         "Planes",
         2224.95
        ],
        [
         4,
         "Planes",
         2795.14
        ],
        [
         4,
         "Planes",
         2762.1
        ],
        [
         4,
         "Planes",
         2658.0
        ],
        [
         4,
         "Planes",
         5043.87
        ],
        [
         4,
         "Planes",
         1210.8
        ],
        [
         1,
         "Planes",
         3029.19
        ],
        [
         1,
         "Planes",
         10066.6
        ],
        [
         1,
         "Planes",
         4121.43
        ],
        [
         2,
         "Planes",
         1135.31
        ],
        [
         2,
         "Planes",
         2100.82
        ],
        [
         1,
         "Ships",
         2034.35
        ],
        [
         2,
         "Ships",
         3027.84
        ],
        [
         2,
         "Ships",
         3104.0
        ],
        [
         3,
         "Ships",
         3612.43
        ],
        [
         3,
         "Ships",
         2711.88
        ],
        [
         4,
         "Ships",
         3013.97
        ],
        [
         4,
         "Ships",
         2738.54
        ],
        [
         4,
         "Ships",
         2832.0
        ],
        [
         4,
         "Ships",
         4720.0
        ],
        [
         1,
         "Ships",
         3222.0
        ],
        [
         1,
         "Ships",
         2231.0
        ],
        [
         1,
         "Ships",
         2296.84
        ],
        [
         2,
         "Ships",
         4157.2
        ],
        [
         3,
         "Ships",
         2146.2
        ],
        [
         3,
         "Ships",
         3724.23
        ],
        [
         3,
         "Ships",
         2084.81
        ],
        [
         4,
         "Ships",
         3488.78
        ],
        [
         4,
         "Ships",
         1753.06
        ],
        [
         4,
         "Ships",
         3469.2
        ],
        [
         4,
         "Ships",
         2530.8
        ],
        [
         4,
         "Ships",
         2924.32
        ],
        [
         1,
         "Ships",
         4496.8
        ],
        [
         1,
         "Ships",
         6397.44
        ],
        [
         1,
         "Ships",
         2577.6
        ],
        [
         2,
         "Ships",
         3533.62
        ],
        [
         1,
         "Ships",
         3177.3
        ],
        [
         2,
         "Ships",
         2730.06
        ],
        [
         2,
         "Ships",
         1891.78
        ],
        [
         3,
         "Ships",
         2612.48
        ],
        [
         4,
         "Ships",
         2925.76
        ],
        [
         4,
         "Ships",
         2940.02
        ],
        [
         4,
         "Ships",
         3293.24
        ],
        [
         4,
         "Ships",
         2389.68
        ],
        [
         4,
         "Ships",
         2172.48
        ],
        [
         1,
         "Ships",
         2927.43
        ],
        [
         1,
         "Ships",
         2659.54
        ],
        [
         2,
         "Ships",
         3838.0
        ],
        [
         2,
         "Ships",
         4142.16
        ],
        [
         3,
         "Ships",
         2172.48
        ],
        [
         3,
         "Ships",
         1882.8
        ],
        [
         3,
         "Ships",
         3477.86
        ],
        [
         4,
         "Ships",
         3323.84
        ],
        [
         4,
         "Ships",
         4195.8
        ],
        [
         4,
         "Ships",
         4156.58
        ],
        [
         4,
         "Ships",
         3918.75
        ],
        [
         4,
         "Ships",
         2352.67
        ],
        [
         4,
         "Ships",
         1089.36
        ],
        [
         1,
         "Ships",
         2701.12
        ],
        [
         1,
         "Ships",
         2487.04
        ],
        [
         1,
         "Ships",
         3910.32
        ],
        [
         2,
         "Ships",
         4038.8
        ],
        [
         2,
         "Ships",
         3070.4
        ],
        [
         1,
         "Planes",
         3763.46
        ],
        [
         2,
         "Planes",
         2584.8
        ],
        [
         2,
         "Planes",
         4427.6
        ],
        [
         3,
         "Planes",
         2152.02
        ],
        [
         4,
         "Planes",
         2353.4
        ],
        [
         4,
         "Planes",
         3431.39
        ],
        [
         4,
         "Planes",
         1930.5
        ],
        [
         4,
         "Planes",
         4774.56
        ],
        [
         1,
         "Planes",
         2592.72
        ],
        [
         1,
         "Planes",
         3246.75
        ],
        [
         2,
         "Planes",
         3372.5
        ],
        [
         2,
         "Planes",
         3909.15
        ],
        [
         2,
         "Planes",
         2994.75
        ],
        [
         3,
         "Planes",
         4472.52
        ],
        [
         3,
         "Planes",
         4576.95
        ],
        [
         3,
         "Planes",
         2441.04
        ],
        [
         4,
         "Planes",
         3106.25
        ],
        [
         4,
         "Planes",
         2706.41
        ],
        [
         4,
         "Planes",
         4021.53
        ],
        [
         4,
         "Planes",
         4826.25
        ],
        [
         4,
         "Planes",
         4935.28
        ],
        [
         4,
         "Planes",
         2754.7
        ],
        [
         1,
         "Planes",
         3856.71
        ],
        [
         1,
         "Planes",
         3102.08
        ],
        [
         1,
         "Planes",
         1908.72
        ],
        [
         2,
         "Planes",
         7543.75
        ],
        [
         2,
         "Planes",
         2457.18
        ],
        [
         1,
         "Ships",
         2038.87
        ],
        [
         2,
         "Ships",
         2499.26
        ],
        [
         2,
         "Ships",
         3838.05
        ],
        [
         3,
         "Ships",
         2643.99
        ],
        [
         4,
         "Ships",
         2315.88
        ],
        [
         4,
         "Ships",
         3225.06
        ],
        [
         4,
         "Ships",
         2451.84
        ],
        [
         4,
         "Ships",
         2254.98
        ],
        [
         4,
         "Ships",
         3939.5
        ],
        [
         1,
         "Ships",
         3424.7
        ],
        [
         1,
         "Ships",
         2914.2
        ],
        [
         1,
         "Ships",
         2389.6
        ],
        [
         2,
         "Ships",
         2428.48
        ],
        [
         2,
         "Ships",
         3021.48
        ],
        [
         3,
         "Ships",
         2610.72
        ],
        [
         3,
         "Ships",
         3091.19
        ],
        [
         3,
         "Ships",
         2576.2
        ],
        [
         4,
         "Ships",
         3232.31
        ],
        [
         4,
         "Ships",
         3573.6
        ],
        [
         4,
         "Ships",
         2022.51
        ],
        [
         4,
         "Ships",
         3717.5
        ],
        [
         4,
         "Ships",
         2185.15
        ],
        [
         1,
         "Ships",
         2883.53
        ],
        [
         1,
         "Ships",
         5017.57
        ],
        [
         1,
         "Ships",
         1463.0
        ],
        [
         2,
         "Ships",
         2352.59
        ],
        [
         1,
         "Classic Cars",
         4460.82
        ],
        [
         2,
         "Classic Cars",
         4758.18
        ],
        [
         2,
         "Classic Cars",
         4597.2
        ],
        [
         3,
         "Classic Cars",
         4114.8
        ],
        [
         3,
         "Classic Cars",
         2104.0
        ],
        [
         4,
         "Classic Cars",
         3195.27
        ],
        [
         4,
         "Classic Cars",
         3611.16
        ],
        [
         4,
         "Classic Cars",
         2000.77
        ],
        [
         4,
         "Classic Cars",
         2314.26
        ],
        [
         4,
         "Classic Cars",
         3871.89
        ],
        [
         1,
         "Classic Cars",
         2728.0
        ],
        [
         1,
         "Classic Cars",
         5614.0
        ],
        [
         2,
         "Classic Cars",
         4628.8
        ],
        [
         2,
         "Classic Cars",
         3641.4
        ],
        [
         3,
         "Classic Cars",
         4048.0
        ],
        [
         3,
         "Classic Cars",
         2321.46
        ],
        [
         3,
         "Classic Cars",
         3256.96
        ],
        [
         4,
         "Classic Cars",
         4208.0
        ],
        [
         4,
         "Classic Cars",
         2973.9
        ],
        [
         4,
         "Classic Cars",
         4248.3
        ],
        [
         4,
         "Classic Cars",
         9558.8
        ],
        [
         4,
         "Classic Cars",
         2650.56
        ],
        [
         4,
         "Classic Cars",
         3761.37
        ],
        [
         1,
         "Classic Cars",
         4301.34
        ],
        [
         1,
         "Classic Cars",
         1864.56
        ],
        [
         2,
         "Classic Cars",
         3576.8
        ],
        [
         2,
         "Classic Cars",
         3722.32
        ],
        [
         1,
         "Planes",
         3986.56
        ],
        [
         2,
         "Planes",
         3417.12
        ],
        [
         2,
         "Planes",
         2691.09
        ],
        [
         3,
         "Planes",
         2752.6
        ],
        [
         4,
         "Planes",
         4527.72
        ],
        [
         4,
         "Planes",
         3957.05
        ],
        [
         1,
         "Planes",
         2818.0
        ],
        [
         1,
         "Planes",
         3199.86
        ],
        [
         2,
         "Planes",
         2402.75
        ],
        [
         2,
         "Planes",
         6055.72
        ],
        [
         2,
         "Planes",
         5465.16
        ],
        [
         3,
         "Planes",
         6378.72
        ],
        [
         3,
         "Planes",
         5392.8
        ],
        [
         3,
         "Planes",
         3986.5
        ],
        [
         4,
         "Planes",
         4009.23
        ],
        [
         4,
         "Planes",
         7119.0
        ],
        [
         4,
         "Planes",
         4072.2
        ],
        [
         4,
         "Planes",
         4094.51
        ],
        [
         4,
         "Planes",
         3302.4
        ],
        [
         4,
         "Planes",
         3186.48
        ],
        [
         1,
         "Planes",
         1668.25
        ],
        [
         1,
         "Planes",
         7154.5
        ],
        [
         1,
         "Planes",
         2810.83
        ],
        [
         2,
         "Planes",
         2018.31
        ],
        [
         2,
         "Planes",
         5642.83
        ],
        [
         1,
         "Planes",
         3273.6
        ],
        [
         2,
         "Planes",
         3268.0
        ],
        [
         3,
         "Planes",
         2688.0
        ],
        [
         4,
         "Planes",
         3715.2
        ],
        [
         4,
         "Planes",
         4608.0
        ],
        [
         4,
         "Planes",
         3131.2
        ],
        [
         1,
         "Planes",
         2678.4
        ],
        [
         1,
         "Planes",
         1747.2
        ],
        [
         2,
         "Planes",
         2944.0
        ],
        [
         2,
         "Planes",
         2956.8
        ],
        [
         2,
         "Planes",
         2052.0
        ],
        [
         3,
         "Planes",
         3164.8
        ],
        [
         3,
         "Planes",
         1740.0
        ],
        [
         3,
         "Planes",
         1777.6
        ],
        [
         4,
         "Planes",
         1831.2
        ],
        [
         4,
         "Planes",
         3609.6
        ],
        [
         4,
         "Planes",
         2112.0
        ],
        [
         4,
         "Planes",
         3644.12
        ],
        [
         4,
         "Planes",
         3523.85
        ],
        [
         4,
         "Planes",
         5001.92
        ],
        [
         1,
         "Planes",
         5208.72
        ],
        [
         1,
         "Planes",
         3018.88
        ],
        [
         1,
         "Planes",
         1902.4
        ],
        [
         2,
         "Planes",
         7084.0
        ],
        [
         2,
         "Planes",
         2620.8
        ],
        [
         1,
         "Ships",
         3164.46
        ],
        [
         2,
         "Ships",
         4219.2
        ],
        [
         2,
         "Ships",
         3828.3
        ],
        [
         3,
         "Ships",
         2334.99
        ],
        [
         3,
         "Ships",
         4407.5
        ],
        [
         4,
         "Ships",
         2812.8
        ],
        [
         4,
         "Ships",
         4055.04
        ],
        [
         4,
         "Ships",
         3891.66
        ],
        [
         4,
         "Ships",
         2488.32
        ],
        [
         1,
         "Ships",
         4447.4
        ],
        [
         1,
         "Ships",
         4187.22
        ],
        [
         1,
         "Ships",
         4615.68
        ],
        [
         2,
         "Ships",
         3245.4
        ],
        [
         2,
         "Ships",
         2203.75
        ],
        [
         3,
         "Ships",
         3446.0
        ],
        [
         3,
         "Ships",
         1939.3
        ],
        [
         3,
         "Ships",
         3473.78
        ],
        [
         4,
         "Ships",
         2884.8
        ],
        [
         4,
         "Ships",
         2670.65
        ],
        [
         4,
         "Ships",
         3440.0
        ],
        [
         4,
         "Ships",
         2770.78
        ],
        [
         4,
         "Ships",
         2397.54
        ],
        [
         1,
         "Ships",
         3275.56
        ],
        [
         1,
         "Ships",
         4143.6
        ],
        [
         1,
         "Ships",
         5192.64
        ],
        [
         2,
         "Ships",
         3029.04
        ],
        [
         1,
         "Ships",
         2556.18
        ],
        [
         2,
         "Ships",
         3753.9
        ],
        [
         2,
         "Ships",
         2562.3
        ],
        [
         3,
         "Ships",
         3245.58
        ],
        [
         3,
         "Ships",
         2204.6
        ],
        [
         4,
         "Ships",
         3003.0
        ],
        [
         4,
         "Ships",
         2526.48
        ],
        [
         4,
         "Ships",
         1747.9
        ],
        [
         4,
         "Ships",
         3267.25
        ],
        [
         1,
         "Ships",
         2818.53
        ],
        [
         1,
         "Ships",
         2955.54
        ],
        [
         1,
         "Ships",
         2885.05
        ],
        [
         2,
         "Ships",
         3162.95
        ],
        [
         2,
         "Ships",
         4071.5
        ],
        [
         3,
         "Ships",
         2969.46
        ],
        [
         3,
         "Ships",
         3396.44
        ],
        [
         3,
         "Ships",
         4692.6
        ],
        [
         4,
         "Ships",
         3515.7
        ],
        [
         4,
         "Ships",
         3380.69
        ],
        [
         4,
         "Ships",
         3204.57
        ],
        [
         4,
         "Ships",
         2588.04
        ],
        [
         4,
         "Ships",
         2854.75
        ],
        [
         1,
         "Ships",
         4025.6
        ],
        [
         1,
         "Ships",
         2864.4
        ],
        [
         1,
         "Ships",
         3789.72
        ],
        [
         2,
         "Ships",
         2439.99
        ],
        [
         1,
         "Planes",
         2949.12
        ],
        [
         2,
         "Planes",
         1539.72
        ],
        [
         2,
         "Planes",
         2213.38
        ],
        [
         3,
         "Planes",
         2919.58
        ],
        [
         4,
         "Planes",
         3778.28
        ],
        [
         4,
         "Planes",
         3233.49
        ],
        [
         4,
         "Planes",
         3431.25
        ],
        [
         4,
         "Planes",
         2546.8
        ],
        [
         1,
         "Planes",
         2953.86
        ],
        [
         1,
         "Planes",
         3183.29
        ],
        [
         2,
         "Planes",
         2466.7
        ],
        [
         2,
         "Planes",
         2363.22
        ],
        [
         2,
         "Planes",
         2487.45
        ],
        [
         3,
         "Planes",
         2249.05
        ],
        [
         3,
         "Planes",
         2061.12
        ],
        [
         3,
         "Planes",
         4071.14
        ],
        [
         4,
         "Planes",
         2656.29
        ],
        [
         4,
         "Planes",
         2736.36
        ],
        [
         4,
         "Planes",
         3348.93
        ],
        [
         4,
         "Planes",
         2893.0
        ],
        [
         4,
         "Planes",
         1661.22
        ],
        [
         4,
         "Planes",
         4277.35
        ],
        [
         1,
         "Planes",
         2502.9
        ],
        [
         1,
         "Planes",
         3801.6
        ],
        [
         1,
         "Planes",
         3144.96
        ],
        [
         2,
         "Planes",
         2031.4
        ],
        [
         2,
         "Planes",
         2674.17
        ],
        [
         1,
         "Planes",
         2526.72
        ],
        [
         2,
         "Planes",
         1348.76
        ],
        [
         2,
         "Planes",
         875.91
        ],
        [
         3,
         "Planes",
         1874.05
        ],
        [
         4,
         "Planes",
         1671.44
        ],
        [
         4,
         "Planes",
         1668.4
        ],
        [
         4,
         "Planes",
         2301.75
        ],
        [
         4,
         "Planes",
         1459.92
        ],
        [
         4,
         "Planes",
         1209.59
        ],
        [
         1,
         "Planes",
         2145.12
        ],
        [
         1,
         "Planes",
         1416.39
        ],
        [
         2,
         "Planes",
         1843.52
        ],
        [
         2,
         "Planes",
         1199.31
        ],
        [
         3,
         "Planes",
         1875.2
        ],
        [
         3,
         "Planes",
         2477.23
        ],
        [
         3,
         "Planes",
         948.99
        ],
        [
         4,
         "Planes",
         1823.42
        ],
        [
         4,
         "Planes",
         1485.8
        ],
        [
         4,
         "Planes",
         3789.72
        ],
        [
         4,
         "Planes",
         2060.37
        ],
        [
         4,
         "Planes",
         2579.36
        ],
        [
         4,
         "Planes",
         2189.6
        ],
        [
         1,
         "Planes",
         1624.25
        ],
        [
         1,
         "Planes",
         4357.5
        ],
        [
         1,
         "Planes",
         1367.48
        ],
        [
         2,
         "Planes",
         1122.4
        ],
        [
         2,
         "Planes",
         2419.62
        ],
        [
         1,
         "Ships",
         1419.5
        ],
        [
         2,
         "Ships",
         2184.0
        ],
        [
         2,
         "Ships",
         2079.04
        ],
        [
         3,
         "Ships",
         1724.97
        ],
        [
         3,
         "Ships",
         3003.0
        ],
        [
         4,
         "Ships",
         1846.42
        ],
        [
         4,
         "Ships",
         2009.2
        ],
        [
         4,
         "Ships",
         1804.04
        ],
        [
         4,
         "Ships",
         2109.66
        ],
        [
         1,
         "Ships",
         2682.96
        ],
        [
         1,
         "Ships",
         2280.24
        ],
        [
         1,
         "Ships",
         1192.56
        ],
        [
         2,
         "Ships",
         1506.96
        ],
        [
         2,
         "Ships",
         1472.62
        ],
        [
         3,
         "Ships",
         1696.82
        ],
        [
         3,
         "Ships",
         1693.56
        ],
        [
         3,
         "Ships",
         1921.92
        ],
        [
         4,
         "Ships",
         2082.85
        ],
        [
         4,
         "Ships",
         2227.6
        ],
        [
         4,
         "Ships",
         3209.38
        ],
        [
         4,
         "Ships",
         4080.72
        ],
        [
         4,
         "Ships",
         2244.4
        ],
        [
         1,
         "Ships",
         3978.51
        ],
        [
         1,
         "Ships",
         5417.57
        ],
        [
         1,
         "Ships",
         2116.16
        ],
        [
         2,
         "Ships",
         3079.44
        ]
       ],
       "datasetInfos": [],
       "dbfsResultPath": null,
       "isJsonSchema": true,
       "metadata": {},
       "overflow": false,
       "plotOptions": {
        "customPlotOptions": {},
        "displayType": "table",
        "pivotAggregation": null,
        "pivotColumns": null,
        "xColumns": null,
        "yColumns": null
       },
       "removedWidgets": [],
       "schema": [
        {
         "metadata": "{}",
         "name": "QTR_ID",
         "type": "\"integer\""
        },
        {
         "metadata": "{}",
         "name": "PRODUCTLINE",
         "type": "\"string\""
        },
        {
         "metadata": "{}",
         "name": "SALES",
         "type": "\"double\""
        }
       ],
       "type": "table"
      }
     },
     "output_type": "display_data"
    },
    {
     "output_type": "display_data",
     "data": {
      "text/plain": [
       "Databricks visualization. Run in Databricks to view."
      ]
     },
     "metadata": {
      "application/vnd.databricks.v1.subcommand+json": {
       "baseErrorDetails": null,
       "bindings": {},
       "collapsed": false,
       "command": "%sql WITH q AS (SELECT QTR_ID, PRODUCTLINE, SALES FROM productssales) SELECT `PRODUCTLINE`,`SALES`,`QTR_ID` FROM q",
       "commandTitle": "Visualization 1",
       "commandType": "auto",
       "commandVersion": 0,
       "commentThread": [],
       "commentsVisible": false,
       "contentSha256Hex": null,
       "customPlotOptions": {
        "redashChart": [
         {
          "key": "type",
          "value": "CHART"
         },
         {
          "key": "options",
          "value": {
           "alignYAxesAtZero": true,
           "coefficient": 1,
           "columnConfigurationMap": {
            "series": {
             "column": "QTR_ID",
             "id": "column_4c796d3446"
            },
            "x": {
             "column": "PRODUCTLINE",
             "id": "column_4c796d3445"
            },
            "y": [
             {
              "column": "SALES",
              "id": "column_4c796d3443"
             }
            ]
           },
           "dateTimeFormat": "DD/MM/YYYY HH:mm",
           "direction": {
            "type": "counterclockwise"
           },
           "error_y": {
            "type": "data",
            "visible": true
           },
           "globalSeriesType": "box",
           "legend": {
            "traceorder": "normal"
           },
           "missingValuesAsZero": true,
           "numberFormat": "0,0.[00000]",
           "percentFormat": "0[.]00%",
           "series": {
            "error_y": {
             "type": "data",
             "visible": true
            },
            "stacking": null
           },
           "seriesOptions": {
            "1": {
             "name": "QTR_ID-1"
            },
            "2": {
             "name": "QTR_ID-2"
            },
            "3": {
             "name": "QTR_ID-3"
            },
            "4": {
             "name": "QTR_ID-4"
            },
            "column_4c796d3443": {
             "name": "SALES",
             "type": "box",
             "yAxis": 0
            }
           },
           "showDataLabels": false,
           "sizemode": "diameter",
           "sortX": true,
           "sortY": true,
           "swappedAxes": false,
           "textFormat": "",
           "useAggregationsUi": true,
           "valuesOptions": {},
           "version": 2,
           "xAxis": {
            "labels": {
             "enabled": true
            },
            "type": "-"
           },
           "yAxis": [
            {
             "type": "-"
            },
            {
             "opposite": true,
             "type": "-"
            }
           ]
          }
         }
        ]
       },
       "datasetPreviewNameToCmdIdMap": {},
       "diffDeletes": [],
       "diffInserts": [],
       "displayType": "redashChart",
       "error": null,
       "errorDetails": null,
       "errorSummary": null,
       "errorTraceType": null,
       "finishTime": 0,
       "globalVars": {},
       "guid": "",
       "height": "auto",
       "hideCommandCode": false,
       "hideCommandResult": false,
       "iPythonMetadata": null,
       "inputWidgets": {},
       "isLockedInExamMode": false,
       "latestUser": "a user",
       "latestUserId": null,
       "listResultMetadata": null,
       "metadata": {},
       "nuid": "9e39b597-89e7-4f1f-8f13-d54c45e71d64",
       "origId": 0,
       "parentHierarchy": [],
       "pivotAggregation": null,
       "pivotColumns": null,
       "position": 17.25,
       "resultDbfsErrorMessage": null,
       "resultDbfsStatus": "INLINED_IN_TREE",
       "results": null,
       "showCommandTitle": false,
       "startTime": 0,
       "state": "input",
       "streamStates": {},
       "subcommandOptions": {
        "queryPlan": {
         "selects": [
          {
           "column": "PRODUCTLINE",
           "type": "column"
          },
          {
           "column": "SALES",
           "type": "column"
          },
          {
           "column": "QTR_ID",
           "type": "column"
          }
         ]
        }
       },
       "submitTime": 0,
       "subtype": "tableResultSubCmd.visualization",
       "tableResultIndex": 0,
       "tableResultSettingsMap": null,
       "useConsistentColors": false,
       "version": "CommandV1",
       "width": "auto",
       "workflows": [],
       "xColumns": null,
       "yColumns": null
      }
     },
     "output_type": "display_data"
    }
   ],
   "source": [
    "%sql\n",
    "SELECT QTR_ID, PRODUCTLINE, SALES FROM productssales;"
   ]
  },
  {
   "cell_type": "markdown",
   "metadata": {
    "application/vnd.databricks.v1+cell": {
     "cellMetadata": {},
     "inputWidgets": {},
     "nuid": "b2989e8f-be60-41d2-8ee7-3afd6e1c1026",
     "showTitle": false,
     "title": ""
    }
   },
   "source": [
    "2)Monthly Sales Performance By Each Territory"
   ]
  },
  {
   "cell_type": "code",
   "execution_count": 0,
   "metadata": {
    "application/vnd.databricks.v1+cell": {
     "cellMetadata": {
      "byteLimit": 2048000,
      "implicitDf": true,
      "rowLimit": 10000
     },
     "inputWidgets": {},
     "nuid": "d94ee549-2a78-47d0-8295-a53a07ba123b",
     "showTitle": false,
     "title": ""
    }
   },
   "outputs": [
    {
     "output_type": "display_data",
     "data": {
      "text/html": [
       "<style scoped>\n",
       "  .table-result-container {\n",
       "    max-height: 300px;\n",
       "    overflow: auto;\n",
       "  }\n",
       "  table, th, td {\n",
       "    border: 1px solid black;\n",
       "    border-collapse: collapse;\n",
       "  }\n",
       "  th, td {\n",
       "    padding: 5px;\n",
       "  }\n",
       "  th {\n",
       "    text-align: left;\n",
       "  }\n",
       "</style><div class='table-result-container'><table class='table-result'><thead style='background-color: white'><tr><th>MONTH_ID</th><th>TERRITORY</th><th>TOTAL_SALES</th><th>AVG_SALES</th><th>MAX_SALES</th></tr></thead><tbody><tr><td>1</td><td>APAC</td><td>29852.17</td><td>3316.9077777777775</td><td>8470.14</td></tr><tr><td>2</td><td>APAC</td><td>95587.19</td><td>3413.8282142857142</td><td>9774.03</td></tr><tr><td>3</td><td>APAC</td><td>35160.25</td><td>3516.025</td><td>8344.71</td></tr><tr><td>4</td><td>APAC</td><td>52985.240000000005</td><td>3116.778823529412</td><td>9264.86</td></tr><tr><td>5</td><td>APAC</td><td>68087.7</td><td>3404.3849999999998</td><td>6483.46</td></tr><tr><td>6</td><td>APAC</td><td>45788.719999999994</td><td>3522.20923076923</td><td>6541.2</td></tr><tr><td>7</td><td>APAC</td><td>82029.22</td><td>3906.153333333333</td><td>8427.02</td></tr><tr><td>9</td><td>APAC</td><td>100734.88999999998</td><td>3147.9653124999995</td><td>6539.04</td></tr><tr><td>11</td><td>APAC</td><td>197991.30000000002</td><td>3473.531578947369</td><td>8014.82</td></tr><tr><td>12</td><td>APAC</td><td>37905.149999999994</td><td>2707.5107142857137</td><td>5001.92</td></tr><tr><td>1</td><td>EMEA</td><td>434478.17000000016</td><td>3475.825360000001</td><td>9534.5</td></tr><tr><td>2</td><td>EMEA</td><td>466432.9199999999</td><td>3587.945538461538</td><td>10039.6</td></tr><tr><td>3</td><td>EMEA</td><td>391114.24</td><td>3430.8266666666664</td><td>8977.05</td></tr><tr><td>4</td><td>EMEA</td><td>316151.6700000001</td><td>3951.895875000001</td><td>11886.6</td></tr><tr><td>5</td><td>EMEA</td><td>521779.1599999999</td><td>3781.0084057971007</td><td>12001.0</td></tr><tr><td>6</td><td>EMEA</td><td>182577.36000000002</td><td>3319.5883636363637</td><td>6773.6</td></tr><tr><td>7</td><td>EMEA</td><td>224900.58999999997</td><td>3514.0717187499995</td><td>9160.36</td></tr><tr><td>8</td><td>EMEA</td><td>214871.24000000005</td><td>3357.3631250000008</td><td>8014.82</td></tr><tr><td>9</td><td>EMEA</td><td>295591.1099999999</td><td>3518.941785714285</td><td>8411.56</td></tr><tr><td>10</td><td>EMEA</td><td>590751.9700000002</td><td>3495.5737869822497</td><td>10172.7</td></tr><tr><td>11</td><td>EMEA</td><td>1068956.0399999996</td><td>3504.773901639343</td><td>9558.8</td></tr><tr><td>12</td><td>EMEA</td><td>271667.94000000006</td><td>3438.8346835443044</td><td>9720.0</td></tr><tr><td>1</td><td>Japan</td><td>88682.03</td><td>3410.847307692308</td><td>7031.52</td></tr><tr><td>3</td><td>Japan</td><td>59420.619999999995</td><td>3495.330588235294</td><td>6130.35</td></tr><tr><td>4</td><td>Japan</td><td>61325.85</td><td>3832.865625</td><td>6034.38</td></tr><tr><td>6</td><td>Japan</td><td>25928.750000000004</td><td>4321.458333333334</td><td>7680.64</td></tr><tr><td>8</td><td>Japan</td><td>3127.88</td><td>3127.88</td><td>3127.88</td></tr><tr><td>9</td><td>Japan</td><td>44219.36000000001</td><td>4019.9418181818187</td><td>10993.5</td></tr><tr><td>10</td><td>Japan</td><td>77809.37000000001</td><td>4322.742777777778</td><td>8754.69</td></tr><tr><td>11</td><td>Japan</td><td>94659.36</td><td>3640.7446153846154</td><td>10758.0</td></tr><tr><td>1</td><td>NA</td><td>232862.06999999998</td><td>3374.8126086956518</td><td>9240.44</td></tr><tr><td>2</td><td>NA</td><td>248421.79</td><td>3763.966515151515</td><td>8935.5</td></tr><tr><td>3</td><td>NA</td><td>268806.28</td><td>3786.0039436619722</td><td>10066.6</td></tr><tr><td>4</td><td>NA</td><td>238928.20000000007</td><td>3675.8184615384625</td><td>14082.8</td></tr><tr><td>5</td><td>NA</td><td>334105.7</td><td>3554.3159574468086</td><td>8677.8</td></tr><tr><td>6</td><td>NA</td><td>200461.95</td><td>3516.8763157894737</td><td>11279.2</td></tr><tr><td>7</td><td>NA</td><td>207946.16000000006</td><td>3713.324285714287</td><td>9169.0</td></tr><tr><td>8</td><td>NA</td><td>441311.45</td><td>3502.4718253968254</td><td>9631.0</td></tr><tr><td>9</td><td>NA</td><td>144178.91</td><td>3276.7934090909093</td><td>9245.76</td></tr><tr><td>10</td><td>NA</td><td>452653.8799999999</td><td>3481.952923076922</td><td>11623.7</td></tr><tr><td>11</td><td>NA</td><td>757278.9700000004</td><td>3623.3443540669878</td><td>12536.5</td></tr><tr><td>12</td><td>NA</td><td>325106.02999999997</td><td>3736.8509195402294</td><td>9064.89</td></tr></tbody></table></div>"
      ]
     },
     "metadata": {
      "application/vnd.databricks.v1+output": {
       "addedWidgets": {},
       "aggData": [],
       "aggError": "",
       "aggOverflow": false,
       "aggSchema": [],
       "aggSeriesLimitReached": false,
       "aggType": "",
       "arguments": {},
       "columnCustomDisplayInfos": {},
       "data": [
        [
         1,
         "APAC",
         29852.17,
         3316.9077777777775,
         8470.14
        ],
        [
         2,
         "APAC",
         95587.19,
         3413.8282142857142,
         9774.03
        ],
        [
         3,
         "APAC",
         35160.25,
         3516.025,
         8344.71
        ],
        [
         4,
         "APAC",
         52985.240000000005,
         3116.778823529412,
         9264.86
        ],
        [
         5,
         "APAC",
         68087.7,
         3404.3849999999998,
         6483.46
        ],
        [
         6,
         "APAC",
         45788.719999999994,
         3522.20923076923,
         6541.2
        ],
        [
         7,
         "APAC",
         82029.22,
         3906.153333333333,
         8427.02
        ],
        [
         9,
         "APAC",
         100734.88999999998,
         3147.9653124999995,
         6539.04
        ],
        [
         11,
         "APAC",
         197991.30000000002,
         3473.531578947369,
         8014.82
        ],
        [
         12,
         "APAC",
         37905.149999999994,
         2707.5107142857137,
         5001.92
        ],
        [
         1,
         "EMEA",
         434478.17000000016,
         3475.825360000001,
         9534.5
        ],
        [
         2,
         "EMEA",
         466432.9199999999,
         3587.945538461538,
         10039.6
        ],
        [
         3,
         "EMEA",
         391114.24,
         3430.8266666666664,
         8977.05
        ],
        [
         4,
         "EMEA",
         316151.6700000001,
         3951.895875000001,
         11886.6
        ],
        [
         5,
         "EMEA",
         521779.1599999999,
         3781.0084057971007,
         12001.0
        ],
        [
         6,
         "EMEA",
         182577.36000000002,
         3319.5883636363637,
         6773.6
        ],
        [
         7,
         "EMEA",
         224900.58999999997,
         3514.0717187499995,
         9160.36
        ],
        [
         8,
         "EMEA",
         214871.24000000005,
         3357.3631250000008,
         8014.82
        ],
        [
         9,
         "EMEA",
         295591.1099999999,
         3518.941785714285,
         8411.56
        ],
        [
         10,
         "EMEA",
         590751.9700000002,
         3495.5737869822497,
         10172.7
        ],
        [
         11,
         "EMEA",
         1068956.0399999996,
         3504.773901639343,
         9558.8
        ],
        [
         12,
         "EMEA",
         271667.94000000006,
         3438.8346835443044,
         9720.0
        ],
        [
         1,
         "Japan",
         88682.03,
         3410.847307692308,
         7031.52
        ],
        [
         3,
         "Japan",
         59420.619999999995,
         3495.330588235294,
         6130.35
        ],
        [
         4,
         "Japan",
         61325.85,
         3832.865625,
         6034.38
        ],
        [
         6,
         "Japan",
         25928.750000000004,
         4321.458333333334,
         7680.64
        ],
        [
         8,
         "Japan",
         3127.88,
         3127.88,
         3127.88
        ],
        [
         9,
         "Japan",
         44219.36000000001,
         4019.9418181818187,
         10993.5
        ],
        [
         10,
         "Japan",
         77809.37000000001,
         4322.742777777778,
         8754.69
        ],
        [
         11,
         "Japan",
         94659.36,
         3640.7446153846154,
         10758.0
        ],
        [
         1,
         "NA",
         232862.06999999998,
         3374.8126086956518,
         9240.44
        ],
        [
         2,
         "NA",
         248421.79,
         3763.966515151515,
         8935.5
        ],
        [
         3,
         "NA",
         268806.28,
         3786.0039436619722,
         10066.6
        ],
        [
         4,
         "NA",
         238928.20000000007,
         3675.8184615384625,
         14082.8
        ],
        [
         5,
         "NA",
         334105.7,
         3554.3159574468086,
         8677.8
        ],
        [
         6,
         "NA",
         200461.95,
         3516.8763157894737,
         11279.2
        ],
        [
         7,
         "NA",
         207946.16000000006,
         3713.324285714287,
         9169.0
        ],
        [
         8,
         "NA",
         441311.45,
         3502.4718253968254,
         9631.0
        ],
        [
         9,
         "NA",
         144178.91,
         3276.7934090909093,
         9245.76
        ],
        [
         10,
         "NA",
         452653.8799999999,
         3481.952923076922,
         11623.7
        ],
        [
         11,
         "NA",
         757278.9700000004,
         3623.3443540669878,
         12536.5
        ],
        [
         12,
         "NA",
         325106.02999999997,
         3736.8509195402294,
         9064.89
        ]
       ],
       "datasetInfos": [],
       "dbfsResultPath": null,
       "isJsonSchema": true,
       "metadata": {},
       "overflow": false,
       "plotOptions": {
        "customPlotOptions": {},
        "displayType": "table",
        "pivotAggregation": null,
        "pivotColumns": null,
        "xColumns": null,
        "yColumns": null
       },
       "removedWidgets": [],
       "schema": [
        {
         "metadata": "{}",
         "name": "MONTH_ID",
         "type": "\"integer\""
        },
        {
         "metadata": "{}",
         "name": "TERRITORY",
         "type": "\"string\""
        },
        {
         "metadata": "{}",
         "name": "TOTAL_SALES",
         "type": "\"double\""
        },
        {
         "metadata": "{}",
         "name": "AVG_SALES",
         "type": "\"double\""
        },
        {
         "metadata": "{}",
         "name": "MAX_SALES",
         "type": "\"double\""
        }
       ],
       "type": "table"
      }
     },
     "output_type": "display_data"
    },
    {
     "output_type": "display_data",
     "data": {
      "text/plain": [
       "Databricks visualization. Run in Databricks to view."
      ]
     },
     "metadata": {
      "application/vnd.databricks.v1.subcommand+json": {
       "baseErrorDetails": null,
       "bindings": {},
       "collapsed": false,
       "command": "%sql WITH q AS (SELECT\n    MONTH_ID,\n    TERRITORY,\n    SUM(SALES) AS TOTAL_SALES,\n    AVG(SALES) as  AVG_SALES,\n    MAX(SALES)  AS MAX_SALES\nFROM \n    productssales\nGROUP BY \n    MONTH_ID, TERRITORY\nORDER BY \n    TERRITORY, MONTH_ID) SELECT `MONTH_ID`,SUM(`AVG_SALES`) `column_596383ca29`,`TERRITORY` FROM q GROUP BY `MONTH_ID`,`TERRITORY`",
       "commandTitle": "Visualization 1",
       "commandType": "auto",
       "commandVersion": 0,
       "commentThread": [],
       "commentsVisible": false,
       "contentSha256Hex": null,
       "customPlotOptions": {
        "redashChart": [
         {
          "key": "type",
          "value": "CHART"
         },
         {
          "key": "options",
          "value": {
           "alignYAxesAtZero": true,
           "coefficient": 1,
           "columnConfigurationMap": {
            "series": {
             "column": "TERRITORY",
             "id": "column_596383ca27"
            },
            "x": {
             "column": "MONTH_ID",
             "id": "column_596383ca26"
            },
            "y": [
             {
              "column": "TOTAL_SALES",
              "id": "column_596383ca29",
              "transform": "SUM"
             }
            ]
           },
           "dateTimeFormat": "DD/MM/YYYY HH:mm",
           "direction": {
            "type": "counterclockwise"
           },
           "error_y": {
            "type": "data",
            "visible": true
           },
           "globalSeriesType": "line",
           "isAggregationOn": true,
           "legend": {
            "traceorder": "normal"
           },
           "missingValuesAsZero": false,
           "numberFormat": "0,0.[00000]",
           "percentFormat": "0[.]00%",
           "series": {
            "error_y": {
             "type": "data",
             "visible": true
            },
            "stacking": null
           },
           "seriesOptions": {
            "APAC": {
             "name": "Asia-Pacific"
            },
            "EMEA": {
             "name": "Europe, the Middle East, and Africa"
            },
            "Japan": {
             "name": "Japan"
            },
            "NA": {
             "name": "North America"
            },
            "column_596383ca29": {
             "type": "line",
             "yAxis": 0
            }
           },
           "showDataLabels": false,
           "sizemode": "diameter",
           "sortX": true,
           "sortY": true,
           "swappedAxes": false,
           "textFormat": "",
           "useAggregationsUi": true,
           "valuesOptions": {},
           "version": 2,
           "xAxis": {
            "labels": {
             "enabled": true
            },
            "type": "-"
           },
           "yAxis": [
            {
             "title": {
              "text": "AVG_SALES"
             },
             "type": "-"
            },
            {
             "opposite": true,
             "type": "-"
            }
           ]
          }
         }
        ]
       },
       "datasetPreviewNameToCmdIdMap": {},
       "diffDeletes": [],
       "diffInserts": [],
       "displayType": "redashChart",
       "error": null,
       "errorDetails": null,
       "errorSummary": null,
       "errorTraceType": null,
       "finishTime": 0,
       "globalVars": {},
       "guid": "",
       "height": "auto",
       "hideCommandCode": false,
       "hideCommandResult": false,
       "iPythonMetadata": null,
       "inputWidgets": {},
       "isLockedInExamMode": false,
       "latestUser": "a user",
       "latestUserId": null,
       "listResultMetadata": null,
       "metadata": {},
       "nuid": "332f72b8-dfef-48e0-8014-9378b1e35003",
       "origId": 0,
       "parentHierarchy": [],
       "pivotAggregation": null,
       "pivotColumns": null,
       "position": 18.0,
       "resultDbfsErrorMessage": null,
       "resultDbfsStatus": "INLINED_IN_TREE",
       "results": null,
       "showCommandTitle": false,
       "startTime": 0,
       "state": "input",
       "streamStates": {},
       "subcommandOptions": {
        "queryPlan": {
         "groups": [
          {
           "column": "MONTH_ID",
           "type": "column"
          },
          {
           "column": "TERRITORY",
           "type": "column"
          }
         ],
         "selects": [
          {
           "column": "MONTH_ID",
           "type": "column"
          },
          {
           "alias": "column_596383ca29",
           "args": [
            {
             "column": "TOTAL_SALES",
             "type": "column"
            }
           ],
           "function": "SUM",
           "type": "function"
          },
          {
           "column": "TERRITORY",
           "type": "column"
          }
         ]
        }
       },
       "submitTime": 0,
       "subtype": "tableResultSubCmd.visualization",
       "tableResultIndex": 0,
       "tableResultSettingsMap": null,
       "useConsistentColors": false,
       "version": "CommandV1",
       "width": "auto",
       "workflows": [],
       "xColumns": null,
       "yColumns": null
      }
     },
     "output_type": "display_data"
    }
   ],
   "source": [
    "%sql\n",
    "SELECT\n",
    "    MONTH_ID,\n",
    "    TERRITORY,\n",
    "    SUM(SALES) AS TOTAL_SALES,\n",
    "    AVG(SALES) as  AVG_SALES,\n",
    "    MAX(SALES)  AS MAX_SALES\n",
    "FROM \n",
    "    productssales\n",
    "GROUP BY \n",
    "    MONTH_ID, TERRITORY\n",
    "ORDER BY \n",
    "    TERRITORY, MONTH_ID;\n"
   ]
  },
  {
   "cell_type": "markdown",
   "metadata": {
    "application/vnd.databricks.v1+cell": {
     "cellMetadata": {},
     "inputWidgets": {},
     "nuid": "3a46221a-2c40-4c95-b72b-0bdddca73518",
     "showTitle": false,
     "title": ""
    }
   },
   "source": [
    "3)Identify Consecutive Quarters of Sales Decline for Each Product"
   ]
  },
  {
   "cell_type": "code",
   "execution_count": 0,
   "metadata": {
    "application/vnd.databricks.v1+cell": {
     "cellMetadata": {
      "byteLimit": 2048000,
      "implicitDf": true,
      "rowLimit": 10000
     },
     "inputWidgets": {},
     "nuid": "e1fbacac-557a-4811-accc-93755b934b1c",
     "showTitle": false,
     "title": ""
    }
   },
   "outputs": [
    {
     "output_type": "display_data",
     "data": {
      "text/html": [
       "<style scoped>\n",
       "  .table-result-container {\n",
       "    max-height: 300px;\n",
       "    overflow: auto;\n",
       "  }\n",
       "  table, th, td {\n",
       "    border: 1px solid black;\n",
       "    border-collapse: collapse;\n",
       "  }\n",
       "  th, td {\n",
       "    padding: 5px;\n",
       "  }\n",
       "  th {\n",
       "    text-align: left;\n",
       "  }\n",
       "</style><div class='table-result-container'><table class='table-result'><thead style='background-color: white'><tr><th>QTR_ID</th><th>PRODUCTCODE</th><th>TOTAL_SALES</th><th>PREVIOUS_QUARTER_SALES</th><th>TWO_QUARTERS_AGO_SALES</th></tr></thead><tbody><tr><td>3</td><td>S10_4757</td><td>15525.760000000002</td><td>28118.000000000004</td><td>30667.030000000002</td></tr><tr><td>3</td><td>S10_4962</td><td>21557.940000000002</td><td>26600.789999999997</td><td>29109.129999999997</td></tr><tr><td>3</td><td>S12_1108</td><td>34228.520000000004</td><td>36597.58</td><td>42518.53999999999</td></tr><tr><td>3</td><td>S12_1666</td><td>22350.920000000002</td><td>29229.57</td><td>29907.78</td></tr><tr><td>3</td><td>S12_3148</td><td>23269.35</td><td>25896.08</td><td>30764.62</td></tr><tr><td>3</td><td>S12_4675</td><td>16340.59</td><td>21892.25</td><td>25090.4</td></tr><tr><td>3</td><td>S18_1097</td><td>20474.579999999998</td><td>23156.0</td><td>28432.050000000003</td></tr><tr><td>3</td><td>S18_1749</td><td>14919.2</td><td>29819.699999999997</td><td>31003.16</td></tr><tr><td>3</td><td>S18_1889</td><td>14673.890000000001</td><td>16225.439999999999</td><td>17179.46</td></tr><tr><td>3</td><td>S18_2248</td><td>4799.64</td><td>10000.23</td><td>17959.859999999997</td></tr><tr><td>3</td><td>S18_2325</td><td>13524.050000000001</td><td>16348.66</td><td>30460.029999999995</td></tr><tr><td>3</td><td>S18_2581</td><td>10019.11</td><td>17489.59</td><td>18735.6</td></tr><tr><td>3</td><td>S18_2625</td><td>8228.619999999999</td><td>12995.26</td><td>15034.0</td></tr><tr><td>3</td><td>S18_3029</td><td>10859.08</td><td>15483.759999999998</td><td>18248.27</td></tr><tr><td>3</td><td>S18_3259</td><td>16769.03</td><td>17739.88</td><td>24010.7</td></tr><tr><td>3</td><td>S18_4409</td><td>10136.92</td><td>13545.06</td><td>17645.34</td></tr><tr><td>3</td><td>S18_4668</td><td>9242.53</td><td>9918.18</td><td>18639.32</td></tr><tr><td>3</td><td>S18_4933</td><td>8339.56</td><td>9837.11</td><td>15081.94</td></tr><tr><td>3</td><td>S24_1578</td><td>18719.699999999997</td><td>21513.2</td><td>21661.78</td></tr><tr><td>3</td><td>S24_1937</td><td>2879.37</td><td>5689.16</td><td>15462.119999999999</td></tr><tr><td>3</td><td>S24_2011</td><td>19865.41</td><td>26025.84</td><td>34986.33</td></tr><tr><td>3</td><td>S24_2360</td><td>11363.2</td><td>12182.91</td><td>13329.59</td></tr><tr><td>3</td><td>S24_2840</td><td>5671.23</td><td>7121.260000000002</td><td>17098.75</td></tr><tr><td>3</td><td>S24_2841</td><td>7965.339999999999</td><td>10665.319999999998</td><td>16273.87</td></tr><tr><td>3</td><td>S24_2972</td><td>5790.74</td><td>6539.81</td><td>19715.62</td></tr><tr><td>3</td><td>S24_3151</td><td>14678.95</td><td>18116.649999999998</td><td>20444.36</td></tr><tr><td>3</td><td>S24_3420</td><td>8763.039999999999</td><td>11582.62</td><td>15153.27</td></tr><tr><td>3</td><td>S24_3969</td><td>3734.99</td><td>4433.66</td><td>11867.54</td></tr><tr><td>3</td><td>S24_4278</td><td>7637.129999999999</td><td>21661.11</td><td>22941.870000000003</td></tr><tr><td>3</td><td>S32_1374</td><td>11498.439999999999</td><td>24797.560000000005</td><td>25114.5</td></tr><tr><td>3</td><td>S32_2206</td><td>5957.73</td><td>6027.220000000001</td><td>12043.279999999999</td></tr><tr><td>3</td><td>S50_1341</td><td>5944.390000000001</td><td>12915.880000000001</td><td>13458.29</td></tr><tr><td>3</td><td>S700_1691</td><td>13101.76</td><td>17736.350000000002</td><td>24714.489999999998</td></tr><tr><td>3</td><td>S700_2610</td><td>10922.099999999999</td><td>14139.86</td><td>20131.47</td></tr><tr><td>3</td><td>S700_3505</td><td>15601.57</td><td>16525.69</td><td>29026.560000000005</td></tr><tr><td>3</td><td>S700_4002</td><td>11300.89</td><td>15776.04</td><td>18535.73</td></tr><tr><td>3</td><td>S72_1253</td><td>7175.469999999999</td><td>8809.52</td><td>13437.46</td></tr><tr><td>3</td><td>S72_3212</td><td>10040.27</td><td>10322.06</td><td>19087.5</td></tr></tbody></table></div>"
      ]
     },
     "metadata": {
      "application/vnd.databricks.v1+output": {
       "addedWidgets": {},
       "aggData": [],
       "aggError": "",
       "aggOverflow": false,
       "aggSchema": [],
       "aggSeriesLimitReached": false,
       "aggType": "",
       "arguments": {},
       "columnCustomDisplayInfos": {},
       "data": [
        [
         3,
         "S10_4757",
         15525.760000000002,
         28118.000000000004,
         30667.030000000002
        ],
        [
         3,
         "S10_4962",
         21557.940000000002,
         26600.789999999997,
         29109.129999999997
        ],
        [
         3,
         "S12_1108",
         34228.520000000004,
         36597.58,
         42518.53999999999
        ],
        [
         3,
         "S12_1666",
         22350.920000000002,
         29229.57,
         29907.78
        ],
        [
         3,
         "S12_3148",
         23269.35,
         25896.08,
         30764.62
        ],
        [
         3,
         "S12_4675",
         16340.59,
         21892.25,
         25090.4
        ],
        [
         3,
         "S18_1097",
         20474.579999999998,
         23156.0,
         28432.050000000003
        ],
        [
         3,
         "S18_1749",
         14919.2,
         29819.699999999997,
         31003.16
        ],
        [
         3,
         "S18_1889",
         14673.890000000001,
         16225.439999999999,
         17179.46
        ],
        [
         3,
         "S18_2248",
         4799.64,
         10000.23,
         17959.859999999997
        ],
        [
         3,
         "S18_2325",
         13524.050000000001,
         16348.66,
         30460.029999999995
        ],
        [
         3,
         "S18_2581",
         10019.11,
         17489.59,
         18735.6
        ],
        [
         3,
         "S18_2625",
         8228.619999999999,
         12995.26,
         15034.0
        ],
        [
         3,
         "S18_3029",
         10859.08,
         15483.759999999998,
         18248.27
        ],
        [
         3,
         "S18_3259",
         16769.03,
         17739.88,
         24010.7
        ],
        [
         3,
         "S18_4409",
         10136.92,
         13545.06,
         17645.34
        ],
        [
         3,
         "S18_4668",
         9242.53,
         9918.18,
         18639.32
        ],
        [
         3,
         "S18_4933",
         8339.56,
         9837.11,
         15081.94
        ],
        [
         3,
         "S24_1578",
         18719.699999999997,
         21513.2,
         21661.78
        ],
        [
         3,
         "S24_1937",
         2879.37,
         5689.16,
         15462.119999999999
        ],
        [
         3,
         "S24_2011",
         19865.41,
         26025.84,
         34986.33
        ],
        [
         3,
         "S24_2360",
         11363.2,
         12182.91,
         13329.59
        ],
        [
         3,
         "S24_2840",
         5671.23,
         7121.260000000002,
         17098.75
        ],
        [
         3,
         "S24_2841",
         7965.339999999999,
         10665.319999999998,
         16273.87
        ],
        [
         3,
         "S24_2972",
         5790.74,
         6539.81,
         19715.62
        ],
        [
         3,
         "S24_3151",
         14678.95,
         18116.649999999998,
         20444.36
        ],
        [
         3,
         "S24_3420",
         8763.039999999999,
         11582.62,
         15153.27
        ],
        [
         3,
         "S24_3969",
         3734.99,
         4433.66,
         11867.54
        ],
        [
         3,
         "S24_4278",
         7637.129999999999,
         21661.11,
         22941.870000000003
        ],
        [
         3,
         "S32_1374",
         11498.439999999999,
         24797.560000000005,
         25114.5
        ],
        [
         3,
         "S32_2206",
         5957.73,
         6027.220000000001,
         12043.279999999999
        ],
        [
         3,
         "S50_1341",
         5944.390000000001,
         12915.880000000001,
         13458.29
        ],
        [
         3,
         "S700_1691",
         13101.76,
         17736.350000000002,
         24714.489999999998
        ],
        [
         3,
         "S700_2610",
         10922.099999999999,
         14139.86,
         20131.47
        ],
        [
         3,
         "S700_3505",
         15601.57,
         16525.69,
         29026.560000000005
        ],
        [
         3,
         "S700_4002",
         11300.89,
         15776.04,
         18535.73
        ],
        [
         3,
         "S72_1253",
         7175.469999999999,
         8809.52,
         13437.46
        ],
        [
         3,
         "S72_3212",
         10040.27,
         10322.06,
         19087.5
        ]
       ],
       "datasetInfos": [],
       "dbfsResultPath": null,
       "isJsonSchema": true,
       "metadata": {},
       "overflow": false,
       "plotOptions": {
        "customPlotOptions": {},
        "displayType": "table",
        "pivotAggregation": null,
        "pivotColumns": null,
        "xColumns": null,
        "yColumns": null
       },
       "removedWidgets": [],
       "schema": [
        {
         "metadata": "{}",
         "name": "QTR_ID",
         "type": "\"integer\""
        },
        {
         "metadata": "{}",
         "name": "PRODUCTCODE",
         "type": "\"string\""
        },
        {
         "metadata": "{}",
         "name": "TOTAL_SALES",
         "type": "\"double\""
        },
        {
         "metadata": "{}",
         "name": "PREVIOUS_QUARTER_SALES",
         "type": "\"double\""
        },
        {
         "metadata": "{}",
         "name": "TWO_QUARTERS_AGO_SALES",
         "type": "\"double\""
        }
       ],
       "type": "table"
      }
     },
     "output_type": "display_data"
    },
    {
     "output_type": "display_data",
     "data": {
      "text/plain": [
       "Databricks visualization. Run in Databricks to view."
      ]
     },
     "metadata": {
      "application/vnd.databricks.v1.subcommand+json": {
       "baseErrorDetails": null,
       "bindings": {},
       "collapsed": false,
       "command": "%sql WITH q AS (WITH SalesLag AS (\n    SELECT\n        QTR_ID,\n        PRODUCTCODE,\n        SUM(SALES) AS TOTAL_SALES,\n        LAG(SUM(SALES), 1) OVER (PARTITION BY PRODUCTCODE ORDER BY QTR_ID) AS PREVIOUS_QUARTER_SALES,\n        LAG(SUM(SALES), 2) OVER (PARTITION BY PRODUCTCODE ORDER BY QTR_ID) AS TWO_QUARTERS_AGO_SALES\n    FROM productssales\n    GROUP BY QTR_ID, PRODUCTCODE\n)\nSELECT\n    QTR_ID,\n    PRODUCTCODE,\n    TOTAL_SALES,\n    PREVIOUS_QUARTER_SALES,\n    TWO_QUARTERS_AGO_SALES\nFROM SalesLag\nWHERE TOTAL_SALES < PREVIOUS_QUARTER_SALES AND PREVIOUS_QUARTER_SALES < TWO_QUARTERS_AGO_SALES\nORDER BY QTR_ID, PRODUCTCODE) SELECT `PRODUCTCODE`,SUM(`TOTAL_SALES`) `column_596383ca33` FROM q GROUP BY `PRODUCTCODE`",
       "commandTitle": "Visualization 1",
       "commandType": "auto",
       "commandVersion": 0,
       "commentThread": [],
       "commentsVisible": false,
       "contentSha256Hex": null,
       "customPlotOptions": {
        "redashChart": [
         {
          "key": "type",
          "value": "CHART"
         },
         {
          "key": "options",
          "value": {
           "alignYAxesAtZero": true,
           "coefficient": 1,
           "columnConfigurationMap": {
            "x": {
             "column": "PRODUCTCODE",
             "id": "column_61ab3ee64"
            },
            "y": [
             {
              "column": "TOTAL_SALES",
              "id": "column_596383ca33",
              "transform": "SUM"
             },
             {
              "column": "PREVIOUS_QUARTER_SALES",
              "id": "column_4c796d3449",
              "transform": "SUM"
             },
             {
              "column": "TWO_QUARTERS_AGO_SALES",
              "id": "column_4c796d3452",
              "transform": "SUM"
             }
            ]
           },
           "dateTimeFormat": "DD/MM/YYYY HH:mm",
           "direction": {
            "type": "counterclockwise"
           },
           "error_y": {
            "type": "data",
            "visible": true
           },
           "globalSeriesType": "column",
           "isAggregationOn": true,
           "legend": {
            "traceorder": "normal"
           },
           "missingValuesAsZero": false,
           "numberFormat": "0,0.[00000]",
           "percentFormat": "0[.]00%",
           "series": {
            "error_y": {
             "type": "data",
             "visible": true
            },
            "stacking": null
           },
           "seriesOptions": {
            "column_4c796d3449": {
             "color": "#FB8D3D",
             "name": "PREVIOUS_QUARTER_SALES",
             "type": "column",
             "yAxis": 0
            },
            "column_4c796d3452": {
             "color": null,
             "name": "TWO_QUARTER_AGO_SALES",
             "type": "column",
             "yAxis": 0
            },
            "column_596383ca33": {
             "color": "#E92828",
             "name": "TOTAL_SALES",
             "type": "column",
             "yAxis": 0
            }
           },
           "showDataLabels": false,
           "sizemode": "diameter",
           "sortX": true,
           "sortY": true,
           "swappedAxes": false,
           "textFormat": "",
           "useAggregationsUi": true,
           "valuesOptions": {},
           "version": 2,
           "xAxis": {
            "labels": {
             "enabled": true
            },
            "type": "-"
           },
           "yAxis": [
            {
             "title": {
              "text": "Total_sales,Prev_Quart_Sales,Two_Quarts_Ago_Sales"
             },
             "type": "-"
            },
            {
             "opposite": true,
             "type": "-"
            }
           ]
          }
         }
        ]
       },
       "datasetPreviewNameToCmdIdMap": {},
       "diffDeletes": [],
       "diffInserts": [],
       "displayType": "redashChart",
       "error": null,
       "errorDetails": null,
       "errorSummary": null,
       "errorTraceType": null,
       "finishTime": 0,
       "globalVars": {},
       "guid": "",
       "height": "auto",
       "hideCommandCode": false,
       "hideCommandResult": false,
       "iPythonMetadata": null,
       "inputWidgets": {},
       "isLockedInExamMode": false,
       "latestUser": "a user",
       "latestUserId": null,
       "listResultMetadata": null,
       "metadata": {},
       "nuid": "29008fe9-951e-4efb-ab30-7db1656b7369",
       "origId": 0,
       "parentHierarchy": [],
       "pivotAggregation": null,
       "pivotColumns": null,
       "position": 19.0,
       "resultDbfsErrorMessage": null,
       "resultDbfsStatus": "INLINED_IN_TREE",
       "results": null,
       "showCommandTitle": false,
       "startTime": 0,
       "state": "input",
       "streamStates": {},
       "subcommandOptions": {
        "queryPlan": {
         "groups": [
          {
           "column": "PRODUCTCODE",
           "type": "column"
          }
         ],
         "selects": [
          {
           "column": "PRODUCTCODE",
           "type": "column"
          },
          {
           "alias": "column_596383ca33",
           "args": [
            {
             "column": "TOTAL_SALES",
             "type": "column"
            }
           ],
           "function": "SUM",
           "type": "function"
          },
          {
           "alias": "column_4c796d3449",
           "args": [
            {
             "column": "PREVIOUS_QUARTER_SALES",
             "type": "column"
            }
           ],
           "function": "SUM",
           "type": "function"
          },
          {
           "alias": "column_4c796d3452",
           "args": [
            {
             "column": "TWO_QUARTERS_AGO_SALES",
             "type": "column"
            }
           ],
           "function": "SUM",
           "type": "function"
          }
         ]
        }
       },
       "submitTime": 0,
       "subtype": "tableResultSubCmd.visualization",
       "tableResultIndex": 0,
       "tableResultSettingsMap": null,
       "useConsistentColors": false,
       "version": "CommandV1",
       "width": "auto",
       "workflows": [],
       "xColumns": null,
       "yColumns": null
      }
     },
     "output_type": "display_data"
    }
   ],
   "source": [
    "%sql\n",
    "WITH SalesLag AS (\n",
    "    SELECT\n",
    "        QTR_ID,\n",
    "        PRODUCTCODE,\n",
    "        SUM(SALES) AS TOTAL_SALES,\n",
    "        LAG(SUM(SALES), 1) OVER (PARTITION BY PRODUCTCODE ORDER BY QTR_ID) AS PREVIOUS_QUARTER_SALES,\n",
    "        LAG(SUM(SALES), 2) OVER (PARTITION BY PRODUCTCODE ORDER BY QTR_ID) AS TWO_QUARTERS_AGO_SALES\n",
    "    FROM productssales\n",
    "    GROUP BY QTR_ID, PRODUCTCODE\n",
    ")\n",
    "SELECT\n",
    "    QTR_ID,\n",
    "    PRODUCTCODE,\n",
    "    TOTAL_SALES,\n",
    "    PREVIOUS_QUARTER_SALES,\n",
    "    TWO_QUARTERS_AGO_SALES\n",
    "FROM SalesLag\n",
    "WHERE TOTAL_SALES < PREVIOUS_QUARTER_SALES AND PREVIOUS_QUARTER_SALES < TWO_QUARTERS_AGO_SALES\n",
    "ORDER BY QTR_ID, PRODUCTCODE"
   ]
  },
  {
   "cell_type": "markdown",
   "metadata": {
    "application/vnd.databricks.v1+cell": {
     "cellMetadata": {},
     "inputWidgets": {},
     "nuid": "83024c28-af86-429a-b69e-c38b0d69d514",
     "showTitle": false,
     "title": ""
    }
   },
   "source": [
    "4)Median Sales for Each Product Line in Every Quarter\n",
    " "
   ]
  },
  {
   "cell_type": "code",
   "execution_count": 0,
   "metadata": {
    "application/vnd.databricks.v1+cell": {
     "cellMetadata": {
      "byteLimit": 2048000,
      "implicitDf": true,
      "rowLimit": 10000
     },
     "inputWidgets": {},
     "nuid": "d7b4162b-e5d6-441e-84df-7945bf914481",
     "showTitle": false,
     "title": ""
    }
   },
   "outputs": [
    {
     "output_type": "display_data",
     "data": {
      "text/html": [
       "<style scoped>\n",
       "  .table-result-container {\n",
       "    max-height: 300px;\n",
       "    overflow: auto;\n",
       "  }\n",
       "  table, th, td {\n",
       "    border: 1px solid black;\n",
       "    border-collapse: collapse;\n",
       "  }\n",
       "  th, td {\n",
       "    padding: 5px;\n",
       "  }\n",
       "  th {\n",
       "    text-align: left;\n",
       "  }\n",
       "</style><div class='table-result-container'><table class='table-result'><thead style='background-color: white'><tr><th>QTR_ID</th><th>PRODUCTLINE</th><th>MEDIAN_SALES</th></tr></thead><tbody><tr><td>1</td><td>Classic Cars</td><td>3970.56</td></tr><tr><td>1</td><td>Motorcycles</td><td>3214.56</td></tr><tr><td>1</td><td>Planes</td><td>2951.49</td></tr><tr><td>1</td><td>Ships</td><td>2914.2</td></tr><tr><td>1</td><td>Trains</td><td>2198.01</td></tr><tr><td>1</td><td>Trucks and Buses</td><td>3377.49</td></tr><tr><td>1</td><td>Vintage Cars</td><td>3024.5</td></tr><tr><td>2</td><td>Classic Cars</td><td>3922.56</td></tr><tr><td>2</td><td>Motorcycles</td><td>2958.34</td></tr><tr><td>2</td><td>Planes</td><td>2719.3100000000004</td></tr><tr><td>2</td><td>Ships</td><td>3028.44</td></tr><tr><td>2</td><td>Trains</td><td>2591.505</td></tr><tr><td>2</td><td>Trucks and Buses</td><td>3460.86</td></tr><tr><td>2</td><td>Vintage Cars</td><td>2795.27</td></tr><tr><td>3</td><td>Classic Cars</td><td>3754.05</td></tr><tr><td>3</td><td>Motorcycles</td><td>3095.1899999999996</td></tr><tr><td>3</td><td>Planes</td><td>2518.415</td></tr><tr><td>3</td><td>Ships</td><td>2746.3450000000003</td></tr><tr><td>3</td><td>Trains</td><td>2418.24</td></tr><tr><td>3</td><td>Trucks and Buses</td><td>3220.1</td></tr><tr><td>3</td><td>Vintage Cars</td><td>2800.24</td></tr><tr><td>4</td><td>Classic Cars</td><td>3609.3599999999997</td></tr><tr><td>4</td><td>Motorcycles</td><td>3199.98</td></tr><tr><td>4</td><td>Planes</td><td>3123.8149999999996</td></tr><tr><td>4</td><td>Ships</td><td>2854.75</td></tr><tr><td>4</td><td>Trains</td><td>2541.1949999999997</td></tr><tr><td>4</td><td>Trucks and Buses</td><td>3586.43</td></tr><tr><td>4</td><td>Vintage Cars</td><td>2725.47</td></tr></tbody></table></div>"
      ]
     },
     "metadata": {
      "application/vnd.databricks.v1+output": {
       "addedWidgets": {},
       "aggData": [],
       "aggError": "",
       "aggOverflow": false,
       "aggSchema": [],
       "aggSeriesLimitReached": false,
       "aggType": "",
       "arguments": {},
       "columnCustomDisplayInfos": {},
       "data": [
        [
         1,
         "Classic Cars",
         3970.56
        ],
        [
         1,
         "Motorcycles",
         3214.56
        ],
        [
         1,
         "Planes",
         2951.49
        ],
        [
         1,
         "Ships",
         2914.2
        ],
        [
         1,
         "Trains",
         2198.01
        ],
        [
         1,
         "Trucks and Buses",
         3377.49
        ],
        [
         1,
         "Vintage Cars",
         3024.5
        ],
        [
         2,
         "Classic Cars",
         3922.56
        ],
        [
         2,
         "Motorcycles",
         2958.34
        ],
        [
         2,
         "Planes",
         2719.3100000000004
        ],
        [
         2,
         "Ships",
         3028.44
        ],
        [
         2,
         "Trains",
         2591.505
        ],
        [
         2,
         "Trucks and Buses",
         3460.86
        ],
        [
         2,
         "Vintage Cars",
         2795.27
        ],
        [
         3,
         "Classic Cars",
         3754.05
        ],
        [
         3,
         "Motorcycles",
         3095.1899999999996
        ],
        [
         3,
         "Planes",
         2518.415
        ],
        [
         3,
         "Ships",
         2746.3450000000003
        ],
        [
         3,
         "Trains",
         2418.24
        ],
        [
         3,
         "Trucks and Buses",
         3220.1
        ],
        [
         3,
         "Vintage Cars",
         2800.24
        ],
        [
         4,
         "Classic Cars",
         3609.3599999999997
        ],
        [
         4,
         "Motorcycles",
         3199.98
        ],
        [
         4,
         "Planes",
         3123.8149999999996
        ],
        [
         4,
         "Ships",
         2854.75
        ],
        [
         4,
         "Trains",
         2541.1949999999997
        ],
        [
         4,
         "Trucks and Buses",
         3586.43
        ],
        [
         4,
         "Vintage Cars",
         2725.47
        ]
       ],
       "datasetInfos": [],
       "dbfsResultPath": null,
       "isJsonSchema": true,
       "metadata": {},
       "overflow": false,
       "plotOptions": {
        "customPlotOptions": {},
        "displayType": "table",
        "pivotAggregation": null,
        "pivotColumns": null,
        "xColumns": null,
        "yColumns": null
       },
       "removedWidgets": [],
       "schema": [
        {
         "metadata": "{}",
         "name": "QTR_ID",
         "type": "\"integer\""
        },
        {
         "metadata": "{}",
         "name": "PRODUCTLINE",
         "type": "\"string\""
        },
        {
         "metadata": "{}",
         "name": "MEDIAN_SALES",
         "type": "\"double\""
        }
       ],
       "type": "table"
      }
     },
     "output_type": "display_data"
    },
    {
     "output_type": "display_data",
     "data": {
      "text/plain": [
       "Databricks visualization. Run in Databricks to view."
      ]
     },
     "metadata": {
      "application/vnd.databricks.v1.subcommand+json": {
       "baseErrorDetails": null,
       "bindings": {},
       "collapsed": false,
       "command": "%sql WITH q AS (SELECT QTR_ID, PRODUCTLINE,PERCENTILE_CONT(0.5) WITHIN GROUP (ORDER BY SALES) AS MEDIAN_SALES\nFROM productssales\nGROUP BY QTR_ID, PRODUCTLINE\nORDER BY QTR_ID, PRODUCTLINE) SELECT `PRODUCTLINE`,SUM(`MEDIAN_SALES`) `column_4c796d343`,`QTR_ID` FROM q GROUP BY `PRODUCTLINE`,`QTR_ID`",
       "commandTitle": "Visualization 1",
       "commandType": "auto",
       "commandVersion": 0,
       "commentThread": [],
       "commentsVisible": false,
       "contentSha256Hex": null,
       "customPlotOptions": {
        "redashChart": [
         {
          "key": "type",
          "value": "CHART"
         },
         {
          "key": "options",
          "value": {
           "alignYAxesAtZero": true,
           "coefficient": 1,
           "columnConfigurationMap": {
            "series": {
             "column": "QTR_ID",
             "id": "column_4c796d347"
            },
            "x": {
             "column": "PRODUCTLINE",
             "id": "column_4c796d346"
            },
            "y": [
             {
              "column": "MEDIAN_SALES",
              "id": "column_4c796d343",
              "transform": "SUM"
             }
            ]
           },
           "dateTimeFormat": "DD/MM/YYYY HH:mm",
           "direction": {
            "type": "counterclockwise"
           },
           "error_y": {
            "type": "data",
            "visible": true
           },
           "globalSeriesType": "column",
           "isAggregationOn": true,
           "legend": {
            "traceorder": "normal"
           },
           "missingValuesAsZero": true,
           "numberFormat": "0,0.[00000]",
           "percentFormat": "0[.]00%",
           "series": {
            "error_y": {
             "type": "data",
             "visible": true
            },
            "stacking": null
           },
           "seriesOptions": {
            "1": {
             "name": "QTR_ID-1"
            },
            "2": {
             "color": null,
             "name": "QTR_ID-2",
             "type": "column"
            },
            "3": {
             "color": null,
             "name": "QTR_ID-3",
             "type": "column"
            },
            "4": {
             "name": "QTR_ID-4"
            },
            "column_4c796d343": {
             "name": "MEDIAN_SALES",
             "type": "column",
             "yAxis": 0
            }
           },
           "showDataLabels": false,
           "sizemode": "diameter",
           "sortX": true,
           "sortY": true,
           "swappedAxes": false,
           "textFormat": "",
           "useAggregationsUi": true,
           "valuesOptions": {},
           "version": 2,
           "xAxis": {
            "labels": {
             "enabled": true
            },
            "type": "-"
           },
           "yAxis": [
            {
             "title": {
              "text": "MEDIAN_SALES"
             },
             "type": "-"
            },
            {
             "opposite": true,
             "type": "-"
            }
           ]
          }
         }
        ]
       },
       "datasetPreviewNameToCmdIdMap": {},
       "diffDeletes": [],
       "diffInserts": [],
       "displayType": "redashChart",
       "error": null,
       "errorDetails": null,
       "errorSummary": null,
       "errorTraceType": null,
       "finishTime": 0,
       "globalVars": {},
       "guid": "",
       "height": "auto",
       "hideCommandCode": false,
       "hideCommandResult": false,
       "iPythonMetadata": null,
       "inputWidgets": {},
       "isLockedInExamMode": false,
       "latestUser": "a user",
       "latestUserId": null,
       "listResultMetadata": null,
       "metadata": {},
       "nuid": "ca510c34-f751-4cac-aa6c-0ae84b80b5c1",
       "origId": 0,
       "parentHierarchy": [],
       "pivotAggregation": null,
       "pivotColumns": null,
       "position": 20.0,
       "resultDbfsErrorMessage": null,
       "resultDbfsStatus": "INLINED_IN_TREE",
       "results": null,
       "showCommandTitle": false,
       "startTime": 0,
       "state": "input",
       "streamStates": {},
       "subcommandOptions": {
        "queryPlan": {
         "groups": [
          {
           "column": "PRODUCTLINE",
           "type": "column"
          },
          {
           "column": "QTR_ID",
           "type": "column"
          }
         ],
         "selects": [
          {
           "column": "PRODUCTLINE",
           "type": "column"
          },
          {
           "alias": "column_4c796d343",
           "args": [
            {
             "column": "MEDIAN_SALES",
             "type": "column"
            }
           ],
           "function": "SUM",
           "type": "function"
          },
          {
           "column": "QTR_ID",
           "type": "column"
          }
         ]
        }
       },
       "submitTime": 0,
       "subtype": "tableResultSubCmd.visualization",
       "tableResultIndex": 0,
       "tableResultSettingsMap": null,
       "useConsistentColors": false,
       "version": "CommandV1",
       "width": "auto",
       "workflows": [],
       "xColumns": null,
       "yColumns": null
      }
     },
     "output_type": "display_data"
    }
   ],
   "source": [
    "%sql\n",
    " SELECT QTR_ID, PRODUCTLINE,PERCENTILE_CONT(0.5) WITHIN GROUP (ORDER BY SALES) AS MEDIAN_SALES\n",
    "FROM productssales\n",
    "GROUP BY QTR_ID, PRODUCTLINE\n",
    "ORDER BY QTR_ID, PRODUCTLINE;\n",
    "\n"
   ]
  },
  {
   "cell_type": "markdown",
   "metadata": {
    "application/vnd.databricks.v1+cell": {
     "cellMetadata": {},
     "inputWidgets": {},
     "nuid": "d0f314d3-ff42-4fa2-a670-9526cccee902",
     "showTitle": false,
     "title": ""
    }
   },
   "source": [
    "5)Percent Rank of Products Based on Gross Sales Amount in Each Quarter"
   ]
  },
  {
   "cell_type": "code",
   "execution_count": 0,
   "metadata": {
    "application/vnd.databricks.v1+cell": {
     "cellMetadata": {
      "byteLimit": 2048000,
      "implicitDf": true,
      "rowLimit": 10000
     },
     "inputWidgets": {},
     "nuid": "3546cbcf-2944-4be4-8411-dccb1e43f656",
     "showTitle": false,
     "title": ""
    }
   },
   "outputs": [
    {
     "output_type": "display_data",
     "data": {
      "text/html": [
       "<style scoped>\n",
       "  .table-result-container {\n",
       "    max-height: 300px;\n",
       "    overflow: auto;\n",
       "  }\n",
       "  table, th, td {\n",
       "    border: 1px solid black;\n",
       "    border-collapse: collapse;\n",
       "  }\n",
       "  th, td {\n",
       "    padding: 5px;\n",
       "  }\n",
       "  th {\n",
       "    text-align: left;\n",
       "  }\n",
       "</style><div class='table-result-container'><table class='table-result'><thead style='background-color: white'><tr><th>QTR_ID</th><th>PRODUCTline</th><th>total_sales</th><th>SALES_PERCENT_RANK</th></tr></thead><tbody><tr><td>1</td><td>Trains</td><td>58115.8</td><td>0.0</td></tr><tr><td>1</td><td>Ships</td><td>203877.3</td><td>0.16666666666666666</td></tr><tr><td>1</td><td>Trucks and Buses</td><td>208619.03999999998</td><td>0.3333333333333333</td></tr><tr><td>1</td><td>Planes</td><td>234356.50999999995</td><td>0.5</td></tr><tr><td>1</td><td>Motorcycles</td><td>264385.54</td><td>0.6666666666666666</td></tr><tr><td>1</td><td>Vintage Cars</td><td>501184.6400000001</td><td>0.8333333333333334</td></tr><tr><td>1</td><td>Classic Cars</td><td>880278.9000000003</td><td>1.0</td></tr><tr><td>2</td><td>Trains</td><td>35284.87</td><td>0.0</td></tr><tr><td>2</td><td>Ships</td><td>143114.27999999994</td><td>0.16666666666666666</td></tr><tr><td>2</td><td>Trucks and Buses</td><td>240838.42000000007</td><td>0.3333333333333333</td></tr><tr><td>2</td><td>Planes</td><td>247054.74999999997</td><td>0.5</td></tr><tr><td>2</td><td>Motorcycles</td><td>277822.26999999996</td><td>0.6666666666666666</td></tr><tr><td>2</td><td>Vintage Cars</td><td>337386.98</td><td>0.8333333333333334</td></tr><tr><td>2</td><td>Classic Cars</td><td>766618.7299999999</td><td>1.0</td></tr><tr><td>3</td><td>Trains</td><td>39450.159999999996</td><td>0.0</td></tr><tr><td>3</td><td>Ships</td><td>120498.22000000003</td><td>0.16666666666666666</td></tr><tr><td>3</td><td>Planes</td><td>143052.95000000007</td><td>0.3333333333333333</td></tr><tr><td>3</td><td>Trucks and Buses</td><td>199511.01000000007</td><td>0.5</td></tr><tr><td>3</td><td>Motorcycles</td><td>213194.7</td><td>0.6666666666666666</td></tr><tr><td>3</td><td>Vintage Cars</td><td>297935.30999999994</td><td>0.8333333333333334</td></tr><tr><td>3</td><td>Classic Cars</td><td>745268.4600000001</td><td>1.0</td></tr><tr><td>4</td><td>Trains</td><td>93392.64000000003</td><td>0.0</td></tr><tr><td>4</td><td>Ships</td><td>246947.33000000007</td><td>0.16666666666666666</td></tr><tr><td>4</td><td>Planes</td><td>350539.3599999998</td><td>0.3333333333333333</td></tr><tr><td>4</td><td>Motorcycles</td><td>410985.8299999999</td><td>0.5</td></tr><tr><td>4</td><td>Trucks and Buses</td><td>478821.36999999994</td><td>0.6666666666666666</td></tr><tr><td>4</td><td>Vintage Cars</td><td>766643.9099999997</td><td>0.8333333333333334</td></tr><tr><td>4</td><td>Classic Cars</td><td>1527449.569999999</td><td>1.0</td></tr></tbody></table></div>"
      ]
     },
     "metadata": {
      "application/vnd.databricks.v1+output": {
       "addedWidgets": {},
       "aggData": [],
       "aggError": "",
       "aggOverflow": false,
       "aggSchema": [],
       "aggSeriesLimitReached": false,
       "aggType": "",
       "arguments": {},
       "columnCustomDisplayInfos": {},
       "data": [
        [
         1,
         "Trains",
         58115.8,
         0.0
        ],
        [
         1,
         "Ships",
         203877.3,
         0.16666666666666666
        ],
        [
         1,
         "Trucks and Buses",
         208619.03999999998,
         0.3333333333333333
        ],
        [
         1,
         "Planes",
         234356.50999999995,
         0.5
        ],
        [
         1,
         "Motorcycles",
         264385.54,
         0.6666666666666666
        ],
        [
         1,
         "Vintage Cars",
         501184.6400000001,
         0.8333333333333334
        ],
        [
         1,
         "Classic Cars",
         880278.9000000003,
         1.0
        ],
        [
         2,
         "Trains",
         35284.87,
         0.0
        ],
        [
         2,
         "Ships",
         143114.27999999994,
         0.16666666666666666
        ],
        [
         2,
         "Trucks and Buses",
         240838.42000000007,
         0.3333333333333333
        ],
        [
         2,
         "Planes",
         247054.74999999997,
         0.5
        ],
        [
         2,
         "Motorcycles",
         277822.26999999996,
         0.6666666666666666
        ],
        [
         2,
         "Vintage Cars",
         337386.98,
         0.8333333333333334
        ],
        [
         2,
         "Classic Cars",
         766618.7299999999,
         1.0
        ],
        [
         3,
         "Trains",
         39450.159999999996,
         0.0
        ],
        [
         3,
         "Ships",
         120498.22000000003,
         0.16666666666666666
        ],
        [
         3,
         "Planes",
         143052.95000000007,
         0.3333333333333333
        ],
        [
         3,
         "Trucks and Buses",
         199511.01000000007,
         0.5
        ],
        [
         3,
         "Motorcycles",
         213194.7,
         0.6666666666666666
        ],
        [
         3,
         "Vintage Cars",
         297935.30999999994,
         0.8333333333333334
        ],
        [
         3,
         "Classic Cars",
         745268.4600000001,
         1.0
        ],
        [
         4,
         "Trains",
         93392.64000000003,
         0.0
        ],
        [
         4,
         "Ships",
         246947.33000000007,
         0.16666666666666666
        ],
        [
         4,
         "Planes",
         350539.3599999998,
         0.3333333333333333
        ],
        [
         4,
         "Motorcycles",
         410985.8299999999,
         0.5
        ],
        [
         4,
         "Trucks and Buses",
         478821.36999999994,
         0.6666666666666666
        ],
        [
         4,
         "Vintage Cars",
         766643.9099999997,
         0.8333333333333334
        ],
        [
         4,
         "Classic Cars",
         1527449.569999999,
         1.0
        ]
       ],
       "datasetInfos": [],
       "dbfsResultPath": null,
       "isJsonSchema": true,
       "metadata": {},
       "overflow": false,
       "plotOptions": {
        "customPlotOptions": {},
        "displayType": "table",
        "pivotAggregation": null,
        "pivotColumns": null,
        "xColumns": null,
        "yColumns": null
       },
       "removedWidgets": [],
       "schema": [
        {
         "metadata": "{}",
         "name": "QTR_ID",
         "type": "\"integer\""
        },
        {
         "metadata": "{}",
         "name": "PRODUCTline",
         "type": "\"string\""
        },
        {
         "metadata": "{}",
         "name": "total_sales",
         "type": "\"double\""
        },
        {
         "metadata": "{}",
         "name": "SALES_PERCENT_RANK",
         "type": "\"double\""
        }
       ],
       "type": "table"
      }
     },
     "output_type": "display_data"
    },
    {
     "output_type": "display_data",
     "data": {
      "text/plain": [
       "Databricks visualization. Run in Databricks to view."
      ]
     },
     "metadata": {
      "application/vnd.databricks.v1.subcommand+json": {
       "baseErrorDetails": null,
       "bindings": {},
       "collapsed": false,
       "command": "%sql WITH q AS (SELECT\n    QTR_ID,\n    PRODUCTline,\n    SUM(SALES) AS total_sales,\n    PERCENT_RANK() OVER (PARTITION BY QTR_ID ORDER BY SUM(SALES)) AS SALES_PERCENT_RANK\nFROM\n    productssales\nGROUP BY\n    QTR_ID,\n    PRODUCTline\nORDER BY\n    QTR_ID,\n    SALES_PERCENT_RANK) SELECT `PRODUCTline`,SUM(`SALES_PERCENT_RANK`) `column_4c796d3465`,`QTR_ID` FROM q GROUP BY `PRODUCTline`,`QTR_ID`",
       "commandTitle": "Visualization 1",
       "commandType": "auto",
       "commandVersion": 0,
       "commentThread": [],
       "commentsVisible": false,
       "contentSha256Hex": null,
       "customPlotOptions": {
        "redashChart": [
         {
          "key": "type",
          "value": "CHART"
         },
         {
          "key": "options",
          "value": {
           "alignYAxesAtZero": true,
           "coefficient": 1,
           "columnConfigurationMap": {
            "series": {
             "column": "QTR_ID",
             "id": "column_4c796d3467"
            },
            "x": {
             "column": "PRODUCTline",
             "id": "column_4c796d3463"
            },
            "y": [
             {
              "column": "SALES_PERCENT_RANK",
              "id": "column_4c796d3465",
              "transform": "SUM"
             }
            ]
           },
           "dateTimeFormat": "DD/MM/YYYY HH:mm",
           "direction": {
            "type": "counterclockwise"
           },
           "error_y": {
            "type": "data",
            "visible": true
           },
           "globalSeriesType": "column",
           "isAggregationOn": true,
           "legend": {
            "traceorder": "normal"
           },
           "missingValuesAsZero": false,
           "numberFormat": "0,0.[00000]",
           "percentFormat": "0[.]00%",
           "series": {
            "error_y": {
             "type": "data",
             "visible": true
            },
            "stacking": null
           },
           "seriesOptions": {
            "1": {
             "name": "QTR_ID-1"
            },
            "2": {
             "name": "QTR_ID-2"
            },
            "3": {
             "name": "QTR_ID-3"
            },
            "4": {
             "name": "QTR_ID-4"
            },
            "column_4c796d3465": {
             "type": "column",
             "yAxis": 0
            }
           },
           "showDataLabels": false,
           "sizemode": "diameter",
           "sortX": true,
           "sortY": true,
           "swappedAxes": false,
           "textFormat": "",
           "useAggregationsUi": true,
           "valuesOptions": {},
           "version": 2,
           "xAxis": {
            "labels": {
             "enabled": true
            },
            "title": {
             "text": "PRODUCTLINE"
            },
            "type": "-"
           },
           "yAxis": [
            {
             "title": {
              "text": "Sales_Percent_Rank"
             },
             "type": "-"
            },
            {
             "opposite": true,
             "type": "-"
            }
           ]
          }
         }
        ]
       },
       "datasetPreviewNameToCmdIdMap": {},
       "diffDeletes": [],
       "diffInserts": [],
       "displayType": "redashChart",
       "error": null,
       "errorDetails": null,
       "errorSummary": null,
       "errorTraceType": null,
       "finishTime": 0,
       "globalVars": {},
       "guid": "",
       "height": "auto",
       "hideCommandCode": false,
       "hideCommandResult": false,
       "iPythonMetadata": null,
       "inputWidgets": {},
       "isLockedInExamMode": false,
       "latestUser": "a user",
       "latestUserId": null,
       "listResultMetadata": null,
       "metadata": {},
       "nuid": "ce22ab11-60a0-458d-9ebc-c25febeedf73",
       "origId": 0,
       "parentHierarchy": [],
       "pivotAggregation": null,
       "pivotColumns": null,
       "position": 21.0,
       "resultDbfsErrorMessage": null,
       "resultDbfsStatus": "INLINED_IN_TREE",
       "results": null,
       "showCommandTitle": false,
       "startTime": 0,
       "state": "input",
       "streamStates": {},
       "subcommandOptions": {
        "queryPlan": {
         "groups": [
          {
           "column": "PRODUCTline",
           "type": "column"
          },
          {
           "column": "QTR_ID",
           "type": "column"
          }
         ],
         "selects": [
          {
           "column": "PRODUCTline",
           "type": "column"
          },
          {
           "alias": "column_4c796d3465",
           "args": [
            {
             "column": "SALES_PERCENT_RANK",
             "type": "column"
            }
           ],
           "function": "SUM",
           "type": "function"
          },
          {
           "column": "QTR_ID",
           "type": "column"
          }
         ]
        }
       },
       "submitTime": 0,
       "subtype": "tableResultSubCmd.visualization",
       "tableResultIndex": 0,
       "tableResultSettingsMap": null,
       "useConsistentColors": false,
       "version": "CommandV1",
       "width": "auto",
       "workflows": [],
       "xColumns": null,
       "yColumns": null
      }
     },
     "output_type": "display_data"
    }
   ],
   "source": [
    "%sql\n",
    "-- The value 0.00925 in the SALES_PERCENT_RANK column represents the percentile rank of the product’s total sales within the dataset. Specifically, it means that the product with PRODUCTCODE S18_2432 has higher total sales than approximately 0.925% of the other products in the dataset for that quarter.\n",
    "SELECT\n",
    "    QTR_ID,\n",
    "    PRODUCTline,\n",
    "    SUM(SALES) AS total_sales,\n",
    "    PERCENT_RANK() OVER (PARTITION BY QTR_ID ORDER BY SUM(SALES)) AS SALES_PERCENT_RANK\n",
    "FROM\n",
    "    productssales\n",
    "GROUP BY\n",
    "    QTR_ID,\n",
    "    PRODUCTline\n",
    "ORDER BY\n",
    "    QTR_ID,\n",
    "    SALES_PERCENT_RANK;\n"
   ]
  },
  {
   "cell_type": "markdown",
   "metadata": {
    "application/vnd.databricks.v1+cell": {
     "cellMetadata": {},
     "inputWidgets": {},
     "nuid": "3c75771a-8bf2-464e-a7de-c1d73361012b",
     "showTitle": false,
     "title": ""
    }
   },
   "source": [
    "6)Categorize Product Category Sales Performance as 'High', 'Medium', or 'Low' Based on Percentiles"
   ]
  },
  {
   "cell_type": "code",
   "execution_count": 0,
   "metadata": {
    "application/vnd.databricks.v1+cell": {
     "cellMetadata": {
      "byteLimit": 2048000,
      "implicitDf": true,
      "rowLimit": 10000
     },
     "inputWidgets": {},
     "nuid": "3effecd0-568c-43f5-8277-56801870814d",
     "showTitle": false,
     "title": ""
    }
   },
   "outputs": [
    {
     "output_type": "display_data",
     "data": {
      "text/html": [
       "<style scoped>\n",
       "  .table-result-container {\n",
       "    max-height: 300px;\n",
       "    overflow: auto;\n",
       "  }\n",
       "  table, th, td {\n",
       "    border: 1px solid black;\n",
       "    border-collapse: collapse;\n",
       "  }\n",
       "  th, td {\n",
       "    padding: 5px;\n",
       "  }\n",
       "  th {\n",
       "    text-align: left;\n",
       "  }\n",
       "</style><div class='table-result-container'><table class='table-result'><thead style='background-color: white'><tr><th>PRODUCTLINE</th><th>SalesProfit</th><th>Category</th></tr></thead><tbody><tr><td>Ships</td><td>5.11</td><td>Low</td></tr><tr><td>Trains</td><td>9.92</td><td>Low</td></tr><tr><td>Planes</td><td>9.95</td><td>Low</td></tr><tr><td>Vintage Cars</td><td>13.61</td><td>Medium</td></tr><tr><td>Trucks and Buses</td><td>16.0</td><td>Medium</td></tr><tr><td>Motorcycles</td><td>16.74</td><td>High</td></tr><tr><td>Classic Cars</td><td>24.26</td><td>High</td></tr></tbody></table></div>"
      ]
     },
     "metadata": {
      "application/vnd.databricks.v1+output": {
       "addedWidgets": {},
       "aggData": [],
       "aggError": "",
       "aggOverflow": false,
       "aggSchema": [],
       "aggSeriesLimitReached": false,
       "aggType": "",
       "arguments": {},
       "columnCustomDisplayInfos": {},
       "data": [
        [
         "Ships",
         5.11,
         "Low"
        ],
        [
         "Trains",
         9.92,
         "Low"
        ],
        [
         "Planes",
         9.95,
         "Low"
        ],
        [
         "Vintage Cars",
         13.61,
         "Medium"
        ],
        [
         "Trucks and Buses",
         16.0,
         "Medium"
        ],
        [
         "Motorcycles",
         16.74,
         "High"
        ],
        [
         "Classic Cars",
         24.26,
         "High"
        ]
       ],
       "datasetInfos": [],
       "dbfsResultPath": null,
       "isJsonSchema": true,
       "metadata": {},
       "overflow": false,
       "plotOptions": {
        "customPlotOptions": {},
        "displayType": "table",
        "pivotAggregation": null,
        "pivotColumns": null,
        "xColumns": null,
        "yColumns": null
       },
       "removedWidgets": [],
       "schema": [
        {
         "metadata": "{}",
         "name": "PRODUCTLINE",
         "type": "\"string\""
        },
        {
         "metadata": "{}",
         "name": "SalesProfit",
         "type": "\"double\""
        },
        {
         "metadata": "{}",
         "name": "Category",
         "type": "\"string\""
        }
       ],
       "type": "table"
      }
     },
     "output_type": "display_data"
    },
    {
     "output_type": "display_data",
     "data": {
      "text/plain": [
       "Databricks visualization. Run in Databricks to view."
      ]
     },
     "metadata": {
      "application/vnd.databricks.v1.subcommand+json": {
       "baseErrorDetails": null,
       "bindings": {},
       "collapsed": false,
       "command": "%sql WITH q AS (WITH SalesPercentiles AS (\n    SELECT\n        QTR_ID,\n        PRODUCTCODE,\n        SALES,\n        NTILE(100) OVER (PARTITION BY QTR_ID ORDER BY SALES DESC) AS PERCENTILE\n    FROM productssales\n)\nSELECT\n    QTR_ID,\n    PRODUCTCODE,\n    SALES,\n    CASE\n        WHEN PERCENTILE <= 25 THEN 'Low'\n        WHEN PERCENTILE BETWEEN 26 AND 75 THEN 'Medium'\n        ELSE 'High'\n    END AS PERFORMANCE_CATEGORY\nFROM SalesPercentiles\nORDER BY QTR_ID, PRODUCTCODE) SELECT `PRODUCTCODE`,SUM(`SALES`) `column_4c796d3430`,`PERFORMANCE_CATEGORY` FROM q GROUP BY `PERFORMANCE_CATEGORY`,`PRODUCTCODE`",
       "commandTitle": "Visualization 1",
       "commandType": "auto",
       "commandVersion": 0,
       "commentThread": [],
       "commentsVisible": false,
       "contentSha256Hex": null,
       "customPlotOptions": {
        "redashChart": [
         {
          "key": "type",
          "value": "CHART"
         },
         {
          "key": "options",
          "value": {
           "alignYAxesAtZero": true,
           "coefficient": 1,
           "columnConfigurationMap": {
            "series": {
             "column": "Category",
             "id": "column_4c796d3435"
            },
            "x": {
             "column": "PRODUCTLINE",
             "id": "column_4c796d3434"
            },
            "y": [
             {
              "column": "SalesProfit",
              "id": "column_4c796d3430",
              "transform": "SUM"
             }
            ]
           },
           "dateTimeFormat": "DD/MM/YYYY HH:mm",
           "direction": {
            "type": "counterclockwise"
           },
           "error_y": {
            "type": "data",
            "visible": true
           },
           "globalSeriesType": "column",
           "isAggregationOn": true,
           "legend": {
            "traceorder": "normal"
           },
           "missingValuesAsZero": false,
           "numberFormat": "0,0.[00000]",
           "percentFormat": "0[.]00%",
           "series": {
            "error_y": {
             "type": "data",
             "visible": true
            },
            "stacking": null
           },
           "seriesOptions": {
            "High": {
             "color": "#17BF51"
            },
            "Medium": {
             "color": "#FB8D3D"
            },
            "column_4c796d3430": {
             "type": "column",
             "yAxis": 0
            }
           },
           "showDataLabels": false,
           "sizemode": "diameter",
           "sortX": false,
           "sortY": true,
           "swappedAxes": false,
           "textFormat": "",
           "useAggregationsUi": true,
           "valuesOptions": {},
           "version": 2,
           "xAxis": {
            "labels": {
             "enabled": true
            },
            "title": {
             "text": null
            },
            "type": "-"
           },
           "yAxis": [
            {
             "title": {
              "text": "SalesProfit_Percentage"
             },
             "type": "-"
            },
            {
             "opposite": true,
             "type": "-"
            }
           ]
          }
         }
        ]
       },
       "datasetPreviewNameToCmdIdMap": {},
       "diffDeletes": [],
       "diffInserts": [],
       "displayType": "redashChart",
       "error": null,
       "errorDetails": null,
       "errorSummary": null,
       "errorTraceType": null,
       "finishTime": 0,
       "globalVars": {},
       "guid": "",
       "height": "auto",
       "hideCommandCode": false,
       "hideCommandResult": false,
       "iPythonMetadata": null,
       "inputWidgets": {},
       "isLockedInExamMode": false,
       "latestUser": "a user",
       "latestUserId": null,
       "listResultMetadata": null,
       "metadata": {},
       "nuid": "cfd5f696-e649-4952-b958-8cdfb9b15d56",
       "origId": 0,
       "parentHierarchy": [],
       "pivotAggregation": null,
       "pivotColumns": null,
       "position": 22.0,
       "resultDbfsErrorMessage": null,
       "resultDbfsStatus": "INLINED_IN_TREE",
       "results": null,
       "showCommandTitle": false,
       "startTime": 0,
       "state": "input",
       "streamStates": {},
       "subcommandOptions": {
        "queryPlan": {
         "groups": [
          {
           "column": "PRODUCTLINE",
           "type": "column"
          },
          {
           "column": "Category",
           "type": "column"
          }
         ],
         "selects": [
          {
           "column": "PRODUCTLINE",
           "type": "column"
          },
          {
           "alias": "column_4c796d3430",
           "args": [
            {
             "column": "SalesProfit",
             "type": "column"
            }
           ],
           "function": "SUM",
           "type": "function"
          },
          {
           "column": "Category",
           "type": "column"
          }
         ]
        }
       },
       "submitTime": 0,
       "subtype": "tableResultSubCmd.visualization",
       "tableResultIndex": 0,
       "tableResultSettingsMap": null,
       "useConsistentColors": false,
       "version": "CommandV1",
       "width": "auto",
       "workflows": [],
       "xColumns": null,
       "yColumns": null
      }
     },
     "output_type": "display_data"
    }
   ],
   "source": [
    "%sql\n",
    "\n",
    "-- # WITH SalesPercentiles AS (\n",
    "-- #     SELECT\n",
    "-- #         QTR_ID,\n",
    "-- #         PRODUCTCODE,\n",
    "-- #         SALES,\n",
    "-- #         NTILE(100) OVER (PARTITION BY QTR_ID ORDER BY SALES DESC) AS PERCENTILE\n",
    "-- #     FROM productssales\n",
    "-- # )\n",
    "-- # SELECT\n",
    "-- #     QTR_ID,\n",
    "-- #     PRODUCTCODE,\n",
    "-- #     SALES,\n",
    "-- #     CASE\n",
    "-- #         WHEN PERCENTILE <= 25 THEN 'Low'\n",
    "-- #         WHEN PERCENTILE BETWEEN 26 AND 75 THEN 'Medium'\n",
    "-- #         ELSE 'High'\n",
    "-- #     END AS PERFORMANCE_CATEGORY\n",
    "-- # FROM SalesPercentiles\n",
    "-- # ORDER BY QTR_ID, PRODUCTCODE\n",
    "\n",
    "select PRODUCTLINE, SalesProfit,\n",
    "case\n",
    "  when Tile = 3 then 'High'\n",
    "  when Tile = 2 then 'Medium'\n",
    "  else 'Low'\n",
    "end as Category\n",
    "from (select PRODUCTLINE, round(sum(SALES - (PRICEEACH*QUANTITYORDERED))*100/sum(SALES),2) as SalesProfit,\n",
    "ntile(3) over(order by (sum(SALES - (PRICEEACH*QUANTITYORDERED))*100/sum(SALES))) as Tile\n",
    "from productssales\n",
    "group by PRODUCTLINE\n",
    "order by Tile) as CTE\n",
    "  "
   ]
  },
  {
   "cell_type": "markdown",
   "metadata": {
    "application/vnd.databricks.v1+cell": {
     "cellMetadata": {},
     "inputWidgets": {},
     "nuid": "0f999fae-0227-4e0d-a179-e605858829f3",
     "showTitle": false,
     "title": ""
    }
   },
   "source": [
    "7)Rank 5 Customers by Total Purchase in every Quarter of Each Year."
   ]
  },
  {
   "cell_type": "code",
   "execution_count": 0,
   "metadata": {
    "application/vnd.databricks.v1+cell": {
     "cellMetadata": {
      "byteLimit": 2048000,
      "implicitDf": true,
      "rowLimit": 10000
     },
     "inputWidgets": {},
     "nuid": "3a4ffc68-b8f6-409f-935e-bf9ba24c8aac",
     "showTitle": false,
     "title": ""
    }
   },
   "outputs": [
    {
     "output_type": "display_data",
     "data": {
      "text/html": [
       "<style scoped>\n",
       "  .table-result-container {\n",
       "    max-height: 300px;\n",
       "    overflow: auto;\n",
       "  }\n",
       "  table, th, td {\n",
       "    border: 1px solid black;\n",
       "    border-collapse: collapse;\n",
       "  }\n",
       "  th, td {\n",
       "    padding: 5px;\n",
       "  }\n",
       "  th {\n",
       "    text-align: left;\n",
       "  }\n",
       "</style><div class='table-result-container'><table class='table-result'><thead style='background-color: white'><tr><th>year_id</th><th>qtr_id</th><th>customername</th><th>TOTAL_PURCHASE</th><th>Rank</th></tr></thead><tbody><tr><td>2003</td><td>1</td><td>Rovelli Gifts</td><td>52286.77</td><td>1</td></tr><tr><td>2003</td><td>1</td><td>Baane Mini Imports</td><td>47886.21</td><td>2</td></tr><tr><td>2003</td><td>1</td><td>Cruz & Sons Co.</td><td>47185.22</td><td>3</td></tr><tr><td>2003</td><td>1</td><td>Danish Wholesale Imports</td><td>46614.170000000006</td><td>4</td></tr><tr><td>2003</td><td>1</td><td>AV Stores, Co.</td><td>43515.07</td><td>5</td></tr><tr><td>2003</td><td>2</td><td>Corrida Auto Replicas, Ltd</td><td>52927.75</td><td>1</td></tr><tr><td>2003</td><td>2</td><td>Australian Collectors, Co.</td><td>50117.99</td><td>2</td></tr><tr><td>2003</td><td>2</td><td>Muscle Machine Inc</td><td>46314.64</td><td>3</td></tr><tr><td>2003</td><td>2</td><td>Marseille Mini Autos</td><td>42888.13</td><td>4</td></tr><tr><td>2003</td><td>2</td><td>Euro Shopping Channel</td><td>37092.61</td><td>5</td></tr><tr><td>2003</td><td>3</td><td>Mini Gifts Distributors Ltd.</td><td>98547.77</td><td>1</td></tr><tr><td>2003</td><td>3</td><td>Toys4GrownUps.com</td><td>47663.049999999996</td><td>2</td></tr><tr><td>2003</td><td>3</td><td>Mini Creations Ltd.</td><td>42578.43</td><td>3</td></tr><tr><td>2003</td><td>3</td><td>Euro Shopping Channel</td><td>39290.72</td><td>4</td></tr><tr><td>2003</td><td>3</td><td>Anna's Decorations, Ltd</td><td>38062.520000000004</td><td>5</td></tr><tr><td>2003</td><td>4</td><td>Corporate Gift Ideas Co.</td><td>76731.77000000002</td><td>1</td></tr><tr><td>2003</td><td>4</td><td>Herkku Gifts</td><td>74716.33</td><td>2</td></tr><tr><td>2003</td><td>4</td><td>Euro Shopping Channel</td><td>64084.23000000001</td><td>3</td></tr><tr><td>2003</td><td>4</td><td>Dragon Souveniers, Ltd.</td><td>57334.56</td><td>4</td></tr><tr><td>2003</td><td>4</td><td>Technics Stores Inc.</td><td>55176.87</td><td>5</td></tr><tr><td>2004</td><td>1</td><td>Saveley & Henriot, Co.</td><td>84856.15000000002</td><td>1</td></tr><tr><td>2004</td><td>1</td><td>Collectable Mini Designs Co.</td><td>78462.06999999998</td><td>2</td></tr><tr><td>2004</td><td>1</td><td>Euro Shopping Channel</td><td>54145.94</td><td>3</td></tr><tr><td>2004</td><td>1</td><td>Osaka Souveniers Co.</td><td>44120.65000000001</td><td>4</td></tr><tr><td>2004</td><td>1</td><td>Auto Canal Petit</td><td>43134.619999999995</td><td>5</td></tr><tr><td>2004</td><td>2</td><td>Euro Shopping Channel</td><td>104371.60999999999</td><td>1</td></tr><tr><td>2004</td><td>2</td><td>The Sharp Gifts Warehouse</td><td>58692.89000000001</td><td>2</td></tr><tr><td>2004</td><td>2</td><td>Land of Toys Inc.</td><td>40345.49999999999</td><td>3</td></tr><tr><td>2004</td><td>2</td><td>UK Collectables, Ltd.</td><td>38855.28</td><td>4</td></tr><tr><td>2004</td><td>2</td><td>Handji Gifts& Co</td><td>37451.74</td><td>5</td></tr><tr><td>2004</td><td>3</td><td>Mini Gifts Distributors Ltd.</td><td>72655.16</td><td>1</td></tr><tr><td>2004</td><td>3</td><td>Amica Models & Co.</td><td>72645.01</td><td>2</td></tr><tr><td>2004</td><td>3</td><td>Diecast Classics Inc.</td><td>55582.44999999999</td><td>3</td></tr><tr><td>2004</td><td>3</td><td>Vida Sport, Ltd</td><td>52926.07000000001</td><td>4</td></tr><tr><td>2004</td><td>3</td><td>La Rochelle Gifts</td><td>49791.54000000001</td><td>5</td></tr><tr><td>2004</td><td>4</td><td>Euro Shopping Channel</td><td>145830.33999999997</td><td>1</td></tr><tr><td>2004</td><td>4</td><td>AV Stores, Co.</td><td>93358.18</td><td>2</td></tr><tr><td>2004</td><td>4</td><td>Mini Gifts Distributors Ltd.</td><td>91135.60999999999</td><td>3</td></tr><tr><td>2004</td><td>4</td><td>Australian Collectors, Co.</td><td>71625.94</td><td>4</td></tr><tr><td>2004</td><td>4</td><td>Volvo Model Replicas, Co</td><td>53174.21</td><td>5</td></tr><tr><td>2005</td><td>1</td><td>Euro Shopping Channel</td><td>178950.41999999998</td><td>1</td></tr><tr><td>2005</td><td>1</td><td>Mini Gifts Distributors Ltd.</td><td>167832.5</td><td>2</td></tr><tr><td>2005</td><td>1</td><td>Reims Collectables</td><td>48728.82000000001</td><td>3</td></tr><tr><td>2005</td><td>1</td><td>La Rochelle Gifts</td><td>48561.270000000004</td><td>4</td></tr><tr><td>2005</td><td>1</td><td>Anna's Decorations, Ltd</td><td>47541.28999999999</td><td>5</td></tr><tr><td>2005</td><td>2</td><td>Euro Shopping Channel</td><td>87507.07</td><td>1</td></tr><tr><td>2005</td><td>2</td><td>The Sharp Gifts Warehouse</td><td>77690.14999999998</td><td>2</td></tr><tr><td>2005</td><td>2</td><td>Salzburg Collectables</td><td>46475.40000000001</td><td>3</td></tr><tr><td>2005</td><td>2</td><td>Tekni Collectables Inc.</td><td>46391.079999999994</td><td>4</td></tr><tr><td>2005</td><td>2</td><td>Gifts4AllAges.com</td><td>44166.21</td><td>5</td></tr></tbody></table></div>"
      ]
     },
     "metadata": {
      "application/vnd.databricks.v1+output": {
       "addedWidgets": {},
       "aggData": [],
       "aggError": "",
       "aggOverflow": false,
       "aggSchema": [],
       "aggSeriesLimitReached": false,
       "aggType": "",
       "arguments": {},
       "columnCustomDisplayInfos": {},
       "data": [
        [
         2003,
         1,
         "Rovelli Gifts",
         52286.77,
         1
        ],
        [
         2003,
         1,
         "Baane Mini Imports",
         47886.21,
         2
        ],
        [
         2003,
         1,
         "Cruz & Sons Co.",
         47185.22,
         3
        ],
        [
         2003,
         1,
         "Danish Wholesale Imports",
         46614.170000000006,
         4
        ],
        [
         2003,
         1,
         "AV Stores, Co.",
         43515.07,
         5
        ],
        [
         2003,
         2,
         "Corrida Auto Replicas, Ltd",
         52927.75,
         1
        ],
        [
         2003,
         2,
         "Australian Collectors, Co.",
         50117.99,
         2
        ],
        [
         2003,
         2,
         "Muscle Machine Inc",
         46314.64,
         3
        ],
        [
         2003,
         2,
         "Marseille Mini Autos",
         42888.13,
         4
        ],
        [
         2003,
         2,
         "Euro Shopping Channel",
         37092.61,
         5
        ],
        [
         2003,
         3,
         "Mini Gifts Distributors Ltd.",
         98547.77,
         1
        ],
        [
         2003,
         3,
         "Toys4GrownUps.com",
         47663.049999999996,
         2
        ],
        [
         2003,
         3,
         "Mini Creations Ltd.",
         42578.43,
         3
        ],
        [
         2003,
         3,
         "Euro Shopping Channel",
         39290.72,
         4
        ],
        [
         2003,
         3,
         "Anna's Decorations, Ltd",
         38062.520000000004,
         5
        ],
        [
         2003,
         4,
         "Corporate Gift Ideas Co.",
         76731.77000000002,
         1
        ],
        [
         2003,
         4,
         "Herkku Gifts",
         74716.33,
         2
        ],
        [
         2003,
         4,
         "Euro Shopping Channel",
         64084.23000000001,
         3
        ],
        [
         2003,
         4,
         "Dragon Souveniers, Ltd.",
         57334.56,
         4
        ],
        [
         2003,
         4,
         "Technics Stores Inc.",
         55176.87,
         5
        ],
        [
         2004,
         1,
         "Saveley & Henriot, Co.",
         84856.15000000002,
         1
        ],
        [
         2004,
         1,
         "Collectable Mini Designs Co.",
         78462.06999999998,
         2
        ],
        [
         2004,
         1,
         "Euro Shopping Channel",
         54145.94,
         3
        ],
        [
         2004,
         1,
         "Osaka Souveniers Co.",
         44120.65000000001,
         4
        ],
        [
         2004,
         1,
         "Auto Canal Petit",
         43134.619999999995,
         5
        ],
        [
         2004,
         2,
         "Euro Shopping Channel",
         104371.60999999999,
         1
        ],
        [
         2004,
         2,
         "The Sharp Gifts Warehouse",
         58692.89000000001,
         2
        ],
        [
         2004,
         2,
         "Land of Toys Inc.",
         40345.49999999999,
         3
        ],
        [
         2004,
         2,
         "UK Collectables, Ltd.",
         38855.28,
         4
        ],
        [
         2004,
         2,
         "Handji Gifts& Co",
         37451.74,
         5
        ],
        [
         2004,
         3,
         "Mini Gifts Distributors Ltd.",
         72655.16,
         1
        ],
        [
         2004,
         3,
         "Amica Models & Co.",
         72645.01,
         2
        ],
        [
         2004,
         3,
         "Diecast Classics Inc.",
         55582.44999999999,
         3
        ],
        [
         2004,
         3,
         "Vida Sport, Ltd",
         52926.07000000001,
         4
        ],
        [
         2004,
         3,
         "La Rochelle Gifts",
         49791.54000000001,
         5
        ],
        [
         2004,
         4,
         "Euro Shopping Channel",
         145830.33999999997,
         1
        ],
        [
         2004,
         4,
         "AV Stores, Co.",
         93358.18,
         2
        ],
        [
         2004,
         4,
         "Mini Gifts Distributors Ltd.",
         91135.60999999999,
         3
        ],
        [
         2004,
         4,
         "Australian Collectors, Co.",
         71625.94,
         4
        ],
        [
         2004,
         4,
         "Volvo Model Replicas, Co",
         53174.21,
         5
        ],
        [
         2005,
         1,
         "Euro Shopping Channel",
         178950.41999999998,
         1
        ],
        [
         2005,
         1,
         "Mini Gifts Distributors Ltd.",
         167832.5,
         2
        ],
        [
         2005,
         1,
         "Reims Collectables",
         48728.82000000001,
         3
        ],
        [
         2005,
         1,
         "La Rochelle Gifts",
         48561.270000000004,
         4
        ],
        [
         2005,
         1,
         "Anna's Decorations, Ltd",
         47541.28999999999,
         5
        ],
        [
         2005,
         2,
         "Euro Shopping Channel",
         87507.07,
         1
        ],
        [
         2005,
         2,
         "The Sharp Gifts Warehouse",
         77690.14999999998,
         2
        ],
        [
         2005,
         2,
         "Salzburg Collectables",
         46475.40000000001,
         3
        ],
        [
         2005,
         2,
         "Tekni Collectables Inc.",
         46391.079999999994,
         4
        ],
        [
         2005,
         2,
         "Gifts4AllAges.com",
         44166.21,
         5
        ]
       ],
       "datasetInfos": [],
       "dbfsResultPath": null,
       "isJsonSchema": true,
       "metadata": {},
       "overflow": false,
       "plotOptions": {
        "customPlotOptions": {},
        "displayType": "table",
        "pivotAggregation": null,
        "pivotColumns": null,
        "xColumns": null,
        "yColumns": null
       },
       "removedWidgets": [],
       "schema": [
        {
         "metadata": "{}",
         "name": "year_id",
         "type": "\"integer\""
        },
        {
         "metadata": "{}",
         "name": "qtr_id",
         "type": "\"integer\""
        },
        {
         "metadata": "{}",
         "name": "customername",
         "type": "\"string\""
        },
        {
         "metadata": "{}",
         "name": "TOTAL_PURCHASE",
         "type": "\"double\""
        },
        {
         "metadata": "{}",
         "name": "Rank",
         "type": "\"integer\""
        }
       ],
       "type": "table"
      }
     },
     "output_type": "display_data"
    },
    {
     "output_type": "display_data",
     "data": {
      "text/plain": [
       "Databricks visualization. Run in Databricks to view."
      ]
     },
     "metadata": {
      "application/vnd.databricks.v1.subcommand+json": {
       "baseErrorDetails": null,
       "bindings": {},
       "collapsed": false,
       "command": "%sql WITH q AS (with cost_cte as (\n  select qtr_id,year_id,customername,quantityordered,priceeach,quantityordered*priceeach as total_cost from productssales\n),\nper_customer_cte as(\n  select year_id,qtr_id,customername,sum(total_cost) as TOTAL_PURCHASE from cost_cte \n  group by qtr_id,year_id,customername\n  order by year_id,qtr_id,customername\n),\nranked_cte as (\n  select *,rank() over(partition by year_id,qtr_id order by TOTAL_PURCHASE desc) as Rank from per_customer_cte\n)\nselect * from ranked_cte\nwhere Rank<=5) SELECT `customername`,SUM(`TOTAL_PURCHASE`) `column_4c796d3417`,`year_id` FROM q GROUP BY `customername`,`year_id`",
       "commandTitle": "Visualization 1",
       "commandType": "auto",
       "commandVersion": 0,
       "commentThread": [],
       "commentsVisible": false,
       "contentSha256Hex": null,
       "customPlotOptions": {
        "redashChart": [
         {
          "key": "type",
          "value": "CHART"
         },
         {
          "key": "options",
          "value": {
           "alignYAxesAtZero": true,
           "coefficient": 1,
           "columnConfigurationMap": {
            "series": {
             "column": "year_id",
             "id": "column_4c796d3427"
            },
            "x": {
             "column": "customername",
             "id": "column_4c796d3419"
            },
            "y": [
             {
              "column": "TOTAL_PURCHASE",
              "id": "column_4c796d3417",
              "transform": "SUM"
             }
            ]
           },
           "dateTimeFormat": "DD/MM/YYYY HH:mm",
           "direction": {
            "type": "counterclockwise"
           },
           "error_y": {
            "type": "data",
            "visible": true
           },
           "globalSeriesType": "column",
           "isAggregationOn": true,
           "legend": {
            "traceorder": "normal"
           },
           "missingValuesAsZero": false,
           "numberFormat": "0,0.[00000]",
           "percentFormat": "0[.]00%",
           "series": {
            "error_y": {
             "type": "data",
             "visible": true
            },
            "stacking": null
           },
           "seriesOptions": {
            "column_4c796d3417": {
             "type": "column",
             "yAxis": 0
            }
           },
           "showDataLabels": false,
           "sizemode": "diameter",
           "sortX": true,
           "sortY": true,
           "swappedAxes": true,
           "textFormat": "",
           "useAggregationsUi": true,
           "valuesOptions": {},
           "version": 2,
           "xAxis": {
            "labels": {
             "enabled": true
            },
            "type": "-"
           },
           "yAxis": [
            {
             "type": "-"
            },
            {
             "opposite": true,
             "type": "-"
            }
           ]
          }
         }
        ]
       },
       "datasetPreviewNameToCmdIdMap": {},
       "diffDeletes": [],
       "diffInserts": [],
       "displayType": "redashChart",
       "error": null,
       "errorDetails": null,
       "errorSummary": null,
       "errorTraceType": null,
       "finishTime": 0,
       "globalVars": {},
       "guid": "",
       "height": "auto",
       "hideCommandCode": false,
       "hideCommandResult": false,
       "iPythonMetadata": null,
       "inputWidgets": {},
       "isLockedInExamMode": false,
       "latestUser": "a user",
       "latestUserId": null,
       "listResultMetadata": null,
       "metadata": {},
       "nuid": "0959244b-c737-4be0-9356-eb6a14d38362",
       "origId": 0,
       "parentHierarchy": [],
       "pivotAggregation": null,
       "pivotColumns": null,
       "position": 23.0,
       "resultDbfsErrorMessage": null,
       "resultDbfsStatus": "INLINED_IN_TREE",
       "results": null,
       "showCommandTitle": false,
       "startTime": 0,
       "state": "input",
       "streamStates": {},
       "subcommandOptions": {
        "queryPlan": {
         "groups": [
          {
           "column": "customername",
           "type": "column"
          },
          {
           "column": "year_id",
           "type": "column"
          }
         ],
         "selects": [
          {
           "column": "customername",
           "type": "column"
          },
          {
           "alias": "column_4c796d3417",
           "args": [
            {
             "column": "TOTAL_PURCHASE",
             "type": "column"
            }
           ],
           "function": "SUM",
           "type": "function"
          },
          {
           "column": "year_id",
           "type": "column"
          }
         ]
        }
       },
       "submitTime": 0,
       "subtype": "tableResultSubCmd.visualization",
       "tableResultIndex": 0,
       "tableResultSettingsMap": null,
       "useConsistentColors": false,
       "version": "CommandV1",
       "width": "auto",
       "workflows": [],
       "xColumns": null,
       "yColumns": null
      }
     },
     "output_type": "display_data"
    }
   ],
   "source": [
    "%sql\n",
    "with cost_cte as (\n",
    "  select qtr_id,year_id,customername,quantityordered,priceeach,quantityordered*priceeach as total_cost from productssales\n",
    "),\n",
    "per_customer_cte as(\n",
    "  select year_id,qtr_id,customername,sum(total_cost) as TOTAL_PURCHASE from cost_cte \n",
    "  group by qtr_id,year_id,customername\n",
    "  order by year_id,qtr_id,customername\n",
    "),\n",
    "ranked_cte as (\n",
    "  select *,rank() over(partition by year_id,qtr_id order by TOTAL_PURCHASE desc) as Rank from per_customer_cte\n",
    ")\n",
    "select * from ranked_cte\n",
    "where Rank<=5\n"
   ]
  },
  {
   "cell_type": "markdown",
   "metadata": {
    "application/vnd.databricks.v1+cell": {
     "cellMetadata": {},
     "inputWidgets": {},
     "nuid": "d833b147-8689-448b-8c0f-c727e94b4d80",
     "showTitle": false,
     "title": ""
    }
   },
   "source": [
    "Identify and Present the Trends of Sales Growth by Month"
   ]
  },
  {
   "cell_type": "code",
   "execution_count": 0,
   "metadata": {
    "application/vnd.databricks.v1+cell": {
     "cellMetadata": {
      "byteLimit": 2048000,
      "implicitDf": true,
      "rowLimit": 10000
     },
     "inputWidgets": {},
     "nuid": "336a756f-6efe-4aa7-a995-22dcf279a027",
     "showTitle": false,
     "title": ""
    }
   },
   "outputs": [
    {
     "output_type": "display_data",
     "data": {
      "text/html": [
       "<style scoped>\n",
       "  .table-result-container {\n",
       "    max-height: 300px;\n",
       "    overflow: auto;\n",
       "  }\n",
       "  table, th, td {\n",
       "    border: 1px solid black;\n",
       "    border-collapse: collapse;\n",
       "  }\n",
       "  th, td {\n",
       "    padding: 5px;\n",
       "  }\n",
       "  th {\n",
       "    text-align: left;\n",
       "  }\n",
       "</style><div class='table-result-container'><table class='table-result'><thead style='background-color: white'><tr><th>MONTH_ID</th><th>TotalSales</th><th>NextTotalSales</th><th>Diff</th></tr></thead><tbody><tr><td>1</td><td>785874.44</td><td>810441.9</td><td>24567.46</td></tr><tr><td>2</td><td>810441.9</td><td>754501.39</td><td>-55940.51</td></tr><tr><td>3</td><td>754501.39</td><td>669390.96</td><td>-85110.43</td></tr><tr><td>4</td><td>669390.96</td><td>923972.56</td><td>254581.6</td></tr><tr><td>5</td><td>923972.56</td><td>454756.78</td><td>-469215.78</td></tr><tr><td>6</td><td>454756.78</td><td>514875.97</td><td>60119.19</td></tr><tr><td>7</td><td>514875.97</td><td>659310.57</td><td>144434.6</td></tr><tr><td>8</td><td>659310.57</td><td>584724.27</td><td>-74586.3</td></tr><tr><td>9</td><td>584724.27</td><td>1121215.22</td><td>536490.95</td></tr><tr><td>10</td><td>1121215.22</td><td>2118885.67</td><td>997670.45</td></tr><tr><td>11</td><td>2118885.67</td><td>634679.12</td><td>-1484206.55</td></tr><tr><td>12</td><td>634679.12</td><td>null</td><td>null</td></tr></tbody></table></div>"
      ]
     },
     "metadata": {
      "application/vnd.databricks.v1+output": {
       "addedWidgets": {},
       "aggData": [],
       "aggError": "",
       "aggOverflow": false,
       "aggSchema": [],
       "aggSeriesLimitReached": false,
       "aggType": "",
       "arguments": {},
       "columnCustomDisplayInfos": {},
       "data": [
        [
         1,
         785874.44,
         810441.9,
         24567.46
        ],
        [
         2,
         810441.9,
         754501.39,
         -55940.51
        ],
        [
         3,
         754501.39,
         669390.96,
         -85110.43
        ],
        [
         4,
         669390.96,
         923972.56,
         254581.6
        ],
        [
         5,
         923972.56,
         454756.78,
         -469215.78
        ],
        [
         6,
         454756.78,
         514875.97,
         60119.19
        ],
        [
         7,
         514875.97,
         659310.57,
         144434.6
        ],
        [
         8,
         659310.57,
         584724.27,
         -74586.3
        ],
        [
         9,
         584724.27,
         1121215.22,
         536490.95
        ],
        [
         10,
         1121215.22,
         2118885.67,
         997670.45
        ],
        [
         11,
         2118885.67,
         634679.12,
         -1484206.55
        ],
        [
         12,
         634679.12,
         null,
         null
        ]
       ],
       "datasetInfos": [],
       "dbfsResultPath": null,
       "isJsonSchema": true,
       "metadata": {},
       "overflow": false,
       "plotOptions": {
        "customPlotOptions": {},
        "displayType": "table",
        "pivotAggregation": null,
        "pivotColumns": null,
        "xColumns": null,
        "yColumns": null
       },
       "removedWidgets": [],
       "schema": [
        {
         "metadata": "{}",
         "name": "MONTH_ID",
         "type": "\"integer\""
        },
        {
         "metadata": "{}",
         "name": "TotalSales",
         "type": "\"double\""
        },
        {
         "metadata": "{}",
         "name": "NextTotalSales",
         "type": "\"double\""
        },
        {
         "metadata": "{}",
         "name": "Diff",
         "type": "\"double\""
        }
       ],
       "type": "table"
      }
     },
     "output_type": "display_data"
    },
    {
     "output_type": "display_data",
     "data": {
      "text/plain": [
       "Databricks visualization. Run in Databricks to view."
      ]
     },
     "metadata": {
      "application/vnd.databricks.v1.subcommand+json": {
       "baseErrorDetails": null,
       "bindings": {},
       "collapsed": false,
       "command": "%sql WITH q AS (select MONTH_ID, round(sum(SALES),3) as TotalSales,\nround(lead(sum(SALES)) over(order by MONTH_ID,sum(SALES)),3) as NextTotalSales,\nround(NextTotalSales-TotalSales,2) as Diff\nfrom productssales\ngroup by MONTH_ID) SELECT `MONTH_ID`,SUM(`Diff`) `column_4c796d3414` FROM q GROUP BY `MONTH_ID`",
       "commandTitle": "Visualization 1",
       "commandType": "auto",
       "commandVersion": 0,
       "commentThread": [],
       "commentsVisible": false,
       "contentSha256Hex": null,
       "customPlotOptions": {
        "redashChart": [
         {
          "key": "type",
          "value": "CHART"
         },
         {
          "key": "options",
          "value": {
           "alignYAxesAtZero": true,
           "coefficient": 1,
           "columnConfigurationMap": {
            "x": {
             "column": "MONTH_ID",
             "id": "column_4c796d3412"
            },
            "y": [
             {
              "column": "Diff",
              "id": "column_4c796d3414",
              "transform": "SUM"
             }
            ]
           },
           "dateTimeFormat": "DD/MM/YYYY HH:mm",
           "direction": {
            "type": "counterclockwise"
           },
           "error_y": {
            "type": "data",
            "visible": true
           },
           "globalSeriesType": "column",
           "isAggregationOn": true,
           "legend": {
            "traceorder": "normal"
           },
           "missingValuesAsZero": false,
           "numberFormat": "0,0.[00000]",
           "percentFormat": "0[.]00%",
           "series": {
            "error_y": {
             "type": "data",
             "visible": true
            },
            "stacking": null
           },
           "seriesOptions": {
            "column_4c796d3414": {
             "color": "#00B6EB",
             "name": "Growth/Decline in Sales",
             "type": "column",
             "yAxis": 0
            }
           },
           "showDataLabels": true,
           "sizemode": "diameter",
           "sortX": true,
           "sortY": true,
           "swappedAxes": false,
           "textFormat": "",
           "useAggregationsUi": true,
           "valuesOptions": {},
           "version": 2,
           "xAxis": {
            "labels": {
             "enabled": true
            },
            "type": "-"
           },
           "yAxis": [
            {
             "type": "-"
            },
            {
             "opposite": true,
             "type": "-"
            }
           ]
          }
         }
        ]
       },
       "datasetPreviewNameToCmdIdMap": {},
       "diffDeletes": [],
       "diffInserts": [],
       "displayType": "redashChart",
       "error": null,
       "errorDetails": null,
       "errorSummary": null,
       "errorTraceType": null,
       "finishTime": 0,
       "globalVars": {},
       "guid": "",
       "height": "auto",
       "hideCommandCode": false,
       "hideCommandResult": false,
       "iPythonMetadata": null,
       "inputWidgets": {},
       "isLockedInExamMode": false,
       "latestUser": "a user",
       "latestUserId": null,
       "listResultMetadata": null,
       "metadata": {},
       "nuid": "c497f498-916b-4f25-adc2-c365a70d181a",
       "origId": 0,
       "parentHierarchy": [],
       "pivotAggregation": null,
       "pivotColumns": null,
       "position": 24.0,
       "resultDbfsErrorMessage": null,
       "resultDbfsStatus": "INLINED_IN_TREE",
       "results": null,
       "showCommandTitle": false,
       "startTime": 0,
       "state": "input",
       "streamStates": {},
       "subcommandOptions": {
        "queryPlan": {
         "groups": [
          {
           "column": "MONTH_ID",
           "type": "column"
          }
         ],
         "selects": [
          {
           "column": "MONTH_ID",
           "type": "column"
          },
          {
           "alias": "column_4c796d3414",
           "args": [
            {
             "column": "Diff",
             "type": "column"
            }
           ],
           "function": "SUM",
           "type": "function"
          }
         ]
        }
       },
       "submitTime": 0,
       "subtype": "tableResultSubCmd.visualization",
       "tableResultIndex": 0,
       "tableResultSettingsMap": null,
       "useConsistentColors": false,
       "version": "CommandV1",
       "width": "auto",
       "workflows": [],
       "xColumns": null,
       "yColumns": null
      }
     },
     "output_type": "display_data"
    }
   ],
   "source": [
    "%sql\n",
    "select MONTH_ID, round(sum(SALES),3) as TotalSales,\n",
    "round(lead(sum(SALES)) over(order by MONTH_ID,sum(SALES)),3) as NextTotalSales,\n",
    "round(NextTotalSales-TotalSales,2) as Diff\n",
    "from productssales\n",
    "group by MONTH_ID"
   ]
  }
 ],
 "metadata": {
  "application/vnd.databricks.v1+notebook": {
   "dashboards": [
    {
     "elements": [
      {
       "dashboardResultIndex": null,
       "elementNUID": "ca510c34-f751-4cac-aa6c-0ae84b80b5c1",
       "elementType": "command",
       "guid": "050b6324-a509-4067-a339-3258ccf3555a",
       "options": null,
       "position": {
        "height": 6,
        "width": 19,
        "x": 0,
        "y": 6,
        "z": null
       },
       "resultIndex": null
      },
      {
       "dashboardResultIndex": null,
       "elementNUID": "9e39b597-89e7-4f1f-8f13-d54c45e71d64",
       "elementType": "command",
       "guid": "24ee3c99-18f2-4e66-ab5f-cf7680839890",
       "options": null,
       "position": {
        "height": 6,
        "width": 19,
        "x": 0,
        "y": 26,
        "z": null
       },
       "resultIndex": null
      },
      {
       "dashboardResultIndex": null,
       "elementNUID": "332f72b8-dfef-48e0-8014-9378b1e35003",
       "elementType": "command",
       "guid": "38208389-3524-4497-8ce7-6fe93e0cc171",
       "options": null,
       "position": {
        "height": 6,
        "width": 19,
        "x": 0,
        "y": 39,
        "z": null
       },
       "resultIndex": null
      },
      {
       "dashboardResultIndex": null,
       "elementNUID": "c497f498-916b-4f25-adc2-c365a70d181a",
       "elementType": "command",
       "guid": "3ac2b17f-c6cb-4517-a8fe-3118d060b415",
       "options": null,
       "position": {
        "height": 6,
        "width": 19,
        "x": 0,
        "y": 0,
        "z": null
       },
       "resultIndex": null
      },
      {
       "dashboardResultIndex": null,
       "elementNUID": "29008fe9-951e-4efb-ab30-7db1656b7369",
       "elementType": "command",
       "guid": "98af291b-1990-46a4-a0c4-7e254ae0bf2b",
       "options": null,
       "position": {
        "height": 7,
        "width": 19,
        "x": 0,
        "y": 32,
        "z": null
       },
       "resultIndex": null
      },
      {
       "dashboardResultIndex": null,
       "elementNUID": "ce22ab11-60a0-458d-9ebc-c25febeedf73",
       "elementType": "command",
       "guid": "9fa15e76-e5ff-4847-8097-cdbbab5a65a4",
       "options": null,
       "position": {
        "height": 7,
        "width": 19,
        "x": 0,
        "y": 19,
        "z": null
       },
       "resultIndex": null
      },
      {
       "dashboardResultIndex": null,
       "elementNUID": "cfd5f696-e649-4952-b958-8cdfb9b15d56",
       "elementType": "command",
       "guid": "ed9413bc-0355-457e-966e-87ca8daba68d",
       "options": null,
       "position": {
        "height": 7,
        "width": 19,
        "x": 0,
        "y": 12,
        "z": null
       },
       "resultIndex": null
      }
     ],
     "globalVars": {},
     "guid": "",
     "layoutOption": {
      "grid": true,
      "stack": true
     },
     "nuid": "017a668c-1e42-4d24-8c4d-4b2a6812c369",
     "origId": 272941643087950,
     "title": "8_ques",
     "version": "DashboardViewV1",
     "width": 1024
    },
    {
     "elements": [
      {
       "dashboardResultIndex": 0,
       "elementNUID": "cdb939bd-6af2-4098-939c-6109910a9154",
       "elementType": "command",
       "guid": "2df01830-908d-4bcb-8357-c200fd47d851",
       "options": null,
       "position": {
        "height": 6,
        "width": 12,
        "x": 0,
        "y": 6,
        "z": null
       },
       "resultIndex": null
      },
      {
       "dashboardResultIndex": 0,
       "elementNUID": "ea9e5f1f-0c3a-4f2a-961b-03cdf120f84f",
       "elementType": "command",
       "guid": "b017a0c8-5ed6-44ad-a3a4-f90f1b36331c",
       "options": null,
       "position": {
        "height": 6,
        "width": 12,
        "x": 0,
        "y": 0,
        "z": null
       },
       "resultIndex": null
      }
     ],
     "globalVars": {},
     "guid": "",
     "layoutOption": {
      "grid": true,
      "stack": true
     },
     "nuid": "9698dbf3-15c3-4331-97e3-8e7cefbe1d89",
     "origId": 3505545386994505,
     "title": "Untitled",
     "version": "DashboardViewV1",
     "width": 1024
    },
    {
     "elements": [
      {
       "dashboardResultIndex": 0,
       "elementNUID": "ea9e5f1f-0c3a-4f2a-961b-03cdf120f84f",
       "elementType": "command",
       "guid": "e53d7f35-4d1e-4d87-9036-50250119ab6d",
       "options": null,
       "position": {
        "height": 6,
        "width": 12,
        "x": 0,
        "y": 0,
        "z": null
       },
       "resultIndex": null
      },
      {
       "dashboardResultIndex": 0,
       "elementNUID": "cdb939bd-6af2-4098-939c-6109910a9154",
       "elementType": "command",
       "guid": "f790df54-7084-43da-ac85-8c747543f54a",
       "options": null,
       "position": {
        "height": 6,
        "width": 12,
        "x": 0,
        "y": 6,
        "z": null
       },
       "resultIndex": null
      }
     ],
     "globalVars": {},
     "guid": "",
     "layoutOption": {
      "grid": true,
      "stack": true
     },
     "nuid": "9fc8549e-e621-4dd2-9202-0402fdef4499",
     "origId": 3505545386994506,
     "title": "Untitled",
     "version": "DashboardViewV1",
     "width": 1024
    },
    {
     "elements": [
      {
       "dashboardResultIndex": null,
       "elementNUID": "bfeda53e-f102-489f-b7f5-fee765e5d4db",
       "elementType": "command",
       "guid": "0d7369d3-249d-4f17-bdcf-d7b9bb1d6dd9",
       "options": null,
       "position": {
        "height": 2,
        "width": 7,
        "x": 0,
        "y": 6,
        "z": null
       },
       "resultIndex": null
      },
      {
       "dashboardResultIndex": null,
       "elementNUID": "ce0e3b36-984e-4f4e-96ac-077659e82ee2",
       "elementType": "command",
       "guid": "1a2337a9-bc87-47ef-9dd7-87bd8fb1f8e5",
       "options": null,
       "position": {
        "height": 6,
        "width": 7,
        "x": 0,
        "y": 0,
        "z": null
       },
       "resultIndex": null
      },
      {
       "dashboardResultIndex": null,
       "elementNUID": "aeb50fe2-1a9c-45ae-9cdb-e90855178e95",
       "elementType": "command",
       "guid": "457596bb-78c3-4f1e-ada3-872687a2308e",
       "options": null,
       "position": {
        "height": 5,
        "width": 7,
        "x": 0,
        "y": 12,
        "z": null
       },
       "resultIndex": null
      },
      {
       "dashboardResultIndex": null,
       "elementNUID": "4eca3818-711b-4114-9da0-c0a5a2eeaa40",
       "elementType": "command",
       "guid": "46e5724e-ec36-4be7-ba5a-232f594a0b72",
       "options": null,
       "position": {
        "height": 5,
        "width": 11,
        "x": 7,
        "y": 16,
        "z": null
       },
       "resultIndex": null
      },
      {
       "dashboardResultIndex": null,
       "elementNUID": "d64f2916-2ce1-4407-9bc7-7531b1ff32ca",
       "elementType": "command",
       "guid": "8ba3c29d-6cad-4cbd-bf20-bfcaec2691fa",
       "options": null,
       "position": {
        "height": 5,
        "width": 11,
        "x": 7,
        "y": 11,
        "z": null
       },
       "resultIndex": null
      },
      {
       "dashboardResultIndex": null,
       "elementNUID": "af4ea064-b39b-44ab-a329-a796166ea319",
       "elementType": "command",
       "guid": "a93c054f-3973-4ed3-adec-446fc5fb96aa",
       "options": null,
       "position": {
        "height": 5,
        "width": 11,
        "x": 7,
        "y": 6,
        "z": null
       },
       "resultIndex": null
      },
      {
       "dashboardResultIndex": null,
       "elementNUID": "39322a52-b975-42f2-a2c7-807708783484",
       "elementType": "command",
       "guid": "ab753ce4-b4c2-4be4-a62e-10f3621d2371",
       "options": null,
       "position": {
        "height": 6,
        "width": 11,
        "x": 8,
        "y": 0,
        "z": null
       },
       "resultIndex": null
      },
      {
       "dashboardResultIndex": null,
       "elementNUID": "a62e62f4-9d64-4619-9fea-06958e837d9e",
       "elementType": "command",
       "guid": "b50b1f87-193e-4037-8e68-fc6b51e1875e",
       "options": null,
       "position": {
        "height": 2,
        "width": 7,
        "x": 0,
        "y": 8,
        "z": null
       },
       "resultIndex": null
      },
      {
       "dashboardResultIndex": null,
       "elementNUID": "d1f41e8c-5337-48ba-8bac-fe9ed291868e",
       "elementType": "command",
       "guid": "df4a105b-7bff-4dca-a65c-ea07f3c9113a",
       "options": null,
       "position": {
        "height": 5,
        "width": 7,
        "x": 0,
        "y": 17,
        "z": null
       },
       "resultIndex": null
      },
      {
       "dashboardResultIndex": null,
       "elementNUID": "8f61b1e9-4632-4802-98ae-0d7bd722765d",
       "elementType": "command",
       "guid": "ec3ab2da-6d4e-4e4f-9ac3-1fd2d0e43307",
       "options": null,
       "position": {
        "height": 9,
        "width": 19,
        "x": 0,
        "y": 22,
        "z": null
       },
       "resultIndex": null
      },
      {
       "dashboardResultIndex": null,
       "elementNUID": "a8116053-c554-4dd3-b6fc-626b449b3b89",
       "elementType": "command",
       "guid": "efd3c14b-68c1-4fd0-a06e-1c330a2142e6",
       "options": null,
       "position": {
        "height": 2,
        "width": 7,
        "x": 0,
        "y": 10,
        "z": null
       },
       "resultIndex": null
      }
     ],
     "globalVars": {},
     "guid": "",
     "layoutOption": {
      "grid": true,
      "stack": true
     },
     "nuid": "cd7598c1-f705-4bd6-abbb-7d281206319e",
     "origId": 4310251127469962,
     "title": "Sales Dashboard",
     "version": "DashboardViewV1",
     "width": 1024
    }
   ],
   "environmentMetadata": null,
   "language": "python",
   "notebookMetadata": {
    "mostRecentlyExecutedCommandWithImplicitDF": {
     "commandId": 3635649522141821,
     "dataframes": [
      "_sqldf"
     ]
    },
    "pythonIndentUnit": 4
   },
   "notebookName": "Data Handling and Analysis & SQL",
   "widgets": {}
  }
 },
 "nbformat": 4,
 "nbformat_minor": 0
}

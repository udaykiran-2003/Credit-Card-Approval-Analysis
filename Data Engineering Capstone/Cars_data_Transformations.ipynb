{
 "cells": [
  {
   "cell_type": "code",
   "execution_count": 0,
   "metadata": {
    "application/vnd.databricks.v1+cell": {
     "cellMetadata": {
      "byteLimit": 2048000,
      "rowLimit": 10000
     },
     "inputWidgets": {},
     "nuid": "cfaa9eae-363b-45c2-adc3-cd5b8bcda7ef",
     "showTitle": false,
     "title": ""
    }
   },
   "outputs": [
    {
     "output_type": "stream",
     "name": "stdout",
     "output_type": "stream",
     "text": [
      "Python interpreter will be restarted.\nCollecting azure-cosmos\n  Downloading azure_cosmos-4.7.0-py3-none-any.whl (252 kB)\nCollecting typing-extensions>=4.6.0\n  Downloading typing_extensions-4.12.2-py3-none-any.whl (37 kB)\nCollecting azure-core>=1.25.1\n  Downloading azure_core-1.31.0-py3-none-any.whl (197 kB)\nRequirement already satisfied: six>=1.11.0 in /databricks/python3/lib/python3.9/site-packages (from azure-core>=1.25.1->azure-cosmos) (1.16.0)\nRequirement already satisfied: requests>=2.21.0 in /databricks/python3/lib/python3.9/site-packages (from azure-core>=1.25.1->azure-cosmos) (2.27.1)\nRequirement already satisfied: charset-normalizer~=2.0.0 in /databricks/python3/lib/python3.9/site-packages (from requests>=2.21.0->azure-core>=1.25.1->azure-cosmos) (2.0.4)\nRequirement already satisfied: idna<4,>=2.5 in /databricks/python3/lib/python3.9/site-packages (from requests>=2.21.0->azure-core>=1.25.1->azure-cosmos) (3.3)\nRequirement already satisfied: certifi>=2017.4.17 in /databricks/python3/lib/python3.9/site-packages (from requests>=2.21.0->azure-core>=1.25.1->azure-cosmos) (2021.10.8)\nRequirement already satisfied: urllib3<1.27,>=1.21.1 in /databricks/python3/lib/python3.9/site-packages (from requests>=2.21.0->azure-core>=1.25.1->azure-cosmos) (1.26.9)\nInstalling collected packages: typing-extensions, azure-core, azure-cosmos\n  Attempting uninstall: typing-extensions\n    Found existing installation: typing-extensions 4.1.1\n    Not uninstalling typing-extensions at /databricks/python3/lib/python3.9/site-packages, outside environment /local_disk0/.ephemeral_nfs/envs/pythonEnv-832f3249-4bcd-4a0b-83dc-c177079be2f7\n    Can't uninstall 'typing-extensions'. No files were found to uninstall.\nSuccessfully installed azure-core-1.31.0 azure-cosmos-4.7.0 typing-extensions-4.12.2\nPython interpreter will be restarted.\n"
     ]
    }
   ],
   "source": [
    "sc"
   ]
  },
  {
   "cell_type": "code",
   "execution_count": 0,
   "metadata": {
    "application/vnd.databricks.v1+cell": {
     "cellMetadata": {
      "byteLimit": 2048000,
      "rowLimit": 10000
     },
     "inputWidgets": {},
     "nuid": "2305a45c-241f-4dca-a300-e40f04fc38bc",
     "showTitle": false,
     "title": ""
    }
   },
   "outputs": [
    {
     "output_type": "stream",
     "name": "stdout",
     "output_type": "stream",
     "text": [
      "+----------+---------+----------+-----+------+----------+------+---------+------+--------------------+--------------------+-------+--------+----------+-----------+------+\n|DriveTrain|Cylinders|Horsepower| MSRP|Length|      Make|Origin|Wheelbase|Weight|               Model|                  id|Invoice|MPG_City|EngineSize|MPG_Highway|  Type|\n+----------+---------+----------+-----+------+----------+------+---------+------+--------------------+--------------------+-------+--------+----------+-----------+------+\n|     Front|        6|       185|21595|   182|   Pontiac|   USA|      108|  3779|              Aztekt|a603408f-b705-462...|  19810|      19|       3.4|         26|   SUV|\n|       All|        4|       160|19860|   179|     Honda|  Asia|      103|  3258|             CR-V LX|fe2dcdd5-babf-461...|  18419|      21|       2.4|         25|   SUV|\n|     Front|        8|       270|39235|   185|Volkswagen|Europe|      106|  3953| Passat W8 4MOTIO...|2e9766fc-b730-471...|  36052|      18|         4|         25| Sedan|\n|     Front|        6|       170|23675|   187|Oldsmobile|   USA|      107|  3085|       Alero GLS 2dr|dac9611b-2144-48c...|  21485|      20|       3.4|         29| Sedan|\n|      Rear|        4|       143|14840|   188|     Mazda|  Asia|      112|  2960| B2300 SX Regular...|525db730-7342-4c8...|  14070|      24|       2.3|         29| Truck|\n|     Front|        8|       335|65000|   204|Volkswagen|Europe|      118|  5194|         Phaeton 4dr|0b0c572e-1d12-47e...|  59912|      16|       4.2|         22| Sedan|\n|       All|        8|       300|29322|   222|       GMC|   USA|      133|  5440|      Sierra HD 2500|ccbd4e40-8416-47f...|  25759|      13|         6|         18| Truck|\n|     Front|        4|       138|15389|   178|   Hyundai|  Asia|      103|  2698| Elantra GT 4dr h...|8448c166-0e96-479...|  14207|      26|         2|         34| Sedan|\n|     Front|        6|       225|43755|   197|     Acura|  Asia|      115|  3880|          3.5 RL 4dr|819f551c-cc26-48f...|  39014|      18|       3.5|         24| Sedan|\n|     Front|        6|       210|26992|   177|Mitsubishi|  Asia|      101|  3296| Eclipse Spyder G...|e676f1af-b8b0-45e...|  25218|      21|         3|         28|Sports|\n|     Front|        4|       130|16695|   171|    Toyota|  Asia|      102|  2679|           Matrix XR|c7f4197f-cd95-400...|  15156|      29|       1.8|         36| Wagon|\n|      Rear|        6|       232|32495|   194|   Lincoln|   USA|      115|  3681|    LS V6 Luxury 4dr|832ee1da-5498-4a6...|  29969|      20|         3|         26| Sedan|\n|       All|        6|       215| null|   201|     Dodge|   USA|      119|  4440|   Grand Caravan SXT|a4cd82c5-d75e-4dd...|  29812|      18|       3.8|         25| Sedan|\n|       All|        6|       230|27930|   185|    Toyota|  Asia|      107|  3935|       Highlander V6|090562ef-a91a-481...|  24915|      18|       3.3|         24|   SUV|\n|      Rear|        6|       190|25640|   190|       GMC|   USA|      111|  4309|          Safari SLE|89cbd297-0ba2-41e...|  23215|      16|       4.3|         20| Sedan|\n|     Front|        4|       130|15580|   168|      Ford|   USA|      103|  2691|       Focus ZX5 5dr|4c7320b6-addb-40c...|  14607|      26|         2|         33| Sedan|\n|      Rear|        6|       184|37995|   177|       BMW|Europe|      107|  3560| 325Ci convertibl...|8d5ecc0a-12e7-445...|  34800|      19|       2.5|         27| Sedan|\n|     Front|        6|       173|21589|   177|   Hyundai|  Asia|      103|  3549|        Santa Fe GLS|a157a973-afeb-487...|  20201|      20|       2.7|         26|   SUV|\n|     Front|        6|       195|26000|   196|       Kia|  Asia|      110|  4021|          Amanti 4dr|2be74b8e-c5d0-45f...|  23764|      17|       3.5|         25| Sedan|\n|     Front|        8|       295|52795|   199|  Cadillac|   USA|      116|  5367|            Escalade|7e13cce9-1ae2-4cc...|  48377|      14|       5.3|         18|   SUV|\n+----------+---------+----------+-----+------+----------+------+---------+------+--------------------+--------------------+-------+--------+----------+-----------+------+\nonly showing top 20 rows\n\n"
     ]
    }
   ],
   "source": [
    "\n",
    "\n",
    "# Azure Cosmos DB configuration\n",
    "cosmos_endpoint = \"https://cosmos-df.documents.azure.com:443/\"\n",
    "cosmos_database = \"cosmosdb_id\"\n",
    "cosmos_collection = \"Cosmoscontainer1\"\n",
    "cosmos_master_key = \"z25RNuiX5kWSSs4TDdAa5OwhB06GRnGedPyuRDtieT7Eu0Jb3e2TsbigHEas3A9iCckgyLP1hNLeACDbFTm4oQ==\"\n",
    "\n",
    "from pyspark.sql import SparkSession\n",
    " \n",
    "spark = SparkSession.builder.appName(\"CosmosDBToDatabricks\").getOrCreate()\n",
    " \n",
    "cars_df = spark.read.format(\"cosmos.oltp\") \\\n",
    "    .option(\"spark.cosmos.accountEndpoint\", cosmos_endpoint) \\\n",
    "    .option(\"spark.cosmos.accountKey\", cosmos_master_key) \\\n",
    "    .option(\"spark.cosmos.database\", cosmos_database) \\\n",
    "    .option(\"spark.cosmos.container\", cosmos_collection) \\\n",
    "    .load()\n",
    " \n",
    "cars_df.show()\n",
    "\n"
   ]
  },
  {
   "cell_type": "code",
   "execution_count": 0,
   "metadata": {
    "application/vnd.databricks.v1+cell": {
     "cellMetadata": {
      "byteLimit": 2048000,
      "rowLimit": 10000
     },
     "inputWidgets": {},
     "nuid": "0adc15f0-d7bd-4d92-af50-24fe98950bc4",
     "showTitle": false,
     "title": ""
    }
   },
   "outputs": [
    {
     "output_type": "stream",
     "name": "stdout",
     "output_type": "stream",
     "text": [
      "root\n |-- DriveTrain: string (nullable = true)\n |-- Cylinders: string (nullable = true)\n |-- Horsepower: string (nullable = true)\n |-- MSRP: string (nullable = true)\n |-- Length: string (nullable = true)\n |-- Make: string (nullable = true)\n |-- Origin: string (nullable = true)\n |-- Wheelbase: string (nullable = true)\n |-- Weight: string (nullable = true)\n |-- Model: string (nullable = true)\n |-- id: string (nullable = false)\n |-- Invoice: string (nullable = true)\n |-- MPG_City: string (nullable = true)\n |-- EngineSize: string (nullable = true)\n |-- MPG_Highway: string (nullable = true)\n |-- Type: string (nullable = true)\n\n"
     ]
    }
   ],
   "source": [
    "cars_df.printSchema()"
   ]
  },
  {
   "cell_type": "code",
   "execution_count": 0,
   "metadata": {
    "application/vnd.databricks.v1+cell": {
     "cellMetadata": {
      "byteLimit": 2048000,
      "rowLimit": 10000
     },
     "inputWidgets": {},
     "nuid": "3476dab1-88ca-4bae-86cb-e888658d6b61",
     "showTitle": false,
     "title": ""
    }
   },
   "outputs": [],
   "source": [
    "\n",
    "from pyspark.sql.functions import *\n",
    "\n",
    "# Initialize Spark session\n",
    "spark = SparkSession.builder \\\n",
    "    .appName(\"Cars Data Processing\") \\\n",
    "    .getOrCreate()"
   ]
  },
  {
   "cell_type": "code",
   "execution_count": 0,
   "metadata": {
    "application/vnd.databricks.v1+cell": {
     "cellMetadata": {
      "byteLimit": 2048000,
      "implicitDf": true,
      "rowLimit": 10000
     },
     "inputWidgets": {},
     "nuid": "5f1199a2-c718-4b36-af6e-de535e8746f6",
     "showTitle": false,
     "title": ""
    }
   },
   "outputs": [
    {
     "output_type": "stream",
     "name": "stdout",
     "output_type": "stream",
     "text": [
      "root\n |-- DriveTrain: string (nullable = true)\n |-- Cylinders: string (nullable = true)\n |-- Horsepower: string (nullable = true)\n |-- MSRP: string (nullable = true)\n |-- Length: string (nullable = true)\n |-- Make: string (nullable = true)\n |-- Origin: string (nullable = true)\n |-- Wheelbase: string (nullable = true)\n |-- Weight: string (nullable = true)\n |-- Model: string (nullable = true)\n |-- Invoice: string (nullable = true)\n |-- MPG_City: string (nullable = true)\n |-- EngineSize: string (nullable = true)\n |-- MPG_Highway: string (nullable = true)\n |-- Type: string (nullable = true)\n\n"
     ]
    }
   ],
   "source": [
    "# 1. Remove specified columns\n",
    "columns_to_remove = [\"_attachments\", \"_etag\", \"_rid\", \"_self\", \"_ts\", \"id\"]\n",
    "cars_df = cars_df.drop(*columns_to_remove)\n",
    "cars_df.printSchema()"
   ]
  },
  {
   "cell_type": "code",
   "execution_count": 0,
   "metadata": {
    "application/vnd.databricks.v1+cell": {
     "cellMetadata": {
      "byteLimit": 2048000,
      "rowLimit": 10000
     },
     "inputWidgets": {},
     "nuid": "cec20ab4-9319-4aaf-ad5f-b3001a1ba578",
     "showTitle": false,
     "title": ""
    }
   },
   "outputs": [
    {
     "output_type": "stream",
     "name": "stdout",
     "output_type": "stream",
     "text": [
      "root\n |-- DriveTrain: string (nullable = true)\n |-- Cylinders: string (nullable = true)\n |-- Horsepower: float (nullable = true)\n |-- MSRP: float (nullable = true)\n |-- Length: float (nullable = true)\n |-- Make: string (nullable = true)\n |-- Origin: string (nullable = true)\n |-- Wheelbase: float (nullable = true)\n |-- Weight: float (nullable = true)\n |-- Model: string (nullable = true)\n |-- Invoice: float (nullable = true)\n |-- MPG_City: float (nullable = true)\n |-- EngineSize: float (nullable = true)\n |-- MPG_Highway: float (nullable = true)\n |-- Type: string (nullable = true)\n\n"
     ]
    }
   ],
   "source": [
    "# Convert required numerical columns to numerical types\n",
    "numerical_columns = [\"EngineSize\", \"Horsepower\", \"Invoice\", \"Length\", \"MPG_City\", \"MPG_Highway\", \"MSRP\", \"Weight\", \"Wheelbase\"]\n",
    "\n",
    "for column in numerical_columns:\n",
    "    cars_df = cars_df.withColumn(column, col(column).cast(\"float\"))  # or use \"int\" if the column should be integer\n",
    "\n",
    "# Show DataFrame after conversion\n",
    "cars_df.printSchema()  # Check the schema to verify changes"
   ]
  },
  {
   "cell_type": "code",
   "execution_count": 0,
   "metadata": {
    "application/vnd.databricks.v1+cell": {
     "cellMetadata": {
      "byteLimit": 2048000,
      "rowLimit": 10000
     },
     "inputWidgets": {},
     "nuid": "8a10cc8f-d46a-4fd7-971e-4a6fd8982c47",
     "showTitle": false,
     "title": ""
    }
   },
   "outputs": [
    {
     "output_type": "stream",
     "name": "stdout",
     "output_type": "stream",
     "text": [
      "+----------+--------------------+-------+\n|      Make|               Model|   MSRP|\n+----------+--------------------+-------+\n|Volkswagen| Passat W8 4MOTIO...|39235.0|\n|Volkswagen|         Phaeton 4dr|65000.0|\n|       GMC|      Sierra HD 2500|29322.0|\n|     Acura|          3.5 RL 4dr|43755.0|\n|Mitsubishi| Eclipse Spyder G...|26992.0|\n+----------+--------------------+-------+\nonly showing top 5 rows\n\n"
     ]
    }
   ],
   "source": [
    "# Filter cars with Horsepower greater than 200\n",
    "high_hp_cars = cars_df.filter(col(\"Horsepower\") > 200).select(\"Make\", \"Model\", \"MSRP\")\n",
    "high_hp_cars.show(5)\n"
   ]
  },
  {
   "cell_type": "code",
   "execution_count": 0,
   "metadata": {
    "application/vnd.databricks.v1+cell": {
     "cellMetadata": {
      "byteLimit": 2048000,
      "rowLimit": 10000
     },
     "inputWidgets": {},
     "nuid": "48c897c9-ca67-48ba-b78c-044f4f4cae21",
     "showTitle": false,
     "title": ""
    }
   },
   "outputs": [
    {
     "output_type": "stream",
     "name": "stdout",
     "output_type": "stream",
     "text": [
      "+----------+--------------------+----------+--------+\n|      Make|               Model|Horsepower|MPG_City|\n+----------+--------------------+----------+--------+\n|   Pontiac|              Aztekt|     185.0|    19.0|\n|     Honda|             CR-V LX|     160.0|    21.0|\n|Volkswagen| Passat W8 4MOTIO...|     270.0|    18.0|\n|Oldsmobile|       Alero GLS 2dr|     170.0|    20.0|\n|     Mazda| B2300 SX Regular...|     143.0|    24.0|\n|Volkswagen|         Phaeton 4dr|     335.0|    16.0|\n|       GMC|      Sierra HD 2500|     300.0|    13.0|\n|   Hyundai| Elantra GT 4dr h...|     138.0|    26.0|\n|     Acura|          3.5 RL 4dr|     225.0|    18.0|\n|Mitsubishi| Eclipse Spyder G...|     210.0|    21.0|\n|    Toyota|           Matrix XR|     130.0|    29.0|\n|   Lincoln|    LS V6 Luxury 4dr|     232.0|    20.0|\n|     Dodge|   Grand Caravan SXT|     215.0|    18.0|\n|    Toyota|       Highlander V6|     230.0|    18.0|\n|       GMC|          Safari SLE|     190.0|    16.0|\n|      Ford|       Focus ZX5 5dr|     130.0|    26.0|\n|       BMW| 325Ci convertibl...|     184.0|    19.0|\n|   Hyundai|        Santa Fe GLS|     173.0|    20.0|\n|       Kia|          Amanti 4dr|     195.0|    17.0|\n|  Cadillac|            Escalade|     295.0|    14.0|\n+----------+--------------------+----------+--------+\nonly showing top 20 rows\n\n"
     ]
    }
   ],
   "source": [
    "# Filter out rows with null values in 'Horsepower' or 'MPG_City'\n",
    "cleaned_data = cars_df.filter(col(\"Horsepower\").isNotNull() & col(\"MPG_City\").isNotNull())\n",
    "cleaned_data.select(\"Make\", \"Model\", \"Horsepower\",\"MPG_City\").show()\n"
   ]
  },
  {
   "cell_type": "code",
   "execution_count": 0,
   "metadata": {
    "application/vnd.databricks.v1+cell": {
     "cellMetadata": {
      "byteLimit": 2048000,
      "rowLimit": 10000
     },
     "inputWidgets": {},
     "nuid": "fea2fdfb-97e3-43b8-b258-a8f1b0361674",
     "showTitle": false,
     "title": ""
    }
   },
   "outputs": [
    {
     "output_type": "stream",
     "name": "stdout",
     "output_type": "stream",
     "text": [
      "+------+------------------+--------------+\n|  Type|      Average_MSRP|Max_Horsepower|\n+------+------------------+--------------+\n|Sports|53793.145833333336|         500.0|\n|   SUV| 34447.41071428572|         340.0|\n| Sedan| 29715.78947368421|         493.0|\n|Hybrid|           20325.0|         110.0|\n| Truck| 22967.18181818182|         345.0|\n| Wagon|          29188.25|         340.0|\n+------+------------------+--------------+\n\n"
     ]
    }
   ],
   "source": [
    "# Calculate average MSRP and max Horsepower by Type\n",
    "agg_metrics = cars_df.groupBy(\"Type\").agg(\n",
    "    {\"MSRP\": \"avg\", \"Horsepower\": \"max\"}\n",
    ").withColumnRenamed(\"avg(MSRP)\", \"Average_MSRP\") \\\n",
    " .withColumnRenamed(\"max(Horsepower)\", \"Max_Horsepower\")\n",
    "agg_metrics.show()"
   ]
  },
  {
   "cell_type": "code",
   "execution_count": 0,
   "metadata": {
    "application/vnd.databricks.v1+cell": {
     "cellMetadata": {
      "byteLimit": 2048000,
      "rowLimit": 10000
     },
     "inputWidgets": {},
     "nuid": "2129494e-9173-4440-af34-c5d2a5547b67",
     "showTitle": false,
     "title": ""
    }
   },
   "outputs": [],
   "source": [
    "cars_df = cars_df.withColumn(\"priceCategory\", \n",
    "                   when(col(\"MSRP\") > 50000, \"costly\")\n",
    "                   .when(col(\"MSRP\") < 25000, \"cheaper\")\n",
    "                   .otherwise(\"average\")) "
   ]
  },
  {
   "cell_type": "code",
   "execution_count": 0,
   "metadata": {
    "application/vnd.databricks.v1+cell": {
     "cellMetadata": {
      "byteLimit": 2048000,
      "rowLimit": 10000
     },
     "inputWidgets": {},
     "nuid": "8053f9e8-ea6a-40ff-bed0-5e0faef614ad",
     "showTitle": false,
     "title": ""
    }
   },
   "outputs": [
    {
     "output_type": "stream",
     "name": "stdout",
     "output_type": "stream",
     "text": [
      "root\n |-- DriveTrain: string (nullable = true)\n |-- Cylinders: string (nullable = true)\n |-- Horsepower: float (nullable = true)\n |-- MSRP: float (nullable = true)\n |-- Length: float (nullable = true)\n |-- Make: string (nullable = true)\n |-- Origin: string (nullable = true)\n |-- Wheelbase: float (nullable = true)\n |-- Weight: float (nullable = true)\n |-- Model: string (nullable = true)\n |-- Invoice: float (nullable = true)\n |-- MPG_City: float (nullable = true)\n |-- EngineSize: float (nullable = true)\n |-- MPG_Highway: float (nullable = true)\n |-- Type: string (nullable = true)\n |-- priceCategory: string (nullable = false)\n\n"
     ]
    }
   ],
   "source": [
    "cars_df.printSchema()"
   ]
  }
 ],
 "metadata": {
  "application/vnd.databricks.v1+notebook": {
   "dashboards": [],
   "environmentMetadata": null,
   "language": "python",
   "notebookMetadata": {
    "mostRecentlyExecutedCommandWithImplicitDF": {
     "commandId": -1,
     "dataframes": [
      "_sqldf"
     ]
    },
    "pythonIndentUnit": 4
   },
   "notebookName": "Cars_data_Transformations",
   "widgets": {}
  }
 },
 "nbformat": 4,
 "nbformat_minor": 0
}

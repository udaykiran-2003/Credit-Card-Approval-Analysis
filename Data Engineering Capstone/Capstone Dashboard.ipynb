{
 "cells": [
  {
   "cell_type": "markdown",
   "metadata": {
    "application/vnd.databricks.v1+cell": {
     "cellMetadata": {
      "byteLimit": 2048000,
      "rowLimit": 10000
     },
     "inputWidgets": {},
     "nuid": "780bbf66-3ee2-4dfa-b103-68995c8c2260",
     "showTitle": false,
     "title": ""
    }
   },
   "source": [
    "#### Reading the data from Blob Storage"
   ]
  },
  {
   "cell_type": "code",
   "execution_count": 0,
   "metadata": {
    "application/vnd.databricks.v1+cell": {
     "cellMetadata": {
      "byteLimit": 2048000,
      "rowLimit": 10000
     },
     "inputWidgets": {},
     "nuid": "ca2d3449-aaa8-4df3-b68b-68594da3ab8e",
     "showTitle": false,
     "title": ""
    }
   },
   "outputs": [],
   "source": [
    "%python\n",
    "storage_account_name = \"capstonecreditsa\"\n",
    "storage_account_key = \"XHEwETA/1qyqzNTrS3ANoQSSOuOdyb1+5Cos2jOP/9rO+G9DDkKWME5UwIx82vO0uWegnJStyMXi+AStIXsSwQ==\"\n",
    "container_name = \"transformed-data1\"\n",
    "spark.conf.set(f\"fs.azure.account.key.{storage_account_name}.blob.core.windows.net\", storage_account_key)\n",
    "input_path = f\"wasbs://{container_name}@{storage_account_name}.blob.core.windows.net/\"\n",
    " \n",
    "df = spark.read.format(\"parquet\").load(input_path)"
   ]
  },
  {
   "cell_type": "markdown",
   "metadata": {
    "application/vnd.databricks.v1+cell": {
     "cellMetadata": {
      "byteLimit": 2048000,
      "rowLimit": 10000
     },
     "inputWidgets": {},
     "nuid": "6d58882b-36bc-4a6a-9f88-2377c95eea73",
     "showTitle": false,
     "title": ""
    }
   },
   "source": [
    "#### Creating a temporary view of the data"
   ]
  },
  {
   "cell_type": "code",
   "execution_count": 0,
   "metadata": {
    "application/vnd.databricks.v1+cell": {
     "cellMetadata": {
      "byteLimit": 2048000,
      "rowLimit": 10000
     },
     "inputWidgets": {},
     "nuid": "0364c15c-356f-4db7-939d-e0d4257fe5f7",
     "showTitle": false,
     "title": ""
    }
   },
   "outputs": [],
   "source": [
    "%python\n",
    "df.createOrReplaceTempView(\"data\")"
   ]
  },
  {
   "cell_type": "markdown",
   "metadata": {
    "application/vnd.databricks.v1+cell": {
     "cellMetadata": {
      "byteLimit": 2048000,
      "rowLimit": 10000
     },
     "inputWidgets": {},
     "nuid": "e4f8c8dc-0864-4713-b471-caeaef966323",
     "showTitle": false,
     "title": ""
    }
   },
   "source": [
    "#### COUNTERS"
   ]
  },
  {
   "cell_type": "code",
   "execution_count": 0,
   "metadata": {
    "application/vnd.databricks.v1+cell": {
     "cellMetadata": {
      "byteLimit": 2048000,
      "rowLimit": 10000
     },
     "inputWidgets": {},
     "nuid": "04fb8755-f543-4c75-b0ab-fc97f9dcc4f0",
     "showTitle": false,
     "title": ""
    }
   },
   "outputs": [
    {
     "output_type": "display_data",
     "data": {
      "text/html": [
       "<style scoped>\n",
       "  .table-result-container {\n",
       "    max-height: 300px;\n",
       "    overflow: auto;\n",
       "  }\n",
       "  table, th, td {\n",
       "    border: 1px solid black;\n",
       "    border-collapse: collapse;\n",
       "  }\n",
       "  th, td {\n",
       "    padding: 5px;\n",
       "  }\n",
       "  th {\n",
       "    text-align: left;\n",
       "  }\n",
       "</style><div class='table-result-container'><table class='table-result'><thead style='background-color: white'><tr><th>total_applicants</th></tr></thead><tbody><tr><td>36457</td></tr></tbody></table></div>"
      ]
     },
     "metadata": {
      "application/vnd.databricks.v1+output": {
       "addedWidgets": {},
       "aggData": [],
       "aggError": "",
       "aggOverflow": false,
       "aggSchema": [],
       "aggSeriesLimitReached": false,
       "aggType": "",
       "arguments": {},
       "columnCustomDisplayInfos": {},
       "data": [
        [
         36457
        ]
       ],
       "datasetInfos": [],
       "dbfsResultPath": null,
       "isJsonSchema": true,
       "metadata": {
        "isDbfsCommandResult": false
       },
       "overflow": false,
       "plotOptions": {
        "customPlotOptions": {},
        "displayType": "table",
        "pivotAggregation": null,
        "pivotColumns": null,
        "xColumns": null,
        "yColumns": null
       },
       "removedWidgets": [],
       "schema": [
        {
         "metadata": "{}",
         "name": "total_applicants",
         "type": "\"long\""
        }
       ],
       "type": "table"
      }
     },
     "output_type": "display_data"
    },
    {
     "output_type": "display_data",
     "data": {
      "text/plain": [
       "Databricks visualization. Run in Databricks to view."
      ]
     },
     "metadata": {
      "application/vnd.databricks.v1.subcommand+json": {
       "baseErrorDetails": null,
       "bindings": {},
       "collapsed": false,
       "command": "select count(distinct(id)) as total_applicants from data;",
       "commandTitle": "Visualization 1",
       "commandType": "auto",
       "commandVersion": 0,
       "commentThread": [],
       "commentsVisible": false,
       "contentSha256Hex": null,
       "customPlotOptions": {
        "redashChart": [
         {
          "key": "type",
          "value": "COUNTER"
         },
         {
          "key": "options",
          "value": {
           "counterColName": "total_applicants",
           "counterLabel": "Total Applicants",
           "rowNumber": 1,
           "stringDecChar": ".",
           "stringDecimal": 0,
           "stringThouSep": ",",
           "targetRowNumber": 1,
           "tooltipFormat": "0,0.000"
          }
         }
        ]
       },
       "datasetPreviewNameToCmdIdMap": {},
       "diffDeletes": [],
       "diffInserts": [],
       "displayType": "redashChart",
       "error": null,
       "errorDetails": null,
       "errorSummary": null,
       "errorTraceType": null,
       "finishTime": 0,
       "globalVars": {},
       "guid": "",
       "height": "auto",
       "hideCommandCode": false,
       "hideCommandResult": false,
       "iPythonMetadata": null,
       "inputWidgets": {},
       "isLockedInExamMode": false,
       "latestUser": "a user",
       "latestUserId": null,
       "listResultMetadata": null,
       "metadata": {
        "byteLimit": 2048000,
        "rowLimit": 10000
       },
       "nuid": "54a6f010-111a-48bc-bd84-379ba9c08bec",
       "origId": 0,
       "parentHierarchy": [],
       "pivotAggregation": null,
       "pivotColumns": null,
       "position": 3.125,
       "resultDbfsErrorMessage": null,
       "resultDbfsStatus": "INLINED_IN_TREE",
       "results": null,
       "showCommandTitle": false,
       "startTime": 0,
       "state": "finished",
       "streamStates": {},
       "subcommandOptions": {},
       "submitTime": 0,
       "subtype": "tableResultSubCmd.visualization",
       "tableResultIndex": 0,
       "tableResultSettingsMap": null,
       "useConsistentColors": false,
       "version": "CommandV1",
       "width": "auto",
       "workflows": [],
       "xColumns": null,
       "yColumns": null
      }
     },
     "output_type": "display_data"
    }
   ],
   "source": [
    "%sql\n",
    "select count(distinct(id)) as total_applicants from data;"
   ]
  },
  {
   "cell_type": "code",
   "execution_count": 0,
   "metadata": {
    "application/vnd.databricks.v1+cell": {
     "cellMetadata": {
      "byteLimit": 2048000,
      "rowLimit": 10000
     },
     "inputWidgets": {},
     "nuid": "e7c64792-04f4-4849-a218-f105086b429a",
     "showTitle": false,
     "title": ""
    }
   },
   "outputs": [
    {
     "output_type": "display_data",
     "data": {
      "text/html": [
       "<style scoped>\n",
       "  .table-result-container {\n",
       "    max-height: 300px;\n",
       "    overflow: auto;\n",
       "  }\n",
       "  table, th, td {\n",
       "    border: 1px solid black;\n",
       "    border-collapse: collapse;\n",
       "  }\n",
       "  th, td {\n",
       "    padding: 5px;\n",
       "  }\n",
       "  th {\n",
       "    text-align: left;\n",
       "  }\n",
       "</style><div class='table-result-container'><table class='table-result'><thead style='background-color: white'><tr><th>Males</th></tr></thead><tbody><tr><td>12027</td></tr></tbody></table></div>"
      ]
     },
     "metadata": {
      "application/vnd.databricks.v1+output": {
       "addedWidgets": {},
       "aggData": [],
       "aggError": "",
       "aggOverflow": false,
       "aggSchema": [],
       "aggSeriesLimitReached": false,
       "aggType": "",
       "arguments": {},
       "columnCustomDisplayInfos": {},
       "data": [
        [
         12027
        ]
       ],
       "datasetInfos": [],
       "dbfsResultPath": null,
       "isJsonSchema": true,
       "metadata": {
        "isDbfsCommandResult": false
       },
       "overflow": false,
       "plotOptions": {
        "customPlotOptions": {},
        "displayType": "table",
        "pivotAggregation": null,
        "pivotColumns": null,
        "xColumns": null,
        "yColumns": null
       },
       "removedWidgets": [],
       "schema": [
        {
         "metadata": "{}",
         "name": "Males",
         "type": "\"long\""
        }
       ],
       "type": "table"
      }
     },
     "output_type": "display_data"
    },
    {
     "output_type": "display_data",
     "data": {
      "text/plain": [
       "Databricks visualization. Run in Databricks to view."
      ]
     },
     "metadata": {
      "application/vnd.databricks.v1.subcommand+json": {
       "baseErrorDetails": null,
       "bindings": {},
       "collapsed": false,
       "command": "select count(distinct(id)) as Males from data where gender='Male'",
       "commandTitle": "Visualization 1",
       "commandType": "auto",
       "commandVersion": 0,
       "commentThread": [],
       "commentsVisible": false,
       "contentSha256Hex": null,
       "customPlotOptions": {
        "redashChart": [
         {
          "key": "type",
          "value": "COUNTER"
         },
         {
          "key": "options",
          "value": {
           "counterColName": "Males",
           "counterLabel": "Total Males",
           "rowNumber": 1,
           "stringDecChar": ".",
           "stringDecimal": 0,
           "stringThouSep": ",",
           "targetRowNumber": 1,
           "tooltipFormat": "0,0.000"
          }
         }
        ]
       },
       "datasetPreviewNameToCmdIdMap": {},
       "diffDeletes": [],
       "diffInserts": [],
       "displayType": "redashChart",
       "error": null,
       "errorDetails": null,
       "errorSummary": null,
       "errorTraceType": null,
       "finishTime": 0,
       "globalVars": {},
       "guid": "",
       "height": "auto",
       "hideCommandCode": false,
       "hideCommandResult": false,
       "iPythonMetadata": null,
       "inputWidgets": {},
       "isLockedInExamMode": false,
       "latestUser": "a user",
       "latestUserId": null,
       "listResultMetadata": null,
       "metadata": {
        "byteLimit": 2048000,
        "rowLimit": 10000
       },
       "nuid": "e99d5bba-f6b1-4a3b-968e-6b482bfd7df7",
       "origId": 0,
       "parentHierarchy": [],
       "pivotAggregation": null,
       "pivotColumns": null,
       "position": 3.1875,
       "resultDbfsErrorMessage": null,
       "resultDbfsStatus": "INLINED_IN_TREE",
       "results": null,
       "showCommandTitle": false,
       "startTime": 0,
       "state": "finished",
       "streamStates": {},
       "subcommandOptions": {},
       "submitTime": 0,
       "subtype": "tableResultSubCmd.visualization",
       "tableResultIndex": 0,
       "tableResultSettingsMap": null,
       "useConsistentColors": false,
       "version": "CommandV1",
       "width": "auto",
       "workflows": [],
       "xColumns": null,
       "yColumns": null
      }
     },
     "output_type": "display_data"
    }
   ],
   "source": [
    "%sql\n",
    "select count(distinct(id)) as Males from data where gender='Male'"
   ]
  },
  {
   "cell_type": "code",
   "execution_count": 0,
   "metadata": {
    "application/vnd.databricks.v1+cell": {
     "cellMetadata": {
      "byteLimit": 2048000,
      "rowLimit": 10000
     },
     "inputWidgets": {},
     "nuid": "ed2dafdf-b95f-4f16-801a-3cf8ec7d9bdb",
     "showTitle": false,
     "title": ""
    }
   },
   "outputs": [
    {
     "output_type": "display_data",
     "data": {
      "text/html": [
       "<style scoped>\n",
       "  .table-result-container {\n",
       "    max-height: 300px;\n",
       "    overflow: auto;\n",
       "  }\n",
       "  table, th, td {\n",
       "    border: 1px solid black;\n",
       "    border-collapse: collapse;\n",
       "  }\n",
       "  th, td {\n",
       "    padding: 5px;\n",
       "  }\n",
       "  th {\n",
       "    text-align: left;\n",
       "  }\n",
       "</style><div class='table-result-container'><table class='table-result'><thead style='background-color: white'><tr><th>Females</th></tr></thead><tbody><tr><td>24430</td></tr></tbody></table></div>"
      ]
     },
     "metadata": {
      "application/vnd.databricks.v1+output": {
       "addedWidgets": {},
       "aggData": [],
       "aggError": "",
       "aggOverflow": false,
       "aggSchema": [],
       "aggSeriesLimitReached": false,
       "aggType": "",
       "arguments": {},
       "columnCustomDisplayInfos": {},
       "data": [
        [
         24430
        ]
       ],
       "datasetInfos": [],
       "dbfsResultPath": null,
       "isJsonSchema": true,
       "metadata": {
        "isDbfsCommandResult": false
       },
       "overflow": false,
       "plotOptions": {
        "customPlotOptions": {},
        "displayType": "table",
        "pivotAggregation": null,
        "pivotColumns": null,
        "xColumns": null,
        "yColumns": null
       },
       "removedWidgets": [],
       "schema": [
        {
         "metadata": "{}",
         "name": "Females",
         "type": "\"long\""
        }
       ],
       "type": "table"
      }
     },
     "output_type": "display_data"
    },
    {
     "output_type": "display_data",
     "data": {
      "text/plain": [
       "Databricks visualization. Run in Databricks to view."
      ]
     },
     "metadata": {
      "application/vnd.databricks.v1.subcommand+json": {
       "baseErrorDetails": null,
       "bindings": {},
       "collapsed": false,
       "command": "select count(distinct(id)) as Females from data where gender='Female'",
       "commandTitle": "Visualization 1",
       "commandType": "auto",
       "commandVersion": 0,
       "commentThread": [],
       "commentsVisible": false,
       "contentSha256Hex": null,
       "customPlotOptions": {
        "redashChart": [
         {
          "key": "type",
          "value": "COUNTER"
         },
         {
          "key": "options",
          "value": {
           "counterColName": "Females",
           "counterLabel": "Total Females",
           "rowNumber": 1,
           "stringDecChar": ".",
           "stringDecimal": 0,
           "stringThouSep": ",",
           "targetRowNumber": 1,
           "tooltipFormat": "0,0.000"
          }
         }
        ]
       },
       "datasetPreviewNameToCmdIdMap": {},
       "diffDeletes": [],
       "diffInserts": [],
       "displayType": "redashChart",
       "error": null,
       "errorDetails": null,
       "errorSummary": null,
       "errorTraceType": null,
       "finishTime": 0,
       "globalVars": {},
       "guid": "",
       "height": "auto",
       "hideCommandCode": false,
       "hideCommandResult": false,
       "iPythonMetadata": null,
       "inputWidgets": {},
       "isLockedInExamMode": false,
       "latestUser": "a user",
       "latestUserId": null,
       "listResultMetadata": null,
       "metadata": {
        "byteLimit": 2048000,
        "rowLimit": 10000
       },
       "nuid": "f5c4846f-8365-4087-8b8d-1b8bce02cd7d",
       "origId": 0,
       "parentHierarchy": [],
       "pivotAggregation": null,
       "pivotColumns": null,
       "position": 3.21875,
       "resultDbfsErrorMessage": null,
       "resultDbfsStatus": "INLINED_IN_TREE",
       "results": null,
       "showCommandTitle": false,
       "startTime": 0,
       "state": "finished",
       "streamStates": {},
       "subcommandOptions": {},
       "submitTime": 0,
       "subtype": "tableResultSubCmd.visualization",
       "tableResultIndex": 0,
       "tableResultSettingsMap": null,
       "useConsistentColors": false,
       "version": "CommandV1",
       "width": "auto",
       "workflows": [],
       "xColumns": null,
       "yColumns": null
      }
     },
     "output_type": "display_data"
    }
   ],
   "source": [
    "%sql\n",
    "select count(distinct(id)) as Females from data where gender='Female'"
   ]
  },
  {
   "cell_type": "code",
   "execution_count": 0,
   "metadata": {
    "application/vnd.databricks.v1+cell": {
     "cellMetadata": {
      "byteLimit": 2048000,
      "rowLimit": 10000
     },
     "inputWidgets": {},
     "nuid": "9d79d53e-8c1a-4530-89f4-ad5fe422ffd9",
     "showTitle": false,
     "title": ""
    }
   },
   "outputs": [
    {
     "output_type": "display_data",
     "data": {
      "text/html": [
       "<style scoped>\n",
       "  .table-result-container {\n",
       "    max-height: 300px;\n",
       "    overflow: auto;\n",
       "  }\n",
       "  table, th, td {\n",
       "    border: 1px solid black;\n",
       "    border-collapse: collapse;\n",
       "  }\n",
       "  th, td {\n",
       "    padding: 5px;\n",
       "  }\n",
       "  th {\n",
       "    text-align: left;\n",
       "  }\n",
       "</style><div class='table-result-container'><table class='table-result'><thead style='background-color: white'><tr><th>Total_delayed_payments</th></tr></thead><tbody><tr><td>302229</td></tr></tbody></table></div>"
      ]
     },
     "metadata": {
      "application/vnd.databricks.v1+output": {
       "addedWidgets": {},
       "aggData": [],
       "aggError": "",
       "aggOverflow": false,
       "aggSchema": [],
       "aggSeriesLimitReached": false,
       "aggType": "",
       "arguments": {},
       "columnCustomDisplayInfos": {},
       "data": [
        [
         302229
        ]
       ],
       "datasetInfos": [],
       "dbfsResultPath": null,
       "isJsonSchema": true,
       "metadata": {
        "isDbfsCommandResult": false
       },
       "overflow": false,
       "plotOptions": {
        "customPlotOptions": {},
        "displayType": "table",
        "pivotAggregation": null,
        "pivotColumns": null,
        "xColumns": null,
        "yColumns": null
       },
       "removedWidgets": [],
       "schema": [
        {
         "metadata": "{}",
         "name": "Total_delayed_payments",
         "type": "\"long\""
        }
       ],
       "type": "table"
      }
     },
     "output_type": "display_data"
    },
    {
     "output_type": "display_data",
     "data": {
      "text/plain": [
       "Databricks visualization. Run in Databricks to view."
      ]
     },
     "metadata": {
      "application/vnd.databricks.v1.subcommand+json": {
       "baseErrorDetails": null,
       "bindings": {},
       "collapsed": false,
       "command": "SELECT \n    sum(CASE WHEN is_delay_month = 'Yes' THEN 1 END) AS Total_delayed_payments\nFROM \n    data;\n",
       "commandTitle": "Visualization 1",
       "commandType": "auto",
       "commandVersion": 0,
       "commentThread": [],
       "commentsVisible": false,
       "contentSha256Hex": null,
       "customPlotOptions": {
        "redashChart": [
         {
          "key": "type",
          "value": "COUNTER"
         },
         {
          "key": "options",
          "value": {
           "counterColName": "Total_delayed_payments",
           "counterLabel": "Total Delayed Payments",
           "rowNumber": 1,
           "stringDecChar": ".",
           "stringDecimal": 0,
           "stringThouSep": ",",
           "targetRowNumber": 1,
           "tooltipFormat": "0,0.000"
          }
         }
        ]
       },
       "datasetPreviewNameToCmdIdMap": {},
       "diffDeletes": [],
       "diffInserts": [],
       "displayType": "redashChart",
       "error": null,
       "errorDetails": null,
       "errorSummary": null,
       "errorTraceType": null,
       "finishTime": 0,
       "globalVars": {},
       "guid": "",
       "height": "auto",
       "hideCommandCode": false,
       "hideCommandResult": false,
       "iPythonMetadata": null,
       "inputWidgets": {},
       "isLockedInExamMode": false,
       "latestUser": "a user",
       "latestUserId": null,
       "listResultMetadata": null,
       "metadata": {
        "byteLimit": 2048000,
        "rowLimit": 10000
       },
       "nuid": "84f5b7f8-0fe9-457c-b695-7ebc17dc693e",
       "origId": 0,
       "parentHierarchy": [],
       "pivotAggregation": null,
       "pivotColumns": null,
       "position": 3.234375,
       "resultDbfsErrorMessage": null,
       "resultDbfsStatus": "INLINED_IN_TREE",
       "results": null,
       "showCommandTitle": false,
       "startTime": 0,
       "state": "finished",
       "streamStates": {},
       "subcommandOptions": {},
       "submitTime": 0,
       "subtype": "tableResultSubCmd.visualization",
       "tableResultIndex": 0,
       "tableResultSettingsMap": null,
       "useConsistentColors": false,
       "version": "CommandV1",
       "width": "auto",
       "workflows": [],
       "xColumns": null,
       "yColumns": null
      }
     },
     "output_type": "display_data"
    }
   ],
   "source": [
    "%sql\n",
    "SELECT \n",
    "    sum(CASE WHEN is_delay_month = 'Yes' THEN 1 END) AS Total_delayed_payments\n",
    "FROM \n",
    "    data;\n"
   ]
  },
  {
   "cell_type": "code",
   "execution_count": 0,
   "metadata": {
    "application/vnd.databricks.v1+cell": {
     "cellMetadata": {
      "byteLimit": 2048000,
      "rowLimit": 10000
     },
     "inputWidgets": {},
     "nuid": "6eefd00e-035f-4cba-8a07-ecba31f24fa7",
     "showTitle": false,
     "title": ""
    }
   },
   "outputs": [
    {
     "output_type": "display_data",
     "data": {
      "text/html": [
       "<style scoped>\n",
       "  .table-result-container {\n",
       "    max-height: 300px;\n",
       "    overflow: auto;\n",
       "  }\n",
       "  table, th, td {\n",
       "    border: 1px solid black;\n",
       "    border-collapse: collapse;\n",
       "  }\n",
       "  th, td {\n",
       "    padding: 5px;\n",
       "  }\n",
       "  th {\n",
       "    text-align: left;\n",
       "  }\n",
       "</style><div class='table-result-container'><table class='table-result'><thead style='background-color: white'><tr><th>Total_non_delayed_payments</th></tr></thead><tbody><tr><td>475486</td></tr></tbody></table></div>"
      ]
     },
     "metadata": {
      "application/vnd.databricks.v1+output": {
       "addedWidgets": {},
       "aggData": [],
       "aggError": "",
       "aggOverflow": false,
       "aggSchema": [],
       "aggSeriesLimitReached": false,
       "aggType": "",
       "arguments": {},
       "columnCustomDisplayInfos": {},
       "data": [
        [
         475486
        ]
       ],
       "datasetInfos": [],
       "dbfsResultPath": null,
       "isJsonSchema": true,
       "metadata": {
        "isDbfsCommandResult": false
       },
       "overflow": false,
       "plotOptions": {
        "customPlotOptions": {},
        "displayType": "table",
        "pivotAggregation": null,
        "pivotColumns": null,
        "xColumns": null,
        "yColumns": null
       },
       "removedWidgets": [],
       "schema": [
        {
         "metadata": "{}",
         "name": "Total_non_delayed_payments",
         "type": "\"long\""
        }
       ],
       "type": "table"
      }
     },
     "output_type": "display_data"
    },
    {
     "output_type": "display_data",
     "data": {
      "text/plain": [
       "Databricks visualization. Run in Databricks to view."
      ]
     },
     "metadata": {
      "application/vnd.databricks.v1.subcommand+json": {
       "baseErrorDetails": null,
       "bindings": {},
       "collapsed": false,
       "command": "SELECT \n    sum(CASE WHEN is_delay_month = 'No' THEN 1 END) AS Total_non_delayed_payments\nFROM \n    data;\n",
       "commandTitle": "Visualization 1",
       "commandType": "auto",
       "commandVersion": 0,
       "commentThread": [],
       "commentsVisible": false,
       "contentSha256Hex": null,
       "customPlotOptions": {
        "redashChart": [
         {
          "key": "type",
          "value": "COUNTER"
         },
         {
          "key": "options",
          "value": {
           "counterColName": "Total_non_delayed_payments",
           "counterLabel": "Total Non-Delayed Payments",
           "rowNumber": 1,
           "stringDecChar": ".",
           "stringDecimal": 0,
           "stringThouSep": ",",
           "targetRowNumber": 1,
           "tooltipFormat": "0,0.000"
          }
         }
        ]
       },
       "datasetPreviewNameToCmdIdMap": {},
       "diffDeletes": [],
       "diffInserts": [],
       "displayType": "redashChart",
       "error": null,
       "errorDetails": null,
       "errorSummary": null,
       "errorTraceType": null,
       "finishTime": 0,
       "globalVars": {},
       "guid": "",
       "height": "auto",
       "hideCommandCode": false,
       "hideCommandResult": false,
       "iPythonMetadata": null,
       "inputWidgets": {},
       "isLockedInExamMode": false,
       "latestUser": "a user",
       "latestUserId": null,
       "listResultMetadata": null,
       "metadata": {
        "byteLimit": 2048000,
        "rowLimit": 10000
       },
       "nuid": "97965d0a-2eed-4c9e-a9dd-131a25caa187",
       "origId": 0,
       "parentHierarchy": [],
       "pivotAggregation": null,
       "pivotColumns": null,
       "position": 3.2421875,
       "resultDbfsErrorMessage": null,
       "resultDbfsStatus": "INLINED_IN_TREE",
       "results": null,
       "showCommandTitle": false,
       "startTime": 0,
       "state": "finished",
       "streamStates": {},
       "subcommandOptions": {},
       "submitTime": 0,
       "subtype": "tableResultSubCmd.visualization",
       "tableResultIndex": 0,
       "tableResultSettingsMap": null,
       "useConsistentColors": false,
       "version": "CommandV1",
       "width": "auto",
       "workflows": [],
       "xColumns": null,
       "yColumns": null
      }
     },
     "output_type": "display_data"
    }
   ],
   "source": [
    "%sql\n",
    "SELECT \n",
    "    sum(CASE WHEN is_delay_month = 'No' THEN 1 END) AS Total_non_delayed_payments\n",
    "FROM \n",
    "    data;\n"
   ]
  },
  {
   "cell_type": "markdown",
   "metadata": {
    "application/vnd.databricks.v1+cell": {
     "cellMetadata": {
      "byteLimit": 2048000,
      "rowLimit": 10000
     },
     "inputWidgets": {},
     "nuid": "a7227d4f-b078-40a8-a40c-e212f01c4b8b",
     "showTitle": false,
     "title": ""
    }
   },
   "source": [
    "#### 1)Total Applicants by Income Category"
   ]
  },
  {
   "cell_type": "code",
   "execution_count": 0,
   "metadata": {
    "application/vnd.databricks.v1+cell": {
     "cellMetadata": {
      "byteLimit": 2048000,
      "rowLimit": 10000
     },
     "inputWidgets": {},
     "nuid": "b8257a0e-c5ec-4668-9640-20ba84cb8043",
     "showTitle": false,
     "title": ""
    }
   },
   "outputs": [
    {
     "output_type": "display_data",
     "data": {
      "text/html": [
       "<style scoped>\n",
       "  .table-result-container {\n",
       "    max-height: 300px;\n",
       "    overflow: auto;\n",
       "  }\n",
       "  table, th, td {\n",
       "    border: 1px solid black;\n",
       "    border-collapse: collapse;\n",
       "  }\n",
       "  th, td {\n",
       "    padding: 5px;\n",
       "  }\n",
       "  th {\n",
       "    text-align: left;\n",
       "  }\n",
       "</style><div class='table-result-container'><table class='table-result'><thead style='background-color: white'><tr><th>Income_category</th><th>unique_applicant_count</th></tr></thead><tbody><tr><td>Student</td><td>11</td></tr><tr><td>Commercial associate</td><td>8490</td></tr><tr><td>State servant</td><td>2985</td></tr><tr><td>Working</td><td>18819</td></tr><tr><td>Pensioner</td><td>6152</td></tr></tbody></table></div>"
      ]
     },
     "metadata": {
      "application/vnd.databricks.v1+output": {
       "addedWidgets": {},
       "aggData": [],
       "aggError": "",
       "aggOverflow": false,
       "aggSchema": [],
       "aggSeriesLimitReached": false,
       "aggType": "",
       "arguments": {},
       "columnCustomDisplayInfos": {},
       "data": [
        [
         "Student",
         11
        ],
        [
         "Commercial associate",
         8490
        ],
        [
         "State servant",
         2985
        ],
        [
         "Working",
         18819
        ],
        [
         "Pensioner",
         6152
        ]
       ],
       "datasetInfos": [],
       "dbfsResultPath": null,
       "isJsonSchema": true,
       "metadata": {
        "isDbfsCommandResult": false
       },
       "overflow": false,
       "plotOptions": {
        "customPlotOptions": {},
        "displayType": "table",
        "pivotAggregation": null,
        "pivotColumns": null,
        "xColumns": null,
        "yColumns": null
       },
       "removedWidgets": [],
       "schema": [
        {
         "metadata": "{}",
         "name": "Income_category",
         "type": "\"string\""
        },
        {
         "metadata": "{}",
         "name": "unique_applicant_count",
         "type": "\"long\""
        }
       ],
       "type": "table"
      }
     },
     "output_type": "display_data"
    },
    {
     "output_type": "display_data",
     "data": {
      "text/plain": [
       "Databricks visualization. Run in Databricks to view."
      ]
     },
     "metadata": {
      "application/vnd.databricks.v1.subcommand+json": {
       "baseErrorDetails": null,
       "bindings": {},
       "collapsed": false,
       "command": "%sql WITH q AS (SELECT\n        Income_category,\n        COUNT(DISTINCT ID) AS unique_applicant_count\n    FROM data\n    GROUP BY Income_category) SELECT `Income_category`,SUM(`unique_applicant_count`) `column_5abf03f213` FROM q GROUP BY `Income_category`",
       "commandTitle": "Visualization 1",
       "commandType": "auto",
       "commandVersion": 0,
       "commentThread": [],
       "commentsVisible": false,
       "contentSha256Hex": null,
       "customPlotOptions": {
        "redashChart": [
         {
          "key": "type",
          "value": "CHART"
         },
         {
          "key": "options",
          "value": {
           "alignYAxesAtZero": true,
           "coefficient": 1,
           "columnConfigurationMap": {
            "x": {
             "column": "Income_category",
             "id": "column_5abf03f212"
            },
            "y": [
             {
              "column": "unique_applicant_count",
              "id": "column_5abf03f213",
              "transform": "SUM"
             }
            ]
           },
           "dateTimeFormat": "DD/MM/YYYY HH:mm",
           "direction": {
            "type": "counterclockwise"
           },
           "error_y": {
            "type": "data",
            "visible": true
           },
           "globalSeriesType": "column",
           "isAggregationOn": true,
           "legend": {
            "traceorder": "normal"
           },
           "missingValuesAsZero": true,
           "numberFormat": "0,0.[00000]",
           "percentFormat": "0[.]00%",
           "series": {
            "error_y": {
             "type": "data",
             "visible": true
            },
            "stacking": null
           },
           "seriesOptions": {
            "column_5abf03f213": {
             "color": "#0066B2",
             "name": "unique_applicant_count",
             "yAxis": 0
            }
           },
           "showDataLabels": false,
           "sizemode": "diameter",
           "sortX": true,
           "sortY": true,
           "swappedAxes": false,
           "textFormat": "",
           "useAggregationsUi": true,
           "valuesOptions": {},
           "version": 2,
           "xAxis": {
            "labels": {
             "enabled": true
            },
            "title": {
             "text": null
            },
            "type": "-"
           },
           "yAxis": [
            {
             "title": {
              "text": "Unique_Applicants"
             },
             "type": "-"
            },
            {
             "opposite": true,
             "type": "-"
            }
           ]
          }
         }
        ]
       },
       "datasetPreviewNameToCmdIdMap": {},
       "diffDeletes": [],
       "diffInserts": [],
       "displayType": "redashChart",
       "error": null,
       "errorDetails": null,
       "errorSummary": null,
       "errorTraceType": null,
       "finishTime": 0,
       "globalVars": {},
       "guid": "",
       "height": "auto",
       "hideCommandCode": false,
       "hideCommandResult": false,
       "iPythonMetadata": null,
       "inputWidgets": {},
       "isLockedInExamMode": false,
       "latestUser": "a user",
       "latestUserId": null,
       "listResultMetadata": null,
       "metadata": {
        "byteLimit": 2048000,
        "rowLimit": 10000
       },
       "nuid": "59735ffe-0afe-4e32-9926-3142054f30e0",
       "origId": 0,
       "parentHierarchy": [],
       "pivotAggregation": null,
       "pivotColumns": null,
       "position": 3.25,
       "resultDbfsErrorMessage": null,
       "resultDbfsStatus": "INLINED_IN_TREE",
       "results": null,
       "showCommandTitle": false,
       "startTime": 0,
       "state": "finished",
       "streamStates": {},
       "subcommandOptions": {
        "queryPlan": {
         "groups": [
          {
           "column": "Income_category",
           "type": "column"
          }
         ],
         "selects": [
          {
           "column": "Income_category",
           "type": "column"
          },
          {
           "alias": "column_5abf03f213",
           "args": [
            {
             "column": "unique_applicant_count",
             "type": "column"
            }
           ],
           "function": "SUM",
           "type": "function"
          }
         ]
        }
       },
       "submitTime": 0,
       "subtype": "tableResultSubCmd.visualization",
       "tableResultIndex": 0,
       "tableResultSettingsMap": null,
       "useConsistentColors": false,
       "version": "CommandV1",
       "width": "auto",
       "workflows": [],
       "xColumns": null,
       "yColumns": null
      }
     },
     "output_type": "display_data"
    }
   ],
   "source": [
    "%sql\n",
    "SELECT\n",
    "        Income_category,\n",
    "        COUNT(DISTINCT ID) AS unique_applicant_count\n",
    "    FROM data\n",
    "    GROUP BY Income_category\n"
   ]
  },
  {
   "cell_type": "markdown",
   "metadata": {
    "application/vnd.databricks.v1+cell": {
     "cellMetadata": {
      "byteLimit": 2048000,
      "rowLimit": 10000
     },
     "inputWidgets": {},
     "nuid": "476b25f9-72e0-4089-b090-1b06d30084de",
     "showTitle": false,
     "title": ""
    }
   },
   "source": [
    "#### 2)Credit Card Tenure by Income Category"
   ]
  },
  {
   "cell_type": "code",
   "execution_count": 0,
   "metadata": {
    "application/vnd.databricks.v1+cell": {
     "cellMetadata": {
      "byteLimit": 2048000,
      "rowLimit": 10000
     },
     "inputWidgets": {},
     "nuid": "34467f36-39fc-485f-98d8-a84b1e05edff",
     "showTitle": false,
     "title": ""
    }
   },
   "outputs": [
    {
     "output_type": "display_data",
     "data": {
      "text/html": [
       "<style scoped>\n",
       "  .table-result-container {\n",
       "    max-height: 300px;\n",
       "    overflow: auto;\n",
       "  }\n",
       "  table, th, td {\n",
       "    border: 1px solid black;\n",
       "    border-collapse: collapse;\n",
       "  }\n",
       "  th, td {\n",
       "    padding: 5px;\n",
       "  }\n",
       "  th {\n",
       "    text-align: left;\n",
       "  }\n",
       "</style><div class='table-result-container'><table class='table-result'><thead style='background-color: white'><tr><th>Income_category</th><th>average_credit_card_tenure</th></tr></thead><tbody><tr><td>Student</td><td>29.636363636363637</td></tr><tr><td>State servant</td><td>20.921943048576214</td></tr><tr><td>Commercial associate</td><td>20.600117785630154</td></tr><tr><td>Working</td><td>20.263829108879325</td></tr><tr><td>Pensioner</td><td>19.86996098829649</td></tr></tbody></table></div>"
      ]
     },
     "metadata": {
      "application/vnd.databricks.v1+output": {
       "addedWidgets": {},
       "aggData": [],
       "aggError": "",
       "aggOverflow": false,
       "aggSchema": [],
       "aggSeriesLimitReached": false,
       "aggType": "",
       "arguments": {},
       "columnCustomDisplayInfos": {},
       "data": [
        [
         "Student",
         29.636363636363637
        ],
        [
         "State servant",
         20.921943048576214
        ],
        [
         "Commercial associate",
         20.600117785630154
        ],
        [
         "Working",
         20.263829108879325
        ],
        [
         "Pensioner",
         19.86996098829649
        ]
       ],
       "datasetInfos": [],
       "dbfsResultPath": null,
       "isJsonSchema": true,
       "metadata": {
        "isDbfsCommandResult": false
       },
       "overflow": false,
       "plotOptions": {
        "customPlotOptions": {},
        "displayType": "table",
        "pivotAggregation": null,
        "pivotColumns": null,
        "xColumns": null,
        "yColumns": null
       },
       "removedWidgets": [],
       "schema": [
        {
         "metadata": "{}",
         "name": "Income_category",
         "type": "\"string\""
        },
        {
         "metadata": "{}",
         "name": "average_credit_card_tenure",
         "type": "\"double\""
        }
       ],
       "type": "table"
      }
     },
     "output_type": "display_data"
    },
    {
     "output_type": "display_data",
     "data": {
      "text/plain": [
       "Databricks visualization. Run in Databricks to view."
      ]
     },
     "metadata": {
      "application/vnd.databricks.v1.subcommand+json": {
       "baseErrorDetails": null,
       "bindings": {},
       "collapsed": false,
       "command": "%sql WITH q AS (WITH tenure_data AS (\n    SELECT \n        ID,\n        Income_category,\n        MAX(MONTHS_AGO)-MIN(MONTHS_AGO) AS tenure_count\n    FROM \n        data\n    GROUP BY \n        ID, Income_category\n    order by id\n)\nSELECT \n    Income_category,\n    AVG(tenure_count) AS average_credit_card_tenure\nFROM \n    tenure_data\nGROUP BY \n    Income_category\nORDER BY \n    average_credit_card_tenure DESC) SELECT `Income_category`,SUM(`average_credit_card_tenure`) `column_565512ea112` FROM q GROUP BY `Income_category`",
       "commandTitle": "Visualization 1",
       "commandType": "auto",
       "commandVersion": 0,
       "commentThread": [],
       "commentsVisible": false,
       "contentSha256Hex": null,
       "customPlotOptions": {
        "redashChart": [
         {
          "key": "type",
          "value": "CHART"
         },
         {
          "key": "options",
          "value": {
           "alignYAxesAtZero": true,
           "coefficient": 1,
           "columnConfigurationMap": {
            "x": {
             "column": "Income_category",
             "id": "column_565512ea111"
            },
            "y": [
             {
              "column": "average_credit_card_tenure",
              "id": "column_565512ea112",
              "transform": "SUM"
             }
            ]
           },
           "dateTimeFormat": "DD/MM/YYYY HH:mm",
           "direction": {
            "type": "counterclockwise"
           },
           "error_y": {
            "type": "data",
            "visible": true
           },
           "globalSeriesType": "column",
           "isAggregationOn": true,
           "legend": {
            "traceorder": "normal"
           },
           "missingValuesAsZero": false,
           "numberFormat": "0,0.[00000]",
           "percentFormat": "0[.]00%",
           "series": {
            "error_y": {
             "type": "data",
             "visible": true
            },
            "stacking": null
           },
           "seriesOptions": {
            "column_565512ea112": {
             "color": "#0E3386",
             "name": "average_credit_card_tenure",
             "yAxis": 0
            }
           },
           "showDataLabels": false,
           "sizemode": "diameter",
           "sortX": true,
           "sortY": true,
           "swappedAxes": true,
           "textFormat": "",
           "useAggregationsUi": true,
           "valuesOptions": {},
           "version": 2,
           "xAxis": {
            "labels": {
             "enabled": true
            },
            "type": "-"
           },
           "yAxis": [
            {
             "type": "-"
            },
            {
             "opposite": true,
             "type": "-"
            }
           ]
          }
         }
        ]
       },
       "datasetPreviewNameToCmdIdMap": {},
       "diffDeletes": [],
       "diffInserts": [],
       "displayType": "redashChart",
       "error": null,
       "errorDetails": null,
       "errorSummary": null,
       "errorTraceType": null,
       "finishTime": 0,
       "globalVars": {},
       "guid": "",
       "height": "auto",
       "hideCommandCode": false,
       "hideCommandResult": false,
       "iPythonMetadata": null,
       "inputWidgets": {},
       "isLockedInExamMode": false,
       "latestUser": "a user",
       "latestUserId": null,
       "listResultMetadata": null,
       "metadata": {
        "byteLimit": 2048000,
        "rowLimit": 10000
       },
       "nuid": "c1f95273-7daf-4bf0-9041-1b4c578971a8",
       "origId": 0,
       "parentHierarchy": [],
       "pivotAggregation": null,
       "pivotColumns": null,
       "position": 4.0,
       "resultDbfsErrorMessage": null,
       "resultDbfsStatus": "INLINED_IN_TREE",
       "results": null,
       "showCommandTitle": false,
       "startTime": 0,
       "state": "finished",
       "streamStates": {},
       "subcommandOptions": {
        "queryPlan": {
         "groups": [
          {
           "column": "Income_category",
           "type": "column"
          }
         ],
         "selects": [
          {
           "column": "Income_category",
           "type": "column"
          },
          {
           "alias": "column_565512ea112",
           "args": [
            {
             "column": "average_credit_card_tenure",
             "type": "column"
            }
           ],
           "function": "SUM",
           "type": "function"
          }
         ]
        }
       },
       "submitTime": 0,
       "subtype": "tableResultSubCmd.visualization",
       "tableResultIndex": 0,
       "tableResultSettingsMap": null,
       "useConsistentColors": false,
       "version": "CommandV1",
       "width": "auto",
       "workflows": [],
       "xColumns": null,
       "yColumns": null
      }
     },
     "output_type": "display_data"
    }
   ],
   "source": [
    "%sql\n",
    "-- Students tend to maintain longer credit card tenures as they start their credit journeys early, often with student loans or low-limit cards. This helps them build a solid credit history over time. Pensioners, on the other hand, might have shorter tenures due to shifting financial priorities in retirement. Credit card companies could offer student-specific products to reward long-term loyalty.\n",
    "\n",
    "WITH tenure_data AS (\n",
    "    SELECT \n",
    "        ID,\n",
    "        Income_category,\n",
    "        MAX(MONTHS_AGO)-MIN(MONTHS_AGO) AS tenure_count\n",
    "    FROM \n",
    "        data\n",
    "    GROUP BY \n",
    "        ID, Income_category\n",
    "    order by id\n",
    ")\n",
    "SELECT \n",
    "    Income_category,\n",
    "    AVG(tenure_count) AS average_credit_card_tenure\n",
    "FROM \n",
    "    tenure_data\n",
    "GROUP BY \n",
    "    Income_category\n",
    "ORDER BY \n",
    "    average_credit_card_tenure DESC;\n",
    "\n",
    "\n"
   ]
  },
  {
   "cell_type": "markdown",
   "metadata": {
    "application/vnd.databricks.v1+cell": {
     "cellMetadata": {
      "byteLimit": 2048000,
      "rowLimit": 10000
     },
     "inputWidgets": {},
     "nuid": "6cd29734-91e6-45a6-86f7-4e4832854c5a",
     "showTitle": false,
     "title": ""
    }
   },
   "source": [
    "#### 3)Gender-wise Delayed Payments"
   ]
  },
  {
   "cell_type": "code",
   "execution_count": 0,
   "metadata": {
    "application/vnd.databricks.v1+cell": {
     "cellMetadata": {
      "byteLimit": 2048000,
      "rowLimit": 10000
     },
     "inputWidgets": {},
     "nuid": "9f25cbe6-a547-43e2-8926-184936533e0a",
     "showTitle": false,
     "title": ""
    }
   },
   "outputs": [
    {
     "output_type": "display_data",
     "data": {
      "text/html": [
       "<style scoped>\n",
       "  .table-result-container {\n",
       "    max-height: 300px;\n",
       "    overflow: auto;\n",
       "  }\n",
       "  table, th, td {\n",
       "    border: 1px solid black;\n",
       "    border-collapse: collapse;\n",
       "  }\n",
       "  th, td {\n",
       "    padding: 5px;\n",
       "  }\n",
       "  th {\n",
       "    text-align: left;\n",
       "  }\n",
       "</style><div class='table-result-container'><table class='table-result'><thead style='background-color: white'><tr><th>gender</th><th>avg_delayed_count</th></tr></thead><tbody><tr><td>Female</td><td>0.3895472881424532</td></tr><tr><td>Male</td><td>0.38673589220594595</td></tr></tbody></table></div>"
      ]
     },
     "metadata": {
      "application/vnd.databricks.v1+output": {
       "addedWidgets": {},
       "aggData": [],
       "aggError": "",
       "aggOverflow": false,
       "aggSchema": [],
       "aggSeriesLimitReached": false,
       "aggType": "",
       "arguments": {},
       "columnCustomDisplayInfos": {},
       "data": [
        [
         "Female",
         0.3895472881424532
        ],
        [
         "Male",
         0.38673589220594595
        ]
       ],
       "datasetInfos": [],
       "dbfsResultPath": null,
       "isJsonSchema": true,
       "metadata": {
        "isDbfsCommandResult": false
       },
       "overflow": false,
       "plotOptions": {
        "customPlotOptions": {},
        "displayType": "table",
        "pivotAggregation": null,
        "pivotColumns": null,
        "xColumns": null,
        "yColumns": null
       },
       "removedWidgets": [],
       "schema": [
        {
         "metadata": "{}",
         "name": "gender",
         "type": "\"string\""
        },
        {
         "metadata": "{}",
         "name": "avg_delayed_count",
         "type": "\"double\""
        }
       ],
       "type": "table"
      }
     },
     "output_type": "display_data"
    },
    {
     "output_type": "display_data",
     "data": {
      "text/plain": [
       "Databricks visualization. Run in Databricks to view."
      ]
     },
     "metadata": {
      "application/vnd.databricks.v1.subcommand+json": {
       "baseErrorDetails": null,
       "bindings": {},
       "collapsed": false,
       "command": "%sql WITH q AS (SELECT\n        gender,\n        AVG(CASE WHEN is_delay_month = 'Yes' THEN 1 ELSE 0 END) AS avg_delayed_count\n    FROM data\n    GROUP BY gender) SELECT `gender`,SUM(`avg_delayed_count`) `column_565512ea249` FROM q GROUP BY `gender`",
       "commandTitle": "Visualization 1",
       "commandType": "auto",
       "commandVersion": 0,
       "commentThread": [],
       "commentsVisible": false,
       "contentSha256Hex": null,
       "customPlotOptions": {
        "redashChart": [
         {
          "key": "type",
          "value": "CHART"
         },
         {
          "key": "options",
          "value": {
           "alignYAxesAtZero": true,
           "coefficient": 1,
           "columnConfigurationMap": {
            "x": {
             "column": "gender",
             "id": "column_565512ea248"
            },
            "y": [
             {
              "column": "avg_delayed_count",
              "id": "column_565512ea249",
              "transform": "SUM"
             }
            ]
           },
           "dateTimeFormat": "DD/MM/YYYY HH:mm",
           "direction": {
            "type": "counterclockwise"
           },
           "error_y": {
            "type": "data",
            "visible": true
           },
           "globalSeriesType": "pie",
           "legend": {
            "traceorder": "normal"
           },
           "missingValuesAsZero": true,
           "numberFormat": "0,0.[00000]",
           "percentFormat": "0[.]00%",
           "series": {
            "error_y": {
             "type": "data",
             "visible": true
            },
            "stacking": null
           },
           "seriesOptions": {
            "column_565512ea249": {
             "name": "avg_delayed_count",
             "type": "pie",
             "yAxis": 0
            }
           },
           "showDataLabels": true,
           "sizemode": "diameter",
           "sortX": true,
           "sortY": true,
           "swappedAxes": false,
           "textFormat": "",
           "useAggregationsUi": true,
           "valuesOptions": {},
           "version": 2,
           "xAxis": {
            "labels": {
             "enabled": true
            },
            "type": "-"
           },
           "yAxis": [
            {
             "type": "-"
            },
            {
             "opposite": true,
             "type": "-"
            }
           ]
          }
         }
        ]
       },
       "datasetPreviewNameToCmdIdMap": {},
       "diffDeletes": [],
       "diffInserts": [],
       "displayType": "redashChart",
       "error": null,
       "errorDetails": null,
       "errorSummary": null,
       "errorTraceType": null,
       "finishTime": 0,
       "globalVars": {},
       "guid": "",
       "height": "auto",
       "hideCommandCode": false,
       "hideCommandResult": false,
       "iPythonMetadata": null,
       "inputWidgets": {},
       "isLockedInExamMode": false,
       "latestUser": "a user",
       "latestUserId": null,
       "listResultMetadata": null,
       "metadata": {
        "byteLimit": 2048000,
        "rowLimit": 10000
       },
       "nuid": "4ba9800e-eabc-4ffa-8be2-2f555d1524f7",
       "origId": 0,
       "parentHierarchy": [],
       "pivotAggregation": null,
       "pivotColumns": null,
       "position": 4.25,
       "resultDbfsErrorMessage": null,
       "resultDbfsStatus": "INLINED_IN_TREE",
       "results": null,
       "showCommandTitle": false,
       "startTime": 0,
       "state": "finished",
       "streamStates": {},
       "subcommandOptions": {
        "queryPlan": {
         "groups": [
          {
           "column": "gender",
           "type": "column"
          }
         ],
         "selects": [
          {
           "column": "gender",
           "type": "column"
          },
          {
           "alias": "column_565512ea249",
           "args": [
            {
             "column": "avg_delayed_count",
             "type": "column"
            }
           ],
           "function": "SUM",
           "type": "function"
          }
         ]
        }
       },
       "submitTime": 0,
       "subtype": "tableResultSubCmd.visualization",
       "tableResultIndex": 0,
       "tableResultSettingsMap": null,
       "useConsistentColors": false,
       "version": "CommandV1",
       "width": "auto",
       "workflows": [],
       "xColumns": null,
       "yColumns": null
      }
     },
     "output_type": "display_data"
    }
   ],
   "source": [
    "%sql\n",
    "-- Doubt\n",
    "    SELECT\n",
    "        gender,\n",
    "        AVG(CASE WHEN is_delay_month = 'Yes' THEN 1 ELSE 0 END) AS avg_delayed_count\n",
    "    FROM data\n",
    "    GROUP BY gender"
   ]
  },
  {
   "cell_type": "markdown",
   "metadata": {
    "application/vnd.databricks.v1+cell": {
     "cellMetadata": {
      "byteLimit": 2048000,
      "rowLimit": 10000
     },
     "inputWidgets": {},
     "nuid": "a906e49c-d897-4f1c-89e3-864294d1e92e",
     "showTitle": false,
     "title": ""
    }
   },
   "source": [
    "#### 4)% Delayed Payments Count per Customer"
   ]
  },
  {
   "cell_type": "code",
   "execution_count": 0,
   "metadata": {
    "application/vnd.databricks.v1+cell": {
     "cellMetadata": {
      "byteLimit": 2048000,
      "rowLimit": 10000
     },
     "inputWidgets": {},
     "nuid": "2d0c71a6-8ebe-4f69-8f87-486df28fc843",
     "showTitle": false,
     "title": ""
    }
   },
   "outputs": [],
   "source": [
    "%sql\n",
    "with my_cte as (\n",
    "SELECT \n",
    "    ID,\n",
    "    SUM(CASE WHEN is_delay_month = 'Yes' THEN 1 ELSE 0 END) AS delayed_payments,\n",
    "    count(*) as total\n",
    "FROM \n",
    "    data\n",
    "GROUP BY \n",
    "    ID\n",
    "order by delayed_payments\n",
    ")\n",
    "select id,delayed_payments*100/total as percent_delay_payments from my_cte\n",
    "\n"
   ]
  },
  {
   "cell_type": "markdown",
   "metadata": {
    "application/vnd.databricks.v1+cell": {
     "cellMetadata": {
      "byteLimit": 2048000,
      "rowLimit": 10000
     },
     "inputWidgets": {},
     "nuid": "a653b702-9528-452f-ae3d-7d87ac74f707",
     "showTitle": false,
     "title": ""
    }
   },
   "source": [
    "#### 5)Find the Outliers in the Annual_income"
   ]
  },
  {
   "cell_type": "code",
   "execution_count": 0,
   "metadata": {
    "application/vnd.databricks.v1+cell": {
     "cellMetadata": {
      "byteLimit": 2048000,
      "rowLimit": 10000
     },
     "inputWidgets": {},
     "nuid": "c95d611b-67ba-4cb9-a157-400b33df0186",
     "showTitle": false,
     "title": ""
    }
   },
   "outputs": [],
   "source": [
    "%sql\n",
    "\n",
    "with my_cte as(\n",
    "  select distinct(id),income_category,education_level,annual_income,\n",
    "percentile_cont(0.25) within group(order by annual_income) over(partition by education_level) as Q1,\n",
    "percentile_cont(0.75) within group(order by annual_income) over(partition by education_level) as Q3\n",
    "from data\n",
    ")\n",
    "SELECT distinct(id),income_category,education_level,annual_income from my_cte\n",
    "where annual_income< (Q1 - 1.5*(Q3-Q1)) or annual_income> (Q3 + 1.5*(Q3-Q1))\n",
    "order by id,annual_income"
   ]
  },
  {
   "cell_type": "code",
   "execution_count": 0,
   "metadata": {
    "application/vnd.databricks.v1+cell": {
     "cellMetadata": {
      "byteLimit": 2048000,
      "rowLimit": 10000
     },
     "inputWidgets": {},
     "nuid": "17c4b963-7053-46d7-8e36-6491f44356ec",
     "showTitle": false,
     "title": ""
    }
   },
   "outputs": [],
   "source": [
    "%sql\n",
    "SELECT distinct(id),income_category,education_level,annual_income \n",
    "from data"
   ]
  },
  {
   "cell_type": "markdown",
   "metadata": {
    "application/vnd.databricks.v1+cell": {
     "cellMetadata": {
      "byteLimit": 2048000,
      "rowLimit": 10000
     },
     "inputWidgets": {},
     "nuid": "24bd0f1e-7445-4f9f-abdf-e2b159cdb7f6",
     "showTitle": false,
     "title": ""
    }
   },
   "source": [
    "#### 6)count of both defaulters and non-defaulters with respect to age"
   ]
  },
  {
   "cell_type": "code",
   "execution_count": 0,
   "metadata": {
    "application/vnd.databricks.v1+cell": {
     "cellMetadata": {
      "byteLimit": 2048000,
      "rowLimit": 10000
     },
     "inputWidgets": {},
     "nuid": "effa593e-b30b-46f4-b878-30410fa3bf44",
     "showTitle": false,
     "title": ""
    }
   },
   "outputs": [
    {
     "output_type": "display_data",
     "data": {
      "text/html": [
       "<style scoped>\n",
       "  .table-result-container {\n",
       "    max-height: 300px;\n",
       "    overflow: auto;\n",
       "  }\n",
       "  table, th, td {\n",
       "    border: 1px solid black;\n",
       "    border-collapse: collapse;\n",
       "  }\n",
       "  th, td {\n",
       "    padding: 5px;\n",
       "  }\n",
       "  th {\n",
       "    text-align: left;\n",
       "  }\n",
       "</style><div class='table-result-container'><table class='table-result'><thead style='background-color: white'><tr><th>age</th><th>defaulters_count</th><th>non_defaulters_count</th></tr></thead><tbody><tr><td>20</td><td>0</td><td>1</td></tr><tr><td>21</td><td>8</td><td>7</td></tr><tr><td>22</td><td>135</td><td>107</td></tr><tr><td>23</td><td>183</td><td>172</td></tr><tr><td>24</td><td>334</td><td>282</td></tr><tr><td>25</td><td>435</td><td>398</td></tr><tr><td>26</td><td>449</td><td>437</td></tr><tr><td>27</td><td>987</td><td>978</td></tr><tr><td>28</td><td>1034</td><td>977</td></tr><tr><td>29</td><td>840</td><td>805</td></tr><tr><td>30</td><td>853</td><td>886</td></tr><tr><td>31</td><td>811</td><td>827</td></tr><tr><td>32</td><td>933</td><td>883</td></tr><tr><td>33</td><td>934</td><td>908</td></tr><tr><td>34</td><td>913</td><td>965</td></tr><tr><td>35</td><td>871</td><td>861</td></tr><tr><td>36</td><td>813</td><td>839</td></tr><tr><td>37</td><td>1025</td><td>1056</td></tr><tr><td>38</td><td>925</td><td>889</td></tr><tr><td>39</td><td>964</td><td>940</td></tr><tr><td>40</td><td>1001</td><td>974</td></tr><tr><td>41</td><td>871</td><td>902</td></tr><tr><td>42</td><td>894</td><td>920</td></tr><tr><td>43</td><td>880</td><td>864</td></tr><tr><td>44</td><td>783</td><td>787</td></tr><tr><td>45</td><td>725</td><td>664</td></tr><tr><td>46</td><td>833</td><td>779</td></tr><tr><td>47</td><td>804</td><td>721</td></tr><tr><td>48</td><td>775</td><td>733</td></tr><tr><td>49</td><td>636</td><td>651</td></tr><tr><td>50</td><td>735</td><td>720</td></tr><tr><td>51</td><td>766</td><td>774</td></tr><tr><td>52</td><td>654</td><td>654</td></tr><tr><td>53</td><td>663</td><td>667</td></tr><tr><td>54</td><td>748</td><td>734</td></tr><tr><td>55</td><td>584</td><td>548</td></tr><tr><td>56</td><td>698</td><td>697</td></tr><tr><td>57</td><td>727</td><td>724</td></tr><tr><td>58</td><td>698</td><td>674</td></tr><tr><td>59</td><td>719</td><td>709</td></tr><tr><td>60</td><td>722</td><td>704</td></tr><tr><td>61</td><td>470</td><td>453</td></tr><tr><td>62</td><td>560</td><td>533</td></tr><tr><td>63</td><td>475</td><td>470</td></tr><tr><td>64</td><td>462</td><td>473</td></tr><tr><td>65</td><td>297</td><td>280</td></tr><tr><td>66</td><td>239</td><td>235</td></tr><tr><td>67</td><td>109</td><td>112</td></tr><tr><td>68</td><td>27</td><td>33</td></tr></tbody></table></div>"
      ]
     },
     "metadata": {
      "application/vnd.databricks.v1+output": {
       "addedWidgets": {},
       "aggData": [],
       "aggError": "",
       "aggOverflow": false,
       "aggSchema": [],
       "aggSeriesLimitReached": false,
       "aggType": "",
       "arguments": {},
       "columnCustomDisplayInfos": {},
       "data": [
        [
         20,
         0,
         1
        ],
        [
         21,
         8,
         7
        ],
        [
         22,
         135,
         107
        ],
        [
         23,
         183,
         172
        ],
        [
         24,
         334,
         282
        ],
        [
         25,
         435,
         398
        ],
        [
         26,
         449,
         437
        ],
        [
         27,
         987,
         978
        ],
        [
         28,
         1034,
         977
        ],
        [
         29,
         840,
         805
        ],
        [
         30,
         853,
         886
        ],
        [
         31,
         811,
         827
        ],
        [
         32,
         933,
         883
        ],
        [
         33,
         934,
         908
        ],
        [
         34,
         913,
         965
        ],
        [
         35,
         871,
         861
        ],
        [
         36,
         813,
         839
        ],
        [
         37,
         1025,
         1056
        ],
        [
         38,
         925,
         889
        ],
        [
         39,
         964,
         940
        ],
        [
         40,
         1001,
         974
        ],
        [
         41,
         871,
         902
        ],
        [
         42,
         894,
         920
        ],
        [
         43,
         880,
         864
        ],
        [
         44,
         783,
         787
        ],
        [
         45,
         725,
         664
        ],
        [
         46,
         833,
         779
        ],
        [
         47,
         804,
         721
        ],
        [
         48,
         775,
         733
        ],
        [
         49,
         636,
         651
        ],
        [
         50,
         735,
         720
        ],
        [
         51,
         766,
         774
        ],
        [
         52,
         654,
         654
        ],
        [
         53,
         663,
         667
        ],
        [
         54,
         748,
         734
        ],
        [
         55,
         584,
         548
        ],
        [
         56,
         698,
         697
        ],
        [
         57,
         727,
         724
        ],
        [
         58,
         698,
         674
        ],
        [
         59,
         719,
         709
        ],
        [
         60,
         722,
         704
        ],
        [
         61,
         470,
         453
        ],
        [
         62,
         560,
         533
        ],
        [
         63,
         475,
         470
        ],
        [
         64,
         462,
         473
        ],
        [
         65,
         297,
         280
        ],
        [
         66,
         239,
         235
        ],
        [
         67,
         109,
         112
        ],
        [
         68,
         27,
         33
        ]
       ],
       "datasetInfos": [],
       "dbfsResultPath": null,
       "isJsonSchema": true,
       "metadata": {
        "isDbfsCommandResult": false
       },
       "overflow": false,
       "plotOptions": {
        "customPlotOptions": {},
        "displayType": "table",
        "pivotAggregation": null,
        "pivotColumns": null,
        "xColumns": null,
        "yColumns": null
       },
       "removedWidgets": [],
       "schema": [
        {
         "metadata": "{}",
         "name": "age",
         "type": "\"integer\""
        },
        {
         "metadata": "{}",
         "name": "defaulters_count",
         "type": "\"long\""
        },
        {
         "metadata": "{}",
         "name": "non_defaulters_count",
         "type": "\"long\""
        }
       ],
       "type": "table"
      }
     },
     "output_type": "display_data"
    },
    {
     "output_type": "display_data",
     "data": {
      "text/plain": [
       "Databricks visualization. Run in Databricks to view."
      ]
     },
     "metadata": {
      "application/vnd.databricks.v1.subcommand+json": {
       "baseErrorDetails": null,
       "bindings": {},
       "collapsed": false,
       "command": "%sql WITH q AS (SELECT \n    age,\n    COUNT(DISTINCT CASE WHEN STATUS NOT IN ('C', 'X') THEN ID END) AS defaulters_count,\n    COUNT(DISTINCT CASE WHEN STATUS IN ('C', 'X') THEN ID END) AS non_defaulters_count\nFROM \n    data\nGROUP BY \n    age\nORDER BY \n    age) SELECT `age`,SUM(`defaulters_count`) `column_5abf03f232`,SUM(`non_defaulters_count`) `column_5abf03f235` FROM q GROUP BY `age`",
       "commandTitle": "Visualization 1",
       "commandType": "auto",
       "commandVersion": 0,
       "commentThread": [],
       "commentsVisible": false,
       "contentSha256Hex": null,
       "customPlotOptions": {
        "redashChart": [
         {
          "key": "type",
          "value": "CHART"
         },
         {
          "key": "options",
          "value": {
           "alignYAxesAtZero": true,
           "coefficient": 1,
           "columnConfigurationMap": {
            "x": {
             "column": "age",
             "id": "column_5abf03f230"
            },
            "y": [
             {
              "column": "defaulters_count",
              "id": "column_5abf03f232",
              "transform": "SUM"
             },
             {
              "column": "non_defaulters_count",
              "id": "column_5abf03f235",
              "transform": "SUM"
             }
            ]
           },
           "dateTimeFormat": "DD/MM/YYYY HH:mm",
           "direction": {
            "type": "counterclockwise"
           },
           "error_y": {
            "type": "data",
            "visible": true
           },
           "globalSeriesType": "line",
           "hideYAxes": true,
           "isAggregationOn": true,
           "legend": {
            "traceorder": "normal"
           },
           "missingValuesAsZero": true,
           "numberFormat": "0,0.[00000]",
           "percentFormat": "0[.]00%",
           "series": {
            "error_y": {
             "type": "data",
             "visible": true
            },
            "stacking": null
           },
           "seriesOptions": {
            "column_5abf03f232": {
             "color": "#00B6EB",
             "name": "Defaulters Count",
             "type": "line",
             "yAxis": 0
            },
            "column_5abf03f235": {
             "color": "#13274F",
             "name": "Non-Defaulters Count",
             "type": "line",
             "yAxis": 0
            }
           },
           "showDataLabels": false,
           "sizemode": "diameter",
           "sortX": true,
           "sortY": true,
           "swappedAxes": false,
           "textFormat": "",
           "useAggregationsUi": true,
           "valuesOptions": {},
           "version": 2,
           "xAxis": {
            "labels": {
             "enabled": true
            },
            "type": "-"
           },
           "yAxis": [
            {
             "title": {
              "text": "Defaulters Count,Non-Defaulters Count"
             },
             "type": "-"
            },
            {
             "opposite": true,
             "type": "-"
            }
           ]
          }
         }
        ]
       },
       "datasetPreviewNameToCmdIdMap": {},
       "diffDeletes": [],
       "diffInserts": [],
       "displayType": "redashChart",
       "error": null,
       "errorDetails": null,
       "errorSummary": null,
       "errorTraceType": null,
       "finishTime": 0,
       "globalVars": {},
       "guid": "",
       "height": "auto",
       "hideCommandCode": false,
       "hideCommandResult": false,
       "iPythonMetadata": null,
       "inputWidgets": {},
       "isLockedInExamMode": false,
       "latestUser": "a user",
       "latestUserId": null,
       "listResultMetadata": null,
       "metadata": {
        "byteLimit": 2048000,
        "rowLimit": 10000
       },
       "nuid": "48c6a95f-bee4-4723-8c72-53b5a6da9768",
       "origId": 0,
       "parentHierarchy": [],
       "pivotAggregation": null,
       "pivotColumns": null,
       "position": 7.625,
       "resultDbfsErrorMessage": null,
       "resultDbfsStatus": "INLINED_IN_TREE",
       "results": null,
       "showCommandTitle": false,
       "startTime": 0,
       "state": "finished",
       "streamStates": {},
       "subcommandOptions": {
        "queryPlan": {
         "groups": [
          {
           "column": "age",
           "type": "column"
          }
         ],
         "selects": [
          {
           "column": "age",
           "type": "column"
          },
          {
           "alias": "column_5abf03f232",
           "args": [
            {
             "column": "defaulters_count",
             "type": "column"
            }
           ],
           "function": "SUM",
           "type": "function"
          },
          {
           "alias": "column_5abf03f235",
           "args": [
            {
             "column": "non_defaulters_count",
             "type": "column"
            }
           ],
           "function": "SUM",
           "type": "function"
          }
         ]
        }
       },
       "submitTime": 0,
       "subtype": "tableResultSubCmd.visualization",
       "tableResultIndex": 0,
       "tableResultSettingsMap": null,
       "useConsistentColors": false,
       "version": "CommandV1",
       "width": "auto",
       "workflows": [],
       "xColumns": null,
       "yColumns": null
      }
     },
     "output_type": "display_data"
    }
   ],
   "source": [
    "%sql\n",
    "SELECT \n",
    "    age,\n",
    "    COUNT(DISTINCT CASE WHEN STATUS NOT IN ('C', 'X') THEN ID END) AS defaulters_count,\n",
    "    COUNT(DISTINCT CASE WHEN STATUS IN ('C', 'X') THEN ID END) AS non_defaulters_count\n",
    "FROM \n",
    "    data\n",
    "GROUP BY \n",
    "    age\n",
    "ORDER BY \n",
    "    age;"
   ]
  },
  {
   "cell_type": "markdown",
   "metadata": {
    "application/vnd.databricks.v1+cell": {
     "cellMetadata": {
      "byteLimit": 2048000,
      "rowLimit": 10000
     },
     "inputWidgets": {},
     "nuid": "4c398cfc-1de9-432a-aa8a-9c551a37ebda",
     "showTitle": false,
     "title": ""
    }
   },
   "source": [
    "#### 7)Age Distribution of Applicants with Percentage of Delayed Payments"
   ]
  },
  {
   "cell_type": "code",
   "execution_count": 0,
   "metadata": {
    "application/vnd.databricks.v1+cell": {
     "cellMetadata": {
      "byteLimit": 2048000,
      "rowLimit": 10000
     },
     "inputWidgets": {},
     "nuid": "fed6f191-161f-4c3f-9683-e01f26845081",
     "showTitle": false,
     "title": ""
    }
   },
   "outputs": [
    {
     "output_type": "display_data",
     "data": {
      "text/html": [
       "<style scoped>\n",
       "  .table-result-container {\n",
       "    max-height: 300px;\n",
       "    overflow: auto;\n",
       "  }\n",
       "  table, th, td {\n",
       "    border: 1px solid black;\n",
       "    border-collapse: collapse;\n",
       "  }\n",
       "  th, td {\n",
       "    padding: 5px;\n",
       "  }\n",
       "  th {\n",
       "    text-align: left;\n",
       "  }\n",
       "</style><div class='table-result-container'><table class='table-result'><thead style='background-color: white'><tr><th>age</th><th>percent_delay_count</th></tr></thead><tbody><tr><td>20</td><td>0.00</td></tr><tr><td>21</td><td>33.71</td></tr><tr><td>22</td><td>55.54</td></tr><tr><td>23</td><td>49.52</td></tr><tr><td>24</td><td>45.24</td></tr><tr><td>25</td><td>46.74</td></tr><tr><td>26</td><td>35.66</td></tr><tr><td>27</td><td>37.33</td></tr><tr><td>28</td><td>38.74</td></tr><tr><td>29</td><td>40.36</td></tr><tr><td>30</td><td>33.79</td></tr><tr><td>31</td><td>35.25</td></tr><tr><td>32</td><td>38.54</td></tr><tr><td>33</td><td>40.49</td></tr><tr><td>34</td><td>36.97</td></tr><tr><td>35</td><td>35.34</td></tr><tr><td>36</td><td>36.10</td></tr><tr><td>37</td><td>39.11</td></tr><tr><td>38</td><td>39.65</td></tr><tr><td>39</td><td>36.13</td></tr><tr><td>40</td><td>38.66</td></tr><tr><td>41</td><td>38.50</td></tr><tr><td>42</td><td>38.67</td></tr><tr><td>43</td><td>39.55</td></tr><tr><td>44</td><td>39.38</td></tr><tr><td>45</td><td>41.34</td></tr><tr><td>46</td><td>41.23</td></tr><tr><td>47</td><td>44.96</td></tr><tr><td>48</td><td>42.18</td></tr><tr><td>49</td><td>38.91</td></tr><tr><td>50</td><td>40.05</td></tr><tr><td>51</td><td>39.57</td></tr><tr><td>52</td><td>35.54</td></tr><tr><td>53</td><td>35.90</td></tr><tr><td>54</td><td>37.21</td></tr><tr><td>55</td><td>44.02</td></tr><tr><td>56</td><td>40.16</td></tr><tr><td>57</td><td>40.01</td></tr><tr><td>58</td><td>42.72</td></tr><tr><td>59</td><td>40.28</td></tr><tr><td>60</td><td>39.59</td></tr><tr><td>61</td><td>37.23</td></tr><tr><td>62</td><td>39.80</td></tr><tr><td>63</td><td>37.26</td></tr><tr><td>64</td><td>34.73</td></tr><tr><td>65</td><td>33.95</td></tr><tr><td>66</td><td>39.23</td></tr><tr><td>67</td><td>34.03</td></tr><tr><td>68</td><td>23.41</td></tr></tbody></table></div>"
      ]
     },
     "metadata": {
      "application/vnd.databricks.v1+output": {
       "addedWidgets": {},
       "aggData": [],
       "aggError": "",
       "aggOverflow": false,
       "aggSchema": [],
       "aggSeriesLimitReached": false,
       "aggType": "",
       "arguments": {},
       "columnCustomDisplayInfos": {},
       "data": [
        [
         20,
         "0.00"
        ],
        [
         21,
         "33.71"
        ],
        [
         22,
         "55.54"
        ],
        [
         23,
         "49.52"
        ],
        [
         24,
         "45.24"
        ],
        [
         25,
         "46.74"
        ],
        [
         26,
         "35.66"
        ],
        [
         27,
         "37.33"
        ],
        [
         28,
         "38.74"
        ],
        [
         29,
         "40.36"
        ],
        [
         30,
         "33.79"
        ],
        [
         31,
         "35.25"
        ],
        [
         32,
         "38.54"
        ],
        [
         33,
         "40.49"
        ],
        [
         34,
         "36.97"
        ],
        [
         35,
         "35.34"
        ],
        [
         36,
         "36.10"
        ],
        [
         37,
         "39.11"
        ],
        [
         38,
         "39.65"
        ],
        [
         39,
         "36.13"
        ],
        [
         40,
         "38.66"
        ],
        [
         41,
         "38.50"
        ],
        [
         42,
         "38.67"
        ],
        [
         43,
         "39.55"
        ],
        [
         44,
         "39.38"
        ],
        [
         45,
         "41.34"
        ],
        [
         46,
         "41.23"
        ],
        [
         47,
         "44.96"
        ],
        [
         48,
         "42.18"
        ],
        [
         49,
         "38.91"
        ],
        [
         50,
         "40.05"
        ],
        [
         51,
         "39.57"
        ],
        [
         52,
         "35.54"
        ],
        [
         53,
         "35.90"
        ],
        [
         54,
         "37.21"
        ],
        [
         55,
         "44.02"
        ],
        [
         56,
         "40.16"
        ],
        [
         57,
         "40.01"
        ],
        [
         58,
         "42.72"
        ],
        [
         59,
         "40.28"
        ],
        [
         60,
         "39.59"
        ],
        [
         61,
         "37.23"
        ],
        [
         62,
         "39.80"
        ],
        [
         63,
         "37.26"
        ],
        [
         64,
         "34.73"
        ],
        [
         65,
         "33.95"
        ],
        [
         66,
         "39.23"
        ],
        [
         67,
         "34.03"
        ],
        [
         68,
         "23.41"
        ]
       ],
       "datasetInfos": [],
       "dbfsResultPath": null,
       "isJsonSchema": true,
       "metadata": {
        "isDbfsCommandResult": false
       },
       "overflow": false,
       "plotOptions": {
        "customPlotOptions": {},
        "displayType": "table",
        "pivotAggregation": null,
        "pivotColumns": null,
        "xColumns": null,
        "yColumns": null
       },
       "removedWidgets": [],
       "schema": [
        {
         "metadata": "{}",
         "name": "age",
         "type": "\"integer\""
        },
        {
         "metadata": "{}",
         "name": "percent_delay_count",
         "type": "\"decimal(27,2)\""
        }
       ],
       "type": "table"
      }
     },
     "output_type": "display_data"
    },
    {
     "output_type": "display_data",
     "data": {
      "text/plain": [
       "Databricks visualization. Run in Databricks to view."
      ]
     },
     "metadata": {
      "application/vnd.databricks.v1.subcommand+json": {
       "baseErrorDetails": null,
       "bindings": {},
       "collapsed": false,
       "command": "%sql WITH q AS (with my_cte as (\n    SELECT \n        age,\n        COUNT(CASE WHEN is_delay_month = 'Yes' THEN 1 END) AS delayed_payment_count,\n        COUNT(*) AS total_count\nfrom data\nGROUP BY age\norder by age\n)\nSELECT \n        age,round(delayed_payment_count*100.0/total_count,2) as percent_delay_count \n        \nfrom my_cte) SELECT `age`,SUM(`percent_delay_count`) `column_565512ea176` FROM q GROUP BY `age`",
       "commandTitle": "Visualization 1",
       "commandType": "auto",
       "commandVersion": 0,
       "commentThread": [],
       "commentsVisible": false,
       "contentSha256Hex": null,
       "customPlotOptions": {
        "redashChart": [
         {
          "key": "type",
          "value": "CHART"
         },
         {
          "key": "options",
          "value": {
           "alignYAxesAtZero": true,
           "coefficient": 1,
           "columnConfigurationMap": {
            "x": {
             "column": "age",
             "id": "column_6b380d7a9"
            },
            "y": [
             {
              "column": "percent_delay_count",
              "id": "column_565512ea176",
              "transform": "SUM"
             }
            ]
           },
           "dateTimeFormat": "DD/MM/YYYY HH:mm",
           "direction": {
            "type": "counterclockwise"
           },
           "error_y": {
            "type": "data",
            "visible": true
           },
           "globalSeriesType": "line",
           "isAggregationOn": true,
           "legend": {
            "traceorder": "normal"
           },
           "missingValuesAsZero": true,
           "numberFormat": "0,0.[00000]",
           "percentFormat": "0[.]00%",
           "series": {
            "error_y": {
             "type": "data",
             "visible": true
            },
            "stacking": null
           },
           "seriesOptions": {
            "column_565512ea170": {
             "name": "customer_count",
             "type": "line",
             "yAxis": 0
            },
            "column_565512ea176": {
             "color": "#0071C5",
             "type": "line",
             "yAxis": 0
            },
            "customer_count": {
             "name": "customer_count",
             "type": "line",
             "yAxis": 0
            },
            "delayed_count": {
             "type": "line",
             "yAxis": 0
            },
            "percent_delay_count": {
             "color": "#0071C5",
             "type": "line",
             "yAxis": 0
            }
           },
           "showDataLabels": false,
           "sizemode": "diameter",
           "sortX": true,
           "sortY": true,
           "swappedAxes": false,
           "textFormat": "",
           "useAggregationsUi": true,
           "valuesOptions": {},
           "version": 2,
           "xAxis": {
            "labels": {
             "enabled": true
            },
            "type": "-"
           },
           "yAxis": [
            {
             "title": {
              "text": "% months_delayed"
             },
             "type": "-"
            },
            {
             "opposite": true,
             "type": "-"
            }
           ]
          }
         }
        ]
       },
       "datasetPreviewNameToCmdIdMap": {},
       "diffDeletes": [],
       "diffInserts": [],
       "displayType": "redashChart",
       "error": null,
       "errorDetails": null,
       "errorSummary": null,
       "errorTraceType": null,
       "finishTime": 0,
       "globalVars": {},
       "guid": "",
       "height": "auto",
       "hideCommandCode": false,
       "hideCommandResult": false,
       "iPythonMetadata": null,
       "inputWidgets": {},
       "isLockedInExamMode": false,
       "latestUser": "a user",
       "latestUserId": null,
       "listResultMetadata": null,
       "metadata": {
        "byteLimit": 2048000,
        "rowLimit": 10000
       },
       "nuid": "066ce499-fb14-4b50-9acb-6f45317e74c0",
       "origId": 0,
       "parentHierarchy": [],
       "pivotAggregation": null,
       "pivotColumns": null,
       "position": 9.0,
       "resultDbfsErrorMessage": null,
       "resultDbfsStatus": "INLINED_IN_TREE",
       "results": null,
       "showCommandTitle": false,
       "startTime": 0,
       "state": "finished",
       "streamStates": {},
       "subcommandOptions": {
        "queryPlan": {
         "groups": [
          {
           "column": "age",
           "type": "column"
          }
         ],
         "selects": [
          {
           "column": "age",
           "type": "column"
          },
          {
           "alias": "column_565512ea176",
           "args": [
            {
             "column": "percent_delay_count",
             "type": "column"
            }
           ],
           "function": "SUM",
           "type": "function"
          }
         ]
        }
       },
       "submitTime": 0,
       "subtype": "tableResultSubCmd.visualization",
       "tableResultIndex": 0,
       "tableResultSettingsMap": null,
       "useConsistentColors": false,
       "version": "CommandV1",
       "width": "auto",
       "workflows": [],
       "xColumns": null,
       "yColumns": null
      }
     },
     "output_type": "display_data"
    }
   ],
   "source": [
    "%sql\n",
    "-- The Applicants in the particular age has a percentage_total_delay_months of y...it means the percentage of total months for which the particular age group applicants setteled the loan after the due date\n",
    "with my_cte as (\n",
    "    SELECT \n",
    "        age,\n",
    "        COUNT(CASE WHEN is_delay_month = 'Yes' THEN 1 END) AS delayed_payment_count,\n",
    "        COUNT(*) AS total_count\n",
    "from data\n",
    "GROUP BY age\n",
    "order by age\n",
    ")\n",
    "SELECT \n",
    "        age,round(delayed_payment_count*100.0/total_count,2) as percent_delay_count \n",
    "        \n",
    "from my_cte\n"
   ]
  },
  {
   "cell_type": "markdown",
   "metadata": {
    "application/vnd.databricks.v1+cell": {
     "cellMetadata": {
      "byteLimit": 2048000,
      "rowLimit": 10000
     },
     "inputWidgets": {},
     "nuid": "5ab9e959-57df-43a9-a2bf-fe06e2bc0e7c",
     "showTitle": false,
     "title": ""
    }
   },
   "source": [
    "#### 8)Most Common Job Types Among Delayed Payments"
   ]
  },
  {
   "cell_type": "code",
   "execution_count": 0,
   "metadata": {
    "application/vnd.databricks.v1+cell": {
     "cellMetadata": {
      "byteLimit": 2048000,
      "rowLimit": 10000
     },
     "inputWidgets": {},
     "nuid": "66856c40-f67d-40dc-9df8-a57767d907c7",
     "showTitle": false,
     "title": ""
    }
   },
   "outputs": [
    {
     "output_type": "display_data",
     "data": {
      "text/html": [
       "<style scoped>\n",
       "  .table-result-container {\n",
       "    max-height: 300px;\n",
       "    overflow: auto;\n",
       "  }\n",
       "  table, th, td {\n",
       "    border: 1px solid black;\n",
       "    border-collapse: collapse;\n",
       "  }\n",
       "  th, td {\n",
       "    padding: 5px;\n",
       "  }\n",
       "  th {\n",
       "    text-align: left;\n",
       "  }\n",
       "</style><div class='table-result-container'><table class='table-result'><thead style='background-color: white'><tr><th>job</th><th>delayed_count</th></tr></thead><tbody><tr><td>Unknown</td><td>92914</td></tr><tr><td>Laborers</td><td>49614</td></tr><tr><td>Core staff</td><td>29880</td></tr><tr><td>Sales staff</td><td>27736</td></tr><tr><td>Managers</td><td>26844</td></tr><tr><td>Drivers</td><td>18213</td></tr><tr><td>High skill tech staff</td><td>12217</td></tr><tr><td>Medicine staff</td><td>10789</td></tr><tr><td>Accountants</td><td>10162</td></tr><tr><td>Cooking staff</td><td>5746</td></tr><tr><td>Security staff</td><td>5380</td></tr><tr><td>Cleaning staff</td><td>4582</td></tr><tr><td>Private service staff</td><td>2749</td></tr><tr><td>Low-skill Laborers</td><td>1221</td></tr><tr><td>Secretaries</td><td>1096</td></tr><tr><td>Waiters/barmen staff</td><td>1012</td></tr><tr><td>HR staff</td><td>834</td></tr><tr><td>Realty agents</td><td>662</td></tr><tr><td>IT staff</td><td>578</td></tr></tbody></table></div>"
      ]
     },
     "metadata": {
      "application/vnd.databricks.v1+output": {
       "addedWidgets": {},
       "aggData": [],
       "aggError": "",
       "aggOverflow": false,
       "aggSchema": [],
       "aggSeriesLimitReached": false,
       "aggType": "",
       "arguments": {},
       "columnCustomDisplayInfos": {},
       "data": [
        [
         "Unknown",
         92914
        ],
        [
         "Laborers",
         49614
        ],
        [
         "Core staff",
         29880
        ],
        [
         "Sales staff",
         27736
        ],
        [
         "Managers",
         26844
        ],
        [
         "Drivers",
         18213
        ],
        [
         "High skill tech staff",
         12217
        ],
        [
         "Medicine staff",
         10789
        ],
        [
         "Accountants",
         10162
        ],
        [
         "Cooking staff",
         5746
        ],
        [
         "Security staff",
         5380
        ],
        [
         "Cleaning staff",
         4582
        ],
        [
         "Private service staff",
         2749
        ],
        [
         "Low-skill Laborers",
         1221
        ],
        [
         "Secretaries",
         1096
        ],
        [
         "Waiters/barmen staff",
         1012
        ],
        [
         "HR staff",
         834
        ],
        [
         "Realty agents",
         662
        ],
        [
         "IT staff",
         578
        ]
       ],
       "datasetInfos": [],
       "dbfsResultPath": null,
       "isJsonSchema": true,
       "metadata": {
        "isDbfsCommandResult": false
       },
       "overflow": false,
       "plotOptions": {
        "customPlotOptions": {},
        "displayType": "table",
        "pivotAggregation": null,
        "pivotColumns": null,
        "xColumns": null,
        "yColumns": null
       },
       "removedWidgets": [],
       "schema": [
        {
         "metadata": "{}",
         "name": "job",
         "type": "\"string\""
        },
        {
         "metadata": "{}",
         "name": "delayed_count",
         "type": "\"long\""
        }
       ],
       "type": "table"
      }
     },
     "output_type": "display_data"
    }
   ],
   "source": [
    "%sql\n",
    "SELECT \n",
    "    job,\n",
    "    COUNT(*) AS delayed_count\n",
    "FROM \n",
    "    data\n",
    "WHERE \n",
    "    is_delay_month = 'Yes'\n",
    "GROUP BY \n",
    "    job\n",
    "ORDER BY \n",
    "    delayed_count DESC;\n"
   ]
  },
  {
   "cell_type": "markdown",
   "metadata": {
    "application/vnd.databricks.v1+cell": {
     "cellMetadata": {
      "byteLimit": 2048000,
      "rowLimit": 10000
     },
     "inputWidgets": {},
     "nuid": "f504b91e-4028-43f2-b566-dc80d8333ffc",
     "showTitle": false,
     "title": ""
    }
   },
   "source": [
    "#### 9)Distribution of Credit Card Tenure Between the Applicants"
   ]
  },
  {
   "cell_type": "code",
   "execution_count": 0,
   "metadata": {
    "application/vnd.databricks.v1+cell": {
     "cellMetadata": {
      "byteLimit": 2048000,
      "rowLimit": 10000
     },
     "inputWidgets": {},
     "nuid": "afdce143-3887-4cd7-96de-31dc307dc9d7",
     "showTitle": false,
     "title": ""
    }
   },
   "outputs": [],
   "source": [
    "%sql\n",
    "WITH tenure_data AS (\n",
    "    SELECT \n",
    "        (MAX(MONTHS_AGO) - MIN(MONTHS_AGO)) AS credit_card_tenure,\n",
    "        id\n",
    "    FROM \n",
    "        data\n",
    "    GROUP BY \n",
    "        ID\n",
    ")\n",
    "SELECT \n",
    "    credit_card_tenure\n",
    "FROM \n",
    "    tenure_data;\n"
   ]
  },
  {
   "cell_type": "markdown",
   "metadata": {
    "application/vnd.databricks.v1+cell": {
     "cellMetadata": {
      "byteLimit": 2048000,
      "rowLimit": 10000
     },
     "inputWidgets": {},
     "nuid": "e5af8e28-286e-4b51-ae5c-f9494a6e9d56",
     "showTitle": false,
     "title": ""
    }
   },
   "source": [
    "#### 10)Percentage of Delayed Payments by Employment Status"
   ]
  },
  {
   "cell_type": "code",
   "execution_count": 0,
   "metadata": {
    "application/vnd.databricks.v1+cell": {
     "cellMetadata": {
      "byteLimit": 2048000,
      "rowLimit": 10000
     },
     "inputWidgets": {},
     "nuid": "705681c0-34c9-4a17-a617-6cde07fd2a60",
     "showTitle": false,
     "title": ""
    }
   },
   "outputs": [
    {
     "output_type": "display_data",
     "data": {
      "text/html": [
       "<style scoped>\n",
       "  .table-result-container {\n",
       "    max-height: 300px;\n",
       "    overflow: auto;\n",
       "  }\n",
       "  table, th, td {\n",
       "    border: 1px solid black;\n",
       "    border-collapse: collapse;\n",
       "  }\n",
       "  th, td {\n",
       "    padding: 5px;\n",
       "  }\n",
       "  th {\n",
       "    text-align: left;\n",
       "  }\n",
       "</style><div class='table-result-container'><table class='table-result'><thead style='background-color: white'><tr><th>employment_status</th><th>percentage_delayed_payments</th></tr></thead><tbody><tr><td>unemployed</td><td>38.98123324396783</td></tr><tr><td>employed</td><td>38.82523906961206</td></tr></tbody></table></div>"
      ]
     },
     "metadata": {
      "application/vnd.databricks.v1+output": {
       "addedWidgets": {},
       "aggData": [],
       "aggError": "",
       "aggOverflow": false,
       "aggSchema": [],
       "aggSeriesLimitReached": false,
       "aggType": "",
       "arguments": {},
       "columnCustomDisplayInfos": {},
       "data": [
        [
         "unemployed",
         "38.98123324396783"
        ],
        [
         "employed",
         "38.82523906961206"
        ]
       ],
       "datasetInfos": [],
       "dbfsResultPath": null,
       "isJsonSchema": true,
       "metadata": {
        "isDbfsCommandResult": false
       },
       "overflow": false,
       "plotOptions": {
        "customPlotOptions": {},
        "displayType": "table",
        "pivotAggregation": null,
        "pivotColumns": null,
        "xColumns": null,
        "yColumns": null
       },
       "removedWidgets": [],
       "schema": [
        {
         "metadata": "{}",
         "name": "employment_status",
         "type": "\"string\""
        },
        {
         "metadata": "{}",
         "name": "percentage_delayed_payments",
         "type": "\"decimal(38,14)\""
        }
       ],
       "type": "table"
      }
     },
     "output_type": "display_data"
    },
    {
     "output_type": "display_data",
     "data": {
      "text/plain": [
       "Databricks visualization. Run in Databricks to view."
      ]
     },
     "metadata": {
      "application/vnd.databricks.v1.subcommand+json": {
       "baseErrorDetails": null,
       "bindings": {},
       "collapsed": false,
       "command": "%sql WITH q AS (WITH delayed_payments AS (\n    SELECT \n        employment_status,\n        COUNT(CASE WHEN is_delay_month = 'Yes' THEN 1 END) AS delayed_payments,\n        COUNT(*) AS total_payments\n    FROM \n        data\n    GROUP BY \n        employment_status\n)\nSELECT \n    employment_status,\n    (delayed_payments * 100.0 / total_payments) AS percentage_delayed_payments\nFROM \n    delayed_payments) SELECT `employment_status`,SUM(`percentage_delayed_payments`) `column_6b380d7a20` FROM q GROUP BY `employment_status`",
       "commandTitle": "Visualization 1",
       "commandType": "auto",
       "commandVersion": 0,
       "commentThread": [],
       "commentsVisible": false,
       "contentSha256Hex": null,
       "customPlotOptions": {
        "redashChart": [
         {
          "key": "type",
          "value": "CHART"
         },
         {
          "key": "options",
          "value": {
           "alignYAxesAtZero": true,
           "coefficient": 1,
           "columnConfigurationMap": {
            "x": {
             "column": "employment_status",
             "id": "column_6b380d7a19"
            },
            "y": [
             {
              "column": "percentage_delayed_payments",
              "id": "column_6b380d7a20",
              "transform": "SUM"
             }
            ]
           },
           "dateTimeFormat": "DD/MM/YYYY HH:mm",
           "direction": {
            "type": "counterclockwise"
           },
           "error_y": {
            "type": "data",
            "visible": true
           },
           "globalSeriesType": "pie",
           "isAggregationOn": true,
           "legend": {
            "traceorder": "normal"
           },
           "missingValuesAsZero": false,
           "numberFormat": "0,0.[00000]",
           "percentFormat": "0[.]00%",
           "series": {
            "error_y": {
             "type": "data",
             "visible": true
            },
            "stacking": null
           },
           "seriesOptions": {
            "column_6b380d7a20": {
             "name": "percentage_delayed_payments",
             "type": "pie",
             "yAxis": 0
            }
           },
           "showDataLabels": true,
           "sizemode": "diameter",
           "sortX": true,
           "sortY": true,
           "swappedAxes": false,
           "textFormat": "",
           "useAggregationsUi": true,
           "valuesOptions": {
            "employed": {
             "color": "#0077C0"
            },
            "unemployed": {
             "color": "#00B6EB"
            }
           },
           "version": 2,
           "xAxis": {
            "labels": {
             "enabled": true
            },
            "type": "-"
           },
           "yAxis": [
            {
             "type": "-"
            },
            {
             "opposite": true,
             "type": "-"
            }
           ]
          }
         }
        ]
       },
       "datasetPreviewNameToCmdIdMap": {},
       "diffDeletes": [],
       "diffInserts": [],
       "displayType": "redashChart",
       "error": null,
       "errorDetails": null,
       "errorSummary": null,
       "errorTraceType": null,
       "finishTime": 0,
       "globalVars": {},
       "guid": "",
       "height": "auto",
       "hideCommandCode": false,
       "hideCommandResult": false,
       "iPythonMetadata": null,
       "inputWidgets": {},
       "isLockedInExamMode": false,
       "latestUser": "a user",
       "latestUserId": null,
       "listResultMetadata": null,
       "metadata": {
        "byteLimit": 2048000,
        "rowLimit": 10000
       },
       "nuid": "0f3b4da5-ceb7-4300-bdf2-58278be4e3e3",
       "origId": 0,
       "parentHierarchy": [],
       "pivotAggregation": null,
       "pivotColumns": null,
       "position": 21.25,
       "resultDbfsErrorMessage": null,
       "resultDbfsStatus": "INLINED_IN_TREE",
       "results": null,
       "showCommandTitle": false,
       "startTime": 0,
       "state": "finished",
       "streamStates": {},
       "subcommandOptions": {
        "queryPlan": {
         "groups": [
          {
           "column": "employment_status",
           "type": "column"
          }
         ],
         "selects": [
          {
           "column": "employment_status",
           "type": "column"
          },
          {
           "alias": "column_6b380d7a20",
           "args": [
            {
             "column": "percentage_delayed_payments",
             "type": "column"
            }
           ],
           "function": "SUM",
           "type": "function"
          }
         ]
        }
       },
       "submitTime": 0,
       "subtype": "tableResultSubCmd.visualization",
       "tableResultIndex": 0,
       "tableResultSettingsMap": null,
       "useConsistentColors": false,
       "version": "CommandV1",
       "width": "auto",
       "workflows": [],
       "xColumns": null,
       "yColumns": null
      }
     },
     "output_type": "display_data"
    }
   ],
   "source": [
    "%sql\n",
    "WITH delayed_payments AS (\n",
    "    SELECT \n",
    "        employment_status,\n",
    "        COUNT(CASE WHEN is_delay_month = 'Yes' THEN 1 END) AS delayed_payments,\n",
    "        COUNT(*) AS total_payments\n",
    "    FROM \n",
    "        data\n",
    "    GROUP BY \n",
    "        employment_status\n",
    ")\n",
    "SELECT \n",
    "    employment_status,\n",
    "    (delayed_payments * 100.0 / total_payments) AS percentage_delayed_payments\n",
    "FROM \n",
    "    delayed_payments;\n"
   ]
  },
  {
   "cell_type": "markdown",
   "metadata": {
    "application/vnd.databricks.v1+cell": {
     "cellMetadata": {
      "byteLimit": 2048000,
      "rowLimit": 10000
     },
     "inputWidgets": {},
     "nuid": "dd6d5b33-8562-4dee-b401-1b9ea70d79d0",
     "showTitle": false,
     "title": ""
    }
   },
   "source": [
    "#### 11)Average Credit Card Tenure by Employment Status"
   ]
  },
  {
   "cell_type": "code",
   "execution_count": 0,
   "metadata": {
    "application/vnd.databricks.v1+cell": {
     "cellMetadata": {
      "byteLimit": 2048000,
      "rowLimit": 10000
     },
     "inputWidgets": {},
     "nuid": "2ceb41a8-716f-473b-bc4f-463dc92f28f8",
     "showTitle": false,
     "title": ""
    }
   },
   "outputs": [
    {
     "output_type": "display_data",
     "data": {
      "text/html": [
       "<style scoped>\n",
       "  .table-result-container {\n",
       "    max-height: 300px;\n",
       "    overflow: auto;\n",
       "  }\n",
       "  table, th, td {\n",
       "    border: 1px solid black;\n",
       "    border-collapse: collapse;\n",
       "  }\n",
       "  th, td {\n",
       "    padding: 5px;\n",
       "  }\n",
       "  th {\n",
       "    text-align: left;\n",
       "  }\n",
       "</style><div class='table-result-container'><table class='table-result'><thead style='background-color: white'><tr><th>employment_status</th><th>avg_credit_card_tenure</th></tr></thead><tbody><tr><td>unemployed</td><td>19.638616714697406</td></tr><tr><td>employed</td><td>20.54902454826866</td></tr></tbody></table></div>"
      ]
     },
     "metadata": {
      "application/vnd.databricks.v1+output": {
       "addedWidgets": {},
       "aggData": [],
       "aggError": "",
       "aggOverflow": false,
       "aggSchema": [],
       "aggSeriesLimitReached": false,
       "aggType": "",
       "arguments": {},
       "columnCustomDisplayInfos": {},
       "data": [
        [
         "unemployed",
         19.638616714697406
        ],
        [
         "employed",
         20.54902454826866
        ]
       ],
       "datasetInfos": [],
       "dbfsResultPath": null,
       "isJsonSchema": true,
       "metadata": {
        "isDbfsCommandResult": false
       },
       "overflow": false,
       "plotOptions": {
        "customPlotOptions": {},
        "displayType": "table",
        "pivotAggregation": null,
        "pivotColumns": null,
        "xColumns": null,
        "yColumns": null
       },
       "removedWidgets": [],
       "schema": [
        {
         "metadata": "{}",
         "name": "employment_status",
         "type": "\"string\""
        },
        {
         "metadata": "{}",
         "name": "avg_credit_card_tenure",
         "type": "\"double\""
        }
       ],
       "type": "table"
      }
     },
     "output_type": "display_data"
    },
    {
     "output_type": "display_data",
     "data": {
      "text/plain": [
       "Databricks visualization. Run in Databricks to view."
      ]
     },
     "metadata": {
      "application/vnd.databricks.v1.subcommand+json": {
       "baseErrorDetails": null,
       "bindings": {},
       "collapsed": false,
       "command": "%sql WITH q AS (WITH tenure_data AS (\n    SELECT \n        employment_status,\n        (MAX(MONTHS_AGO) - MIN(MONTHS_AGO)) AS credit_card_tenure\n    FROM \n        data\n    GROUP BY \n        ID, employment_status\n)\nSELECT \n    employment_status,\n    AVG(credit_card_tenure) AS avg_credit_card_tenure\nFROM \n    tenure_data\nGROUP BY \n    employment_status) SELECT `employment_status`,SUM(`avg_credit_card_tenure`) `column_6b380d7a23` FROM q GROUP BY `employment_status`",
       "commandTitle": "Visualization 1",
       "commandType": "auto",
       "commandVersion": 0,
       "commentThread": [],
       "commentsVisible": false,
       "contentSha256Hex": null,
       "customPlotOptions": {
        "redashChart": [
         {
          "key": "type",
          "value": "CHART"
         },
         {
          "key": "options",
          "value": {
           "alignYAxesAtZero": true,
           "coefficient": 1,
           "columnConfigurationMap": {
            "x": {
             "column": "employment_status",
             "id": "column_6b380d7a26"
            },
            "y": [
             {
              "column": "avg_credit_card_tenure",
              "id": "column_6b380d7a23",
              "transform": "SUM"
             }
            ]
           },
           "dateTimeFormat": "DD/MM/YYYY HH:mm",
           "direction": {
            "type": "counterclockwise"
           },
           "error_y": {
            "type": "data",
            "visible": true
           },
           "globalSeriesType": "pie",
           "isAggregationOn": true,
           "legend": {
            "traceorder": "normal"
           },
           "missingValuesAsZero": true,
           "numberFormat": "0,0.[00000]",
           "percentFormat": "0[.]00%",
           "series": {
            "error_y": {
             "type": "data",
             "visible": true
            },
            "stacking": null
           },
           "seriesOptions": {
            "column_6b380d7a23": {
             "name": "avg_credit_card_tenure",
             "type": "pie",
             "yAxis": 0
            }
           },
           "showDataLabels": true,
           "sizemode": "diameter",
           "sortX": true,
           "sortY": true,
           "swappedAxes": false,
           "textFormat": "",
           "useAggregationsUi": true,
           "valuesOptions": {
            "employed": {
             "color": "#0077C0"
            },
            "unemployed": {
             "color": "#00B6EB"
            }
           },
           "version": 2,
           "xAxis": {
            "labels": {
             "enabled": true
            },
            "type": "-"
           },
           "yAxis": [
            {
             "type": "-"
            },
            {
             "opposite": true,
             "type": "-"
            }
           ]
          }
         }
        ]
       },
       "datasetPreviewNameToCmdIdMap": {},
       "diffDeletes": [],
       "diffInserts": [],
       "displayType": "redashChart",
       "error": null,
       "errorDetails": null,
       "errorSummary": null,
       "errorTraceType": null,
       "finishTime": 0,
       "globalVars": {},
       "guid": "",
       "height": "auto",
       "hideCommandCode": false,
       "hideCommandResult": false,
       "iPythonMetadata": null,
       "inputWidgets": {},
       "isLockedInExamMode": false,
       "latestUser": "a user",
       "latestUserId": null,
       "listResultMetadata": null,
       "metadata": {
        "byteLimit": 2048000,
        "rowLimit": 10000
       },
       "nuid": "d56efaad-61d7-4750-a1ce-5aabd7d674c2",
       "origId": 0,
       "parentHierarchy": [],
       "pivotAggregation": null,
       "pivotColumns": null,
       "position": 21.375,
       "resultDbfsErrorMessage": null,
       "resultDbfsStatus": "INLINED_IN_TREE",
       "results": null,
       "showCommandTitle": false,
       "startTime": 0,
       "state": "finished",
       "streamStates": {},
       "subcommandOptions": {
        "queryPlan": {
         "groups": [
          {
           "column": "employment_status",
           "type": "column"
          }
         ],
         "selects": [
          {
           "column": "employment_status",
           "type": "column"
          },
          {
           "alias": "column_6b380d7a23",
           "args": [
            {
             "column": "avg_credit_card_tenure",
             "type": "column"
            }
           ],
           "function": "SUM",
           "type": "function"
          }
         ]
        }
       },
       "submitTime": 0,
       "subtype": "tableResultSubCmd.visualization",
       "tableResultIndex": 0,
       "tableResultSettingsMap": null,
       "useConsistentColors": false,
       "version": "CommandV1",
       "width": "auto",
       "workflows": [],
       "xColumns": null,
       "yColumns": null
      }
     },
     "output_type": "display_data"
    }
   ],
   "source": [
    "%sql\n",
    "WITH tenure_data AS (\n",
    "    SELECT \n",
    "        employment_status,\n",
    "        (MAX(MONTHS_AGO) - MIN(MONTHS_AGO)) AS credit_card_tenure\n",
    "    FROM \n",
    "        data\n",
    "    GROUP BY \n",
    "        ID, employment_status\n",
    ")\n",
    "SELECT \n",
    "    employment_status,\n",
    "    AVG(credit_card_tenure) AS avg_credit_card_tenure\n",
    "FROM \n",
    "    tenure_data\n",
    "GROUP BY \n",
    "    employment_status;\n"
   ]
  },
  {
   "cell_type": "markdown",
   "metadata": {
    "application/vnd.databricks.v1+cell": {
     "cellMetadata": {
      "byteLimit": 2048000,
      "rowLimit": 10000
     },
     "inputWidgets": {},
     "nuid": "04ba2544-daee-4b08-9c69-822b6946be11",
     "showTitle": false,
     "title": ""
    }
   },
   "source": [
    "#### 12)Relationship Between Education Level and Credit Card Tenure"
   ]
  },
  {
   "cell_type": "code",
   "execution_count": 0,
   "metadata": {
    "application/vnd.databricks.v1+cell": {
     "cellMetadata": {
      "byteLimit": 2048000,
      "rowLimit": 10000
     },
     "inputWidgets": {},
     "nuid": "ff153c2a-c3fc-4bd0-9b1a-4aafd19a6567",
     "showTitle": false,
     "title": ""
    }
   },
   "outputs": [
    {
     "output_type": "display_data",
     "data": {
      "text/html": [
       "<style scoped>\n",
       "  .table-result-container {\n",
       "    max-height: 300px;\n",
       "    overflow: auto;\n",
       "  }\n",
       "  table, th, td {\n",
       "    border: 1px solid black;\n",
       "    border-collapse: collapse;\n",
       "  }\n",
       "  th, td {\n",
       "    padding: 5px;\n",
       "  }\n",
       "  th {\n",
       "    text-align: left;\n",
       "  }\n",
       "</style><div class='table-result-container'><table class='table-result'><thead style='background-color: white'><tr><th>education_level</th><th>avg_credit_card_tenure</th></tr></thead><tbody><tr><td>Secondary</td><td>20.159179884570367</td></tr><tr><td>Academic degree</td><td>25.15625</td></tr><tr><td>Incomplete higher</td><td>20.509929078014185</td></tr><tr><td>Lower secondary</td><td>22.141711229946523</td></tr><tr><td>Higher education</td><td>20.657846715328468</td></tr></tbody></table></div>"
      ]
     },
     "metadata": {
      "application/vnd.databricks.v1+output": {
       "addedWidgets": {},
       "aggData": [],
       "aggError": "",
       "aggOverflow": false,
       "aggSchema": [],
       "aggSeriesLimitReached": false,
       "aggType": "",
       "arguments": {},
       "columnCustomDisplayInfos": {},
       "data": [
        [
         "Secondary",
         20.159179884570367
        ],
        [
         "Academic degree",
         25.15625
        ],
        [
         "Incomplete higher",
         20.509929078014185
        ],
        [
         "Lower secondary",
         22.141711229946523
        ],
        [
         "Higher education",
         20.657846715328468
        ]
       ],
       "datasetInfos": [],
       "dbfsResultPath": null,
       "isJsonSchema": true,
       "metadata": {
        "isDbfsCommandResult": false
       },
       "overflow": false,
       "plotOptions": {
        "customPlotOptions": {},
        "displayType": "table",
        "pivotAggregation": null,
        "pivotColumns": null,
        "xColumns": null,
        "yColumns": null
       },
       "removedWidgets": [],
       "schema": [
        {
         "metadata": "{}",
         "name": "education_level",
         "type": "\"string\""
        },
        {
         "metadata": "{}",
         "name": "avg_credit_card_tenure",
         "type": "\"double\""
        }
       ],
       "type": "table"
      }
     },
     "output_type": "display_data"
    },
    {
     "output_type": "display_data",
     "data": {
      "text/plain": [
       "Databricks visualization. Run in Databricks to view."
      ]
     },
     "metadata": {
      "application/vnd.databricks.v1.subcommand+json": {
       "baseErrorDetails": null,
       "bindings": {},
       "collapsed": false,
       "command": "%sql WITH q AS (WITH tenure_by_education AS (\n    SELECT \n       distinct(ID),\n        education_level,\n        (MAX(MONTHS_AGO) - MIN(MONTHS_AGO)) AS credit_card_tenure\n    FROM \n        data\n    GROUP BY \n        ID, education_level\n    order by id\n)\n\nSELECT \n    education_level,\n    AVG(credit_card_tenure) AS avg_credit_card_tenure\nFROM \n    tenure_by_education\nGROUP BY \n    education_level) SELECT `education_level`,SUM(`avg_credit_card_tenure`) `column_5abf03f244` FROM q GROUP BY `education_level`",
       "commandTitle": "Visualization 1",
       "commandType": "auto",
       "commandVersion": 0,
       "commentThread": [],
       "commentsVisible": false,
       "contentSha256Hex": null,
       "customPlotOptions": {
        "redashChart": [
         {
          "key": "type",
          "value": "CHART"
         },
         {
          "key": "options",
          "value": {
           "alignYAxesAtZero": true,
           "coefficient": 1,
           "columnConfigurationMap": {
            "x": {
             "column": "education_level",
             "id": "column_5abf03f243"
            },
            "y": [
             {
              "column": "avg_credit_card_tenure",
              "id": "column_5abf03f244",
              "transform": "SUM"
             }
            ]
           },
           "dateTimeFormat": "DD/MM/YYYY HH:mm",
           "direction": {
            "type": "counterclockwise"
           },
           "error_y": {
            "type": "data",
            "visible": true
           },
           "globalSeriesType": "column",
           "isAggregationOn": true,
           "legend": {
            "traceorder": "normal"
           },
           "missingValuesAsZero": true,
           "numberFormat": "0,0.[00000]",
           "percentFormat": "0[.]00%",
           "series": {
            "error_y": {
             "type": "data",
             "visible": true
            },
            "stacking": null
           },
           "seriesOptions": {
            "column_5abf03f244": {
             "color": "#004170",
             "name": "avg_credit_card_tenure",
             "yAxis": 0
            }
           },
           "showDataLabels": false,
           "sizemode": "diameter",
           "sortX": true,
           "sortY": true,
           "swappedAxes": true,
           "textFormat": "",
           "useAggregationsUi": true,
           "valuesOptions": {},
           "version": 2,
           "xAxis": {
            "labels": {
             "enabled": true
            },
            "type": "-"
           },
           "yAxis": [
            {
             "type": "-"
            },
            {
             "opposite": true,
             "type": "-"
            }
           ]
          }
         }
        ]
       },
       "datasetPreviewNameToCmdIdMap": {},
       "diffDeletes": [],
       "diffInserts": [],
       "displayType": "redashChart",
       "error": null,
       "errorDetails": null,
       "errorSummary": null,
       "errorTraceType": null,
       "finishTime": 0,
       "globalVars": {},
       "guid": "",
       "height": "auto",
       "hideCommandCode": false,
       "hideCommandResult": false,
       "iPythonMetadata": null,
       "inputWidgets": {},
       "isLockedInExamMode": false,
       "latestUser": "a user",
       "latestUserId": null,
       "listResultMetadata": null,
       "metadata": {
        "byteLimit": 2048000,
        "rowLimit": 10000
       },
       "nuid": "87d5795b-7855-4e0c-a49f-ab2d723c3e2a",
       "origId": 0,
       "parentHierarchy": [],
       "pivotAggregation": null,
       "pivotColumns": null,
       "position": 22.0,
       "resultDbfsErrorMessage": null,
       "resultDbfsStatus": "INLINED_IN_TREE",
       "results": null,
       "showCommandTitle": false,
       "startTime": 0,
       "state": "finished",
       "streamStates": {},
       "subcommandOptions": {
        "queryPlan": {
         "groups": [
          {
           "column": "education_level",
           "type": "column"
          }
         ],
         "selects": [
          {
           "column": "education_level",
           "type": "column"
          },
          {
           "alias": "column_5abf03f244",
           "args": [
            {
             "column": "avg_credit_card_tenure",
             "type": "column"
            }
           ],
           "function": "SUM",
           "type": "function"
          }
         ]
        }
       },
       "submitTime": 0,
       "subtype": "tableResultSubCmd.visualization",
       "tableResultIndex": 0,
       "tableResultSettingsMap": null,
       "useConsistentColors": false,
       "version": "CommandV1",
       "width": "auto",
       "workflows": [],
       "xColumns": null,
       "yColumns": null
      }
     },
     "output_type": "display_data"
    }
   ],
   "source": [
    "%sql\n",
    "WITH tenure_by_education AS (\n",
    "    SELECT \n",
    "       distinct(ID),\n",
    "        education_level,\n",
    "        (MAX(MONTHS_AGO) - MIN(MONTHS_AGO)) AS credit_card_tenure\n",
    "    FROM \n",
    "        data\n",
    "    GROUP BY \n",
    "        ID, education_level\n",
    "    order by id\n",
    ")\n",
    "\n",
    "SELECT \n",
    "    education_level,\n",
    "    AVG(credit_card_tenure) AS avg_credit_card_tenure\n",
    "FROM \n",
    "    tenure_by_education\n",
    "GROUP BY \n",
    "    education_level;\n",
    "\n"
   ]
  },
  {
   "cell_type": "markdown",
   "metadata": {
    "application/vnd.databricks.v1+cell": {
     "cellMetadata": {
      "byteLimit": 2048000,
      "rowLimit": 10000
     },
     "inputWidgets": {},
     "nuid": "4ee6e408-5e71-4f3f-90d9-ab4bb66e3c55",
     "showTitle": false,
     "title": ""
    }
   },
   "source": [
    "#### 13)What is the gender-wise distribution of percentage of delayed payments across different income categories"
   ]
  },
  {
   "cell_type": "code",
   "execution_count": 0,
   "metadata": {
    "application/vnd.databricks.v1+cell": {
     "cellMetadata": {
      "byteLimit": 2048000,
      "rowLimit": 10000
     },
     "inputWidgets": {},
     "nuid": "c2ac0d10-9972-431d-a566-595a6ff57a12",
     "showTitle": false,
     "title": ""
    }
   },
   "outputs": [
    {
     "output_type": "display_data",
     "data": {
      "text/html": [
       "<style scoped>\n",
       "  .table-result-container {\n",
       "    max-height: 300px;\n",
       "    overflow: auto;\n",
       "  }\n",
       "  table, th, td {\n",
       "    border: 1px solid black;\n",
       "    border-collapse: collapse;\n",
       "  }\n",
       "  th, td {\n",
       "    padding: 5px;\n",
       "  }\n",
       "  th {\n",
       "    text-align: left;\n",
       "  }\n",
       "</style><div class='table-result-container'><table class='table-result'><thead style='background-color: white'><tr><th>income_category</th><th>gender</th><th>percent_delay_count</th></tr></thead><tbody><tr><td>Commercial associate</td><td>Male</td><td>39.32875691122569</td></tr><tr><td>Commercial associate</td><td>Female</td><td>39.70184122288797</td></tr><tr><td>Pensioner</td><td>Female</td><td>38.81906677025730</td></tr><tr><td>Pensioner</td><td>Male</td><td>37.01479959972613</td></tr><tr><td>State servant</td><td>Female</td><td>39.27035041557031</td></tr><tr><td>State servant</td><td>Male</td><td>38.32260270070081</td></tr><tr><td>Student</td><td>Female</td><td>17.70186335403727</td></tr><tr><td>Student</td><td>Male</td><td>73.33333333333333</td></tr><tr><td>Working</td><td>Male</td><td>38.64161648398270</td></tr><tr><td>Working</td><td>Female</td><td>38.61485050012178</td></tr></tbody></table></div>"
      ]
     },
     "metadata": {
      "application/vnd.databricks.v1+output": {
       "addedWidgets": {},
       "aggData": [],
       "aggError": "",
       "aggOverflow": false,
       "aggSchema": [],
       "aggSeriesLimitReached": false,
       "aggType": "",
       "arguments": {},
       "columnCustomDisplayInfos": {},
       "data": [
        [
         "Commercial associate",
         "Male",
         "39.32875691122569"
        ],
        [
         "Commercial associate",
         "Female",
         "39.70184122288797"
        ],
        [
         "Pensioner",
         "Female",
         "38.81906677025730"
        ],
        [
         "Pensioner",
         "Male",
         "37.01479959972613"
        ],
        [
         "State servant",
         "Female",
         "39.27035041557031"
        ],
        [
         "State servant",
         "Male",
         "38.32260270070081"
        ],
        [
         "Student",
         "Female",
         "17.70186335403727"
        ],
        [
         "Student",
         "Male",
         "73.33333333333333"
        ],
        [
         "Working",
         "Male",
         "38.64161648398270"
        ],
        [
         "Working",
         "Female",
         "38.61485050012178"
        ]
       ],
       "datasetInfos": [],
       "dbfsResultPath": null,
       "isJsonSchema": true,
       "metadata": {
        "isDbfsCommandResult": false
       },
       "overflow": false,
       "plotOptions": {
        "customPlotOptions": {},
        "displayType": "table",
        "pivotAggregation": null,
        "pivotColumns": null,
        "xColumns": null,
        "yColumns": null
       },
       "removedWidgets": [],
       "schema": [
        {
         "metadata": "{}",
         "name": "income_category",
         "type": "\"string\""
        },
        {
         "metadata": "{}",
         "name": "gender",
         "type": "\"string\""
        },
        {
         "metadata": "{}",
         "name": "percent_delay_count",
         "type": "\"decimal(38,14)\""
        }
       ],
       "type": "table"
      }
     },
     "output_type": "display_data"
    },
    {
     "output_type": "display_data",
     "data": {
      "text/plain": [
       "Databricks visualization. Run in Databricks to view."
      ]
     },
     "metadata": {
      "application/vnd.databricks.v1.subcommand+json": {
       "baseErrorDetails": null,
       "bindings": {},
       "collapsed": false,
       "command": "%sql WITH q AS (WITH my_cte AS (\n    SELECT \n        income_category,\n        gender,\n        COUNT(CASE WHEN is_delay_month = 'Yes' THEN 1 END) AS delayed_payment_count,\n        COUNT(*) AS total_count\n    FROM \n        data\n    GROUP BY \n        income_category, gender\n    ORDER BY income_category)\nselect income_category,gender,delayed_payment_count*100.0/total_count as percent_delay_count from my_cte) SELECT `gender`,AVG(`percent_delay_count`) `column_5abf03f249`,`income_category` FROM q GROUP BY `gender`,`income_category`",
       "commandTitle": "Visualization 1",
       "commandType": "auto",
       "commandVersion": 0,
       "commentThread": [],
       "commentsVisible": false,
       "contentSha256Hex": null,
       "customPlotOptions": {
        "redashChart": [
         {
          "key": "type",
          "value": "CHART"
         },
         {
          "key": "options",
          "value": {
           "alignYAxesAtZero": true,
           "coefficient": 1,
           "columnConfigurationMap": {
            "series": {
             "column": "income_category",
             "id": "column_5abf03f251"
            },
            "x": {
             "column": "gender",
             "id": "column_5abf03f247"
            },
            "y": [
             {
              "column": "percent_delay_count",
              "id": "column_5abf03f249",
              "transform": "AVG"
             }
            ]
           },
           "dateTimeFormat": "DD/MM/YYYY HH:mm",
           "direction": {
            "type": "counterclockwise"
           },
           "error_y": {
            "type": "data",
            "visible": true
           },
           "globalSeriesType": "pie",
           "isAggregationOn": true,
           "legend": {
            "traceorder": "normal"
           },
           "missingValuesAsZero": true,
           "numberFormat": "0,0.[00000]",
           "percentFormat": "0[.]00%",
           "series": {
            "error_y": {
             "type": "data",
             "visible": true
            },
            "stacking": null
           },
           "seriesOptions": {
            "column_5abf03f249": {
             "type": "pie",
             "yAxis": 0
            }
           },
           "showDataLabels": true,
           "sizemode": "diameter",
           "sortX": true,
           "sortY": true,
           "swappedAxes": false,
           "textFormat": "",
           "useAggregationsUi": true,
           "valuesOptions": {
            "Female": {
             "color": "#00B6EB"
            },
            "Male": {
             "color": "#002FB4"
            }
           },
           "version": 2,
           "xAxis": {
            "labels": {
             "enabled": true
            },
            "type": "-"
           },
           "yAxis": [
            {
             "type": "-"
            },
            {
             "opposite": true,
             "type": "-"
            }
           ]
          }
         }
        ]
       },
       "datasetPreviewNameToCmdIdMap": {},
       "diffDeletes": [],
       "diffInserts": [],
       "displayType": "redashChart",
       "error": null,
       "errorDetails": null,
       "errorSummary": null,
       "errorTraceType": null,
       "finishTime": 0,
       "globalVars": {},
       "guid": "",
       "height": "auto",
       "hideCommandCode": false,
       "hideCommandResult": false,
       "iPythonMetadata": null,
       "inputWidgets": {},
       "isLockedInExamMode": false,
       "latestUser": "a user",
       "latestUserId": null,
       "listResultMetadata": null,
       "metadata": {
        "byteLimit": 2048000,
        "rowLimit": 10000
       },
       "nuid": "8f42600a-2af9-494b-814d-7ede0b84b885",
       "origId": 0,
       "parentHierarchy": [],
       "pivotAggregation": null,
       "pivotColumns": null,
       "position": 23.0,
       "resultDbfsErrorMessage": null,
       "resultDbfsStatus": "INLINED_IN_TREE",
       "results": null,
       "showCommandTitle": false,
       "startTime": 0,
       "state": "finished",
       "streamStates": {},
       "subcommandOptions": {
        "queryPlan": {
         "groups": [
          {
           "column": "gender",
           "type": "column"
          },
          {
           "column": "income_category",
           "type": "column"
          }
         ],
         "selects": [
          {
           "column": "gender",
           "type": "column"
          },
          {
           "alias": "column_5abf03f249",
           "args": [
            {
             "column": "percent_delay_count",
             "type": "column"
            }
           ],
           "function": "AVG",
           "type": "function"
          },
          {
           "column": "income_category",
           "type": "column"
          }
         ]
        }
       },
       "submitTime": 0,
       "subtype": "tableResultSubCmd.visualization",
       "tableResultIndex": 0,
       "tableResultSettingsMap": null,
       "useConsistentColors": false,
       "version": "CommandV1",
       "width": "auto",
       "workflows": [],
       "xColumns": null,
       "yColumns": null
      }
     },
     "output_type": "display_data"
    }
   ],
   "source": [
    "%sql\n",
    "WITH my_cte AS (\n",
    "    SELECT \n",
    "        income_category,\n",
    "        gender,\n",
    "        COUNT(CASE WHEN is_delay_month = 'Yes' THEN 1 END) AS delayed_payment_count,\n",
    "        COUNT(*) AS total_count\n",
    "    FROM \n",
    "        data\n",
    "    GROUP BY \n",
    "        income_category, gender\n",
    "    ORDER BY income_category)\n",
    "select income_category,gender,delayed_payment_count*100.0/total_count as percent_delay_count from my_cte;\n",
    "\n"
   ]
  },
  {
   "cell_type": "markdown",
   "metadata": {
    "application/vnd.databricks.v1+cell": {
     "cellMetadata": {
      "byteLimit": 2048000,
      "rowLimit": 10000
     },
     "inputWidgets": {},
     "nuid": "925fbe1a-7199-4781-aaa1-4e03f40abbb1",
     "showTitle": false,
     "title": ""
    }
   },
   "source": [
    "#### 14)Trends in Credit Card Usage"
   ]
  },
  {
   "cell_type": "code",
   "execution_count": 0,
   "metadata": {
    "application/vnd.databricks.v1+cell": {
     "cellMetadata": {
      "byteLimit": 2048000,
      "rowLimit": 10000
     },
     "inputWidgets": {},
     "nuid": "23f6ad46-43fd-4bce-a72a-1e639b6a0740",
     "showTitle": false,
     "title": ""
    }
   },
   "outputs": [
    {
     "output_type": "display_data",
     "data": {
      "text/html": [
       "<style scoped>\n",
       "  .table-result-container {\n",
       "    max-height: 300px;\n",
       "    overflow: auto;\n",
       "  }\n",
       "  table, th, td {\n",
       "    border: 1px solid black;\n",
       "    border-collapse: collapse;\n",
       "  }\n",
       "  th, td {\n",
       "    padding: 5px;\n",
       "  }\n",
       "  th {\n",
       "    text-align: left;\n",
       "  }\n",
       "</style><div class='table-result-container'><table class='table-result'><thead style='background-color: white'><tr><th>MONTHS_AGO</th><th>active_customers</th></tr></thead><tbody><tr><td>60</td><td>321</td></tr><tr><td>59</td><td>627</td></tr><tr><td>58</td><td>955</td></tr><tr><td>57</td><td>1253</td></tr><tr><td>56</td><td>1588</td></tr><tr><td>55</td><td>1939</td></tr><tr><td>54</td><td>2279</td></tr><tr><td>53</td><td>2633</td></tr><tr><td>52</td><td>3070</td></tr><tr><td>51</td><td>3514</td></tr><tr><td>50</td><td>3907</td></tr><tr><td>49</td><td>4294</td></tr><tr><td>48</td><td>4702</td></tr><tr><td>47</td><td>5131</td></tr><tr><td>46</td><td>5511</td></tr><tr><td>45</td><td>5899</td></tr><tr><td>44</td><td>6278</td></tr><tr><td>43</td><td>6714</td></tr><tr><td>42</td><td>7151</td></tr><tr><td>41</td><td>7612</td></tr><tr><td>40</td><td>8118</td></tr><tr><td>39</td><td>8690</td></tr><tr><td>38</td><td>9179</td></tr><tr><td>37</td><td>9589</td></tr><tr><td>36</td><td>9998</td></tr><tr><td>35</td><td>10444</td></tr><tr><td>34</td><td>10889</td></tr><tr><td>33</td><td>11315</td></tr><tr><td>32</td><td>11741</td></tr><tr><td>31</td><td>12180</td></tr><tr><td>30</td><td>12613</td></tr><tr><td>29</td><td>13065</td></tr><tr><td>28</td><td>13524</td></tr><tr><td>27</td><td>14027</td></tr><tr><td>26</td><td>14455</td></tr><tr><td>25</td><td>14950</td></tr><tr><td>24</td><td>15461</td></tr><tr><td>23</td><td>15937</td></tr><tr><td>22</td><td>16373</td></tr><tr><td>21</td><td>16763</td></tr><tr><td>20</td><td>17191</td></tr><tr><td>19</td><td>17598</td></tr><tr><td>18</td><td>18045</td></tr><tr><td>17</td><td>18607</td></tr><tr><td>16</td><td>19103</td></tr><tr><td>15</td><td>19559</td></tr><tr><td>14</td><td>20031</td></tr><tr><td>13</td><td>20494</td></tr><tr><td>12</td><td>20932</td></tr><tr><td>11</td><td>21343</td></tr><tr><td>10</td><td>21725</td></tr><tr><td>9</td><td>22090</td></tr><tr><td>8</td><td>22494</td></tr><tr><td>7</td><td>23018</td></tr><tr><td>6</td><td>23473</td></tr><tr><td>5</td><td>23899</td></tr><tr><td>4</td><td>24274</td></tr><tr><td>3</td><td>24644</td></tr><tr><td>2</td><td>24871</td></tr><tr><td>1</td><td>24963</td></tr><tr><td>0</td><td>24672</td></tr></tbody></table></div>"
      ]
     },
     "metadata": {
      "application/vnd.databricks.v1+output": {
       "addedWidgets": {},
       "aggData": [],
       "aggError": "",
       "aggOverflow": false,
       "aggSchema": [],
       "aggSeriesLimitReached": false,
       "aggType": "",
       "arguments": {},
       "columnCustomDisplayInfos": {},
       "data": [
        [
         60,
         321
        ],
        [
         59,
         627
        ],
        [
         58,
         955
        ],
        [
         57,
         1253
        ],
        [
         56,
         1588
        ],
        [
         55,
         1939
        ],
        [
         54,
         2279
        ],
        [
         53,
         2633
        ],
        [
         52,
         3070
        ],
        [
         51,
         3514
        ],
        [
         50,
         3907
        ],
        [
         49,
         4294
        ],
        [
         48,
         4702
        ],
        [
         47,
         5131
        ],
        [
         46,
         5511
        ],
        [
         45,
         5899
        ],
        [
         44,
         6278
        ],
        [
         43,
         6714
        ],
        [
         42,
         7151
        ],
        [
         41,
         7612
        ],
        [
         40,
         8118
        ],
        [
         39,
         8690
        ],
        [
         38,
         9179
        ],
        [
         37,
         9589
        ],
        [
         36,
         9998
        ],
        [
         35,
         10444
        ],
        [
         34,
         10889
        ],
        [
         33,
         11315
        ],
        [
         32,
         11741
        ],
        [
         31,
         12180
        ],
        [
         30,
         12613
        ],
        [
         29,
         13065
        ],
        [
         28,
         13524
        ],
        [
         27,
         14027
        ],
        [
         26,
         14455
        ],
        [
         25,
         14950
        ],
        [
         24,
         15461
        ],
        [
         23,
         15937
        ],
        [
         22,
         16373
        ],
        [
         21,
         16763
        ],
        [
         20,
         17191
        ],
        [
         19,
         17598
        ],
        [
         18,
         18045
        ],
        [
         17,
         18607
        ],
        [
         16,
         19103
        ],
        [
         15,
         19559
        ],
        [
         14,
         20031
        ],
        [
         13,
         20494
        ],
        [
         12,
         20932
        ],
        [
         11,
         21343
        ],
        [
         10,
         21725
        ],
        [
         9,
         22090
        ],
        [
         8,
         22494
        ],
        [
         7,
         23018
        ],
        [
         6,
         23473
        ],
        [
         5,
         23899
        ],
        [
         4,
         24274
        ],
        [
         3,
         24644
        ],
        [
         2,
         24871
        ],
        [
         1,
         24963
        ],
        [
         0,
         24672
        ]
       ],
       "datasetInfos": [],
       "dbfsResultPath": null,
       "isJsonSchema": true,
       "metadata": {
        "isDbfsCommandResult": false
       },
       "overflow": false,
       "plotOptions": {
        "customPlotOptions": {},
        "displayType": "table",
        "pivotAggregation": null,
        "pivotColumns": null,
        "xColumns": null,
        "yColumns": null
       },
       "removedWidgets": [],
       "schema": [
        {
         "metadata": "{}",
         "name": "MONTHS_AGO",
         "type": "\"integer\""
        },
        {
         "metadata": "{}",
         "name": "active_customers",
         "type": "\"long\""
        }
       ],
       "type": "table"
      }
     },
     "output_type": "display_data"
    },
    {
     "output_type": "display_data",
     "data": {
      "text/plain": [
       "Databricks visualization. Run in Databricks to view."
      ]
     },
     "metadata": {
      "application/vnd.databricks.v1.subcommand+json": {
       "baseErrorDetails": null,
       "bindings": {},
       "collapsed": false,
       "command": "%sql WITH q AS (SELECT \n    MONTHS_AGO,\n    COUNT(DISTINCT ID) AS active_customers\nFROM \n    data\nGROUP BY \n    MONTHS_AGO\nORDER BY \n    MONTHS_AGO desc) SELECT `MONTHS_AGO`,`active_customers` FROM q",
       "commandTitle": "Visualization 1",
       "commandType": "auto",
       "commandVersion": 0,
       "commentThread": [],
       "commentsVisible": false,
       "contentSha256Hex": null,
       "customPlotOptions": {
        "redashChart": [
         {
          "key": "type",
          "value": "CHART"
         },
         {
          "key": "options",
          "value": {
           "alignYAxesAtZero": true,
           "coefficient": 1,
           "columnConfigurationMap": {
            "x": {
             "column": "MONTHS_AGO",
             "id": "column_5abf03f252"
            },
            "y": [
             {
              "column": "active_customers",
              "id": "column_5abf03f253"
             }
            ]
           },
           "dateTimeFormat": "DD/MM/YYYY HH:mm",
           "direction": {
            "type": "counterclockwise"
           },
           "error_y": {
            "type": "data",
            "visible": true
           },
           "globalSeriesType": "scatter",
           "legend": {
            "traceorder": "normal"
           },
           "missingValuesAsZero": true,
           "numberFormat": "0,0.[00000]",
           "percentFormat": "0[.]00%",
           "series": {
            "error_y": {
             "type": "data",
             "visible": true
            },
            "stacking": null
           },
           "seriesOptions": {
            "active_customers": {
             "color": "#0077C0",
             "name": "active_customers",
             "type": "scatter",
             "yAxis": 0
            },
            "column_5abf03f253": {
             "name": "active_customers",
             "type": "scatter",
             "yAxis": 0
            }
           },
           "showDataLabels": false,
           "sizemode": "diameter",
           "sortX": true,
           "sortY": true,
           "swappedAxes": false,
           "textFormat": "",
           "useAggregationsUi": true,
           "valuesOptions": {},
           "version": 2,
           "xAxis": {
            "labels": {
             "enabled": true
            },
            "title": {
             "text": "Months_After"
            },
            "type": "-"
           },
           "yAxis": [
            {
             "type": "-"
            },
            {
             "opposite": true,
             "type": "-"
            }
           ]
          }
         }
        ]
       },
       "datasetPreviewNameToCmdIdMap": {},
       "diffDeletes": [],
       "diffInserts": [],
       "displayType": "redashChart",
       "error": null,
       "errorDetails": null,
       "errorSummary": null,
       "errorTraceType": null,
       "finishTime": 0,
       "globalVars": {},
       "guid": "",
       "height": "auto",
       "hideCommandCode": false,
       "hideCommandResult": false,
       "iPythonMetadata": null,
       "inputWidgets": {},
       "isLockedInExamMode": false,
       "latestUser": "a user",
       "latestUserId": null,
       "listResultMetadata": null,
       "metadata": {
        "byteLimit": 2048000,
        "rowLimit": 10000
       },
       "nuid": "084c4593-bcb0-447c-a390-d7b7994da72e",
       "origId": 0,
       "parentHierarchy": [],
       "pivotAggregation": null,
       "pivotColumns": null,
       "position": 24.0,
       "resultDbfsErrorMessage": null,
       "resultDbfsStatus": "INLINED_IN_TREE",
       "results": null,
       "showCommandTitle": false,
       "startTime": 0,
       "state": "finished",
       "streamStates": {},
       "subcommandOptions": {
        "queryPlan": {
         "selects": [
          {
           "column": "MONTHS_AGO",
           "type": "column"
          },
          {
           "column": "active_customers",
           "type": "column"
          }
         ]
        }
       },
       "submitTime": 0,
       "subtype": "tableResultSubCmd.visualization",
       "tableResultIndex": 0,
       "tableResultSettingsMap": null,
       "useConsistentColors": false,
       "version": "CommandV1",
       "width": "auto",
       "workflows": [],
       "xColumns": null,
       "yColumns": null
      }
     },
     "output_type": "display_data"
    }
   ],
   "source": [
    "%sql\n",
    "SELECT \n",
    "    MONTHS_AGO,\n",
    "    COUNT(DISTINCT ID) AS active_customers\n",
    "FROM \n",
    "    data\n",
    "GROUP BY \n",
    "    MONTHS_AGO\n",
    "ORDER BY \n",
    "    MONTHS_AGO desc;"
   ]
  },
  {
   "cell_type": "markdown",
   "metadata": {
    "application/vnd.databricks.v1+cell": {
     "cellMetadata": {
      "byteLimit": 2048000,
      "rowLimit": 10000
     },
     "inputWidgets": {},
     "nuid": "3e540d37-6da2-45fb-b595-d568bab89992",
     "showTitle": false,
     "title": ""
    }
   },
   "source": [
    "#### 15)\"How does the monthly credit card payment status distribution vary across different income categories?\""
   ]
  },
  {
   "cell_type": "code",
   "execution_count": 0,
   "metadata": {
    "application/vnd.databricks.v1+cell": {
     "cellMetadata": {
      "byteLimit": 2048000,
      "rowLimit": 10000
     },
     "inputWidgets": {},
     "nuid": "2ad7a553-db73-49f1-b737-2f2b8d539a0b",
     "showTitle": false,
     "title": ""
    }
   },
   "outputs": [
    {
     "output_type": "display_data",
     "data": {
      "text/html": [
       "<style scoped>\n",
       "  .table-result-container {\n",
       "    max-height: 300px;\n",
       "    overflow: auto;\n",
       "  }\n",
       "  table, th, td {\n",
       "    border: 1px solid black;\n",
       "    border-collapse: collapse;\n",
       "  }\n",
       "  th, td {\n",
       "    padding: 5px;\n",
       "  }\n",
       "  th {\n",
       "    text-align: left;\n",
       "  }\n",
       "</style><div class='table-result-container'><table class='table-result'><thead style='background-color: white'><tr><th>income_category</th><th>STATUS</th><th>month_count</th></tr></thead><tbody><tr><td>Commercial associate</td><td>0</td><td>69302</td></tr><tr><td>Commercial associate</td><td>1</td><td>2368</td></tr><tr><td>Commercial associate</td><td>2</td><td>187</td></tr><tr><td>Commercial associate</td><td>3</td><td>77</td></tr><tr><td>Commercial associate</td><td>4</td><td>72</td></tr><tr><td>Commercial associate</td><td>5</td><td>561</td></tr><tr><td>Commercial associate</td><td>C</td><td>76295</td></tr><tr><td>Commercial associate</td><td>X</td><td>34523</td></tr><tr><td>Pensioner</td><td>0</td><td>47731</td></tr><tr><td>Pensioner</td><td>1</td><td>1157</td></tr><tr><td>Pensioner</td><td>2</td><td>173</td></tr><tr><td>Pensioner</td><td>3</td><td>80</td></tr><tr><td>Pensioner</td><td>4</td><td>44</td></tr><tr><td>Pensioner</td><td>5</td><td>313</td></tr><tr><td>Pensioner</td><td>C</td><td>55355</td></tr><tr><td>Pensioner</td><td>X</td><td>23539</td></tr><tr><td>State servant</td><td>0</td><td>24639</td></tr><tr><td>State servant</td><td>1</td><td>767</td></tr><tr><td>State servant</td><td>2</td><td>39</td></tr><tr><td>State servant</td><td>3</td><td>17</td></tr><tr><td>State servant</td><td>4</td><td>8</td></tr><tr><td>State servant</td><td>5</td><td>61</td></tr><tr><td>State servant</td><td>C</td><td>27484</td></tr><tr><td>State servant</td><td>X</td><td>12422</td></tr><tr><td>Student</td><td>0</td><td>67</td></tr><tr><td>Student</td><td>1</td><td>1</td></tr><tr><td>Student</td><td>C</td><td>200</td></tr><tr><td>Student</td><td>X</td><td>69</td></tr><tr><td>Working</td><td>0</td><td>148915</td></tr><tr><td>Working</td><td>1</td><td>4454</td></tr><tr><td>Working</td><td>2</td><td>402</td></tr><tr><td>Working</td><td>3</td><td>112</td></tr><tr><td>Working</td><td>4</td><td>90</td></tr><tr><td>Working</td><td>5</td><td>592</td></tr><tr><td>Working</td><td>C</td><td>170202</td></tr><tr><td>Working</td><td>X</td><td>75397</td></tr></tbody></table></div>"
      ]
     },
     "metadata": {
      "application/vnd.databricks.v1+output": {
       "addedWidgets": {},
       "aggData": [],
       "aggError": "",
       "aggOverflow": false,
       "aggSchema": [],
       "aggSeriesLimitReached": false,
       "aggType": "",
       "arguments": {},
       "columnCustomDisplayInfos": {},
       "data": [
        [
         "Commercial associate",
         "0",
         69302
        ],
        [
         "Commercial associate",
         "1",
         2368
        ],
        [
         "Commercial associate",
         "2",
         187
        ],
        [
         "Commercial associate",
         "3",
         77
        ],
        [
         "Commercial associate",
         "4",
         72
        ],
        [
         "Commercial associate",
         "5",
         561
        ],
        [
         "Commercial associate",
         "C",
         76295
        ],
        [
         "Commercial associate",
         "X",
         34523
        ],
        [
         "Pensioner",
         "0",
         47731
        ],
        [
         "Pensioner",
         "1",
         1157
        ],
        [
         "Pensioner",
         "2",
         173
        ],
        [
         "Pensioner",
         "3",
         80
        ],
        [
         "Pensioner",
         "4",
         44
        ],
        [
         "Pensioner",
         "5",
         313
        ],
        [
         "Pensioner",
         "C",
         55355
        ],
        [
         "Pensioner",
         "X",
         23539
        ],
        [
         "State servant",
         "0",
         24639
        ],
        [
         "State servant",
         "1",
         767
        ],
        [
         "State servant",
         "2",
         39
        ],
        [
         "State servant",
         "3",
         17
        ],
        [
         "State servant",
         "4",
         8
        ],
        [
         "State servant",
         "5",
         61
        ],
        [
         "State servant",
         "C",
         27484
        ],
        [
         "State servant",
         "X",
         12422
        ],
        [
         "Student",
         "0",
         67
        ],
        [
         "Student",
         "1",
         1
        ],
        [
         "Student",
         "C",
         200
        ],
        [
         "Student",
         "X",
         69
        ],
        [
         "Working",
         "0",
         148915
        ],
        [
         "Working",
         "1",
         4454
        ],
        [
         "Working",
         "2",
         402
        ],
        [
         "Working",
         "3",
         112
        ],
        [
         "Working",
         "4",
         90
        ],
        [
         "Working",
         "5",
         592
        ],
        [
         "Working",
         "C",
         170202
        ],
        [
         "Working",
         "X",
         75397
        ]
       ],
       "datasetInfos": [],
       "dbfsResultPath": null,
       "isJsonSchema": true,
       "metadata": {
        "isDbfsCommandResult": false
       },
       "overflow": false,
       "plotOptions": {
        "customPlotOptions": {},
        "displayType": "table",
        "pivotAggregation": null,
        "pivotColumns": null,
        "xColumns": null,
        "yColumns": null
       },
       "removedWidgets": [],
       "schema": [
        {
         "metadata": "{}",
         "name": "income_category",
         "type": "\"string\""
        },
        {
         "metadata": "{}",
         "name": "STATUS",
         "type": "\"string\""
        },
        {
         "metadata": "{}",
         "name": "month_count",
         "type": "\"long\""
        }
       ],
       "type": "table"
      }
     },
     "output_type": "display_data"
    },
    {
     "output_type": "display_data",
     "data": {
      "text/plain": [
       "Databricks visualization. Run in Databricks to view."
      ]
     },
     "metadata": {
      "application/vnd.databricks.v1.subcommand+json": {
       "baseErrorDetails": null,
       "bindings": {},
       "collapsed": false,
       "command": "%sql WITH q AS (SELECT \n    income_category,\n    STATUS,\n    COUNT(*) AS month_count\nFROM \n    data\nGROUP BY \n    income_category, STATUS\nORDER BY \n    income_category, STATUS) SELECT `STATUS`,`income_category`,SUM(`month_count`) `column_29f81aaa7` FROM q GROUP BY `STATUS`,`income_category`",
       "commandTitle": "Visualization 1",
       "commandType": "auto",
       "commandVersion": 0,
       "commentThread": [],
       "commentsVisible": false,
       "contentSha256Hex": null,
       "customPlotOptions": {
        "redashChart": [
         {
          "key": "type",
          "value": "CHART"
         },
         {
          "key": "options",
          "value": {
           "alignYAxesAtZero": true,
           "coefficient": 1,
           "colorScheme": "Blues",
           "columnConfigurationMap": {
            "x": {
             "column": "STATUS",
             "id": "column_29f81aaa10"
            },
            "y": [
             {
              "column": "income_category",
              "id": "column_29f81aaa11"
             }
            ],
            "zVal": {
             "column": "month_count",
             "id": "column_29f81aaa7",
             "transform": "SUM"
            }
           },
           "dateTimeFormat": "DD/MM/YYYY HH:mm",
           "direction": {
            "type": "counterclockwise"
           },
           "error_y": {
            "type": "data",
            "visible": true
           },
           "globalSeriesType": "heatmap",
           "isAggregationOn": true,
           "legend": {
            "title": "Month_Count",
            "traceorder": "normal"
           },
           "missingValuesAsZero": true,
           "numberFormat": "0,0.[00000]",
           "percentFormat": "0[.]00%",
           "reverseX": false,
           "reverseY": true,
           "series": {
            "error_y": {
             "type": "data",
             "visible": true
            },
            "stacking": null
           },
           "seriesOptions": {
            "column_29f81aaa11": {
             "type": "heatmap",
             "yAxis": 0
            },
            "column_29f81aaa3": {
             "name": "month_count",
             "type": "heatmap",
             "yAxis": 0
            },
            "column_29f81aaa5": {
             "type": "heatmap",
             "yAxis": 0
            }
           },
           "showDataLabels": false,
           "sizemode": "diameter",
           "sortX": true,
           "sortY": true,
           "swappedAxes": false,
           "textFormat": "",
           "useAggregationsUi": true,
           "valuesOptions": {},
           "version": 2,
           "xAxis": {
            "labels": {
             "enabled": true
            },
            "type": "-"
           },
           "yAxis": [
            {
             "type": "-"
            },
            {
             "opposite": true,
             "type": "-"
            }
           ]
          }
         }
        ]
       },
       "datasetPreviewNameToCmdIdMap": {},
       "diffDeletes": [],
       "diffInserts": [],
       "displayType": "redashChart",
       "error": null,
       "errorDetails": null,
       "errorSummary": null,
       "errorTraceType": null,
       "finishTime": 0,
       "globalVars": {},
       "guid": "",
       "height": "auto",
       "hideCommandCode": false,
       "hideCommandResult": false,
       "iPythonMetadata": null,
       "inputWidgets": {},
       "isLockedInExamMode": false,
       "latestUser": "a user",
       "latestUserId": null,
       "listResultMetadata": null,
       "metadata": {
        "byteLimit": 2048000,
        "rowLimit": 10000
       },
       "nuid": "30520bb5-6710-4ed9-88cc-80e2a77eddc0",
       "origId": 0,
       "parentHierarchy": [],
       "pivotAggregation": null,
       "pivotColumns": null,
       "position": 25.0,
       "resultDbfsErrorMessage": null,
       "resultDbfsStatus": "INLINED_IN_TREE",
       "results": null,
       "showCommandTitle": false,
       "startTime": 0,
       "state": "finished",
       "streamStates": {},
       "subcommandOptions": {
        "queryPlan": {
         "groups": [
          {
           "column": "STATUS",
           "type": "column"
          },
          {
           "column": "income_category",
           "type": "column"
          }
         ],
         "selects": [
          {
           "column": "STATUS",
           "type": "column"
          },
          {
           "column": "income_category",
           "type": "column"
          },
          {
           "alias": "column_29f81aaa7",
           "args": [
            {
             "column": "month_count",
             "type": "column"
            }
           ],
           "function": "SUM",
           "type": "function"
          }
         ]
        }
       },
       "submitTime": 0,
       "subtype": "tableResultSubCmd.visualization",
       "tableResultIndex": 0,
       "tableResultSettingsMap": null,
       "useConsistentColors": false,
       "version": "CommandV1",
       "width": "auto",
       "workflows": [],
       "xColumns": null,
       "yColumns": null
      }
     },
     "output_type": "display_data"
    },
    {
     "output_type": "display_data",
     "data": {
      "text/plain": [
       "Databricks visualization. Run in Databricks to view."
      ]
     },
     "metadata": {
      "application/vnd.databricks.v1.subcommand+json": {
       "baseErrorDetails": null,
       "bindings": {},
       "collapsed": false,
       "command": "%sql WITH q AS (SELECT \n    income_category,\n    STATUS,\n    COUNT(*) AS month_count\nFROM \n    data\nGROUP BY \n    income_category, STATUS\nORDER BY \n    income_category, STATUS) SELECT `income_category`,`STATUS`,SUM(`month_count`) `month_count_alias` FROM q GROUP BY `STATUS`,`income_category` ORDER BY `income_category` ASC,`STATUS` ASC",
       "commandTitle": "Visualization 2",
       "commandType": "auto",
       "commandVersion": 0,
       "commentThread": [],
       "commentsVisible": false,
       "contentSha256Hex": null,
       "customPlotOptions": {
        "redashChart": [
         {
          "key": "type",
          "value": "PIVOT_TABLE"
         },
         {
          "key": "options",
          "value": {
           "cell": {
            "field": "month_count",
            "transform": {
             "fn": "sum"
            }
           },
           "colorCellsByValue": false,
           "columns": [
            {
             "field": "STATUS",
             "sort": "ascending"
            }
           ],
           "rows": [
            {
             "field": "income_category",
             "sort": "ascending"
            }
           ]
          }
         }
        ]
       },
       "datasetPreviewNameToCmdIdMap": {},
       "diffDeletes": [],
       "diffInserts": [],
       "displayType": "redashChart",
       "error": null,
       "errorDetails": null,
       "errorSummary": null,
       "errorTraceType": null,
       "finishTime": 0,
       "globalVars": {},
       "guid": "",
       "height": "auto",
       "hideCommandCode": false,
       "hideCommandResult": false,
       "iPythonMetadata": null,
       "inputWidgets": {},
       "isLockedInExamMode": false,
       "latestUser": "a user",
       "latestUserId": null,
       "listResultMetadata": null,
       "metadata": {
        "byteLimit": 2048000,
        "rowLimit": 10000
       },
       "nuid": "673728a6-c940-4e65-8255-7890aca71a2c",
       "origId": 0,
       "parentHierarchy": [],
       "pivotAggregation": null,
       "pivotColumns": null,
       "position": 26.0,
       "resultDbfsErrorMessage": null,
       "resultDbfsStatus": "INLINED_IN_TREE",
       "results": null,
       "showCommandTitle": false,
       "startTime": 0,
       "state": "finished",
       "streamStates": {},
       "subcommandOptions": {
        "queryPlan": {
         "groups": [
          {
           "column": "income_category",
           "type": "column"
          },
          {
           "column": "STATUS",
           "type": "column"
          }
         ],
         "order_by": [
          {
           "direction": "asc",
           "expression": {
            "identifier": "income_category",
            "kind": "identifier"
           }
          },
          {
           "direction": "asc",
           "expression": {
            "identifier": "STATUS",
            "kind": "identifier"
           }
          }
         ],
         "selects": [
          {
           "column": "income_category",
           "type": "column"
          },
          {
           "column": "STATUS",
           "type": "column"
          },
          {
           "alias": "month_count_alias",
           "args": [
            {
             "column": "month_count",
             "type": "column"
            }
           ],
           "function": "SUM",
           "type": "function"
          }
         ]
        }
       },
       "submitTime": 0,
       "subtype": "tableResultSubCmd.visualization",
       "tableResultIndex": 0,
       "tableResultSettingsMap": null,
       "useConsistentColors": false,
       "version": "CommandV1",
       "width": "auto",
       "workflows": [],
       "xColumns": null,
       "yColumns": null
      }
     },
     "output_type": "display_data"
    }
   ],
   "source": [
    "%sql\n",
    "SELECT \n",
    "    income_category,\n",
    "    STATUS,\n",
    "    COUNT(*) AS month_count\n",
    "FROM \n",
    "    data\n",
    "GROUP BY \n",
    "    income_category, STATUS\n",
    "ORDER BY \n",
    "    income_category, STATUS;"
   ]
  },
  {
   "cell_type": "markdown",
   "metadata": {
    "application/vnd.databricks.v1+cell": {
     "cellMetadata": {
      "byteLimit": 2048000,
      "rowLimit": 10000
     },
     "inputWidgets": {},
     "nuid": "c014d99a-8d1f-4cdc-a6c3-08e78fe21848",
     "showTitle": false,
     "title": ""
    }
   },
   "source": [
    "#### 16)rank the top 5 applicants in each income_category based on the counts of delayed payments, non-delayed payments, and credit card tenure(More likely to get approved)\n"
   ]
  },
  {
   "cell_type": "code",
   "execution_count": 0,
   "metadata": {
    "application/vnd.databricks.v1+cell": {
     "cellMetadata": {
      "byteLimit": 2048000,
      "rowLimit": 10000
     },
     "inputWidgets": {},
     "nuid": "19cc08eb-2594-44d8-9743-5b2f53e2010a",
     "showTitle": false,
     "title": ""
    }
   },
   "outputs": [
    {
     "output_type": "display_data",
     "data": {
      "text/html": [
       "<style scoped>\n",
       "  .table-result-container {\n",
       "    max-height: 300px;\n",
       "    overflow: auto;\n",
       "  }\n",
       "  table, th, td {\n",
       "    border: 1px solid black;\n",
       "    border-collapse: collapse;\n",
       "  }\n",
       "  th, td {\n",
       "    padding: 5px;\n",
       "  }\n",
       "  th {\n",
       "    text-align: left;\n",
       "  }\n",
       "</style><div class='table-result-container'><table class='table-result'><thead style='background-color: white'><tr><th>ID</th><th>income_category</th><th>delay_count</th><th>no_delay_count</th><th>credit_card_tenure</th><th>rank</th></tr></thead><tbody><tr><td>5118386</td><td>Commercial associate</td><td>0</td><td>61</td><td>60</td><td>1</td></tr><tr><td>5054311</td><td>Commercial associate</td><td>0</td><td>61</td><td>60</td><td>1</td></tr><tr><td>5089140</td><td>Commercial associate</td><td>0</td><td>61</td><td>60</td><td>1</td></tr><tr><td>5066716</td><td>Commercial associate</td><td>0</td><td>61</td><td>60</td><td>1</td></tr><tr><td>5041553</td><td>Commercial associate</td><td>0</td><td>60</td><td>59</td><td>2</td></tr><tr><td>5048395</td><td>Commercial associate</td><td>0</td><td>60</td><td>59</td><td>2</td></tr><tr><td>5010556</td><td>Commercial associate</td><td>0</td><td>59</td><td>58</td><td>3</td></tr><tr><td>5045994</td><td>Commercial associate</td><td>0</td><td>59</td><td>58</td><td>3</td></tr><tr><td>5142305</td><td>Commercial associate</td><td>0</td><td>59</td><td>58</td><td>3</td></tr><tr><td>5062195</td><td>Commercial associate</td><td>0</td><td>58</td><td>57</td><td>4</td></tr><tr><td>5113791</td><td>Commercial associate</td><td>0</td><td>58</td><td>57</td><td>4</td></tr><tr><td>5096861</td><td>Commercial associate</td><td>0</td><td>58</td><td>57</td><td>4</td></tr><tr><td>5041557</td><td>Commercial associate</td><td>0</td><td>58</td><td>57</td><td>4</td></tr><tr><td>5096863</td><td>Commercial associate</td><td>0</td><td>58</td><td>57</td><td>4</td></tr><tr><td>5095977</td><td>Commercial associate</td><td>0</td><td>57</td><td>56</td><td>5</td></tr><tr><td>5037293</td><td>Commercial associate</td><td>0</td><td>57</td><td>56</td><td>5</td></tr><tr><td>5090454</td><td>Commercial associate</td><td>0</td><td>57</td><td>56</td><td>5</td></tr><tr><td>5037161</td><td>Commercial associate</td><td>0</td><td>57</td><td>56</td><td>5</td></tr><tr><td>5068905</td><td>Commercial associate</td><td>0</td><td>57</td><td>56</td><td>5</td></tr><tr><td>5095679</td><td>Pensioner</td><td>0</td><td>61</td><td>60</td><td>1</td></tr><tr><td>5010943</td><td>Pensioner</td><td>0</td><td>61</td><td>60</td><td>1</td></tr><tr><td>5105682</td><td>Pensioner</td><td>0</td><td>61</td><td>60</td><td>1</td></tr><tr><td>5037062</td><td>Pensioner</td><td>0</td><td>61</td><td>60</td><td>1</td></tr><tr><td>5068835</td><td>Pensioner</td><td>0</td><td>61</td><td>60</td><td>1</td></tr><tr><td>5139703</td><td>Pensioner</td><td>0</td><td>61</td><td>60</td><td>1</td></tr><tr><td>5090630</td><td>Pensioner</td><td>0</td><td>61</td><td>60</td><td>1</td></tr><tr><td>5097084</td><td>Pensioner</td><td>0</td><td>60</td><td>59</td><td>2</td></tr><tr><td>5067118</td><td>Pensioner</td><td>0</td><td>60</td><td>59</td><td>2</td></tr><tr><td>5062410</td><td>Pensioner</td><td>0</td><td>59</td><td>58</td><td>3</td></tr><tr><td>5145883</td><td>Pensioner</td><td>0</td><td>59</td><td>58</td><td>3</td></tr><tr><td>5091287</td><td>Pensioner</td><td>0</td><td>58</td><td>57</td><td>4</td></tr><tr><td>5023431</td><td>Pensioner</td><td>0</td><td>57</td><td>56</td><td>5</td></tr><tr><td>5023432</td><td>Pensioner</td><td>0</td><td>57</td><td>56</td><td>5</td></tr><tr><td>5037007</td><td>Pensioner</td><td>0</td><td>57</td><td>56</td><td>5</td></tr><tr><td>5048364</td><td>Pensioner</td><td>0</td><td>57</td><td>56</td><td>5</td></tr><tr><td>5041277</td><td>Pensioner</td><td>0</td><td>57</td><td>56</td><td>5</td></tr><tr><td>5041276</td><td>Pensioner</td><td>0</td><td>57</td><td>56</td><td>5</td></tr><tr><td>5036640</td><td>State servant</td><td>0</td><td>61</td><td>60</td><td>1</td></tr><tr><td>5065721</td><td>State servant</td><td>0</td><td>61</td><td>60</td><td>1</td></tr><tr><td>5145977</td><td>State servant</td><td>0</td><td>60</td><td>59</td><td>2</td></tr><tr><td>5113125</td><td>State servant</td><td>0</td><td>60</td><td>59</td><td>2</td></tr><tr><td>5096071</td><td>State servant</td><td>0</td><td>60</td><td>59</td><td>2</td></tr><tr><td>5053742</td><td>State servant</td><td>0</td><td>60</td><td>59</td><td>2</td></tr><tr><td>5065586</td><td>State servant</td><td>0</td><td>60</td><td>59</td><td>2</td></tr><tr><td>5008984</td><td>State servant</td><td>0</td><td>59</td><td>58</td><td>3</td></tr><tr><td>5068652</td><td>State servant</td><td>0</td><td>59</td><td>58</td><td>3</td></tr><tr><td>5047638</td><td>State servant</td><td>0</td><td>57</td><td>56</td><td>4</td></tr><tr><td>5025119</td><td>State servant</td><td>0</td><td>57</td><td>56</td><td>4</td></tr><tr><td>5118486</td><td>State servant</td><td>0</td><td>53</td><td>52</td><td>5</td></tr><tr><td>5146521</td><td>State servant</td><td>0</td><td>53</td><td>52</td><td>5</td></tr><tr><td>5113880</td><td>State servant</td><td>0</td><td>53</td><td>52</td><td>5</td></tr><tr><td>5065728</td><td>State servant</td><td>0</td><td>53</td><td>52</td><td>5</td></tr><tr><td>5029113</td><td>State servant</td><td>0</td><td>53</td><td>52</td><td>5</td></tr><tr><td>5010456</td><td>Student</td><td>1</td><td>36</td><td>36</td><td>1</td></tr><tr><td>5010459</td><td>Student</td><td>4</td><td>36</td><td>39</td><td>2</td></tr><tr><td>5010461</td><td>Student</td><td>4</td><td>32</td><td>35</td><td>3</td></tr><tr><td>5010460</td><td>Student</td><td>4</td><td>30</td><td>33</td><td>4</td></tr><tr><td>5010463</td><td>Student</td><td>4</td><td>26</td><td>29</td><td>5</td></tr><tr><td>5117883</td><td>Working</td><td>0</td><td>61</td><td>60</td><td>1</td></tr><tr><td>5033893</td><td>Working</td><td>0</td><td>61</td><td>60</td><td>1</td></tr><tr><td>5078799</td><td>Working</td><td>0</td><td>61</td><td>60</td><td>1</td></tr><tr><td>5142963</td><td>Working</td><td>0</td><td>61</td><td>60</td><td>1</td></tr><tr><td>5096879</td><td>Working</td><td>0</td><td>61</td><td>60</td><td>1</td></tr><tr><td>5009106</td><td>Working</td><td>0</td><td>61</td><td>60</td><td>1</td></tr><tr><td>5045615</td><td>Working</td><td>0</td><td>61</td><td>60</td><td>1</td></tr><tr><td>5090968</td><td>Working</td><td>0</td><td>61</td><td>60</td><td>1</td></tr><tr><td>5089683</td><td>Working</td><td>0</td><td>61</td><td>60</td><td>1</td></tr><tr><td>5041418</td><td>Working</td><td>0</td><td>61</td><td>60</td><td>1</td></tr><tr><td>5118192</td><td>Working</td><td>0</td><td>61</td><td>60</td><td>1</td></tr><tr><td>5096755</td><td>Working</td><td>0</td><td>60</td><td>59</td><td>2</td></tr><tr><td>5068559</td><td>Working</td><td>0</td><td>60</td><td>59</td><td>2</td></tr><tr><td>5085687</td><td>Working</td><td>0</td><td>60</td><td>59</td><td>2</td></tr><tr><td>5036483</td><td>Working</td><td>0</td><td>60</td><td>59</td><td>2</td></tr><tr><td>5091410</td><td>Working</td><td>0</td><td>60</td><td>59</td><td>2</td></tr><tr><td>5085684</td><td>Working</td><td>0</td><td>60</td><td>59</td><td>2</td></tr><tr><td>5148960</td><td>Working</td><td>0</td><td>59</td><td>58</td><td>3</td></tr><tr><td>5009487</td><td>Working</td><td>0</td><td>59</td><td>58</td><td>3</td></tr><tr><td>5146179</td><td>Working</td><td>0</td><td>59</td><td>58</td><td>3</td></tr><tr><td>5056201</td><td>Working</td><td>0</td><td>59</td><td>58</td><td>3</td></tr><tr><td>5095809</td><td>Working</td><td>0</td><td>59</td><td>58</td><td>3</td></tr><tr><td>5037109</td><td>Working</td><td>0</td><td>59</td><td>58</td><td>3</td></tr><tr><td>5113931</td><td>Working</td><td>0</td><td>59</td><td>58</td><td>3</td></tr><tr><td>5046237</td><td>Working</td><td>0</td><td>59</td><td>58</td><td>3</td></tr><tr><td>5036485</td><td>Working</td><td>0</td><td>59</td><td>58</td><td>3</td></tr><tr><td>5135532</td><td>Working</td><td>0</td><td>58</td><td>57</td><td>4</td></tr><tr><td>5105769</td><td>Working</td><td>0</td><td>58</td><td>57</td><td>4</td></tr><tr><td>5143280</td><td>Working</td><td>0</td><td>58</td><td>57</td><td>4</td></tr><tr><td>5094890</td><td>Working</td><td>0</td><td>58</td><td>57</td><td>4</td></tr><tr><td>5094888</td><td>Working</td><td>0</td><td>58</td><td>57</td><td>4</td></tr><tr><td>5126846</td><td>Working</td><td>0</td><td>58</td><td>57</td><td>4</td></tr><tr><td>5022715</td><td>Working</td><td>0</td><td>58</td><td>57</td><td>4</td></tr><tr><td>5041582</td><td>Working</td><td>0</td><td>58</td><td>57</td><td>4</td></tr><tr><td>5053012</td><td>Working</td><td>0</td><td>58</td><td>57</td><td>4</td></tr><tr><td>5112865</td><td>Working</td><td>0</td><td>58</td><td>57</td><td>4</td></tr><tr><td>5143275</td><td>Working</td><td>0</td><td>58</td><td>57</td><td>4</td></tr><tr><td>5118336</td><td>Working</td><td>0</td><td>58</td><td>57</td><td>4</td></tr><tr><td>5067322</td><td>Working</td><td>0</td><td>58</td><td>57</td><td>4</td></tr><tr><td>5089778</td><td>Working</td><td>0</td><td>57</td><td>56</td><td>5</td></tr><tr><td>5094907</td><td>Working</td><td>0</td><td>57</td><td>56</td><td>5</td></tr><tr><td>5023994</td><td>Working</td><td>0</td><td>57</td><td>56</td><td>5</td></tr><tr><td>5046511</td><td>Working</td><td>0</td><td>57</td><td>56</td><td>5</td></tr><tr><td>5046438</td><td>Working</td><td>0</td><td>57</td><td>56</td><td>5</td></tr><tr><td>5054620</td><td>Working</td><td>0</td><td>57</td><td>56</td><td>5</td></tr><tr><td>5137363</td><td>Working</td><td>0</td><td>57</td><td>56</td><td>5</td></tr><tr><td>5146003</td><td>Working</td><td>0</td><td>57</td><td>56</td><td>5</td></tr></tbody></table></div>"
      ]
     },
     "metadata": {
      "application/vnd.databricks.v1+output": {
       "addedWidgets": {},
       "aggData": [],
       "aggError": "",
       "aggOverflow": false,
       "aggSchema": [],
       "aggSeriesLimitReached": false,
       "aggType": "",
       "arguments": {},
       "columnCustomDisplayInfos": {},
       "data": [
        [
         5118386,
         "Commercial associate",
         0,
         61,
         60,
         1
        ],
        [
         5054311,
         "Commercial associate",
         0,
         61,
         60,
         1
        ],
        [
         5089140,
         "Commercial associate",
         0,
         61,
         60,
         1
        ],
        [
         5066716,
         "Commercial associate",
         0,
         61,
         60,
         1
        ],
        [
         5041553,
         "Commercial associate",
         0,
         60,
         59,
         2
        ],
        [
         5048395,
         "Commercial associate",
         0,
         60,
         59,
         2
        ],
        [
         5010556,
         "Commercial associate",
         0,
         59,
         58,
         3
        ],
        [
         5045994,
         "Commercial associate",
         0,
         59,
         58,
         3
        ],
        [
         5142305,
         "Commercial associate",
         0,
         59,
         58,
         3
        ],
        [
         5062195,
         "Commercial associate",
         0,
         58,
         57,
         4
        ],
        [
         5113791,
         "Commercial associate",
         0,
         58,
         57,
         4
        ],
        [
         5096861,
         "Commercial associate",
         0,
         58,
         57,
         4
        ],
        [
         5041557,
         "Commercial associate",
         0,
         58,
         57,
         4
        ],
        [
         5096863,
         "Commercial associate",
         0,
         58,
         57,
         4
        ],
        [
         5095977,
         "Commercial associate",
         0,
         57,
         56,
         5
        ],
        [
         5037293,
         "Commercial associate",
         0,
         57,
         56,
         5
        ],
        [
         5090454,
         "Commercial associate",
         0,
         57,
         56,
         5
        ],
        [
         5037161,
         "Commercial associate",
         0,
         57,
         56,
         5
        ],
        [
         5068905,
         "Commercial associate",
         0,
         57,
         56,
         5
        ],
        [
         5095679,
         "Pensioner",
         0,
         61,
         60,
         1
        ],
        [
         5010943,
         "Pensioner",
         0,
         61,
         60,
         1
        ],
        [
         5105682,
         "Pensioner",
         0,
         61,
         60,
         1
        ],
        [
         5037062,
         "Pensioner",
         0,
         61,
         60,
         1
        ],
        [
         5068835,
         "Pensioner",
         0,
         61,
         60,
         1
        ],
        [
         5139703,
         "Pensioner",
         0,
         61,
         60,
         1
        ],
        [
         5090630,
         "Pensioner",
         0,
         61,
         60,
         1
        ],
        [
         5097084,
         "Pensioner",
         0,
         60,
         59,
         2
        ],
        [
         5067118,
         "Pensioner",
         0,
         60,
         59,
         2
        ],
        [
         5062410,
         "Pensioner",
         0,
         59,
         58,
         3
        ],
        [
         5145883,
         "Pensioner",
         0,
         59,
         58,
         3
        ],
        [
         5091287,
         "Pensioner",
         0,
         58,
         57,
         4
        ],
        [
         5023431,
         "Pensioner",
         0,
         57,
         56,
         5
        ],
        [
         5023432,
         "Pensioner",
         0,
         57,
         56,
         5
        ],
        [
         5037007,
         "Pensioner",
         0,
         57,
         56,
         5
        ],
        [
         5048364,
         "Pensioner",
         0,
         57,
         56,
         5
        ],
        [
         5041277,
         "Pensioner",
         0,
         57,
         56,
         5
        ],
        [
         5041276,
         "Pensioner",
         0,
         57,
         56,
         5
        ],
        [
         5036640,
         "State servant",
         0,
         61,
         60,
         1
        ],
        [
         5065721,
         "State servant",
         0,
         61,
         60,
         1
        ],
        [
         5145977,
         "State servant",
         0,
         60,
         59,
         2
        ],
        [
         5113125,
         "State servant",
         0,
         60,
         59,
         2
        ],
        [
         5096071,
         "State servant",
         0,
         60,
         59,
         2
        ],
        [
         5053742,
         "State servant",
         0,
         60,
         59,
         2
        ],
        [
         5065586,
         "State servant",
         0,
         60,
         59,
         2
        ],
        [
         5008984,
         "State servant",
         0,
         59,
         58,
         3
        ],
        [
         5068652,
         "State servant",
         0,
         59,
         58,
         3
        ],
        [
         5047638,
         "State servant",
         0,
         57,
         56,
         4
        ],
        [
         5025119,
         "State servant",
         0,
         57,
         56,
         4
        ],
        [
         5118486,
         "State servant",
         0,
         53,
         52,
         5
        ],
        [
         5146521,
         "State servant",
         0,
         53,
         52,
         5
        ],
        [
         5113880,
         "State servant",
         0,
         53,
         52,
         5
        ],
        [
         5065728,
         "State servant",
         0,
         53,
         52,
         5
        ],
        [
         5029113,
         "State servant",
         0,
         53,
         52,
         5
        ],
        [
         5010456,
         "Student",
         1,
         36,
         36,
         1
        ],
        [
         5010459,
         "Student",
         4,
         36,
         39,
         2
        ],
        [
         5010461,
         "Student",
         4,
         32,
         35,
         3
        ],
        [
         5010460,
         "Student",
         4,
         30,
         33,
         4
        ],
        [
         5010463,
         "Student",
         4,
         26,
         29,
         5
        ],
        [
         5117883,
         "Working",
         0,
         61,
         60,
         1
        ],
        [
         5033893,
         "Working",
         0,
         61,
         60,
         1
        ],
        [
         5078799,
         "Working",
         0,
         61,
         60,
         1
        ],
        [
         5142963,
         "Working",
         0,
         61,
         60,
         1
        ],
        [
         5096879,
         "Working",
         0,
         61,
         60,
         1
        ],
        [
         5009106,
         "Working",
         0,
         61,
         60,
         1
        ],
        [
         5045615,
         "Working",
         0,
         61,
         60,
         1
        ],
        [
         5090968,
         "Working",
         0,
         61,
         60,
         1
        ],
        [
         5089683,
         "Working",
         0,
         61,
         60,
         1
        ],
        [
         5041418,
         "Working",
         0,
         61,
         60,
         1
        ],
        [
         5118192,
         "Working",
         0,
         61,
         60,
         1
        ],
        [
         5096755,
         "Working",
         0,
         60,
         59,
         2
        ],
        [
         5068559,
         "Working",
         0,
         60,
         59,
         2
        ],
        [
         5085687,
         "Working",
         0,
         60,
         59,
         2
        ],
        [
         5036483,
         "Working",
         0,
         60,
         59,
         2
        ],
        [
         5091410,
         "Working",
         0,
         60,
         59,
         2
        ],
        [
         5085684,
         "Working",
         0,
         60,
         59,
         2
        ],
        [
         5148960,
         "Working",
         0,
         59,
         58,
         3
        ],
        [
         5009487,
         "Working",
         0,
         59,
         58,
         3
        ],
        [
         5146179,
         "Working",
         0,
         59,
         58,
         3
        ],
        [
         5056201,
         "Working",
         0,
         59,
         58,
         3
        ],
        [
         5095809,
         "Working",
         0,
         59,
         58,
         3
        ],
        [
         5037109,
         "Working",
         0,
         59,
         58,
         3
        ],
        [
         5113931,
         "Working",
         0,
         59,
         58,
         3
        ],
        [
         5046237,
         "Working",
         0,
         59,
         58,
         3
        ],
        [
         5036485,
         "Working",
         0,
         59,
         58,
         3
        ],
        [
         5135532,
         "Working",
         0,
         58,
         57,
         4
        ],
        [
         5105769,
         "Working",
         0,
         58,
         57,
         4
        ],
        [
         5143280,
         "Working",
         0,
         58,
         57,
         4
        ],
        [
         5094890,
         "Working",
         0,
         58,
         57,
         4
        ],
        [
         5094888,
         "Working",
         0,
         58,
         57,
         4
        ],
        [
         5126846,
         "Working",
         0,
         58,
         57,
         4
        ],
        [
         5022715,
         "Working",
         0,
         58,
         57,
         4
        ],
        [
         5041582,
         "Working",
         0,
         58,
         57,
         4
        ],
        [
         5053012,
         "Working",
         0,
         58,
         57,
         4
        ],
        [
         5112865,
         "Working",
         0,
         58,
         57,
         4
        ],
        [
         5143275,
         "Working",
         0,
         58,
         57,
         4
        ],
        [
         5118336,
         "Working",
         0,
         58,
         57,
         4
        ],
        [
         5067322,
         "Working",
         0,
         58,
         57,
         4
        ],
        [
         5089778,
         "Working",
         0,
         57,
         56,
         5
        ],
        [
         5094907,
         "Working",
         0,
         57,
         56,
         5
        ],
        [
         5023994,
         "Working",
         0,
         57,
         56,
         5
        ],
        [
         5046511,
         "Working",
         0,
         57,
         56,
         5
        ],
        [
         5046438,
         "Working",
         0,
         57,
         56,
         5
        ],
        [
         5054620,
         "Working",
         0,
         57,
         56,
         5
        ],
        [
         5137363,
         "Working",
         0,
         57,
         56,
         5
        ],
        [
         5146003,
         "Working",
         0,
         57,
         56,
         5
        ]
       ],
       "datasetInfos": [],
       "dbfsResultPath": null,
       "isJsonSchema": true,
       "metadata": {
        "isDbfsCommandResult": false
       },
       "overflow": false,
       "plotOptions": {
        "customPlotOptions": {},
        "displayType": "table",
        "pivotAggregation": null,
        "pivotColumns": null,
        "xColumns": null,
        "yColumns": null
       },
       "removedWidgets": [],
       "schema": [
        {
         "metadata": "{}",
         "name": "ID",
         "type": "\"integer\""
        },
        {
         "metadata": "{}",
         "name": "income_category",
         "type": "\"string\""
        },
        {
         "metadata": "{}",
         "name": "delay_count",
         "type": "\"long\""
        },
        {
         "metadata": "{}",
         "name": "no_delay_count",
         "type": "\"long\""
        },
        {
         "metadata": "{}",
         "name": "credit_card_tenure",
         "type": "\"integer\""
        },
        {
         "metadata": "{}",
         "name": "rank",
         "type": "\"integer\""
        }
       ],
       "type": "table"
      }
     },
     "output_type": "display_data"
    },
    {
     "output_type": "display_data",
     "data": {
      "text/plain": [
       "Databricks visualization. Run in Databricks to view."
      ]
     },
     "metadata": {
      "application/vnd.databricks.v1.subcommand+json": {
       "baseErrorDetails": null,
       "bindings": {},
       "collapsed": false,
       "command": "WITH payment_counts AS (\n    SELECT ID,income_category,COUNT(CASE WHEN is_delay_month = 'Yes' THEN 1 END) AS delay_count,\n        COUNT(CASE WHEN is_delay_month = 'No' THEN 1 END) AS no_delay_count,\n        (MAX(MONTHS_AGO) - MIN(MONTHS_AGO)) AS credit_card_tenure\n    FROM data \n    GROUP BY ID, income_category\n),\nranked_applicants AS (\n    SELECT \n        ID,\n        income_category,\n        delay_count,\n        no_delay_count,\n        credit_card_tenure,\n        dense_rank() OVER (\n            PARTITION BY income_category \n            ORDER BY delay_count ASC, no_delay_count DESC, credit_card_tenure DESC\n        ) AS rank\n    FROM \n        payment_counts\n)\nSELECT \n    ID,\n    income_category,\n    delay_count,\n    no_delay_count,\n    credit_card_tenure,\n    rank\nFROM \n    ranked_applicants\nWHERE \n    rank <= 5\nORDER BY \n    income_category, rank;\n",
       "commandTitle": "Visualization 1",
       "commandType": "auto",
       "commandVersion": 0,
       "commentThread": [],
       "commentsVisible": false,
       "contentSha256Hex": null,
       "customPlotOptions": {
        "redashChart": [
         {
          "key": "type",
          "value": "TABLE"
         },
         {
          "key": "options",
          "value": {
           "columns": [
            {
             "alignContent": "right",
             "allowHTML": false,
             "allowSearch": false,
             "booleanValues": [
              "false",
              "true"
             ],
             "displayAs": "number",
             "highlightLinks": false,
             "imageHeight": "",
             "imageTitleTemplate": "{{ @ }}",
             "imageUrlTemplate": "{{ @ }}",
             "imageWidth": "",
             "linkOpenInNewTab": true,
             "linkTextTemplate": "{{ @ }}",
             "linkTitleTemplate": "{{ @ }}",
             "linkUrlTemplate": "{{ @ }}",
             "name": "ID",
             "numberFormat": "0",
             "order": 100000,
             "preserveWhitespace": false,
             "title": "ID",
             "type": "integer",
             "useMonospaceFont": false,
             "visible": true
            },
            {
             "alignContent": "left",
             "allowHTML": false,
             "allowSearch": false,
             "booleanValues": [
              "false",
              "true"
             ],
             "displayAs": "string",
             "highlightLinks": false,
             "imageHeight": "",
             "imageTitleTemplate": "{{ @ }}",
             "imageUrlTemplate": "{{ @ }}",
             "imageWidth": "",
             "linkOpenInNewTab": true,
             "linkTextTemplate": "{{ @ }}",
             "linkTitleTemplate": "{{ @ }}",
             "linkUrlTemplate": "{{ @ }}",
             "name": "income_category",
             "order": 100001,
             "preserveWhitespace": false,
             "title": "income_category",
             "type": "string",
             "useMonospaceFont": false,
             "visible": true
            },
            {
             "alignContent": "right",
             "allowHTML": false,
             "allowSearch": false,
             "booleanValues": [
              "false",
              "true"
             ],
             "displayAs": "number",
             "highlightLinks": false,
             "imageHeight": "",
             "imageTitleTemplate": "{{ @ }}",
             "imageUrlTemplate": "{{ @ }}",
             "imageWidth": "",
             "linkOpenInNewTab": true,
             "linkTextTemplate": "{{ @ }}",
             "linkTitleTemplate": "{{ @ }}",
             "linkUrlTemplate": "{{ @ }}",
             "name": "delay_count",
             "numberFormat": "0",
             "order": 100002,
             "preserveWhitespace": false,
             "title": "delay_count",
             "type": "integer",
             "useMonospaceFont": false,
             "visible": true
            },
            {
             "alignContent": "right",
             "allowHTML": false,
             "allowSearch": false,
             "booleanValues": [
              "false",
              "true"
             ],
             "displayAs": "number",
             "highlightLinks": false,
             "imageHeight": "",
             "imageTitleTemplate": "{{ @ }}",
             "imageUrlTemplate": "{{ @ }}",
             "imageWidth": "",
             "linkOpenInNewTab": true,
             "linkTextTemplate": "{{ @ }}",
             "linkTitleTemplate": "{{ @ }}",
             "linkUrlTemplate": "{{ @ }}",
             "name": "no_delay_count",
             "numberFormat": "0",
             "order": 100003,
             "preserveWhitespace": false,
             "title": "no_delay_count",
             "type": "integer",
             "useMonospaceFont": false,
             "visible": true
            },
            {
             "alignContent": "right",
             "allowHTML": false,
             "allowSearch": false,
             "booleanValues": [
              "false",
              "true"
             ],
             "displayAs": "number",
             "highlightLinks": false,
             "imageHeight": "",
             "imageTitleTemplate": "{{ @ }}",
             "imageUrlTemplate": "{{ @ }}",
             "imageWidth": "",
             "linkOpenInNewTab": true,
             "linkTextTemplate": "{{ @ }}",
             "linkTitleTemplate": "{{ @ }}",
             "linkUrlTemplate": "{{ @ }}",
             "name": "credit_card_tenure",
             "numberFormat": "0",
             "order": 100004,
             "preserveWhitespace": false,
             "title": "credit_card_tenure",
             "type": "integer",
             "useMonospaceFont": false,
             "visible": true
            },
            {
             "alignContent": "right",
             "allowHTML": false,
             "allowSearch": false,
             "booleanValues": [
              "false",
              "true"
             ],
             "displayAs": "number",
             "highlightLinks": false,
             "imageHeight": "",
             "imageTitleTemplate": "{{ @ }}",
             "imageUrlTemplate": "{{ @ }}",
             "imageWidth": "",
             "linkOpenInNewTab": true,
             "linkTextTemplate": "{{ @ }}",
             "linkTitleTemplate": "{{ @ }}",
             "linkUrlTemplate": "{{ @ }}",
             "name": "rank",
             "numberFormat": "0",
             "order": 100005,
             "preserveWhitespace": false,
             "title": "rank",
             "type": "integer",
             "useMonospaceFont": false,
             "visible": true
            }
           ],
           "condensed": true,
           "itemsPerPage": 25,
           "paginationSize": "default",
           "version": 2,
           "withRowNumber": false
          }
         }
        ]
       },
       "datasetPreviewNameToCmdIdMap": {},
       "diffDeletes": [],
       "diffInserts": [],
       "displayType": "redashChart",
       "error": null,
       "errorDetails": null,
       "errorSummary": null,
       "errorTraceType": null,
       "finishTime": 0,
       "globalVars": {},
       "guid": "",
       "height": "auto",
       "hideCommandCode": false,
       "hideCommandResult": false,
       "iPythonMetadata": null,
       "inputWidgets": {},
       "isLockedInExamMode": false,
       "latestUser": "a user",
       "latestUserId": null,
       "listResultMetadata": null,
       "metadata": {
        "byteLimit": 2048000,
        "rowLimit": 10000
       },
       "nuid": "414431d6-e28c-4549-94dd-47e98d3bc429",
       "origId": 0,
       "parentHierarchy": [],
       "pivotAggregation": null,
       "pivotColumns": null,
       "position": 27.0,
       "resultDbfsErrorMessage": null,
       "resultDbfsStatus": "INLINED_IN_TREE",
       "results": null,
       "showCommandTitle": false,
       "startTime": 0,
       "state": "finished",
       "streamStates": {},
       "subcommandOptions": {},
       "submitTime": 0,
       "subtype": "tableResultSubCmd.visualization",
       "tableResultIndex": 0,
       "tableResultSettingsMap": null,
       "useConsistentColors": false,
       "version": "CommandV1",
       "width": "auto",
       "workflows": [],
       "xColumns": null,
       "yColumns": null
      }
     },
     "output_type": "display_data"
    }
   ],
   "source": [
    "%sql\n",
    "WITH payment_counts AS (\n",
    "    SELECT ID,income_category,COUNT(CASE WHEN is_delay_month = 'Yes' THEN 1 END) AS delay_count,\n",
    "        COUNT(CASE WHEN is_delay_month = 'No' THEN 1 END) AS no_delay_count,\n",
    "        (MAX(MONTHS_AGO) - MIN(MONTHS_AGO)) AS credit_card_tenure\n",
    "    FROM data \n",
    "    GROUP BY ID, income_category\n",
    "),\n",
    "ranked_applicants AS (\n",
    "    SELECT \n",
    "        ID,\n",
    "        income_category,\n",
    "        delay_count,\n",
    "        no_delay_count,\n",
    "        credit_card_tenure,\n",
    "        dense_rank() OVER (\n",
    "            PARTITION BY income_category \n",
    "            ORDER BY delay_count ASC, no_delay_count DESC, credit_card_tenure DESC\n",
    "        ) AS rank\n",
    "    FROM \n",
    "        payment_counts\n",
    ")\n",
    "SELECT \n",
    "    ID,\n",
    "    income_category,\n",
    "    delay_count,\n",
    "    no_delay_count,\n",
    "    credit_card_tenure,\n",
    "    rank\n",
    "FROM \n",
    "    ranked_applicants\n",
    "WHERE \n",
    "    rank <= 5\n",
    "ORDER BY \n",
    "    income_category, rank;\n"
   ]
  },
  {
   "cell_type": "markdown",
   "metadata": {
    "application/vnd.databricks.v1+cell": {
     "cellMetadata": {
      "byteLimit": 2048000,
      "rowLimit": 10000
     },
     "inputWidgets": {},
     "nuid": "2ea7cd2a-fa0e-4078-8a06-c341a80bd91f",
     "showTitle": false,
     "title": ""
    }
   },
   "source": [
    "#### 17)Identify the Top 3 Delayed Payment Applicants by Gender(More likely to get rejected)"
   ]
  },
  {
   "cell_type": "code",
   "execution_count": 0,
   "metadata": {
    "application/vnd.databricks.v1+cell": {
     "cellMetadata": {
      "byteLimit": 2048000,
      "rowLimit": 10000
     },
     "inputWidgets": {},
     "nuid": "2d41f894-31ff-454e-ac09-e9ba81de2220",
     "showTitle": false,
     "title": ""
    }
   },
   "outputs": [
    {
     "output_type": "display_data",
     "data": {
      "text/html": [
       "<style scoped>\n",
       "  .table-result-container {\n",
       "    max-height: 300px;\n",
       "    overflow: auto;\n",
       "  }\n",
       "  table, th, td {\n",
       "    border: 1px solid black;\n",
       "    border-collapse: collapse;\n",
       "  }\n",
       "  th, td {\n",
       "    padding: 5px;\n",
       "  }\n",
       "  th {\n",
       "    text-align: left;\n",
       "  }\n",
       "</style><div class='table-result-container'><table class='table-result'><thead style='background-color: white'><tr><th>ID</th><th>gender</th><th>delay_count</th><th>rank</th></tr></thead><tbody><tr><td>5048074</td><td>Female</td><td>61</td><td>1</td></tr><tr><td>5048073</td><td>Female</td><td>61</td><td>1</td></tr><tr><td>5053521</td><td>Female</td><td>60</td><td>3</td></tr><tr><td>5143259</td><td>Female</td><td>60</td><td>3</td></tr><tr><td>5145767</td><td>Female</td><td>60</td><td>3</td></tr><tr><td>5028256</td><td>Female</td><td>60</td><td>3</td></tr><tr><td>5024524</td><td>Female</td><td>60</td><td>3</td></tr><tr><td>5085886</td><td>Male</td><td>61</td><td>1</td></tr><tr><td>5021637</td><td>Male</td><td>59</td><td>2</td></tr><tr><td>5051087</td><td>Male</td><td>59</td><td>2</td></tr><tr><td>5118017</td><td>Male</td><td>59</td><td>2</td></tr></tbody></table></div>"
      ]
     },
     "metadata": {
      "application/vnd.databricks.v1+output": {
       "addedWidgets": {},
       "aggData": [],
       "aggError": "",
       "aggOverflow": false,
       "aggSchema": [],
       "aggSeriesLimitReached": false,
       "aggType": "",
       "arguments": {},
       "columnCustomDisplayInfos": {},
       "data": [
        [
         5048074,
         "Female",
         61,
         1
        ],
        [
         5048073,
         "Female",
         61,
         1
        ],
        [
         5053521,
         "Female",
         60,
         3
        ],
        [
         5143259,
         "Female",
         60,
         3
        ],
        [
         5145767,
         "Female",
         60,
         3
        ],
        [
         5028256,
         "Female",
         60,
         3
        ],
        [
         5024524,
         "Female",
         60,
         3
        ],
        [
         5085886,
         "Male",
         61,
         1
        ],
        [
         5021637,
         "Male",
         59,
         2
        ],
        [
         5051087,
         "Male",
         59,
         2
        ],
        [
         5118017,
         "Male",
         59,
         2
        ]
       ],
       "datasetInfos": [],
       "dbfsResultPath": null,
       "isJsonSchema": true,
       "metadata": {
        "isDbfsCommandResult": false
       },
       "overflow": false,
       "plotOptions": {
        "customPlotOptions": {},
        "displayType": "table",
        "pivotAggregation": null,
        "pivotColumns": null,
        "xColumns": null,
        "yColumns": null
       },
       "removedWidgets": [],
       "schema": [
        {
         "metadata": "{}",
         "name": "ID",
         "type": "\"integer\""
        },
        {
         "metadata": "{}",
         "name": "gender",
         "type": "\"string\""
        },
        {
         "metadata": "{}",
         "name": "delay_count",
         "type": "\"long\""
        },
        {
         "metadata": "{}",
         "name": "rank",
         "type": "\"integer\""
        }
       ],
       "type": "table"
      }
     },
     "output_type": "display_data"
    },
    {
     "output_type": "display_data",
     "data": {
      "text/plain": [
       "Databricks visualization. Run in Databricks to view."
      ]
     },
     "metadata": {
      "application/vnd.databricks.v1.subcommand+json": {
       "baseErrorDetails": null,
       "bindings": {},
       "collapsed": false,
       "command": "WITH delayed_payments AS (\n    SELECT \n        ID,\n        gender,\n        COUNT(CASE WHEN is_delay_month = 'Yes' THEN 1 END) AS delay_count\n    FROM \n        data\n    GROUP BY \n        ID, gender\n),\nranked_delays AS (\n    SELECT \n        ID,\n        gender,\n        delay_count,\n        rank() OVER (\n            PARTITION BY gender \n            ORDER BY delay_count desc\n        ) AS rank\n    FROM \n        delayed_payments\n)\nSELECT \n    ID,\n    gender,\n    delay_count,\n    rank\nFROM \n    ranked_delays\nWHERE \n    rank <= 3\nORDER BY \n    gender, rank;\n",
       "commandTitle": "Visualization 1",
       "commandType": "auto",
       "commandVersion": 0,
       "commentThread": [],
       "commentsVisible": false,
       "contentSha256Hex": null,
       "customPlotOptions": {
        "redashChart": [
         {
          "key": "type",
          "value": "TABLE"
         },
         {
          "key": "options",
          "value": {
           "columns": [
            {
             "alignContent": "right",
             "allowHTML": false,
             "allowSearch": false,
             "booleanValues": [
              "false",
              "true"
             ],
             "displayAs": "number",
             "highlightLinks": false,
             "imageHeight": "",
             "imageTitleTemplate": "{{ @ }}",
             "imageUrlTemplate": "{{ @ }}",
             "imageWidth": "",
             "linkOpenInNewTab": true,
             "linkTextTemplate": "{{ @ }}",
             "linkTitleTemplate": "{{ @ }}",
             "linkUrlTemplate": "{{ @ }}",
             "name": "ID",
             "numberFormat": "0",
             "order": 100000,
             "preserveWhitespace": false,
             "title": "ID",
             "type": "integer",
             "useMonospaceFont": false,
             "visible": true
            },
            {
             "alignContent": "left",
             "allowHTML": false,
             "allowSearch": false,
             "booleanValues": [
              "false",
              "true"
             ],
             "displayAs": "string",
             "highlightLinks": false,
             "imageHeight": "",
             "imageTitleTemplate": "{{ @ }}",
             "imageUrlTemplate": "{{ @ }}",
             "imageWidth": "",
             "linkOpenInNewTab": true,
             "linkTextTemplate": "{{ @ }}",
             "linkTitleTemplate": "{{ @ }}",
             "linkUrlTemplate": "{{ @ }}",
             "name": "gender",
             "order": 100001,
             "preserveWhitespace": false,
             "title": "gender",
             "type": "string",
             "useMonospaceFont": false,
             "visible": true
            },
            {
             "alignContent": "right",
             "allowHTML": false,
             "allowSearch": false,
             "booleanValues": [
              "false",
              "true"
             ],
             "displayAs": "number",
             "highlightLinks": false,
             "imageHeight": "",
             "imageTitleTemplate": "{{ @ }}",
             "imageUrlTemplate": "{{ @ }}",
             "imageWidth": "",
             "linkOpenInNewTab": true,
             "linkTextTemplate": "{{ @ }}",
             "linkTitleTemplate": "{{ @ }}",
             "linkUrlTemplate": "{{ @ }}",
             "name": "delay_count",
             "numberFormat": "0",
             "order": 100002,
             "preserveWhitespace": false,
             "title": "delay_count",
             "type": "integer",
             "useMonospaceFont": false,
             "visible": true
            },
            {
             "alignContent": "right",
             "allowHTML": false,
             "allowSearch": false,
             "booleanValues": [
              "false",
              "true"
             ],
             "displayAs": "number",
             "highlightLinks": false,
             "imageHeight": "",
             "imageTitleTemplate": "{{ @ }}",
             "imageUrlTemplate": "{{ @ }}",
             "imageWidth": "",
             "linkOpenInNewTab": true,
             "linkTextTemplate": "{{ @ }}",
             "linkTitleTemplate": "{{ @ }}",
             "linkUrlTemplate": "{{ @ }}",
             "name": "rank",
             "numberFormat": "0",
             "order": 100003,
             "preserveWhitespace": false,
             "title": "rank",
             "type": "integer",
             "useMonospaceFont": false,
             "visible": true
            }
           ],
           "condensed": true,
           "itemsPerPage": 25,
           "paginationSize": "default",
           "version": 2,
           "withRowNumber": false
          }
         }
        ]
       },
       "datasetPreviewNameToCmdIdMap": {},
       "diffDeletes": [],
       "diffInserts": [],
       "displayType": "redashChart",
       "error": null,
       "errorDetails": null,
       "errorSummary": null,
       "errorTraceType": null,
       "finishTime": 0,
       "globalVars": {},
       "guid": "",
       "height": "auto",
       "hideCommandCode": false,
       "hideCommandResult": false,
       "iPythonMetadata": null,
       "inputWidgets": {},
       "isLockedInExamMode": false,
       "latestUser": "a user",
       "latestUserId": null,
       "listResultMetadata": null,
       "metadata": {
        "byteLimit": 2048000,
        "rowLimit": 10000
       },
       "nuid": "d7f5b4bc-df15-44b6-9666-dd850925a529",
       "origId": 0,
       "parentHierarchy": [],
       "pivotAggregation": null,
       "pivotColumns": null,
       "position": 28.0,
       "resultDbfsErrorMessage": null,
       "resultDbfsStatus": "INLINED_IN_TREE",
       "results": null,
       "showCommandTitle": false,
       "startTime": 0,
       "state": "finished",
       "streamStates": {},
       "subcommandOptions": {},
       "submitTime": 0,
       "subtype": "tableResultSubCmd.visualization",
       "tableResultIndex": 0,
       "tableResultSettingsMap": null,
       "useConsistentColors": false,
       "version": "CommandV1",
       "width": "auto",
       "workflows": [],
       "xColumns": null,
       "yColumns": null
      }
     },
     "output_type": "display_data"
    }
   ],
   "source": [
    "%sql\n",
    "WITH delayed_payments AS (\n",
    "    SELECT \n",
    "        ID,\n",
    "        gender,\n",
    "        COUNT(CASE WHEN is_delay_month = 'Yes' THEN 1 END) AS delay_count\n",
    "    FROM \n",
    "        data\n",
    "    GROUP BY \n",
    "        ID, gender\n",
    "),\n",
    "ranked_delays AS (\n",
    "    SELECT \n",
    "        ID,\n",
    "        gender,\n",
    "        delay_count,\n",
    "        rank() OVER (\n",
    "            PARTITION BY gender \n",
    "            ORDER BY delay_count desc\n",
    "        ) AS rank\n",
    "    FROM \n",
    "        delayed_payments\n",
    ")\n",
    "SELECT \n",
    "    ID,\n",
    "    gender,\n",
    "    delay_count,\n",
    "    rank\n",
    "FROM \n",
    "    ranked_delays\n",
    "WHERE \n",
    "    rank <= 3\n",
    "ORDER BY \n",
    "    gender, rank;\n"
   ]
  },
  {
   "cell_type": "markdown",
   "metadata": {
    "application/vnd.databricks.v1+cell": {
     "cellMetadata": {
      "byteLimit": 2048000,
      "rowLimit": 10000
     },
     "inputWidgets": {},
     "nuid": "d3573006-2f90-4969-9eb2-f92388dabf35",
     "showTitle": false,
     "title": ""
    }
   },
   "source": [
    "#### 18)Determine the Top Applicants with the Longest Credit Card Tenure"
   ]
  },
  {
   "cell_type": "code",
   "execution_count": 0,
   "metadata": {
    "application/vnd.databricks.v1+cell": {
     "cellMetadata": {
      "byteLimit": 2048000,
      "rowLimit": 10000
     },
     "inputWidgets": {},
     "nuid": "adef5fcf-02bd-4097-82a4-581245933e4d",
     "showTitle": false,
     "title": ""
    }
   },
   "outputs": [
    {
     "output_type": "display_data",
     "data": {
      "text/html": [
       "<style scoped>\n",
       "  .table-result-container {\n",
       "    max-height: 300px;\n",
       "    overflow: auto;\n",
       "  }\n",
       "  table, th, td {\n",
       "    border: 1px solid black;\n",
       "    border-collapse: collapse;\n",
       "  }\n",
       "  th, td {\n",
       "    padding: 5px;\n",
       "  }\n",
       "  th {\n",
       "    text-align: left;\n",
       "  }\n",
       "</style><div class='table-result-container'><table class='table-result'><thead style='background-color: white'><tr><th>ID</th><th>income_category</th><th>credit_card_tenure</th><th>rank</th></tr></thead><tbody><tr><td>5053221</td><td>Commercial associate</td><td>60</td><td>1</td></tr><tr><td>5041979</td><td>Commercial associate</td><td>60</td><td>2</td></tr><tr><td>5116236</td><td>Commercial associate</td><td>60</td><td>3</td></tr><tr><td>5061810</td><td>Commercial associate</td><td>60</td><td>4</td></tr><tr><td>5010021</td><td>Commercial associate</td><td>60</td><td>5</td></tr><tr><td>5095679</td><td>Pensioner</td><td>60</td><td>1</td></tr><tr><td>5010943</td><td>Pensioner</td><td>60</td><td>2</td></tr><tr><td>5112884</td><td>Pensioner</td><td>60</td><td>3</td></tr><tr><td>5041536</td><td>Pensioner</td><td>60</td><td>4</td></tr><tr><td>5105682</td><td>Pensioner</td><td>60</td><td>5</td></tr><tr><td>5037153</td><td>State servant</td><td>60</td><td>1</td></tr><tr><td>5062618</td><td>State servant</td><td>60</td><td>2</td></tr><tr><td>5112636</td><td>State servant</td><td>60</td><td>3</td></tr><tr><td>5033813</td><td>State servant</td><td>60</td><td>4</td></tr><tr><td>5104906</td><td>State servant</td><td>60</td><td>5</td></tr><tr><td>5010458</td><td>Student</td><td>49</td><td>1</td></tr><tr><td>5010459</td><td>Student</td><td>39</td><td>2</td></tr><tr><td>5010457</td><td>Student</td><td>39</td><td>3</td></tr><tr><td>5010456</td><td>Student</td><td>36</td><td>4</td></tr><tr><td>5010461</td><td>Student</td><td>35</td><td>5</td></tr><tr><td>5117883</td><td>Working</td><td>60</td><td>1</td></tr><tr><td>5143365</td><td>Working</td><td>60</td><td>2</td></tr><tr><td>5068574</td><td>Working</td><td>60</td><td>3</td></tr><tr><td>5067991</td><td>Working</td><td>60</td><td>4</td></tr><tr><td>5033893</td><td>Working</td><td>60</td><td>5</td></tr></tbody></table></div>"
      ]
     },
     "metadata": {
      "application/vnd.databricks.v1+output": {
       "addedWidgets": {},
       "aggData": [],
       "aggError": "",
       "aggOverflow": false,
       "aggSchema": [],
       "aggSeriesLimitReached": false,
       "aggType": "",
       "arguments": {},
       "columnCustomDisplayInfos": {},
       "data": [
        [
         5053221,
         "Commercial associate",
         60,
         1
        ],
        [
         5041979,
         "Commercial associate",
         60,
         2
        ],
        [
         5116236,
         "Commercial associate",
         60,
         3
        ],
        [
         5061810,
         "Commercial associate",
         60,
         4
        ],
        [
         5010021,
         "Commercial associate",
         60,
         5
        ],
        [
         5095679,
         "Pensioner",
         60,
         1
        ],
        [
         5010943,
         "Pensioner",
         60,
         2
        ],
        [
         5112884,
         "Pensioner",
         60,
         3
        ],
        [
         5041536,
         "Pensioner",
         60,
         4
        ],
        [
         5105682,
         "Pensioner",
         60,
         5
        ],
        [
         5037153,
         "State servant",
         60,
         1
        ],
        [
         5062618,
         "State servant",
         60,
         2
        ],
        [
         5112636,
         "State servant",
         60,
         3
        ],
        [
         5033813,
         "State servant",
         60,
         4
        ],
        [
         5104906,
         "State servant",
         60,
         5
        ],
        [
         5010458,
         "Student",
         49,
         1
        ],
        [
         5010459,
         "Student",
         39,
         2
        ],
        [
         5010457,
         "Student",
         39,
         3
        ],
        [
         5010456,
         "Student",
         36,
         4
        ],
        [
         5010461,
         "Student",
         35,
         5
        ],
        [
         5117883,
         "Working",
         60,
         1
        ],
        [
         5143365,
         "Working",
         60,
         2
        ],
        [
         5068574,
         "Working",
         60,
         3
        ],
        [
         5067991,
         "Working",
         60,
         4
        ],
        [
         5033893,
         "Working",
         60,
         5
        ]
       ],
       "datasetInfos": [],
       "dbfsResultPath": null,
       "isJsonSchema": true,
       "metadata": {
        "isDbfsCommandResult": false
       },
       "overflow": false,
       "plotOptions": {
        "customPlotOptions": {},
        "displayType": "table",
        "pivotAggregation": null,
        "pivotColumns": null,
        "xColumns": null,
        "yColumns": null
       },
       "removedWidgets": [],
       "schema": [
        {
         "metadata": "{}",
         "name": "ID",
         "type": "\"integer\""
        },
        {
         "metadata": "{}",
         "name": "income_category",
         "type": "\"string\""
        },
        {
         "metadata": "{}",
         "name": "credit_card_tenure",
         "type": "\"integer\""
        },
        {
         "metadata": "{}",
         "name": "rank",
         "type": "\"integer\""
        }
       ],
       "type": "table"
      }
     },
     "output_type": "display_data"
    },
    {
     "output_type": "display_data",
     "data": {
      "text/plain": [
       "Databricks visualization. Run in Databricks to view."
      ]
     },
     "metadata": {
      "application/vnd.databricks.v1.subcommand+json": {
       "baseErrorDetails": null,
       "bindings": {},
       "collapsed": false,
       "command": "WITH tenure_data AS (\n    SELECT \n        ID,\n        income_category,\n        (MAX(MONTHS_AGO) - MIN(MONTHS_AGO)) AS credit_card_tenure\n    FROM \n        data\n    GROUP BY \n        ID, income_category\n),\nranked_tenure AS (\n    SELECT \n        ID,\n        income_category,\n        credit_card_tenure,\n        ROW_NUMBER() OVER (\n            PARTITION BY income_category \n            ORDER BY credit_card_tenure DESC\n        ) AS rank\n    FROM \n        tenure_data\n)\nSELECT \n    ID,\n    income_category,\n    credit_card_tenure,\n    rank\nFROM \n    ranked_tenure\nWHERE \n    rank <= 5\nORDER BY \n    income_category, rank;\n",
       "commandTitle": "Visualization 1",
       "commandType": "auto",
       "commandVersion": 0,
       "commentThread": [],
       "commentsVisible": false,
       "contentSha256Hex": null,
       "customPlotOptions": {
        "redashChart": [
         {
          "key": "type",
          "value": "TABLE"
         },
         {
          "key": "options",
          "value": {
           "columns": [
            {
             "alignContent": "right",
             "allowHTML": false,
             "allowSearch": false,
             "booleanValues": [
              "false",
              "true"
             ],
             "displayAs": "number",
             "highlightLinks": false,
             "imageHeight": "",
             "imageTitleTemplate": "{{ @ }}",
             "imageUrlTemplate": "{{ @ }}",
             "imageWidth": "",
             "linkOpenInNewTab": true,
             "linkTextTemplate": "{{ @ }}",
             "linkTitleTemplate": "{{ @ }}",
             "linkUrlTemplate": "{{ @ }}",
             "name": "ID",
             "numberFormat": "0",
             "order": 100000,
             "preserveWhitespace": false,
             "title": "ID",
             "type": "integer",
             "useMonospaceFont": false,
             "visible": true
            },
            {
             "alignContent": "left",
             "allowHTML": false,
             "allowSearch": false,
             "booleanValues": [
              "false",
              "true"
             ],
             "displayAs": "string",
             "highlightLinks": false,
             "imageHeight": "",
             "imageTitleTemplate": "{{ @ }}",
             "imageUrlTemplate": "{{ @ }}",
             "imageWidth": "",
             "linkOpenInNewTab": true,
             "linkTextTemplate": "{{ @ }}",
             "linkTitleTemplate": "{{ @ }}",
             "linkUrlTemplate": "{{ @ }}",
             "name": "income_category",
             "order": 100001,
             "preserveWhitespace": false,
             "title": "income_category",
             "type": "string",
             "useMonospaceFont": false,
             "visible": true
            },
            {
             "alignContent": "right",
             "allowHTML": false,
             "allowSearch": false,
             "booleanValues": [
              "false",
              "true"
             ],
             "displayAs": "number",
             "highlightLinks": false,
             "imageHeight": "",
             "imageTitleTemplate": "{{ @ }}",
             "imageUrlTemplate": "{{ @ }}",
             "imageWidth": "",
             "linkOpenInNewTab": true,
             "linkTextTemplate": "{{ @ }}",
             "linkTitleTemplate": "{{ @ }}",
             "linkUrlTemplate": "{{ @ }}",
             "name": "credit_card_tenure",
             "numberFormat": "0",
             "order": 100002,
             "preserveWhitespace": false,
             "title": "credit_card_tenure",
             "type": "integer",
             "useMonospaceFont": false,
             "visible": true
            },
            {
             "alignContent": "right",
             "allowHTML": false,
             "allowSearch": false,
             "booleanValues": [
              "false",
              "true"
             ],
             "displayAs": "number",
             "highlightLinks": false,
             "imageHeight": "",
             "imageTitleTemplate": "{{ @ }}",
             "imageUrlTemplate": "{{ @ }}",
             "imageWidth": "",
             "linkOpenInNewTab": true,
             "linkTextTemplate": "{{ @ }}",
             "linkTitleTemplate": "{{ @ }}",
             "linkUrlTemplate": "{{ @ }}",
             "name": "rank",
             "numberFormat": "0",
             "order": 100003,
             "preserveWhitespace": false,
             "title": "rank",
             "type": "integer",
             "useMonospaceFont": false,
             "visible": true
            }
           ],
           "condensed": true,
           "itemsPerPage": 25,
           "paginationSize": "default",
           "version": 2,
           "withRowNumber": false
          }
         }
        ]
       },
       "datasetPreviewNameToCmdIdMap": {},
       "diffDeletes": [],
       "diffInserts": [],
       "displayType": "redashChart",
       "error": null,
       "errorDetails": null,
       "errorSummary": null,
       "errorTraceType": null,
       "finishTime": 0,
       "globalVars": {},
       "guid": "",
       "height": "auto",
       "hideCommandCode": false,
       "hideCommandResult": false,
       "iPythonMetadata": null,
       "inputWidgets": {},
       "isLockedInExamMode": false,
       "latestUser": "a user",
       "latestUserId": null,
       "listResultMetadata": null,
       "metadata": {
        "byteLimit": 2048000,
        "rowLimit": 10000
       },
       "nuid": "bef1ed7d-2319-4c2c-85cf-c3da44761c3d",
       "origId": 0,
       "parentHierarchy": [],
       "pivotAggregation": null,
       "pivotColumns": null,
       "position": 29.0,
       "resultDbfsErrorMessage": null,
       "resultDbfsStatus": "INLINED_IN_TREE",
       "results": null,
       "showCommandTitle": false,
       "startTime": 0,
       "state": "finished",
       "streamStates": {},
       "subcommandOptions": {},
       "submitTime": 0,
       "subtype": "tableResultSubCmd.visualization",
       "tableResultIndex": 0,
       "tableResultSettingsMap": null,
       "useConsistentColors": false,
       "version": "CommandV1",
       "width": "auto",
       "workflows": [],
       "xColumns": null,
       "yColumns": null
      }
     },
     "output_type": "display_data"
    }
   ],
   "source": [
    "%sql\n",
    "WITH tenure_data AS (\n",
    "    SELECT \n",
    "        ID,\n",
    "        income_category,\n",
    "        (MAX(MONTHS_AGO) - MIN(MONTHS_AGO)) AS credit_card_tenure\n",
    "    FROM \n",
    "        data\n",
    "    GROUP BY \n",
    "        ID, income_category\n",
    "),\n",
    "ranked_tenure AS (\n",
    "    SELECT \n",
    "        ID,\n",
    "        income_category,\n",
    "        credit_card_tenure,\n",
    "        ROW_NUMBER() OVER (\n",
    "            PARTITION BY income_category \n",
    "            ORDER BY credit_card_tenure DESC\n",
    "        ) AS rank\n",
    "    FROM \n",
    "        tenure_data\n",
    ")\n",
    "SELECT \n",
    "    ID,\n",
    "    income_category,\n",
    "    credit_card_tenure,\n",
    "    rank\n",
    "FROM \n",
    "    ranked_tenure\n",
    "WHERE \n",
    "    rank <= 5\n",
    "ORDER BY \n",
    "    income_category, rank;\n"
   ]
  },
  {
   "cell_type": "markdown",
   "metadata": {
    "application/vnd.databricks.v1+cell": {
     "cellMetadata": {
      "byteLimit": 2048000,
      "rowLimit": 10000
     },
     "inputWidgets": {},
     "nuid": "b13c31c8-692e-4463-8f01-77c9a35fab80",
     "showTitle": false,
     "title": ""
    }
   },
   "source": [
    "#### 19)Find the Percentage of Each Status per Income Category"
   ]
  },
  {
   "cell_type": "code",
   "execution_count": 0,
   "metadata": {
    "application/vnd.databricks.v1+cell": {
     "cellMetadata": {
      "byteLimit": 2048000,
      "rowLimit": 10000
     },
     "inputWidgets": {},
     "nuid": "302a76ca-d8bc-403b-8f00-c8b00b0f1b6f",
     "showTitle": false,
     "title": ""
    }
   },
   "outputs": [
    {
     "output_type": "display_data",
     "data": {
      "text/html": [
       "<style scoped>\n",
       "  .table-result-container {\n",
       "    max-height: 300px;\n",
       "    overflow: auto;\n",
       "  }\n",
       "  table, th, td {\n",
       "    border: 1px solid black;\n",
       "    border-collapse: collapse;\n",
       "  }\n",
       "  th, td {\n",
       "    padding: 5px;\n",
       "  }\n",
       "  th {\n",
       "    text-align: left;\n",
       "  }\n",
       "</style><div class='table-result-container'><table class='table-result'><thead style='background-color: white'><tr><th>income_category</th><th>STATUS</th><th>status_count</th><th>percentage</th></tr></thead><tbody><tr><td>Commercial associate</td><td>0</td><td>7380</td><td>42.16901891320496</td></tr><tr><td>Commercial associate</td><td>X</td><td>4603</td><td>26.30135420833095</td></tr><tr><td>Commercial associate</td><td>C</td><td>4162</td><td>23.78149820010285</td></tr><tr><td>Commercial associate</td><td>1</td><td>1057</td><td>6.03965487686418</td></tr><tr><td>Commercial associate</td><td>2</td><td>129</td><td>0.73710073710074</td></tr><tr><td>Commercial associate</td><td>3</td><td>65</td><td>0.37140734815153</td></tr><tr><td>Commercial associate</td><td>4</td><td>56</td><td>0.31998171533055</td></tr><tr><td>Commercial associate</td><td>5</td><td>49</td><td>0.27998400091423</td></tr><tr><td>Pensioner</td><td>0</td><td>5393</td><td>42.47460029928330</td></tr><tr><td>Pensioner</td><td>X</td><td>3372</td><td>26.55745451681500</td></tr><tr><td>Pensioner</td><td>C</td><td>3059</td><td>24.09230526896117</td></tr><tr><td>Pensioner</td><td>1</td><td>607</td><td>4.78065684807435</td></tr><tr><td>Pensioner</td><td>2</td><td>121</td><td>0.95298101913838</td></tr><tr><td>Pensioner</td><td>3</td><td>67</td><td>0.52768370481216</td></tr><tr><td>Pensioner</td><td>4</td><td>40</td><td>0.31503504764905</td></tr><tr><td>Pensioner</td><td>5</td><td>38</td><td>0.29928329526660</td></tr><tr><td>State servant</td><td>0</td><td>2636</td><td>42.48871695680206</td></tr><tr><td>State servant</td><td>X</td><td>1643</td><td>26.48291424887170</td></tr><tr><td>State servant</td><td>C</td><td>1478</td><td>23.82333978078659</td></tr><tr><td>State servant</td><td>1</td><td>380</td><td>6.12508059316570</td></tr><tr><td>State servant</td><td>2</td><td>32</td><td>0.51579626047711</td></tr><tr><td>State servant</td><td>3</td><td>16</td><td>0.25789813023856</td></tr><tr><td>State servant</td><td>5</td><td>11</td><td>0.17730496453901</td></tr><tr><td>State servant</td><td>4</td><td>8</td><td>0.12894906511928</td></tr><tr><td>Student</td><td>0</td><td>11</td><td>37.93103448275862</td></tr><tr><td>Student</td><td>C</td><td>9</td><td>31.03448275862069</td></tr><tr><td>Student</td><td>X</td><td>8</td><td>27.58620689655172</td></tr><tr><td>Student</td><td>1</td><td>1</td><td>3.44827586206897</td></tr><tr><td>Working</td><td>0</td><td>16543</td><td>43.03254168509221</td></tr><tr><td>Working</td><td>X</td><td>10022</td><td>26.06976562703223</td></tr><tr><td>Working</td><td>C</td><td>9242</td><td>24.04078765965195</td></tr><tr><td>Working</td><td>1</td><td>2104</td><td>5.47303800431808</td></tr><tr><td>Working</td><td>2</td><td>273</td><td>0.71014228858310</td></tr><tr><td>Working</td><td>3</td><td>100</td><td>0.26012538043337</td></tr><tr><td>Working</td><td>5</td><td>82</td><td>0.21330281195536</td></tr><tr><td>Working</td><td>4</td><td>77</td><td>0.20029654293369</td></tr></tbody></table></div>"
      ]
     },
     "metadata": {
      "application/vnd.databricks.v1+output": {
       "addedWidgets": {},
       "aggData": [],
       "aggError": "",
       "aggOverflow": false,
       "aggSchema": [],
       "aggSeriesLimitReached": false,
       "aggType": "",
       "arguments": {},
       "columnCustomDisplayInfos": {},
       "data": [
        [
         "Commercial associate",
         "0",
         7380,
         "42.16901891320496"
        ],
        [
         "Commercial associate",
         "X",
         4603,
         "26.30135420833095"
        ],
        [
         "Commercial associate",
         "C",
         4162,
         "23.78149820010285"
        ],
        [
         "Commercial associate",
         "1",
         1057,
         "6.03965487686418"
        ],
        [
         "Commercial associate",
         "2",
         129,
         "0.73710073710074"
        ],
        [
         "Commercial associate",
         "3",
         65,
         "0.37140734815153"
        ],
        [
         "Commercial associate",
         "4",
         56,
         "0.31998171533055"
        ],
        [
         "Commercial associate",
         "5",
         49,
         "0.27998400091423"
        ],
        [
         "Pensioner",
         "0",
         5393,
         "42.47460029928330"
        ],
        [
         "Pensioner",
         "X",
         3372,
         "26.55745451681500"
        ],
        [
         "Pensioner",
         "C",
         3059,
         "24.09230526896117"
        ],
        [
         "Pensioner",
         "1",
         607,
         "4.78065684807435"
        ],
        [
         "Pensioner",
         "2",
         121,
         "0.95298101913838"
        ],
        [
         "Pensioner",
         "3",
         67,
         "0.52768370481216"
        ],
        [
         "Pensioner",
         "4",
         40,
         "0.31503504764905"
        ],
        [
         "Pensioner",
         "5",
         38,
         "0.29928329526660"
        ],
        [
         "State servant",
         "0",
         2636,
         "42.48871695680206"
        ],
        [
         "State servant",
         "X",
         1643,
         "26.48291424887170"
        ],
        [
         "State servant",
         "C",
         1478,
         "23.82333978078659"
        ],
        [
         "State servant",
         "1",
         380,
         "6.12508059316570"
        ],
        [
         "State servant",
         "2",
         32,
         "0.51579626047711"
        ],
        [
         "State servant",
         "3",
         16,
         "0.25789813023856"
        ],
        [
         "State servant",
         "5",
         11,
         "0.17730496453901"
        ],
        [
         "State servant",
         "4",
         8,
         "0.12894906511928"
        ],
        [
         "Student",
         "0",
         11,
         "37.93103448275862"
        ],
        [
         "Student",
         "C",
         9,
         "31.03448275862069"
        ],
        [
         "Student",
         "X",
         8,
         "27.58620689655172"
        ],
        [
         "Student",
         "1",
         1,
         "3.44827586206897"
        ],
        [
         "Working",
         "0",
         16543,
         "43.03254168509221"
        ],
        [
         "Working",
         "X",
         10022,
         "26.06976562703223"
        ],
        [
         "Working",
         "C",
         9242,
         "24.04078765965195"
        ],
        [
         "Working",
         "1",
         2104,
         "5.47303800431808"
        ],
        [
         "Working",
         "2",
         273,
         "0.71014228858310"
        ],
        [
         "Working",
         "3",
         100,
         "0.26012538043337"
        ],
        [
         "Working",
         "5",
         82,
         "0.21330281195536"
        ],
        [
         "Working",
         "4",
         77,
         "0.20029654293369"
        ]
       ],
       "datasetInfos": [],
       "dbfsResultPath": null,
       "isJsonSchema": true,
       "metadata": {
        "isDbfsCommandResult": false
       },
       "overflow": false,
       "plotOptions": {
        "customPlotOptions": {},
        "displayType": "table",
        "pivotAggregation": null,
        "pivotColumns": null,
        "xColumns": null,
        "yColumns": null
       },
       "removedWidgets": [],
       "schema": [
        {
         "metadata": "{}",
         "name": "income_category",
         "type": "\"string\""
        },
        {
         "metadata": "{}",
         "name": "STATUS",
         "type": "\"string\""
        },
        {
         "metadata": "{}",
         "name": "status_count",
         "type": "\"long\""
        },
        {
         "metadata": "{}",
         "name": "percentage",
         "type": "\"decimal(38,14)\""
        }
       ],
       "type": "table"
      }
     },
     "output_type": "display_data"
    },
    {
     "output_type": "display_data",
     "data": {
      "text/plain": [
       "Databricks visualization. Run in Databricks to view."
      ]
     },
     "metadata": {
      "application/vnd.databricks.v1.subcommand+json": {
       "baseErrorDetails": null,
       "bindings": {},
       "collapsed": false,
       "command": "WITH status_counts AS (\n    SELECT \n        income_category,\n        STATUS,\n        COUNT(DISTINCT ID) AS status_count\n    FROM \n        data\n    GROUP BY \n        income_category, STATUS\n),\nstatus_percentages AS (\n    SELECT \n        income_category,\n        STATUS,\n        status_count,\n        (status_count * 100.0 / SUM(status_count) OVER (PARTITION BY income_category)) AS percentage\n    FROM \n        status_counts\n)\nSELECT \n    income_category,\n    STATUS,\n    status_count,\n    percentage\nFROM \n    status_percentages\nORDER BY \n    income_category, percentage DESC;\n",
       "commandTitle": "Visualization 1",
       "commandType": "auto",
       "commandVersion": 0,
       "commentThread": [],
       "commentsVisible": false,
       "contentSha256Hex": null,
       "customPlotOptions": {
        "redashChart": [
         {
          "key": "type",
          "value": "TABLE"
         },
         {
          "key": "options",
          "value": {
           "columns": [
            {
             "alignContent": "left",
             "allowHTML": false,
             "allowSearch": false,
             "booleanValues": [
              "false",
              "true"
             ],
             "displayAs": "string",
             "highlightLinks": false,
             "imageHeight": "",
             "imageTitleTemplate": "{{ @ }}",
             "imageUrlTemplate": "{{ @ }}",
             "imageWidth": "",
             "linkOpenInNewTab": true,
             "linkTextTemplate": "{{ @ }}",
             "linkTitleTemplate": "{{ @ }}",
             "linkUrlTemplate": "{{ @ }}",
             "name": "income_category",
             "order": 100000,
             "preserveWhitespace": false,
             "title": "income_category",
             "type": "string",
             "useMonospaceFont": false,
             "visible": true
            },
            {
             "alignContent": "left",
             "allowHTML": false,
             "allowSearch": false,
             "booleanValues": [
              "false",
              "true"
             ],
             "displayAs": "string",
             "highlightLinks": false,
             "imageHeight": "",
             "imageTitleTemplate": "{{ @ }}",
             "imageUrlTemplate": "{{ @ }}",
             "imageWidth": "",
             "linkOpenInNewTab": true,
             "linkTextTemplate": "{{ @ }}",
             "linkTitleTemplate": "{{ @ }}",
             "linkUrlTemplate": "{{ @ }}",
             "name": "STATUS",
             "order": 100001,
             "preserveWhitespace": false,
             "title": "STATUS",
             "type": "string",
             "useMonospaceFont": false,
             "visible": true
            },
            {
             "alignContent": "right",
             "allowHTML": false,
             "allowSearch": false,
             "booleanValues": [
              "false",
              "true"
             ],
             "displayAs": "number",
             "highlightLinks": false,
             "imageHeight": "",
             "imageTitleTemplate": "{{ @ }}",
             "imageUrlTemplate": "{{ @ }}",
             "imageWidth": "",
             "linkOpenInNewTab": true,
             "linkTextTemplate": "{{ @ }}",
             "linkTitleTemplate": "{{ @ }}",
             "linkUrlTemplate": "{{ @ }}",
             "name": "status_count",
             "numberFormat": "0",
             "order": 100002,
             "preserveWhitespace": false,
             "title": "status_count",
             "type": "integer",
             "useMonospaceFont": false,
             "visible": true
            },
            {
             "alignContent": "right",
             "allowHTML": false,
             "allowSearch": false,
             "booleanValues": [
              "false",
              "true"
             ],
             "displayAs": "number",
             "highlightLinks": false,
             "imageHeight": "",
             "imageTitleTemplate": "{{ @ }}",
             "imageUrlTemplate": "{{ @ }}",
             "imageWidth": "",
             "linkOpenInNewTab": true,
             "linkTextTemplate": "{{ @ }}",
             "linkTitleTemplate": "{{ @ }}",
             "linkUrlTemplate": "{{ @ }}",
             "name": "percentage",
             "numberFormat": "0.00",
             "order": 100003,
             "preserveWhitespace": false,
             "title": "percentage",
             "type": "float",
             "useMonospaceFont": false,
             "visible": true
            }
           ],
           "condensed": true,
           "itemsPerPage": 25,
           "paginationSize": "default",
           "version": 2,
           "withRowNumber": false
          }
         }
        ]
       },
       "datasetPreviewNameToCmdIdMap": {},
       "diffDeletes": [],
       "diffInserts": [],
       "displayType": "redashChart",
       "error": null,
       "errorDetails": null,
       "errorSummary": null,
       "errorTraceType": null,
       "finishTime": 0,
       "globalVars": {},
       "guid": "",
       "height": "auto",
       "hideCommandCode": false,
       "hideCommandResult": false,
       "iPythonMetadata": null,
       "inputWidgets": {},
       "isLockedInExamMode": false,
       "latestUser": "a user",
       "latestUserId": null,
       "listResultMetadata": null,
       "metadata": {
        "byteLimit": 2048000,
        "rowLimit": 10000
       },
       "nuid": "2c79b588-4aa1-4c44-b73e-78adde25b831",
       "origId": 0,
       "parentHierarchy": [],
       "pivotAggregation": null,
       "pivotColumns": null,
       "position": 31.0,
       "resultDbfsErrorMessage": null,
       "resultDbfsStatus": "INLINED_IN_TREE",
       "results": null,
       "showCommandTitle": false,
       "startTime": 0,
       "state": "finished",
       "streamStates": {},
       "subcommandOptions": {},
       "submitTime": 0,
       "subtype": "tableResultSubCmd.visualization",
       "tableResultIndex": 0,
       "tableResultSettingsMap": null,
       "useConsistentColors": false,
       "version": "CommandV1",
       "width": "auto",
       "workflows": [],
       "xColumns": null,
       "yColumns": null
      }
     },
     "output_type": "display_data"
    }
   ],
   "source": [
    "%sql\n",
    "WITH status_counts AS (\n",
    "    SELECT \n",
    "        income_category,\n",
    "        STATUS,\n",
    "        COUNT(DISTINCT ID) AS status_count\n",
    "    FROM \n",
    "        data\n",
    "    GROUP BY \n",
    "        income_category, STATUS\n",
    "),\n",
    "status_percentages AS (\n",
    "    SELECT \n",
    "        income_category,\n",
    "        STATUS,\n",
    "        status_count,\n",
    "        (status_count * 100.0 / SUM(status_count) OVER (PARTITION BY income_category)) AS percentage\n",
    "    FROM \n",
    "        status_counts\n",
    ")\n",
    "SELECT \n",
    "    income_category,\n",
    "    STATUS,\n",
    "    status_count,\n",
    "    percentage\n",
    "FROM \n",
    "    status_percentages\n",
    "ORDER BY \n",
    "    income_category, percentage DESC;\n"
   ]
  },
  {
   "cell_type": "markdown",
   "metadata": {
    "application/vnd.databricks.v1+cell": {
     "cellMetadata": {
      "byteLimit": 2048000,
      "rowLimit": 10000
     },
     "inputWidgets": {},
     "nuid": "dd65f083-61a2-4a82-8901-7823797545ba",
     "showTitle": false,
     "title": ""
    }
   },
   "source": [
    "#### 20)Compare Average Delay Payments by Gender and Income Category(more likely to get rejected)"
   ]
  },
  {
   "cell_type": "code",
   "execution_count": 0,
   "metadata": {
    "application/vnd.databricks.v1+cell": {
     "cellMetadata": {
      "byteLimit": 2048000,
      "rowLimit": 10000
     },
     "inputWidgets": {},
     "nuid": "85c153d2-60f7-4d20-9001-ff299cb97ed1",
     "showTitle": false,
     "title": ""
    }
   },
   "outputs": [
    {
     "output_type": "display_data",
     "data": {
      "text/html": [
       "<style scoped>\n",
       "  .table-result-container {\n",
       "    max-height: 300px;\n",
       "    overflow: auto;\n",
       "  }\n",
       "  table, th, td {\n",
       "    border: 1px solid black;\n",
       "    border-collapse: collapse;\n",
       "  }\n",
       "  th, td {\n",
       "    padding: 5px;\n",
       "  }\n",
       "  th {\n",
       "    text-align: left;\n",
       "  }\n",
       "</style><div class='table-result-container'><table class='table-result'><thead style='background-color: white'><tr><th>income_category</th><th>gender</th><th>avg_delay_count</th><th>rank</th></tr></thead><tbody><tr><td>Commercial associate</td><td>Male</td><td>8.563747040919852</td><td>1</td></tr><tr><td>Commercial associate</td><td>Female</td><td>8.538586661847098</td><td>2</td></tr><tr><td>Pensioner</td><td>Female</td><td>8.098779557589626</td><td>1</td></tr><tr><td>Pensioner</td><td>Male</td><td>7.740088105726873</td><td>2</td></tr><tr><td>State servant</td><td>Male</td><td>8.557251908396946</td><td>1</td></tr><tr><td>State servant</td><td>Female</td><td>8.551614370168258</td><td>2</td></tr><tr><td>Student</td><td>Male</td><td>11.0</td><td>1</td></tr><tr><td>Student</td><td>Female</td><td>5.7</td><td>2</td></tr><tr><td>Working</td><td>Male</td><td>8.274440677966101</td><td>1</td></tr><tr><td>Working</td><td>Female</td><td>8.173802866130723</td><td>2</td></tr></tbody></table></div>"
      ]
     },
     "metadata": {
      "application/vnd.databricks.v1+output": {
       "addedWidgets": {},
       "aggData": [],
       "aggError": "",
       "aggOverflow": false,
       "aggSchema": [],
       "aggSeriesLimitReached": false,
       "aggType": "",
       "arguments": {},
       "columnCustomDisplayInfos": {},
       "data": [
        [
         "Commercial associate",
         "Male",
         8.563747040919852,
         1
        ],
        [
         "Commercial associate",
         "Female",
         8.538586661847098,
         2
        ],
        [
         "Pensioner",
         "Female",
         8.098779557589626,
         1
        ],
        [
         "Pensioner",
         "Male",
         7.740088105726873,
         2
        ],
        [
         "State servant",
         "Male",
         8.557251908396946,
         1
        ],
        [
         "State servant",
         "Female",
         8.551614370168258,
         2
        ],
        [
         "Student",
         "Male",
         11.0,
         1
        ],
        [
         "Student",
         "Female",
         5.7,
         2
        ],
        [
         "Working",
         "Male",
         8.274440677966101,
         1
        ],
        [
         "Working",
         "Female",
         8.173802866130723,
         2
        ]
       ],
       "datasetInfos": [],
       "dbfsResultPath": null,
       "isJsonSchema": true,
       "metadata": {
        "isDbfsCommandResult": false
       },
       "overflow": false,
       "plotOptions": {
        "customPlotOptions": {},
        "displayType": "table",
        "pivotAggregation": null,
        "pivotColumns": null,
        "xColumns": null,
        "yColumns": null
       },
       "removedWidgets": [],
       "schema": [
        {
         "metadata": "{}",
         "name": "income_category",
         "type": "\"string\""
        },
        {
         "metadata": "{}",
         "name": "gender",
         "type": "\"string\""
        },
        {
         "metadata": "{}",
         "name": "avg_delay_count",
         "type": "\"double\""
        },
        {
         "metadata": "{}",
         "name": "rank",
         "type": "\"integer\""
        }
       ],
       "type": "table"
      }
     },
     "output_type": "display_data"
    },
    {
     "output_type": "display_data",
     "data": {
      "text/plain": [
       "Databricks visualization. Run in Databricks to view."
      ]
     },
     "metadata": {
      "application/vnd.databricks.v1.subcommand+json": {
       "baseErrorDetails": null,
       "bindings": {},
       "collapsed": false,
       "command": "-- It means in each category who is more likely to get rejected...either male or female based on avg delay payments\n\nWITH delay_counts AS (\n    SELECT \n        ID,\n        gender,\n        income_category,\n        COUNT(CASE WHEN is_delay_month = 'Yes' THEN 1 END) AS delay_count\n    FROM \n        data\n    GROUP BY \n        ID, gender, income_category\n),\naverage_delays AS (\n    SELECT \n        income_category,\n        gender,\n        AVG(delay_count) AS avg_delay_count,\n        ROW_NUMBER() OVER (PARTITION BY income_category ORDER BY AVG(delay_count) DESC) AS rank\n    FROM \n        delay_counts\n    GROUP BY \n        income_category, gender\n)\nSELECT \n    income_category,\n    gender,\n    avg_delay_count,\n    rank\nFROM \n    average_delays\nORDER BY \n    income_category, rank;\n",
       "commandTitle": "Visualization 1",
       "commandType": "auto",
       "commandVersion": 0,
       "commentThread": [],
       "commentsVisible": false,
       "contentSha256Hex": null,
       "customPlotOptions": {
        "redashChart": [
         {
          "key": "type",
          "value": "TABLE"
         },
         {
          "key": "options",
          "value": {
           "columns": [
            {
             "alignContent": "left",
             "allowHTML": false,
             "allowSearch": false,
             "booleanValues": [
              "false",
              "true"
             ],
             "displayAs": "string",
             "highlightLinks": false,
             "imageHeight": "",
             "imageTitleTemplate": "{{ @ }}",
             "imageUrlTemplate": "{{ @ }}",
             "imageWidth": "",
             "linkOpenInNewTab": true,
             "linkTextTemplate": "{{ @ }}",
             "linkTitleTemplate": "{{ @ }}",
             "linkUrlTemplate": "{{ @ }}",
             "name": "income_category",
             "order": 100000,
             "preserveWhitespace": false,
             "title": "income_category",
             "type": "string",
             "useMonospaceFont": false,
             "visible": true
            },
            {
             "alignContent": "left",
             "allowHTML": false,
             "allowSearch": false,
             "booleanValues": [
              "false",
              "true"
             ],
             "displayAs": "string",
             "highlightLinks": false,
             "imageHeight": "",
             "imageTitleTemplate": "{{ @ }}",
             "imageUrlTemplate": "{{ @ }}",
             "imageWidth": "",
             "linkOpenInNewTab": true,
             "linkTextTemplate": "{{ @ }}",
             "linkTitleTemplate": "{{ @ }}",
             "linkUrlTemplate": "{{ @ }}",
             "name": "gender",
             "order": 100001,
             "preserveWhitespace": false,
             "title": "gender",
             "type": "string",
             "useMonospaceFont": false,
             "visible": true
            },
            {
             "alignContent": "right",
             "allowHTML": false,
             "allowSearch": false,
             "booleanValues": [
              "false",
              "true"
             ],
             "displayAs": "number",
             "highlightLinks": false,
             "imageHeight": "",
             "imageTitleTemplate": "{{ @ }}",
             "imageUrlTemplate": "{{ @ }}",
             "imageWidth": "",
             "linkOpenInNewTab": true,
             "linkTextTemplate": "{{ @ }}",
             "linkTitleTemplate": "{{ @ }}",
             "linkUrlTemplate": "{{ @ }}",
             "name": "avg_delay_count",
             "numberFormat": "0.00",
             "order": 100002,
             "preserveWhitespace": false,
             "title": "avg_delay_count",
             "type": "float",
             "useMonospaceFont": false,
             "visible": true
            },
            {
             "alignContent": "right",
             "allowHTML": false,
             "allowSearch": false,
             "booleanValues": [
              "false",
              "true"
             ],
             "displayAs": "number",
             "highlightLinks": false,
             "imageHeight": "",
             "imageTitleTemplate": "{{ @ }}",
             "imageUrlTemplate": "{{ @ }}",
             "imageWidth": "",
             "linkOpenInNewTab": true,
             "linkTextTemplate": "{{ @ }}",
             "linkTitleTemplate": "{{ @ }}",
             "linkUrlTemplate": "{{ @ }}",
             "name": "rank",
             "numberFormat": "0",
             "order": 100003,
             "preserveWhitespace": false,
             "title": "rank",
             "type": "integer",
             "useMonospaceFont": false,
             "visible": true
            }
           ],
           "condensed": true,
           "itemsPerPage": 25,
           "paginationSize": "default",
           "version": 2,
           "withRowNumber": false
          }
         }
        ]
       },
       "datasetPreviewNameToCmdIdMap": {},
       "diffDeletes": [],
       "diffInserts": [],
       "displayType": "redashChart",
       "error": null,
       "errorDetails": null,
       "errorSummary": null,
       "errorTraceType": null,
       "finishTime": 0,
       "globalVars": {},
       "guid": "",
       "height": "auto",
       "hideCommandCode": false,
       "hideCommandResult": false,
       "iPythonMetadata": null,
       "inputWidgets": {},
       "isLockedInExamMode": false,
       "latestUser": "a user",
       "latestUserId": null,
       "listResultMetadata": null,
       "metadata": {
        "byteLimit": 2048000,
        "rowLimit": 10000
       },
       "nuid": "491653c6-5228-4c1b-979d-ed25ffd5c7c7",
       "origId": 0,
       "parentHierarchy": [],
       "pivotAggregation": null,
       "pivotColumns": null,
       "position": 33.0,
       "resultDbfsErrorMessage": null,
       "resultDbfsStatus": "INLINED_IN_TREE",
       "results": null,
       "showCommandTitle": false,
       "startTime": 0,
       "state": "finished",
       "streamStates": {},
       "subcommandOptions": {},
       "submitTime": 0,
       "subtype": "tableResultSubCmd.visualization",
       "tableResultIndex": 0,
       "tableResultSettingsMap": null,
       "useConsistentColors": false,
       "version": "CommandV1",
       "width": "auto",
       "workflows": [],
       "xColumns": null,
       "yColumns": null
      }
     },
     "output_type": "display_data"
    }
   ],
   "source": [
    "%sql\n",
    "-- It means in each category who is more likely to get rejected...either male or female based on avg delay payments\n",
    "\n",
    "WITH delay_counts AS (\n",
    "    SELECT \n",
    "        ID,\n",
    "        gender,\n",
    "        income_category,\n",
    "        COUNT(CASE WHEN is_delay_month = 'Yes' THEN 1 END) AS delay_count\n",
    "    FROM \n",
    "        data\n",
    "    GROUP BY \n",
    "        ID, gender, income_category\n",
    "),\n",
    "average_delays AS (\n",
    "    SELECT \n",
    "        income_category,\n",
    "        gender,\n",
    "        AVG(delay_count) AS avg_delay_count,\n",
    "        ROW_NUMBER() OVER (PARTITION BY income_category ORDER BY AVG(delay_count) DESC) AS rank\n",
    "    FROM \n",
    "        delay_counts\n",
    "    GROUP BY \n",
    "        income_category, gender\n",
    ")\n",
    "SELECT \n",
    "    income_category,\n",
    "    gender,\n",
    "    avg_delay_count,\n",
    "    rank\n",
    "FROM \n",
    "    average_delays\n",
    "ORDER BY \n",
    "    income_category, rank;\n"
   ]
  },
  {
   "cell_type": "markdown",
   "metadata": {
    "application/vnd.databricks.v1+cell": {
     "cellMetadata": {
      "byteLimit": 2048000,
      "rowLimit": 10000
     },
     "inputWidgets": {},
     "nuid": "71bd1578-9fc8-4cb3-87b3-a5f1258a88d9",
     "showTitle": false,
     "title": ""
    }
   },
   "source": [
    "#### "
   ]
  }
 ],
 "metadata": {
  "application/vnd.databricks.v1+notebook": {
   "dashboards": [
    {
     "elements": [
      {
       "dashboardResultIndex": null,
       "elementNUID": "fca37490-fe5b-4fc6-9368-21d163abdb8c",
       "elementType": "command",
       "guid": "0dc57701-0172-4eda-84cc-3fbf51d866e9",
       "options": {
        "autoScaleImg": false,
        "scale": 0,
        "showRunButton": false,
        "showTitle": true,
        "title": "Distribution of Credit Card Tenure Vs Applicants",
        "titleAlign": "center"
       },
       "position": {
        "height": 6,
        "width": 12,
        "x": 0,
        "y": 26,
        "z": null
       },
       "resultIndex": null
      },
      {
       "dashboardResultIndex": null,
       "elementNUID": "f5c4846f-8365-4087-8b8d-1b8bce02cd7d",
       "elementType": "command",
       "guid": "2f5b5eb9-e487-47ac-b2f7-793f8b7dbfb6",
       "options": {
        "autoScaleImg": false,
        "scale": 0,
        "showTitle": false,
        "titleAlign": "center"
       },
       "position": {
        "height": 3,
        "width": 4,
        "x": 10,
        "y": 0,
        "z": null
       },
       "resultIndex": null
      },
      {
       "dashboardResultIndex": null,
       "elementNUID": "066ce499-fb14-4b50-9acb-6f45317e74c0",
       "elementType": "command",
       "guid": "37faee6a-7156-4559-8b35-b9e19e3a79c0",
       "options": {
        "autoScaleImg": false,
        "scale": 0,
        "showTitle": true,
        "title": "Age Distribution Vs % Delay Payments",
        "titleAlign": "center"
       },
       "position": {
        "height": 6,
        "width": 12,
        "x": 12,
        "y": 20,
        "z": null
       },
       "resultIndex": null
      },
      {
       "dashboardResultIndex": null,
       "elementNUID": "d7f5b4bc-df15-44b6-9666-dd850925a529",
       "elementType": "command",
       "guid": "3806cbdc-6df1-4e4b-8e8b-5487c55ca623",
       "options": {
        "autoScaleImg": false,
        "scale": 0,
        "showTitle": true,
        "title": "Identify the Top 3 Delayed Payment Applicants by Gender(More likely to get rejected)",
        "titleAlign": "center"
       },
       "position": {
        "height": 6,
        "width": 12,
        "x": 12,
        "y": 56,
        "z": null
       },
       "resultIndex": null
      },
      {
       "dashboardResultIndex": null,
       "elementNUID": "0f462e6b-7ee2-41b3-a95e-fa23660b3c35",
       "elementType": "command",
       "guid": "3c27f4ea-0b35-4044-ab4e-be65c1a2cc33",
       "options": {
        "autoScaleImg": false,
        "scale": 0,
        "showTitle": true,
        "title": "Outliers in the Annual_income",
        "titleAlign": "center"
       },
       "position": {
        "height": 6,
        "width": 12,
        "x": 12,
        "y": 8,
        "z": null
       },
       "resultIndex": null
      },
      {
       "dashboardResultIndex": null,
       "elementNUID": "3c183999-dd54-4743-bb8f-6d975ac96b85",
       "elementType": "command",
       "guid": "4ac1cb32-79c9-4225-8d07-ed755f02d0f5",
       "options": {
        "autoScaleImg": false,
        "scale": 0,
        "showTitle": true,
        "title": "Outliers in the Annual_income",
        "titleAlign": "center"
       },
       "position": {
        "height": 6,
        "width": 12,
        "x": 0,
        "y": 8,
        "z": null
       },
       "resultIndex": null
      },
      {
       "dashboardResultIndex": null,
       "elementNUID": "bef1ed7d-2319-4c2c-85cf-c3da44761c3d",
       "elementType": "command",
       "guid": "4b3c48d0-2a76-4511-b9a7-73c280182fdf",
       "options": {
        "autoScaleImg": false,
        "scale": 0,
        "showTitle": true,
        "title": "Top 5 Applicants with the Longest Credit Card Tenure",
        "titleAlign": "center"
       },
       "position": {
        "height": 6,
        "width": 12,
        "x": 0,
        "y": 50,
        "z": null
       },
       "resultIndex": null
      },
      {
       "dashboardResultIndex": null,
       "elementNUID": "0f3b4da5-ceb7-4300-bdf2-58278be4e3e3",
       "elementType": "command",
       "guid": "5492f4bd-c0c4-41d8-844e-169b5d8b767a",
       "options": {
        "autoScaleImg": false,
        "scale": 0,
        "showTitle": true,
        "title": "% delay_payments by Employement Status",
        "titleAlign": "center"
       },
       "position": {
        "height": 6,
        "width": 12,
        "x": 0,
        "y": 14,
        "z": null
       },
       "resultIndex": null
      },
      {
       "dashboardResultIndex": null,
       "elementNUID": "48c6a95f-bee4-4723-8c72-53b5a6da9768",
       "elementType": "command",
       "guid": "59d78979-a464-4829-9913-d4fe6a21c315",
       "options": {
        "autoScaleImg": false,
        "scale": 0,
        "showTitle": true,
        "title": "defaulters ,non-defaulters count wrt age",
        "titleAlign": "center"
       },
       "position": {
        "height": 6,
        "width": 12,
        "x": 0,
        "y": 20,
        "z": null
       },
       "resultIndex": null
      },
      {
       "dashboardResultIndex": null,
       "elementNUID": "eb1f5c2d-4f2e-48b5-b674-5decbc508ccb",
       "elementType": "command",
       "guid": "72b235d7-95bd-41b2-aa76-d8fbb73f88e1",
       "options": {
        "autoScaleImg": false,
        "scale": 0,
        "showTitle": true,
        "title": "% Delayed Payments Count per Customerch Applicant with",
        "titleAlign": "center"
       },
       "position": {
        "height": 6,
        "width": 12,
        "x": 12,
        "y": 44,
        "z": null
       },
       "resultIndex": null
      },
      {
       "dashboardResultIndex": null,
       "elementNUID": "491653c6-5228-4c1b-979d-ed25ffd5c7c7",
       "elementType": "command",
       "guid": "741d83a7-b506-44bd-82f2-2388b98634ff",
       "options": {
        "autoScaleImg": false,
        "scale": 0,
        "showTitle": true,
        "title": "Compare Average Delay Payments by Gender and Income Category(more likely to get rejected)",
        "titleAlign": "center"
       },
       "position": {
        "height": 6,
        "width": 12,
        "x": 12,
        "y": 50,
        "z": null
       },
       "resultIndex": null
      },
      {
       "dashboardResultIndex": null,
       "elementNUID": "30520bb5-6710-4ed9-88cc-80e2a77eddc0",
       "elementType": "command",
       "guid": "79fad5ee-e27b-424a-abb5-ce20177df019",
       "options": {
        "autoScaleImg": false,
        "scale": 0,
        "showTitle": true,
        "title": "Payment Status by Income Category",
        "titleAlign": "center"
       },
       "position": {
        "height": 6,
        "width": 12,
        "x": 0,
        "y": 38,
        "z": null
       },
       "resultIndex": null
      },
      {
       "dashboardResultIndex": null,
       "elementNUID": "87d5795b-7855-4e0c-a49f-ab2d723c3e2a",
       "elementType": "command",
       "guid": "86accaab-95dc-44d3-82a8-287740d24bc8",
       "options": {
        "autoScaleImg": false,
        "scale": 0,
        "showTitle": true,
        "title": "Education Level Vs Credit Card Tenure",
        "titleAlign": "center"
       },
       "position": {
        "height": 6,
        "width": 12,
        "x": 12,
        "y": 26,
        "z": null
       },
       "resultIndex": null
      },
      {
       "dashboardResultIndex": null,
       "elementNUID": "54a6f010-111a-48bc-bd84-379ba9c08bec",
       "elementType": "command",
       "guid": "88160f8d-bdf7-46ee-a59a-698ff8511aab",
       "options": null,
       "position": {
        "height": 3,
        "width": 5,
        "x": 0,
        "y": 0,
        "z": null
       },
       "resultIndex": null
      },
      {
       "dashboardResultIndex": null,
       "elementNUID": "8f42600a-2af9-494b-814d-7ede0b84b885",
       "elementType": "command",
       "guid": "8ca4862d-2e74-4626-bd80-5f598a6144e3",
       "options": {
        "autoScaleImg": false,
        "scale": 0,
        "showTitle": true,
        "title": "% Delay Payments by Gender and Income Category",
        "titleAlign": "center"
       },
       "position": {
        "height": 6,
        "width": 12,
        "x": 0,
        "y": 32,
        "z": null
       },
       "resultIndex": null
      },
      {
       "dashboardResultIndex": null,
       "elementNUID": "414431d6-e28c-4549-94dd-47e98d3bc429",
       "elementType": "command",
       "guid": "9e2d4c3e-673d-47b1-8d10-557fea7e7e1c",
       "options": {
        "autoScaleImg": false,
        "scale": 0,
        "showTitle": true,
        "title": "rank the top 5 applicants in each income_category based on the counts of delayed payments, non-delayed payments, and credit card tenure",
        "titleAlign": "center"
       },
       "position": {
        "height": 6,
        "width": 12,
        "x": 0,
        "y": 44,
        "z": null
       },
       "resultIndex": null
      },
      {
       "dashboardResultIndex": null,
       "elementNUID": "673728a6-c940-4e65-8255-7890aca71a2c",
       "elementType": "command",
       "guid": "afe45e9f-ef7c-4fae-907a-ee7d4f871c2a",
       "options": {
        "autoScaleImg": false,
        "scale": 0,
        "showTitle": true,
        "title": "Payment Status by Income Category",
        "titleAlign": "center"
       },
       "position": {
        "height": 6,
        "width": 12,
        "x": 12,
        "y": 38,
        "z": null
       },
       "resultIndex": null
      },
      {
       "dashboardResultIndex": null,
       "elementNUID": "c1f95273-7daf-4bf0-9041-1b4c578971a8",
       "elementType": "command",
       "guid": "b34b1a43-ebb1-44e9-9aab-a21f7846e7dc",
       "options": {
        "autoScaleImg": false,
        "scale": 0,
        "showTitle": true,
        "title": "Avg Credit Card Tenure by Income Category",
        "titleAlign": "left"
       },
       "position": {
        "height": 5,
        "width": 12,
        "x": 12,
        "y": 3,
        "z": null
       },
       "resultIndex": null
      },
      {
       "dashboardResultIndex": null,
       "elementNUID": "2c79b588-4aa1-4c44-b73e-78adde25b831",
       "elementType": "command",
       "guid": "bb8db3cf-7812-4780-b872-d9cdf261ed67",
       "options": {
        "autoScaleImg": false,
        "scale": 0,
        "showTitle": true,
        "title": "% of Each Status per Income Category",
        "titleAlign": "center"
       },
       "position": {
        "height": 6,
        "width": 12,
        "x": 0,
        "y": 56,
        "z": null
       },
       "resultIndex": null
      },
      {
       "dashboardResultIndex": null,
       "elementNUID": "84f5b7f8-0fe9-457c-b695-7ebc17dc693e",
       "elementType": "command",
       "guid": "bd45993c-857b-4dc0-9b19-2c1b8650238e",
       "options": null,
       "position": {
        "height": 3,
        "width": 5,
        "x": 14,
        "y": 0,
        "z": null
       },
       "resultIndex": null
      },
      {
       "dashboardResultIndex": null,
       "elementNUID": "084c4593-bcb0-447c-a390-d7b7994da72e",
       "elementType": "command",
       "guid": "d04877fe-3f6a-4535-8c03-a2b2974bf13a",
       "options": {
        "autoScaleImg": false,
        "scale": 0,
        "showTitle": true,
        "title": "Trends in Credit Card Usage",
        "titleAlign": "center"
       },
       "position": {
        "height": 6,
        "width": 12,
        "x": 12,
        "y": 32,
        "z": null
       },
       "resultIndex": null
      },
      {
       "dashboardResultIndex": null,
       "elementNUID": "e99d5bba-f6b1-4a3b-968e-6b482bfd7df7",
       "elementType": "command",
       "guid": "d55bb134-a8b1-4fea-ac19-35a3ed0ef1f2",
       "options": null,
       "position": {
        "height": 3,
        "width": 5,
        "x": 5,
        "y": 0,
        "z": null
       },
       "resultIndex": null
      },
      {
       "dashboardResultIndex": null,
       "elementNUID": "59735ffe-0afe-4e32-9926-3142054f30e0",
       "elementType": "command",
       "guid": "d71447e3-07fe-4d5c-b696-7a7b1363739f",
       "options": {
        "autoScaleImg": false,
        "scale": 0,
        "showTitle": true,
        "title": "Total Applicants in Each Income Category",
        "titleAlign": "center"
       },
       "position": {
        "height": 5,
        "width": 12,
        "x": 0,
        "y": 3,
        "z": null
       },
       "resultIndex": null
      },
      {
       "dashboardResultIndex": null,
       "elementNUID": "d56efaad-61d7-4750-a1ce-5aabd7d674c2",
       "elementType": "command",
       "guid": "f3ab9509-092c-4ed2-aa06-041a4a62b967",
       "options": {
        "autoScaleImg": false,
        "scale": 0,
        "showTitle": true,
        "title": "Avg Credit Card Tenure by Employement Status",
        "titleAlign": "center"
       },
       "position": {
        "height": 6,
        "width": 12,
        "x": 12,
        "y": 14,
        "z": null
       },
       "resultIndex": null
      },
      {
       "dashboardResultIndex": null,
       "elementNUID": "97965d0a-2eed-4c9e-a9dd-131a25caa187",
       "elementType": "command",
       "guid": "f8d13480-8966-4693-b04f-148faeb73b55",
       "options": null,
       "position": {
        "height": 3,
        "width": 5,
        "x": 19,
        "y": 0,
        "z": null
       },
       "resultIndex": null
      }
     ],
     "globalVars": {},
     "guid": "",
     "layoutOption": {
      "grid": true,
      "stack": true
     },
     "nuid": "f3de4154-4490-405d-89dd-4770ff1c2d61",
     "origId": 3730159430633441,
     "title": "Capstone Dashboard",
     "version": "DashboardViewV1",
     "width": 1024
    }
   ],
   "environmentMetadata": null,
   "language": "python",
   "notebookMetadata": {
    "pythonIndentUnit": 4
   },
   "notebookName": "Capstone Dashboard",
   "widgets": {}
  }
 },
 "nbformat": 4,
 "nbformat_minor": 0
}

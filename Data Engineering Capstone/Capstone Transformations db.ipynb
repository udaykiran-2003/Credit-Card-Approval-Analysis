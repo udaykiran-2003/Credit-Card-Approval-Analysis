{
 "cells": [
  {
   "cell_type": "code",
   "execution_count": 0,
   "metadata": {
    "application/vnd.databricks.v1+cell": {
     "cellMetadata": {
      "byteLimit": 2048000,
      "rowLimit": 10000
     },
     "inputWidgets": {},
     "nuid": "a0435fcc-352a-4bc0-8d00-fac9e7e7efed",
     "showTitle": false,
     "title": ""
    }
   },
   "outputs": [
    {
     "output_type": "display_data",
     "data": {
      "text/html": [
       "\n",
       "        <div>\n",
       "            <p><b>SparkContext</b></p>\n",
       "\n",
       "            <p><a href=\"/?o=2931716354492694#setting/sparkui/1005-175546-21kwtdtj/driver-1727202578763125223\">Spark UI</a></p>\n",
       "\n",
       "            <dl>\n",
       "              <dt>Version</dt>\n",
       "                <dd><code>v3.3.2</code></dd>\n",
       "              <dt>Master</dt>\n",
       "                <dd><code>local[8]</code></dd>\n",
       "              <dt>AppName</dt>\n",
       "                <dd><code>Databricks Shell</code></dd>\n",
       "            </dl>\n",
       "        </div>\n",
       "        "
      ]
     },
     "metadata": {
      "application/vnd.databricks.v1+output": {
       "addedWidgets": {},
       "arguments": {},
       "data": "\n        <div>\n            <p><b>SparkContext</b></p>\n\n            <p><a href=\"/?o=2931716354492694#setting/sparkui/1005-175546-21kwtdtj/driver-1727202578763125223\">Spark UI</a></p>\n\n            <dl>\n              <dt>Version</dt>\n                <dd><code>v3.3.2</code></dd>\n              <dt>Master</dt>\n                <dd><code>local[8]</code></dd>\n              <dt>AppName</dt>\n                <dd><code>Databricks Shell</code></dd>\n            </dl>\n        </div>\n        ",
       "datasetInfos": [],
       "metadata": {},
       "removedWidgets": [],
       "textData": null,
       "type": "htmlSandbox"
      }
     },
     "output_type": "display_data"
    }
   ],
   "source": [
    "sc"
   ]
  },
  {
   "cell_type": "code",
   "execution_count": 0,
   "metadata": {
    "application/vnd.databricks.v1+cell": {
     "cellMetadata": {
      "byteLimit": 2048000,
      "rowLimit": 10000
     },
     "inputWidgets": {},
     "nuid": "ed005b88-77e9-4c6e-8073-797da5b0ee48",
     "showTitle": false,
     "title": ""
    }
   },
   "outputs": [
    {
     "output_type": "display_data",
     "data": {
      "text/html": [
       "\n",
       "            <div>\n",
       "                <p><b>SparkSession - hive</b></p>\n",
       "                \n",
       "        <div>\n",
       "            <p><b>SparkContext</b></p>\n",
       "\n",
       "            <p><a href=\"/?o=2931716354492694#setting/sparkui/1005-175546-21kwtdtj/driver-1727202578763125223\">Spark UI</a></p>\n",
       "\n",
       "            <dl>\n",
       "              <dt>Version</dt>\n",
       "                <dd><code>v3.3.2</code></dd>\n",
       "              <dt>Master</dt>\n",
       "                <dd><code>local[8]</code></dd>\n",
       "              <dt>AppName</dt>\n",
       "                <dd><code>Databricks Shell</code></dd>\n",
       "            </dl>\n",
       "        </div>\n",
       "        \n",
       "            </div>\n",
       "        "
      ]
     },
     "metadata": {
      "application/vnd.databricks.v1+output": {
       "addedWidgets": {},
       "arguments": {},
       "data": "\n            <div>\n                <p><b>SparkSession - hive</b></p>\n                \n        <div>\n            <p><b>SparkContext</b></p>\n\n            <p><a href=\"/?o=2931716354492694#setting/sparkui/1005-175546-21kwtdtj/driver-1727202578763125223\">Spark UI</a></p>\n\n            <dl>\n              <dt>Version</dt>\n                <dd><code>v3.3.2</code></dd>\n              <dt>Master</dt>\n                <dd><code>local[8]</code></dd>\n              <dt>AppName</dt>\n                <dd><code>Databricks Shell</code></dd>\n            </dl>\n        </div>\n        \n            </div>\n        ",
       "datasetInfos": [],
       "metadata": {},
       "removedWidgets": [],
       "textData": null,
       "type": "htmlSandbox"
      }
     },
     "output_type": "display_data"
    }
   ],
   "source": [
    "spark"
   ]
  },
  {
   "cell_type": "code",
   "execution_count": 0,
   "metadata": {
    "application/vnd.databricks.v1+cell": {
     "cellMetadata": {
      "byteLimit": 2048000,
      "rowLimit": 10000
     },
     "inputWidgets": {},
     "nuid": "09c07d3d-3f0a-417a-b5f1-9e389668083a",
     "showTitle": false,
     "title": ""
    }
   },
   "outputs": [],
   "source": [
    "from pyspark.sql import SparkSession\n",
    "from pyspark.sql import *\n",
    "from pyspark.sql.functions import *\n",
    "spark = SparkSession.builder.appName(\"CosmosDBToDatabricks\").getOrCreate()\n",
    "spark.conf.set(\"spark.sql.caseSensitive\", \"true\")"
   ]
  },
  {
   "cell_type": "markdown",
   "metadata": {
    "application/vnd.databricks.v1+cell": {
     "cellMetadata": {
      "byteLimit": 2048000,
      "rowLimit": 10000
     },
     "inputWidgets": {},
     "nuid": "7e1a8284-f507-4fb6-862c-85f11ae7baeb",
     "showTitle": false,
     "title": ""
    }
   },
   "source": [
    "### Azure Cosmos DB configuration"
   ]
  },
  {
   "cell_type": "code",
   "execution_count": 0,
   "metadata": {
    "application/vnd.databricks.v1+cell": {
     "cellMetadata": {
      "byteLimit": 2048000,
      "rowLimit": 10000
     },
     "inputWidgets": {},
     "nuid": "1ce7ba9b-101f-45ca-bd2c-781c3fd21cdf",
     "showTitle": false,
     "title": ""
    }
   },
   "outputs": [
    {
     "output_type": "stream",
     "name": "stdout",
     "output_type": "stream",
     "text": [
      "+-------+----------+----------+-----------------+--------------------+------------+------------+----------+--------------------+--------------------+-------------+--------------------+-----------+----------------+----------+---------------+--------------------+---------------+---------------+\n|     ID|DAYS_BIRTH|FLAG_MOBIL|NAME_HOUSING_TYPE|     OCCUPATION_TYPE|FLAG_OWN_CAR|CNT_CHILDREN|FLAG_EMAIL|    NAME_INCOME_TYPE|                  id|DAYS_EMPLOYED| NAME_EDUCATION_TYPE|CODE_GENDER|AMT_INCOME_TOTAL|FLAG_PHONE|FLAG_WORK_PHONE|  NAME_FAMILY_STATUS|CNT_FAM_MEMBERS|FLAG_OWN_REALTY|\n+-------+----------+----------+-----------------+--------------------+------------+------------+----------+--------------------+--------------------+-------------+--------------------+-----------+----------------+----------+---------------+--------------------+---------------+---------------+\n|5008931|    -15519|         1| Rented apartment|            Laborers|           N|           0|         0|Commercial associate|fc901281-709c-43e...|        -3234|Secondary / secon...|          F|        297000.0|         0|              0|Single / not married|            1.0|              Y|\n|5008908|    -15519|         1| Rented apartment|            Laborers|           N|           0|         0|Commercial associate|16d48800-6cf6-487...|        -3234|Secondary / secon...|          F|        297000.0|         0|              0|Single / not married|            1.0|              Y|\n|5010351|    -10591|         1|     With parents|             Drivers|           Y|           1|         0|       State servant|c2ab258d-0e12-453...|        -1195|   Incomplete higher|          M|        180000.0|         0|              0|             Married|            3.0|              N|\n|5010200|     -9981|         1|     With parents|            Laborers|           Y|           0|         1|             Working|ccd03dbf-7f46-44b...|        -1866|     Lower secondary|          M|        135000.0|         0|              0|             Married|            2.0|              Y|\n|6045521|    -11342|         1|     With parents|High skill tech s...|           N|           2|         0|       State servant|bc3df721-3969-435...|         -688|    Higher education|          F|        270000.0|         0|              0|           Separated|            3.0|              Y|\n+-------+----------+----------+-----------------+--------------------+------------+------------+----------+--------------------+--------------------+-------------+--------------------+-----------+----------------+----------+---------------+--------------------+---------------+---------------+\nonly showing top 5 rows\n\n"
     ]
    }
   ],
   "source": [
    "\n",
    "cosmos_endpoint = \"https://capstonecosmoscredit.documents.azure.com:443/\"\n",
    "cosmos_database = \"capstone_cosmosDB\"\n",
    "cosmos_collection1 = \"Appllication_data_container\"\n",
    "cosmos_collection2 = \"credit_record_conatiner\"\n",
    "cosmos_master_key = \"VhN35T2koUruJbVqcy6LRO4zr8Iuz7Aug7EMRDRXSza27DJcqG76ViUifvuqBrVaeBXXwaKOfRbGACDbrw5Afg==\"\n",
    " \n",
    "application_df = spark.read.format(\"cosmos.oltp\") \\\n",
    "    .option(\"spark.cosmos.accountEndpoint\", cosmos_endpoint) \\\n",
    "    .option(\"spark.cosmos.accountKey\", cosmos_master_key) \\\n",
    "    .option(\"spark.cosmos.database\", cosmos_database) \\\n",
    "    .option(\"spark.cosmos.container\", cosmos_collection1) \\\n",
    "    .load()\n",
    " \n",
    "application_df.show(5)"
   ]
  },
  {
   "cell_type": "markdown",
   "metadata": {
    "application/vnd.databricks.v1+cell": {
     "cellMetadata": {
      "byteLimit": 2048000,
      "rowLimit": 10000
     },
     "inputWidgets": {},
     "nuid": "3cf4026b-6746-4ad3-a2b6-6c6457eba61a",
     "showTitle": false,
     "title": ""
    }
   },
   "source": [
    "### optimaztions technique cache\n",
    "When you call cache(), Spark will store the DataFrame in memory the first time it is computed. This can significantly speed up subsequent actions on the DataFrame, as Spark won’t need to recompute the DataFrame from scratch."
   ]
  },
  {
   "cell_type": "code",
   "execution_count": 0,
   "metadata": {
    "application/vnd.databricks.v1+cell": {
     "cellMetadata": {
      "byteLimit": 2048000,
      "rowLimit": 10000
     },
     "inputWidgets": {},
     "nuid": "600efaf2-cf7d-43f3-972a-2819143b4273",
     "showTitle": false,
     "title": ""
    }
   },
   "outputs": [],
   "source": [
    "application_df=application_df.cache()"
   ]
  },
  {
   "cell_type": "code",
   "execution_count": 0,
   "metadata": {
    "application/vnd.databricks.v1+cell": {
     "cellMetadata": {
      "byteLimit": 2048000,
      "rowLimit": 10000
     },
     "inputWidgets": {},
     "nuid": "d0ce13fd-5c94-403e-a67d-6e4f2afa50e3",
     "showTitle": false,
     "title": ""
    }
   },
   "outputs": [
    {
     "output_type": "stream",
     "name": "stdout",
     "output_type": "stream",
     "text": [
      "Out[10]: 438557"
     ]
    }
   ],
   "source": [
    "application_df.count()"
   ]
  },
  {
   "cell_type": "markdown",
   "metadata": {
    "application/vnd.databricks.v1+cell": {
     "cellMetadata": {
      "byteLimit": 2048000,
      "rowLimit": 10000
     },
     "inputWidgets": {},
     "nuid": "b646a16d-9ece-422f-a38c-98d62aefc6bb",
     "showTitle": false,
     "title": ""
    }
   },
   "source": [
    "### Cheching the Schema for typecasting"
   ]
  },
  {
   "cell_type": "code",
   "execution_count": 0,
   "metadata": {
    "application/vnd.databricks.v1+cell": {
     "cellMetadata": {
      "byteLimit": 2048000,
      "rowLimit": 10000
     },
     "inputWidgets": {},
     "nuid": "c59f3fb2-d685-4050-a01b-7d807c410220",
     "showTitle": false,
     "title": ""
    }
   },
   "outputs": [
    {
     "output_type": "stream",
     "name": "stdout",
     "output_type": "stream",
     "text": [
      "root\n |-- ID: string (nullable = true)\n |-- DAYS_BIRTH: string (nullable = true)\n |-- FLAG_MOBIL: string (nullable = true)\n |-- NAME_HOUSING_TYPE: string (nullable = true)\n |-- OCCUPATION_TYPE: string (nullable = true)\n |-- FLAG_OWN_CAR: string (nullable = true)\n |-- CNT_CHILDREN: string (nullable = true)\n |-- FLAG_EMAIL: string (nullable = true)\n |-- NAME_INCOME_TYPE: string (nullable = true)\n |-- id: string (nullable = false)\n |-- DAYS_EMPLOYED: string (nullable = true)\n |-- NAME_EDUCATION_TYPE: string (nullable = true)\n |-- CODE_GENDER: string (nullable = true)\n |-- AMT_INCOME_TOTAL: string (nullable = true)\n |-- FLAG_PHONE: string (nullable = true)\n |-- FLAG_WORK_PHONE: string (nullable = true)\n |-- NAME_FAMILY_STATUS: string (nullable = true)\n |-- CNT_FAM_MEMBERS: string (nullable = true)\n |-- FLAG_OWN_REALTY: string (nullable = true)\n\n"
     ]
    }
   ],
   "source": [
    "application_df.printSchema()"
   ]
  },
  {
   "cell_type": "markdown",
   "metadata": {
    "application/vnd.databricks.v1+cell": {
     "cellMetadata": {
      "byteLimit": 2048000,
      "rowLimit": 10000
     },
     "inputWidgets": {},
     "nuid": "c18c16ca-182c-4b74-8fe5-57458f950e41",
     "showTitle": false,
     "title": ""
    }
   },
   "source": [
    "### Drop the ids that are auto generated from cosmosDB"
   ]
  },
  {
   "cell_type": "code",
   "execution_count": 0,
   "metadata": {
    "application/vnd.databricks.v1+cell": {
     "cellMetadata": {
      "byteLimit": 2048000,
      "rowLimit": 10000
     },
     "inputWidgets": {},
     "nuid": "a1e04b91-32ec-4fd5-9df4-45fef95af6a6",
     "showTitle": false,
     "title": ""
    }
   },
   "outputs": [],
   "source": [
    "application_df = application_df.drop(\"id\")"
   ]
  },
  {
   "cell_type": "markdown",
   "metadata": {
    "application/vnd.databricks.v1+cell": {
     "cellMetadata": {
      "byteLimit": 2048000,
      "rowLimit": 10000
     },
     "inputWidgets": {},
     "nuid": "a1552d2a-0458-4e57-bf63-6e3c4295ce1b",
     "showTitle": false,
     "title": ""
    }
   },
   "source": [
    "### Count unique IDs in the application_df"
   ]
  },
  {
   "cell_type": "code",
   "execution_count": 0,
   "metadata": {
    "application/vnd.databricks.v1+cell": {
     "cellMetadata": {
      "byteLimit": 2048000,
      "rowLimit": 10000
     },
     "inputWidgets": {},
     "nuid": "6deb574c-50fe-4118-9889-56f920845a11",
     "showTitle": false,
     "title": ""
    }
   },
   "outputs": [
    {
     "output_type": "stream",
     "name": "stdout",
     "output_type": "stream",
     "text": [
      "438510\n"
     ]
    }
   ],
   "source": [
    "app_unique_count = application_df.select(\"ID\").distinct().count()\n",
    "print(app_unique_count)"
   ]
  },
  {
   "cell_type": "code",
   "execution_count": 0,
   "metadata": {
    "application/vnd.databricks.v1+cell": {
     "cellMetadata": {
      "byteLimit": 2048000,
      "rowLimit": 10000
     },
     "inputWidgets": {},
     "nuid": "4c64663b-aea8-4e21-b64d-8ae306b6b8ed",
     "showTitle": false,
     "title": ""
    }
   },
   "outputs": [],
   "source": [
    "# Since we cannot make a clear assumption about the reason for the changing data, we will generalize and assume that there are repeated data due to incorrect data entries or changes depending on time, and choose the last one.\n",
    "# # First, order the DataFrame by 'ID' (and other columns if needed)\n",
    "application_df = application_df.orderBy('ID', ascending=False)\n",
    "\n",
    "# Drop duplicates based on 'ID', keeping the last occurrence (which is now the first due to descending order)\n",
    "application_df = application_df.dropDuplicates(subset=['ID'])"
   ]
  },
  {
   "cell_type": "markdown",
   "metadata": {
    "application/vnd.databricks.v1+cell": {
     "cellMetadata": {
      "byteLimit": 2048000,
      "rowLimit": 10000
     },
     "inputWidgets": {},
     "nuid": "95c1a979-4769-4753-b0b2-10f7da142d80",
     "showTitle": false,
     "title": ""
    }
   },
   "source": [
    "### Cast and Rename the Columns,then check for the Schema"
   ]
  },
  {
   "cell_type": "code",
   "execution_count": 0,
   "metadata": {
    "application/vnd.databricks.v1+cell": {
     "cellMetadata": {
      "byteLimit": 2048000,
      "rowLimit": 10000
     },
     "inputWidgets": {},
     "nuid": "df89492e-cbd1-4bf4-b708-b6c80dedfb7f",
     "showTitle": false,
     "title": ""
    }
   },
   "outputs": [
    {
     "output_type": "stream",
     "name": "stdout",
     "output_type": "stream",
     "text": [
      "root\n |-- ID: integer (nullable = true)\n |-- Age: integer (nullable = true)\n |-- has_mobile: integer (nullable = true)\n |-- house_type: string (nullable = true)\n |-- job: string (nullable = true)\n |-- own_car: string (nullable = true)\n |-- num_child: integer (nullable = true)\n |-- has_email: integer (nullable = true)\n |-- Income_category: string (nullable = true)\n |-- years_employment: integer (nullable = true)\n |-- education_level: string (nullable = true)\n |-- gender: string (nullable = true)\n |-- annual_income: float (nullable = true)\n |-- has_phone: integer (nullable = true)\n |-- has_work_phone: integer (nullable = true)\n |-- Marital_status: string (nullable = true)\n |-- family_size: float (nullable = true)\n |-- own_property: string (nullable = true)\n\n"
     ]
    }
   ],
   "source": [
    "\n",
    "\n",
    "# Step 1: Cast the columns\n",
    "application_df = application_df \\\n",
    "    .withColumn(\"ID\", col(\"ID\").cast(\"int\")) \\\n",
    "    .withColumn(\"CNT_CHILDREN\", col(\"CNT_CHILDREN\").cast(\"int\")) \\\n",
    "    .withColumn(\"AMT_INCOME_TOTAL\", col(\"AMT_INCOME_TOTAL\").cast(\"float\")) \\\n",
    "    .withColumn(\"DAYS_BIRTH\", col(\"DAYS_BIRTH\").cast(\"int\")) \\\n",
    "    .withColumn(\"DAYS_EMPLOYED\", col(\"DAYS_EMPLOYED\").cast(\"int\")) \\\n",
    "    .withColumn(\"FLAG_MOBIL\", col(\"FLAG_MOBIL\").cast(\"int\")) \\\n",
    "    .withColumn(\"FLAG_WORK_PHONE\", col(\"FLAG_WORK_PHONE\").cast(\"int\")) \\\n",
    "    .withColumn(\"FLAG_PHONE\", col(\"FLAG_PHONE\").cast(\"int\")) \\\n",
    "    .withColumn(\"FLAG_EMAIL\", col(\"FLAG_EMAIL\").cast(\"int\")) \\\n",
    "    .withColumn(\"CNT_FAM_MEMBERS\", col(\"CNT_FAM_MEMBERS\").cast(\"float\"))\n",
    "\n",
    "# Step 2: Rename the columns\n",
    "application_df = application_df \\\n",
    "    .withColumnRenamed(\"CODE_GENDER\", \"gender\") \\\n",
    "    .withColumnRenamed(\"FLAG_OWN_CAR\", \"own_car\") \\\n",
    "    .withColumnRenamed(\"FLAG_OWN_REALTY\", \"own_property\") \\\n",
    "    .withColumnRenamed(\"CNT_CHILDREN\", \"num_child\") \\\n",
    "    .withColumnRenamed(\"AMT_INCOME_TOTAL\", \"annual_income\") \\\n",
    "    .withColumnRenamed(\"NAME_INCOME_TYPE\", \"Income_category\") \\\n",
    "    .withColumnRenamed(\"NAME_EDUCATION_TYPE\", \"education_level\") \\\n",
    "    .withColumnRenamed(\"NAME_FAMILY_STATUS\", \"Marital_status\") \\\n",
    "    .withColumnRenamed(\"NAME_HOUSING_TYPE\", \"house_type\") \\\n",
    "    .withColumnRenamed(\"DAYS_BIRTH\", \"Age\") \\\n",
    "    .withColumnRenamed(\"DAYS_EMPLOYED\", \"years_employment\") \\\n",
    "    .withColumnRenamed(\"FLAG_MOBIL\", \"has_mobile\") \\\n",
    "    .withColumnRenamed(\"FLAG_WORK_PHONE\", \"has_work_phone\") \\\n",
    "    .withColumnRenamed(\"FLAG_PHONE\", \"has_phone\") \\\n",
    "    .withColumnRenamed(\"FLAG_EMAIL\", \"has_email\") \\\n",
    "    .withColumnRenamed(\"OCCUPATION_TYPE\", \"job\") \\\n",
    "    .withColumnRenamed(\"CNT_FAM_MEMBERS\", \"family_size\")\n",
    "\n",
    "application_df.printSchema()"
   ]
  },
  {
   "cell_type": "markdown",
   "metadata": {
    "application/vnd.databricks.v1+cell": {
     "cellMetadata": {
      "byteLimit": 2048000,
      "rowLimit": 10000
     },
     "inputWidgets": {},
     "nuid": "6de8cbfb-0487-4360-ba0f-dbce0f541f29",
     "showTitle": false,
     "title": ""
    }
   },
   "source": [
    "### Count total null values in each column"
   ]
  },
  {
   "cell_type": "code",
   "execution_count": 0,
   "metadata": {
    "application/vnd.databricks.v1+cell": {
     "cellMetadata": {
      "byteLimit": 2048000,
      "rowLimit": 10000
     },
     "inputWidgets": {},
     "nuid": "288c6229-8a6d-4a79-bacb-2e8fcac40eeb",
     "showTitle": false,
     "title": ""
    }
   },
   "outputs": [
    {
     "output_type": "stream",
     "name": "stdout",
     "output_type": "stream",
     "text": [
      "+---+---+----------+----------+------+-------+---------+---------+---------------+----------------+---------------+------+-------------+---------+--------------+--------------+-----------+------------+\n| ID|Age|has_mobile|house_type|   job|own_car|num_child|has_email|Income_category|years_employment|education_level|gender|annual_income|has_phone|has_work_phone|Marital_status|family_size|own_property|\n+---+---+----------+----------+------+-------+---------+---------+---------------+----------------+---------------+------+-------------+---------+--------------+--------------+-----------+------------+\n|  0|  0|         0|         0|134187|      0|        0|        0|              0|               0|              0|     0|            0|        0|             0|             0|          0|           0|\n+---+---+----------+----------+------+-------+---------+---------+---------------+----------------+---------------+------+-------------+---------+--------------+--------------+-----------+------------+\n\n"
     ]
    }
   ],
   "source": [
    "from pyspark.sql.functions import col, sum as spark_sum\n",
    "null_counts = application_df.select([spark_sum(col(c).isNull().cast(\"int\")).alias(c) for c in application_df.columns])\n",
    "\n",
    "# Show the result\n",
    "null_counts.show()"
   ]
  },
  {
   "cell_type": "markdown",
   "metadata": {
    "application/vnd.databricks.v1+cell": {
     "cellMetadata": {
      "byteLimit": 2048000,
      "rowLimit": 10000
     },
     "inputWidgets": {},
     "nuid": "cec81070-9acf-47e7-b72a-f3bf2de962b6",
     "showTitle": false,
     "title": ""
    }
   },
   "source": [
    "#### Fill null values in the 'JOB' column with 'Unknown'"
   ]
  },
  {
   "cell_type": "code",
   "execution_count": 0,
   "metadata": {
    "application/vnd.databricks.v1+cell": {
     "cellMetadata": {
      "byteLimit": 2048000,
      "rowLimit": 10000
     },
     "inputWidgets": {},
     "nuid": "c3c44c62-c483-4308-9acc-46a4b10c8bce",
     "showTitle": false,
     "title": ""
    }
   },
   "outputs": [],
   "source": [
    "# Fill null values in the 'OCCUPATION_TYPE' column with 'Unknown'\n",
    "application_df = application_df.fillna({'job': 'Unknown'})"
   ]
  },
  {
   "cell_type": "markdown",
   "metadata": {
    "application/vnd.databricks.v1+cell": {
     "cellMetadata": {
      "byteLimit": 2048000,
      "rowLimit": 10000
     },
     "inputWidgets": {},
     "nuid": "e0201c83-c95b-4bc2-8183-af8ba90e7a35",
     "showTitle": false,
     "title": ""
    }
   },
   "source": [
    "### Find distinct counts for each column in the DataFrame"
   ]
  },
  {
   "cell_type": "code",
   "execution_count": 0,
   "metadata": {
    "application/vnd.databricks.v1+cell": {
     "cellMetadata": {
      "byteLimit": 2048000,
      "rowLimit": 10000
     },
     "inputWidgets": {},
     "nuid": "2a70d7e0-6fb7-4620-8124-346edef9e456",
     "showTitle": false,
     "title": ""
    }
   },
   "outputs": [
    {
     "output_type": "stream",
     "name": "stdout",
     "output_type": "stream",
     "text": [
      "+------+-----+----------+----------+---+-------+---------+---------+---------------+----------------+---------------+------+-------------+---------+--------------+--------------+-----------+------------+\n|    ID|  Age|has_mobile|house_type|job|own_car|num_child|has_email|Income_category|years_employment|education_level|gender|annual_income|has_phone|has_work_phone|Marital_status|family_size|own_property|\n+------+-----+----------+----------+---+-------+---------+---------+---------------+----------------+---------------+------+-------------+---------+--------------+--------------+-----------+------------+\n|438510|16379|         1|         6| 19|      2|       12|        2|              5|            9406|              5|     2|          866|        2|             2|             5|         13|           2|\n+------+-----+----------+----------+---+-------+---------+---------+---------------+----------------+---------------+------+-------------+---------+--------------+--------------+-----------+------------+\n\n"
     ]
    }
   ],
   "source": [
    "unique_counts = application_df.select([countDistinct(col(c)).alias(c) for c in application_df.columns])\n",
    "unique_counts.show()"
   ]
  },
  {
   "cell_type": "markdown",
   "metadata": {
    "application/vnd.databricks.v1+cell": {
     "cellMetadata": {
      "byteLimit": 2048000,
      "rowLimit": 10000
     },
     "inputWidgets": {},
     "nuid": "3d0632b7-190e-493e-8c33-c1f151493ca0",
     "showTitle": false,
     "title": ""
    }
   },
   "source": [
    "### Since has_mobile only constant value of 1, we drop the has_mobile Column"
   ]
  },
  {
   "cell_type": "code",
   "execution_count": 0,
   "metadata": {
    "application/vnd.databricks.v1+cell": {
     "cellMetadata": {
      "byteLimit": 2048000,
      "rowLimit": 10000
     },
     "inputWidgets": {},
     "nuid": "37e0afc8-e67c-4506-870d-04041d0212f2",
     "showTitle": false,
     "title": ""
    }
   },
   "outputs": [],
   "source": [
    "application_df = application_df.drop('has_mobile')\n",
    "application_df = application_df.drop('has_email')\n",
    "application_df = application_df.drop('has_work_phone')"
   ]
  },
  {
   "cell_type": "markdown",
   "metadata": {
    "application/vnd.databricks.v1+cell": {
     "cellMetadata": {
      "byteLimit": 2048000,
      "rowLimit": 10000
     },
     "inputWidgets": {},
     "nuid": "c01d6954-3107-47d7-b7b4-9258e9418b78",
     "showTitle": false,
     "title": ""
    }
   },
   "source": [
    "### Standardize Categorical Columns"
   ]
  },
  {
   "cell_type": "code",
   "execution_count": 0,
   "metadata": {
    "application/vnd.databricks.v1+cell": {
     "cellMetadata": {
      "byteLimit": 2048000,
      "rowLimit": 10000
     },
     "inputWidgets": {},
     "nuid": "27a8f865-795a-4115-bf78-e38b46b0fe80",
     "showTitle": false,
     "title": ""
    }
   },
   "outputs": [],
   "source": [
    "\n",
    "application_df = application_df.withColumn(\"gender\", \n",
    "    when(col(\"gender\") == \"M\", \"Male\").when(col(\"gender\") == \"F\", \"Female\"))\n",
    "\n",
    "application_df = application_df.withColumn(\"own_car\", \n",
    "    when(col(\"own_car\") == \"Y\", \"Yes\").otherwise(\"No\"))\n",
    "\n",
    "application_df= application_df.withColumn(\"own_property\", \n",
    "    when(col(\"own_property\") == \"Y\", \"Yes\").otherwise(\"No\"))"
   ]
  },
  {
   "cell_type": "markdown",
   "metadata": {
    "application/vnd.databricks.v1+cell": {
     "cellMetadata": {
      "byteLimit": 2048000,
      "rowLimit": 10000
     },
     "inputWidgets": {},
     "nuid": "824fcaca-74e4-4bc7-880a-53ea8f37d3b1",
     "showTitle": false,
     "title": ""
    }
   },
   "source": [
    "#### Cleaning names/values of 'education_level', 'marital_status' 'house_type' columns"
   ]
  },
  {
   "cell_type": "code",
   "execution_count": 0,
   "metadata": {
    "application/vnd.databricks.v1+cell": {
     "cellMetadata": {
      "byteLimit": 2048000,
      "rowLimit": 10000
     },
     "inputWidgets": {},
     "nuid": "144f3f2f-4c94-46e3-8d5c-4da0688d5e16",
     "showTitle": false,
     "title": ""
    }
   },
   "outputs": [],
   "source": [
    "from pyspark.sql.functions import when, col\n",
    "\n",
    "# Clean up 'education_level' column\n",
    "application_df = application_df.withColumn(\n",
    "    'education_level',\n",
    "    when(col('education_level') == 'Secondary / secondary special', 'Secondary')\n",
    "    .otherwise(col('education_level'))\n",
    ")\n",
    "\n",
    "# Clean up 'marital_status' column\n",
    "application_df = application_df.withColumn(\n",
    "    'Marital_status',\n",
    "    when(col('Marital_status') == 'Single / not married', 'Single')\n",
    "    .otherwise(col('Marital_status'))\n",
    ")\n",
    "\n",
    "# Clean up 'house_type' column\n",
    "application_df = application_df.withColumn(\n",
    "    'house_type',\n",
    "    when(col('house_type') == 'House / apartment', 'House')\n",
    "    .otherwise(col('house_type'))\n",
    ")\n"
   ]
  },
  {
   "cell_type": "markdown",
   "metadata": {
    "application/vnd.databricks.v1+cell": {
     "cellMetadata": {
      "byteLimit": 2048000,
      "rowLimit": 10000
     },
     "inputWidgets": {},
     "nuid": "ce535687-cc77-437a-a0ac-0a24a4c10d02",
     "showTitle": false,
     "title": ""
    }
   },
   "source": [
    "#### Convert birth_day to age in years and Convert employment_length to employment years"
   ]
  },
  {
   "cell_type": "code",
   "execution_count": 0,
   "metadata": {
    "application/vnd.databricks.v1+cell": {
     "cellMetadata": {
      "byteLimit": 2048000,
      "rowLimit": 10000
     },
     "inputWidgets": {},
     "nuid": "f46f99d2-dbe2-4395-bddd-4718c0a2d4e8",
     "showTitle": false,
     "title": ""
    }
   },
   "outputs": [],
   "source": [
    "application_df = application_df.withColumn(\"Age\", ((col(\"Age\") / 365) * -1).cast(\"int\"))\n",
    "application_df = application_df.withColumn(\n",
    "    'years_employment',\n",
    "    when(col('years_employment') < 0, (col('years_employment') / 365) * -1)\n",
    "    .otherwise(0)\n",
    "    .cast(\"int\")\n",
    ")"
   ]
  },
  {
   "cell_type": "markdown",
   "metadata": {
    "application/vnd.databricks.v1+cell": {
     "cellMetadata": {
      "byteLimit": 2048000,
      "rowLimit": 10000
     },
     "inputWidgets": {},
     "nuid": "1b53eff8-b83b-43e7-8f1f-f823fa2ac7a0",
     "showTitle": false,
     "title": ""
    }
   },
   "source": [
    "#### Create a new column 'employment_status' based on 'years_employment'"
   ]
  },
  {
   "cell_type": "code",
   "execution_count": 0,
   "metadata": {
    "application/vnd.databricks.v1+cell": {
     "cellMetadata": {
      "byteLimit": 2048000,
      "rowLimit": 10000
     },
     "inputWidgets": {},
     "nuid": "02ca274f-4a66-4001-bbb3-a4e801967dfb",
     "showTitle": false,
     "title": ""
    }
   },
   "outputs": [],
   "source": [
    "application_df = application_df.withColumn(\n",
    "    'employment_status',\n",
    "    when(col('years_employment') == 0, 'unemployed')\n",
    "     .otherwise('employed')\n",
    ")"
   ]
  },
  {
   "cell_type": "code",
   "execution_count": 0,
   "metadata": {
    "application/vnd.databricks.v1+cell": {
     "cellMetadata": {
      "byteLimit": 2048000,
      "rowLimit": 10000
     },
     "inputWidgets": {},
     "nuid": "4ece15ef-2014-469f-a997-9343d3e08538",
     "showTitle": false,
     "title": ""
    }
   },
   "outputs": [
    {
     "output_type": "stream",
     "name": "stdout",
     "output_type": "stream",
     "text": [
      "+-------+---+----------+--------------+-------+---------+---------------+----------------+---------------+------+-------------+---------+--------------+-----------+------------+-----------------+\n|     ID|Age|house_type|           job|own_car|num_child|Income_category|years_employment|education_level|gender|annual_income|has_phone|Marital_status|family_size|own_property|employment_status|\n+-------+---+----------+--------------+-------+---------+---------------+----------------+---------------+------+-------------+---------+--------------+-----------+------------+-----------------+\n|6671725| 61|     House|       Unknown|     No|        0|      Pensioner|               0|      Secondary|Female|     157500.0|        0|       Married|        2.0|         Yes|       unemployed|\n|6671727| 35|     House|      Laborers|    Yes|        1|        Working|               4|      Secondary|  Male|     135000.0|        0|       Married|        3.0|         Yes|         employed|\n|6671728| 35|     House|      Laborers|    Yes|        1|        Working|               4|      Secondary|  Male|     135000.0|        0|       Married|        3.0|         Yes|         employed|\n|6671729| 35|     House|      Laborers|    Yes|        1|        Working|               4|      Secondary|  Male|     135000.0|        0|       Married|        3.0|         Yes|         employed|\n|6671733| 43|     House|Cleaning staff|    Yes|        2|        Working|              10|      Secondary|Female|     157500.0|        0|       Married|        4.0|         Yes|         employed|\n|6671734| 43|     House|Cleaning staff|    Yes|        2|        Working|              10|      Secondary|Female|     157500.0|        0|       Married|        4.0|         Yes|         employed|\n|6671735| 43|     House|Cleaning staff|    Yes|        2|        Working|              10|      Secondary|Female|     157500.0|        0|       Married|        4.0|         Yes|         employed|\n|6671736| 43|     House|Cleaning staff|    Yes|        2|        Working|              10|      Secondary|Female|     157500.0|        0|       Married|        4.0|         Yes|         employed|\n|6671737| 43|     House|Cleaning staff|    Yes|        2|        Working|              10|      Secondary|Female|     157500.0|        0|       Married|        4.0|         Yes|         employed|\n|6671738| 43|     House|Cleaning staff|    Yes|        2|        Working|              10|      Secondary|Female|     157500.0|        0|       Married|        4.0|         Yes|         employed|\n|6671739| 43|     House|Cleaning staff|    Yes|        2|        Working|              10|      Secondary|Female|     157500.0|        0|       Married|        4.0|         Yes|         employed|\n|6671740| 43|     House|Cleaning staff|    Yes|        2|        Working|              10|      Secondary|Female|     157500.0|        0|       Married|        4.0|         Yes|         employed|\n|6671741| 39|     House|Medicine staff|     No|        0|  State servant|              15|      Secondary|Female|     112500.0|        0|       Married|        2.0|          No|         employed|\n|6671742| 39|     House|Medicine staff|     No|        0|  State servant|              15|      Secondary|Female|     112500.0|        0|       Married|        2.0|          No|         employed|\n|6671745| 39|     House|Medicine staff|     No|        0|  State servant|              15|      Secondary|Female|     112500.0|        0|       Married|        2.0|          No|         employed|\n|6671746| 39|     House|Medicine staff|     No|        0|  State servant|              15|      Secondary|Female|     112500.0|        0|       Married|        2.0|          No|         employed|\n|6671747| 39|     House|Medicine staff|     No|        0|  State servant|              15|      Secondary|Female|     112500.0|        0|       Married|        2.0|          No|         employed|\n|6671749| 39|     House|Medicine staff|     No|        0|  State servant|              15|      Secondary|Female|     112500.0|        0|       Married|        2.0|          No|         employed|\n|6671751| 39|     House|Medicine staff|     No|        0|  State servant|              15|      Secondary|Female|     112500.0|        0|       Married|        2.0|          No|         employed|\n|6671752| 39|     House|Medicine staff|     No|        0|  State servant|              15|      Secondary|Female|     112500.0|        0|       Married|        2.0|          No|         employed|\n+-------+---+----------+--------------+-------+---------+---------------+----------------+---------------+------+-------------+---------+--------------+-----------+------------+-----------------+\nonly showing top 20 rows\n\n"
     ]
    }
   ],
   "source": [
    "application_df.show(20)"
   ]
  },
  {
   "cell_type": "code",
   "execution_count": 0,
   "metadata": {
    "application/vnd.databricks.v1+cell": {
     "cellMetadata": {
      "byteLimit": 2048000,
      "rowLimit": 10000
     },
     "inputWidgets": {},
     "nuid": "62a2620a-db22-4efe-86d1-344009bdd343",
     "showTitle": false,
     "title": ""
    }
   },
   "outputs": [
    {
     "output_type": "stream",
     "name": "stdout",
     "output_type": "stream",
     "text": [
      "+-------+--------------+------+--------------------+\n|     ID|MONTHS_BALANCE|STATUS|                  id|\n+-------+--------------+------+--------------------+\n|5003471|           -39|     4|bd307592-66fc-46c...|\n|5004559|           -39|     4|b6431fe5-5b09-4cf...|\n|5003804|           -43|     4|3f01ff58-637b-47c...|\n|5009628|           -36|     4|23efdf8a-3d8b-40b...|\n|5009754|           -23|     4|32f50588-bffa-451...|\n+-------+--------------+------+--------------------+\nonly showing top 5 rows\n\n"
     ]
    }
   ],
   "source": [
    "# Azure Cosmos DB configuration\n",
    "cosmos_endpoint = \"https://capstonecosmoscredit.documents.azure.com:443/\"\n",
    "cosmos_database = \"capstone_cosmosDB\"\n",
    "cosmos_collection1 = \"Appllication_data_container\"\n",
    "cosmos_collection2 = \"credit_record_conatiner\"\n",
    "cosmos_master_key = \"VhN35T2koUruJbVqcy6LRO4zr8Iuz7Aug7EMRDRXSza27DJcqG76ViUifvuqBrVaeBXXwaKOfRbGACDbrw5Afg==\"\n",
    "\n",
    "credit_df = spark.read.format(\"cosmos.oltp\") \\\n",
    "    .option(\"spark.cosmos.accountEndpoint\", cosmos_endpoint) \\\n",
    "    .option(\"spark.cosmos.accountKey\", cosmos_master_key) \\\n",
    "    .option(\"spark.cosmos.database\", cosmos_database) \\\n",
    "    .option(\"spark.cosmos.container\", cosmos_collection2) \\\n",
    "    .load()\n",
    " \n",
    "credit_df.show(5)"
   ]
  },
  {
   "cell_type": "code",
   "execution_count": 0,
   "metadata": {
    "application/vnd.databricks.v1+cell": {
     "cellMetadata": {
      "byteLimit": 2048000,
      "rowLimit": 10000
     },
     "inputWidgets": {},
     "nuid": "be079303-6354-448f-a01c-a28fb385310b",
     "showTitle": false,
     "title": ""
    }
   },
   "outputs": [],
   "source": [
    "credit_df=credit_df.cache()"
   ]
  },
  {
   "cell_type": "code",
   "execution_count": 0,
   "metadata": {
    "application/vnd.databricks.v1+cell": {
     "cellMetadata": {
      "byteLimit": 2048000,
      "rowLimit": 10000
     },
     "inputWidgets": {},
     "nuid": "0507d12d-9dfb-4dda-9e53-2fec85446687",
     "showTitle": false,
     "title": ""
    }
   },
   "outputs": [
    {
     "output_type": "stream",
     "name": "stdout",
     "output_type": "stream",
     "text": [
      "Out[27]: 1048575"
     ]
    }
   ],
   "source": [
    "credit_df.count()"
   ]
  },
  {
   "cell_type": "code",
   "execution_count": 0,
   "metadata": {
    "application/vnd.databricks.v1+cell": {
     "cellMetadata": {
      "byteLimit": 2048000,
      "rowLimit": 10000
     },
     "inputWidgets": {},
     "nuid": "e511cdfd-272d-4d62-8428-21bb69b4c4e4",
     "showTitle": false,
     "title": ""
    }
   },
   "outputs": [
    {
     "output_type": "stream",
     "name": "stdout",
     "output_type": "stream",
     "text": [
      "root\n |-- ID: string (nullable = true)\n |-- MONTHS_BALANCE: string (nullable = true)\n |-- STATUS: string (nullable = true)\n |-- id: string (nullable = false)\n\n"
     ]
    }
   ],
   "source": [
    "\n",
    "credit_df.printSchema()"
   ]
  },
  {
   "cell_type": "markdown",
   "metadata": {
    "application/vnd.databricks.v1+cell": {
     "cellMetadata": {
      "byteLimit": 2048000,
      "rowLimit": 10000
     },
     "inputWidgets": {},
     "nuid": "38c0b2f3-5039-4363-9570-fbed4846abf9",
     "showTitle": false,
     "title": ""
    }
   },
   "source": [
    "#### Drop the ids that are auto generated from cosmosDB"
   ]
  },
  {
   "cell_type": "code",
   "execution_count": 0,
   "metadata": {
    "application/vnd.databricks.v1+cell": {
     "cellMetadata": {
      "byteLimit": 2048000,
      "rowLimit": 10000
     },
     "inputWidgets": {},
     "nuid": "5fc98d4a-1bbf-4356-b44f-268b655be3da",
     "showTitle": false,
     "title": ""
    }
   },
   "outputs": [],
   "source": [
    "credit_df = credit_df.drop(\"id\")"
   ]
  },
  {
   "cell_type": "code",
   "execution_count": 0,
   "metadata": {
    "application/vnd.databricks.v1+cell": {
     "cellMetadata": {
      "byteLimit": 2048000,
      "rowLimit": 10000
     },
     "inputWidgets": {},
     "nuid": "297d075b-0d28-4dce-ad2a-b6a9aa6b3ea9",
     "showTitle": false,
     "title": ""
    }
   },
   "outputs": [
    {
     "output_type": "stream",
     "name": "stdout",
     "output_type": "stream",
     "text": [
      "root\n |-- ID: string (nullable = true)\n |-- MONTHS_BALANCE: string (nullable = true)\n |-- STATUS: string (nullable = true)\n\n"
     ]
    }
   ],
   "source": [
    "credit_df.printSchema()\n",
    "\n"
   ]
  },
  {
   "cell_type": "markdown",
   "metadata": {
    "application/vnd.databricks.v1+cell": {
     "cellMetadata": {
      "byteLimit": 2048000,
      "rowLimit": 10000
     },
     "inputWidgets": {},
     "nuid": "47af1e0e-2fe8-44c4-bc8d-6d7a9a2f1e96",
     "showTitle": false,
     "title": ""
    }
   },
   "source": [
    "### Count number of null values in each column"
   ]
  },
  {
   "cell_type": "code",
   "execution_count": 0,
   "metadata": {
    "application/vnd.databricks.v1+cell": {
     "cellMetadata": {
      "byteLimit": 2048000,
      "rowLimit": 10000
     },
     "inputWidgets": {},
     "nuid": "22e5f75f-d9b5-4a1e-8a46-2e99cbb8ffd1",
     "showTitle": false,
     "title": ""
    }
   },
   "outputs": [
    {
     "output_type": "stream",
     "name": "stdout",
     "output_type": "stream",
     "text": [
      "+---+--------------+------+\n| ID|MONTHS_BALANCE|STATUS|\n+---+--------------+------+\n|  0|             0|     0|\n+---+--------------+------+\n\n"
     ]
    }
   ],
   "source": [
    "null_counts_df = credit_df.select([(col(c).isNull().cast(\"int\")).alias(c) for c in credit_df.columns])\n",
    "null_counts_df_agg = null_counts_df.agg(*[sum(col(c)).alias(c) for c in credit_df.columns])\n",
    "null_counts_df_agg.show()"
   ]
  },
  {
   "cell_type": "code",
   "execution_count": 0,
   "metadata": {
    "application/vnd.databricks.v1+cell": {
     "cellMetadata": {
      "byteLimit": 2048000,
      "rowLimit": 10000
     },
     "inputWidgets": {},
     "nuid": "0e3534d0-f13d-42a4-b629-a430c9107111",
     "showTitle": false,
     "title": ""
    }
   },
   "outputs": [],
   "source": [
    "spark.conf.set(\"spark.sql.caseSensitive\", \"false\")"
   ]
  },
  {
   "cell_type": "markdown",
   "metadata": {
    "application/vnd.databricks.v1+cell": {
     "cellMetadata": {
      "byteLimit": 2048000,
      "rowLimit": 10000
     },
     "inputWidgets": {},
     "nuid": "f9b50b11-58e4-4094-b201-3362ca1dcdb2",
     "showTitle": false,
     "title": ""
    }
   },
   "source": [
    "#### Casting and Renaming the Columns"
   ]
  },
  {
   "cell_type": "code",
   "execution_count": 0,
   "metadata": {
    "application/vnd.databricks.v1+cell": {
     "cellMetadata": {
      "byteLimit": 2048000,
      "rowLimit": 10000
     },
     "inputWidgets": {},
     "nuid": "3f13f36f-6059-4327-b79f-39c5df69fd2b",
     "showTitle": false,
     "title": ""
    }
   },
   "outputs": [],
   "source": [
    "credit_df = credit_df \\\n",
    "    .withColumn(\"ID\", col(\"ID\").cast(\"int\")) \\\n",
    "    .withColumn(\"MONTHS_BALANCE\", col(\"MONTHS_BALANCE\").cast(\"int\"))\n",
    "\n",
    "credit_df = credit_df \\\n",
    "    .withColumnRenamed(\"MONTHS_BALANCE\", \"MONTHS_AGO\") \n",
    "\n",
    "credit_df = credit_df.withColumn(\"MONTHS_AGO\", ((col(\"MONTHS_AGO\")) * -1).cast(\"int\"))"
   ]
  },
  {
   "cell_type": "markdown",
   "metadata": {
    "application/vnd.databricks.v1+cell": {
     "cellMetadata": {
      "byteLimit": 2048000,
      "rowLimit": 10000
     },
     "inputWidgets": {},
     "nuid": "ad59810b-b463-412b-ab1e-0256d7a77c3f",
     "showTitle": false,
     "title": ""
    }
   },
   "source": [
    "#### Map STATUS values to meaningful descriptions"
   ]
  },
  {
   "cell_type": "code",
   "execution_count": 0,
   "metadata": {
    "application/vnd.databricks.v1+cell": {
     "cellMetadata": {
      "byteLimit": 2048000,
      "rowLimit": 10000
     },
     "inputWidgets": {},
     "nuid": "6f850a21-89e3-4b40-a6c7-385daa2bbfda",
     "showTitle": false,
     "title": ""
    }
   },
   "outputs": [],
   "source": [
    "from pyspark.sql import functions as sql_functions\n",
    "credit_df = credit_df.withColumn(\n",
    "    'STATUS_LABEL',when(col('STATUS') == '0', 'Paid Within 1-29 Days').when(col('STATUS') == '1', 'Paid Within 30-59 Days')\n",
    "    .when(col('STATUS') == '2', 'Paid Within 60-89 Days')\n",
    "    .when(col('STATUS') == '3', 'Paid Within 90-119 Days')\n",
    "    .when(col('STATUS') == '4', 'Paid Within 120-149 Days')\n",
    "    .when(col('STATUS') == '5', 'Bad Debt (Over 150 Days)')\n",
    "    .when(col('STATUS') == 'C', 'Paid Off This Month')\n",
    "    .when(col('STATUS') == 'X', 'No Loan This Month')\n",
    "    \n",
    ")\n",
    "\n",
    "credit_df = credit_df.withColumn(\n",
    "    'RISK_CATEGORY',\n",
    "    when(col('STATUS') == 'X', 'No Issues/No loan')\n",
    "    .when(col('STATUS') == 'C', 'Good Credit')\n",
    "    .when(col('STATUS') == '0', 'Standard')\n",
    "    .when(col('STATUS') == '1', 'Slight Risk')\n",
    "    .when(col('STATUS') == '2', 'Moderate Risk')\n",
    "    .when(col('STATUS') == '3', 'Significant Risk')\n",
    "    .when(col('STATUS') == '4', 'High Risk')\n",
    "    .when(col('STATUS') == '5', 'Bad Debt')\n",
    "    \n",
    ")\n"
   ]
  },
  {
   "cell_type": "code",
   "execution_count": 0,
   "metadata": {
    "application/vnd.databricks.v1+cell": {
     "cellMetadata": {
      "byteLimit": 2048000,
      "rowLimit": 10000
     },
     "inputWidgets": {},
     "nuid": "55e438c7-a96a-4bab-b700-83b733e15794",
     "showTitle": false,
     "title": ""
    }
   },
   "outputs": [],
   "source": [
    "credit_df = credit_df.withColumn(\n",
    "    'is_delay_month',\n",
    "    when(col('STATUS') == 'X', 'No')\n",
    "    .when(col('STATUS') == 'C', 'No')\n",
    "    .otherwise('Yes')\n",
    ")\n"
   ]
  },
  {
   "cell_type": "code",
   "execution_count": 0,
   "metadata": {
    "application/vnd.databricks.v1+cell": {
     "cellMetadata": {
      "byteLimit": 2048000,
      "rowLimit": 10000
     },
     "inputWidgets": {},
     "nuid": "c630704e-7457-4b37-8aa4-f92dcd988738",
     "showTitle": false,
     "title": ""
    }
   },
   "outputs": [
    {
     "output_type": "stream",
     "name": "stdout",
     "output_type": "stream",
     "text": [
      "root\n |-- ID: integer (nullable = true)\n |-- MONTHS_AGO: integer (nullable = true)\n |-- STATUS: string (nullable = true)\n |-- STATUS_LABEL: string (nullable = true)\n |-- RISK_CATEGORY: string (nullable = true)\n |-- is_delay_month: string (nullable = false)\n\n"
     ]
    }
   ],
   "source": [
    "credit_df.printSchema()"
   ]
  },
  {
   "cell_type": "markdown",
   "metadata": {
    "application/vnd.databricks.v1+cell": {
     "cellMetadata": {
      "byteLimit": 2048000,
      "rowLimit": 10000
     },
     "inputWidgets": {},
     "nuid": "9a7ccb5e-9f8e-43d9-95b9-dfaaef6d22b7",
     "showTitle": false,
     "title": ""
    }
   },
   "source": [
    "#### Both the dataframes are joined using inner join"
   ]
  },
  {
   "cell_type": "code",
   "execution_count": 0,
   "metadata": {
    "application/vnd.databricks.v1+cell": {
     "cellMetadata": {
      "byteLimit": 2048000,
      "rowLimit": 10000
     },
     "inputWidgets": {},
     "nuid": "3c01ff1b-1fb9-4fa2-b683-517dff5a64c2",
     "showTitle": false,
     "title": ""
    }
   },
   "outputs": [],
   "source": [
    "df = application_df.join(credit_df, on=\"ID\", how=\"inner\")"
   ]
  },
  {
   "cell_type": "markdown",
   "metadata": {
    "application/vnd.databricks.v1+cell": {
     "cellMetadata": {
      "byteLimit": 2048000,
      "rowLimit": 10000
     },
     "inputWidgets": {},
     "nuid": "19af9554-a56e-41cf-a56d-ad0f59c09be8",
     "showTitle": false,
     "title": ""
    }
   },
   "source": [
    "#### Shape of the Transformed Data"
   ]
  },
  {
   "cell_type": "code",
   "execution_count": 0,
   "metadata": {
    "application/vnd.databricks.v1+cell": {
     "cellMetadata": {
      "byteLimit": 2048000,
      "rowLimit": 10000
     },
     "inputWidgets": {},
     "nuid": "efa6df17-10d7-44fe-b057-2dfa69c883ab",
     "showTitle": false,
     "title": ""
    }
   },
   "outputs": [
    {
     "output_type": "stream",
     "name": "stdout",
     "output_type": "stream",
     "text": [
      "Shape of the DataFrame: (777715, 21)\n"
     ]
    }
   ],
   "source": [
    "num_rows = df.count()\n",
    "num_columns = len(df.columns)\n",
    "\n",
    "# Print the shape\n",
    "print(f\"Shape of the DataFrame: ({num_rows}, {num_columns})\")"
   ]
  },
  {
   "cell_type": "markdown",
   "metadata": {
    "application/vnd.databricks.v1+cell": {
     "cellMetadata": {
      "byteLimit": 2048000,
      "rowLimit": 10000
     },
     "inputWidgets": {},
     "nuid": "f26f30af-a7e3-4e45-a03f-5103ad054281",
     "showTitle": false,
     "title": ""
    }
   },
   "source": [
    "#### Count of all the Null Values in each Column"
   ]
  },
  {
   "cell_type": "code",
   "execution_count": 0,
   "metadata": {
    "application/vnd.databricks.v1+cell": {
     "cellMetadata": {
      "byteLimit": 2048000,
      "rowLimit": 10000
     },
     "inputWidgets": {},
     "nuid": "ec6c98b6-7993-4d0b-b15e-6408f1b6ba67",
     "showTitle": false,
     "title": ""
    }
   },
   "outputs": [
    {
     "output_type": "stream",
     "name": "stdout",
     "output_type": "stream",
     "text": [
      "+---+---+----------+---+-------+---------+---------------+----------------+---------------+------+-------------+---------+--------------+-----------+------------+-----------------+----------+------+------------+-------------+--------------+\n| ID|Age|house_type|job|own_car|num_child|Income_category|years_employment|education_level|gender|annual_income|has_phone|Marital_status|family_size|own_property|employment_status|MONTHS_AGO|STATUS|STATUS_LABEL|RISK_CATEGORY|is_delay_month|\n+---+---+----------+---+-------+---------+---------------+----------------+---------------+------+-------------+---------+--------------+-----------+------------+-----------------+----------+------+------------+-------------+--------------+\n|  0|  0|         0|  0|      0|        0|              0|               0|              0|     0|            0|        0|             0|          0|           0|                0|         0|     0|           0|            0|             0|\n+---+---+----------+---+-------+---------+---------------+----------------+---------------+------+-------------+---------+--------------+-----------+------------+-----------------+----------+------+------------+-------------+--------------+\n\n"
     ]
    }
   ],
   "source": [
    "null_counts_df = df.select([(col(c).isNull().cast(\"int\")).alias(c) for c in df.columns])\n",
    "null_counts_df_agg = null_counts_df.agg(*[sum(col(c)).alias(c) for c in df.columns])\n",
    "null_counts_df_agg.show()"
   ]
  },
  {
   "cell_type": "code",
   "execution_count": 0,
   "metadata": {
    "application/vnd.databricks.v1+cell": {
     "cellMetadata": {
      "byteLimit": 2048000,
      "rowLimit": 10000
     },
     "inputWidgets": {},
     "nuid": "d572eb85-4f94-4dae-a14f-86ebb9954e8a",
     "showTitle": false,
     "title": ""
    }
   },
   "outputs": [
    {
     "output_type": "stream",
     "name": "stdout",
     "output_type": "stream",
     "text": [
      "+-------+----------+------+--------------------+-------------+--------------+\n|     ID|MONTHS_AGO|STATUS|        STATUS_LABEL|RISK_CATEGORY|is_delay_month|\n+-------+----------+------+--------------------+-------------+--------------+\n|5003471|        39|     4|Paid Within 120-1...|    High Risk|           Yes|\n|5004559|        39|     4|Paid Within 120-1...|    High Risk|           Yes|\n|5003804|        43|     4|Paid Within 120-1...|    High Risk|           Yes|\n|5009628|        36|     4|Paid Within 120-1...|    High Risk|           Yes|\n|5009754|        23|     4|Paid Within 120-1...|    High Risk|           Yes|\n|5009749|         7|     4|Paid Within 120-1...|    High Risk|           Yes|\n|5009749|         2|     4|Paid Within 120-1...|    High Risk|           Yes|\n|5008827|        24|     4|Paid Within 120-1...|    High Risk|           Yes|\n|5009752|        21|     4|Paid Within 120-1...|    High Risk|           Yes|\n|5009752|        16|     4|Paid Within 120-1...|    High Risk|           Yes|\n+-------+----------+------+--------------------+-------------+--------------+\nonly showing top 10 rows\n\n"
     ]
    }
   ],
   "source": [
    "credit_df.show(10)"
   ]
  },
  {
   "cell_type": "markdown",
   "metadata": {
    "application/vnd.databricks.v1+cell": {
     "cellMetadata": {
      "byteLimit": 2048000,
      "rowLimit": 10000
     },
     "inputWidgets": {},
     "nuid": "e5facce9-bb28-4d45-a3d0-2f56a52f2881",
     "showTitle": false,
     "title": ""
    }
   },
   "source": [
    "#### Writing the Transformed Data to Blob Storage"
   ]
  },
  {
   "cell_type": "code",
   "execution_count": 0,
   "metadata": {
    "application/vnd.databricks.v1+cell": {
     "cellMetadata": {
      "byteLimit": 2048000,
      "rowLimit": 10000
     },
     "inputWidgets": {},
     "nuid": "5c5a257e-3779-4470-82a9-047dd28773df",
     "showTitle": false,
     "title": ""
    }
   },
   "outputs": [],
   "source": [
    "storage_account_name = \"capstonecreditsa\"\n",
    "storage_account_key = \"XHEwETA/1qyqzNTrS3ANoQSSOuOdyb1+5Cos2jOP/9rO+G9DDkKWME5UwIx82vO0uWegnJStyMXi+AStIXsSwQ==\"\n",
    "container_name = \"transformed-data\"\n",
    "spark.conf.set(f\"fs.azure.account.key.{storage_account_name}.blob.core.windows.net\", storage_account_key)\n",
    "output_path = f\"wasbs://{container_name}@{storage_account_name}.blob.core.windows.net/\"\n",
    "df.write.mode(\"overwrite\").option(\"header\", \"true\").parquet(output_path)"
   ]
  }
 ],
 "metadata": {
  "application/vnd.databricks.v1+notebook": {
   "dashboards": [],
   "environmentMetadata": null,
   "language": "python",
   "notebookMetadata": {
    "pythonIndentUnit": 4
   },
   "notebookName": "Capstone Transformations",
   "widgets": {}
  }
 },
 "nbformat": 4,
 "nbformat_minor": 0
}
